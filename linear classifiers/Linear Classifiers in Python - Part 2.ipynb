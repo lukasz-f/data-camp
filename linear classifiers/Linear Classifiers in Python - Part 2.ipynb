{
 "cells": [
  {
   "cell_type": "markdown",
   "metadata": {},
   "source": [
    "# Linear Classifiers in Python - Part 2\n",
    "- Dot Product\n",
    "    - `x = np.arange(3), y = np.arange(3,6)`\n",
    "    - `np.sum(x*y)` == `x@y`\n",
    "- Raw Model Output:\n",
    "    - `raw_output = clf.coef_ @ X_test[0] + clf.intercept_`\n",
    "    - if `raw_output` is negative model predict 0\n",
    "    - if `raw_output` is positive model prodict 1\n"
   ]
  },
  {
   "cell_type": "code",
   "execution_count": null,
   "metadata": {
    "collapsed": true
   },
   "outputs": [],
   "source": []
  }
 ],
 "metadata": {
  "kernelspec": {
   "display_name": "Python (data-camp)",
   "language": "python",
   "name": "data-camp"
  },
  "language_info": {
   "codemirror_mode": {
    "name": "ipython",
    "version": 3
   },
   "file_extension": ".py",
   "mimetype": "text/x-python",
   "name": "python",
   "nbconvert_exporter": "python",
   "pygments_lexer": "ipython3",
   "version": "3.8.0"
  }
 },
 "nbformat": 4,
 "nbformat_minor": 2
}
