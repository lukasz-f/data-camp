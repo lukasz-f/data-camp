{
 "cells": [
  {
   "cell_type": "markdown",
   "metadata": {},
   "source": [
    "# Metoda spadku gradientu (gradient descent)"
   ]
  },
  {
   "cell_type": "code",
   "execution_count": 1,
   "metadata": {
    "collapsed": true,
    "scrolled": false
   },
   "outputs": [],
   "source": [
    "import numpy as np\n",
    "import matplotlib.pyplot as plt\n",
    "import time\n",
    "\n",
    "def f(x):\n",
    "    return(x**2 - 6*x + 12)\n",
    "    \n",
    "def grad_f(x):\n",
    "    return(2*x - 6)\n",
    "\n",
    "\n",
    "from IPython import display\n",
    "\n",
    "\n",
    "def visualise_gradient_decsent(f=f,grad_f=grad_f,theta = -2, learning_rate=0.8, sec=3, x = np.linspace(-5,11,100)):\n",
    "\n",
    "    \n",
    "    y = f(x)\n",
    "    \n",
    "    for i in range(100):\n",
    "\n",
    "        plt.figure(figsize=(10,10))\n",
    "        plt.plot(x,y,c=\"blue\")\n",
    "        plt.scatter(theta,0,s=60)\n",
    "\n",
    "        display.clear_output(wait=True)\n",
    "        display.display(plt.gcf())\n",
    "        time.sleep(sec)\n",
    "\n",
    "        plt.vlines(x=theta,ymin=0,ymax=f(theta))\n",
    "        #plt.show()\n",
    "\n",
    "\n",
    "        display.clear_output(wait=True)\n",
    "        display.display(plt.gcf())\n",
    "        time.sleep(sec)\n",
    "\n",
    "        theta_new = theta - learning_rate*grad_f(theta)\n",
    "\n",
    "\n",
    "        plt.arrow(theta, f(theta), 2, 2*grad_f(theta), head_width = 0.3,head_length = 0.3 )\n",
    "\n",
    "        display.clear_output(wait=True)\n",
    "        display.display(plt.gcf())\n",
    "        time.sleep(sec)\n",
    "\n",
    "\n",
    "        plt.text(-1,40,\"grad = %.3f\" % grad_f(theta), fontsize=20)\n",
    "\n",
    "        display.clear_output(wait=True)\n",
    "        display.display(plt.gcf())\n",
    "        time.sleep(sec)\n",
    "\n",
    "        plt.text(-2,30,\"step = -1 *  %.2f * %.2f = \" % (learning_rate,grad_f(theta)), fontsize=20)\n",
    "\n",
    "        display.clear_output(wait=True)\n",
    "        display.display(plt.gcf())\n",
    "        time.sleep(sec)\n",
    "\n",
    "        plt.text(-2,30,\"step = -1 *  %.2f * %.2f = %.2f\" % (learning_rate,grad_f(theta), -learning_rate*grad_f(theta)), fontsize=20)\n",
    "\n",
    "        display.clear_output(wait=True)\n",
    "        display.display(plt.gcf())\n",
    "        time.sleep(sec)\n",
    "\n",
    "\n",
    "\n",
    "        delta = theta_new - theta\n",
    "\n",
    "        plt.text(min(theta,theta_new),3,\"step = %.3f\" % ( -learning_rate*grad_f(theta)), fontsize=20)\n",
    "        plt.arrow(theta, 0, 0.9*delta, 0, head_width = 1,head_length = np.abs(0.1*delta),color=\"red\" )\n",
    "\n",
    "        display.display(plt.gcf())\n",
    "\n",
    "        #plt.annotate('', xy=(theta, 10), xytext=(theta_new, 10),\n",
    "        #                   arrowprops={'arrowstyle': '->', 'color': 'r', 'lw': 1},\n",
    "        #                   va='center', ha='center')\n",
    "        theta = theta_new\n",
    "\n",
    "        plt.vlines(x=theta,ymin=0,ymax=f(theta))\n",
    "        #plt.show()\n",
    "\n",
    "        display.clear_output(wait=True)\n",
    "        display.display(plt.gcf())\n",
    "        time.sleep(sec)"
   ]
  },
  {
   "cell_type": "code",
   "execution_count": 2,
   "metadata": {},
   "outputs": [
    {
     "data": {
      "image/png": "[encoded data removed]",
      "text/plain": [
       "<matplotlib.figure.Figure at 0x116aa0390>"
      ]
     },
     "metadata": {},
     "output_type": "display_data"
    },
    {
     "ename": "KeyboardInterrupt",
     "evalue": "",
     "output_type": "error",
     "traceback": [
      "\u001b[0;31m---------------------------------------------------------------------------\u001b[0m",
      "\u001b[0;31mKeyboardInterrupt\u001b[0m                         Traceback (most recent call last)",
      "\u001b[0;32m<ipython-input-2-7986667661cf>\u001b[0m in \u001b[0;36m<module>\u001b[0;34m()\u001b[0m\n\u001b[0;32m----> 1\u001b[0;31m \u001b[0mvisualise_gradient_decsent\u001b[0m\u001b[0;34m(\u001b[0m\u001b[0mlearning_rate\u001b[0m\u001b[0;34m=\u001b[0m\u001b[0;36m0.3\u001b[0m\u001b[0;34m)\u001b[0m\u001b[0;34m\u001b[0m\u001b[0m\n\u001b[0m",
      "\u001b[0;32m<ipython-input-1-4d6ece9262b4>\u001b[0m in \u001b[0;36mvisualise_gradient_decsent\u001b[0;34m(f, grad_f, theta, learning_rate, sec, x)\u001b[0m\n\u001b[1;32m     26\u001b[0m         \u001b[0mdisplay\u001b[0m\u001b[0;34m.\u001b[0m\u001b[0mclear_output\u001b[0m\u001b[0;34m(\u001b[0m\u001b[0mwait\u001b[0m\u001b[0;34m=\u001b[0m\u001b[0;32mTrue\u001b[0m\u001b[0;34m)\u001b[0m\u001b[0;34m\u001b[0m\u001b[0m\n\u001b[1;32m     27\u001b[0m         \u001b[0mdisplay\u001b[0m\u001b[0;34m.\u001b[0m\u001b[0mdisplay\u001b[0m\u001b[0;34m(\u001b[0m\u001b[0mplt\u001b[0m\u001b[0;34m.\u001b[0m\u001b[0mgcf\u001b[0m\u001b[0;34m(\u001b[0m\u001b[0;34m)\u001b[0m\u001b[0;34m)\u001b[0m\u001b[0;34m\u001b[0m\u001b[0m\n\u001b[0;32m---> 28\u001b[0;31m         \u001b[0mtime\u001b[0m\u001b[0;34m.\u001b[0m\u001b[0msleep\u001b[0m\u001b[0;34m(\u001b[0m\u001b[0msec\u001b[0m\u001b[0;34m)\u001b[0m\u001b[0;34m\u001b[0m\u001b[0m\n\u001b[0m\u001b[1;32m     29\u001b[0m \u001b[0;34m\u001b[0m\u001b[0m\n\u001b[1;32m     30\u001b[0m         \u001b[0mplt\u001b[0m\u001b[0;34m.\u001b[0m\u001b[0mvlines\u001b[0m\u001b[0;34m(\u001b[0m\u001b[0mx\u001b[0m\u001b[0;34m=\u001b[0m\u001b[0mtheta\u001b[0m\u001b[0;34m,\u001b[0m\u001b[0mymin\u001b[0m\u001b[0;34m=\u001b[0m\u001b[0;36m0\u001b[0m\u001b[0;34m,\u001b[0m\u001b[0mymax\u001b[0m\u001b[0;34m=\u001b[0m\u001b[0mf\u001b[0m\u001b[0;34m(\u001b[0m\u001b[0mtheta\u001b[0m\u001b[0;34m)\u001b[0m\u001b[0;34m)\u001b[0m\u001b[0;34m\u001b[0m\u001b[0m\n",
      "\u001b[0;31mKeyboardInterrupt\u001b[0m: "
     ]
    }
   ],
   "source": [
    "visualise_gradient_decsent(learning_rate=0.3)"
   ]
  },
  {
   "cell_type": "code",
   "execution_count": null,
   "metadata": {
    "collapsed": true,
    "scrolled": false
   },
   "outputs": [],
   "source": [
    "visualise_gradient_decsent(sec=1)"
   ]
  },
  {
   "cell_type": "code",
   "execution_count": null,
   "metadata": {
    "collapsed": true
   },
   "outputs": [],
   "source": [
    "visualise_gradient_decsent(learning_rate=1,sec=1)"
   ]
  },
  {
   "cell_type": "code",
   "execution_count": 4,
   "metadata": {},
   "outputs": [
    {
     "data": {
      "image/png": "[encoded data removed]",
      "text/plain": [
       "<matplotlib.figure.Figure at 0x117dd5c18>"
      ]
     },
     "metadata": {},
     "output_type": "display_data"
    },
    {
     "ename": "KeyboardInterrupt",
     "evalue": "",
     "output_type": "error",
     "traceback": [
      "\u001b[0;31m---------------------------------------------------------------------------\u001b[0m",
      "\u001b[0;31mKeyboardInterrupt\u001b[0m                         Traceback (most recent call last)",
      "\u001b[0;32m<ipython-input-4-ca270ed8abae>\u001b[0m in \u001b[0;36m<module>\u001b[0;34m()\u001b[0m\n\u001b[1;32m      5\u001b[0m     \u001b[0;32mreturn\u001b[0m\u001b[0;34m(\u001b[0m\u001b[0;36m0.5\u001b[0m\u001b[0;34m*\u001b[0m\u001b[0;34m(\u001b[0m\u001b[0;36m4\u001b[0m\u001b[0;34m*\u001b[0m\u001b[0mx\u001b[0m\u001b[0;34m**\u001b[0m\u001b[0;36m3\u001b[0m \u001b[0;34m-\u001b[0m \u001b[0;36m3\u001b[0m\u001b[0;34m*\u001b[0m\u001b[0mx\u001b[0m\u001b[0;34m**\u001b[0m\u001b[0;36m2\u001b[0m \u001b[0;34m-\u001b[0m \u001b[0;36m12\u001b[0m\u001b[0;34m*\u001b[0m\u001b[0mx\u001b[0m\u001b[0;34m)\u001b[0m\u001b[0;34m)\u001b[0m\u001b[0;34m\u001b[0m\u001b[0m\n\u001b[1;32m      6\u001b[0m \u001b[0;34m\u001b[0m\u001b[0m\n\u001b[0;32m----> 7\u001b[0;31m \u001b[0mvisualise_gradient_decsent\u001b[0m\u001b[0;34m(\u001b[0m\u001b[0mf\u001b[0m\u001b[0;34m,\u001b[0m\u001b[0mgrad_f\u001b[0m\u001b[0;34m,\u001b[0m\u001b[0mtheta\u001b[0m\u001b[0;34m=\u001b[0m\u001b[0;34m-\u001b[0m\u001b[0;36m3\u001b[0m\u001b[0;34m,\u001b[0m\u001b[0mlearning_rate\u001b[0m\u001b[0;34m=\u001b[0m\u001b[0;36m0.02\u001b[0m\u001b[0;34m,\u001b[0m\u001b[0mx\u001b[0m\u001b[0;34m=\u001b[0m\u001b[0mnp\u001b[0m\u001b[0;34m.\u001b[0m\u001b[0mlinspace\u001b[0m\u001b[0;34m(\u001b[0m\u001b[0;34m-\u001b[0m\u001b[0;36m4\u001b[0m\u001b[0;34m,\u001b[0m\u001b[0;36m4\u001b[0m\u001b[0;34m,\u001b[0m\u001b[0;36m300\u001b[0m\u001b[0;34m)\u001b[0m\u001b[0;34m,\u001b[0m\u001b[0msec\u001b[0m\u001b[0;34m=\u001b[0m\u001b[0;36m1\u001b[0m\u001b[0;34m)\u001b[0m\u001b[0;34m\u001b[0m\u001b[0m\n\u001b[0m",
      "\u001b[0;32m<ipython-input-1-4d6ece9262b4>\u001b[0m in \u001b[0;36mvisualise_gradient_decsent\u001b[0;34m(f, grad_f, theta, learning_rate, sec, x)\u001b[0m\n\u001b[1;32m     50\u001b[0m         \u001b[0mdisplay\u001b[0m\u001b[0;34m.\u001b[0m\u001b[0mclear_output\u001b[0m\u001b[0;34m(\u001b[0m\u001b[0mwait\u001b[0m\u001b[0;34m=\u001b[0m\u001b[0;32mTrue\u001b[0m\u001b[0;34m)\u001b[0m\u001b[0;34m\u001b[0m\u001b[0m\n\u001b[1;32m     51\u001b[0m         \u001b[0mdisplay\u001b[0m\u001b[0;34m.\u001b[0m\u001b[0mdisplay\u001b[0m\u001b[0;34m(\u001b[0m\u001b[0mplt\u001b[0m\u001b[0;34m.\u001b[0m\u001b[0mgcf\u001b[0m\u001b[0;34m(\u001b[0m\u001b[0;34m)\u001b[0m\u001b[0;34m)\u001b[0m\u001b[0;34m\u001b[0m\u001b[0m\n\u001b[0;32m---> 52\u001b[0;31m         \u001b[0mtime\u001b[0m\u001b[0;34m.\u001b[0m\u001b[0msleep\u001b[0m\u001b[0;34m(\u001b[0m\u001b[0msec\u001b[0m\u001b[0;34m)\u001b[0m\u001b[0;34m\u001b[0m\u001b[0m\n\u001b[0m\u001b[1;32m     53\u001b[0m \u001b[0;34m\u001b[0m\u001b[0m\n\u001b[1;32m     54\u001b[0m         \u001b[0mplt\u001b[0m\u001b[0;34m.\u001b[0m\u001b[0mtext\u001b[0m\u001b[0;34m(\u001b[0m\u001b[0;34m-\u001b[0m\u001b[0;36m2\u001b[0m\u001b[0;34m,\u001b[0m\u001b[0;36m30\u001b[0m\u001b[0;34m,\u001b[0m\u001b[0;34m\"step = -1 *  %.2f * %.2f = \"\u001b[0m \u001b[0;34m%\u001b[0m \u001b[0;34m(\u001b[0m\u001b[0mlearning_rate\u001b[0m\u001b[0;34m,\u001b[0m\u001b[0mgrad_f\u001b[0m\u001b[0;34m(\u001b[0m\u001b[0mtheta\u001b[0m\u001b[0;34m)\u001b[0m\u001b[0;34m)\u001b[0m\u001b[0;34m,\u001b[0m \u001b[0mfontsize\u001b[0m\u001b[0;34m=\u001b[0m\u001b[0;36m20\u001b[0m\u001b[0;34m)\u001b[0m\u001b[0;34m\u001b[0m\u001b[0m\n",
      "\u001b[0;31mKeyboardInterrupt\u001b[0m: "
     ]
    }
   ],
   "source": [
    "def f(x):\n",
    "    return(0.5*(x**4 - x**3 - 6*x**2 + 30) )\n",
    "\n",
    "def grad_f(x):\n",
    "    return(0.5*(4*x**3 - 3*x**2 - 12*x))\n",
    "\n",
    "visualise_gradient_decsent(f,grad_f,theta=-3,learning_rate=0.02,x=np.linspace(-4,4,300),sec=1)"
   ]
  },
  {
   "cell_type": "code",
   "execution_count": 6,
   "metadata": {},
   "outputs": [
    {
     "data": {
      "image/png": "[encoded data removed]",
      "text/plain": [
       "<matplotlib.figure.Figure at 0x119a71278>"
      ]
     },
     "metadata": {},
     "output_type": "display_data"
    },
    {
     "ename": "KeyboardInterrupt",
     "evalue": "",
     "output_type": "error",
     "traceback": [
      "\u001b[0;31m---------------------------------------------------------------------------\u001b[0m",
      "\u001b[0;31mKeyboardInterrupt\u001b[0m                         Traceback (most recent call last)",
      "\u001b[0;32m<ipython-input-6-7104403bfc2e>\u001b[0m in \u001b[0;36m<module>\u001b[0;34m()\u001b[0m\n\u001b[0;32m----> 1\u001b[0;31m \u001b[0mvisualise_gradient_decsent\u001b[0m\u001b[0;34m(\u001b[0m\u001b[0mf\u001b[0m\u001b[0;34m,\u001b[0m\u001b[0mgrad_f\u001b[0m\u001b[0;34m,\u001b[0m\u001b[0mtheta\u001b[0m\u001b[0;34m=\u001b[0m\u001b[0;34m-\u001b[0m\u001b[0;36m3\u001b[0m\u001b[0;34m,\u001b[0m\u001b[0mlearning_rate\u001b[0m\u001b[0;34m=\u001b[0m\u001b[0;36m0.1\u001b[0m\u001b[0;34m,\u001b[0m\u001b[0mx\u001b[0m\u001b[0;34m=\u001b[0m\u001b[0mnp\u001b[0m\u001b[0;34m.\u001b[0m\u001b[0mlinspace\u001b[0m\u001b[0;34m(\u001b[0m\u001b[0;34m-\u001b[0m\u001b[0;36m4\u001b[0m\u001b[0;34m,\u001b[0m\u001b[0;36m4\u001b[0m\u001b[0;34m,\u001b[0m\u001b[0;36m300\u001b[0m\u001b[0;34m)\u001b[0m\u001b[0;34m,\u001b[0m\u001b[0msec\u001b[0m\u001b[0;34m=\u001b[0m\u001b[0;36m1\u001b[0m\u001b[0;34m)\u001b[0m\u001b[0;34m\u001b[0m\u001b[0m\n\u001b[0m",
      "\u001b[0;32m<ipython-input-1-4d6ece9262b4>\u001b[0m in \u001b[0;36mvisualise_gradient_decsent\u001b[0;34m(f, grad_f, theta, learning_rate, sec, x)\u001b[0m\n\u001b[1;32m     26\u001b[0m         \u001b[0mdisplay\u001b[0m\u001b[0;34m.\u001b[0m\u001b[0mclear_output\u001b[0m\u001b[0;34m(\u001b[0m\u001b[0mwait\u001b[0m\u001b[0;34m=\u001b[0m\u001b[0;32mTrue\u001b[0m\u001b[0;34m)\u001b[0m\u001b[0;34m\u001b[0m\u001b[0m\n\u001b[1;32m     27\u001b[0m         \u001b[0mdisplay\u001b[0m\u001b[0;34m.\u001b[0m\u001b[0mdisplay\u001b[0m\u001b[0;34m(\u001b[0m\u001b[0mplt\u001b[0m\u001b[0;34m.\u001b[0m\u001b[0mgcf\u001b[0m\u001b[0;34m(\u001b[0m\u001b[0;34m)\u001b[0m\u001b[0;34m)\u001b[0m\u001b[0;34m\u001b[0m\u001b[0m\n\u001b[0;32m---> 28\u001b[0;31m         \u001b[0mtime\u001b[0m\u001b[0;34m.\u001b[0m\u001b[0msleep\u001b[0m\u001b[0;34m(\u001b[0m\u001b[0msec\u001b[0m\u001b[0;34m)\u001b[0m\u001b[0;34m\u001b[0m\u001b[0m\n\u001b[0m\u001b[1;32m     29\u001b[0m \u001b[0;34m\u001b[0m\u001b[0m\n\u001b[1;32m     30\u001b[0m         \u001b[0mplt\u001b[0m\u001b[0;34m.\u001b[0m\u001b[0mvlines\u001b[0m\u001b[0;34m(\u001b[0m\u001b[0mx\u001b[0m\u001b[0;34m=\u001b[0m\u001b[0mtheta\u001b[0m\u001b[0;34m,\u001b[0m\u001b[0mymin\u001b[0m\u001b[0;34m=\u001b[0m\u001b[0;36m0\u001b[0m\u001b[0;34m,\u001b[0m\u001b[0mymax\u001b[0m\u001b[0;34m=\u001b[0m\u001b[0mf\u001b[0m\u001b[0;34m(\u001b[0m\u001b[0mtheta\u001b[0m\u001b[0;34m)\u001b[0m\u001b[0;34m)\u001b[0m\u001b[0;34m\u001b[0m\u001b[0m\n",
      "\u001b[0;31mKeyboardInterrupt\u001b[0m: "
     ]
    }
   ],
   "source": [
    "visualise_gradient_decsent(f,grad_f,theta=-3,learning_rate=0.1,x=np.linspace(-4,4,300),sec=1)"
   ]
  },
  {
   "cell_type": "markdown",
   "metadata": {},
   "source": [
    "## Gradient decsent:\n",
    "$$ Cost(\\theta) = \\sum\\limits_{i=1}^n f(x_i,y_i,\\theta)$$\n",
    "$$\\theta_k = \\theta_k - learning\\_rate * \\frac{dCost}{d\\theta_k}$$\n",
    "\n",
    "## Stochastic gradient decsent:\n",
    "\n",
    "$$ Cost(\\theta) = \\sum\\limits_{i \\in \\{ i_1, ..., i_r \\}}^n f(x_i,y_i,\\theta),$$ $$ \\ \\ \\text{gdzie} \\ \\ \\{ i_1, ..., i_r \\} - \\text{losowy podzbiór obserwacji}$$\n",
    "$$\\theta_i = \\theta_i - learning\\_rate * \\frac{df}{d\\theta_j}$$"
   ]
  },
  {
   "cell_type": "markdown",
   "metadata": {},
   "source": [
    "# Neuron"
   ]
  },
  {
   "cell_type": "markdown",
   "metadata": {},
   "source": [
    "<img src=\"http://blog.zabarauskas.com/img/perceptron.gif\" width=\"400\">\n",
    "Źródło: http://blog.zabarauskas.com/img/perceptron.gif\n"
   ]
  },
  {
   "cell_type": "code",
   "execution_count": 1,
   "metadata": {
    "collapsed": true
   },
   "outputs": [],
   "source": [
    "# wzor na wyznaczenie wyjscia taki sam jak w regresji logistycznej. roznia sie sposobem wyznaczania parametrow. \n",
    "# w sieciach neuronowych wykorzystywany jest spadek gradientu."
   ]
  },
  {
   "cell_type": "markdown",
   "metadata": {},
   "source": [
    "# Neuron jako klasyfikator - perceptron"
   ]
  },
  {
   "cell_type": "code",
   "execution_count": null,
   "metadata": {
    "collapsed": true
   },
   "outputs": [],
   "source": [
    "from matplotlib.colors import ListedColormap\n",
    "def plot_decision_regions(X, y, classifier, resolution=0.02):\n",
    "   # setup marker generator and color map\n",
    "   markers = ('s', 'x', 'o', '^', 'v')\n",
    "   colors = ('red', 'blue', 'lightgreen', 'gray', 'cyan')\n",
    "   cmap = ListedColormap(colors[:len(np.unique(y))])\n",
    "\n",
    "   # plot the decision surface\n",
    "   x1_min, x1_max = X[:,  0].min() - 1, X[:, 0].max() + 1\n",
    "   x2_min, x2_max = X[:, 1].min() - 1, X[:, 1].max() + 1\n",
    "   xx1, xx2 = np.meshgrid(np.arange(x1_min, x1_max, resolution),\n",
    "   np.arange(x2_min, x2_max, resolution))\n",
    "   Z = classifier.predict(np.array([xx1.ravel(), xx2.ravel()]).T)\n",
    "   Z = Z.reshape(xx1.shape)\n",
    "   plt.contourf(xx1, xx2, Z, alpha=0.4, cmap=cmap)\n",
    "   plt.xlim(xx1.min(), xx1.max())\n",
    "   plt.ylim(xx2.min(), xx2.max())\n",
    "\n",
    "   # plot class samples\n",
    "   for idx, cl in enumerate(np.unique(y)):\n",
    "      plt.scatter(x=X[y == cl, 0], y=X[y == cl, 1],\n",
    "      alpha=0.8, c=cmap(idx),\n",
    "      marker=markers[idx], label=cl)\n",
    "\n",
    "class Perceptron(object):\n",
    "\n",
    "    def __init__(self, eta=0.1, epochs=50):\n",
    "        self.eta = eta\n",
    "        self.epochs = epochs\n",
    "\n",
    "    def train(self, X, y):\n",
    "\n",
    "        self.w_ = np.zeros(1 + X.shape[1])\n",
    "        self.w_[0] = -50\n",
    "        self.w_[1] = 10\n",
    "        self.w_[2] = 1\n",
    "        self.errors_ = []\n",
    "        \n",
    "        for i in range(self.epochs):\n",
    "            \n",
    "            plt.figure(figsize=(5,5))\n",
    "        \n",
    "            errors = 0\n",
    "            for xi, target in zip(X, y):\n",
    "                \n",
    "                update = self.eta * (target - self.predict(xi))\n",
    "                self.w_[1:] +=  update * xi\n",
    "                self.w_[0] +=  update\n",
    "                errors += int(update != 0.0)\n",
    "                \n",
    "            plt.scatter(X[:,0],X[:,1],c=y)\n",
    "            plt.plot(np.linspace(4,7,100),-1 * (self.w_[0]+self.w_[1]*np.linspace(4,7,100))/self.w_[2])\n",
    "            plt.title('Perceptron')\n",
    "            plt.xlabel('sepal length [cm]')\n",
    "            plt.ylabel('petal length [cm]')\n",
    "            plt.xlim(4,7)\n",
    "            plt.ylim(-1,6)\n",
    "            display.clear_output(wait=True)\n",
    "            display.display(plt.gcf())\n",
    "            time.sleep(1)\n",
    "\n",
    "            self.errors_.append(errors)\n",
    "            \n",
    "        return self\n",
    "\n",
    "    def net_input(self, X):\n",
    "        return np.dot(X, self.w_[1:]) + self.w_[0]\n",
    "\n",
    "    def predict(self, X):\n",
    "        return np.where(self.net_input(X) >= 0.0, 1, -1)"
   ]
  },
  {
   "cell_type": "markdown",
   "metadata": {},
   "source": [
    "# Wizualizacja procesu uczenia"
   ]
  },
  {
   "cell_type": "code",
   "execution_count": null,
   "metadata": {
    "collapsed": true
   },
   "outputs": [],
   "source": [
    "import pandas as pd\n",
    "\n",
    "df = pd.read_csv('Dane/iris.data', header=None)\n",
    "\n",
    "# setosa and versicolor\n",
    "y = df.iloc[0:100, 4].values\n",
    "y = np.where(y == 'Iris-setosa', -1, 1)\n",
    "\n",
    "# sepal length and petal length\n",
    "X = df.iloc[0:100, [0,2]].values\n",
    "\n",
    "ppn = Perceptron(epochs=20, eta=0.15)\n",
    "ppn.train(X, y)"
   ]
  },
  {
   "cell_type": "markdown",
   "metadata": {},
   "source": [
    "# Wielowarstwowa sieć neuronowa\n",
    "\n",
    "(*Multilayer perceptron*, *feedforward neural network*)"
   ]
  },
  {
   "cell_type": "markdown",
   "metadata": {
    "collapsed": true
   },
   "source": [
    "<img src=\"https://www.intechopen.com/source/html/39071/media/f2.jpg\" width=\"700\">\n",
    "Źródło: https://www.intechopen.com/source/html/39071/media/f2.jpg\n"
   ]
  },
  {
   "cell_type": "markdown",
   "metadata": {
    "collapsed": true
   },
   "source": [
    "# Wizualizacja obszarów decyzyjnych w zalezności od liczby neuronów"
   ]
  },
  {
   "cell_type": "markdown",
   "metadata": {
    "collapsed": true
   },
   "source": [
    "<img src=\"http://d3kbpzbmcynnmx.cloudfront.net/wp-content/uploads/2015/09/nn-from-scratch-hidden-layer-varying-655x1024.png\" width=\"700\">\n",
    "Źródło: http://d3kbpzbmcynnmx.cloudfront.net/wp-content/uploads/2015/09/nn-from-scratch-hidden-layer-varying-655x1024.png\n",
    "\n"
   ]
  },
  {
   "cell_type": "markdown",
   "metadata": {},
   "source": [
    "### Fakt matematyczny: jednowarstwową siecią możemy otrzymać dowolny kształt. Co z tego wynika? To, że (teoretycznie) zawsze wystarczy sieć jednowarstwowa (odpowiednio duża)."
   ]
  },
  {
   "cell_type": "markdown",
   "metadata": {},
   "source": [
    "# 1. Sieci wielowarstwowe - klasyfikacja na zwykłym zbiorze, testowanie warstw, dropoutów"
   ]
  },
  {
   "cell_type": "code",
   "execution_count": 1,
   "metadata": {
    "collapsed": true
   },
   "outputs": [],
   "source": [
    "import numpy as np\n",
    "\n",
    "from sklearn.model_selection import train_test_split\n",
    "from sklearn.preprocessing import StandardScaler\n",
    "from sklearn.metrics import roc_auc_score, accuracy_score\n",
    "\n",
    "\n",
    "from sklearn.linear_model import LogisticRegression \n",
    "from sklearn.tree import DecisionTreeClassifier\n",
    "from sklearn.svm import SVC\n",
    "from sklearn.ensemble import RandomForestClassifier\n",
    "from sklearn.discriminant_analysis import LinearDiscriminantAnalysis, QuadraticDiscriminantAnalysis"
   ]
  },
  {
   "cell_type": "code",
   "execution_count": 5,
   "metadata": {
    "collapsed": true
   },
   "outputs": [],
   "source": [
    "# na regresje liniowa nie ma wplywu przeskalowanie danych. ale na regularyzacje przeskalowanie danych ma juz wplyw.\n",
    "# regularyzacja jest domyslnie wlaczona w pythonie w regresji\n",
    "# w sieciach neuronowych powinnismy zawsze przeskalowac dane (skalowanie standardowe lub do przedziału [0,1])"
   ]
  },
  {
   "cell_type": "code",
   "execution_count": 2,
   "metadata": {},
   "outputs": [
    {
     "name": "stdout",
     "output_type": "stream",
     "text": [
      "(768, 8)\n",
      "0.348958333333\n",
      "Accuracy: 77.95% AUC:  0.828435319377\n",
      "Accuracy: 70.47% AUC:  0.674584004294\n",
      "Accuracy: 75.20% AUC:  0.834541062802\n",
      "Accuracy: 77.17% AUC:  0.830716586151\n",
      "Accuracy: 73.62% AUC:  0.785963499732\n",
      "Accuracy: 72.05% AUC:  0.776402308105\n"
     ]
    }
   ],
   "source": [
    "# load data\n",
    "dataset = np.loadtxt('Dane/pima-indians-diabetes.data', delimiter=\",\")\n",
    "# split data into X and y\n",
    "X = dataset[:,0:8]\n",
    "Y = dataset[:,8]\n",
    "\n",
    "print(X.shape)\n",
    "print(np.mean(Y))\n",
    "\n",
    "seed = 7\n",
    "test_size = 0.33\n",
    "X_train, X_test, y_train, y_test = train_test_split(X, Y, test_size=test_size, random_state=seed)\n",
    "\n",
    "\n",
    "####\n",
    "sc = StandardScaler()\n",
    "X_train = sc.fit_transform(X_train)\n",
    "X_test = sc.transform(X_test)\n",
    "####\n",
    "\n",
    "\n",
    "models = [LogisticRegression(),DecisionTreeClassifier(),SVC(probability=True), LinearDiscriminantAnalysis(), QuadraticDiscriminantAnalysis(), RandomForestClassifier()]\n",
    "\n",
    "for model in models:\n",
    "\n",
    "    model.fit(X_train, y_train)\n",
    "    y_pred = model.predict_proba(X_test)[:,1]\n",
    "    predictions = [round(value) for value in y_pred]\n",
    "\n",
    "    accuracy = accuracy_score(y_test, predictions)\n",
    "    print(\"Accuracy: %.2f%%\" % (accuracy * 100.0), \"AUC: \", roc_auc_score(y_score=y_pred,y_true=y_test))"
   ]
  },
  {
   "cell_type": "code",
   "execution_count": 7,
   "metadata": {
    "collapsed": true
   },
   "outputs": [],
   "source": [
    "from sklearn.neural_network import MLPClassifier"
   ]
  },
  {
   "cell_type": "code",
   "execution_count": 17,
   "metadata": {
    "collapsed": true
   },
   "outputs": [],
   "source": [
    "?MLPClassifier"
   ]
  },
  {
   "cell_type": "code",
   "execution_count": 15,
   "metadata": {
    "scrolled": true
   },
   "outputs": [
    {
     "name": "stderr",
     "output_type": "stream",
     "text": [
      "/Users/lukasz/anaconda/lib/python3.6/site-packages/sklearn/neural_network/multilayer_perceptron.py:563: ConvergenceWarning: Stochastic Optimizer: Maximum iterations reached and the optimization hasn't converged yet.\n",
      "  % (), ConvergenceWarning)\n"
     ]
    },
    {
     "name": "stdout",
     "output_type": "stream",
     "text": [
      "Accuracy: 36.22% AUC:  0.594001610306\n",
      "Accuracy: 75.59% AUC:  0.806092324208\n",
      "Accuracy: 73.62% AUC:  0.816056092324\n",
      "Accuracy: 75.20% AUC:  0.819779924852\n",
      "Accuracy: 74.02% AUC:  0.807232957595\n",
      "Accuracy: 75.98% AUC:  0.830850778315\n",
      "Accuracy: 78.74% AUC:  0.831253354804\n",
      "Accuracy: 79.13% AUC:  0.827764358561\n",
      "Accuracy: 75.98% AUC:  0.820652173913\n",
      "Accuracy: 75.20% AUC:  0.815284487386\n",
      "Accuracy: 74.02% AUC:  0.803878153516\n"
     ]
    }
   ],
   "source": [
    "seed = 7\n",
    "test_size = 0.33\n",
    "X_train, X_test, y_train, y_test = train_test_split(X, Y, test_size=test_size, random_state=seed)\n",
    "\n",
    "\n",
    "####\n",
    "sc = StandardScaler()\n",
    "X_train = sc.fit_transform(X_train)\n",
    "X_test = sc.transform(X_test)\n",
    "####\n",
    "\n",
    "for h_dim in [1,2,3,5,10,25,60,100,200,500,1000]:\n",
    "              \n",
    "    model = MLPClassifier((h_dim,))\n",
    "\n",
    "    model.fit(X_train, y_train)\n",
    "    y_pred = model.predict_proba(X_test)[:,1]\n",
    "    predictions = [round(value) for value in y_pred]\n",
    "\n",
    "    accuracy = accuracy_score(y_test, predictions)\n",
    "    print(\"Accuracy: %.2f%%\" % (accuracy * 100.0), \"AUC: \", roc_auc_score(y_score=y_pred,y_true=y_test))"
   ]
  },
  {
   "cell_type": "code",
   "execution_count": 16,
   "metadata": {
    "collapsed": true
   },
   "outputs": [],
   "source": [
    "# 5 neuronów daly taki sam wynik jak 500 neuronow"
   ]
  },
  {
   "cell_type": "code",
   "execution_count": 49,
   "metadata": {
    "collapsed": true
   },
   "outputs": [],
   "source": [
    "# Parametry MLPClassifier:\n",
    "# relu => funkcja aktywacji (activation): dla x < 0 na wyjsciu daje 0, dla x > 0 pozostawia bez zmian\n",
    "# max_iter - maksymalna ilosc iteracji\n",
    "# tol - parametr tolerancji, jaka roznica pomiedzy kolejnymi krokami zatrzymuje iteracji\n",
    "# early_stopping - walidacji jakosci modelu poprzez obliczania funkcji kosztu na danych testowych a nie uczacych, \n",
    "# jesli po dwoch epokach nie nastapila poprawa wyniku to uczenie jest zatrzymywane\n",
    "# validation_fraction - jaka czesc danych zostanie wydzielona do testow"
   ]
  },
  {
   "cell_type": "code",
   "execution_count": null,
   "metadata": {
    "collapsed": true
   },
   "outputs": [],
   "source": []
  },
  {
   "cell_type": "code",
   "execution_count": 19,
   "metadata": {
    "scrolled": true
   },
   "outputs": [
    {
     "name": "stderr",
     "output_type": "stream",
     "text": [
      "/Users/lukasz/anaconda/lib/python3.6/site-packages/sklearn/neural_network/multilayer_perceptron.py:563: ConvergenceWarning: Stochastic Optimizer: Maximum iterations reached and the optimization hasn't converged yet.\n",
      "  % (), ConvergenceWarning)\n"
     ]
    },
    {
     "name": "stdout",
     "output_type": "stream",
     "text": [
      "Accuracy: 63.78% AUC:  0.776301663983\n",
      "Accuracy: 66.93% AUC:  0.816358024691\n",
      "Accuracy: 69.29% AUC:  0.80152979066\n",
      "Accuracy: 74.02% AUC:  0.819578636608\n",
      "Accuracy: 75.20% AUC:  0.822061191626\n",
      "Accuracy: 77.17% AUC:  0.825818572195\n",
      "Accuracy: 77.56% AUC:  0.82769726248\n",
      "Accuracy: 77.56% AUC:  0.826757917338\n",
      "Accuracy: 77.17% AUC:  0.826623725174\n",
      "Accuracy: 75.59% AUC:  0.823738593666\n",
      "Accuracy: 77.17% AUC:  0.826355340848\n"
     ]
    }
   ],
   "source": [
    "seed = 7\n",
    "test_size = 0.33\n",
    "X_train, X_test, y_train, y_test = train_test_split(X, Y, test_size=test_size, random_state=seed)\n",
    "\n",
    "\n",
    "####\n",
    "sc = StandardScaler()\n",
    "X_train = sc.fit_transform(X_train)\n",
    "X_test = sc.transform(X_test)\n",
    "####\n",
    "\n",
    "for h_dim in [1,2,3,5,10,25,60,100,200,500,1000]:\n",
    "              \n",
    "    model = MLPClassifier((h_dim,), activation='logistic')\n",
    "\n",
    "    model.fit(X_train, y_train)\n",
    "    y_pred = model.predict_proba(X_test)[:,1]\n",
    "    predictions = [round(value) for value in y_pred]\n",
    "\n",
    "    accuracy = accuracy_score(y_test, predictions)\n",
    "    print(\"Accuracy: %.2f%%\" % (accuracy * 100.0), \"AUC: \", roc_auc_score(y_score=y_pred,y_true=y_test))"
   ]
  },
  {
   "cell_type": "code",
   "execution_count": null,
   "metadata": {
    "collapsed": true
   },
   "outputs": [],
   "source": []
  },
  {
   "cell_type": "code",
   "execution_count": 24,
   "metadata": {
    "scrolled": true
   },
   "outputs": [
    {
     "name": "stdout",
     "output_type": "stream",
     "text": [
      "Accuracy: 63.78% AUC:  0.524557165862\n",
      "Accuracy: 67.72% AUC:  0.746712292002\n",
      "Accuracy: 42.13% AUC:  0.673309178744\n",
      "Accuracy: 63.78% AUC:  0.333132045089\n",
      "Accuracy: 45.67% AUC:  0.470679012346\n",
      "Accuracy: 66.14% AUC:  0.688942565754\n",
      "Accuracy: 70.08% AUC:  0.751744498121\n",
      "Accuracy: 76.38% AUC:  0.816156736447\n",
      "Accuracy: 77.17% AUC:  0.825885668277\n",
      "Accuracy: 75.59% AUC:  0.826221148685\n",
      "Accuracy: 75.20% AUC:  0.829441760601\n"
     ]
    }
   ],
   "source": [
    "seed = 7\n",
    "test_size = 0.33\n",
    "X_train, X_test, y_train, y_test = train_test_split(X, Y, test_size=test_size, random_state=seed)\n",
    "\n",
    "\n",
    "####\n",
    "sc = StandardScaler()\n",
    "X_train = sc.fit_transform(X_train)\n",
    "X_test = sc.transform(X_test)\n",
    "####\n",
    "\n",
    "for h_dim in [1,2,3,5,10,25,60,100,200,500,1000]:\n",
    "              \n",
    "    model = MLPClassifier((h_dim,), tol=0.01)\n",
    "\n",
    "    model.fit(X_train, y_train)\n",
    "    y_pred = model.predict_proba(X_test)[:,1]\n",
    "    predictions = [round(value) for value in y_pred]\n",
    "\n",
    "    accuracy = accuracy_score(y_test, predictions)\n",
    "    print(\"Accuracy: %.2f%%\" % (accuracy * 100.0), \"AUC: \", roc_auc_score(y_score=y_pred,y_true=y_test))"
   ]
  },
  {
   "cell_type": "code",
   "execution_count": null,
   "metadata": {
    "collapsed": true
   },
   "outputs": [],
   "source": []
  },
  {
   "cell_type": "code",
   "execution_count": 33,
   "metadata": {},
   "outputs": [
    {
     "name": "stderr",
     "output_type": "stream",
     "text": [
      "/Users/lukasz/anaconda/lib/python3.6/site-packages/sklearn/neural_network/multilayer_perceptron.py:563: ConvergenceWarning: Stochastic Optimizer: Maximum iterations reached and the optimization hasn't converged yet.\n",
      "  % (), ConvergenceWarning)\n"
     ]
    },
    {
     "name": "stdout",
     "output_type": "stream",
     "text": [
      "Accuracy: 75.59% AUC:  0.827630166398\n",
      "Accuracy: 77.17% AUC:  0.835950080515\n",
      "Accuracy: 77.56% AUC:  0.83655394525\n",
      "Accuracy: 77.17% AUC:  0.835010735373\n",
      "Accuracy: 77.17% AUC:  0.835547504026\n",
      "Accuracy: 77.17% AUC:  0.835077831455\n",
      "Accuracy: 78.35% AUC:  0.829643048846\n",
      "Accuracy: 77.17% AUC:  0.828234031133\n",
      "Accuracy: 78.35% AUC:  0.828032742888\n",
      "Accuracy: 77.56% AUC:  0.827965646806\n",
      "Accuracy: 76.77% AUC:  0.827093397746\n"
     ]
    }
   ],
   "source": [
    "seed = 7\n",
    "test_size = 0.33\n",
    "X_train, X_test, y_train, y_test = train_test_split(X, Y, test_size=test_size, random_state=seed)\n",
    "\n",
    "\n",
    "####\n",
    "sc = StandardScaler()\n",
    "X_train = sc.fit_transform(X_train)\n",
    "X_test = sc.transform(X_test)\n",
    "####\n",
    "\n",
    "for h_dim in [1,2,3,5,10,25,60,100,200,500,1000]:\n",
    "              \n",
    "    model = MLPClassifier((h_dim,), activation='logistic', max_iter=1000, tol=0)\n",
    "\n",
    "    model.fit(X_train, y_train)\n",
    "    y_pred = model.predict_proba(X_test)[:,1]\n",
    "    predictions = [round(value) for value in y_pred]\n",
    "\n",
    "    accuracy = accuracy_score(y_test, predictions)\n",
    "    print(\"Accuracy: %.2f%%\" % (accuracy * 100.0), \"AUC: \", roc_auc_score(y_score=y_pred,y_true=y_test))"
   ]
  },
  {
   "cell_type": "code",
   "execution_count": 34,
   "metadata": {
    "scrolled": true
   },
   "outputs": [
    {
     "name": "stderr",
     "output_type": "stream",
     "text": [
      "/Users/lukasz/anaconda/lib/python3.6/site-packages/sklearn/neural_network/multilayer_perceptron.py:563: ConvergenceWarning: Stochastic Optimizer: Maximum iterations reached and the optimization hasn't converged yet.\n",
      "  % (), ConvergenceWarning)\n"
     ]
    },
    {
     "name": "stdout",
     "output_type": "stream",
     "text": [
      "Accuracy: 77.17% AUC:  0.769265422451\n",
      "Accuracy: 77.17% AUC:  0.774703887004\n",
      "Accuracy: 77.56% AUC:  0.763121649792\n",
      "Accuracy: 77.17% AUC:  0.782052744662\n",
      "Accuracy: 76.77% AUC:  0.784018627896\n",
      "Accuracy: 77.17% AUC:  0.790972864632\n",
      "Accuracy: 78.35% AUC:  0.761757110814\n",
      "Accuracy: 77.95% AUC:  0.760446906035\n",
      "Accuracy: 77.56% AUC:  0.771160962072\n",
      "Accuracy: 76.77% AUC:  0.763040062844\n",
      "Accuracy: 76.38% AUC:  0.753554943419\n"
     ]
    }
   ],
   "source": [
    "seed = 7\n",
    "test_size = 0.33\n",
    "X_train, X_test, y_train, y_test = train_test_split(X, Y, test_size=test_size, random_state=seed)\n",
    "\n",
    "\n",
    "####\n",
    "sc = StandardScaler()\n",
    "X_train = sc.fit_transform(X_train)\n",
    "X_test = sc.transform(X_test)\n",
    "####\n",
    "\n",
    "for h_dim in [1,2,3,5,10,25,60,100,200,500,1000]:\n",
    "              \n",
    "    model = MLPClassifier((h_dim,), activation='logistic', max_iter=1000, tol=0)\n",
    "\n",
    "    model.fit(X_train, y_train)\n",
    "    \n",
    "    y_fit = model.predict_proba(X_train)[:,1]\n",
    "    predictions_fit = [round(value) for value in y_fit]\n",
    "    \n",
    "    y_pred = model.predict_proba(X_test)[:,1]\n",
    "    predictions = [round(value) for value in y_pred]\n",
    "\n",
    "    accuracy = accuracy_score(y_test, predictions)\n",
    "    print(\"Accuracy: %.2f%%\" % (accuracy * 100.0), \"AUC: \", roc_auc_score(y_score=y_train,y_true=predictions_fit))"
   ]
  },
  {
   "cell_type": "code",
   "execution_count": 36,
   "metadata": {
    "collapsed": true
   },
   "outputs": [],
   "source": [
    "# gdy siec jest przeuczona to wynik na danych uczacych jest duzo lepszy od wyniku na danych testowych, np. 90 do 70\n",
    "# w naszym przypadku nie ma przeuczenia"
   ]
  },
  {
   "cell_type": "code",
   "execution_count": null,
   "metadata": {
    "collapsed": true
   },
   "outputs": [],
   "source": []
  },
  {
   "cell_type": "code",
   "execution_count": 39,
   "metadata": {},
   "outputs": [
    {
     "name": "stdout",
     "output_type": "stream",
     "text": [
      "3 3 Accuracy: 76.38% AUC:  0.766613517583\n",
      "3 30 Accuracy: 76.77% AUC:  0.771445535596\n",
      "30 3 Accuracy: 77.95% AUC:  0.814053672316\n",
      "30 30 Accuracy: 77.17% AUC:  0.78303117506\n",
      "100 100 Accuracy: 77.56% AUC:  0.770106518128\n",
      "1000 3 Accuracy: 75.98% AUC:  0.800878815911\n"
     ]
    }
   ],
   "source": [
    "seed = 7\n",
    "test_size = 0.33\n",
    "X_train, X_test, y_train, y_test = train_test_split(X, Y, test_size=test_size, random_state=seed)\n",
    "\n",
    "\n",
    "####\n",
    "sc = StandardScaler()\n",
    "X_train = sc.fit_transform(X_train)\n",
    "X_test = sc.transform(X_test)\n",
    "####\n",
    "\n",
    "for h_dim1, h_dim2 in [(3,3),(3,30),(30,3),(30,30),(100,100),(1000,3)]:\n",
    "              \n",
    "    model = MLPClassifier((h_dim1,h_dim2), activation='logistic', max_iter=10000, tol=0)\n",
    "\n",
    "    model.fit(X_train, y_train)\n",
    "    \n",
    "    y_fit = model.predict_proba(X_train)[:,1]\n",
    "    predictions_fit = [round(value) for value in y_fit]\n",
    "    \n",
    "    y_pred = model.predict_proba(X_test)[:,1]\n",
    "    predictions = [round(value) for value in y_pred]\n",
    "\n",
    "    accuracy = accuracy_score(y_test, predictions)\n",
    "    print(h_dim1, h_dim2, \"Accuracy: %.2f%%\" % (accuracy * 100.0), \"AUC: \", roc_auc_score(y_score=y_train,y_true=predictions_fit))"
   ]
  },
  {
   "cell_type": "code",
   "execution_count": null,
   "metadata": {
    "collapsed": true
   },
   "outputs": [],
   "source": []
  },
  {
   "cell_type": "code",
   "execution_count": 40,
   "metadata": {},
   "outputs": [
    {
     "name": "stdout",
     "output_type": "stream",
     "text": [
      "(30162, 45)\n"
     ]
    },
    {
     "data": {
      "text/plain": [
       "(15060, 45)"
      ]
     },
     "execution_count": 40,
     "metadata": {},
     "output_type": "execute_result"
    }
   ],
   "source": [
    "# Wczytaj dane treningowe i testowe\n",
    "\n",
    "import pandas as pd\n",
    "import numpy as np\n",
    "train_set = pd.read_csv('Dane/adult.data', header = None)\n",
    "test_set = pd.read_csv('Dane/adult.test',skiprows = 1, header = None) # Make sure to skip a row for the test set\n",
    "\n",
    "\n",
    "col_labels = ['age', 'workclass', 'fnlwgt', 'education', 'education_num', 'marital_status', 'occupation', \n",
    "              'relationship', 'race', 'sex', 'capital_gain', 'capital_loss', 'hours_per_week', 'native_country',\n",
    "             'wage_class']\n",
    "train_set.columns = col_labels\n",
    "test_set.columns = col_labels\n",
    "\n",
    "# Usun braki danych (oznaczone jako ' ?')\n",
    "\n",
    "train = train_set.replace(' ?', np.nan).dropna()\n",
    "test = test_set.replace(' ?', np.nan).dropna()\n",
    "\n",
    "\n",
    "\n",
    "dataset = pd.concat([train,test])\n",
    "\n",
    "# Zamien zmienna objasniana na binarna\n",
    "dataset['wage_class'] = dataset.wage_class.replace({' <=50K.': 0,' <=50K':0, ' >50K.':1, ' >50K':1})\n",
    "\n",
    "#Usun zmienna fnlwgt\n",
    "dataset.drop([\"fnlwgt\"],axis=1,inplace=True)\n",
    "\n",
    "#Zaproponuj sposbob obluzenia informacji dotyczących edukacji\n",
    "dataset.drop([\"education\"],axis=1,inplace=True)\n",
    "# Zaproponuj sposob obsluzenia tej zmiennej\n",
    "\n",
    "x = dataset.groupby('native_country')[\"wage_class\"].mean()\n",
    "\n",
    "d = dict(pd.cut(x[x.index!=\" United-States\"],5,labels=range(5)))\n",
    "\n",
    "dataset['native_country'] = dataset['native_country'].replace(d)\n",
    "\n",
    "dataset = pd.get_dummies(dataset,drop_first=True)\n",
    "\n",
    "train = dataset.iloc[:train.shape[0]]\n",
    "test = dataset.iloc[train.shape[0]:]\n",
    "\n",
    "X_train = train.drop(\"wage_class\",axis=1)\n",
    "y_train = train.wage_class\n",
    "\n",
    "X_test = test.drop(\"wage_class\",axis=1)\n",
    "y_test = test.wage_class\n",
    "\n",
    "print(X_train.shape)\n",
    "X_test.shape"
   ]
  },
  {
   "cell_type": "code",
   "execution_count": 41,
   "metadata": {
    "collapsed": true
   },
   "outputs": [],
   "source": [
    "####\n",
    "sc = StandardScaler()\n",
    "X_train = sc.fit_transform(X_train)\n",
    "X_test = sc.transform(X_test)\n",
    "####"
   ]
  },
  {
   "cell_type": "code",
   "execution_count": 44,
   "metadata": {
    "collapsed": true,
    "scrolled": true
   },
   "outputs": [],
   "source": [
    "from sklearn.model_selection import GridSearchCV, ShuffleSplit"
   ]
  },
  {
   "cell_type": "code",
   "execution_count": 59,
   "metadata": {
    "collapsed": true
   },
   "outputs": [],
   "source": [
    "model = MLPClassifier()\n",
    "params = {\"hidden_layer_sizes\": [X_train.shape[1]],\n",
    "              \"activation\": ['identity', 'logistic', 'tanh', 'relu'],\n",
    "             \"solver\": ['lbfgs', 'sgd', 'adam']}\n",
    "grid = GridSearchCV(estimator=model, param_grid=params, cv=ShuffleSplit(n_splits=1, test_size=0.1))"
   ]
  },
  {
   "cell_type": "code",
   "execution_count": 60,
   "metadata": {
    "scrolled": false
   },
   "outputs": [
    {
     "name": "stderr",
     "output_type": "stream",
     "text": [
      "/Users/lukasz/anaconda/lib/python3.6/site-packages/sklearn/neural_network/multilayer_perceptron.py:563: ConvergenceWarning: Stochastic Optimizer: Maximum iterations reached and the optimization hasn't converged yet.\n",
      "  % (), ConvergenceWarning)\n"
     ]
    },
    {
     "name": "stdout",
     "output_type": "stream",
     "text": [
      "0.858137222406\n",
      "MLPClassifier(activation='tanh', alpha=0.0001, batch_size='auto', beta_1=0.9,\n",
      "       beta_2=0.999, early_stopping=False, epsilon=1e-08,\n",
      "       hidden_layer_sizes=45, learning_rate='constant',\n",
      "       learning_rate_init=0.001, max_iter=200, momentum=0.9,\n",
      "       nesterovs_momentum=True, power_t=0.5, random_state=None,\n",
      "       shuffle=True, solver='adam', tol=0.0001, validation_fraction=0.1,\n",
      "       verbose=False, warm_start=False)\n"
     ]
    }
   ],
   "source": [
    "grid.fit(X_train, y_train)\n",
    "print(grid.best_score_)\n",
    "print(grid.best_estimator_)"
   ]
  },
  {
   "cell_type": "code",
   "execution_count": 61,
   "metadata": {},
   "outputs": [
    {
     "name": "stdout",
     "output_type": "stream",
     "text": [
      "{'activation': 'tanh', 'hidden_layer_sizes': 45, 'solver': 'adam'}\n"
     ]
    }
   ],
   "source": [
    "print(grid.best_params_)"
   ]
  },
  {
   "cell_type": "code",
   "execution_count": 62,
   "metadata": {},
   "outputs": [
    {
     "name": "stdout",
     "output_type": "stream",
     "text": [
      "Accuracy: 84.44% AUC:  0.899740733251\n"
     ]
    }
   ],
   "source": [
    "y_pred = grid.best_estimator_.predict_proba(X_test)[:,1]\n",
    "predictions = [round(value) for value in y_pred]\n",
    "\n",
    "accuracy = accuracy_score(y_test, predictions)\n",
    "print(\"Accuracy: %.2f%%\" % (accuracy * 100.0), \"AUC: \", roc_auc_score(y_score=y_pred,y_true=y_test))"
   ]
  },
  {
   "cell_type": "markdown",
   "metadata": {},
   "source": [
    "# Konwolucyjne siecie neuronowe\n",
    "\n",
    "## Convolution neural networks, CNN"
   ]
  },
  {
   "cell_type": "markdown",
   "metadata": {},
   "source": [
    "### Filtrowanie - konwolucja (splot):\n",
    "\n",
    "<img src=\"https://i.stack.imgur.com/SKgim.jpg\" width=\"450\">\n",
    "\n",
    "Źródło: https://i.stack.imgur.com/SKgim.jpg"
   ]
  },
  {
   "cell_type": "markdown",
   "metadata": {},
   "source": [
    "# Filtry jako ekstraktory informacji\n",
    "\n",
    "<img src=\"https://adeshpande3.github.io/assets/Filter.png\" width=\"550\">\n",
    "\n",
    "<img src=\"https://adeshpande3.github.io/assets/OriginalAndFilter.png\" width=\"550\">\n",
    "\n",
    "<img src=\"https://adeshpande3.github.io/assets/FirstPixelMulitiplication.png\" width=\"550\">\n",
    "\n",
    "<img src=\"https://adeshpande3.github.io/assets/SecondMultiplication.png\" width=\"550\">\n",
    "\n",
    "Źródło: https://adeshpande3.github.io/assets/Filter.png"
   ]
  },
  {
   "cell_type": "markdown",
   "metadata": {},
   "source": [
    "### Warstwa konwolucyjna\n",
    "\n",
    "Warstawa konwolucyjna analizuje obraz \"kawałek po kawałku\" i zwraca informację o poszczególnych obszarach przy użyciu filtrów.\n",
    "\n",
    "Warstwa konwolucyjna składa się z K filtrów i zwraca K \"tablic\" powstałych przez przetworzenie wejścia kolejnymi filtrami.\n",
    "\n",
    "Operacja splotu (konwolucja):\n",
    "\n",
    "<img src=\"http://deeplearning.stanford.edu/wiki/images/6/6c/Convolution_schematic.gif\" width=\"450\">\n",
    "\n",
    "Źródło: http://deeplearning.stanford.edu/wiki/images/6/6c/Convolution_schematic.gif"
   ]
  },
  {
   "cell_type": "code",
   "execution_count": 1,
   "metadata": {
    "collapsed": true
   },
   "outputs": [],
   "source": [
    "# padding - uzupelnienie obrazu o dodatkowy wiersz dookoła aby po konwolucji nie zmniejszyc rozmiaru obrazu"
   ]
  },
  {
   "cell_type": "markdown",
   "metadata": {},
   "source": [
    "### Sieć konwolucyjna uczy się ekstrachować istotne informacje - parametrami sieci są wagi w filtrach!\n",
    "\n",
    "Czyli sieć sama uczy się tego, co jest istotne w danych dla naszego celu."
   ]
  },
  {
   "cell_type": "markdown",
   "metadata": {},
   "source": [
    "W sieciach konwolucyjnych na wyjście splotu nakłada się funkcję aktywacji. Z reguły jest to ReLU:\n",
    "\n",
    "<img src=\"https://ml4a.github.io/images/figures/relu.png\" width=\"350\">\n",
    "\n",
    "Źródło: https://ml4a.github.io/images/figures/relu.png\n",
    "\n",
    "Takie przekształcenie można interpretować w następujący sposób: jeżeli w danym obszarze jest coś co dany filtr \"rozpoznaje\" (wartość splotu większa od 0), to zwracamy po prostu wynik splotu. Natomiast jeśli dane nie pasują do danego filtra (wartość ujemna), to niezaleznie od tego co w tych danych jest, zwracamy 0, które mówi, że nie ma tego czego szukamy."
   ]
  },
  {
   "cell_type": "markdown",
   "metadata": {},
   "source": [
    "## Pooling (subsampling)\n",
    "\n",
    "Pooling to agregacja informacji - zamiast przechowywać całą tablicę, którą zwrócił filtr, wyciągamy sobie po jednej \"informacji\" z podobszarów. W ten sposób otrzymujemy tablicę o zredukowanym wymiarze.\n",
    "\n",
    "MaxPooling:\n",
    "\n",
    "<img src=\"https://adeshpande3.github.io/assets/MaxPool.png\" width=\"550\">\n",
    "\n",
    "Jaką informację wyekstrahuje \"max pooling\"?\n",
    "\n",
    "A jaką \"average pooling\"?\n",
    "\n",
    "W praktyce prawie zawsze po każdej warstwie konwolujyjnej dodaje się max pooling. (Czasem nie dodaje się poolingu na końcu wielowarstwowej sieci.)"
   ]
  },
  {
   "cell_type": "markdown",
   "metadata": {},
   "source": [
    "### Wielowarstwowa sieć konwolucyjna\n",
    "\n",
    "Naturalnym rozwiązaniem są wielowarstwowe sieci konwolucyjne.\n",
    "\n",
    "Wówczas każda kolejna warstwa w jakiś sposób agreguje informacje z poprzedniej warstwy do ogólniejszego poziomu. Przykladowa interpretacja w kontekście klasyfikacji czy na danym zdjęciu jest człowiek:\n",
    "- pierwsza warstwa: rozpoznawianie kształtów/konturów\n",
    "- druga warstwa: detekcja części ciała\n",
    "- trzecia: detekcja człowiek\n",
    "\n",
    "\n",
    "<img src=\"https://adeshpande3.github.io/assets/LeNet.png\" width=\"700\">\n",
    "Źródło: https://adeshpande3.github.io/assets/LeNet.png\"\n",
    "\n",
    "### Wyjście sieci\n",
    "\n",
    "Ostatnia warsta konwolucyjna (lub pooling) jest rozwijana do wektora. Ten wektor jest przepuszczany przez warstwy dense, które prowadzą do predykcji. Można dokonywać predykcji bezpośrednio z rozwiniętego wektora."
   ]
  },
  {
   "cell_type": "markdown",
   "metadata": {},
   "source": [
    "### Uwaga. Filty dla obrazka 2D jest tablicą 2D. Natomiast kolejne warstwy są 3D - dochodzi wymiar liczby filtrów. Dlatego dalsze filtry są kostami 3D, które mają głębokość równą głębokości poprzedniej warstwy.\n",
    "\n",
    "<img src=\"https://www.mathworks.com/content/mathworks/www/en/discovery/convolutional-neural-network/_jcr_content/mainParsys/image_copy.img.jpg/1497876372993.jpg\" width=\"700\">\n",
    "\n",
    "Źródło: https://www.mathworks.com/content/mathworks/www/en/discovery/convolutional-neural-network/_jcr_content/mainParsys/image_copy.img.jpg/1497876372993.jpg"
   ]
  },
  {
   "cell_type": "markdown",
   "metadata": {},
   "source": [
    "## Strides - wielkość kroku przesunięcia\n",
    "\n",
    "Określa dokładność z jaką chcemy skanować dane.\n",
    "\n",
    "Strides = (1,1)\n",
    "\n",
    "<img src=\"https://adeshpande3.github.io/assets/Stride1.png\" width=\"600\">\n",
    "\n",
    "Strides = (2,2)\n",
    "\n",
    "<img src=\"https://adeshpande3.github.io/assets/Stride2.png\" width=\"600\">\n",
    "\n",
    "Źródło: https://adeshpande3.github.io/adeshpande3.github.io/A-Beginner's-Guide-To-Understanding-Convolutional-Neural-Networks-Part-2/\n"
   ]
  },
  {
   "cell_type": "markdown",
   "metadata": {},
   "source": [
    "### Jeszcze jednym parametrem jest rozmiar filtra."
   ]
  },
  {
   "cell_type": "markdown",
   "metadata": {},
   "source": [
    "# Przechodzimy do praktyki!"
   ]
  },
  {
   "cell_type": "markdown",
   "metadata": {},
   "source": [
    "# Obrazki 2D (szare)\n",
    "\n",
    "http://scikit-learn.org/0.15/auto_examples/applications/face_recognition.html"
   ]
  },
  {
   "cell_type": "code",
   "execution_count": 3,
   "metadata": {},
   "outputs": [
    {
     "name": "stderr",
     "output_type": "stream",
     "text": [
      "Using TensorFlow backend.\n"
     ]
    }
   ],
   "source": [
    "import numpy as np\n",
    "import pandas as pd\n",
    "import os\n",
    "from keras.utils import np_utils"
   ]
  },
  {
   "cell_type": "code",
   "execution_count": 11,
   "metadata": {
    "collapsed": true
   },
   "outputs": [],
   "source": [
    "from sklearn.datasets import fetch_lfw_people\n",
    "\n",
    "lfw_people = fetch_lfw_people(min_faces_per_person=70, resize=0.4)\n",
    "\n",
    "n_samples, h, w = lfw_people.images.shape\n",
    "\n",
    "X = lfw_people.data\n",
    "n_features = X.shape[1]\n",
    "\n",
    "y = lfw_people.target\n",
    "\n",
    "target_names = lfw_people.target_names"
   ]
  },
  {
   "cell_type": "code",
   "execution_count": 12,
   "metadata": {
    "collapsed": true
   },
   "outputs": [],
   "source": [
    "from sklearn.model_selection import train_test_split\n",
    "import matplotlib.pyplot as plt"
   ]
  },
  {
   "cell_type": "code",
   "execution_count": 13,
   "metadata": {
    "collapsed": true
   },
   "outputs": [],
   "source": [
    "y = np_utils.to_categorical(y)\n",
    "y\n",
    "n_classes = y.shape[1]\n",
    "\n",
    "X_train, X_test, y_train, y_test = train_test_split(X, y, test_size=0.4)\n",
    "\n",
    "X_train = np.array([x.reshape((h, w, 1)) for x in X_train])\n",
    "X_test = np.array([x.reshape((h, w, 1)) for x in X_test])\n",
    "\n",
    "X_train = X_train / 255\n",
    "X_test = X_test / 255"
   ]
  },
  {
   "cell_type": "code",
   "execution_count": 14,
   "metadata": {},
   "outputs": [
    {
     "data": {
      "image/png": "[encoded data removed]",
      "text/plain": [
       "<matplotlib.figure.Figure at 0x114b8b550>"
      ]
     },
     "metadata": {},
     "output_type": "display_data"
    }
   ],
   "source": [
    "images = X_train[:12]\n",
    "n_col = 4\n",
    "n_row = 3\n",
    "plt.figure(figsize=(1.8 * n_col, 2.4 * n_row))\n",
    "plt.subplots_adjust(bottom=0, left=.01, right=.99, top=.90, hspace=.35)\n",
    "for i in range(n_row * n_col):\n",
    "    plt.subplot(n_row, n_col, i + 1)\n",
    "    plt.imshow(images[i][:,:,0], cmap=plt.cm.gray)\n",
    "    plt.xticks(())\n",
    "    plt.yticks(())\n",
    "    \n",
    "plt.show()"
   ]
  },
  {
   "cell_type": "code",
   "execution_count": 15,
   "metadata": {
    "scrolled": true
   },
   "outputs": [
    {
     "data": {
      "text/plain": [
       "(772, 50, 37, 1)"
      ]
     },
     "execution_count": 15,
     "metadata": {},
     "output_type": "execute_result"
    }
   ],
   "source": [
    "X_train.shape"
   ]
  },
  {
   "cell_type": "code",
   "execution_count": 16,
   "metadata": {},
   "outputs": [
    {
     "data": {
      "text/plain": [
       "(772, 7)"
      ]
     },
     "execution_count": 16,
     "metadata": {},
     "output_type": "execute_result"
    }
   ],
   "source": [
    "y_train.shape"
   ]
  },
  {
   "cell_type": "code",
   "execution_count": 17,
   "metadata": {
    "scrolled": true
   },
   "outputs": [
    {
     "data": {
      "text/plain": [
       "(516, 50, 37, 1)"
      ]
     },
     "execution_count": 17,
     "metadata": {},
     "output_type": "execute_result"
    }
   ],
   "source": [
    "X_test.shape"
   ]
  },
  {
   "cell_type": "markdown",
   "metadata": {},
   "source": [
    "### Ćwiczenie 1. Punkt odniesienia\n",
    "\n",
    "Sprawdź klasyfikację przy użyciu perceptrona - sieć 0-warstwowa (lub 1-warstwowa licząc wyjście jako warstwę). Pamiętaj, że, aby uruchomić warstwę dense na danych, które nie są wektorem trzeba je \"rozwinąć\" przy uzyciu \"warstwy\" (operacji) Flatten. "
   ]
  },
  {
   "cell_type": "code",
   "execution_count": 38,
   "metadata": {
    "collapsed": true
   },
   "outputs": [],
   "source": [
    "from keras.models import Sequential\n",
    "\n",
    "from keras.layers import Dense, Flatten, Dropout\n",
    "from keras.constraints import maxnorm\n",
    "# keras.optimizers import SGD\n",
    "from keras.layers.convolutional import Conv2D, MaxPooling2D, AveragePooling2D\n",
    "\n",
    "from keras.callbacks import EarlyStopping, ModelCheckpoint"
   ]
  },
  {
   "cell_type": "code",
   "execution_count": 23,
   "metadata": {
    "scrolled": true
   },
   "outputs": [
    {
     "name": "stdout",
     "output_type": "stream",
     "text": [
      "_________________________________________________________________\n",
      "Layer (type)                 Output Shape              Param #   \n",
      "=================================================================\n",
      "flatten_5 (Flatten)          (None, 1850)              0         \n",
      "_________________________________________________________________\n",
      "dense_5 (Dense)              (None, 7)                 12957     \n",
      "=================================================================\n",
      "Total params: 12,957\n",
      "Trainable params: 12,957\n",
      "Non-trainable params: 0\n",
      "_________________________________________________________________\n",
      "None\n"
     ]
    }
   ],
   "source": [
    "model = Sequential()\n",
    "model.add(Flatten(input_shape=(50,37,1)))\n",
    "# pierwsza warstwa musi miec podane rozmiary danych\n",
    "model.add(Dense(n_classes, activation='softmax'))\n",
    "# w warstwie Dense podajemy rozmiar wyjscia\n",
    "# softmax uzywamy tylko na wyjsciu\n",
    "\n",
    "model.compile(loss='categorical_crossentropy', optimizer='adam', metrics=['categorical_accuracy'])\n",
    "\n",
    "print(model.summary())"
   ]
  },
  {
   "cell_type": "code",
   "execution_count": 24,
   "metadata": {},
   "outputs": [
    {
     "name": "stdout",
     "output_type": "stream",
     "text": [
      "Train on 579 samples, validate on 193 samples\n",
      "Epoch 1/100\n",
      "579/579 [==============================] - 0s - loss: 1.8682 - categorical_accuracy: 0.3005 - val_loss: 1.7075 - val_categorical_accuracy: 0.4508\n",
      "Epoch 2/100\n",
      "579/579 [==============================] - 0s - loss: 1.6751 - categorical_accuracy: 0.4041 - val_loss: 1.5647 - val_categorical_accuracy: 0.4560\n",
      "Epoch 3/100\n",
      "579/579 [==============================] - 0s - loss: 1.6013 - categorical_accuracy: 0.4111 - val_loss: 1.6200 - val_categorical_accuracy: 0.5130\n",
      "Epoch 4/100\n",
      "579/579 [==============================] - 0s - loss: 1.5506 - categorical_accuracy: 0.4525 - val_loss: 1.5200 - val_categorical_accuracy: 0.4715\n",
      "Epoch 5/100\n",
      "579/579 [==============================] - 0s - loss: 1.4867 - categorical_accuracy: 0.4698 - val_loss: 1.4370 - val_categorical_accuracy: 0.5181\n",
      "Epoch 6/100\n",
      "579/579 [==============================] - 0s - loss: 1.4193 - categorical_accuracy: 0.5026 - val_loss: 1.3929 - val_categorical_accuracy: 0.5285\n",
      "Epoch 7/100\n",
      "579/579 [==============================] - 0s - loss: 1.3913 - categorical_accuracy: 0.5026 - val_loss: 1.4123 - val_categorical_accuracy: 0.4922\n",
      "Epoch 8/100\n",
      "579/579 [==============================] - 0s - loss: 1.3688 - categorical_accuracy: 0.5268 - val_loss: 1.3191 - val_categorical_accuracy: 0.5596\n",
      "Epoch 9/100\n",
      "579/579 [==============================] - 0s - loss: 1.3411 - categorical_accuracy: 0.5181 - val_loss: 1.4296 - val_categorical_accuracy: 0.5078\n",
      "Epoch 10/100\n",
      "579/579 [==============================] - 0s - loss: 1.2835 - categorical_accuracy: 0.5596 - val_loss: 1.2712 - val_categorical_accuracy: 0.5233\n",
      "Epoch 11/100\n",
      "579/579 [==============================] - 0s - loss: 1.2504 - categorical_accuracy: 0.5786 - val_loss: 1.2193 - val_categorical_accuracy: 0.5803\n",
      "Epoch 12/100\n",
      "579/579 [==============================] - 0s - loss: 1.1782 - categorical_accuracy: 0.6045 - val_loss: 1.2158 - val_categorical_accuracy: 0.5492\n",
      "Epoch 13/100\n",
      "579/579 [==============================] - 0s - loss: 1.1849 - categorical_accuracy: 0.6097 - val_loss: 1.1816 - val_categorical_accuracy: 0.5285\n",
      "Epoch 14/100\n",
      "579/579 [==============================] - 0s - loss: 1.1250 - categorical_accuracy: 0.6200 - val_loss: 1.2461 - val_categorical_accuracy: 0.5648\n",
      "Epoch 15/100\n",
      "579/579 [==============================] - 0s - loss: 1.1242 - categorical_accuracy: 0.6028 - val_loss: 1.1265 - val_categorical_accuracy: 0.5855\n",
      "Epoch 16/100\n",
      "579/579 [==============================] - 0s - loss: 1.0857 - categorical_accuracy: 0.5976 - val_loss: 1.3246 - val_categorical_accuracy: 0.5803\n",
      "Epoch 17/100\n",
      "579/579 [==============================] - 0s - loss: 1.0970 - categorical_accuracy: 0.6477 - val_loss: 1.1040 - val_categorical_accuracy: 0.6373\n",
      "Epoch 18/100\n",
      "579/579 [==============================] - 0s - loss: 1.0340 - categorical_accuracy: 0.6442 - val_loss: 1.1985 - val_categorical_accuracy: 0.6114\n",
      "Epoch 19/100\n",
      "579/579 [==============================] - 0s - loss: 1.0827 - categorical_accuracy: 0.6390 - val_loss: 1.1258 - val_categorical_accuracy: 0.6580\n",
      "Epoch 20/100\n",
      "579/579 [==============================] - 0s - loss: 1.0379 - categorical_accuracy: 0.6183 - val_loss: 1.1185 - val_categorical_accuracy: 0.6425\n",
      "Epoch 21/100\n",
      "579/579 [==============================] - 0s - loss: 1.0958 - categorical_accuracy: 0.6339 - val_loss: 1.0507 - val_categorical_accuracy: 0.6528\n",
      "Epoch 22/100\n",
      "579/579 [==============================] - 0s - loss: 0.9620 - categorical_accuracy: 0.7098 - val_loss: 1.0683 - val_categorical_accuracy: 0.6736\n",
      "Epoch 23/100\n",
      "579/579 [==============================] - 0s - loss: 0.9773 - categorical_accuracy: 0.6874 - val_loss: 1.0481 - val_categorical_accuracy: 0.6943\n",
      "Epoch 24/100\n",
      "579/579 [==============================] - 0s - loss: 0.9103 - categorical_accuracy: 0.7323 - val_loss: 1.0820 - val_categorical_accuracy: 0.6839\n",
      "Epoch 25/100\n",
      "579/579 [==============================] - 0s - loss: 0.9116 - categorical_accuracy: 0.7254 - val_loss: 0.9986 - val_categorical_accuracy: 0.6373\n",
      "Epoch 26/100\n",
      "579/579 [==============================] - 0s - loss: 0.8756 - categorical_accuracy: 0.7323 - val_loss: 1.0180 - val_categorical_accuracy: 0.7047\n",
      "Epoch 27/100\n",
      "579/579 [==============================] - 0s - loss: 0.8724 - categorical_accuracy: 0.7254 - val_loss: 1.0021 - val_categorical_accuracy: 0.6269\n",
      "Epoch 28/100\n",
      "579/579 [==============================] - 0s - loss: 0.8385 - categorical_accuracy: 0.7530 - val_loss: 1.0129 - val_categorical_accuracy: 0.6580\n",
      "Epoch 29/100\n",
      "579/579 [==============================] - 0s - loss: 0.8424 - categorical_accuracy: 0.7513 - val_loss: 0.9609 - val_categorical_accuracy: 0.7098\n",
      "Epoch 30/100\n",
      "579/579 [==============================] - 0s - loss: 0.9134 - categorical_accuracy: 0.7012 - val_loss: 1.0452 - val_categorical_accuracy: 0.6632\n",
      "Epoch 31/100\n",
      "579/579 [==============================] - 0s - loss: 0.8890 - categorical_accuracy: 0.7098 - val_loss: 0.9598 - val_categorical_accuracy: 0.6580\n",
      "Epoch 32/100\n",
      "579/579 [==============================] - 0s - loss: 0.8459 - categorical_accuracy: 0.7185 - val_loss: 0.9868 - val_categorical_accuracy: 0.6943\n",
      "Epoch 33/100\n",
      "579/579 [==============================] - 0s - loss: 0.8238 - categorical_accuracy: 0.7392 - val_loss: 0.9396 - val_categorical_accuracy: 0.7358\n",
      "Epoch 34/100\n",
      "579/579 [==============================] - 0s - loss: 0.7895 - categorical_accuracy: 0.7686 - val_loss: 0.9107 - val_categorical_accuracy: 0.7306\n",
      "Epoch 35/100\n",
      "579/579 [==============================] - 0s - loss: 0.7933 - categorical_accuracy: 0.7530 - val_loss: 0.9159 - val_categorical_accuracy: 0.7306\n",
      "Epoch 36/100\n",
      "579/579 [==============================] - 0s - loss: 0.7618 - categorical_accuracy: 0.7858 - val_loss: 0.9436 - val_categorical_accuracy: 0.6943\n",
      "Epoch 37/100\n",
      "579/579 [==============================] - 0s - loss: 0.7618 - categorical_accuracy: 0.7789 - val_loss: 0.8992 - val_categorical_accuracy: 0.7306\n",
      "Epoch 38/100\n",
      "579/579 [==============================] - 0s - loss: 0.7495 - categorical_accuracy: 0.7807 - val_loss: 0.8964 - val_categorical_accuracy: 0.7409\n",
      "Epoch 39/100\n",
      "579/579 [==============================] - 0s - loss: 0.7490 - categorical_accuracy: 0.7876 - val_loss: 0.9262 - val_categorical_accuracy: 0.7254\n",
      "Epoch 40/100\n",
      "579/579 [==============================] - 0s - loss: 0.7144 - categorical_accuracy: 0.7979 - val_loss: 0.9548 - val_categorical_accuracy: 0.7047\n",
      "Epoch 41/100\n",
      "579/579 [==============================] - 0s - loss: 0.7295 - categorical_accuracy: 0.7686 - val_loss: 0.9261 - val_categorical_accuracy: 0.7047\n",
      "Epoch 42/100\n",
      "579/579 [==============================] - 0s - loss: 0.7207 - categorical_accuracy: 0.7945 - val_loss: 1.0040 - val_categorical_accuracy: 0.6580\n",
      " 32/516 [>.............................] - ETA: 0s"
     ]
    },
    {
     "data": {
      "text/plain": [
       "[1.0412591834400975, 0.65891472868217049]"
      ]
     },
     "execution_count": 24,
     "metadata": {},
     "output_type": "execute_result"
    }
   ],
   "source": [
    "early_stopping = EarlyStopping(patience=3, monitor='val_loss')\n",
    "\n",
    "model.fit(X_train, y_train, validation_split=0.25, epochs=100, callbacks=[early_stopping])\n",
    "\n",
    "model.evaluate(X_test, y_test)"
   ]
  },
  {
   "cell_type": "markdown",
   "metadata": {},
   "source": [
    "### Ćwiczenie 2.\n",
    "\n",
    "Sprawdź klasyfikację przy użyciu sieci jednowarstwowej, dla rozmiarów stanu ukrytego: 20,50,100,150,200,300."
   ]
  },
  {
   "cell_type": "code",
   "execution_count": 37,
   "metadata": {},
   "outputs": [
    {
     "name": "stdout",
     "output_type": "stream",
     "text": [
      "_________________________________________________________________\n",
      "Layer (type)                 Output Shape              Param #   \n",
      "=================================================================\n",
      "flatten_13 (Flatten)         (None, 1850)              0         \n",
      "_________________________________________________________________\n",
      "dense_17 (Dense)             (None, 200)               370200    \n",
      "_________________________________________________________________\n",
      "dense_18 (Dense)             (None, 7)                 1407      \n",
      "=================================================================\n",
      "Total params: 371,607\n",
      "Trainable params: 371,607\n",
      "Non-trainable params: 0\n",
      "_________________________________________________________________\n",
      "None\n"
     ]
    }
   ],
   "source": [
    "model = Sequential()\n",
    "model.add(Flatten(input_shape=(50,37,1)))\n",
    "\n",
    "model.add(Dense(200, activation='sigmoid'))\n",
    "model.add(Dense(n_classes, activation='softmax'))\n",
    "\n",
    "model.compile(loss='categorical_crossentropy', optimizer='adam', metrics=['categorical_accuracy'])\n",
    "\n",
    "print(model.summary())"
   ]
  },
  {
   "cell_type": "code",
   "execution_count": 38,
   "metadata": {
    "scrolled": true
   },
   "outputs": [
    {
     "name": "stdout",
     "output_type": "stream",
     "text": [
      "Train on 579 samples, validate on 193 samples\n",
      "Epoch 1/100\n",
      "579/579 [==============================] - 0s - loss: 1.8593 - categorical_accuracy: 0.3040 - val_loss: 1.6077 - val_categorical_accuracy: 0.4560\n",
      "Epoch 2/100\n",
      "579/579 [==============================] - 0s - loss: 1.6594 - categorical_accuracy: 0.4093 - val_loss: 1.6207 - val_categorical_accuracy: 0.4560\n",
      "Epoch 3/100\n",
      "579/579 [==============================] - 0s - loss: 1.6313 - categorical_accuracy: 0.4387 - val_loss: 1.6110 - val_categorical_accuracy: 0.4663\n",
      "Epoch 4/100\n",
      "579/579 [==============================] - 0s - loss: 1.5650 - categorical_accuracy: 0.4767 - val_loss: 1.4935 - val_categorical_accuracy: 0.4974\n",
      "Epoch 5/100\n",
      "579/579 [==============================] - 0s - loss: 1.5201 - categorical_accuracy: 0.4508 - val_loss: 1.4659 - val_categorical_accuracy: 0.5026\n",
      "Epoch 6/100\n",
      "579/579 [==============================] - 0s - loss: 1.4639 - categorical_accuracy: 0.4974 - val_loss: 1.4948 - val_categorical_accuracy: 0.4715\n",
      "Epoch 7/100\n",
      "579/579 [==============================] - 0s - loss: 1.4625 - categorical_accuracy: 0.4888 - val_loss: 1.3882 - val_categorical_accuracy: 0.5544\n",
      "Epoch 8/100\n",
      "579/579 [==============================] - 0s - loss: 1.3747 - categorical_accuracy: 0.5130 - val_loss: 1.3845 - val_categorical_accuracy: 0.4922\n",
      "Epoch 9/100\n",
      "579/579 [==============================] - 0s - loss: 1.2773 - categorical_accuracy: 0.5233 - val_loss: 1.3071 - val_categorical_accuracy: 0.5492\n",
      "Epoch 10/100\n",
      "579/579 [==============================] - 0s - loss: 1.2266 - categorical_accuracy: 0.5838 - val_loss: 1.3770 - val_categorical_accuracy: 0.5078\n",
      "Epoch 11/100\n",
      "579/579 [==============================] - 0s - loss: 1.2265 - categorical_accuracy: 0.5527 - val_loss: 1.2549 - val_categorical_accuracy: 0.5492\n",
      "Epoch 12/100\n",
      "579/579 [==============================] - 0s - loss: 1.1574 - categorical_accuracy: 0.6062 - val_loss: 1.1840 - val_categorical_accuracy: 0.6166\n",
      "Epoch 13/100\n",
      "579/579 [==============================] - 0s - loss: 1.1264 - categorical_accuracy: 0.6062 - val_loss: 1.1407 - val_categorical_accuracy: 0.6373\n",
      "Epoch 14/100\n",
      "579/579 [==============================] - 0s - loss: 1.0625 - categorical_accuracy: 0.6442 - val_loss: 1.1027 - val_categorical_accuracy: 0.6632\n",
      "Epoch 15/100\n",
      "579/579 [==============================] - 0s - loss: 1.0275 - categorical_accuracy: 0.6563 - val_loss: 1.0583 - val_categorical_accuracy: 0.5907\n",
      "Epoch 16/100\n",
      "579/579 [==============================] - 0s - loss: 0.9444 - categorical_accuracy: 0.6943 - val_loss: 1.0586 - val_categorical_accuracy: 0.6010\n",
      "Epoch 17/100\n",
      "579/579 [==============================] - 0s - loss: 0.9420 - categorical_accuracy: 0.7081 - val_loss: 0.9809 - val_categorical_accuracy: 0.6736\n",
      "Epoch 18/100\n",
      "579/579 [==============================] - 0s - loss: 0.9957 - categorical_accuracy: 0.6718 - val_loss: 1.0443 - val_categorical_accuracy: 0.6891\n",
      "Epoch 19/100\n",
      "579/579 [==============================] - 0s - loss: 0.9275 - categorical_accuracy: 0.7047 - val_loss: 0.9663 - val_categorical_accuracy: 0.6684\n",
      "Epoch 20/100\n",
      "579/579 [==============================] - 0s - loss: 0.8851 - categorical_accuracy: 0.7168 - val_loss: 0.9797 - val_categorical_accuracy: 0.6528\n",
      "Epoch 21/100\n",
      "579/579 [==============================] - 0s - loss: 0.8354 - categorical_accuracy: 0.7271 - val_loss: 1.0324 - val_categorical_accuracy: 0.6736\n",
      "Epoch 22/100\n",
      "579/579 [==============================] - 0s - loss: 0.8774 - categorical_accuracy: 0.7185 - val_loss: 0.9799 - val_categorical_accuracy: 0.6684\n",
      "Epoch 23/100\n",
      "579/579 [==============================] - 0s - loss: 0.7384 - categorical_accuracy: 0.7807 - val_loss: 1.0531 - val_categorical_accuracy: 0.6580\n",
      " 32/516 [>.............................] - ETA: 0s"
     ]
    },
    {
     "data": {
      "text/plain": [
       "[1.0604021198065705, 0.62209302325581395]"
      ]
     },
     "execution_count": 38,
     "metadata": {},
     "output_type": "execute_result"
    }
   ],
   "source": [
    "early_stopping = EarlyStopping(patience=3, monitor='val_loss')\n",
    "\n",
    "model.fit(X_train, y_train, validation_split=0.25, epochs=100, callbacks=[early_stopping])\n",
    "\n",
    "model.evaluate(X_test, y_test)"
   ]
  },
  {
   "cell_type": "markdown",
   "metadata": {},
   "source": [
    "### Ćwiczenie 3\n",
    "\n",
    "Weź najlepszą sieć z poprzedniego kroku i dodaj kolejną warstwę dense - rozpatrz takie same wielkosci stanu ukrytego jak poprzednio."
   ]
  },
  {
   "cell_type": "code",
   "execution_count": null,
   "metadata": {
    "collapsed": true
   },
   "outputs": [],
   "source": []
  },
  {
   "cell_type": "markdown",
   "metadata": {},
   "source": [
    "### Ćwiczenie 4. Prosta sieć konwolucyjna.\n",
    "\n",
    "Liczba filtrów: 10, wielkość filtra: 5,5."
   ]
  },
  {
   "cell_type": "code",
   "execution_count": 40,
   "metadata": {
    "scrolled": true
   },
   "outputs": [
    {
     "name": "stdout",
     "output_type": "stream",
     "text": [
      "_________________________________________________________________\n",
      "Layer (type)                 Output Shape              Param #   \n",
      "=================================================================\n",
      "conv2d_2 (Conv2D)            (None, 46, 33, 10)        260       \n",
      "_________________________________________________________________\n",
      "flatten_15 (Flatten)         (None, 15180)             0         \n",
      "_________________________________________________________________\n",
      "dense_20 (Dense)             (None, 7)                 106267    \n",
      "=================================================================\n",
      "Total params: 106,527\n",
      "Trainable params: 106,527\n",
      "Non-trainable params: 0\n",
      "_________________________________________________________________\n",
      "None\n",
      "Train on 579 samples, validate on 193 samples\n",
      "Epoch 1/100\n",
      "579/579 [==============================] - 1s - loss: 1.8938 - categorical_accuracy: 0.3402 - val_loss: 1.5305 - val_categorical_accuracy: 0.4767\n",
      "Epoch 2/100\n",
      "579/579 [==============================] - 0s - loss: 1.4896 - categorical_accuracy: 0.4387 - val_loss: 1.4374 - val_categorical_accuracy: 0.5337\n",
      "Epoch 3/100\n",
      "579/579 [==============================] - 0s - loss: 1.3200 - categorical_accuracy: 0.5717 - val_loss: 1.3126 - val_categorical_accuracy: 0.5648\n",
      "Epoch 4/100\n",
      "579/579 [==============================] - 0s - loss: 1.1476 - categorical_accuracy: 0.6200 - val_loss: 1.2146 - val_categorical_accuracy: 0.5751\n",
      "Epoch 5/100\n",
      "579/579 [==============================] - 0s - loss: 1.0161 - categorical_accuracy: 0.6718 - val_loss: 1.0777 - val_categorical_accuracy: 0.6218\n",
      "Epoch 6/100\n",
      "579/579 [==============================] - 0s - loss: 0.8350 - categorical_accuracy: 0.7392 - val_loss: 0.9988 - val_categorical_accuracy: 0.6891\n",
      "Epoch 7/100\n",
      "579/579 [==============================] - 0s - loss: 0.7075 - categorical_accuracy: 0.7927 - val_loss: 0.9440 - val_categorical_accuracy: 0.7150\n",
      "Epoch 8/100\n",
      "579/579 [==============================] - 0s - loss: 0.5802 - categorical_accuracy: 0.8670 - val_loss: 0.8274 - val_categorical_accuracy: 0.7098\n",
      "Epoch 9/100\n",
      "579/579 [==============================] - 0s - loss: 0.4969 - categorical_accuracy: 0.8705 - val_loss: 0.7828 - val_categorical_accuracy: 0.7513\n",
      "Epoch 10/100\n",
      "579/579 [==============================] - 0s - loss: 0.4299 - categorical_accuracy: 0.8946 - val_loss: 0.7290 - val_categorical_accuracy: 0.7772\n",
      "Epoch 11/100\n",
      "579/579 [==============================] - 0s - loss: 0.3858 - categorical_accuracy: 0.8964 - val_loss: 0.7383 - val_categorical_accuracy: 0.8031\n",
      "Epoch 12/100\n",
      "579/579 [==============================] - 0s - loss: 0.3347 - categorical_accuracy: 0.9309 - val_loss: 0.7445 - val_categorical_accuracy: 0.8083\n",
      "Epoch 13/100\n",
      "579/579 [==============================] - 0s - loss: 0.3143 - categorical_accuracy: 0.9188 - val_loss: 0.6794 - val_categorical_accuracy: 0.8135\n",
      "Epoch 14/100\n",
      "579/579 [==============================] - 0s - loss: 0.2509 - categorical_accuracy: 0.9499 - val_loss: 0.6677 - val_categorical_accuracy: 0.7927\n",
      "Epoch 15/100\n",
      "579/579 [==============================] - 0s - loss: 0.2193 - categorical_accuracy: 0.9620 - val_loss: 0.6536 - val_categorical_accuracy: 0.7979\n",
      "Epoch 16/100\n",
      "579/579 [==============================] - 0s - loss: 0.2190 - categorical_accuracy: 0.9603 - val_loss: 0.6361 - val_categorical_accuracy: 0.8187\n",
      "Epoch 17/100\n",
      "579/579 [==============================] - 0s - loss: 0.1739 - categorical_accuracy: 0.9758 - val_loss: 0.6597 - val_categorical_accuracy: 0.8187\n",
      "Epoch 18/100\n",
      "579/579 [==============================] - 0s - loss: 0.1568 - categorical_accuracy: 0.9845 - val_loss: 0.6164 - val_categorical_accuracy: 0.7979\n",
      "Epoch 19/100\n",
      "579/579 [==============================] - 0s - loss: 0.1394 - categorical_accuracy: 0.9845 - val_loss: 0.6081 - val_categorical_accuracy: 0.8290\n",
      "Epoch 20/100\n",
      "579/579 [==============================] - 0s - loss: 0.1231 - categorical_accuracy: 0.9879 - val_loss: 0.5870 - val_categorical_accuracy: 0.8549\n",
      "Epoch 21/100\n",
      "579/579 [==============================] - 0s - loss: 0.1092 - categorical_accuracy: 0.9914 - val_loss: 0.6060 - val_categorical_accuracy: 0.8394\n",
      "Epoch 22/100\n",
      "579/579 [==============================] - 0s - loss: 0.1004 - categorical_accuracy: 0.9931 - val_loss: 0.5959 - val_categorical_accuracy: 0.8394\n",
      "Epoch 23/100\n",
      "579/579 [==============================] - 0s - loss: 0.0928 - categorical_accuracy: 0.9862 - val_loss: 0.5836 - val_categorical_accuracy: 0.8549\n",
      "Epoch 24/100\n",
      "579/579 [==============================] - 0s - loss: 0.0849 - categorical_accuracy: 0.9931 - val_loss: 0.6092 - val_categorical_accuracy: 0.8342\n",
      "Epoch 25/100\n",
      "579/579 [==============================] - 0s - loss: 0.0732 - categorical_accuracy: 0.9948 - val_loss: 0.5988 - val_categorical_accuracy: 0.8394\n",
      "Epoch 26/100\n",
      "579/579 [==============================] - 0s - loss: 0.0695 - categorical_accuracy: 0.9948 - val_loss: 0.6052 - val_categorical_accuracy: 0.8342\n",
      "Epoch 27/100\n",
      "579/579 [==============================] - 0s - loss: 0.0633 - categorical_accuracy: 0.9965 - val_loss: 0.5893 - val_categorical_accuracy: 0.8549\n",
      "516/516 [==============================] - 0s     \n"
     ]
    },
    {
     "data": {
      "text/plain": [
       "[0.81257993121479832, 0.77519379844961245]"
      ]
     },
     "execution_count": 40,
     "metadata": {},
     "output_type": "execute_result"
    }
   ],
   "source": [
    "model = Sequential()\n",
    "model.add(Conv2D(10, (5,5), input_shape=(50,37,1)))\n",
    "\n",
    "model.add(Flatten())\n",
    "\n",
    "model.add(Dense(n_classes, activation='softmax'))\n",
    "\n",
    "model.compile(loss='categorical_crossentropy', optimizer='adam', metrics=['categorical_accuracy'])\n",
    "print(model.summary())\n",
    "\n",
    "early_stopping = EarlyStopping(patience=3, monitor='val_loss')\n",
    "model.fit(X_train, y_train, validation_split=0.25, epochs=100, callbacks=[early_stopping])\n",
    "model.evaluate(X_test, y_test)"
   ]
  },
  {
   "cell_type": "markdown",
   "metadata": {},
   "source": [
    "### Ćwiczenie 5. Zmień padding na \"same\"."
   ]
  },
  {
   "cell_type": "code",
   "execution_count": 42,
   "metadata": {},
   "outputs": [
    {
     "name": "stdout",
     "output_type": "stream",
     "text": [
      "_________________________________________________________________\n",
      "Layer (type)                 Output Shape              Param #   \n",
      "=================================================================\n",
      "conv2d_4 (Conv2D)            (None, 50, 37, 10)        260       \n",
      "_________________________________________________________________\n",
      "flatten_17 (Flatten)         (None, 18500)             0         \n",
      "_________________________________________________________________\n",
      "dense_22 (Dense)             (None, 7)                 129507    \n",
      "=================================================================\n",
      "Total params: 129,767\n",
      "Trainable params: 129,767\n",
      "Non-trainable params: 0\n",
      "_________________________________________________________________\n",
      "None\n",
      "Train on 579 samples, validate on 193 samples\n",
      "Epoch 1/100\n",
      "579/579 [==============================] - 1s - loss: 2.0935 - categorical_accuracy: 0.3161 - val_loss: 1.6352 - val_categorical_accuracy: 0.4974\n",
      "Epoch 2/100\n",
      "579/579 [==============================] - 0s - loss: 1.5222 - categorical_accuracy: 0.4231 - val_loss: 1.4738 - val_categorical_accuracy: 0.4663\n",
      "Epoch 3/100\n",
      "579/579 [==============================] - 0s - loss: 1.3989 - categorical_accuracy: 0.4888 - val_loss: 1.3350 - val_categorical_accuracy: 0.5959\n",
      "Epoch 4/100\n",
      "579/579 [==============================] - 0s - loss: 1.1932 - categorical_accuracy: 0.5907 - val_loss: 1.2798 - val_categorical_accuracy: 0.5751\n",
      "Epoch 5/100\n",
      "579/579 [==============================] - 0s - loss: 1.0512 - categorical_accuracy: 0.6788 - val_loss: 1.1343 - val_categorical_accuracy: 0.6995\n",
      "Epoch 6/100\n",
      "579/579 [==============================] - 0s - loss: 0.9010 - categorical_accuracy: 0.7392 - val_loss: 1.0070 - val_categorical_accuracy: 0.6995\n",
      "Epoch 7/100\n",
      "579/579 [==============================] - 0s - loss: 0.7675 - categorical_accuracy: 0.7824 - val_loss: 0.9273 - val_categorical_accuracy: 0.7202\n",
      "Epoch 8/100\n",
      "579/579 [==============================] - 0s - loss: 0.6483 - categorical_accuracy: 0.8221 - val_loss: 0.9570 - val_categorical_accuracy: 0.6684\n",
      "Epoch 9/100\n",
      "579/579 [==============================] - 0s - loss: 0.5935 - categorical_accuracy: 0.8497 - val_loss: 0.8058 - val_categorical_accuracy: 0.7409\n",
      "Epoch 10/100\n",
      "579/579 [==============================] - 0s - loss: 0.4829 - categorical_accuracy: 0.8722 - val_loss: 0.7911 - val_categorical_accuracy: 0.7306\n",
      "Epoch 11/100\n",
      "579/579 [==============================] - 0s - loss: 0.4289 - categorical_accuracy: 0.8981 - val_loss: 0.7130 - val_categorical_accuracy: 0.7720\n",
      "Epoch 12/100\n",
      "579/579 [==============================] - 0s - loss: 0.3637 - categorical_accuracy: 0.9136 - val_loss: 0.8130 - val_categorical_accuracy: 0.7306\n",
      "Epoch 13/100\n",
      "579/579 [==============================] - 0s - loss: 0.3423 - categorical_accuracy: 0.9033 - val_loss: 0.6775 - val_categorical_accuracy: 0.7772\n",
      "Epoch 14/100\n",
      "579/579 [==============================] - 0s - loss: 0.2987 - categorical_accuracy: 0.9326 - val_loss: 0.6769 - val_categorical_accuracy: 0.7772\n",
      "Epoch 15/100\n",
      "579/579 [==============================] - 0s - loss: 0.2648 - categorical_accuracy: 0.9482 - val_loss: 0.6665 - val_categorical_accuracy: 0.7876\n",
      "Epoch 16/100\n",
      "579/579 [==============================] - 0s - loss: 0.2716 - categorical_accuracy: 0.9361 - val_loss: 0.6915 - val_categorical_accuracy: 0.7876\n",
      "Epoch 17/100\n",
      "579/579 [==============================] - 0s - loss: 0.2187 - categorical_accuracy: 0.9568 - val_loss: 0.6496 - val_categorical_accuracy: 0.7979\n",
      "Epoch 18/100\n",
      "579/579 [==============================] - 0s - loss: 0.1941 - categorical_accuracy: 0.9655 - val_loss: 0.6595 - val_categorical_accuracy: 0.7979\n",
      "Epoch 19/100\n",
      "579/579 [==============================] - 0s - loss: 0.1766 - categorical_accuracy: 0.9706 - val_loss: 0.6705 - val_categorical_accuracy: 0.8083\n",
      "Epoch 20/100\n",
      "579/579 [==============================] - 0s - loss: 0.1510 - categorical_accuracy: 0.9827 - val_loss: 0.6329 - val_categorical_accuracy: 0.8238\n",
      "Epoch 21/100\n",
      "579/579 [==============================] - 0s - loss: 0.1292 - categorical_accuracy: 0.9845 - val_loss: 0.6526 - val_categorical_accuracy: 0.8290\n",
      "Epoch 22/100\n",
      "579/579 [==============================] - 0s - loss: 0.1232 - categorical_accuracy: 0.9879 - val_loss: 0.6461 - val_categorical_accuracy: 0.8187\n",
      "Epoch 23/100\n",
      "579/579 [==============================] - 0s - loss: 0.1151 - categorical_accuracy: 0.9896 - val_loss: 0.6303 - val_categorical_accuracy: 0.8238\n",
      "Epoch 24/100\n",
      "579/579 [==============================] - 0s - loss: 0.1034 - categorical_accuracy: 0.9845 - val_loss: 0.6124 - val_categorical_accuracy: 0.8342\n",
      "Epoch 25/100\n",
      "579/579 [==============================] - 0s - loss: 0.0922 - categorical_accuracy: 0.9896 - val_loss: 0.6129 - val_categorical_accuracy: 0.8290\n",
      "Epoch 26/100\n",
      "579/579 [==============================] - 0s - loss: 0.0809 - categorical_accuracy: 0.9965 - val_loss: 0.6244 - val_categorical_accuracy: 0.8238\n",
      "Epoch 27/100\n",
      "579/579 [==============================] - 0s - loss: 0.0768 - categorical_accuracy: 0.9931 - val_loss: 0.6060 - val_categorical_accuracy: 0.8290\n",
      "Epoch 28/100\n",
      "579/579 [==============================] - 0s - loss: 0.0656 - categorical_accuracy: 0.9948 - val_loss: 0.6062 - val_categorical_accuracy: 0.8394\n",
      "Epoch 29/100\n",
      "579/579 [==============================] - 0s - loss: 0.0592 - categorical_accuracy: 0.9965 - val_loss: 0.6689 - val_categorical_accuracy: 0.8238\n",
      "Epoch 30/100\n",
      "579/579 [==============================] - 0s - loss: 0.0590 - categorical_accuracy: 0.9965 - val_loss: 0.6115 - val_categorical_accuracy: 0.8394\n",
      "Epoch 31/100\n",
      "579/579 [==============================] - 0s - loss: 0.0539 - categorical_accuracy: 0.9983 - val_loss: 0.6346 - val_categorical_accuracy: 0.8342\n",
      "480/516 [==========================>...] - ETA: 0s"
     ]
    },
    {
     "data": {
      "text/plain": [
       "[0.74038098948870523, 0.77906976744186052]"
      ]
     },
     "execution_count": 42,
     "metadata": {},
     "output_type": "execute_result"
    }
   ],
   "source": [
    "model = Sequential()\n",
    "model.add(Conv2D(10, (5,5), input_shape=(50,37,1), padding='same'))\n",
    "\n",
    "model.add(Flatten())\n",
    "\n",
    "model.add(Dense(n_classes, activation='softmax'))\n",
    "\n",
    "model.compile(loss='categorical_crossentropy', optimizer='adam', metrics=['categorical_accuracy'])\n",
    "print(model.summary())\n",
    "\n",
    "early_stopping = EarlyStopping(patience=3, monitor='val_loss')\n",
    "model.fit(X_train, y_train, validation_split=0.25, epochs=100, callbacks=[early_stopping])\n",
    "model.evaluate(X_test, y_test)"
   ]
  },
  {
   "cell_type": "code",
   "execution_count": 43,
   "metadata": {
    "collapsed": true
   },
   "outputs": [],
   "source": [
    "# categorical_accuracy - accuracy na zbiorze treningowym\n",
    "# cval_ategorical_accuracy - accuracy na zbiorze testowym"
   ]
  },
  {
   "cell_type": "markdown",
   "metadata": {},
   "source": [
    "### Ćwiczenie 6. Badanie parametrów:\n",
    "\n",
    "Liczby filtrów: 3, 5, 10, 15, 30\n",
    "\n",
    "Wielkości filtrów: (3,3),(5,5),(10,10)"
   ]
  },
  {
   "cell_type": "code",
   "execution_count": 2,
   "metadata": {
    "collapsed": true
   },
   "outputs": [],
   "source": [
    "import h5py"
   ]
  },
  {
   "cell_type": "code",
   "execution_count": 51,
   "metadata": {
    "scrolled": true
   },
   "outputs": [
    {
     "ename": "ImportError",
     "evalue": "`save_model` requires h5py.",
     "output_type": "error",
     "traceback": [
      "\u001b[0;31m---------------------------------------------------------------------------\u001b[0m",
      "\u001b[0;31mImportError\u001b[0m                               Traceback (most recent call last)",
      "\u001b[0;32m<ipython-input-51-b467e278786d>\u001b[0m in \u001b[0;36m<module>\u001b[0;34m()\u001b[0m\n\u001b[1;32m     18\u001b[0m     \u001b[0mtake_best_model\u001b[0m \u001b[0;34m=\u001b[0m \u001b[0mModelCheckpoint\u001b[0m\u001b[0;34m(\u001b[0m\u001b[0;34m\"wagi.h5py\"\u001b[0m\u001b[0;34m,\u001b[0m \u001b[0msave_best_only\u001b[0m\u001b[0;34m=\u001b[0m\u001b[0;32mTrue\u001b[0m\u001b[0;34m)\u001b[0m\u001b[0;34m\u001b[0m\u001b[0m\n\u001b[1;32m     19\u001b[0m \u001b[0;34m\u001b[0m\u001b[0m\n\u001b[0;32m---> 20\u001b[0;31m     \u001b[0mmodel\u001b[0m\u001b[0;34m.\u001b[0m\u001b[0mfit\u001b[0m\u001b[0;34m(\u001b[0m\u001b[0mX_train\u001b[0m\u001b[0;34m,\u001b[0m \u001b[0my_train\u001b[0m\u001b[0;34m,\u001b[0m \u001b[0mverbose\u001b[0m\u001b[0;34m=\u001b[0m\u001b[0;36m0\u001b[0m\u001b[0;34m,\u001b[0m \u001b[0mvalidation_split\u001b[0m\u001b[0;34m=\u001b[0m\u001b[0;36m0.25\u001b[0m\u001b[0;34m,\u001b[0m \u001b[0mepochs\u001b[0m\u001b[0;34m=\u001b[0m\u001b[0;36m100\u001b[0m\u001b[0;34m,\u001b[0m \u001b[0mcallbacks\u001b[0m\u001b[0;34m=\u001b[0m\u001b[0;34m[\u001b[0m\u001b[0mearly_stopping\u001b[0m\u001b[0;34m,\u001b[0m \u001b[0mtake_best_model\u001b[0m\u001b[0;34m]\u001b[0m\u001b[0;34m,\u001b[0m \u001b[0mbatch_size\u001b[0m\u001b[0;34m=\u001b[0m\u001b[0;36m32\u001b[0m\u001b[0;34m)\u001b[0m\u001b[0;34m\u001b[0m\u001b[0m\n\u001b[0m\u001b[1;32m     21\u001b[0m \u001b[0;34m\u001b[0m\u001b[0m\n\u001b[1;32m     22\u001b[0m     \u001b[0mmodel\u001b[0m\u001b[0;34m.\u001b[0m\u001b[0mload_weights\u001b[0m\u001b[0;34m(\u001b[0m\u001b[0;34m\"wagi.h5py\"\u001b[0m\u001b[0;34m)\u001b[0m\u001b[0;34m\u001b[0m\u001b[0m\n",
      "\u001b[0;32m/Library/Frameworks/Python.framework/Versions/3.6/lib/python3.6/site-packages/keras/models.py\u001b[0m in \u001b[0;36mfit\u001b[0;34m(self, x, y, batch_size, epochs, verbose, callbacks, validation_split, validation_data, shuffle, class_weight, sample_weight, initial_epoch, **kwargs)\u001b[0m\n\u001b[1;32m    868\u001b[0m                               \u001b[0mclass_weight\u001b[0m\u001b[0;34m=\u001b[0m\u001b[0mclass_weight\u001b[0m\u001b[0;34m,\u001b[0m\u001b[0;34m\u001b[0m\u001b[0m\n\u001b[1;32m    869\u001b[0m                               \u001b[0msample_weight\u001b[0m\u001b[0;34m=\u001b[0m\u001b[0msample_weight\u001b[0m\u001b[0;34m,\u001b[0m\u001b[0;34m\u001b[0m\u001b[0m\n\u001b[0;32m--> 870\u001b[0;31m                               initial_epoch=initial_epoch)\n\u001b[0m\u001b[1;32m    871\u001b[0m \u001b[0;34m\u001b[0m\u001b[0m\n\u001b[1;32m    872\u001b[0m     def evaluate(self, x, y, batch_size=32, verbose=1,\n",
      "\u001b[0;32m/Library/Frameworks/Python.framework/Versions/3.6/lib/python3.6/site-packages/keras/engine/training.py\u001b[0m in \u001b[0;36mfit\u001b[0;34m(self, x, y, batch_size, epochs, verbose, callbacks, validation_split, validation_data, shuffle, class_weight, sample_weight, initial_epoch, **kwargs)\u001b[0m\n\u001b[1;32m   1505\u001b[0m                               \u001b[0mval_f\u001b[0m\u001b[0;34m=\u001b[0m\u001b[0mval_f\u001b[0m\u001b[0;34m,\u001b[0m \u001b[0mval_ins\u001b[0m\u001b[0;34m=\u001b[0m\u001b[0mval_ins\u001b[0m\u001b[0;34m,\u001b[0m \u001b[0mshuffle\u001b[0m\u001b[0;34m=\u001b[0m\u001b[0mshuffle\u001b[0m\u001b[0;34m,\u001b[0m\u001b[0;34m\u001b[0m\u001b[0m\n\u001b[1;32m   1506\u001b[0m                               \u001b[0mcallback_metrics\u001b[0m\u001b[0;34m=\u001b[0m\u001b[0mcallback_metrics\u001b[0m\u001b[0;34m,\u001b[0m\u001b[0;34m\u001b[0m\u001b[0m\n\u001b[0;32m-> 1507\u001b[0;31m                               initial_epoch=initial_epoch)\n\u001b[0m\u001b[1;32m   1508\u001b[0m \u001b[0;34m\u001b[0m\u001b[0m\n\u001b[1;32m   1509\u001b[0m     \u001b[0;32mdef\u001b[0m \u001b[0mevaluate\u001b[0m\u001b[0;34m(\u001b[0m\u001b[0mself\u001b[0m\u001b[0;34m,\u001b[0m \u001b[0mx\u001b[0m\u001b[0;34m,\u001b[0m \u001b[0my\u001b[0m\u001b[0;34m,\u001b[0m \u001b[0mbatch_size\u001b[0m\u001b[0;34m=\u001b[0m\u001b[0;36m32\u001b[0m\u001b[0;34m,\u001b[0m \u001b[0mverbose\u001b[0m\u001b[0;34m=\u001b[0m\u001b[0;36m1\u001b[0m\u001b[0;34m,\u001b[0m \u001b[0msample_weight\u001b[0m\u001b[0;34m=\u001b[0m\u001b[0;32mNone\u001b[0m\u001b[0;34m)\u001b[0m\u001b[0;34m:\u001b[0m\u001b[0;34m\u001b[0m\u001b[0m\n",
      "\u001b[0;32m/Library/Frameworks/Python.framework/Versions/3.6/lib/python3.6/site-packages/keras/engine/training.py\u001b[0m in \u001b[0;36m_fit_loop\u001b[0;34m(self, f, ins, out_labels, batch_size, epochs, verbose, callbacks, val_f, val_ins, shuffle, callback_metrics, initial_epoch)\u001b[0m\n\u001b[1;32m   1174\u001b[0m                         \u001b[0;32mfor\u001b[0m \u001b[0ml\u001b[0m\u001b[0;34m,\u001b[0m \u001b[0mo\u001b[0m \u001b[0;32min\u001b[0m \u001b[0mzip\u001b[0m\u001b[0;34m(\u001b[0m\u001b[0mout_labels\u001b[0m\u001b[0;34m,\u001b[0m \u001b[0mval_outs\u001b[0m\u001b[0;34m)\u001b[0m\u001b[0;34m:\u001b[0m\u001b[0;34m\u001b[0m\u001b[0m\n\u001b[1;32m   1175\u001b[0m                             \u001b[0mepoch_logs\u001b[0m\u001b[0;34m[\u001b[0m\u001b[0;34m'val_'\u001b[0m \u001b[0;34m+\u001b[0m \u001b[0ml\u001b[0m\u001b[0;34m]\u001b[0m \u001b[0;34m=\u001b[0m \u001b[0mo\u001b[0m\u001b[0;34m\u001b[0m\u001b[0m\n\u001b[0;32m-> 1176\u001b[0;31m             \u001b[0mcallbacks\u001b[0m\u001b[0;34m.\u001b[0m\u001b[0mon_epoch_end\u001b[0m\u001b[0;34m(\u001b[0m\u001b[0mepoch\u001b[0m\u001b[0;34m,\u001b[0m \u001b[0mepoch_logs\u001b[0m\u001b[0;34m)\u001b[0m\u001b[0;34m\u001b[0m\u001b[0m\n\u001b[0m\u001b[1;32m   1177\u001b[0m             \u001b[0;32mif\u001b[0m \u001b[0mcallback_model\u001b[0m\u001b[0;34m.\u001b[0m\u001b[0mstop_training\u001b[0m\u001b[0;34m:\u001b[0m\u001b[0;34m\u001b[0m\u001b[0m\n\u001b[1;32m   1178\u001b[0m                 \u001b[0;32mbreak\u001b[0m\u001b[0;34m\u001b[0m\u001b[0m\n",
      "\u001b[0;32m/Library/Frameworks/Python.framework/Versions/3.6/lib/python3.6/site-packages/keras/callbacks.py\u001b[0m in \u001b[0;36mon_epoch_end\u001b[0;34m(self, epoch, logs)\u001b[0m\n\u001b[1;32m     75\u001b[0m         \u001b[0mlogs\u001b[0m \u001b[0;34m=\u001b[0m \u001b[0mlogs\u001b[0m \u001b[0;32mor\u001b[0m \u001b[0;34m{\u001b[0m\u001b[0;34m}\u001b[0m\u001b[0;34m\u001b[0m\u001b[0m\n\u001b[1;32m     76\u001b[0m         \u001b[0;32mfor\u001b[0m \u001b[0mcallback\u001b[0m \u001b[0;32min\u001b[0m \u001b[0mself\u001b[0m\u001b[0;34m.\u001b[0m\u001b[0mcallbacks\u001b[0m\u001b[0;34m:\u001b[0m\u001b[0;34m\u001b[0m\u001b[0m\n\u001b[0;32m---> 77\u001b[0;31m             \u001b[0mcallback\u001b[0m\u001b[0;34m.\u001b[0m\u001b[0mon_epoch_end\u001b[0m\u001b[0;34m(\u001b[0m\u001b[0mepoch\u001b[0m\u001b[0;34m,\u001b[0m \u001b[0mlogs\u001b[0m\u001b[0;34m)\u001b[0m\u001b[0;34m\u001b[0m\u001b[0m\n\u001b[0m\u001b[1;32m     78\u001b[0m \u001b[0;34m\u001b[0m\u001b[0m\n\u001b[1;32m     79\u001b[0m     \u001b[0;32mdef\u001b[0m \u001b[0mon_batch_begin\u001b[0m\u001b[0;34m(\u001b[0m\u001b[0mself\u001b[0m\u001b[0;34m,\u001b[0m \u001b[0mbatch\u001b[0m\u001b[0;34m,\u001b[0m \u001b[0mlogs\u001b[0m\u001b[0;34m=\u001b[0m\u001b[0;32mNone\u001b[0m\u001b[0;34m)\u001b[0m\u001b[0;34m:\u001b[0m\u001b[0;34m\u001b[0m\u001b[0m\n",
      "\u001b[0;32m/Library/Frameworks/Python.framework/Versions/3.6/lib/python3.6/site-packages/keras/callbacks.py\u001b[0m in \u001b[0;36mon_epoch_end\u001b[0;34m(self, epoch, logs)\u001b[0m\n\u001b[1;32m    415\u001b[0m                             \u001b[0mself\u001b[0m\u001b[0;34m.\u001b[0m\u001b[0mmodel\u001b[0m\u001b[0;34m.\u001b[0m\u001b[0msave_weights\u001b[0m\u001b[0;34m(\u001b[0m\u001b[0mfilepath\u001b[0m\u001b[0;34m,\u001b[0m \u001b[0moverwrite\u001b[0m\u001b[0;34m=\u001b[0m\u001b[0;32mTrue\u001b[0m\u001b[0;34m)\u001b[0m\u001b[0;34m\u001b[0m\u001b[0m\n\u001b[1;32m    416\u001b[0m                         \u001b[0;32melse\u001b[0m\u001b[0;34m:\u001b[0m\u001b[0;34m\u001b[0m\u001b[0m\n\u001b[0;32m--> 417\u001b[0;31m                             \u001b[0mself\u001b[0m\u001b[0;34m.\u001b[0m\u001b[0mmodel\u001b[0m\u001b[0;34m.\u001b[0m\u001b[0msave\u001b[0m\u001b[0;34m(\u001b[0m\u001b[0mfilepath\u001b[0m\u001b[0;34m,\u001b[0m \u001b[0moverwrite\u001b[0m\u001b[0;34m=\u001b[0m\u001b[0;32mTrue\u001b[0m\u001b[0;34m)\u001b[0m\u001b[0;34m\u001b[0m\u001b[0m\n\u001b[0m\u001b[1;32m    418\u001b[0m                     \u001b[0;32melse\u001b[0m\u001b[0;34m:\u001b[0m\u001b[0;34m\u001b[0m\u001b[0m\n\u001b[1;32m    419\u001b[0m                         \u001b[0;32mif\u001b[0m \u001b[0mself\u001b[0m\u001b[0;34m.\u001b[0m\u001b[0mverbose\u001b[0m \u001b[0;34m>\u001b[0m \u001b[0;36m0\u001b[0m\u001b[0;34m:\u001b[0m\u001b[0;34m\u001b[0m\u001b[0m\n",
      "\u001b[0;32m/Library/Frameworks/Python.framework/Versions/3.6/lib/python3.6/site-packages/keras/engine/topology.py\u001b[0m in \u001b[0;36msave\u001b[0;34m(self, filepath, overwrite, include_optimizer)\u001b[0m\n\u001b[1;32m   2504\u001b[0m         \"\"\"\n\u001b[1;32m   2505\u001b[0m         \u001b[0;32mfrom\u001b[0m \u001b[0;34m.\u001b[0m\u001b[0;34m.\u001b[0m\u001b[0mmodels\u001b[0m \u001b[0;32mimport\u001b[0m \u001b[0msave_model\u001b[0m\u001b[0;34m\u001b[0m\u001b[0m\n\u001b[0;32m-> 2506\u001b[0;31m         \u001b[0msave_model\u001b[0m\u001b[0;34m(\u001b[0m\u001b[0mself\u001b[0m\u001b[0;34m,\u001b[0m \u001b[0mfilepath\u001b[0m\u001b[0;34m,\u001b[0m \u001b[0moverwrite\u001b[0m\u001b[0;34m,\u001b[0m \u001b[0minclude_optimizer\u001b[0m\u001b[0;34m)\u001b[0m\u001b[0;34m\u001b[0m\u001b[0m\n\u001b[0m\u001b[1;32m   2507\u001b[0m \u001b[0;34m\u001b[0m\u001b[0m\n\u001b[1;32m   2508\u001b[0m     \u001b[0;32mdef\u001b[0m \u001b[0msave_weights\u001b[0m\u001b[0;34m(\u001b[0m\u001b[0mself\u001b[0m\u001b[0;34m,\u001b[0m \u001b[0mfilepath\u001b[0m\u001b[0;34m,\u001b[0m \u001b[0moverwrite\u001b[0m\u001b[0;34m=\u001b[0m\u001b[0;32mTrue\u001b[0m\u001b[0;34m)\u001b[0m\u001b[0;34m:\u001b[0m\u001b[0;34m\u001b[0m\u001b[0m\n",
      "\u001b[0;32m/Library/Frameworks/Python.framework/Versions/3.6/lib/python3.6/site-packages/keras/models.py\u001b[0m in \u001b[0;36msave_model\u001b[0;34m(model, filepath, overwrite, include_optimizer)\u001b[0m\n\u001b[1;32m     53\u001b[0m \u001b[0;34m\u001b[0m\u001b[0m\n\u001b[1;32m     54\u001b[0m     \u001b[0;32mif\u001b[0m \u001b[0mh5py\u001b[0m \u001b[0;32mis\u001b[0m \u001b[0;32mNone\u001b[0m\u001b[0;34m:\u001b[0m\u001b[0;34m\u001b[0m\u001b[0m\n\u001b[0;32m---> 55\u001b[0;31m         \u001b[0;32mraise\u001b[0m \u001b[0mImportError\u001b[0m\u001b[0;34m(\u001b[0m\u001b[0;34m'`save_model` requires h5py.'\u001b[0m\u001b[0;34m)\u001b[0m\u001b[0;34m\u001b[0m\u001b[0m\n\u001b[0m\u001b[1;32m     56\u001b[0m \u001b[0;34m\u001b[0m\u001b[0m\n\u001b[1;32m     57\u001b[0m     \u001b[0;32mdef\u001b[0m \u001b[0mget_json_type\u001b[0m\u001b[0;34m(\u001b[0m\u001b[0mobj\u001b[0m\u001b[0;34m)\u001b[0m\u001b[0;34m:\u001b[0m\u001b[0;34m\u001b[0m\u001b[0m\n",
      "\u001b[0;31mImportError\u001b[0m: `save_model` requires h5py."
     ]
    }
   ],
   "source": [
    "N_filters = [10,15,30]\n",
    "C = [3,5,10]\n",
    "\n",
    "from itertools import product\n",
    "\n",
    "for n_filters, c in product(N_filters, C):\n",
    "    \n",
    "    model = Sequential()\n",
    "    model.add(Conv2D(n_filters, (c,c), input_shape=(50,37,1), padding='same'))\n",
    "\n",
    "    model.add(Flatten())\n",
    "\n",
    "    model.add(Dense(n_classes, activation='softmax'))\n",
    "\n",
    "    model.compile(loss='categorical_crossentropy', optimizer='adam', metrics=['categorical_accuracy'])\n",
    "\n",
    "    early_stopping = EarlyStopping(patience=3, monitor='val_loss')\n",
    "    take_best_model = ModelCheckpoint(\"wagi.h5py\", save_best_only=True)\n",
    "    \n",
    "    model.fit(X_train, y_train, verbose=0, validation_split=0.25, epochs=100, callbacks=[early_stopping, take_best_model], batch_size=32)\n",
    "    \n",
    "    model.load_weights(\"wagi.h5py\")\n",
    "    scores = model.evaluate(X_test, y_test, verbose=0)\n",
    "    os.remove(\"wagi.h5py\")\n",
    "    print(n_filters, c, ' Accuracy test: %.2f%%' % (scores[1]*100))"
   ]
  },
  {
   "cell_type": "markdown",
   "metadata": {},
   "source": [
    "### Ćwiczenie 7. MaxPooling, AveragePooling\n",
    "\n",
    "Przetestuj dodanie warstwy pooling po warstwie konwolucyjnej, dla konwolucji z najlepszymi parametrami."
   ]
  },
  {
   "cell_type": "code",
   "execution_count": null,
   "metadata": {},
   "outputs": [
    {
     "name": "stdout",
     "output_type": "stream",
     "text": [
      "_________________________________________________________________\n",
      "Layer (type)                 Output Shape              Param #   \n",
      "=================================================================\n",
      "conv2d_26 (Conv2D)           (None, 50, 37, 10)        260       \n",
      "_________________________________________________________________\n",
      "max_pooling2d_1 (MaxPooling2 (None, 25, 18, 10)        0         \n",
      "_________________________________________________________________\n",
      "flatten_39 (Flatten)         (None, 4500)              0         \n",
      "_________________________________________________________________\n",
      "dense_44 (Dense)             (None, 7)                 31507     \n",
      "=================================================================\n",
      "Total params: 31,767\n",
      "Trainable params: 31,767\n",
      "Non-trainable params: 0\n",
      "_________________________________________________________________\n",
      "None\n",
      "Train on 579 samples, validate on 193 samples\n",
      "Epoch 1/100\n",
      "579/579 [==============================] - 1s - loss: 1.7446 - categorical_accuracy: 0.3472 - val_loss: 1.6294 - val_categorical_accuracy: 0.4560\n",
      "Epoch 2/100\n",
      "579/579 [==============================] - 0s - loss: 1.6655 - categorical_accuracy: 0.4214 - val_loss: 1.5436 - val_categorical_accuracy: 0.4560\n",
      "Epoch 3/100\n",
      "579/579 [==============================] - 0s - loss: 1.5509 - categorical_accuracy: 0.4076 - val_loss: 1.5077 - val_categorical_accuracy: 0.4663\n",
      "Epoch 4/100\n",
      "579/579 [==============================] - 0s - loss: 1.4734 - categorical_accuracy: 0.4473 - val_loss: 1.4194 - val_categorical_accuracy: 0.5130\n",
      "Epoch 5/100\n",
      "579/579 [==============================] - 0s - loss: 1.3856 - categorical_accuracy: 0.5026 - val_loss: 1.3267 - val_categorical_accuracy: 0.5337\n",
      "Epoch 6/100\n",
      "579/579 [==============================] - 0s - loss: 1.2514 - categorical_accuracy: 0.5458 - val_loss: 1.2854 - val_categorical_accuracy: 0.6166\n",
      "Epoch 7/100\n",
      "579/579 [==============================] - 0s - loss: 1.1442 - categorical_accuracy: 0.6321 - val_loss: 1.1327 - val_categorical_accuracy: 0.5751\n",
      "Epoch 8/100\n",
      "579/579 [==============================] - 0s - loss: 1.0318 - categorical_accuracy: 0.6788 - val_loss: 1.1038 - val_categorical_accuracy: 0.6477\n",
      "Epoch 9/100\n",
      "579/579 [==============================] - 0s - loss: 0.9073 - categorical_accuracy: 0.7237 - val_loss: 0.9838 - val_categorical_accuracy: 0.6788\n",
      "Epoch 10/100\n",
      "579/579 [==============================] - 0s - loss: 0.8075 - categorical_accuracy: 0.7530 - val_loss: 0.9222 - val_categorical_accuracy: 0.7150\n",
      "Epoch 11/100\n",
      "579/579 [==============================] - 0s - loss: 0.7083 - categorical_accuracy: 0.8100 - val_loss: 0.8403 - val_categorical_accuracy: 0.7150\n",
      "Epoch 12/100\n",
      "579/579 [==============================] - 0s - loss: 0.6354 - categorical_accuracy: 0.8152 - val_loss: 0.7732 - val_categorical_accuracy: 0.7824\n",
      "Epoch 13/100\n",
      "579/579 [==============================] - 0s - loss: 0.5828 - categorical_accuracy: 0.8446 - val_loss: 0.7597 - val_categorical_accuracy: 0.7617\n",
      "Epoch 14/100\n",
      "579/579 [==============================] - 0s - loss: 0.5266 - categorical_accuracy: 0.8636 - val_loss: 0.7285 - val_categorical_accuracy: 0.7565\n",
      "Epoch 15/100\n",
      "579/579 [==============================] - 0s - loss: 0.4851 - categorical_accuracy: 0.8756 - val_loss: 0.6707 - val_categorical_accuracy: 0.7876\n",
      "Epoch 16/100\n",
      "579/579 [==============================] - 0s - loss: 0.4325 - categorical_accuracy: 0.8877 - val_loss: 0.7045 - val_categorical_accuracy: 0.7461\n",
      "Epoch 17/100\n",
      "579/579 [==============================] - 0s - loss: 0.3961 - categorical_accuracy: 0.9154 - val_loss: 0.6420 - val_categorical_accuracy: 0.7720\n",
      "Epoch 18/100\n",
      "579/579 [==============================] - 0s - loss: 0.3632 - categorical_accuracy: 0.9154 - val_loss: 0.6055 - val_categorical_accuracy: 0.7824\n",
      "Epoch 19/100\n",
      "579/579 [==============================] - 0s - loss: 0.3421 - categorical_accuracy: 0.9188 - val_loss: 0.5853 - val_categorical_accuracy: 0.8135\n",
      "Epoch 20/100\n",
      "579/579 [==============================] - 0s - loss: 0.3065 - categorical_accuracy: 0.9430 - val_loss: 0.6307 - val_categorical_accuracy: 0.7824\n",
      "Epoch 21/100\n",
      "579/579 [==============================] - 0s - loss: 0.2847 - categorical_accuracy: 0.9361 - val_loss: 0.5887 - val_categorical_accuracy: 0.8238\n",
      "Epoch 22/100\n",
      "579/579 [==============================] - 0s - loss: 0.2667 - categorical_accuracy: 0.9499 - val_loss: 0.5825 - val_categorical_accuracy: 0.8290\n",
      "Epoch 23/100\n",
      "579/579 [==============================] - 0s - loss: 0.2411 - categorical_accuracy: 0.9534 - val_loss: 0.5301 - val_categorical_accuracy: 0.8238\n",
      "Epoch 24/100\n",
      "579/579 [==============================] - 0s - loss: 0.2392 - categorical_accuracy: 0.9482 - val_loss: 0.5456 - val_categorical_accuracy: 0.8497\n",
      "Epoch 25/100\n",
      "579/579 [==============================] - 0s - loss: 0.2182 - categorical_accuracy: 0.9603 - val_loss: 0.5385 - val_categorical_accuracy: 0.8497\n",
      "Epoch 26/100\n",
      "579/579 [==============================] - 0s - loss: 0.1905 - categorical_accuracy: 0.9672 - val_loss: 0.5225 - val_categorical_accuracy: 0.8342\n",
      "Epoch 27/100\n",
      "579/579 [==============================] - 0s - loss: 0.1788 - categorical_accuracy: 0.9724 - val_loss: 0.5361 - val_categorical_accuracy: 0.8601\n",
      "Epoch 28/100\n",
      "579/579 [==============================] - 0s - loss: 0.1798 - categorical_accuracy: 0.9672 - val_loss: 0.5007 - val_categorical_accuracy: 0.8394\n",
      "Epoch 29/100\n",
      "579/579 [==============================] - 0s - loss: 0.1974 - categorical_accuracy: 0.9603 - val_loss: 0.5466 - val_categorical_accuracy: 0.8238\n",
      "Epoch 30/100\n",
      "579/579 [==============================] - 0s - loss: 0.1674 - categorical_accuracy: 0.9706 - val_loss: 0.5387 - val_categorical_accuracy: 0.8497\n",
      "Epoch 31/100\n",
      "579/579 [==============================] - 0s - loss: 0.1584 - categorical_accuracy: 0.9689 - val_loss: 0.5135 - val_categorical_accuracy: 0.8549\n",
      "Epoch 32/100\n",
      "579/579 [==============================] - 0s - loss: 0.1341 - categorical_accuracy: 0.9862 - val_loss: 0.5099 - val_categorical_accuracy: 0.8653\n",
      "512/516 [============================>.] - ETA: 0s_________________________________________________________________\n",
      "Layer (type)                 Output Shape              Param #   \n",
      "=================================================================\n",
      "conv2d_27 (Conv2D)           (None, 50, 37, 10)        260       \n",
      "_________________________________________________________________\n",
      "max_pooling2d_2 (MaxPooling2 (None, 12, 9, 10)         0         \n",
      "_________________________________________________________________\n",
      "flatten_40 (Flatten)         (None, 1080)              0         \n",
      "_________________________________________________________________\n",
      "dense_45 (Dense)             (None, 7)                 7567      \n",
      "=================================================================\n",
      "Total params: 7,827\n",
      "Trainable params: 7,827\n",
      "Non-trainable params: 0\n",
      "_________________________________________________________________\n",
      "None\n",
      "Train on 579 samples, validate on 193 samples\n",
      "Epoch 1/100\n",
      "579/579 [==============================] - 1s - loss: 1.8000 - categorical_accuracy: 0.3472 - val_loss: 1.7055 - val_categorical_accuracy: 0.4560\n",
      "Epoch 2/100\n",
      "579/579 [==============================] - 0s - loss: 1.6954 - categorical_accuracy: 0.3834 - val_loss: 1.6176 - val_categorical_accuracy: 0.4560\n",
      "Epoch 3/100\n",
      "579/579 [==============================] - 0s - loss: 1.6852 - categorical_accuracy: 0.3834 - val_loss: 1.6537 - val_categorical_accuracy: 0.4560\n",
      "Epoch 4/100\n",
      "579/579 [==============================] - 0s - loss: 1.6452 - categorical_accuracy: 0.3834 - val_loss: 1.5826 - val_categorical_accuracy: 0.4560\n",
      "Epoch 5/100\n",
      "579/579 [==============================] - 0s - loss: 1.6253 - categorical_accuracy: 0.3834 - val_loss: 1.5758 - val_categorical_accuracy: 0.4560\n",
      "Epoch 6/100\n",
      "579/579 [==============================] - 0s - loss: 1.5942 - categorical_accuracy: 0.3921 - val_loss: 1.5398 - val_categorical_accuracy: 0.4560\n",
      "Epoch 7/100\n",
      "579/579 [==============================] - 0s - loss: 1.5688 - categorical_accuracy: 0.3903 - val_loss: 1.5338 - val_categorical_accuracy: 0.4974\n",
      "Epoch 8/100\n",
      "579/579 [==============================] - 0s - loss: 1.5404 - categorical_accuracy: 0.4680 - val_loss: 1.5057 - val_categorical_accuracy: 0.4560\n",
      "Epoch 9/100\n",
      "579/579 [==============================] - 0s - loss: 1.5326 - categorical_accuracy: 0.4266 - val_loss: 1.5113 - val_categorical_accuracy: 0.5181\n",
      "Epoch 10/100\n",
      "579/579 [==============================] - 0s - loss: 1.4604 - categorical_accuracy: 0.4698 - val_loss: 1.4523 - val_categorical_accuracy: 0.5078\n",
      "Epoch 11/100\n",
      "579/579 [==============================] - 0s - loss: 1.4062 - categorical_accuracy: 0.4888 - val_loss: 1.3972 - val_categorical_accuracy: 0.5130\n",
      "Epoch 12/100\n",
      "579/579 [==============================] - 0s - loss: 1.3393 - categorical_accuracy: 0.5320 - val_loss: 1.3843 - val_categorical_accuracy: 0.5596\n",
      "Epoch 13/100\n",
      "579/579 [==============================] - 0s - loss: 1.2940 - categorical_accuracy: 0.5699 - val_loss: 1.3135 - val_categorical_accuracy: 0.5337\n",
      "Epoch 14/100\n",
      "579/579 [==============================] - 0s - loss: 1.2619 - categorical_accuracy: 0.5458 - val_loss: 1.2473 - val_categorical_accuracy: 0.5803\n",
      "Epoch 15/100\n",
      "579/579 [==============================] - 0s - loss: 1.1905 - categorical_accuracy: 0.5803 - val_loss: 1.2048 - val_categorical_accuracy: 0.5855\n",
      "Epoch 16/100\n",
      "579/579 [==============================] - 0s - loss: 1.1134 - categorical_accuracy: 0.6166 - val_loss: 1.2175 - val_categorical_accuracy: 0.6528\n",
      "Epoch 17/100\n",
      "579/579 [==============================] - 0s - loss: 1.0693 - categorical_accuracy: 0.6753 - val_loss: 1.1617 - val_categorical_accuracy: 0.6425\n",
      "Epoch 18/100\n",
      "579/579 [==============================] - 0s - loss: 0.9951 - categorical_accuracy: 0.6857 - val_loss: 1.1043 - val_categorical_accuracy: 0.6269\n",
      "Epoch 19/100\n",
      "579/579 [==============================] - 0s - loss: 0.9575 - categorical_accuracy: 0.7081 - val_loss: 1.0448 - val_categorical_accuracy: 0.6736\n",
      "Epoch 20/100\n",
      "579/579 [==============================] - 0s - loss: 0.9095 - categorical_accuracy: 0.7081 - val_loss: 0.9786 - val_categorical_accuracy: 0.7047\n",
      "Epoch 21/100\n",
      "579/579 [==============================] - 0s - loss: 0.8686 - categorical_accuracy: 0.7150 - val_loss: 0.9796 - val_categorical_accuracy: 0.6684\n",
      "Epoch 22/100\n",
      "579/579 [==============================] - 0s - loss: 0.7853 - categorical_accuracy: 0.7530 - val_loss: 0.8989 - val_categorical_accuracy: 0.7047\n",
      "Epoch 23/100\n",
      "579/579 [==============================] - 0s - loss: 0.7684 - categorical_accuracy: 0.7807 - val_loss: 0.8659 - val_categorical_accuracy: 0.6943\n",
      "Epoch 24/100\n",
      "579/579 [==============================] - 0s - loss: 0.7507 - categorical_accuracy: 0.7651 - val_loss: 0.8493 - val_categorical_accuracy: 0.7254\n",
      "Epoch 25/100\n",
      "579/579 [==============================] - 0s - loss: 0.6814 - categorical_accuracy: 0.7841 - val_loss: 0.8387 - val_categorical_accuracy: 0.7202\n",
      "Epoch 26/100\n",
      "579/579 [==============================] - 0s - loss: 0.6474 - categorical_accuracy: 0.8100 - val_loss: 0.7714 - val_categorical_accuracy: 0.7202\n",
      "Epoch 27/100\n",
      "579/579 [==============================] - 0s - loss: 0.6656 - categorical_accuracy: 0.8014 - val_loss: 0.7808 - val_categorical_accuracy: 0.7409\n",
      "Epoch 28/100\n",
      "579/579 [==============================] - 0s - loss: 0.6277 - categorical_accuracy: 0.8273 - val_loss: 0.8724 - val_categorical_accuracy: 0.7409\n",
      "Epoch 29/100\n",
      "579/579 [==============================] - 0s - loss: 0.5719 - categorical_accuracy: 0.8463 - val_loss: 0.6848 - val_categorical_accuracy: 0.7927\n",
      "Epoch 30/100\n",
      "579/579 [==============================] - 0s - loss: 0.5311 - categorical_accuracy: 0.8687 - val_loss: 0.6765 - val_categorical_accuracy: 0.7720\n",
      "Epoch 31/100\n",
      "579/579 [==============================] - 1s - loss: 0.5027 - categorical_accuracy: 0.8653 - val_loss: 0.7053 - val_categorical_accuracy: 0.7617\n",
      "Epoch 32/100\n",
      "579/579 [==============================] - 0s - loss: 0.5516 - categorical_accuracy: 0.8307 - val_loss: 0.6540 - val_categorical_accuracy: 0.8083\n",
      "Epoch 33/100\n",
      "579/579 [==============================] - 0s - loss: 0.4773 - categorical_accuracy: 0.8791 - val_loss: 0.6257 - val_categorical_accuracy: 0.7824\n",
      "Epoch 34/100\n",
      "579/579 [==============================] - 0s - loss: 0.4725 - categorical_accuracy: 0.8808 - val_loss: 0.6068 - val_categorical_accuracy: 0.7979\n",
      "Epoch 35/100\n",
      "579/579 [==============================] - 0s - loss: 0.4429 - categorical_accuracy: 0.8929 - val_loss: 0.6073 - val_categorical_accuracy: 0.7927\n",
      "Epoch 36/100\n",
      "579/579 [==============================] - 0s - loss: 0.4269 - categorical_accuracy: 0.8843 - val_loss: 0.5766 - val_categorical_accuracy: 0.8083\n",
      "Epoch 37/100\n",
      "579/579 [==============================] - 0s - loss: 0.4011 - categorical_accuracy: 0.9033 - val_loss: 0.6121 - val_categorical_accuracy: 0.7876\n",
      "Epoch 38/100\n",
      "579/579 [==============================] - 1s - loss: 0.3865 - categorical_accuracy: 0.9016 - val_loss: 0.5867 - val_categorical_accuracy: 0.7876\n",
      "Epoch 39/100\n",
      "579/579 [==============================] - 1s - loss: 0.3805 - categorical_accuracy: 0.9206 - val_loss: 0.5465 - val_categorical_accuracy: 0.8031\n",
      "Epoch 40/100\n",
      "579/579 [==============================] - 0s - loss: 0.3699 - categorical_accuracy: 0.8998 - val_loss: 0.5417 - val_categorical_accuracy: 0.8290\n",
      "Epoch 41/100\n",
      "579/579 [==============================] - 0s - loss: 0.3746 - categorical_accuracy: 0.9033 - val_loss: 0.5609 - val_categorical_accuracy: 0.8238\n",
      "Epoch 42/100\n",
      "579/579 [==============================] - 0s - loss: 0.3544 - categorical_accuracy: 0.9154 - val_loss: 0.6339 - val_categorical_accuracy: 0.7979\n",
      "Epoch 43/100\n",
      "579/579 [==============================] - 0s - loss: 0.3387 - categorical_accuracy: 0.9136 - val_loss: 0.5205 - val_categorical_accuracy: 0.8187\n",
      "Epoch 44/100\n",
      "579/579 [==============================] - 0s - loss: 0.3247 - categorical_accuracy: 0.9275 - val_loss: 0.5282 - val_categorical_accuracy: 0.8497\n",
      "Epoch 45/100\n",
      "579/579 [==============================] - 0s - loss: 0.3119 - categorical_accuracy: 0.9413 - val_loss: 0.5082 - val_categorical_accuracy: 0.8446\n",
      "Epoch 46/100\n",
      "579/579 [==============================] - 0s - loss: 0.2914 - categorical_accuracy: 0.9413 - val_loss: 0.5350 - val_categorical_accuracy: 0.8446\n",
      "Epoch 47/100\n",
      "579/579 [==============================] - 0s - loss: 0.2825 - categorical_accuracy: 0.9413 - val_loss: 0.5016 - val_categorical_accuracy: 0.8394\n",
      "Epoch 48/100\n",
      "579/579 [==============================] - 0s - loss: 0.3005 - categorical_accuracy: 0.9257 - val_loss: 0.5532 - val_categorical_accuracy: 0.8187\n",
      "Epoch 49/100\n",
      "579/579 [==============================] - 0s - loss: 0.2810 - categorical_accuracy: 0.9378 - val_loss: 0.5429 - val_categorical_accuracy: 0.8031\n",
      "Epoch 50/100\n",
      "579/579 [==============================] - 0s - loss: 0.2628 - categorical_accuracy: 0.9413 - val_loss: 0.4881 - val_categorical_accuracy: 0.8238\n",
      "Epoch 51/100\n",
      "579/579 [==============================] - 0s - loss: 0.2616 - categorical_accuracy: 0.9361 - val_loss: 0.5173 - val_categorical_accuracy: 0.8290\n",
      "Epoch 52/100\n",
      "579/579 [==============================] - 0s - loss: 0.2548 - categorical_accuracy: 0.9534 - val_loss: 0.4856 - val_categorical_accuracy: 0.8601\n",
      "Epoch 53/100\n",
      "579/579 [==============================] - 0s - loss: 0.2488 - categorical_accuracy: 0.9499 - val_loss: 0.4777 - val_categorical_accuracy: 0.8187\n",
      "Epoch 54/100\n",
      "579/579 [==============================] - 0s - loss: 0.2376 - categorical_accuracy: 0.9482 - val_loss: 0.4747 - val_categorical_accuracy: 0.8135\n",
      "Epoch 55/100\n",
      "579/579 [==============================] - 0s - loss: 0.2292 - categorical_accuracy: 0.9516 - val_loss: 0.4917 - val_categorical_accuracy: 0.8187\n",
      "Epoch 56/100\n",
      "579/579 [==============================] - 0s - loss: 0.2323 - categorical_accuracy: 0.9447 - val_loss: 0.5610 - val_categorical_accuracy: 0.8187\n",
      "Epoch 57/100\n",
      "579/579 [==============================] - 0s - loss: 0.2152 - categorical_accuracy: 0.9603 - val_loss: 0.4701 - val_categorical_accuracy: 0.8290\n",
      "Epoch 58/100\n",
      "579/579 [==============================] - 0s - loss: 0.2118 - categorical_accuracy: 0.9499 - val_loss: 0.4943 - val_categorical_accuracy: 0.8135\n",
      "Epoch 59/100\n"
     ]
    },
    {
     "name": "stdout",
     "output_type": "stream",
     "text": [
      "579/579 [==============================] - 0s - loss: 0.2118 - categorical_accuracy: 0.9551 - val_loss: 0.4495 - val_categorical_accuracy: 0.8601\n",
      "Epoch 60/100\n",
      "579/579 [==============================] - 0s - loss: 0.2067 - categorical_accuracy: 0.9585 - val_loss: 0.4915 - val_categorical_accuracy: 0.8549\n",
      "Epoch 61/100\n",
      "579/579 [==============================] - 0s - loss: 0.2070 - categorical_accuracy: 0.9534 - val_loss: 0.5874 - val_categorical_accuracy: 0.8083\n",
      "Epoch 62/100\n",
      "579/579 [==============================] - 0s - loss: 0.2257 - categorical_accuracy: 0.9447 - val_loss: 0.4555 - val_categorical_accuracy: 0.8653\n",
      "Epoch 63/100\n",
      "579/579 [==============================] - 1s - loss: 0.1859 - categorical_accuracy: 0.9637 - val_loss: 0.4390 - val_categorical_accuracy: 0.8705\n",
      "Epoch 64/100\n",
      "579/579 [==============================] - 0s - loss: 0.1724 - categorical_accuracy: 0.9741 - val_loss: 0.4422 - val_categorical_accuracy: 0.8446\n",
      "Epoch 65/100\n",
      "579/579 [==============================] - 0s - loss: 0.1782 - categorical_accuracy: 0.9672 - val_loss: 0.5154 - val_categorical_accuracy: 0.8238\n",
      "Epoch 66/100\n",
      " 32/579 [>.............................] - ETA: 0s - loss: 0.2030 - categorical_accuracy: 0.9375"
     ]
    }
   ],
   "source": [
    "for pooling in [MaxPooling2D(pool_size=(2,2)), \n",
    "               MaxPooling2D(pool_size=(4,4)), \n",
    "               MaxPooling2D(pool_size=(6,6)), \n",
    "               AveragePooling2D(pool_size=(2,2)), \n",
    "               AveragePooling2D(pool_size=(4,4))]:\n",
    "\n",
    "    model = Sequential()\n",
    "    model.add(Conv2D(10, (5,5), input_shape=(50,37,1), padding='same'))\n",
    "    model.add(pooling)\n",
    "    model.add(Flatten())\n",
    "\n",
    "    model.add(Dense(n_classes, activation='softmax'))\n",
    "\n",
    "    model.compile(loss='categorical_crossentropy', optimizer='adam', metrics=['categorical_accuracy'])\n",
    "    print(model.summary())\n",
    "\n",
    "    early_stopping = EarlyStopping(patience=3, monitor='val_loss')\n",
    "    model.fit(X_train, y_train, validation_split=0.25, epochs=100, callbacks=[early_stopping])\n",
    "    model.evaluate(X_test, y_test)"
   ]
  },
  {
   "cell_type": "markdown",
   "metadata": {},
   "source": [
    "### Ćwiczenie 8. [Ten krok trwa kilkanaście minut!]\n",
    "\n",
    "Przetestuj liczbę filtrów, ich rozmiary i rozmiar okna pooling jednoczesnie."
   ]
  },
  {
   "cell_type": "code",
   "execution_count": null,
   "metadata": {
    "collapsed": true,
    "scrolled": true
   },
   "outputs": [],
   "source": [
    "N_filters = [15,30,40]\n",
    "C = [3,5,7,10]\n",
    "P = [2,4,6]\n",
    "\n",
    "\n",
    "for n_filters, c, p in product(N_filters, C, P):\n",
    "\n",
    "    "
   ]
  },
  {
   "cell_type": "markdown",
   "metadata": {},
   "source": [
    "### Ćwiczenie 9.\n",
    "\n",
    "Weź najlepszą sieć z poprzedniego kroku. Przetestuj dodanie warstwy dense, między poolingiem, a outputem.\n",
    "\n",
    "Rozważ wymiary stanu ukrytego: 10, 30, 50."
   ]
  },
  {
   "cell_type": "code",
   "execution_count": null,
   "metadata": {
    "collapsed": true
   },
   "outputs": [],
   "source": []
  },
  {
   "cell_type": "markdown",
   "metadata": {},
   "source": [
    "### Ćwiczenie 10. Dwie warstwy konwolucyjne.\n",
    "\n",
    "Zamiast warstwy dense dodanej w poprzednim kroku, wstaw warstwę konwolucyjną. Rozważ 5, 10, i 15 filtrów wymiarów 3x3, 5x5, 10x10."
   ]
  },
  {
   "cell_type": "code",
   "execution_count": null,
   "metadata": {
    "collapsed": true
   },
   "outputs": [],
   "source": []
  },
  {
   "cell_type": "markdown",
   "metadata": {},
   "source": [
    "### Ćwiczenie 11. \n",
    "\n",
    "Przetestuj dodanie do porzedniej sieci max pooling'u po drugiej warstwie konwolucyjnej, z poolsize równym (2,2) i strides równymi (1,1), (2,2). \n",
    "\n",
    "Pytanie na marginesie: czy strides równe (3,3), gdy poolsize = (2,2) ma sens?."
   ]
  },
  {
   "cell_type": "code",
   "execution_count": null,
   "metadata": {
    "collapsed": true
   },
   "outputs": [],
   "source": []
  },
  {
   "cell_type": "markdown",
   "metadata": {},
   "source": [
    "### Ćwiczenie 13.\n",
    "\n",
    "Przetestuj ograniczenie normy filtra kernel_constraint=maxnorm(k) dla k równego 1,2,3,5,7,10,15,20,30."
   ]
  },
  {
   "cell_type": "code",
   "execution_count": null,
   "metadata": {
    "collapsed": true
   },
   "outputs": [],
   "source": []
  },
  {
   "cell_type": "markdown",
   "metadata": {},
   "source": [
    "### Ćwiczenie 13.\n",
    "\n",
    "Dla najlepszej sieci przetestuj wielkości batcha: 1,5,10,15,20,30."
   ]
  },
  {
   "cell_type": "code",
   "execution_count": null,
   "metadata": {
    "collapsed": true
   },
   "outputs": [],
   "source": []
  },
  {
   "cell_type": "markdown",
   "metadata": {
    "collapsed": true
   },
   "source": [
    "# Obrazki 3D (kolorowe - RGB)"
   ]
  },
  {
   "cell_type": "code",
   "execution_count": 20,
   "metadata": {
    "scrolled": true
   },
   "outputs": [
    {
     "name": "stdout",
     "output_type": "stream",
     "text": [
      "(7000, 32, 32, 3)\n",
      "(4000, 32, 32, 3)\n",
      "(array([0, 1, 2, 3], dtype=uint8), array([1738, 1733, 1779, 1750]))\n",
      "[[[170 180 198]\n",
      "  [168 178 196]\n",
      "  [177 185 203]\n",
      "  ..., \n",
      "  [162 179 215]\n",
      "  [158 178 214]\n",
      "  [157 177 212]]\n",
      "\n",
      " [[168 181 198]\n",
      "  [172 185 201]\n",
      "  [171 183 200]\n",
      "  ..., \n",
      "  [159 177 212]\n",
      "  [156 176 211]\n",
      "  [154 174 209]]\n",
      "\n",
      " [[154 170 186]\n",
      "  [149 165 181]\n",
      "  [129 144 162]\n",
      "  ..., \n",
      "  [161 178 214]\n",
      "  [157 177 212]\n",
      "  [154 174 209]]\n",
      "\n",
      " ..., \n",
      " [[ 74  84  80]\n",
      "  [ 76  85  81]\n",
      "  [ 78  85  82]\n",
      "  ..., \n",
      "  [ 71  75  78]\n",
      "  [ 68  72  75]\n",
      "  [ 61  65  68]]\n",
      "\n",
      " [[ 68  76  77]\n",
      "  [ 69  77  78]\n",
      "  [ 72  79  78]\n",
      "  ..., \n",
      "  [ 76  80  83]\n",
      "  [ 71  75  78]\n",
      "  [ 71  75  78]]\n",
      "\n",
      " [[ 67  75  78]\n",
      "  [ 68  76  79]\n",
      "  [ 69  75  76]\n",
      "  ..., \n",
      "  [ 75  79  82]\n",
      "  [ 71  75  78]\n",
      "  [ 73  77  80]]]\n"
     ]
    },
    {
     "data": {
      "image/png": "[encoded data removed]",
      "text/plain": [
       "<matplotlib.figure.Figure at 0x118e8df98>"
      ]
     },
     "metadata": {},
     "output_type": "display_data"
    }
   ],
   "source": [
    "from keras.datasets import cifar10\n",
    "from scipy.misc import toimage\n",
    "import matplotlib.pyplot as pyplot\n",
    "\n",
    "import numpy as np\n",
    "\n",
    "# load data\n",
    "(X_train, y_train), (X_test, y_test) = cifar10.load_data()\n",
    "\n",
    "nb_classes = 4\n",
    "n_samples = 7000\n",
    "\n",
    "X_train, y_train = X_train[np.where(y_train<nb_classes)[0]][:n_samples], y_train[np.where(y_train<nb_classes)[0]][:n_samples]\n",
    "X_test, y_test = X_test[np.where(y_test<nb_classes)[0]], y_test[np.where(y_test<nb_classes)[0]]\n",
    "\n",
    "print(X_train.shape)\n",
    "print(X_test.shape)\n",
    "print(np.unique(y_train,return_counts=True))\n",
    "print(X_train[0])\n",
    "\n",
    "# create a grid of 3x3 images\n",
    "for i in range(0, 9):\n",
    "    pyplot.subplot(330 + 1 + i)\n",
    "    pyplot.imshow(toimage(X_train[i]))\n",
    "# show the plot\n",
    "pyplot.show()"
   ]
  },
  {
   "cell_type": "code",
   "execution_count": 30,
   "metadata": {
    "scrolled": true
   },
   "outputs": [],
   "source": [
    "y_train = pd.get_dummies(y_train.ravel()).values"
   ]
  },
  {
   "cell_type": "code",
   "execution_count": 31,
   "metadata": {
    "collapsed": true
   },
   "outputs": [],
   "source": [
    "y_test = pd.get_dummies(y_test.ravel()).values"
   ]
  },
  {
   "cell_type": "code",
   "execution_count": 35,
   "metadata": {},
   "outputs": [],
   "source": [
    "X_train = X_train / 255"
   ]
  },
  {
   "cell_type": "code",
   "execution_count": 42,
   "metadata": {},
   "outputs": [
    {
     "data": {
      "text/plain": [
       "((7000, 4), (4000, 4), (7000, 32, 32, 3))"
      ]
     },
     "execution_count": 42,
     "metadata": {},
     "output_type": "execute_result"
    }
   ],
   "source": [
    "y_train.shape, y_test.shape, X_train.shape"
   ]
  },
  {
   "cell_type": "markdown",
   "metadata": {},
   "source": [
    "### Zadanie 1. Zbuduj jednowarstwową siec konwolucyjną z maxpoolingiem.\n",
    "\n",
    "Liczba filtrów: 32; rozmiar filtra: 5x5.\n",
    "\n",
    "Uwaga: między warstwą pooling a warstwą wyjściową należy dodać warstwę \"Flatten\"."
   ]
  },
  {
   "cell_type": "code",
   "execution_count": null,
   "metadata": {
    "collapsed": true
   },
   "outputs": [],
   "source": []
  },
  {
   "cell_type": "markdown",
   "metadata": {},
   "source": [
    "### Zadanie 2. Dodaj warstwę dense między poolingiem a wyjściem.\n",
    "\n",
    "Rozpatrz rozmiary tej warstwy: 100, 250, 500"
   ]
  },
  {
   "cell_type": "code",
   "execution_count": null,
   "metadata": {
    "collapsed": true
   },
   "outputs": [],
   "source": []
  },
  {
   "cell_type": "markdown",
   "metadata": {},
   "source": [
    "### Zadanie 3. Zbadaj dwuwarstwową się conwolucyjną\n",
    "\n",
    "Max pooling tylko po pierwszej konwolucji"
   ]
  },
  {
   "cell_type": "code",
   "execution_count": null,
   "metadata": {
    "collapsed": true
   },
   "outputs": [],
   "source": []
  },
  {
   "cell_type": "markdown",
   "metadata": {},
   "source": [
    "### Zadanie 4. Zbadaj dwuwarstwową się conwolucyjną\n",
    "\n",
    "Max pooling po obu warstwach konwolucyjnych."
   ]
  },
  {
   "cell_type": "code",
   "execution_count": null,
   "metadata": {
    "collapsed": true
   },
   "outputs": [],
   "source": []
  },
  {
   "cell_type": "markdown",
   "metadata": {},
   "source": [
    "### Zadanie 5. Do poprzedniej sieci wstaw regularyzację dropout na obu warstwach konwolucyjnych.\n",
    "\n",
    "Rozważ poziomy 0.2 i 0.5."
   ]
  },
  {
   "cell_type": "code",
   "execution_count": null,
   "metadata": {
    "collapsed": true
   },
   "outputs": [],
   "source": []
  },
  {
   "cell_type": "markdown",
   "metadata": {},
   "source": [
    "### Zadanie 6. Zbudować i przetestować sieć przestawioną na rysunku (ta sama struktura, te same parametry):\n",
    "\n",
    "<img src=\"https://adeshpande3.github.io/assets/LeNet.png\" width=\"700\">\n",
    "Źródło: https://adeshpande3.github.io/assets/LeNet.png\n"
   ]
  },
  {
   "cell_type": "code",
   "execution_count": 63,
   "metadata": {
    "scrolled": true
   },
   "outputs": [
    {
     "name": "stdout",
     "output_type": "stream",
     "text": [
      "_________________________________________________________________\n",
      "Layer (type)                 Output Shape              Param #   \n",
      "=================================================================\n",
      "conv2d_38 (Conv2D)           (None, 28, 28, 6)         456       \n",
      "_________________________________________________________________\n",
      "max_pooling2d_25 (MaxPooling (None, 14, 14, 6)         0         \n",
      "_________________________________________________________________\n",
      "conv2d_39 (Conv2D)           (None, 10, 10, 16)        2416      \n",
      "_________________________________________________________________\n",
      "max_pooling2d_26 (MaxPooling (None, 5, 5, 16)          0         \n",
      "_________________________________________________________________\n",
      "flatten_21 (Flatten)         (None, 400)               0         \n",
      "_________________________________________________________________\n",
      "dense_31 (Dense)             (None, 120)               48120     \n",
      "_________________________________________________________________\n",
      "dense_32 (Dense)             (None, 84)                10164     \n",
      "_________________________________________________________________\n",
      "dense_33 (Dense)             (None, 4)                 340       \n",
      "=================================================================\n",
      "Total params: 61,496\n",
      "Trainable params: 61,496\n",
      "Non-trainable params: 0\n",
      "_________________________________________________________________\n",
      "None\n",
      "Train on 5250 samples, validate on 1750 samples\n",
      "Epoch 1/100\n",
      "5250/5250 [==============================] - 9s - loss: 1.1850 - categorical_accuracy: 0.4636 - val_loss: 1.0165 - val_categorical_accuracy: 0.5783\n",
      "Epoch 2/100\n",
      "5250/5250 [==============================] - 7s - loss: 0.9548 - categorical_accuracy: 0.6059 - val_loss: 0.8970 - val_categorical_accuracy: 0.6406\n",
      "Epoch 3/100\n",
      "5250/5250 [==============================] - 7s - loss: 0.8472 - categorical_accuracy: 0.6598 - val_loss: 0.8674 - val_categorical_accuracy: 0.6309\n",
      "Epoch 4/100\n",
      "5250/5250 [==============================] - 7s - loss: 0.8039 - categorical_accuracy: 0.6825 - val_loss: 0.8555 - val_categorical_accuracy: 0.6554\n",
      "Epoch 5/100\n",
      "5250/5250 [==============================] - 8s - loss: 0.7487 - categorical_accuracy: 0.7015 - val_loss: 0.8697 - val_categorical_accuracy: 0.6320\n",
      "Epoch 6/100\n",
      "5250/5250 [==============================] - 8s - loss: 0.7289 - categorical_accuracy: 0.7063 - val_loss: 0.8795 - val_categorical_accuracy: 0.6331\n",
      "Epoch 7/100\n",
      "5250/5250 [==============================] - 8s - loss: 0.6939 - categorical_accuracy: 0.7217 - val_loss: 0.7503 - val_categorical_accuracy: 0.6891\n",
      "Epoch 8/100\n",
      "5250/5250 [==============================] - 8s - loss: 0.6567 - categorical_accuracy: 0.7469 - val_loss: 0.7096 - val_categorical_accuracy: 0.7143\n",
      "Epoch 9/100\n",
      "5250/5250 [==============================] - 8s - loss: 0.6111 - categorical_accuracy: 0.7648 - val_loss: 0.6998 - val_categorical_accuracy: 0.7120\n",
      "Epoch 10/100\n",
      "5250/5250 [==============================] - 8s - loss: 0.5832 - categorical_accuracy: 0.7743 - val_loss: 0.6907 - val_categorical_accuracy: 0.7234\n",
      "Epoch 11/100\n",
      "5250/5250 [==============================] - 8s - loss: 0.5476 - categorical_accuracy: 0.7853 - val_loss: 0.6875 - val_categorical_accuracy: 0.7297\n",
      "Epoch 12/100\n",
      "5250/5250 [==============================] - 8s - loss: 0.5166 - categorical_accuracy: 0.8019 - val_loss: 0.6819 - val_categorical_accuracy: 0.7291\n",
      "Epoch 13/100\n",
      "5250/5250 [==============================] - 8s - loss: 0.4811 - categorical_accuracy: 0.8171 - val_loss: 0.6925 - val_categorical_accuracy: 0.7280\n",
      "Epoch 14/100\n",
      "5250/5250 [==============================] - 8s - loss: 0.4491 - categorical_accuracy: 0.8297 - val_loss: 0.6858 - val_categorical_accuracy: 0.7326\n",
      "Epoch 15/100\n",
      "5250/5250 [==============================] - 8s - loss: 0.4201 - categorical_accuracy: 0.8427 - val_loss: 0.7244 - val_categorical_accuracy: 0.7160\n",
      "Epoch 16/100\n",
      "5250/5250 [==============================] - 8s - loss: 0.3791 - categorical_accuracy: 0.8636 - val_loss: 0.6931 - val_categorical_accuracy: 0.7326\n",
      "3936/4000 [============================>.] - ETA: 0s"
     ]
    },
    {
     "data": {
      "text/plain": [
       "[1.204913727760315, 0.62675000000000003]"
      ]
     },
     "execution_count": 63,
     "metadata": {},
     "output_type": "execute_result"
    }
   ],
   "source": [
    "model = Sequential()\n",
    "model.add(Conv2D(6, (5,5), input_shape=(32,32,3)))\n",
    "model.add(MaxPooling2D(pool_size=(2,2)))\n",
    "model.add(Conv2D(16, (5,5)))\n",
    "model.add(MaxPooling2D(pool_size=(2,2)))\n",
    "model.add(Flatten())\n",
    "model.add(Dense(120, activation='sigmoid'))\n",
    "model.add(Dense(84, activation='sigmoid'))\n",
    "model.add(Dense(4, activation='softmax'))\n",
    "\n",
    "model.compile(loss='categorical_crossentropy', optimizer='adam', metrics=['categorical_accuracy'])\n",
    "print(model.summary())\n",
    "\n",
    "early_stopping = EarlyStopping(patience=3, monitor='val_loss')\n",
    "model.fit(X_train, y_train, validation_split=0.25, epochs=100, callbacks=[early_stopping])\n",
    "model.evaluate(X_test, y_test)"
   ]
  },
  {
   "cell_type": "code",
   "execution_count": 64,
   "metadata": {},
   "outputs": [
    {
     "name": "stdout",
     "output_type": "stream",
     "text": [
      "_________________________________________________________________\n",
      "Layer (type)                 Output Shape              Param #   \n",
      "=================================================================\n",
      "conv2d_40 (Conv2D)           (None, 28, 28, 6)         456       \n",
      "_________________________________________________________________\n",
      "max_pooling2d_27 (MaxPooling (None, 14, 14, 6)         0         \n",
      "_________________________________________________________________\n",
      "conv2d_41 (Conv2D)           (None, 10, 10, 16)        2416      \n",
      "_________________________________________________________________\n",
      "max_pooling2d_28 (MaxPooling (None, 5, 5, 16)          0         \n",
      "_________________________________________________________________\n",
      "flatten_22 (Flatten)         (None, 400)               0         \n",
      "_________________________________________________________________\n",
      "dense_34 (Dense)             (None, 120)               48120     \n",
      "_________________________________________________________________\n",
      "dense_35 (Dense)             (None, 84)                10164     \n",
      "_________________________________________________________________\n",
      "dense_36 (Dense)             (None, 4)                 340       \n",
      "=================================================================\n",
      "Total params: 61,496\n",
      "Trainable params: 61,496\n",
      "Non-trainable params: 0\n",
      "_________________________________________________________________\n",
      "None\n",
      "Train on 5250 samples, validate on 1750 samples\n",
      "Epoch 1/100\n",
      "5250/5250 [==============================] - 8s - loss: 1.0358 - categorical_accuracy: 0.5625 - val_loss: 1.0594 - val_categorical_accuracy: 0.5560\n",
      "Epoch 2/100\n",
      "5250/5250 [==============================] - 7s - loss: 0.8518 - categorical_accuracy: 0.6526 - val_loss: 0.8417 - val_categorical_accuracy: 0.6640\n",
      "Epoch 3/100\n",
      "5250/5250 [==============================] - 7s - loss: 0.7704 - categorical_accuracy: 0.6958 - val_loss: 0.7892 - val_categorical_accuracy: 0.6869\n",
      "Epoch 4/100\n",
      "5250/5250 [==============================] - 7s - loss: 0.7063 - categorical_accuracy: 0.7240 - val_loss: 0.7689 - val_categorical_accuracy: 0.6994\n",
      "Epoch 5/100\n",
      "5250/5250 [==============================] - 8s - loss: 0.6762 - categorical_accuracy: 0.7286 - val_loss: 0.7960 - val_categorical_accuracy: 0.6703\n",
      "Epoch 6/100\n",
      "5250/5250 [==============================] - 6s - loss: 0.6495 - categorical_accuracy: 0.7419 - val_loss: 0.8142 - val_categorical_accuracy: 0.6657\n",
      "Epoch 7/100\n",
      "5250/5250 [==============================] - 8s - loss: 0.6170 - categorical_accuracy: 0.7562 - val_loss: 0.7721 - val_categorical_accuracy: 0.6971\n",
      "Epoch 8/100\n",
      "5250/5250 [==============================] - 6s - loss: 0.5805 - categorical_accuracy: 0.7659 - val_loss: 0.8079 - val_categorical_accuracy: 0.6749\n",
      "3968/4000 [============================>.] - ETA: 0s"
     ]
    },
    {
     "data": {
      "text/plain": [
       "[1.7817078857421875, 0.58374999999999999]"
      ]
     },
     "execution_count": 64,
     "metadata": {},
     "output_type": "execute_result"
    }
   ],
   "source": [
    "model = Sequential()\n",
    "model.add(Conv2D(6, (5,5), input_shape=(32,32,3)))\n",
    "model.add(MaxPooling2D(pool_size=(2,2)))\n",
    "model.add(Conv2D(16, (5,5)))\n",
    "model.add(MaxPooling2D(pool_size=(2,2)))\n",
    "model.add(Flatten())\n",
    "model.add(Dense(120, activation='tanh'))\n",
    "model.add(Dense(84, activation='tanh'))\n",
    "model.add(Dense(4, activation='softmax'))\n",
    "\n",
    "model.compile(loss='categorical_crossentropy', optimizer='adam', metrics=['categorical_accuracy'])\n",
    "print(model.summary())\n",
    "\n",
    "early_stopping = EarlyStopping(patience=3, monitor='val_loss')\n",
    "model.fit(X_train, y_train, validation_split=0.25, epochs=100, callbacks=[early_stopping])\n",
    "model.evaluate(X_test, y_test)"
   ]
  },
  {
   "cell_type": "code",
   "execution_count": null,
   "metadata": {
    "collapsed": true
   },
   "outputs": [],
   "source": []
  }
 ],
 "metadata": {
  "kernelspec": {
   "display_name": "Python 3",
   "language": "python",
   "name": "python3"
  },
  "language_info": {
   "codemirror_mode": {
    "name": "ipython",
    "version": 3
   },
   "file_extension": ".py",
   "mimetype": "text/x-python",
   "name": "python",
   "nbconvert_exporter": "python",
   "pygments_lexer": "ipython3",
   "version": "3.6.0"
  }
 },
 "nbformat": 4,
 "nbformat_minor": 2
}
