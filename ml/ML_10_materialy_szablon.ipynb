{
 "cells": [
  {
   "cell_type": "markdown",
   "metadata": {},
   "source": [
    "# Recurrent neural networks"
   ]
  },
  {
   "cell_type": "code",
   "execution_count": 1,
   "metadata": {
    "collapsed": true
   },
   "outputs": [],
   "source": [
    "import csv\n",
    "import itertools\n",
    "import nltk\n",
    "import sys\n",
    "\n",
    "import numpy as np\n",
    "\n",
    "\n",
    "def softmax(x):\n",
    "    \"\"\"Compute softmax values for each sets of scores in x.\"\"\"\n",
    "    e_x = np.exp(x - np.max(x))\n",
    "    return e_x / e_x.sum()"
   ]
  },
  {
   "cell_type": "code",
   "execution_count": 2,
   "metadata": {
    "collapsed": true
   },
   "outputs": [],
   "source": [
    "vocabulary_size = 75\n",
    "\n",
    "with open(\"Dane/kod.txt\") as f:\n",
    "    sentences = f.readlines()"
   ]
  },
  {
   "cell_type": "code",
   "execution_count": 3,
   "metadata": {
    "collapsed": true
   },
   "outputs": [],
   "source": [
    "sentences = [s for s in sentences if s.strip() != '']"
   ]
  },
  {
   "cell_type": "code",
   "execution_count": 4,
   "metadata": {
    "scrolled": true
   },
   "outputs": [
    {
     "data": {
      "text/plain": [
       "['class RNNNumpy:\\n',\n",
       " '    def __init__(self, word_dim, hidden_dim=100, bptt_truncate=4):\\n',\n",
       " '        # Assign instance variables\\n',\n",
       " '        self.word_dim = word_dim\\n',\n",
       " '        self.hidden_dim = hidden_dim\\n',\n",
       " '        self.bptt_truncate = bptt_truncate\\n',\n",
       " '        # Randomly initialize the network parameters\\n',\n",
       " '        self.U = np.random.uniform(-np.sqrt(1./word_dim), np.sqrt(1./word_dim), (hidden_dim, word_dim))\\n',\n",
       " '        self.V = np.random.uniform(-np.sqrt(1./hidden_dim), np.sqrt(1./hidden_dim), (word_dim, hidden_dim))\\n',\n",
       " '        self.W = np.random.uniform(-np.sqrt(1./hidden_dim), np.sqrt(1./hidden_dim), (hidden_dim, hidden_dim))\\n']"
      ]
     },
     "execution_count": 4,
     "metadata": {},
     "output_type": "execute_result"
    }
   ],
   "source": [
    "sentences[:10]"
   ]
  },
  {
   "cell_type": "code",
   "execution_count": 5,
   "metadata": {
    "collapsed": true
   },
   "outputs": [],
   "source": [
    "tokenized_sentences = [list(sent) for sent in sentences]"
   ]
  },
  {
   "cell_type": "code",
   "execution_count": 6,
   "metadata": {
    "scrolled": true
   },
   "outputs": [
    {
     "data": {
      "text/plain": [
       "[['c',\n",
       "  'l',\n",
       "  'a',\n",
       "  's',\n",
       "  's',\n",
       "  ' ',\n",
       "  'R',\n",
       "  'N',\n",
       "  'N',\n",
       "  'N',\n",
       "  'u',\n",
       "  'm',\n",
       "  'p',\n",
       "  'y',\n",
       "  ':',\n",
       "  '\\n'],\n",
       " [' ',\n",
       "  ' ',\n",
       "  ' ',\n",
       "  ' ',\n",
       "  'd',\n",
       "  'e',\n",
       "  'f',\n",
       "  ' ',\n",
       "  '_',\n",
       "  '_',\n",
       "  'i',\n",
       "  'n',\n",
       "  'i',\n",
       "  't',\n",
       "  '_',\n",
       "  '_',\n",
       "  '(',\n",
       "  's',\n",
       "  'e',\n",
       "  'l',\n",
       "  'f',\n",
       "  ',',\n",
       "  ' ',\n",
       "  'w',\n",
       "  'o',\n",
       "  'r',\n",
       "  'd',\n",
       "  '_',\n",
       "  'd',\n",
       "  'i',\n",
       "  'm',\n",
       "  ',',\n",
       "  ' ',\n",
       "  'h',\n",
       "  'i',\n",
       "  'd',\n",
       "  'd',\n",
       "  'e',\n",
       "  'n',\n",
       "  '_',\n",
       "  'd',\n",
       "  'i',\n",
       "  'm',\n",
       "  '=',\n",
       "  '1',\n",
       "  '0',\n",
       "  '0',\n",
       "  ',',\n",
       "  ' ',\n",
       "  'b',\n",
       "  'p',\n",
       "  't',\n",
       "  't',\n",
       "  '_',\n",
       "  't',\n",
       "  'r',\n",
       "  'u',\n",
       "  'n',\n",
       "  'c',\n",
       "  'a',\n",
       "  't',\n",
       "  'e',\n",
       "  '=',\n",
       "  '4',\n",
       "  ')',\n",
       "  ':',\n",
       "  '\\n'],\n",
       " [' ',\n",
       "  ' ',\n",
       "  ' ',\n",
       "  ' ',\n",
       "  ' ',\n",
       "  ' ',\n",
       "  ' ',\n",
       "  ' ',\n",
       "  '#',\n",
       "  ' ',\n",
       "  'A',\n",
       "  's',\n",
       "  's',\n",
       "  'i',\n",
       "  'g',\n",
       "  'n',\n",
       "  ' ',\n",
       "  'i',\n",
       "  'n',\n",
       "  's',\n",
       "  't',\n",
       "  'a',\n",
       "  'n',\n",
       "  'c',\n",
       "  'e',\n",
       "  ' ',\n",
       "  'v',\n",
       "  'a',\n",
       "  'r',\n",
       "  'i',\n",
       "  'a',\n",
       "  'b',\n",
       "  'l',\n",
       "  'e',\n",
       "  's',\n",
       "  '\\n']]"
      ]
     },
     "execution_count": 6,
     "metadata": {},
     "output_type": "execute_result"
    }
   ],
   "source": [
    "tokenized_sentences[:3]"
   ]
  },
  {
   "cell_type": "code",
   "execution_count": 7,
   "metadata": {},
   "outputs": [
    {
     "name": "stdout",
     "output_type": "stream",
     "text": [
      "Using vocabulary size 75.\n",
      "\n",
      "Example sentence: 'class RNNNumpy:\n",
      "'\n",
      "\n",
      "Example sentence after Pre-processing: '['c', 'l', 'a', 's', 's', ' ', 'R', 'N', 'N', 'N', 'u', 'm', 'p', 'y', ':', '\\n']'\n",
      "[50, 59, 48, 66, 66, 1, 37, 34, 34, 34, 68, 60, 63, 72, 19]\n",
      "[59, 48, 66, 66, 1, 37, 34, 34, 34, 68, 60, 63, 72, 19, 0]\n"
     ]
    }
   ],
   "source": [
    "vocab = np.unique([item for sublist in tokenized_sentences for item in sublist]) \n",
    "index_to_word = [x[0] for x in vocab]\n",
    "\n",
    "word_to_index = dict([(w,i) for i,w in enumerate(index_to_word)])\n",
    " \n",
    "print( \"Using vocabulary size %d.\" % len(vocab))\n",
    "\n",
    "# Create the training data\n",
    "X_train = np.asarray([[word_to_index[w] for w in sent[:-1]] for sent in tokenized_sentences])\n",
    "y_train = np.asarray([[word_to_index[w] for w in sent[1:]] for sent in tokenized_sentences])\n",
    "\n",
    "\n",
    "print( \"\\nExample sentence: '%s'\" % sentences[0])\n",
    "print( \"\\nExample sentence after Pre-processing: '%s'\" % tokenized_sentences[0])\n",
    "print( X_train[0])\n",
    "print( y_train[0])"
   ]
  },
  {
   "cell_type": "code",
   "execution_count": 8,
   "metadata": {},
   "outputs": [
    {
     "data": {
      "text/plain": [
       "(150,)"
      ]
     },
     "execution_count": 8,
     "metadata": {},
     "output_type": "execute_result"
    }
   ],
   "source": [
    "X_train.shape"
   ]
  },
  {
   "cell_type": "code",
   "execution_count": 9,
   "metadata": {
    "collapsed": true
   },
   "outputs": [],
   "source": [
    "class RNNNumpy:\n",
    "     \n",
    "    def __init__(self, word_dim, hidden_dim=100, bptt_truncate=4):\n",
    "        # Assign instance variables\n",
    "        self.word_dim = word_dim\n",
    "        self.hidden_dim = hidden_dim\n",
    "        self.bptt_truncate = bptt_truncate\n",
    "        # Randomly initialize the network parameters\n",
    "        self.U = np.random.uniform(-np.sqrt(1./word_dim), np.sqrt(1./word_dim), (hidden_dim, word_dim))\n",
    "        self.V = np.random.uniform(-np.sqrt(1./hidden_dim), np.sqrt(1./hidden_dim), (word_dim, hidden_dim))\n",
    "        self.W = np.random.uniform(-np.sqrt(1./hidden_dim), np.sqrt(1./hidden_dim), (hidden_dim, hidden_dim))\n",
    "\n"
   ]
  },
  {
   "cell_type": "code",
   "execution_count": 10,
   "metadata": {
    "collapsed": true
   },
   "outputs": [],
   "source": [
    "def forward_propagation(self, x):\n",
    "    # The total number of time steps\n",
    "    T = len(x)\n",
    "    # During forward propagation we save all hidden states in s because need them later.\n",
    "    # We add one additional element for the initial hidden, which we set to 0\n",
    "    h = np.zeros((T + 1, self.hidden_dim))\n",
    "    h[-1] = np.zeros(self.hidden_dim)\n",
    "    # The outputs at each time step. Again, we save them for later.\n",
    "    o = np.zeros((T, self.word_dim))\n",
    "    # For each time step...\n",
    "    for t in np.arange(T):\n",
    "        # Note that we are indxing U by x[t]. This is the same as multiplying U with a one-hot vector.\n",
    "         \n",
    "        x_t =  np.eye(len(vocab))[x[t]] # Kodowanie one-hot. \n",
    "                                        # Formalnie rzecz biorac, x_t jest gotowym wektorem wprowadzanym do sieci,\n",
    "                                        # ale dla wygody tu przetwarzamy indeks na wektor\n",
    "        \n",
    "        h[t] = np.tanh(np.dot(self.U, x_t) + np.dot(self.W, h[t-1])) # obliczanie stanu ukrytego\n",
    "        o[t] = softmax(np.dot(self.V, h[t])) # predykcja dla x_t\n",
    "                                             # uwaga: w zalenosci od problemu bedzie nas interesowac \n",
    "                                             #        kazda predykcja lub tylko ostatnia\n",
    "        \n",
    "    return [o, h]\n",
    " \n",
    "RNNNumpy.forward_propagation = forward_propagation"
   ]
  },
  {
   "cell_type": "code",
   "execution_count": 11,
   "metadata": {
    "collapsed": true
   },
   "outputs": [],
   "source": [
    "def predict(self, x):\n",
    "    # Perform forward propagation and return index of the highest score\n",
    "    o, s = self.forward_propagation(x)\n",
    "    return np.argmax(o, axis=1)\n",
    " \n",
    "RNNNumpy.predict = predict"
   ]
  },
  {
   "cell_type": "code",
   "execution_count": 12,
   "metadata": {
    "scrolled": true
   },
   "outputs": [
    {
     "name": "stdout",
     "output_type": "stream",
     "text": [
      "(33, 75)\n",
      "[[ 0.0137885   0.01259464  0.01312937 ...,  0.0121929   0.01291467\n",
      "   0.01447739]\n",
      " [ 0.01307076  0.01411536  0.01411408 ...,  0.01378971  0.01418804\n",
      "   0.01405048]\n",
      " [ 0.01281134  0.01272381  0.01326489 ...,  0.01275765  0.01318253\n",
      "   0.01373512]\n",
      " ..., \n",
      " [ 0.01314944  0.01428113  0.01362903 ...,  0.01324931  0.0143878\n",
      "   0.01310582]\n",
      " [ 0.013139    0.01351207  0.0123365  ...,  0.01295007  0.01473019\n",
      "   0.0127632 ]\n",
      " [ 0.01313058  0.01459512  0.01356838 ...,  0.01243141  0.01246906\n",
      "   0.01237279]]\n"
     ]
    }
   ],
   "source": [
    "# Test:\n",
    "\n",
    "np.random.seed(10)\n",
    "model = RNNNumpy(vocabulary_size)\n",
    "o, s = model.forward_propagation(X_train[10])\n",
    "print(o.shape)\n",
    "print(o)"
   ]
  },
  {
   "cell_type": "code",
   "execution_count": 13,
   "metadata": {},
   "outputs": [
    {
     "name": "stdout",
     "output_type": "stream",
     "text": [
      "(33,)\n",
      "[58 68  5 56 45 67 11 42 69 11 26 48 58 11 53  1 68 15 69 52 20 24 46 27 34\n",
      " 21 24  5 57 56 69 73 49]\n"
     ]
    }
   ],
   "source": [
    "predictions = model.predict(X_train[10])\n",
    "print(predictions.shape)\n",
    "print(predictions)"
   ]
  },
  {
   "cell_type": "code",
   "execution_count": 14,
   "metadata": {
    "collapsed": true
   },
   "outputs": [],
   "source": [
    "def calculate_total_loss(self, x, y):\n",
    "    L = 0\n",
    "    # For each sentence...\n",
    "    for i in np.arange(len(y)):\n",
    "        o, s = self.forward_propagation(x[i])\n",
    "        # We only care about our prediction of the \"correct\" words\n",
    "        correct_word_predictions = o[np.arange(len(y[i])), y[i]]\n",
    "        # Add to the loss based on how off we were\n",
    "        L += -1 * np.sum(np.log(correct_word_predictions))\n",
    "    return L\n",
    " \n",
    "def calculate_loss(self, x, y):\n",
    "    # Divide the total loss by the number of training examples\n",
    "    N = np.sum((len(y_i) for y_i in y))\n",
    "    return self.calculate_total_loss(x,y)/N\n",
    "\n",
    "RNNNumpy.calculate_total_loss = calculate_total_loss\n",
    "RNNNumpy.calculate_loss = calculate_loss"
   ]
  },
  {
   "cell_type": "code",
   "execution_count": 15,
   "metadata": {},
   "outputs": [
    {
     "name": "stdout",
     "output_type": "stream",
     "text": [
      "Loss for random predictions: 4.317488\n",
      "Actual loss: 4.324430\n"
     ]
    }
   ],
   "source": [
    "# Limit to 1000 examples to save time\n",
    "print(\"Loss for random predictions: %f\" % np.log(vocabulary_size))\n",
    "print(\"Actual loss: %f\" % model.calculate_loss(X_train[:1000], y_train[:1000]))"
   ]
  },
  {
   "cell_type": "code",
   "execution_count": 16,
   "metadata": {
    "collapsed": true
   },
   "outputs": [],
   "source": [
    "def bptt(self, x, y):\n",
    "    T = len(y)\n",
    "    # Perform forward propagation\n",
    "    o, s = self.forward_propagation(x)\n",
    "    \n",
    "    # We accumulate the gradients in these variables\n",
    "    dLdU = np.zeros(self.U.shape)\n",
    "    dLdV = np.zeros(self.V.shape)\n",
    "    dLdW = np.zeros(self.W.shape)\n",
    "    delta_o = o\n",
    "    delta_o[np.arange(len(y)), y] -= 1.\n",
    "    \n",
    "    # For each output backwards...\n",
    "    for t in np.arange(T)[::-1]:\n",
    "        dLdV += np.outer(delta_o[t], s[t].T)\n",
    "        # Initial delta calculation\n",
    "        delta_t = self.V.T.dot(delta_o[t]) * (1 - (s[t] ** 2))\n",
    "        # Backpropagation through time (for at most self.bptt_truncate steps)\n",
    "        for bptt_step in np.arange(max(0, t-self.bptt_truncate), t+1)[::-1]:\n",
    "            # print \"Backpropagation step t=%d bptt step=%d \" % (t, bptt_step)\n",
    "            dLdW += np.outer(delta_t, s[bptt_step-1])              \n",
    "            dLdU[:,x[bptt_step]] += delta_t\n",
    "            # Update delta for next step\n",
    "            delta_t = self.W.T.dot(delta_t) * (1 - s[bptt_step-1] ** 2)\n",
    "    return [dLdU, dLdV, dLdW]\n",
    " \n",
    "RNNNumpy.bptt = bptt"
   ]
  },
  {
   "cell_type": "code",
   "execution_count": 17,
   "metadata": {},
   "outputs": [
    {
     "name": "stdout",
     "output_type": "stream",
     "text": [
      "100 loops, best of 3: 10.1 ms per loop\n"
     ]
    }
   ],
   "source": [
    "import datetime\n",
    "import time\n",
    "\n",
    "# Performs one step of SGD.\n",
    "def numpy_sdg_step(self, x, y, learning_rate):\n",
    "    # Calculate the gradients\n",
    "    dLdU, dLdV, dLdW = self.bptt(x, y)\n",
    "    # Change parameters according to gradients and learning rate\n",
    "    self.U -= learning_rate * dLdU\n",
    "    self.V -= learning_rate * dLdV\n",
    "    self.W -= learning_rate * dLdW\n",
    " \n",
    "RNNNumpy.sgd_step = numpy_sdg_step\n",
    "# Outer SGD Loop\n",
    "# - model: The RNN model instance\n",
    "# - X_train: The training data set\n",
    "# - y_train: The training data labels\n",
    "# - learning_rate: Initial learning rate for SGD\n",
    "# - nepoch: Number of times to iterate through the complete dataset\n",
    "# - evaluate_loss_after: Evaluate the loss after this many epochs\n",
    "def train_with_sgd(self, X_train, y_train, learning_rate=0.005, nepoch=100, evaluate_loss_after=5):\n",
    "    # We keep track of the losses so we can plot them later\n",
    "    losses = []\n",
    "    num_examples_seen = 0\n",
    "    for epoch in range(nepoch):\n",
    "        # Optionally evaluate the loss\n",
    "        if (epoch % evaluate_loss_after == 0):\n",
    "            loss = model.calculate_loss(X_train, y_train)\n",
    "            losses.append((num_examples_seen, loss))\n",
    "            \n",
    "            # Adjust the learning rate if loss increases\n",
    "            if (len(losses) > 1 and losses[-1][1] > losses[-2][1]):\n",
    "                learning_rate = learning_rate * 0.5 \n",
    "                print(\"Setting learning rate to %f\" % learning_rate)\n",
    "            sys.stdout.flush()\n",
    "        # For each training example...\n",
    "        for i in range(len(y_train)):\n",
    "            # One SGD step\n",
    "            self.sgd_step(X_train[i], y_train[i], learning_rate)\n",
    "            num_examples_seen += 1\n",
    "    return(losses)\n",
    "\n",
    "RNNNumpy.train_with_sgd = train_with_sgd\n",
    "            \n",
    "np.random.seed(10)\n",
    "model = RNNNumpy(vocabulary_size)\n",
    "%timeit model.sgd_step(X_train[10], y_train[10], 0.005)"
   ]
  },
  {
   "cell_type": "code",
   "execution_count": 18,
   "metadata": {
    "scrolled": true
   },
   "outputs": [
    {
     "name": "stdout",
     "output_type": "stream",
     "text": [
      "Setting learning rate to 0.002500\n",
      "Setting learning rate to 0.001250\n",
      "Setting learning rate to 0.000625\n",
      "Setting learning rate to 0.000313\n",
      "Setting learning rate to 0.000156\n",
      "Setting learning rate to 0.000078\n"
     ]
    }
   ],
   "source": [
    "np.random.seed(10)\n",
    "# Train on a small subset of the data to see what happens\n",
    "model = RNNNumpy(vocabulary_size)\n",
    "losses = model.train_with_sgd(X_train, y_train, nepoch=100, evaluate_loss_after=1)"
   ]
  },
  {
   "cell_type": "code",
   "execution_count": 19,
   "metadata": {
    "collapsed": true
   },
   "outputs": [],
   "source": [
    "def generate_text(s,n=3):\n",
    "    \"\"\"\n",
    "    \n",
    "    Funkcja przewiduje n nastepnych liter dla podanegou tekstu (napisu) s.\n",
    "    \n",
    "    \"\"\"\n",
    "    s = list(s)\n",
    "    \n",
    "    X_new = np.asarray([[word_to_index[w] for w in sent] for sent in s])[:,0]\n",
    "    \n",
    "    pred = np.zeros(n,dtype=\"int\")\n",
    "    for i in range(n):\n",
    "        pred[i] = model.predict(np.concatenate([X_new, pred[:i]]))[-1]\n",
    "    print(\"original: \", ''.join([x[0] for x in s]) )\n",
    "    print(\"prediction: \", ''.join([x[0] for x in s])+''.join([[index_to_word[w] for w in sent] for sent in [pred]][0]))"
   ]
  },
  {
   "cell_type": "code",
   "execution_count": 30,
   "metadata": {},
   "outputs": [
    {
     "name": "stdout",
     "output_type": "stream",
     "text": [
      "original:  la\n",
      "prediction:  late \n"
     ]
    }
   ],
   "source": [
    "generate_text('la', 3)"
   ]
  },
  {
   "cell_type": "code",
   "execution_count": 35,
   "metadata": {},
   "outputs": [
    {
     "name": "stdout",
     "output_type": "stream",
     "text": [
      "original:  pri\n",
      "prediction:  print(\"%\n"
     ]
    }
   ],
   "source": [
    "generate_text('pri', 5)"
   ]
  },
  {
   "cell_type": "code",
   "execution_count": 33,
   "metadata": {},
   "outputs": [
    {
     "name": "stdout",
     "output_type": "stream",
     "text": [
      "original:  r\n",
      "prediction:  renum_oralen if ranum\n"
     ]
    }
   ],
   "source": [
    "generate_text('r', 20)"
   ]
  },
  {
   "cell_type": "code",
   "execution_count": 34,
   "metadata": {
    "scrolled": true
   },
   "outputs": [
    {
     "name": "stdout",
     "output_type": "stream",
     "text": [
      "original:  R\n",
      "prediction:  RNNNumpy.calculate_to\n"
     ]
    }
   ],
   "source": [
    "generate_text('R', 20)"
   ]
  },
  {
   "cell_type": "code",
   "execution_count": 36,
   "metadata": {},
   "outputs": [
    {
     "name": "stdout",
     "output_type": "stream",
     "text": [
      "original:  R\n",
      "prediction:  RNNNumpy.calculate_total_loss(self, x, y):\n",
      "(x[n])\n",
      ", forea_d_pracanin  h time toumeftime(tor(sed_dielo\n"
     ]
    }
   ],
   "source": [
    "generate_text('R', 100)"
   ]
  },
  {
   "cell_type": "markdown",
   "metadata": {},
   "source": [
    "### Case study: IMBD"
   ]
  },
  {
   "cell_type": "code",
   "execution_count": 37,
   "metadata": {
    "collapsed": true
   },
   "outputs": [],
   "source": [
    "# IMDB dataset CERTIFICATE_VERIFY_FAILED exception workaround\n",
    "import requests\n",
    "requests.packages.urllib3.disable_warnings()\n",
    "import ssl\n",
    "\n",
    "try:\n",
    "    _create_unverified_https_context = ssl._create_unverified_context\n",
    "except AttributeError:\n",
    "    # Legacy Python that doesn't verify HTTPS certificates by default\n",
    "    pass\n",
    "else:\n",
    "    # Handle target environment that doesn't support HTTPS verification\n",
    "    ssl._create_default_https_context = _create_unverified_https_context"
   ]
  },
  {
   "cell_type": "code",
   "execution_count": 38,
   "metadata": {},
   "outputs": [
    {
     "name": "stderr",
     "output_type": "stream",
     "text": [
      "Using TensorFlow backend.\n"
     ]
    }
   ],
   "source": [
    "from keras.preprocessing import sequence\n",
    "\n",
    "from keras.models import Sequential\n",
    "from keras.layers import Dense, Dropout, Embedding, SimpleRNN, LSTM, Bidirectional\n",
    "\n",
    "from keras.callbacks import EarlyStopping\n",
    "\n",
    "from keras.datasets import imdb"
   ]
  },
  {
   "cell_type": "code",
   "execution_count": 46,
   "metadata": {
    "collapsed": true
   },
   "outputs": [],
   "source": [
    "max_features = 5000\n",
    "maxlen = 400\n",
    "batch_size = 32\n",
    "embedding_dims = 50\n",
    "epochs = 3"
   ]
  },
  {
   "cell_type": "code",
   "execution_count": 47,
   "metadata": {
    "scrolled": true
   },
   "outputs": [
    {
     "name": "stdout",
     "output_type": "stream",
     "text": [
      "25000 train sequences\n",
      "25000 test sequences\n",
      "[ [1, 14, 22, 16, 43, 530, 973, 1622, 1385, 65, 458, 4468, 66, 3941, 4, 173, 36, 256, 5, 25, 100, 43, 838, 112, 50, 670, 2, 9, 35, 480, 284, 5, 150, 4, 172, 112, 167, 2, 336, 385, 39, 4, 172, 4536, 1111, 17, 546, 38, 13, 447, 4, 192, 50, 16, 6, 147, 2025, 19, 14, 22, 4, 1920, 4613, 469, 4, 22, 71, 87, 12, 16, 43, 530, 38, 76, 15, 13, 1247, 4, 22, 17, 515, 17, 12, 16, 626, 18, 2, 5, 62, 386, 12, 8, 316, 8, 106, 5, 4, 2223, 2, 16, 480, 66, 3785, 33, 4, 130, 12, 16, 38, 619, 5, 25, 124, 51, 36, 135, 48, 25, 1415, 33, 6, 22, 12, 215, 28, 77, 52, 5, 14, 407, 16, 82, 2, 8, 4, 107, 117, 2, 15, 256, 4, 2, 7, 3766, 5, 723, 36, 71, 43, 530, 476, 26, 400, 317, 46, 7, 4, 2, 1029, 13, 104, 88, 4, 381, 15, 297, 98, 32, 2071, 56, 26, 141, 6, 194, 2, 18, 4, 226, 22, 21, 134, 476, 26, 480, 5, 144, 30, 2, 18, 51, 36, 28, 224, 92, 25, 104, 4, 226, 65, 16, 38, 1334, 88, 12, 16, 283, 5, 16, 4472, 113, 103, 32, 15, 16, 2, 19, 178, 32]\n",
      " [1, 194, 1153, 194, 2, 78, 228, 5, 6, 1463, 4369, 2, 134, 26, 4, 715, 8, 118, 1634, 14, 394, 20, 13, 119, 954, 189, 102, 5, 207, 110, 3103, 21, 14, 69, 188, 8, 30, 23, 7, 4, 249, 126, 93, 4, 114, 9, 2300, 1523, 5, 647, 4, 116, 9, 35, 2, 4, 229, 9, 340, 1322, 4, 118, 9, 4, 130, 4901, 19, 4, 1002, 5, 89, 29, 952, 46, 37, 4, 455, 9, 45, 43, 38, 1543, 1905, 398, 4, 1649, 26, 2, 5, 163, 11, 3215, 2, 4, 1153, 9, 194, 775, 7, 2, 2, 349, 2637, 148, 605, 2, 2, 15, 123, 125, 68, 2, 2, 15, 349, 165, 4362, 98, 5, 4, 228, 9, 43, 2, 1157, 15, 299, 120, 5, 120, 174, 11, 220, 175, 136, 50, 9, 4373, 228, 2, 5, 2, 656, 245, 2350, 5, 4, 2, 131, 152, 491, 18, 2, 32, 2, 1212, 14, 9, 6, 371, 78, 22, 625, 64, 1382, 9, 8, 168, 145, 23, 4, 1690, 15, 16, 4, 1355, 5, 28, 6, 52, 154, 462, 33, 89, 78, 285, 16, 145, 95]\n",
      " [1, 14, 47, 8, 30, 31, 7, 4, 249, 108, 7, 4, 2, 54, 61, 369, 13, 71, 149, 14, 22, 112, 4, 2401, 311, 12, 16, 3711, 33, 75, 43, 1829, 296, 4, 86, 320, 35, 534, 19, 263, 4821, 1301, 4, 1873, 33, 89, 78, 12, 66, 16, 4, 360, 7, 4, 58, 316, 334, 11, 4, 1716, 43, 645, 662, 8, 257, 85, 1200, 42, 1228, 2578, 83, 68, 3912, 15, 36, 165, 1539, 278, 36, 69, 2, 780, 8, 106, 14, 2, 1338, 18, 6, 22, 12, 215, 28, 610, 40, 6, 87, 326, 23, 2300, 21, 23, 22, 12, 272, 40, 57, 31, 11, 4, 22, 47, 6, 2307, 51, 9, 170, 23, 595, 116, 595, 1352, 13, 191, 79, 638, 89, 2, 14, 9, 8, 106, 607, 624, 35, 534, 6, 227, 7, 129, 113]]\n"
     ]
    }
   ],
   "source": [
    "(x_train, y_train), (x_test, y_test) = imdb.load_data(num_words=max_features)\n",
    "print(len(x_train), 'train sequences')\n",
    "print(len(x_test), 'test sequences')\n",
    "print(x_train[:3])"
   ]
  },
  {
   "cell_type": "code",
   "execution_count": 50,
   "metadata": {},
   "outputs": [
    {
     "data": {
      "text/plain": [
       "(25000,)"
      ]
     },
     "execution_count": 50,
     "metadata": {},
     "output_type": "execute_result"
    }
   ],
   "source": [
    "x_train.shape"
   ]
  },
  {
   "cell_type": "code",
   "execution_count": 51,
   "metadata": {},
   "outputs": [
    {
     "data": {
      "text/plain": [
       "(25000, 400)"
      ]
     },
     "execution_count": 51,
     "metadata": {},
     "output_type": "execute_result"
    }
   ],
   "source": [
    "# Przetworzenie danych:\n",
    "\n",
    "# Padding\n",
    "# uzupelnienie zerami aby wyrownac wielkosc tablic\n",
    "x_train = sequence.pad_sequences(x_train, maxlen=maxlen)\n",
    "x_test = sequence.pad_sequences(x_test, maxlen=maxlen)\n",
    "x_train.shape"
   ]
  },
  {
   "cell_type": "code",
   "execution_count": 52,
   "metadata": {
    "scrolled": true
   },
   "outputs": [
    {
     "data": {
      "text/plain": [
       "array([[   0,    0,    0,    0,    0,    0,    0,    0,    0,    0,    0,\n",
       "           0,    0,    0,    0,    0,    0,    0,    0,    0,    0,    0,\n",
       "           0,    0,    0,    0,    0,    0,    0,    0,    0,    0,    0,\n",
       "           0,    0,    0,    0,    0,    0,    0,    0,    0,    0,    0,\n",
       "           0,    0,    0,    0,    0,    0,    0,    0,    0,    0,    0,\n",
       "           0,    0,    0,    0,    0,    0,    0,    0,    0,    0,    0,\n",
       "           0,    0,    0,    0,    0,    0,    0,    0,    0,    0,    0,\n",
       "           0,    0,    0,    0,    0,    0,    0,    0,    0,    0,    0,\n",
       "           0,    0,    0,    0,    0,    0,    0,    0,    0,    0,    0,\n",
       "           0,    0,    0,    0,    0,    0,    0,    0,    0,    0,    0,\n",
       "           0,    0,    0,    0,    0,    0,    0,    0,    0,    0,    0,\n",
       "           0,    0,    0,    0,    0,    0,    0,    0,    0,    0,    0,\n",
       "           0,    0,    0,    0,    0,    0,    0,    0,    0,    0,    0,\n",
       "           0,    0,    0,    0,    0,    0,    0,    0,    0,    0,    0,\n",
       "           0,    0,    0,    0,    0,    0,    0,    0,    0,    0,    0,\n",
       "           0,    0,    0,    0,    0,    0,    0,    0,    0,    0,    0,\n",
       "           0,    0,    0,    0,    0,    0,    1,   14,   22,   16,   43,\n",
       "         530,  973, 1622, 1385,   65,  458, 4468,   66, 3941,    4,  173,\n",
       "          36,  256,    5,   25,  100,   43,  838,  112,   50,  670,    2,\n",
       "           9,   35,  480,  284,    5,  150,    4,  172,  112,  167,    2,\n",
       "         336,  385,   39,    4,  172, 4536, 1111,   17,  546,   38,   13,\n",
       "         447,    4,  192,   50,   16,    6,  147, 2025,   19,   14,   22,\n",
       "           4, 1920, 4613,  469,    4,   22,   71,   87,   12,   16,   43,\n",
       "         530,   38,   76,   15,   13, 1247,    4,   22,   17,  515,   17,\n",
       "          12,   16,  626,   18,    2,    5,   62,  386,   12,    8,  316,\n",
       "           8,  106,    5,    4, 2223,    2,   16,  480,   66, 3785,   33,\n",
       "           4,  130,   12,   16,   38,  619,    5,   25,  124,   51,   36,\n",
       "         135,   48,   25, 1415,   33,    6,   22,   12,  215,   28,   77,\n",
       "          52,    5,   14,  407,   16,   82,    2,    8,    4,  107,  117,\n",
       "           2,   15,  256,    4,    2,    7, 3766,    5,  723,   36,   71,\n",
       "          43,  530,  476,   26,  400,  317,   46,    7,    4,    2, 1029,\n",
       "          13,  104,   88,    4,  381,   15,  297,   98,   32, 2071,   56,\n",
       "          26,  141,    6,  194,    2,   18,    4,  226,   22,   21,  134,\n",
       "         476,   26,  480,    5,  144,   30,    2,   18,   51,   36,   28,\n",
       "         224,   92,   25,  104,    4,  226,   65,   16,   38, 1334,   88,\n",
       "          12,   16,  283,    5,   16, 4472,  113,  103,   32,   15,   16,\n",
       "           2,   19,  178,   32],\n",
       "       [   0,    0,    0,    0,    0,    0,    0,    0,    0,    0,    0,\n",
       "           0,    0,    0,    0,    0,    0,    0,    0,    0,    0,    0,\n",
       "           0,    0,    0,    0,    0,    0,    0,    0,    0,    0,    0,\n",
       "           0,    0,    0,    0,    0,    0,    0,    0,    0,    0,    0,\n",
       "           0,    0,    0,    0,    0,    0,    0,    0,    0,    0,    0,\n",
       "           0,    0,    0,    0,    0,    0,    0,    0,    0,    0,    0,\n",
       "           0,    0,    0,    0,    0,    0,    0,    0,    0,    0,    0,\n",
       "           0,    0,    0,    0,    0,    0,    0,    0,    0,    0,    0,\n",
       "           0,    0,    0,    0,    0,    0,    0,    0,    0,    0,    0,\n",
       "           0,    0,    0,    0,    0,    0,    0,    0,    0,    0,    0,\n",
       "           0,    0,    0,    0,    0,    0,    0,    0,    0,    0,    0,\n",
       "           0,    0,    0,    0,    0,    0,    0,    0,    0,    0,    0,\n",
       "           0,    0,    0,    0,    0,    0,    0,    0,    0,    0,    0,\n",
       "           0,    0,    0,    0,    0,    0,    0,    0,    0,    0,    0,\n",
       "           0,    0,    0,    0,    0,    0,    0,    0,    0,    0,    0,\n",
       "           0,    0,    0,    0,    0,    0,    0,    0,    0,    0,    0,\n",
       "           0,    0,    0,    0,    0,    0,    0,    0,    0,    0,    0,\n",
       "           0,    0,    0,    0,    0,    0,    0,    0,    0,    0,    0,\n",
       "           0,    0,    0,    0,    0,    0,    0,    0,    0,    0,    0,\n",
       "           0,    0,    1,  194, 1153,  194,    2,   78,  228,    5,    6,\n",
       "        1463, 4369,    2,  134,   26,    4,  715,    8,  118, 1634,   14,\n",
       "         394,   20,   13,  119,  954,  189,  102,    5,  207,  110, 3103,\n",
       "          21,   14,   69,  188,    8,   30,   23,    7,    4,  249,  126,\n",
       "          93,    4,  114,    9, 2300, 1523,    5,  647,    4,  116,    9,\n",
       "          35,    2,    4,  229,    9,  340, 1322,    4,  118,    9,    4,\n",
       "         130, 4901,   19,    4, 1002,    5,   89,   29,  952,   46,   37,\n",
       "           4,  455,    9,   45,   43,   38, 1543, 1905,  398,    4, 1649,\n",
       "          26,    2,    5,  163,   11, 3215,    2,    4, 1153,    9,  194,\n",
       "         775,    7,    2,    2,  349, 2637,  148,  605,    2,    2,   15,\n",
       "         123,  125,   68,    2,    2,   15,  349,  165, 4362,   98,    5,\n",
       "           4,  228,    9,   43,    2, 1157,   15,  299,  120,    5,  120,\n",
       "         174,   11,  220,  175,  136,   50,    9, 4373,  228,    2,    5,\n",
       "           2,  656,  245, 2350,    5,    4,    2,  131,  152,  491,   18,\n",
       "           2,   32,    2, 1212,   14,    9,    6,  371,   78,   22,  625,\n",
       "          64, 1382,    9,    8,  168,  145,   23,    4, 1690,   15,   16,\n",
       "           4, 1355,    5,   28,    6,   52,  154,  462,   33,   89,   78,\n",
       "         285,   16,  145,   95]], dtype=int32)"
      ]
     },
     "execution_count": 52,
     "metadata": {},
     "output_type": "execute_result"
    }
   ],
   "source": [
    "x_train[:2]"
   ]
  },
  {
   "cell_type": "code",
   "execution_count": 55,
   "metadata": {},
   "outputs": [
    {
     "data": {
      "text/plain": [
       "array([1, 0, 0])"
      ]
     },
     "execution_count": 55,
     "metadata": {},
     "output_type": "execute_result"
    }
   ],
   "source": [
    "y_train[:3]"
   ]
  },
  {
   "cell_type": "code",
   "execution_count": 53,
   "metadata": {
    "collapsed": true
   },
   "outputs": [],
   "source": [
    "n_train = 5000\n",
    "n_test = 2000\n",
    "x_train = x_train[:n_train]\n",
    "y_train = y_train[:n_train]\n",
    "x_test = x_test[:n_train]\n",
    "y_test = y_test[:n_train]"
   ]
  },
  {
   "cell_type": "markdown",
   "metadata": {},
   "source": [
    "## Embeddingi\n",
    "\n",
    "Przeanalizujmy co się dzieje w RNN, gdy podajemy słowa w reprezentacji one hot.\n",
    "\n",
    "## $$ h_t = f( W^h * h_{t-1} + W^x * x_t + b)$$\n",
    "\n",
    "Zatem jeśli x to \"one-hot\" z 1 na pozycji i to:\n",
    "\n",
    "## $$ W^x * x_t = W^x[:,i],  $$\n",
    "\n",
    "Czyli wkład informacji embeddinga sprowadza się do wzięcia odpowieniej kolumny macierzy wag.\n",
    "\n",
    "Czyli i-ta kolumna macierzy wag jest w pewnym sensie reprezentacją słowa i.\n",
    "\n",
    "Zatem pójdźmy krok dalej: stwórzmy sobie dodatkową warstwę w sieci, zawierającą reprezentacje słów, które będą przekazywane do wyliczenia stanu ukrytego.\n",
    "\n",
    "\n",
    "Wówczas sieć z warstwą embeddingów ma postać:\n",
    "\n",
    "$x_t$ - id słowa wejściowego w momencie $t$.\n",
    "\n",
    "$EMB$ - macierz embeddingów\n",
    "\n",
    "<br>\n",
    "\n",
    "$$emb_t = EMB[x_t]$$\n",
    "$$ h_t = f( W^h * h_{t-1} + W^x * emb_t + b)$$\n",
    "\n",
    "<br>\n",
    "\n",
    "Ta warstwa nazywa się EMBEDDING'ami (embedding layer).\n",
    "\n",
    "\n",
    "<img src=\"https://image.slidesharecdn.com/translatefrombadenglishtogoodone-2-160606105036/95/aibigdata-lab-2016-11-638.jpg?cb=1465210454\" width=\"700\">\n",
    "Źródło: https://www.slideshare.net/Geeks_Lab/aibigdata-lab-2016-62764857\n",
    "\n",
    "\n",
    "\n",
    "### Zauważmy, że embeddingi są parametrami sieci, ale jednocześnie reprezentacją słów. Oznacza to, że trenując sieć, uczymy embeddingi, czyli uczymy się reprezentacji słów.\n"
   ]
  },
  {
   "cell_type": "markdown",
   "metadata": {},
   "source": [
    "### Zadania"
   ]
  },
  {
   "cell_type": "markdown",
   "metadata": {},
   "source": [
    "### Zwykład sieć rekurencyjna ( z embeddingami)"
   ]
  },
  {
   "cell_type": "code",
   "execution_count": 57,
   "metadata": {},
   "outputs": [
    {
     "name": "stdout",
     "output_type": "stream",
     "text": [
      "Train on 3750 samples, validate on 1250 samples\n",
      "Epoch 1/100\n",
      "3750/3750 [==============================] - 35s - loss: 0.6980 - acc: 0.5061 - val_loss: 0.6906 - val_acc: 0.5104\n",
      "Epoch 2/100\n",
      "3750/3750 [==============================] - 35s - loss: 0.6704 - acc: 0.5925 - val_loss: 0.6780 - val_acc: 0.5632\n",
      "Epoch 3/100\n",
      "3750/3750 [==============================] - 35s - loss: 0.6210 - acc: 0.6904 - val_loss: 0.6718 - val_acc: 0.5632\n",
      "Epoch 4/100\n",
      "3750/3750 [==============================] - 36s - loss: 0.5114 - acc: 0.7693 - val_loss: 0.6366 - val_acc: 0.6392\n",
      "Epoch 5/100\n",
      "3750/3750 [==============================] - 38s - loss: 0.4692 - acc: 0.7912 - val_loss: 0.6532 - val_acc: 0.6224\n",
      "Epoch 6/100\n",
      "3750/3750 [==============================] - 39s - loss: 0.5149 - acc: 0.7504 - val_loss: 0.6504 - val_acc: 0.6232\n",
      "Epoch 7/100\n",
      "3750/3750 [==============================] - 42s - loss: 0.4077 - acc: 0.8099 - val_loss: 0.6884 - val_acc: 0.6408\n",
      "Epoch 8/100\n",
      "3750/3750 [==============================] - 41s - loss: 0.3238 - acc: 0.8573 - val_loss: 0.7022 - val_acc: 0.6624\n",
      "Epoch 9/100\n",
      "3750/3750 [==============================] - 42s - loss: 0.2697 - acc: 0.8864 - val_loss: 0.7676 - val_acc: 0.6528\n",
      "Epoch 10/100\n",
      "3750/3750 [==============================] - 43s - loss: 0.2044 - acc: 0.9165 - val_loss: 0.8396 - val_acc: 0.6696\n"
     ]
    },
    {
     "data": {
      "text/plain": [
       "<keras.callbacks.History at 0x1163a6b00>"
      ]
     },
     "execution_count": 57,
     "metadata": {},
     "output_type": "execute_result"
    }
   ],
   "source": [
    "model = Sequential()\n",
    "\n",
    "model.add(Embedding(max_features, embedding_dims, input_length=maxlen))\n",
    "model.add(SimpleRNN(100))\n",
    "model.add(Dense(1, activation='sigmoid'))\n",
    "\n",
    "model.compile(loss='binary_crossentropy', optimizer='adam', metrics=['accuracy'])\n",
    "\n",
    "early_stopping = EarlyStopping(patience=5, monitor='val_loss')\n",
    "\n",
    "model.fit(x_train, y_train, epochs=100, batch_size=batch_size, callbacks=[early_stopping], validation_split=0.25)"
   ]
  },
  {
   "cell_type": "code",
   "execution_count": 58,
   "metadata": {},
   "outputs": [
    {
     "name": "stdout",
     "output_type": "stream",
     "text": [
      "5000/5000 [==============================] - 14s    \n"
     ]
    },
    {
     "data": {
      "text/plain": [
       "0.67300000000000004"
      ]
     },
     "execution_count": 58,
     "metadata": {},
     "output_type": "execute_result"
    }
   ],
   "source": [
    "model.evaluate(x_test, y_test)[1]"
   ]
  },
  {
   "cell_type": "markdown",
   "metadata": {},
   "source": [
    "### Simple RNN + dense pomiędzy zwracanym stanem ukrytym a outputem"
   ]
  },
  {
   "cell_type": "code",
   "execution_count": 60,
   "metadata": {},
   "outputs": [
    {
     "name": "stdout",
     "output_type": "stream",
     "text": [
      "Train on 3750 samples, validate on 1250 samples\n",
      "Epoch 1/3\n",
      "3750/3750 [==============================] - 42s - loss: 0.6956 - acc: 0.4997 - val_loss: 0.6889 - val_acc: 0.5336\n",
      "Epoch 2/3\n",
      "3750/3750 [==============================] - 44s - loss: 0.6395 - acc: 0.6480 - val_loss: 0.5999 - val_acc: 0.6832\n",
      "Epoch 3/3\n",
      "3750/3750 [==============================] - 44s - loss: 0.4428 - acc: 0.8045 - val_loss: 0.5157 - val_acc: 0.7624\n"
     ]
    },
    {
     "data": {
      "text/plain": [
       "<keras.callbacks.History at 0x11ece4eb8>"
      ]
     },
     "execution_count": 60,
     "metadata": {},
     "output_type": "execute_result"
    }
   ],
   "source": [
    "model = Sequential()\n",
    "\n",
    "model.add(Embedding(max_features, embedding_dims, input_length=maxlen))\n",
    "model.add(SimpleRNN(100))\n",
    "model.add(Dense(100, activation='sigmoid'))\n",
    "model.add(Dense(1, activation='sigmoid'))\n",
    "\n",
    "model.compile(loss='binary_crossentropy', optimizer='adam', metrics=['accuracy'])\n",
    "\n",
    "model.fit(x_train, y_train, epochs=3, batch_size=batch_size, validation_split=0.25)"
   ]
  },
  {
   "cell_type": "code",
   "execution_count": 61,
   "metadata": {},
   "outputs": [
    {
     "name": "stdout",
     "output_type": "stream",
     "text": [
      "5000/5000 [==============================] - 15s    \n"
     ]
    },
    {
     "data": {
      "text/plain": [
       "0.77439999999999998"
      ]
     },
     "execution_count": 61,
     "metadata": {},
     "output_type": "execute_result"
    }
   ],
   "source": [
    "model.evaluate(x_test, y_test)[1]"
   ]
  },
  {
   "cell_type": "code",
   "execution_count": 63,
   "metadata": {},
   "outputs": [
    {
     "name": "stdout",
     "output_type": "stream",
     "text": [
      "_________________________________________________________________\n",
      "Layer (type)                 Output Shape              Param #   \n",
      "=================================================================\n",
      "embedding_4 (Embedding)      (None, 400, 50)           250000    \n",
      "_________________________________________________________________\n",
      "simple_rnn_3 (SimpleRNN)     (None, 100)               15100     \n",
      "_________________________________________________________________\n",
      "dense_4 (Dense)              (None, 100)               10100     \n",
      "_________________________________________________________________\n",
      "dense_5 (Dense)              (None, 1)                 101       \n",
      "=================================================================\n",
      "Total params: 275,301\n",
      "Trainable params: 275,301\n",
      "Non-trainable params: 0\n",
      "_________________________________________________________________\n"
     ]
    }
   ],
   "source": [
    "model.summary()"
   ]
  },
  {
   "cell_type": "markdown",
   "metadata": {},
   "source": [
    "## Dwuwarstwowa sieć rekurencyjna"
   ]
  },
  {
   "cell_type": "code",
   "execution_count": 64,
   "metadata": {},
   "outputs": [
    {
     "name": "stdout",
     "output_type": "stream",
     "text": [
      "Train on 3750 samples, validate on 1250 samples\n",
      "Epoch 1/3\n",
      "3750/3750 [==============================] - 83s - loss: 0.7198 - acc: 0.4997 - val_loss: 0.6969 - val_acc: 0.4896\n",
      "Epoch 2/3\n",
      "3750/3750 [==============================] - 83s - loss: 0.6981 - acc: 0.5125 - val_loss: 0.6941 - val_acc: 0.5136\n",
      "Epoch 3/3\n",
      "3750/3750 [==============================] - 92s - loss: 0.6871 - acc: 0.5389 - val_loss: 0.6856 - val_acc: 0.5264\n"
     ]
    },
    {
     "data": {
      "text/plain": [
       "<keras.callbacks.History at 0x11ff01a90>"
      ]
     },
     "execution_count": 64,
     "metadata": {},
     "output_type": "execute_result"
    }
   ],
   "source": [
    "model = Sequential()\n",
    "\n",
    "model.add(Embedding(max_features, embedding_dims, input_length=maxlen))\n",
    "model.add(SimpleRNN(100, return_sequences=True))\n",
    "model.add(SimpleRNN(50))\n",
    "\n",
    "model.add(Dense(100, activation='sigmoid'))\n",
    "model.add(Dense(1, activation='sigmoid'))\n",
    "\n",
    "model.compile(loss='binary_crossentropy', optimizer='adam', metrics=['accuracy'])\n",
    "\n",
    "model.fit(x_train, y_train, epochs=3, batch_size=batch_size, validation_split=0.25)"
   ]
  },
  {
   "cell_type": "code",
   "execution_count": 65,
   "metadata": {},
   "outputs": [
    {
     "name": "stdout",
     "output_type": "stream",
     "text": [
      "5000/5000 [==============================] - 32s    \n"
     ]
    },
    {
     "data": {
      "text/plain": [
       "0.51300000000000001"
      ]
     },
     "execution_count": 65,
     "metadata": {},
     "output_type": "execute_result"
    }
   ],
   "source": [
    "model.evaluate(x_test, y_test)[1]"
   ]
  },
  {
   "cell_type": "code",
   "execution_count": 66,
   "metadata": {},
   "outputs": [
    {
     "name": "stdout",
     "output_type": "stream",
     "text": [
      "_________________________________________________________________\n",
      "Layer (type)                 Output Shape              Param #   \n",
      "=================================================================\n",
      "embedding_5 (Embedding)      (None, 400, 50)           250000    \n",
      "_________________________________________________________________\n",
      "simple_rnn_4 (SimpleRNN)     (None, 400, 100)          15100     \n",
      "_________________________________________________________________\n",
      "simple_rnn_5 (SimpleRNN)     (None, 50)                7550      \n",
      "_________________________________________________________________\n",
      "dense_6 (Dense)              (None, 100)               5100      \n",
      "_________________________________________________________________\n",
      "dense_7 (Dense)              (None, 1)                 101       \n",
      "=================================================================\n",
      "Total params: 277,851\n",
      "Trainable params: 277,851\n",
      "Non-trainable params: 0\n",
      "_________________________________________________________________\n"
     ]
    }
   ],
   "source": [
    "model.summary()"
   ]
  },
  {
   "cell_type": "markdown",
   "metadata": {},
   "source": [
    "## Dwukierunkowa sieć rekurencyjna"
   ]
  },
  {
   "cell_type": "code",
   "execution_count": 69,
   "metadata": {},
   "outputs": [
    {
     "name": "stdout",
     "output_type": "stream",
     "text": [
      "Train on 3750 samples, validate on 1250 samples\n",
      "Epoch 1/3\n",
      "3750/3750 [==============================] - 50s - loss: 0.7062 - acc: 0.4893 - val_loss: 0.7025 - val_acc: 0.5104\n",
      "Epoch 2/3\n",
      "3750/3750 [==============================] - 51s - loss: 0.6855 - acc: 0.5499 - val_loss: 0.6803 - val_acc: 0.5280\n",
      "Epoch 3/3\n",
      "3750/3750 [==============================] - 51s - loss: 0.5320 - acc: 0.7307 - val_loss: 0.5668 - val_acc: 0.6728\n"
     ]
    },
    {
     "data": {
      "text/plain": [
       "<keras.callbacks.History at 0x122253dd8>"
      ]
     },
     "execution_count": 69,
     "metadata": {},
     "output_type": "execute_result"
    }
   ],
   "source": [
    "model = Sequential()\n",
    "\n",
    "model.add(Embedding(max_features, embedding_dims, input_length=maxlen))\n",
    "\n",
    "model.add(Bidirectional(SimpleRNN(100)))\n",
    "\n",
    "model.add(Dense(100, activation='sigmoid'))\n",
    "model.add(Dense(1, activation='sigmoid'))\n",
    "\n",
    "model.compile(loss='binary_crossentropy', optimizer='adam', metrics=['accuracy'])\n",
    "\n",
    "model.fit(x_train, y_train, epochs=3, batch_size=batch_size, validation_split=0.25)"
   ]
  },
  {
   "cell_type": "code",
   "execution_count": 70,
   "metadata": {},
   "outputs": [
    {
     "name": "stdout",
     "output_type": "stream",
     "text": [
      "5000/5000 [==============================] - 22s    \n"
     ]
    },
    {
     "data": {
      "text/plain": [
       "0.68720000000000003"
      ]
     },
     "execution_count": 70,
     "metadata": {},
     "output_type": "execute_result"
    }
   ],
   "source": [
    "model.evaluate(x_test, y_test)[1]"
   ]
  },
  {
   "cell_type": "code",
   "execution_count": 68,
   "metadata": {},
   "outputs": [
    {
     "name": "stdout",
     "output_type": "stream",
     "text": [
      "_________________________________________________________________\n",
      "Layer (type)                 Output Shape              Param #   \n",
      "=================================================================\n",
      "embedding_6 (Embedding)      (None, 400, 50)           250000    \n",
      "_________________________________________________________________\n",
      "bidirectional_1 (Bidirection (None, 200)               30200     \n",
      "_________________________________________________________________\n",
      "dense_8 (Dense)              (None, 100)               20100     \n",
      "_________________________________________________________________\n",
      "dense_9 (Dense)              (None, 1)                 101       \n",
      "=================================================================\n",
      "Total params: 300,401\n",
      "Trainable params: 300,401\n",
      "Non-trainable params: 0\n",
      "_________________________________________________________________\n"
     ]
    }
   ],
   "source": [
    "model.summary()"
   ]
  },
  {
   "cell_type": "markdown",
   "metadata": {},
   "source": [
    "### Dwukierunkowa sieć rekurencyjna + dense"
   ]
  },
  {
   "cell_type": "code",
   "execution_count": null,
   "metadata": {
    "collapsed": true
   },
   "outputs": [],
   "source": []
  },
  {
   "cell_type": "markdown",
   "metadata": {},
   "source": [
    "# LSTM\n"
   ]
  },
  {
   "cell_type": "markdown",
   "metadata": {},
   "source": [
    "### Zadanie. Powtórz powyższe modele z komórką LSTM\n",
    "\n",
    "Przyjąć patience = 1 w early stoppingu."
   ]
  },
  {
   "cell_type": "code",
   "execution_count": 71,
   "metadata": {},
   "outputs": [
    {
     "name": "stdout",
     "output_type": "stream",
     "text": [
      "_________________________________________________________________\n",
      "Layer (type)                 Output Shape              Param #   \n",
      "=================================================================\n",
      "embedding_8 (Embedding)      (None, 400, 50)           250000    \n",
      "_________________________________________________________________\n",
      "lstm_1 (LSTM)                (None, 100)               60400     \n",
      "_________________________________________________________________\n",
      "dense_12 (Dense)             (None, 1)                 101       \n",
      "=================================================================\n",
      "Total params: 310,501\n",
      "Trainable params: 310,501\n",
      "Non-trainable params: 0\n",
      "_________________________________________________________________\n",
      "Train on 3750 samples, validate on 1250 samples\n",
      "Epoch 1/100\n",
      "3750/3750 [==============================] - 215s - loss: 0.6646 - acc: 0.6109 - val_loss: 0.5826 - val_acc: 0.7184\n",
      "Epoch 2/100\n",
      "3750/3750 [==============================] - 239s - loss: 0.4128 - acc: 0.8216 - val_loss: 0.5023 - val_acc: 0.7632\n",
      "Epoch 3/100\n",
      "3750/3750 [==============================] - 224s - loss: 0.2408 - acc: 0.9075 - val_loss: 0.4809 - val_acc: 0.7928\n",
      "Epoch 4/100\n",
      "3750/3750 [==============================] - 224s - loss: 0.1614 - acc: 0.9445 - val_loss: 0.5989 - val_acc: 0.7928\n",
      "Epoch 5/100\n",
      "3750/3750 [==============================] - 1829s - loss: 0.1416 - acc: 0.9512 - val_loss: 0.6432 - val_acc: 0.7288\n",
      "Epoch 6/100\n",
      "3750/3750 [==============================] - 228s - loss: 0.1578 - acc: 0.9411 - val_loss: 0.6511 - val_acc: 0.7944\n",
      "5000/5000 [==============================] - 57s    \n"
     ]
    },
    {
     "data": {
      "text/plain": [
       "0.79700000000000004"
      ]
     },
     "execution_count": 71,
     "metadata": {},
     "output_type": "execute_result"
    }
   ],
   "source": [
    "model = Sequential()\n",
    "\n",
    "model.add(Embedding(max_features, embedding_dims, input_length=maxlen))\n",
    "model.add(LSTM(100))\n",
    "model.add(Dense(1, activation='sigmoid'))\n",
    "\n",
    "model.compile(loss='binary_crossentropy', optimizer='adam', metrics=['accuracy'])\n",
    "\n",
    "model.summary()\n",
    "\n",
    "early_stopping = EarlyStopping(patience=2, monitor='val_loss')\n",
    "\n",
    "model.fit(x_train, y_train, epochs=100, batch_size=batch_size, callbacks=[early_stopping], validation_split=0.25)\n",
    "\n",
    "model.evaluate(x_test, y_test)[1]"
   ]
  },
  {
   "cell_type": "markdown",
   "metadata": {},
   "source": [
    "### Case study: Analiza sentymentu\n",
    "\n",
    "Zaprogramować eksperymenty i puścić przed wyjściem na obiad.\n",
    "\n",
    "1. Simple RNN\n",
    "2. LSTM - porównaj na zbiorze testowym jakość działania modelu wziętego z najlepszej iteracji oraz modelu po zatrzymaniu uczenia\n",
    "3. LSTM + warstwa dense na końcu\n",
    "4. BiLSTM\n",
    "5. dwuwarstwowy LSTM\n",
    "6. CNN + LSTM - przepuścić dane przez warstwę konwolucyjną (conv1d) + max pooling, a następnie przejechać LSTM'em po tym wyszło."
   ]
  },
  {
   "cell_type": "code",
   "execution_count": 72,
   "metadata": {},
   "outputs": [
    {
     "name": "stdout",
     "output_type": "stream",
     "text": [
      "(5000, 300)\n"
     ]
    }
   ],
   "source": [
    "import numpy as np\n",
    "\n",
    "file_with_filtered_embeddings = \"Dane/data_poleval/embeddings.txt\"\n",
    "\n",
    "words2ids = {}\n",
    "embeddings = []\n",
    "\n",
    "embeddings.append(np.zeros(300)) # rezerwujemy embeddingi na paddin i nieznane slowa\n",
    "embeddings.append(np.zeros(300))\n",
    "\n",
    "i = 0\n",
    "with open(file_with_filtered_embeddings,\"r\") as f:\n",
    "    for line in f:\n",
    "        toks = line.split(\" \")\n",
    "        word = toks[0]\n",
    "        embeddings.append(np.array([float(x) for x in toks[1:]]))\n",
    "        words2ids[word] = i+2 # +3 - przesuniecie po to zeby specjalne embeddingi byly na pozycji 0 i 1\n",
    "        i = i + 1\n",
    "\n",
    "\n",
    "embeddings = np.array(embeddings)\n",
    "print(embeddings.shape)"
   ]
  },
  {
   "cell_type": "code",
   "execution_count": 73,
   "metadata": {},
   "outputs": [
    {
     "data": {
      "text/plain": [
       "{'mają': 2,\n",
       " 'cytrusów': 3,\n",
       " 'ponadto': 4,\n",
       " 'pięknej': 5,\n",
       " 'pudrowego': 6,\n",
       " 'produkt': 7,\n",
       " 'brodzików': 8,\n",
       " 'U': 9,\n",
       " 'podziwu': 10,\n",
       " 'słowem': 11,\n",
       " 'diabłem': 12,\n",
       " 'malarze': 13,\n",
       " 'mój': 14,\n",
       " 'przestać': 15,\n",
       " 'whiskey': 16,\n",
       " 'żadnej': 17,\n",
       " 'Swój': 18,\n",
       " 'pieprzową': 19,\n",
       " 'figury': 20,\n",
       " 'kupować': 21,\n",
       " 'pozostałych': 22,\n",
       " 'komplety': 23,\n",
       " 'zamachu': 24,\n",
       " 'dalekosiężne': 25,\n",
       " 'leżą': 26,\n",
       " 'aprobatą': 27,\n",
       " 'bujnym': 28,\n",
       " 'podobieństwa': 29,\n",
       " 'sukienki': 30,\n",
       " 'uciemiężone': 31,\n",
       " 'koszulę': 32,\n",
       " 'koszuli': 33,\n",
       " 'koszule': 34,\n",
       " 'dłużej': 35,\n",
       " 'wypuści': 36,\n",
       " 'tworząc': 37,\n",
       " 'rekompensuje': 38,\n",
       " 'przecudowny': 39,\n",
       " 'wyróżniających': 40,\n",
       " 'należytemu': 41,\n",
       " 'konkretnych': 42,\n",
       " 'święto': 43,\n",
       " 'patologiem': 44,\n",
       " 'przeciętnej': 45,\n",
       " 'Donatellę': 46,\n",
       " 'powstańcza': 47,\n",
       " 'testu': 48,\n",
       " 'mieszkania': 49,\n",
       " 'tę': 50,\n",
       " 'adekwatna': 51,\n",
       " 'oczekiwaniami': 52,\n",
       " 'natomiast': 53,\n",
       " 'polecenia': 54,\n",
       " 'nasz': 55,\n",
       " 'Można': 56,\n",
       " 'Uwielbiam': 57,\n",
       " 'sprawców': 58,\n",
       " 'Używała': 59,\n",
       " 'wyjątkowy': 60,\n",
       " 'kolorze': 61,\n",
       " 'lekarzy': 62,\n",
       " 'lekarze': 63,\n",
       " 'ogólnie': 64,\n",
       " 'wody': 65,\n",
       " 'wywołuje': 66,\n",
       " 'wywołują': 67,\n",
       " 'zielony': 68,\n",
       " 'zielono': 69,\n",
       " 'zielone': 70,\n",
       " 'podróbki': 71,\n",
       " 'natarczywą': 72,\n",
       " 'Niska': 73,\n",
       " 'wychodzą': 74,\n",
       " 'wtedy': 75,\n",
       " 'wyróżnia': 76,\n",
       " 'patrzyły': 77,\n",
       " 'opcja': 78,\n",
       " 'gustownie': 79,\n",
       " 'boski': 80,\n",
       " 'Ducha': 81,\n",
       " 'orientalnych': 82,\n",
       " 'wartość': 83,\n",
       " 'najgorszy': 84,\n",
       " 'cechy': 85,\n",
       " 'zmienili': 86,\n",
       " 'Niepowtarzalny': 87,\n",
       " 'własny': 88,\n",
       " 'amerykańskiej': 89,\n",
       " 'oblicza': 90,\n",
       " 'oblicze': 91,\n",
       " 'stylu': 92,\n",
       " 'bawełniane': 93,\n",
       " 'problemy': 94,\n",
       " 'problemu': 95,\n",
       " 'Przez': 96,\n",
       " 'Przed': 97,\n",
       " 'zainteresuje': 98,\n",
       " 'biorą': 99,\n",
       " 'przeznaczona': 100,\n",
       " 'czuła': 101,\n",
       " 'przestępców': 102,\n",
       " 'aktywność': 103,\n",
       " 'rewolucyjnym': 104,\n",
       " 'towarzyszyły': 105,\n",
       " 'ubraniem': 106,\n",
       " 'wypróbować': 107,\n",
       " 'lubiła': 108,\n",
       " 'kiedy': 109,\n",
       " 'uważnie': 110,\n",
       " 'Zróżnicowana': 111,\n",
       " 'upływie': 112,\n",
       " 'skąpo': 113,\n",
       " 'Miło': 114,\n",
       " 'pomimo': 115,\n",
       " 'Nie': 116,\n",
       " 'powiadomić': 117,\n",
       " 'flakonie': 118,\n",
       " 'flakonik': 119,\n",
       " 'najczulszym': 120,\n",
       " 'lustrował': 121,\n",
       " 'kosztują': 122,\n",
       " 'Gilada': 123,\n",
       " 'trawą': 124,\n",
       " 'choinkę': 125,\n",
       " 'namiętny': 126,\n",
       " 'kojarzyła': 127,\n",
       " 'swojego': 128,\n",
       " 'dobrze': 129,\n",
       " 'działa': 130,\n",
       " 'zauważył': 131,\n",
       " 'powagi': 132,\n",
       " 'Minusem': 133,\n",
       " 'cytoplazmatyczne': 134,\n",
       " 'podobnym': 135,\n",
       " 'straty': 136,\n",
       " 'jedynie': 137,\n",
       " 'pozbawioną': 138,\n",
       " 'pozbawiona': 139,\n",
       " 'przestępstwa': 140,\n",
       " 'naczyń': 141,\n",
       " 'adidas': 142,\n",
       " 'córki': 143,\n",
       " 'mistrz': 144,\n",
       " 'zimny': 145,\n",
       " 'ołtarza': 146,\n",
       " 'fajnym': 147,\n",
       " 'znajdujące': 148,\n",
       " 'Jest': 149,\n",
       " 'lider': 150,\n",
       " 'wyjście': 151,\n",
       " 'wyjścia': 152,\n",
       " 'słodkich': 153,\n",
       " 'Przechodzień': 154,\n",
       " 'sprawiają': 155,\n",
       " 'przecież': 156,\n",
       " 'Rocznie': 157,\n",
       " 'odbierają': 158,\n",
       " 'Kolejną': 159,\n",
       " 'Kolejna': 160,\n",
       " 'Kolejny': 161,\n",
       " 'oszpecić': 162,\n",
       " 'wandali': 163,\n",
       " 'ginie': 164,\n",
       " 'podtrzyma': 165,\n",
       " 'uznanie': 166,\n",
       " 'odświeżający': 167,\n",
       " 'odświeżająca': 168,\n",
       " 'podrabianych': 169,\n",
       " 'mdłości': 170,\n",
       " 'W': 171,\n",
       " 'dziwne': 172,\n",
       " 'dziwny': 173,\n",
       " 'sejsmicznej': 174,\n",
       " 'materiału': 175,\n",
       " 'Zachowała': 176,\n",
       " 'odpowiadać': 177,\n",
       " 'odpowiadał': 178,\n",
       " 'nakrętki': 179,\n",
       " 'cielisty': 180,\n",
       " 'Davidoff': 181,\n",
       " 'tanich': 182,\n",
       " 'możliwość': 183,\n",
       " 'markowych': 184,\n",
       " 'zmniejszając': 185,\n",
       " 'Magdę': 186,\n",
       " 'trwa': 187,\n",
       " 'wąskim': 188,\n",
       " 'ludzkości': 189,\n",
       " 'Plus': 190,\n",
       " 'słodkiego': 191,\n",
       " 'zastrzeżeń': 192,\n",
       " 'deski': 193,\n",
       " 'wiruje': 194,\n",
       " 'zbrodniarz': 195,\n",
       " 'złota': 196,\n",
       " 'równocześnie': 197,\n",
       " 'niezapomniane': 198,\n",
       " 'środowisk': 199,\n",
       " 'szanować': 200,\n",
       " 'męskość': 201,\n",
       " 'kwiatowego': 202,\n",
       " 'kadzidła': 203,\n",
       " 'zeznania': 204,\n",
       " 'rocznicy': 205,\n",
       " 'gwarem': 206,\n",
       " 'jedwabisty': 207,\n",
       " 'lubili': 208,\n",
       " 'jakimi': 209,\n",
       " 'urządzenie': 210,\n",
       " 'elektryzującym': 211,\n",
       " 'najbliższej': 212,\n",
       " 'dalej': 213,\n",
       " 'kwiatowa': 214,\n",
       " 'kwiatowo': 215,\n",
       " 'kwiatowy': 216,\n",
       " 'kwiatową': 217,\n",
       " 'Materiał': 218,\n",
       " 'napaść': 219,\n",
       " 'radością': 220,\n",
       " 'starannie': 221,\n",
       " 't': 222,\n",
       " 'charakterem': 223,\n",
       " 'charakterek': 224,\n",
       " 'chronionej': 225,\n",
       " 'historycznej': 226,\n",
       " 'spędzenie': 227,\n",
       " 'zobaczysz': 228,\n",
       " 'młodego': 229,\n",
       " 'najwyższej': 230,\n",
       " 'szklanek': 231,\n",
       " 'nietuzinkowy': 232,\n",
       " 'powiatem': 233,\n",
       " 'pomoc': 234,\n",
       " 'usiąść': 235,\n",
       " 'pomysł': 236,\n",
       " 'stringów': 237,\n",
       " 'Mężczyźni': 238,\n",
       " 'oczekuje': 239,\n",
       " 'Rush': 240,\n",
       " 'etapie': 241,\n",
       " 'korzystnie': 242,\n",
       " 'kandydaci': 243,\n",
       " 'oprawionych': 244,\n",
       " 'używa': 245,\n",
       " 'Stefano': 246,\n",
       " 'miniaturkę': 247,\n",
       " 'kolorystyka': 248,\n",
       " 'gwałtowne': 249,\n",
       " 'Czekaj': 250,\n",
       " 'miesięcy': 251,\n",
       " 'słowa': 252,\n",
       " 'chcą': 253,\n",
       " 'Zwiefkę': 254,\n",
       " 'pozwoliła': 255,\n",
       " 'pazur': 256,\n",
       " 'samonośny': 257,\n",
       " 'Kolorki': 258,\n",
       " 'mycia': 259,\n",
       " 'odnoszę': 260,\n",
       " 'Twój': 261,\n",
       " 'przeciętnego': 262,\n",
       " 'typowej': 263,\n",
       " 'użyciu': 264,\n",
       " 'użycie': 265,\n",
       " 'zanim': 266,\n",
       " 'dotkniętego': 267,\n",
       " 'objęciach': 268,\n",
       " 'przedstawicielach': 269,\n",
       " 'obiekt': 270,\n",
       " 'pewniej': 271,\n",
       " 'zmianą': 272,\n",
       " 'wieczorem': 273,\n",
       " 'łączą': 274,\n",
       " 'swoim': 275,\n",
       " 'spasuje': 276,\n",
       " 'prawdziwa': 277,\n",
       " 'prawdziwy': 278,\n",
       " 'fajnych': 279,\n",
       " 'nieziemski': 280,\n",
       " 'nietrzeźwość': 281,\n",
       " 'dróg': 282,\n",
       " 'kształt': 283,\n",
       " 'kolorową': 284,\n",
       " 'wiele': 285,\n",
       " 'wielu': 286,\n",
       " 'Oświadczył': 287,\n",
       " 'nietrwałe': 288,\n",
       " 'sztuczny': 289,\n",
       " 'Komendy': 290,\n",
       " 'młodej': 291,\n",
       " 'poeta': 292,\n",
       " 'malutka': 293,\n",
       " 'mężem': 294,\n",
       " 'zareklamowany': 295,\n",
       " 'sukienkach': 296,\n",
       " 'zainstalować': 297,\n",
       " 'haftem': 298,\n",
       " 'On': 299,\n",
       " 'Od': 300,\n",
       " 'OK': 301,\n",
       " 'utworzenia': 302,\n",
       " 'uzupełnienie': 303,\n",
       " 'zmysłowość': 304,\n",
       " 'nieprzyzwoitość': 305,\n",
       " 'warunków': 306,\n",
       " 'wiadomo': 307,\n",
       " 'wyrafinowany': 308,\n",
       " 'tymi': 309,\n",
       " 'biustowi': 310,\n",
       " 'snu': 311,\n",
       " 'zdarzyło': 312,\n",
       " 'zdarzyła': 313,\n",
       " 'porządnie': 314,\n",
       " '30ml': 315,\n",
       " 'Panowie': 316,\n",
       " 'próbki': 317,\n",
       " 'Sama': 318,\n",
       " 'Elegancki': 319,\n",
       " 'mdli': 320,\n",
       " 'konserwatywnie': 321,\n",
       " 'sposób': 322,\n",
       " 'polską': 323,\n",
       " 'polska': 324,\n",
       " 'taką': 325,\n",
       " 'taka': 326,\n",
       " 'taki': 327,\n",
       " 'pana': 328,\n",
       " 'pani': 329,\n",
       " 'położeniu': 330,\n",
       " 'utrzymania': 331,\n",
       " 'szli': 332,\n",
       " 'Irga': 333,\n",
       " 'wymienionych': 334,\n",
       " 'wyostrza': 335,\n",
       " 'przykład': 336,\n",
       " 'gęba': 337,\n",
       " 'zakładania': 338,\n",
       " 'brytyjscy': 339,\n",
       " 'lepiej': 340,\n",
       " 'wczesny': 341,\n",
       " 'owocnych': 342,\n",
       " 'pereł': 343,\n",
       " 'wyciszający': 344,\n",
       " 'bałaganu': 345,\n",
       " 'skórzanych': 346,\n",
       " 'chętny': 347,\n",
       " 'pozytywnie': 348,\n",
       " 'zastaw': 349,\n",
       " 'tygodniem': 350,\n",
       " 'zamykaniem': 351,\n",
       " 'podkreśla': 352,\n",
       " 'zdecydowanych': 353,\n",
       " 'podczas': 354,\n",
       " 'ok': 355,\n",
       " 'of': 356,\n",
       " 'od': 357,\n",
       " 'wspaniałej': 358,\n",
       " 'poprzez': 359,\n",
       " 'szczególne': 360,\n",
       " 'piersi': 361,\n",
       " 'Później': 362,\n",
       " 'wojnie': 363,\n",
       " 'posiadam': 364,\n",
       " 'import': 365,\n",
       " 'tego': 366,\n",
       " 'zamówiony': 367,\n",
       " 'pasowała': 368,\n",
       " 'zgodnym': 369,\n",
       " 'prezentuje': 370,\n",
       " 'przyjęła': 371,\n",
       " 'Christian': 372,\n",
       " 'zmysłowego': 373,\n",
       " 'stołecznych': 374,\n",
       " 'twarde': 375,\n",
       " 'muzyce': 376,\n",
       " 'kolacji': 377,\n",
       " 'chociaż': 378,\n",
       " 'szkoda': 379,\n",
       " 'antyutleniacze': 380,\n",
       " 'Ratko': 381,\n",
       " 'bladymi': 382,\n",
       " 'testy': 383,\n",
       " 'Coco': 384,\n",
       " 'szans': 385,\n",
       " 'miseczek': 386,\n",
       " 'kwiatów': 387,\n",
       " 'zapachem': 388,\n",
       " 'energicznej': 389,\n",
       " 'ofercie': 390,\n",
       " 'Niedzieli': 391,\n",
       " 'dizajnie': 392,\n",
       " 'optycznie': 393,\n",
       " 'nagrodach': 394,\n",
       " 'prysznica': 395,\n",
       " 'atrakcyjność': 396,\n",
       " 'Czwartku': 397,\n",
       " 'Generalnie': 398,\n",
       " 'najpiękniejszych': 399,\n",
       " 'duszę': 400,\n",
       " 'duszy': 401,\n",
       " 'zamieniony': 402,\n",
       " 'przereklamowany': 403,\n",
       " 'Przy': 404,\n",
       " 'czarna': 405,\n",
       " 'czarny': 406,\n",
       " 'drogeryjnych': 407,\n",
       " 'czarną': 408,\n",
       " 'Perfumy': 409,\n",
       " 'podnosi': 410,\n",
       " 'inaczej': 411,\n",
       " 'rynku': 412,\n",
       " 'Powązkach': 413,\n",
       " 'tłumu': 414,\n",
       " 'białek': 415,\n",
       " 'Jędrzejowskiego': 416,\n",
       " 'zawsze': 417,\n",
       " 'owocowe': 418,\n",
       " 'lekkie': 419,\n",
       " 'lekkim': 420,\n",
       " 'Frontery': 421,\n",
       " 'takiego': 422,\n",
       " 'porwana': 423,\n",
       " 'Odrobina': 424,\n",
       " 'kontrowersyjnych': 425,\n",
       " 'rozwijały': 426,\n",
       " 'pozorom': 427,\n",
       " 'pomidora': 428,\n",
       " 'Fascynująca': 429,\n",
       " 'uwiera': 430,\n",
       " 'gładkich': 431,\n",
       " 'POLECAM': 432,\n",
       " 'żywić': 433,\n",
       " 'użytkowniczka': 434,\n",
       " 'Idealnie': 435,\n",
       " 'protestów': 436,\n",
       " 'rokowała': 437,\n",
       " 'wyższe': 438,\n",
       " 'łąką': 439,\n",
       " 'alternatywa': 440,\n",
       " 'Całkiem': 441,\n",
       " 'porażką': 442,\n",
       " 'Dzień': 443,\n",
       " 'klientem': 444,\n",
       " 'zabrał': 445,\n",
       " 'Hoop': 446,\n",
       " 'chłopakowi': 447,\n",
       " 'przepiękny': 448,\n",
       " 'światowym': 449,\n",
       " 'eksmitowanych': 450,\n",
       " 'Cenowo': 451,\n",
       " 'zupy': 452,\n",
       " 'Dobrze': 453,\n",
       " 'horrendalna': 454,\n",
       " 'konkurencji': 455,\n",
       " 'głosowania': 456,\n",
       " 'praktyczny': 457,\n",
       " 'praktyczne': 458,\n",
       " 'Większość': 459,\n",
       " 'Napewno': 460,\n",
       " 'rozumieć': 461,\n",
       " 'zdolny': 462,\n",
       " 'wpływem': 463,\n",
       " 'Perfum': 464,\n",
       " 'torebce': 465,\n",
       " 'młodzieżą': 466,\n",
       " 'żądania': 467,\n",
       " 'kontakt': 468,\n",
       " 'głębokich': 469,\n",
       " 'żałuję': 470,\n",
       " 'wypadek': 471,\n",
       " 'Zajmuje': 472,\n",
       " 'pochód': 473,\n",
       " 'zupełnie': 474,\n",
       " 'ładnym': 475,\n",
       " 'drzewny': 476,\n",
       " 'drzewno': 477,\n",
       " 'drzewną': 478,\n",
       " 'znana': 479,\n",
       " 'znane': 480,\n",
       " 'znany': 481,\n",
       " 'nieco': 482,\n",
       " 'porzeczkę': 483,\n",
       " 'genialny': 484,\n",
       " 'rywalizowało': 485,\n",
       " 'ukochanym': 486,\n",
       " 'najbliższy': 487,\n",
       " 'płaskich': 488,\n",
       " 'dojrzałego': 489,\n",
       " 'nieudanych': 490,\n",
       " 'model': 491,\n",
       " 'nakazom': 492,\n",
       " 'rycinie': 493,\n",
       " 'używam': 494,\n",
       " 'używał': 495,\n",
       " 'używać': 496,\n",
       " 'Focusa': 497,\n",
       " 'uroczystego': 498,\n",
       " 'cudownego': 499,\n",
       " 'końcowym': 500,\n",
       " 'wzrok': 501,\n",
       " 'tata': 502,\n",
       " 'przestrzennej': 503,\n",
       " 'trzyma': 504,\n",
       " 'rodziców': 505,\n",
       " 'pyszniła': 506,\n",
       " 'parkiecie': 507,\n",
       " 'żadna': 508,\n",
       " 'żadną': 509,\n",
       " 'domów': 510,\n",
       " 'Pour': 511,\n",
       " 'klasą': 512,\n",
       " 'klasę': 513,\n",
       " 'włożę': 514,\n",
       " 'klasy': 515,\n",
       " 'urzekł': 516,\n",
       " 'urzeka': 517,\n",
       " 'wyglądu': 518,\n",
       " 'wygląda': 519,\n",
       " 'miłośników': 520,\n",
       " 'Polskim': 521,\n",
       " 'pół': 522,\n",
       " 'nieprzewidywalności': 523,\n",
       " 'gubią': 524,\n",
       " 'czegoś': 525,\n",
       " 'uroku': 526,\n",
       " 'prysznic': 527,\n",
       " 'Rosję': 528,\n",
       " 'ramiona': 529,\n",
       " 'sympatykom': 530,\n",
       " 'jakość': 531,\n",
       " 'wypowiedzieli': 532,\n",
       " 'efektywną': 533,\n",
       " 'całymi': 534,\n",
       " 'utrzymywał': 535,\n",
       " 'pożarniczy': 536,\n",
       " 'dyskotekę': 537,\n",
       " 'Wkoło': 538,\n",
       " 'przeminie': 539,\n",
       " 'Cyganeria': 540,\n",
       " 'także': 541,\n",
       " 'Polki': 542,\n",
       " 'Noszę': 543,\n",
       " 'Uniwersytetu': 544,\n",
       " 'Było': 545,\n",
       " 'specyficzny': 546,\n",
       " 'odczuwasz': 547,\n",
       " 'męża': 548,\n",
       " 'egoistycznych': 549,\n",
       " 'zmienił': 550,\n",
       " 'zmienić': 551,\n",
       " 'zmienia': 552,\n",
       " 'mdława': 553,\n",
       " 'czystym': 554,\n",
       " 'efektu': 555,\n",
       " 'imię': 556,\n",
       " 'Kolor': 557,\n",
       " 'najbliższym': 558,\n",
       " 'duchu': 559,\n",
       " 'bunt': 560,\n",
       " 'republiki': 561,\n",
       " 'spotykany': 562,\n",
       " 'kwiatowym': 563,\n",
       " 'zmienione': 564,\n",
       " 'zostawiając': 565,\n",
       " 'Ma': 566,\n",
       " 'Mi': 567,\n",
       " 'strefie': 568,\n",
       " 'uwodzić': 569,\n",
       " 'dystansem': 570,\n",
       " 'odstępy': 571,\n",
       " 'niczym': 572,\n",
       " 'drobnej': 573,\n",
       " 'nutę': 574,\n",
       " 'nuty': 575,\n",
       " 'nuta': 576,\n",
       " 'mediacjach': 577,\n",
       " 'końca': 578,\n",
       " 'koszulce': 579,\n",
       " 'religijni': 580,\n",
       " 'stronę': 581,\n",
       " 'realizmu': 582,\n",
       " 'zagranicznego': 583,\n",
       " 'wykonania': 584,\n",
       " 'przywiązanej': 585,\n",
       " 'zakup': 586,\n",
       " 'ktorą': 587,\n",
       " 'wrażliwą': 588,\n",
       " 'stanie': 589,\n",
       " 'stanik': 590,\n",
       " 'odstrasza': 591,\n",
       " 'Kompletnie': 592,\n",
       " 'przygody': 593,\n",
       " 'Flakonik': 594,\n",
       " 'odparzeń': 595,\n",
       " 'wieczory': 596,\n",
       " 'zbrodnie': 597,\n",
       " 'koloniami': 598,\n",
       " 'intryguje': 599,\n",
       " 'jeszcze': 600,\n",
       " 'obracająca': 601,\n",
       " 'Lauren': 602,\n",
       " 'kłują': 603,\n",
       " 'tytuł': 604,\n",
       " 'wykazuje': 605,\n",
       " 'rozwaliło': 606,\n",
       " 'rozwaliły': 607,\n",
       " 'czasami': 608,\n",
       " 'tknąć': 609,\n",
       " 'jakie': 610,\n",
       " 'pozostawienie': 611,\n",
       " 'obiedzie': 612,\n",
       " 'wzorów': 613,\n",
       " 'szybka': 614,\n",
       " 'szybki': 615,\n",
       " 'szybko': 616,\n",
       " 'dochodzi': 617,\n",
       " 'uzależnił': 618,\n",
       " 'utrzymują': 619,\n",
       " 'przebojowych': 620,\n",
       " 'utrzymuje': 621,\n",
       " 'kark': 622,\n",
       " 'Bogu': 623,\n",
       " 'spokojem': 624,\n",
       " 'kusząco': 625,\n",
       " 'kuszące': 626,\n",
       " 'kuszący': 627,\n",
       " 'Klein': 628,\n",
       " 'samym': 629,\n",
       " 'ulubionych': 630,\n",
       " 'stoi': 631,\n",
       " 'Wyraźnie': 632,\n",
       " 'wiedzą': 633,\n",
       " 'ciepło': 634,\n",
       " 'Buzka': 635,\n",
       " 'absolutnej': 636,\n",
       " 'trwałości': 637,\n",
       " 'ma': 638,\n",
       " 'mi': 639,\n",
       " 'mu': 640,\n",
       " 'zapada': 641,\n",
       " 'seksapil': 642,\n",
       " 'radośnie': 643,\n",
       " 'pięknie': 644,\n",
       " 'utrzyma': 645,\n",
       " 'interesów': 646,\n",
       " 'jakiej': 647,\n",
       " 'brakuje': 648,\n",
       " 'jakieś': 649,\n",
       " 'śliwkę': 650,\n",
       " 'wyczuwalny': 651,\n",
       " 'podkreślone': 652,\n",
       " 'przeznaczony': 653,\n",
       " 'biustonoszach': 654,\n",
       " 'liberalny': 655,\n",
       " 'doniesienia': 656,\n",
       " 'doskonale': 657,\n",
       " 'depresji': 658,\n",
       " 'Niby': 659,\n",
       " 'mnóstwem': 660,\n",
       " 'przechodzi': 661,\n",
       " 'sytuacji': 662,\n",
       " 'wykrochmaloną': 663,\n",
       " 'gust': 664,\n",
       " 'tłumie': 665,\n",
       " 'jednorazówki': 666,\n",
       " 'radość': 667,\n",
       " 'wszytsko': 668,\n",
       " 'Słodkiego': 669,\n",
       " 'uśmiechać': 670,\n",
       " 'wiedział': 671,\n",
       " 'zależy': 672,\n",
       " 'owocujący': 673,\n",
       " 'upiekli': 674,\n",
       " 'odpowiedni': 675,\n",
       " 'Odważna': 676,\n",
       " 'zgięcie': 677,\n",
       " 'radosnym': 678,\n",
       " 'kolorystyce': 679,\n",
       " 'drugiego': 680,\n",
       " 'trzecia': 681,\n",
       " 'nutami': 682,\n",
       " 'rodzinnego': 683,\n",
       " 'Przedsiębiorcę': 684,\n",
       " 'Givenchy': 685,\n",
       " 'mankament': 686,\n",
       " 'kategorii': 687,\n",
       " 'Skierowany': 688,\n",
       " 'upolowania': 689,\n",
       " 'niego': 690,\n",
       " 'Posiada': 691,\n",
       " 'Chociaż': 692,\n",
       " 'liczne': 693,\n",
       " 'liczni': 694,\n",
       " 'ludzie': 695,\n",
       " 'przezroczystą': 696,\n",
       " 'uwielbia': 697,\n",
       " 'podziękowania': 698,\n",
       " 'włoski': 699,\n",
       " 'Ładniejszy': 700,\n",
       " 'Pań': 701,\n",
       " 'Pan': 702,\n",
       " 'zajmuje': 703,\n",
       " 'napadem': 704,\n",
       " 'zaskakujący': 705,\n",
       " 'z': 706,\n",
       " 'niska': 707,\n",
       " 'ściśnięcia': 708,\n",
       " 'zaczęły': 709,\n",
       " 'Mühlhausowi': 710,\n",
       " 'spełnił': 711,\n",
       " 'policja': 712,\n",
       " 'policji': 713,\n",
       " 'Marka': 714,\n",
       " 'cudna': 715,\n",
       " 'doświadczają': 716,\n",
       " 'starym': 717,\n",
       " 'groźne': 718,\n",
       " 'kotom': 719,\n",
       " 'wyglądać': 720,\n",
       " 'Dune': 721,\n",
       " 'wystąpienie': 722,\n",
       " 'fasonów': 723,\n",
       " 'kłodzkiego': 724,\n",
       " 'skromne': 725,\n",
       " 'skromny': 726,\n",
       " 'nietuzinkowym': 727,\n",
       " 'Muszę': 728,\n",
       " 'zakupów': 729,\n",
       " 'rodzinę': 730,\n",
       " 'rodziną': 731,\n",
       " 'rodzina': 732,\n",
       " 'Wizytek': 733,\n",
       " 'mililitrów': 734,\n",
       " 'moja': 735,\n",
       " 'romantyczki': 736,\n",
       " 'szczególnego': 737,\n",
       " 'oddała': 738,\n",
       " 'ekspertów': 739,\n",
       " 'istniała': 740,\n",
       " 'okazyjnej': 741,\n",
       " 'rannych': 742,\n",
       " 'sąsiedzi': 743,\n",
       " 'najdroższe': 744,\n",
       " 'Kujawy': 745,\n",
       " 'perfumach': 746,\n",
       " 'takim': 747,\n",
       " 'stosunku': 748,\n",
       " 'piłkarskiej': 749,\n",
       " 'powojennej': 750,\n",
       " 'bycia': 751,\n",
       " 'zapewnia': 752,\n",
       " 'pikanterii': 753,\n",
       " 'wpisała': 754,\n",
       " 'wydajne': 755,\n",
       " 'wspomnienia': 756,\n",
       " 'toczą': 757,\n",
       " 'ścisnąć': 758,\n",
       " 'Szczególnie': 759,\n",
       " 'dziękuję': 760,\n",
       " 'kogoś': 761,\n",
       " 'koleżankę': 762,\n",
       " 'duże': 763,\n",
       " 'koleżanki': 764,\n",
       " 'zwiększając': 765,\n",
       " 'kreacje': 766,\n",
       " 'poranku': 767,\n",
       " 'odszkodowania': 768,\n",
       " 'poszukuję': 769,\n",
       " 'staniczek': 770,\n",
       " 'godnym': 771,\n",
       " 'tradycyjnym': 772,\n",
       " 'całemu': 773,\n",
       " 'mocna': 774,\n",
       " 'znanej': 775,\n",
       " 'zasłania': 776,\n",
       " 'odnieść': 777,\n",
       " 'Ksiądz': 778,\n",
       " 'powietrzu': 779,\n",
       " 'powietrza': 780,\n",
       " 'powietrze': 781,\n",
       " 'amarantowa': 782,\n",
       " 'Tymczasem': 783,\n",
       " 'całą': 784,\n",
       " 'leży': 785,\n",
       " 'cały': 786,\n",
       " 'Cmentarza': 787,\n",
       " 'gatunkowo': 788,\n",
       " 'spytało': 789,\n",
       " 'buja': 790,\n",
       " 'Śliczny': 791,\n",
       " 'Śliczna': 792,\n",
       " 'Biernacki': 793,\n",
       " 'energicznych': 794,\n",
       " 'własną': 795,\n",
       " 'złożył': 796,\n",
       " 'żony': 797,\n",
       " 'żona': 798,\n",
       " 'partii': 799,\n",
       " 'ani': 800,\n",
       " 'wibrującą': 801,\n",
       " 'reklama': 802,\n",
       " 'macochy': 803,\n",
       " 'flaszka': 804,\n",
       " 'beznadziejny': 805,\n",
       " 'niszcząc': 806,\n",
       " 'modeluje': 807,\n",
       " 'modelują': 808,\n",
       " 'lekką': 809,\n",
       " 'własnych': 810,\n",
       " 'niespodzianek': 811,\n",
       " 'Zachowują': 812,\n",
       " 'lekko': 813,\n",
       " 'lekki': 814,\n",
       " 'Zakupiła': 815,\n",
       " 'tracąc': 816,\n",
       " 'Prokuratury': 817,\n",
       " 'trucizna': 818,\n",
       " 'pełne': 819,\n",
       " 'odpowiada': 820,\n",
       " 'ułożenia': 821,\n",
       " 'osobiście': 822,\n",
       " 'pasku': 823,\n",
       " 'sporo': 824,\n",
       " 'spora': 825,\n",
       " 'spory': 826,\n",
       " 'sporą': 827,\n",
       " 'Beatki': 828,\n",
       " 'nadgarstkowe': 829,\n",
       " 'Oczywiście': 830,\n",
       " 'podążyła': 831,\n",
       " 'Armani': 832,\n",
       " 'sytuacjami': 833,\n",
       " 'niewielki': 834,\n",
       " 'bezpieczeństwa': 835,\n",
       " 'przy': 836,\n",
       " 'codzień': 837,\n",
       " 'codzien': 838,\n",
       " 'ocenili': 839,\n",
       " 'części': 840,\n",
       " 'stołka': 841,\n",
       " 'wspaniałego': 842,\n",
       " 'esencjonalny': 843,\n",
       " 'zginie': 844,\n",
       " 'rozkrzewiona': 845,\n",
       " 'dekolcie': 846,\n",
       " 'zakrętka': 847,\n",
       " 'zdecydowanie': 848,\n",
       " 'For': 849,\n",
       " 'waniliowy': 850,\n",
       " 'śmy': 851,\n",
       " 'nigdy': 852,\n",
       " 'własnego': 853,\n",
       " 'domu': 854,\n",
       " 'uwielbiają': 855,\n",
       " 'pieniądze': 856,\n",
       " 'postkomuch': 857,\n",
       " 'żydowskich': 858,\n",
       " 'wypróbowała': 859,\n",
       " 'Cieszą': 860,\n",
       " 'Stan': 861,\n",
       " 'Kolorystyka': 862,\n",
       " 'nowymi': 863,\n",
       " 'wiązanie': 864,\n",
       " 'wizerunkiem': 865,\n",
       " 'użytkowania': 866,\n",
       " 'Komor': 867,\n",
       " 'berecie': 868,\n",
       " 'zapachową': 869,\n",
       " 'zapachowe': 870,\n",
       " 'zapachowa': 871,\n",
       " 'zaprojektowane': 872,\n",
       " 'sylwetkę': 873,\n",
       " 'sylwetki': 874,\n",
       " 'zawiedzie': 875,\n",
       " 'wicestarosta': 876,\n",
       " 'kształcie': 877,\n",
       " 'urzędzie': 878,\n",
       " 'letnie': 879,\n",
       " 'letnia': 880,\n",
       " 'znaleźć': 881,\n",
       " 'rząd': 882,\n",
       " 'jesienne': 883,\n",
       " 'jesienną': 884,\n",
       " 'róży': 885,\n",
       " 'różu': 886,\n",
       " 'Jesteśmy': 887,\n",
       " 'bergamotki': 888,\n",
       " 'nocną': 889,\n",
       " 'piersiami': 890,\n",
       " 'ludzkiej': 891,\n",
       " 'rozciąga': 892,\n",
       " 'nieciekawy': 893,\n",
       " 'końcu': 894,\n",
       " 'arbitra': 895,\n",
       " 'optymizmu': 896,\n",
       " 'Całokształt': 897,\n",
       " 'udało': 898,\n",
       " 'Potem': 899,\n",
       " 'wakacje': 900,\n",
       " 'chorobami': 901,\n",
       " 'Lwowskich': 902,\n",
       " 'ciężki': 903,\n",
       " 'ustach': 904,\n",
       " 'przed': 905,\n",
       " 'mokrym': 906,\n",
       " 'dziedzinach': 907,\n",
       " 'diametralnie': 908,\n",
       " 'witali': 909,\n",
       " 'przecudne': 910,\n",
       " 'przecudny': 911,\n",
       " 'nadawania': 912,\n",
       " 'Znalezisko': 913,\n",
       " 'długi': 914,\n",
       " 'długo': 915,\n",
       " 'krój': 916,\n",
       " 'zostawiam': 917,\n",
       " 'kokarda': 918,\n",
       " 'Spodziewał': 919,\n",
       " 'Majteczki': 920,\n",
       " 'słodszych': 921,\n",
       " 'jesiennym': 922,\n",
       " 'wyniesione': 923,\n",
       " 'wyszczuplającego': 924,\n",
       " 'używając': 925,\n",
       " 'euforia': 926,\n",
       " 'euforię': 927,\n",
       " 'silniejsze': 928,\n",
       " 'cytrusami': 929,\n",
       " 'wanien': 930,\n",
       " 'silnej': 931,\n",
       " 'Mimo': 932,\n",
       " 'większe': 933,\n",
       " 'większą': 934,\n",
       " 'perfum': 935,\n",
       " 'pralce': 936,\n",
       " 'Założony': 937,\n",
       " 'torebki': 938,\n",
       " 'dotyk': 939,\n",
       " 'czymś': 940,\n",
       " 'dużym': 941,\n",
       " 'związkach': 942,\n",
       " 'prezentacji': 943,\n",
       " 'brutalni': 944,\n",
       " 'ręcznie': 945,\n",
       " 'pełnowymiarowego': 946,\n",
       " 'Obecnie': 947,\n",
       " 'wprawia': 948,\n",
       " 'Kupuję': 949,\n",
       " 'Pi': 950,\n",
       " 'Po': 951,\n",
       " 'ludobójstwo': 952,\n",
       " 'obserwatorzy': 953,\n",
       " 'Stanik': 954,\n",
       " 'rozwija': 955,\n",
       " 'chciała': 956,\n",
       " 'izolacji': 957,\n",
       " 'rywalem': 958,\n",
       " 'pojechać': 959,\n",
       " 'ostatecznego': 960,\n",
       " 'niezbyt': 961,\n",
       " 'zna': 962,\n",
       " 'Przepiękne': 963,\n",
       " 'Przepiękny': 964,\n",
       " 'niezwykle': 965,\n",
       " 'ostrą': 966,\n",
       " 'Kusi': 967,\n",
       " 'ostre': 968,\n",
       " 'ostry': 969,\n",
       " 'ks': 970,\n",
       " 'ku': 971,\n",
       " 'Kiedy': 972,\n",
       " 'przekombinowany': 973,\n",
       " 'dekoracyjny': 974,\n",
       " 'podkreślają': 975,\n",
       " 'D': 976,\n",
       " 'proszą': 977,\n",
       " 'gdzie': 978,\n",
       " 'podobał': 979,\n",
       " 'podobać': 980,\n",
       " 'zakomunikowali': 981,\n",
       " 'niespecjalnie': 982,\n",
       " 'fanów': 983,\n",
       " 'światowa': 984,\n",
       " 'widnieją': 985,\n",
       " 'postanowiła': 986,\n",
       " 'owa': 987,\n",
       " 'kolorów': 988,\n",
       " 'otrzymała': 989,\n",
       " 'nagminnie': 990,\n",
       " 'zalety': 991,\n",
       " 'Młodych': 992,\n",
       " 'wyglądem': 993,\n",
       " 'majtek': 994,\n",
       " 'przesłodzony': 995,\n",
       " 'Wracam': 996,\n",
       " 'aromaty': 997,\n",
       " 'czesto': 998,\n",
       " 'wyprofilowana': 999,\n",
       " 'szczyt': 1000,\n",
       " 'tytoniu': 1001,\n",
       " ...}"
      ]
     },
     "execution_count": 73,
     "metadata": {},
     "output_type": "execute_result"
    }
   ],
   "source": [
    "words2ids"
   ]
  },
  {
   "cell_type": "code",
   "execution_count": 74,
   "metadata": {
    "scrolled": true
   },
   "outputs": [
    {
     "data": {
      "text/plain": [
       "array([ 0.,  0.,  0.,  0.,  0.,  0.,  0.,  0.,  0.,  0.,  0.,  0.,  0.,\n",
       "        0.,  0.,  0.,  0.,  0.,  0.,  0.,  0.,  0.,  0.,  0.,  0.,  0.,\n",
       "        0.,  0.,  0.,  0.,  0.,  0.,  0.,  0.,  0.,  0.,  0.,  0.,  0.,\n",
       "        0.,  0.,  0.,  0.,  0.,  0.,  0.,  0.,  0.,  0.,  0.,  0.,  0.,\n",
       "        0.,  0.,  0.,  0.,  0.,  0.,  0.,  0.,  0.,  0.,  0.,  0.,  0.,\n",
       "        0.,  0.,  0.,  0.,  0.,  0.,  0.,  0.,  0.,  0.,  0.,  0.,  0.,\n",
       "        0.,  0.,  0.,  0.,  0.,  0.,  0.,  0.,  0.,  0.,  0.,  0.,  0.,\n",
       "        0.,  0.,  0.,  0.,  0.,  0.,  0.,  0.,  0.,  0.,  0.,  0.,  0.,\n",
       "        0.,  0.,  0.,  0.,  0.,  0.,  0.,  0.,  0.,  0.,  0.,  0.,  0.,\n",
       "        0.,  0.,  0.,  0.,  0.,  0.,  0.,  0.,  0.,  0.,  0.,  0.,  0.,\n",
       "        0.,  0.,  0.,  0.,  0.,  0.,  0.,  0.,  0.,  0.,  0.,  0.,  0.,\n",
       "        0.,  0.,  0.,  0.,  0.,  0.,  0.,  0.,  0.,  0.,  0.,  0.,  0.,\n",
       "        0.,  0.,  0.,  0.,  0.,  0.,  0.,  0.,  0.,  0.,  0.,  0.,  0.,\n",
       "        0.,  0.,  0.,  0.,  0.,  0.,  0.,  0.,  0.,  0.,  0.,  0.,  0.,\n",
       "        0.,  0.,  0.,  0.,  0.,  0.,  0.,  0.,  0.,  0.,  0.,  0.,  0.,\n",
       "        0.,  0.,  0.,  0.,  0.,  0.,  0.,  0.,  0.,  0.,  0.,  0.,  0.,\n",
       "        0.,  0.,  0.,  0.,  0.,  0.,  0.,  0.,  0.,  0.,  0.,  0.,  0.,\n",
       "        0.,  0.,  0.,  0.,  0.,  0.,  0.,  0.,  0.,  0.,  0.,  0.,  0.,\n",
       "        0.,  0.,  0.,  0.,  0.,  0.,  0.,  0.,  0.,  0.,  0.,  0.,  0.,\n",
       "        0.,  0.,  0.,  0.,  0.,  0.,  0.,  0.,  0.,  0.,  0.,  0.,  0.,\n",
       "        0.,  0.,  0.,  0.,  0.,  0.,  0.,  0.,  0.,  0.,  0.,  0.,  0.,\n",
       "        0.,  0.,  0.,  0.,  0.,  0.,  0.,  0.,  0.,  0.,  0.,  0.,  0.,\n",
       "        0.,  0.,  0.,  0.,  0.,  0.,  0.,  0.,  0.,  0.,  0.,  0.,  0.,  0.])"
      ]
     },
     "execution_count": 74,
     "metadata": {},
     "output_type": "execute_result"
    }
   ],
   "source": [
    "embeddings[0]"
   ]
  },
  {
   "cell_type": "code",
   "execution_count": 75,
   "metadata": {
    "scrolled": true
   },
   "outputs": [
    {
     "data": {
      "text/plain": [
       "array([ 0.68923  , -0.728562 , -0.67156  ,  0.452569 ,  1.48135  ,\n",
       "       -0.713579 ,  1.27009  , -0.427368 ,  0.908545 , -1.30073  ,\n",
       "       -0.742945 ,  2.13016  ,  2.15647  , -0.657836 , -1.43292  ,\n",
       "       -0.432578 , -0.370477 ,  0.788179 , -0.439624 , -1.42123  ,\n",
       "        0.310941 ,  1.36179  ,  0.0817599, -1.7725   , -2.02928  ,\n",
       "       -1.27779  ,  0.776984 , -0.589031 , -2.23493  , -1.11084  ,\n",
       "        2.1565   , -0.0829913,  1.62006  ,  2.88058  , -1.30103  ,\n",
       "       -1.09147  , -0.391706 , -0.708378 ,  0.576634 , -1.87945  ,\n",
       "        1.01122  , -2.27341  , -2.89224  , -0.21766  ,  2.39044  ,\n",
       "       -0.969998 ,  1.07507  ,  0.668908 ,  0.393559 ,  0.0897984,\n",
       "       -0.539963 ,  2.9958   , -2.62722  ,  1.317    , -0.59901  ,\n",
       "       -2.1971   , -1.61251  ,  0.313467 ,  1.80279  , -0.0893186,\n",
       "        0.704141 , -1.02295  , -1.42039  ,  2.33347  , -2.55586  ,\n",
       "       -1.478    ,  1.61922  ,  2.75623  , -0.383152 , -0.52249  ,\n",
       "       -2.45576  ,  2.1599   , -1.4243   , -0.343521 ,  1.27545  ,\n",
       "        0.491944 ,  0.618774 , -0.0998952,  1.2947   ,  0.825262 ,\n",
       "       -0.69509  , -0.319014 ,  0.324287 , -2.59738  , -0.637168 ,\n",
       "        1.81155  , -1.0284   ,  0.589438 ,  2.85367  ,  0.603518 ,\n",
       "        0.318728 , -0.412848 , -2.08189  ,  1.01839  ,  1.8939   ,\n",
       "        1.55598  ,  0.213352 ,  0.461722 ,  0.11826  ,  0.0267475,\n",
       "       -0.0369905, -1.10652  , -0.740529 , -0.426003 , -1.54028  ,\n",
       "        0.0773929,  1.57397  ,  0.468904 ,  0.409823 , -1.01757  ,\n",
       "       -0.45491  , -0.449531 ,  2.00295  ,  0.540048 ,  2.12338  ,\n",
       "        0.683898 , -0.596373 , -0.104335 ,  0.678856 , -2.97153  ,\n",
       "        0.654097 ,  0.6221   ,  1.33486  , -0.590548 ,  1.37716  ,\n",
       "       -0.660667 ,  0.732702 ,  1.94802  , -1.23631  ,  3.0867   ,\n",
       "       -2.91285  ,  0.646966 , -1.06234  ,  0.0869951,  0.229186 ,\n",
       "       -0.86691  , -0.597497 , -1.96825  , -0.456173 , -1.09852  ,\n",
       "        1.04545  , -0.387094 , -0.649523 , -0.0902257, -1.9431   ,\n",
       "       -0.976336 ,  1.01738  ,  0.194592 , -0.074333 ,  0.715081 ,\n",
       "        0.0595207,  1.32296  , -0.295649 ,  2.86259  , -2.96882  ,\n",
       "       -1.10962  , -1.98632  , -1.22619  , -0.284225 ,  0.392745 ,\n",
       "       -0.421852 , -0.0695059, -2.04821  , -0.539996 ,  1.01838  ,\n",
       "        0.865285 , -0.860027 ,  0.485041 ,  0.439294 ,  1.08262  ,\n",
       "       -2.04917  , -0.431008 , -0.535928 ,  1.59408  ,  1.77033  ,\n",
       "       -0.538983 ,  3.30947  ,  1.00562  , -0.981646 , -0.118559 ,\n",
       "        2.41239  , -0.793075 , -0.85939  ,  1.21884  , -1.47254  ,\n",
       "       -0.389585 , -2.17884  ,  1.06063  , -3.05622  , -1.06393  ,\n",
       "        0.0178502, -0.172516 ,  0.251927 , -1.00737  ,  1.66495  ,\n",
       "        2.43406  ,  0.133554 ,  1.1932   , -2.30438  , -1.99064  ,\n",
       "       -0.312041 , -1.93902  ,  0.26563  , -1.00119  ,  1.17534  ,\n",
       "        1.35473  ,  0.947308 , -0.0339226, -0.778325 , -1.2718   ,\n",
       "       -0.722659 , -0.266433 , -2.38414  , -2.42451  , -0.721286 ,\n",
       "       -1.37891  , -1.65384  ,  0.32894  ,  1.75604  , -0.77313  ,\n",
       "        1.51866  , -1.60757  , -1.64426  ,  1.68925  ,  1.21393  ,\n",
       "        2.0976   , -0.415502 ,  1.38358  ,  1.96632  , -0.281563 ,\n",
       "        0.463067 , -0.10405  ,  0.298547 , -1.95347  ,  1.17299  ,\n",
       "       -0.21517  ,  1.87654  , -0.464946 , -0.105183 , -0.441476 ,\n",
       "       -1.12336  ,  2.30802  , -1.42575  ,  3.18382  ,  2.68174  ,\n",
       "       -0.594929 ,  0.419408 , -3.13046  ,  1.05513  , -0.546862 ,\n",
       "        0.227277 , -0.067337 ,  1.0119   , -2.67388  ,  3.06748  ,\n",
       "        2.19581  , -0.570493 , -1.50234  ,  2.8291   , -0.233852 ,\n",
       "       -1.95223  , -0.858177 ,  0.447596 ,  0.703766 , -1.19499  ,\n",
       "        1.60821  ,  0.595142 ,  1.3373   ,  1.27369  ,  0.518926 ,\n",
       "       -0.93014  , -2.37045  , -0.730593 , -0.796339 , -1.95475  ,\n",
       "        0.921851 , -1.72625  ,  0.0947835, -1.00169  ,  0.859436 ,\n",
       "       -2.45586  ,  2.42763  , -1.00112  ,  1.07748  , -0.40437  ,\n",
       "       -0.0130815,  0.298923 ,  1.73343  , -1.98648  ,  0.558366 ,\n",
       "        0.618461 ,  1.22759  , -1.71584  , -0.0609592,  0.322765 ,\n",
       "        0.407554 ,  1.61751  , -1.77222  ,  0.203277 ,  1.09255  ])"
      ]
     },
     "execution_count": 75,
     "metadata": {},
     "output_type": "execute_result"
    }
   ],
   "source": [
    "embeddings[2]"
   ]
  },
  {
   "cell_type": "code",
   "execution_count": 76,
   "metadata": {
    "collapsed": true
   },
   "outputs": [],
   "source": [
    "from keras.preprocessing import sequence as seq"
   ]
  },
  {
   "cell_type": "code",
   "execution_count": 77,
   "metadata": {
    "collapsed": true
   },
   "outputs": [],
   "source": [
    "def load_and_transform_data_to_phrases(labels, parents, tokens, words2ids):\n",
    "\n",
    "    \"\"\"\n",
    "    Dokumentacja\n",
    "    \"\"\"\n",
    "    \n",
    "\n",
    "    transform_label = {'-1':0, '0':1, '1':2}\n",
    "    \n",
    "    l = open(labels, \"r\")\n",
    "    labels = [[transform_label[y] for y in x.split()] for x in l.readlines()] \n",
    "    l.close()\n",
    "\n",
    "    p = open(parents,\"r\")\n",
    "    parents = [[int(y) for y in x.split()] for x in p.readlines()]\n",
    "    p.close()\n",
    "\n",
    "    t = open(tokens,\"r\")\n",
    "    tokens = [x.split() for x in t.readlines()]\n",
    "    t.close()\n",
    "    \n",
    "    k = 0\n",
    "    result = []\n",
    "    \n",
    "    for labels_i,parents_i,tokens_i in zip(labels,parents,tokens):\n",
    "        \n",
    "        k = k + 1\n",
    "         \n",
    "        s = []\n",
    "        for i in range(len(tokens_i)):\n",
    "            s.append([i,int(parents_i[i]),labels_i[i],tokens_i[i]])\n",
    "\n",
    "\n",
    "        if len(s) == 1: #przypadek gdy fraza sklada sie z jednego tokena\n",
    "\n",
    "            result.append((\\\n",
    "                                  tokens[0],\n",
    "                                  np.array([words2ids.get(tokens[0], 1)]),\\\n",
    "                                  np.array(labels_i[0]) \\\n",
    "                              ))    \n",
    "                           \n",
    "        else: \n",
    "            \n",
    "            for i in range(len(s)): \n",
    "                children = []\n",
    "                for j in range(len(s)):\n",
    "                    if s[j][1] == i+1:\n",
    "                        children.append(s[j][0])\n",
    "                s[i].append(children)\n",
    "\n",
    "                \n",
    "            words = [x[0] for x in s]\n",
    "            children = [x[4] for x in s]\n",
    "            tokens = [x[3] for x in s]\n",
    "            labels_in_batch = [x[2] for x in s]\n",
    "        \n",
    "            phrases = [[k] for k in range(len(children))]\n",
    "            for i in range(len(children)):\n",
    "                for e in phrases[i]:\n",
    "                    phrases[i].extend(children[e])\n",
    "           \n",
    "            phrases = [ np.sort(x) for x in phrases]\n",
    "          \n",
    "            phrases = list(zip([np.array(tokens_i)[x] for x in phrases],\n",
    "                               [np.array([words2ids.get(t,1) for t in tokens_i])[x] for x in phrases],\n",
    "                               labels_i))\n",
    "\n",
    "            result.extend(phrases)\n",
    "           \n",
    "    return result"
   ]
  },
  {
   "cell_type": "code",
   "execution_count": 78,
   "metadata": {
    "collapsed": true
   },
   "outputs": [],
   "source": [
    "train_data = load_and_transform_data_to_phrases(\"Dane/data_poleval/training-treebank/rev_labels.txt\", \"Dane/data_poleval/training-treebank/rev_parents.txt\",\"Dane/data_poleval/training-treebank/rev_sentence.txt\",words2ids)\n",
    "test_data = load_and_transform_data_to_phrases(\"Dane/data_poleval/gold_labels\", \"Dane/data_poleval/poleval_test/polevaltest_parents.txt\",\"Dane/data_poleval/poleval_test/polevaltest_sentence.txt\",words2ids) "
   ]
  },
  {
   "cell_type": "code",
   "execution_count": 81,
   "metadata": {},
   "outputs": [
    {
     "data": {
      "text/plain": [
       "[(array(['Słodkawy'], \n",
       "        dtype='<U8'), array([2731]), 1),\n",
       " (array(['Słodkawy', 'i', 'pełen', 'klasy', '.'], \n",
       "        dtype='<U8'), array([2731, 1746, 1465,  515,    1]), 1),\n",
       " (array(['pełen'], \n",
       "        dtype='<U8'), array([1465]), 2),\n",
       " (array(['pełen', 'klasy'], \n",
       "        dtype='<U8'), array([1465,  515]), 2),\n",
       " (array(['.'], \n",
       "        dtype='<U8'), array([1]), 1),\n",
       " (array(['Letnia'], \n",
       "        dtype='<U13'), array([1277]), 1),\n",
       " (array(['Letnia', 'propozycja', 'dla', 'wysmakowanych', 'mężczyzn', '.'], \n",
       "        dtype='<U13'), array([1277, 1570, 3893, 1789, 3526,    1]), 2),\n",
       " (array(['dla', 'wysmakowanych', 'mężczyzn'], \n",
       "        dtype='<U13'), array([3893, 1789, 3526]), 2),\n",
       " (array(['wysmakowanych'], \n",
       "        dtype='<U13'), array([1789]), 1),\n",
       " (array(['wysmakowanych', 'mężczyzn'], \n",
       "        dtype='<U13'), array([1789, 3526]), 2),\n",
       " (array(['.'], \n",
       "        dtype='<U13'), array([1]), 1),\n",
       " (array(['Raczej', 'nie', 'dla', 'młodych', 'chłopców', '.'], \n",
       "        dtype='<U8'), array([3458, 4205, 3893, 4780, 4677,    1]), 1),\n",
       " (array(['nie', 'dla', 'młodych', 'chłopców', '.'], \n",
       "        dtype='<U8'), array([4205, 3893, 4780, 4677,    1]), 1),\n",
       " (array(['dla', 'młodych', 'chłopców'], \n",
       "        dtype='<U8'), array([3893, 4780, 4677]), 1),\n",
       " (array(['młodych'], \n",
       "        dtype='<U8'), array([4780]), 2)]"
      ]
     },
     "execution_count": 81,
     "metadata": {},
     "output_type": "execute_result"
    }
   ],
   "source": [
    "# 2 - pozytywny\n",
    "# 1 - neutralny\n",
    "# 0 - negatywny\n",
    "train_data[:15]"
   ]
  },
  {
   "cell_type": "code",
   "execution_count": 80,
   "metadata": {
    "collapsed": true
   },
   "outputs": [],
   "source": [
    "import pandas as pd\n",
    "\n",
    "(X_train, y_train), \\\n",
    "(X_test, y_test) = \\\n",
    "( [x[1] for x in train_data], np.array(pd.get_dummies(np.array([x[2] for x in train_data]))) ) , \\\n",
    "( [x[1] for x in test_data], np.array(pd.get_dummies(np.array([x[2] for x in test_data]))) ) "
   ]
  },
  {
   "cell_type": "code",
   "execution_count": 82,
   "metadata": {},
   "outputs": [
    {
     "data": {
      "text/plain": [
       "[array([2731]),\n",
       " array([2731, 1746, 1465,  515,    1]),\n",
       " array([1465]),\n",
       " array([1465,  515]),\n",
       " array([1])]"
      ]
     },
     "execution_count": 82,
     "metadata": {},
     "output_type": "execute_result"
    }
   ],
   "source": [
    "X_train[:5]"
   ]
  },
  {
   "cell_type": "code",
   "execution_count": 83,
   "metadata": {},
   "outputs": [
    {
     "data": {
      "text/plain": [
       "array([[0, 1, 0],\n",
       "       [0, 1, 0],\n",
       "       [0, 0, 1],\n",
       "       [0, 0, 1],\n",
       "       [0, 1, 0]], dtype=uint8)"
      ]
     },
     "execution_count": 83,
     "metadata": {},
     "output_type": "execute_result"
    }
   ],
   "source": [
    "y_train[:5]"
   ]
  },
  {
   "cell_type": "code",
   "execution_count": 84,
   "metadata": {},
   "outputs": [
    {
     "name": "stdout",
     "output_type": "stream",
     "text": [
      "40\n"
     ]
    }
   ],
   "source": [
    "max_len = np.max([len(x[1]) for x in train_data+test_data])\n",
    "print(max_len)"
   ]
  },
  {
   "cell_type": "code",
   "execution_count": 85,
   "metadata": {
    "collapsed": true
   },
   "outputs": [],
   "source": [
    "from keras.preprocessing import sequence\n",
    "\n",
    "X_train = sequence.pad_sequences(X_train, maxlen=max_len,value=0)\n",
    "X_test = sequence.pad_sequences(X_test, maxlen=max_len,value=0)"
   ]
  },
  {
   "cell_type": "code",
   "execution_count": 86,
   "metadata": {},
   "outputs": [
    {
     "data": {
      "text/plain": [
       "array([[   0,    0,    0,    0,    0,    0,    0,    0,    0,    0,    0,\n",
       "           0,    0,    0,    0,    0,    0,    0,    0,    0,    0,    0,\n",
       "           0,    0,    0,    0,    0,    0,    0,    0,    0,    0,    0,\n",
       "           0,    0,    0,    0,    0,    0, 2731],\n",
       "       [   0,    0,    0,    0,    0,    0,    0,    0,    0,    0,    0,\n",
       "           0,    0,    0,    0,    0,    0,    0,    0,    0,    0,    0,\n",
       "           0,    0,    0,    0,    0,    0,    0,    0,    0,    0,    0,\n",
       "           0,    0, 2731, 1746, 1465,  515,    1],\n",
       "       [   0,    0,    0,    0,    0,    0,    0,    0,    0,    0,    0,\n",
       "           0,    0,    0,    0,    0,    0,    0,    0,    0,    0,    0,\n",
       "           0,    0,    0,    0,    0,    0,    0,    0,    0,    0,    0,\n",
       "           0,    0,    0,    0,    0,    0, 1465],\n",
       "       [   0,    0,    0,    0,    0,    0,    0,    0,    0,    0,    0,\n",
       "           0,    0,    0,    0,    0,    0,    0,    0,    0,    0,    0,\n",
       "           0,    0,    0,    0,    0,    0,    0,    0,    0,    0,    0,\n",
       "           0,    0,    0,    0,    0, 1465,  515],\n",
       "       [   0,    0,    0,    0,    0,    0,    0,    0,    0,    0,    0,\n",
       "           0,    0,    0,    0,    0,    0,    0,    0,    0,    0,    0,\n",
       "           0,    0,    0,    0,    0,    0,    0,    0,    0,    0,    0,\n",
       "           0,    0,    0,    0,    0,    0,    1]], dtype=int32)"
      ]
     },
     "execution_count": 86,
     "metadata": {},
     "output_type": "execute_result"
    }
   ],
   "source": [
    "X_train[:5]"
   ]
  },
  {
   "cell_type": "code",
   "execution_count": 87,
   "metadata": {},
   "outputs": [
    {
     "data": {
      "text/plain": [
       "(9510, 40)"
      ]
     },
     "execution_count": 87,
     "metadata": {},
     "output_type": "execute_result"
    }
   ],
   "source": [
    "X_train.shape"
   ]
  },
  {
   "cell_type": "code",
   "execution_count": 88,
   "metadata": {},
   "outputs": [
    {
     "name": "stdout",
     "output_type": "stream",
     "text": [
      "[ 0.02355415  0.7809674   0.19547844]\n"
     ]
    },
    {
     "data": {
      "text/plain": [
       "array([ 0.07232019,  0.7263721 ,  0.20130771])"
      ]
     },
     "execution_count": 88,
     "metadata": {},
     "output_type": "execute_result"
    }
   ],
   "source": [
    "# Rozklad klas\n",
    "print(np.mean(y_train,axis=0))\n",
    "np.mean(y_test,axis=0)"
   ]
  },
  {
   "cell_type": "code",
   "execution_count": 89,
   "metadata": {},
   "outputs": [],
   "source": [
    "from keras.models import Sequential\n",
    "from keras.layers.embeddings import Embedding\n",
    "from keras.layers import Dense, LSTM, SimpleRNN, Bidirectional, Activation\n",
    "\n",
    "from keras.callbacks import EarlyStopping\n",
    "\n",
    "n_embeddings = embeddings.shape[0] # zawiera 1 na brakujace slowa i 1 na padding\n",
    "embedding_vecor_length = 300"
   ]
  },
  {
   "cell_type": "markdown",
   "metadata": {},
   "source": [
    "### Cel: zbudować jak najlepszą sieć klasyfikującą wydźwięk fraz. \n",
    "\n",
    "Sugestia: przeanalizować poprzednie model z różnymi parametrami."
   ]
  },
  {
   "cell_type": "code",
   "execution_count": 114,
   "metadata": {
    "collapsed": true
   },
   "outputs": [],
   "source": [
    "# Simple RNN"
   ]
  },
  {
   "cell_type": "code",
   "execution_count": 115,
   "metadata": {},
   "outputs": [
    {
     "data": {
      "text/plain": [
       "(5000, (9510, 40))"
      ]
     },
     "execution_count": 115,
     "metadata": {},
     "output_type": "execute_result"
    }
   ],
   "source": [
    "n_embeddings, X_train.shape"
   ]
  },
  {
   "cell_type": "code",
   "execution_count": 116,
   "metadata": {
    "scrolled": true
   },
   "outputs": [
    {
     "name": "stdout",
     "output_type": "stream",
     "text": [
      "Train on 7132 samples, validate on 2378 samples\n",
      "Epoch 1/30\n",
      "7132/7132 [==============================] - 16s - loss: 0.5636 - categorical_accuracy: 0.7657 - val_loss: 0.5383 - val_categorical_accuracy: 0.7738\n",
      "Epoch 2/30\n",
      "7132/7132 [==============================] - 16s - loss: 0.4169 - categorical_accuracy: 0.8365 - val_loss: 0.4833 - val_categorical_accuracy: 0.8108\n",
      "Epoch 3/30\n",
      "7132/7132 [==============================] - 16s - loss: 0.3679 - categorical_accuracy: 0.8596 - val_loss: 0.4651 - val_categorical_accuracy: 0.8171\n",
      "Epoch 4/30\n",
      "7132/7132 [==============================] - 16s - loss: 0.3349 - categorical_accuracy: 0.8755 - val_loss: 0.4497 - val_categorical_accuracy: 0.8318\n",
      "Epoch 5/30\n",
      "7132/7132 [==============================] - 15s - loss: 0.3093 - categorical_accuracy: 0.8878 - val_loss: 0.4414 - val_categorical_accuracy: 0.8415\n",
      "Epoch 6/30\n",
      "7132/7132 [==============================] - 15s - loss: 0.2875 - categorical_accuracy: 0.8986 - val_loss: 0.4397 - val_categorical_accuracy: 0.8394\n",
      "Epoch 7/30\n",
      "7132/7132 [==============================] - 15s - loss: 0.2685 - categorical_accuracy: 0.9073 - val_loss: 0.4380 - val_categorical_accuracy: 0.8402\n",
      "Epoch 8/30\n",
      "7132/7132 [==============================] - 15s - loss: 0.2515 - categorical_accuracy: 0.9162 - val_loss: 0.4364 - val_categorical_accuracy: 0.8444\n",
      "Epoch 9/30\n",
      "7132/7132 [==============================] - 15s - loss: 0.2353 - categorical_accuracy: 0.9199 - val_loss: 0.4335 - val_categorical_accuracy: 0.8558\n",
      "Epoch 10/30\n",
      "7132/7132 [==============================] - 15s - loss: 0.2211 - categorical_accuracy: 0.9257 - val_loss: 0.4383 - val_categorical_accuracy: 0.8490\n",
      "Epoch 11/30\n",
      "7132/7132 [==============================] - 15s - loss: 0.2073 - categorical_accuracy: 0.9316 - val_loss: 0.4346 - val_categorical_accuracy: 0.8562\n",
      "Epoch 12/30\n",
      "7132/7132 [==============================] - 15s - loss: 0.1952 - categorical_accuracy: 0.9372 - val_loss: 0.4357 - val_categorical_accuracy: 0.8574\n"
     ]
    },
    {
     "data": {
      "text/plain": [
       "<keras.callbacks.History at 0x13e886c50>"
      ]
     },
     "execution_count": 116,
     "metadata": {},
     "output_type": "execute_result"
    }
   ],
   "source": [
    "model = Sequential()\n",
    "\n",
    "model.add(Embedding(n_embeddings, embedding_vecor_length, input_length=max_len, weights=[embeddings]))\n",
    "model.add(SimpleRNN(100))\n",
    "model.add(Dense(3, activation='softmax'))\n",
    "\n",
    "model.compile(loss='categorical_crossentropy', optimizer='sgd', metrics=['categorical_accuracy'])\n",
    "\n",
    "early_stopping = EarlyStopping(patience=2, monitor='val_loss')\n",
    "\n",
    "model.fit(X_train, y_train, epochs=30, batch_size=batch_size, callbacks=[early_stopping], validation_split=0.25)"
   ]
  },
  {
   "cell_type": "code",
   "execution_count": 117,
   "metadata": {},
   "outputs": [
    {
     "name": "stdout",
     "output_type": "stream",
     "text": [
      "5024/5047 [============================>.] - ETA: 0s"
     ]
    },
    {
     "data": {
      "text/plain": [
       "0.77848226675213461"
      ]
     },
     "execution_count": 117,
     "metadata": {},
     "output_type": "execute_result"
    }
   ],
   "source": [
    "model.evaluate(X_test, y_test)[1]"
   ]
  },
  {
   "cell_type": "code",
   "execution_count": 118,
   "metadata": {},
   "outputs": [
    {
     "name": "stdout",
     "output_type": "stream",
     "text": [
      "_________________________________________________________________\n",
      "Layer (type)                 Output Shape              Param #   \n",
      "=================================================================\n",
      "embedding_16 (Embedding)     (None, 40, 300)           1500000   \n",
      "_________________________________________________________________\n",
      "simple_rnn_11 (SimpleRNN)    (None, 100)               40100     \n",
      "_________________________________________________________________\n",
      "dense_20 (Dense)             (None, 3)                 303       \n",
      "=================================================================\n",
      "Total params: 1,540,403\n",
      "Trainable params: 1,540,403\n",
      "Non-trainable params: 0\n",
      "_________________________________________________________________\n"
     ]
    }
   ],
   "source": [
    "model.summary()"
   ]
  },
  {
   "cell_type": "code",
   "execution_count": 119,
   "metadata": {
    "collapsed": true
   },
   "outputs": [],
   "source": [
    "# LSTM - porównaj na zbiorze testowym jakość działania modelu wziętego z najlepszej iteracji oraz modelu po zatrzymaniu uczenia"
   ]
  },
  {
   "cell_type": "code",
   "execution_count": 120,
   "metadata": {
    "scrolled": true
   },
   "outputs": [
    {
     "name": "stdout",
     "output_type": "stream",
     "text": [
      "Train on 7132 samples, validate on 2378 samples\n",
      "Epoch 1/30\n",
      "7132/7132 [==============================] - 58s - loss: 0.6987 - categorical_accuracy: 0.7650 - val_loss: 0.6023 - val_categorical_accuracy: 0.7611\n",
      "Epoch 2/30\n",
      "7132/7132 [==============================] - 55s - loss: 0.4972 - categorical_accuracy: 0.8044 - val_loss: 0.5327 - val_categorical_accuracy: 0.7733\n",
      "Epoch 3/30\n",
      "7132/7132 [==============================] - 59s - loss: 0.4455 - categorical_accuracy: 0.8236 - val_loss: 0.4949 - val_categorical_accuracy: 0.7939\n",
      "Epoch 4/30\n",
      "7132/7132 [==============================] - 63s - loss: 0.4150 - categorical_accuracy: 0.8392 - val_loss: 0.4702 - val_categorical_accuracy: 0.8053\n",
      "Epoch 5/30\n",
      "7132/7132 [==============================] - 68s - loss: 0.3920 - categorical_accuracy: 0.8493 - val_loss: 0.4513 - val_categorical_accuracy: 0.8116\n",
      "Epoch 6/30\n",
      "7132/7132 [==============================] - 61s - loss: 0.3732 - categorical_accuracy: 0.8568 - val_loss: 0.4365 - val_categorical_accuracy: 0.8213\n",
      "Epoch 7/30\n",
      "7132/7132 [==============================] - 62s - loss: 0.3573 - categorical_accuracy: 0.8639 - val_loss: 0.4251 - val_categorical_accuracy: 0.8255\n",
      "Epoch 8/30\n",
      "7132/7132 [==============================] - 62s - loss: 0.3431 - categorical_accuracy: 0.8704 - val_loss: 0.4133 - val_categorical_accuracy: 0.8364\n",
      "Epoch 9/30\n",
      "7132/7132 [==============================] - 66s - loss: 0.3302 - categorical_accuracy: 0.8759 - val_loss: 0.4130 - val_categorical_accuracy: 0.8326\n",
      "Epoch 10/30\n",
      "7132/7132 [==============================] - 63s - loss: 0.3186 - categorical_accuracy: 0.8808 - val_loss: 0.3986 - val_categorical_accuracy: 0.8436\n",
      "Epoch 11/30\n",
      "7132/7132 [==============================] - 66s - loss: 0.3080 - categorical_accuracy: 0.8836 - val_loss: 0.3956 - val_categorical_accuracy: 0.8444\n",
      "Epoch 12/30\n",
      "7132/7132 [==============================] - 71s - loss: 0.2979 - categorical_accuracy: 0.8883 - val_loss: 0.3875 - val_categorical_accuracy: 0.8507\n",
      "Epoch 13/30\n",
      "7132/7132 [==============================] - 69s - loss: 0.2886 - categorical_accuracy: 0.8943 - val_loss: 0.3876 - val_categorical_accuracy: 0.8503\n",
      "Epoch 14/30\n",
      "7132/7132 [==============================] - 68s - loss: 0.2795 - categorical_accuracy: 0.8989 - val_loss: 0.3774 - val_categorical_accuracy: 0.8549\n",
      "Epoch 15/30\n",
      "7132/7132 [==============================] - 67s - loss: 0.2711 - categorical_accuracy: 0.9010 - val_loss: 0.3802 - val_categorical_accuracy: 0.8545\n",
      "Epoch 16/30\n",
      "7132/7132 [==============================] - 63s - loss: 0.2635 - categorical_accuracy: 0.9044 - val_loss: 0.3766 - val_categorical_accuracy: 0.8553\n",
      "Epoch 17/30\n",
      "7132/7132 [==============================] - 64s - loss: 0.2559 - categorical_accuracy: 0.9068 - val_loss: 0.3704 - val_categorical_accuracy: 0.8595\n",
      "Epoch 18/30\n",
      "7132/7132 [==============================] - 63s - loss: 0.2486 - categorical_accuracy: 0.9119 - val_loss: 0.3684 - val_categorical_accuracy: 0.8600\n",
      "Epoch 19/30\n",
      "7132/7132 [==============================] - 63s - loss: 0.2418 - categorical_accuracy: 0.9162 - val_loss: 0.3732 - val_categorical_accuracy: 0.8608\n",
      "Epoch 20/30\n",
      "7132/7132 [==============================] - 64s - loss: 0.2354 - categorical_accuracy: 0.9183 - val_loss: 0.3629 - val_categorical_accuracy: 0.8642\n",
      "Epoch 21/30\n",
      "7132/7132 [==============================] - 64s - loss: 0.2289 - categorical_accuracy: 0.9225 - val_loss: 0.3704 - val_categorical_accuracy: 0.8654\n",
      "Epoch 22/30\n",
      "7132/7132 [==============================] - 63s - loss: 0.2228 - categorical_accuracy: 0.9233 - val_loss: 0.3655 - val_categorical_accuracy: 0.8663\n",
      "Epoch 23/30\n",
      "7132/7132 [==============================] - 69s - loss: 0.2173 - categorical_accuracy: 0.9264 - val_loss: 0.3583 - val_categorical_accuracy: 0.8692\n",
      "Epoch 24/30\n",
      "7132/7132 [==============================] - 71s - loss: 0.2116 - categorical_accuracy: 0.9296 - val_loss: 0.3554 - val_categorical_accuracy: 0.8734\n",
      "Epoch 25/30\n",
      "7132/7132 [==============================] - 71s - loss: 0.2063 - categorical_accuracy: 0.9333 - val_loss: 0.3573 - val_categorical_accuracy: 0.8730\n",
      "Epoch 26/30\n",
      "7132/7132 [==============================] - 67s - loss: 0.2009 - categorical_accuracy: 0.9352 - val_loss: 0.3546 - val_categorical_accuracy: 0.8759\n",
      "Epoch 27/30\n",
      "7132/7132 [==============================] - 69s - loss: 0.1960 - categorical_accuracy: 0.9369 - val_loss: 0.3540 - val_categorical_accuracy: 0.8743\n",
      "Epoch 28/30\n",
      "7132/7132 [==============================] - 68s - loss: 0.1909 - categorical_accuracy: 0.9391 - val_loss: 0.3518 - val_categorical_accuracy: 0.8751\n",
      "Epoch 29/30\n",
      "7132/7132 [==============================] - 69s - loss: 0.1863 - categorical_accuracy: 0.9425 - val_loss: 0.3487 - val_categorical_accuracy: 0.8751\n",
      "Epoch 30/30\n",
      "7132/7132 [==============================] - 66s - loss: 0.1817 - categorical_accuracy: 0.9436 - val_loss: 0.3486 - val_categorical_accuracy: 0.8764\n"
     ]
    },
    {
     "data": {
      "text/plain": [
       "<keras.callbacks.History at 0x1445159b0>"
      ]
     },
     "execution_count": 120,
     "metadata": {},
     "output_type": "execute_result"
    }
   ],
   "source": [
    "model = Sequential()\n",
    "\n",
    "model.add(Embedding(n_embeddings, embedding_vecor_length, input_length=max_len, weights=[embeddings]))\n",
    "model.add(LSTM(100))\n",
    "model.add(Dense(3, activation='softmax'))\n",
    "\n",
    "model.compile(loss='categorical_crossentropy', optimizer='sgd', metrics=['categorical_accuracy'])\n",
    "\n",
    "early_stopping = EarlyStopping(patience=2, monitor='val_loss')\n",
    "\n",
    "model.fit(X_train, y_train, epochs=30, batch_size=batch_size, callbacks=[early_stopping], validation_split=0.25)"
   ]
  },
  {
   "cell_type": "code",
   "execution_count": 121,
   "metadata": {},
   "outputs": [
    {
     "name": "stdout",
     "output_type": "stream",
     "text": [
      "5047/5047 [==============================] - 8s     \n"
     ]
    },
    {
     "data": {
      "text/plain": [
       "0.79552209220216941"
      ]
     },
     "execution_count": 121,
     "metadata": {},
     "output_type": "execute_result"
    }
   ],
   "source": [
    "model.evaluate(X_test, y_test)[1]"
   ]
  },
  {
   "cell_type": "code",
   "execution_count": 122,
   "metadata": {},
   "outputs": [
    {
     "name": "stdout",
     "output_type": "stream",
     "text": [
      "_________________________________________________________________\n",
      "Layer (type)                 Output Shape              Param #   \n",
      "=================================================================\n",
      "embedding_17 (Embedding)     (None, 40, 300)           1500000   \n",
      "_________________________________________________________________\n",
      "lstm_5 (LSTM)                (None, 100)               160400    \n",
      "_________________________________________________________________\n",
      "dense_21 (Dense)             (None, 3)                 303       \n",
      "=================================================================\n",
      "Total params: 1,660,703\n",
      "Trainable params: 1,660,703\n",
      "Non-trainable params: 0\n",
      "_________________________________________________________________\n"
     ]
    }
   ],
   "source": [
    "model.summary()"
   ]
  },
  {
   "cell_type": "code",
   "execution_count": 123,
   "metadata": {
    "collapsed": true
   },
   "outputs": [],
   "source": [
    "# LSTM + warstwa dense na końcu"
   ]
  },
  {
   "cell_type": "code",
   "execution_count": 124,
   "metadata": {
    "scrolled": true
   },
   "outputs": [
    {
     "name": "stdout",
     "output_type": "stream",
     "text": [
      "Train on 7132 samples, validate on 2378 samples\n",
      "Epoch 1/30\n",
      "7132/7132 [==============================] - 75s - loss: 0.5967 - categorical_accuracy: 0.7895 - val_loss: 0.6439 - val_categorical_accuracy: 0.7553\n",
      "Epoch 2/30\n",
      "7132/7132 [==============================] - 71s - loss: 0.5701 - categorical_accuracy: 0.7895 - val_loss: 0.6295 - val_categorical_accuracy: 0.7553\n",
      "Epoch 3/30\n",
      "7132/7132 [==============================] - 71s - loss: 0.5592 - categorical_accuracy: 0.7895 - val_loss: 0.6216 - val_categorical_accuracy: 0.7553\n",
      "Epoch 4/30\n",
      "7132/7132 [==============================] - 70s - loss: 0.5464 - categorical_accuracy: 0.7895 - val_loss: 0.6049 - val_categorical_accuracy: 0.7553\n",
      "Epoch 5/30\n",
      "7132/7132 [==============================] - 71s - loss: 0.5325 - categorical_accuracy: 0.7895 - val_loss: 0.5983 - val_categorical_accuracy: 0.7553\n",
      "Epoch 6/30\n",
      "7132/7132 [==============================] - 72s - loss: 0.5164 - categorical_accuracy: 0.7902 - val_loss: 0.5791 - val_categorical_accuracy: 0.7561\n",
      "Epoch 7/30\n",
      "7132/7132 [==============================] - 70s - loss: 0.4987 - categorical_accuracy: 0.7973 - val_loss: 0.5612 - val_categorical_accuracy: 0.7607\n",
      "Epoch 8/30\n",
      "7132/7132 [==============================] - 71s - loss: 0.4806 - categorical_accuracy: 0.8093 - val_loss: 0.5482 - val_categorical_accuracy: 0.7641\n",
      "Epoch 9/30\n",
      "7132/7132 [==============================] - 72s - loss: 0.4627 - categorical_accuracy: 0.8172 - val_loss: 0.5182 - val_categorical_accuracy: 0.7788\n",
      "Epoch 10/30\n",
      "7132/7132 [==============================] - 71s - loss: 0.4462 - categorical_accuracy: 0.8228 - val_loss: 0.5057 - val_categorical_accuracy: 0.7813\n",
      "Epoch 11/30\n",
      "7132/7132 [==============================] - 72s - loss: 0.4308 - categorical_accuracy: 0.8274 - val_loss: 0.4901 - val_categorical_accuracy: 0.7876\n",
      "Epoch 12/30\n",
      "7132/7132 [==============================] - 69s - loss: 0.4161 - categorical_accuracy: 0.8322 - val_loss: 0.4773 - val_categorical_accuracy: 0.7923\n",
      "Epoch 13/30\n",
      "7132/7132 [==============================] - 67s - loss: 0.4038 - categorical_accuracy: 0.8381 - val_loss: 0.4659 - val_categorical_accuracy: 0.7952\n",
      "Epoch 14/30\n",
      "7132/7132 [==============================] - 66s - loss: 0.3919 - categorical_accuracy: 0.8472 - val_loss: 0.4512 - val_categorical_accuracy: 0.8150\n",
      "Epoch 15/30\n",
      "7132/7132 [==============================] - 66s - loss: 0.3807 - categorical_accuracy: 0.8542 - val_loss: 0.4438 - val_categorical_accuracy: 0.8188\n",
      "Epoch 16/30\n",
      "7132/7132 [==============================] - 67s - loss: 0.3710 - categorical_accuracy: 0.8608 - val_loss: 0.4372 - val_categorical_accuracy: 0.8225\n",
      "Epoch 17/30\n",
      "7132/7132 [==============================] - 70s - loss: 0.3614 - categorical_accuracy: 0.8639 - val_loss: 0.4291 - val_categorical_accuracy: 0.8267\n",
      "Epoch 18/30\n",
      "7132/7132 [==============================] - 65s - loss: 0.3529 - categorical_accuracy: 0.8688 - val_loss: 0.4193 - val_categorical_accuracy: 0.8394\n",
      "Epoch 19/30\n",
      "7132/7132 [==============================] - 63s - loss: 0.3444 - categorical_accuracy: 0.8730 - val_loss: 0.4132 - val_categorical_accuracy: 0.8436\n",
      "Epoch 20/30\n",
      "7132/7132 [==============================] - 65s - loss: 0.3362 - categorical_accuracy: 0.8775 - val_loss: 0.4022 - val_categorical_accuracy: 0.8486\n",
      "Epoch 21/30\n",
      "7132/7132 [==============================] - 67s - loss: 0.3291 - categorical_accuracy: 0.8817 - val_loss: 0.4101 - val_categorical_accuracy: 0.8440\n",
      "Epoch 22/30\n",
      "7132/7132 [==============================] - 68s - loss: 0.3216 - categorical_accuracy: 0.8856 - val_loss: 0.3986 - val_categorical_accuracy: 0.8545\n",
      "Epoch 23/30\n",
      "7132/7132 [==============================] - 74s - loss: 0.3149 - categorical_accuracy: 0.8864 - val_loss: 0.3951 - val_categorical_accuracy: 0.8553\n",
      "Epoch 24/30\n",
      "7132/7132 [==============================] - 73s - loss: 0.3081 - categorical_accuracy: 0.8904 - val_loss: 0.3894 - val_categorical_accuracy: 0.8562\n",
      "Epoch 25/30\n",
      "7132/7132 [==============================] - 68s - loss: 0.3017 - categorical_accuracy: 0.8934 - val_loss: 0.3930 - val_categorical_accuracy: 0.8574\n",
      "Epoch 26/30\n",
      "7132/7132 [==============================] - 68s - loss: 0.2954 - categorical_accuracy: 0.8968 - val_loss: 0.3786 - val_categorical_accuracy: 0.8646\n",
      "Epoch 27/30\n",
      "7132/7132 [==============================] - 59s - loss: 0.2892 - categorical_accuracy: 0.9002 - val_loss: 0.3812 - val_categorical_accuracy: 0.8612\n",
      "Epoch 28/30\n",
      "7132/7132 [==============================] - 54s - loss: 0.2832 - categorical_accuracy: 0.9028 - val_loss: 0.3750 - val_categorical_accuracy: 0.8663\n",
      "Epoch 29/30\n",
      "7132/7132 [==============================] - 54s - loss: 0.2773 - categorical_accuracy: 0.9073 - val_loss: 0.3782 - val_categorical_accuracy: 0.8675\n",
      "Epoch 30/30\n",
      "7132/7132 [==============================] - 57s - loss: 0.2718 - categorical_accuracy: 0.9077 - val_loss: 0.3742 - val_categorical_accuracy: 0.8717\n"
     ]
    },
    {
     "data": {
      "text/plain": [
       "<keras.callbacks.History at 0x147637f60>"
      ]
     },
     "execution_count": 124,
     "metadata": {},
     "output_type": "execute_result"
    }
   ],
   "source": [
    "model = Sequential()\n",
    "\n",
    "model.add(Embedding(n_embeddings, embedding_vecor_length, input_length=max_len, weights=[embeddings]))\n",
    "model.add(LSTM(100))\n",
    "model.add(Dense(100, activation='sigmoid'))\n",
    "model.add(Dense(3, activation='softmax'))\n",
    "\n",
    "model.compile(loss='categorical_crossentropy', optimizer='sgd', metrics=['categorical_accuracy'])\n",
    "\n",
    "early_stopping = EarlyStopping(patience=2, monitor='val_loss')\n",
    "\n",
    "model.fit(X_train, y_train, epochs=30, batch_size=batch_size, callbacks=[early_stopping], validation_split=0.25)"
   ]
  },
  {
   "cell_type": "code",
   "execution_count": 125,
   "metadata": {},
   "outputs": [
    {
     "name": "stdout",
     "output_type": "stream",
     "text": [
      "5024/5047 [============================>.] - ETA: 0s"
     ]
    },
    {
     "data": {
      "text/plain": [
       "0.79532395469473927"
      ]
     },
     "execution_count": 125,
     "metadata": {},
     "output_type": "execute_result"
    }
   ],
   "source": [
    "model.evaluate(X_test, y_test)[1]"
   ]
  },
  {
   "cell_type": "code",
   "execution_count": 126,
   "metadata": {},
   "outputs": [
    {
     "name": "stdout",
     "output_type": "stream",
     "text": [
      "_________________________________________________________________\n",
      "Layer (type)                 Output Shape              Param #   \n",
      "=================================================================\n",
      "embedding_18 (Embedding)     (None, 40, 300)           1500000   \n",
      "_________________________________________________________________\n",
      "lstm_6 (LSTM)                (None, 100)               160400    \n",
      "_________________________________________________________________\n",
      "dense_22 (Dense)             (None, 100)               10100     \n",
      "_________________________________________________________________\n",
      "dense_23 (Dense)             (None, 3)                 303       \n",
      "=================================================================\n",
      "Total params: 1,670,803\n",
      "Trainable params: 1,670,803\n",
      "Non-trainable params: 0\n",
      "_________________________________________________________________\n"
     ]
    }
   ],
   "source": [
    "model.summary()"
   ]
  },
  {
   "cell_type": "code",
   "execution_count": 127,
   "metadata": {
    "collapsed": true
   },
   "outputs": [],
   "source": [
    "# BiLSTM"
   ]
  },
  {
   "cell_type": "code",
   "execution_count": 128,
   "metadata": {
    "scrolled": true
   },
   "outputs": [
    {
     "name": "stdout",
     "output_type": "stream",
     "text": [
      "Train on 7132 samples, validate on 2378 samples\n",
      "Epoch 1/30\n",
      "7132/7132 [==============================] - 82s - loss: 0.6846 - categorical_accuracy: 0.7709 - val_loss: 0.6155 - val_categorical_accuracy: 0.7557\n",
      "Epoch 2/30\n",
      "7132/7132 [==============================] - 72s - loss: 0.5190 - categorical_accuracy: 0.7963 - val_loss: 0.5573 - val_categorical_accuracy: 0.7645\n",
      "Epoch 3/30\n",
      "7132/7132 [==============================] - 72s - loss: 0.4723 - categorical_accuracy: 0.8125 - val_loss: 0.5177 - val_categorical_accuracy: 0.7763\n",
      "Epoch 4/30\n",
      "7132/7132 [==============================] - 75s - loss: 0.4412 - categorical_accuracy: 0.8245 - val_loss: 0.4871 - val_categorical_accuracy: 0.7952\n",
      "Epoch 5/30\n",
      "7132/7132 [==============================] - 80s - loss: 0.4175 - categorical_accuracy: 0.8330 - val_loss: 0.4649 - val_categorical_accuracy: 0.8019\n",
      "Epoch 6/30\n",
      "7132/7132 [==============================] - 82s - loss: 0.3981 - categorical_accuracy: 0.8444 - val_loss: 0.4488 - val_categorical_accuracy: 0.8095\n",
      "Epoch 7/30\n",
      "7132/7132 [==============================] - 78s - loss: 0.3818 - categorical_accuracy: 0.8531 - val_loss: 0.4353 - val_categorical_accuracy: 0.8167\n",
      "Epoch 8/30\n",
      "7132/7132 [==============================] - 70s - loss: 0.3673 - categorical_accuracy: 0.8613 - val_loss: 0.4245 - val_categorical_accuracy: 0.8242\n",
      "Epoch 9/30\n",
      "7132/7132 [==============================] - 73s - loss: 0.3548 - categorical_accuracy: 0.8658 - val_loss: 0.4116 - val_categorical_accuracy: 0.8360\n",
      "Epoch 10/30\n",
      "7132/7132 [==============================] - 78s - loss: 0.3431 - categorical_accuracy: 0.8716 - val_loss: 0.4055 - val_categorical_accuracy: 0.8394\n",
      "Epoch 11/30\n",
      "7132/7132 [==============================] - 78s - loss: 0.3322 - categorical_accuracy: 0.8759 - val_loss: 0.3990 - val_categorical_accuracy: 0.8431\n",
      "Epoch 12/30\n",
      "7132/7132 [==============================] - 75s - loss: 0.3218 - categorical_accuracy: 0.8822 - val_loss: 0.4009 - val_categorical_accuracy: 0.8398\n",
      "Epoch 13/30\n",
      "7132/7132 [==============================] - 72s - loss: 0.3123 - categorical_accuracy: 0.8853 - val_loss: 0.3919 - val_categorical_accuracy: 0.8482\n",
      "Epoch 14/30\n",
      "7132/7132 [==============================] - 77s - loss: 0.3031 - categorical_accuracy: 0.8897 - val_loss: 0.3833 - val_categorical_accuracy: 0.8528\n",
      "Epoch 15/30\n",
      "7132/7132 [==============================] - 81s - loss: 0.2943 - categorical_accuracy: 0.8940 - val_loss: 0.3815 - val_categorical_accuracy: 0.8528\n",
      "Epoch 16/30\n",
      "7132/7132 [==============================] - 75s - loss: 0.2859 - categorical_accuracy: 0.8957 - val_loss: 0.3758 - val_categorical_accuracy: 0.8616\n",
      "Epoch 17/30\n",
      "7132/7132 [==============================] - 75s - loss: 0.2777 - categorical_accuracy: 0.8996 - val_loss: 0.3696 - val_categorical_accuracy: 0.8633\n",
      "Epoch 18/30\n",
      "7132/7132 [==============================] - 76s - loss: 0.2701 - categorical_accuracy: 0.9044 - val_loss: 0.3677 - val_categorical_accuracy: 0.8638\n",
      "Epoch 19/30\n",
      "7132/7132 [==============================] - 78s - loss: 0.2626 - categorical_accuracy: 0.9080 - val_loss: 0.3690 - val_categorical_accuracy: 0.8646\n",
      "Epoch 20/30\n",
      "7132/7132 [==============================] - 78s - loss: 0.2553 - categorical_accuracy: 0.9096 - val_loss: 0.3633 - val_categorical_accuracy: 0.8633\n",
      "Epoch 21/30\n",
      "7132/7132 [==============================] - 68s - loss: 0.2487 - categorical_accuracy: 0.9136 - val_loss: 0.3665 - val_categorical_accuracy: 0.8650\n",
      "Epoch 22/30\n",
      "7132/7132 [==============================] - 67s - loss: 0.2420 - categorical_accuracy: 0.9166 - val_loss: 0.3607 - val_categorical_accuracy: 0.8638\n",
      "Epoch 23/30\n",
      "7132/7132 [==============================] - 65s - loss: 0.2356 - categorical_accuracy: 0.9187 - val_loss: 0.3597 - val_categorical_accuracy: 0.8633\n",
      "Epoch 24/30\n",
      "7132/7132 [==============================] - 65s - loss: 0.2290 - categorical_accuracy: 0.9212 - val_loss: 0.3579 - val_categorical_accuracy: 0.8638\n",
      "Epoch 25/30\n",
      "7132/7132 [==============================] - 67s - loss: 0.2236 - categorical_accuracy: 0.9220 - val_loss: 0.3584 - val_categorical_accuracy: 0.8650\n",
      "Epoch 26/30\n",
      "7132/7132 [==============================] - 73s - loss: 0.2178 - categorical_accuracy: 0.9251 - val_loss: 0.3653 - val_categorical_accuracy: 0.8667\n",
      "Epoch 27/30\n",
      "7132/7132 [==============================] - 72s - loss: 0.2118 - categorical_accuracy: 0.9275 - val_loss: 0.3721 - val_categorical_accuracy: 0.8671\n"
     ]
    },
    {
     "data": {
      "text/plain": [
       "<keras.callbacks.History at 0x14cd37da0>"
      ]
     },
     "execution_count": 128,
     "metadata": {},
     "output_type": "execute_result"
    }
   ],
   "source": [
    "model = Sequential()\n",
    "\n",
    "model.add(Embedding(n_embeddings, embedding_vecor_length, input_length=max_len, weights=[embeddings]))\n",
    "model.add(Bidirectional(LSTM(100)))\n",
    "model.add(Dense(3, activation='softmax'))\n",
    "\n",
    "model.compile(loss='categorical_crossentropy', optimizer='sgd', metrics=['categorical_accuracy'])\n",
    "\n",
    "early_stopping = EarlyStopping(patience=2, monitor='val_loss')\n",
    "\n",
    "model.fit(X_train, y_train, epochs=30, batch_size=batch_size, callbacks=[early_stopping], validation_split=0.25)"
   ]
  },
  {
   "cell_type": "code",
   "execution_count": 129,
   "metadata": {},
   "outputs": [
    {
     "name": "stdout",
     "output_type": "stream",
     "text": [
      "5047/5047 [==============================] - 12s    \n"
     ]
    },
    {
     "data": {
      "text/plain": [
       "0.79770160478390106"
      ]
     },
     "execution_count": 129,
     "metadata": {},
     "output_type": "execute_result"
    }
   ],
   "source": [
    "model.evaluate(X_test, y_test)[1]"
   ]
  },
  {
   "cell_type": "code",
   "execution_count": 130,
   "metadata": {},
   "outputs": [
    {
     "name": "stdout",
     "output_type": "stream",
     "text": [
      "_________________________________________________________________\n",
      "Layer (type)                 Output Shape              Param #   \n",
      "=================================================================\n",
      "embedding_19 (Embedding)     (None, 40, 300)           1500000   \n",
      "_________________________________________________________________\n",
      "bidirectional_4 (Bidirection (None, 200)               320800    \n",
      "_________________________________________________________________\n",
      "dense_24 (Dense)             (None, 3)                 603       \n",
      "=================================================================\n",
      "Total params: 1,821,403\n",
      "Trainable params: 1,821,403\n",
      "Non-trainable params: 0\n",
      "_________________________________________________________________\n"
     ]
    }
   ],
   "source": [
    "model.summary()"
   ]
  },
  {
   "cell_type": "code",
   "execution_count": 131,
   "metadata": {
    "collapsed": true
   },
   "outputs": [],
   "source": [
    "# dwuwarstwowy LSTM"
   ]
  },
  {
   "cell_type": "code",
   "execution_count": 132,
   "metadata": {
    "scrolled": true
   },
   "outputs": [
    {
     "name": "stdout",
     "output_type": "stream",
     "text": [
      "Train on 7132 samples, validate on 2378 samples\n",
      "Epoch 1/30\n",
      "7132/7132 [==============================] - 107s - loss: 0.6853 - categorical_accuracy: 0.7815 - val_loss: 0.6396 - val_categorical_accuracy: 0.7553\n",
      "Epoch 2/30\n",
      "7132/7132 [==============================] - 121s - loss: 0.5662 - categorical_accuracy: 0.7895 - val_loss: 0.6135 - val_categorical_accuracy: 0.7553\n",
      "Epoch 3/30\n",
      "7132/7132 [==============================] - 100s - loss: 0.5475 - categorical_accuracy: 0.7895 - val_loss: 0.6011 - val_categorical_accuracy: 0.7553\n",
      "Epoch 4/30\n",
      "7132/7132 [==============================] - 98s - loss: 0.5327 - categorical_accuracy: 0.7891 - val_loss: 0.5850 - val_categorical_accuracy: 0.7536\n",
      "Epoch 5/30\n",
      "7132/7132 [==============================] - 100s - loss: 0.5183 - categorical_accuracy: 0.7876 - val_loss: 0.5754 - val_categorical_accuracy: 0.7515\n",
      "Epoch 6/30\n",
      "7132/7132 [==============================] - 99s - loss: 0.5039 - categorical_accuracy: 0.7873 - val_loss: 0.5613 - val_categorical_accuracy: 0.7540\n",
      "Epoch 7/30\n",
      "7132/7132 [==============================] - 100s - loss: 0.4887 - categorical_accuracy: 0.7895 - val_loss: 0.5417 - val_categorical_accuracy: 0.7590\n",
      "Epoch 8/30\n",
      "7132/7132 [==============================] - 133s - loss: 0.4728 - categorical_accuracy: 0.7954 - val_loss: 0.5332 - val_categorical_accuracy: 0.7632\n",
      "Epoch 9/30\n",
      "7132/7132 [==============================] - 130s - loss: 0.4566 - categorical_accuracy: 0.8050 - val_loss: 0.5152 - val_categorical_accuracy: 0.7750\n",
      "Epoch 10/30\n",
      "7132/7132 [==============================] - 128s - loss: 0.4402 - categorical_accuracy: 0.8180 - val_loss: 0.5069 - val_categorical_accuracy: 0.7809\n",
      "Epoch 11/30\n",
      "7132/7132 [==============================] - 106s - loss: 0.4249 - categorical_accuracy: 0.8268 - val_loss: 0.4921 - val_categorical_accuracy: 0.7897\n",
      "Epoch 12/30\n",
      "7132/7132 [==============================] - 117s - loss: 0.4101 - categorical_accuracy: 0.8371 - val_loss: 0.4796 - val_categorical_accuracy: 0.8007\n",
      "Epoch 13/30\n",
      "7132/7132 [==============================] - 123s - loss: 0.3963 - categorical_accuracy: 0.8480 - val_loss: 0.4706 - val_categorical_accuracy: 0.8099\n",
      "Epoch 14/30\n",
      "7132/7132 [==============================] - 123s - loss: 0.3837 - categorical_accuracy: 0.8564 - val_loss: 0.4576 - val_categorical_accuracy: 0.8200\n",
      "Epoch 15/30\n",
      "7132/7132 [==============================] - 123s - loss: 0.3719 - categorical_accuracy: 0.8610 - val_loss: 0.4502 - val_categorical_accuracy: 0.8276\n",
      "Epoch 16/30\n",
      "7132/7132 [==============================] - 129s - loss: 0.3608 - categorical_accuracy: 0.8660 - val_loss: 0.4390 - val_categorical_accuracy: 0.8356\n",
      "Epoch 17/30\n",
      "7132/7132 [==============================] - 122s - loss: 0.3510 - categorical_accuracy: 0.8710 - val_loss: 0.4449 - val_categorical_accuracy: 0.8284\n",
      "Epoch 18/30\n",
      "7132/7132 [==============================] - 115s - loss: 0.3414 - categorical_accuracy: 0.8741 - val_loss: 0.4297 - val_categorical_accuracy: 0.8406\n",
      "Epoch 19/30\n",
      "7132/7132 [==============================] - 111s - loss: 0.3322 - categorical_accuracy: 0.8776 - val_loss: 0.4306 - val_categorical_accuracy: 0.8415\n",
      "Epoch 20/30\n",
      "7132/7132 [==============================] - 123s - loss: 0.3243 - categorical_accuracy: 0.8812 - val_loss: 0.4291 - val_categorical_accuracy: 0.8410\n",
      "Epoch 21/30\n",
      "7132/7132 [==============================] - 122s - loss: 0.3162 - categorical_accuracy: 0.8847 - val_loss: 0.4250 - val_categorical_accuracy: 0.8423\n",
      "Epoch 22/30\n",
      "7132/7132 [==============================] - 117s - loss: 0.3088 - categorical_accuracy: 0.8892 - val_loss: 0.4194 - val_categorical_accuracy: 0.8444\n",
      "Epoch 23/30\n",
      "7132/7132 [==============================] - 103s - loss: 0.3019 - categorical_accuracy: 0.8897 - val_loss: 0.4154 - val_categorical_accuracy: 0.8503\n",
      "Epoch 24/30\n",
      "7132/7132 [==============================] - 103s - loss: 0.2936 - categorical_accuracy: 0.8948 - val_loss: 0.4303 - val_categorical_accuracy: 0.8410\n",
      "Epoch 25/30\n",
      "7132/7132 [==============================] - 114s - loss: 0.2867 - categorical_accuracy: 0.8978 - val_loss: 0.4132 - val_categorical_accuracy: 0.8516\n",
      "Epoch 26/30\n",
      "7132/7132 [==============================] - 111s - loss: 0.2804 - categorical_accuracy: 0.9013 - val_loss: 0.4140 - val_categorical_accuracy: 0.8499\n",
      "Epoch 27/30\n",
      "7132/7132 [==============================] - 114s - loss: 0.2739 - categorical_accuracy: 0.9030 - val_loss: 0.4142 - val_categorical_accuracy: 0.8541\n",
      "Epoch 28/30\n",
      "7132/7132 [==============================] - 122s - loss: 0.2674 - categorical_accuracy: 0.9079 - val_loss: 0.4190 - val_categorical_accuracy: 0.8511\n"
     ]
    },
    {
     "data": {
      "text/plain": [
       "<keras.callbacks.History at 0x154a61eb8>"
      ]
     },
     "execution_count": 132,
     "metadata": {},
     "output_type": "execute_result"
    }
   ],
   "source": [
    "model = Sequential()\n",
    "\n",
    "model.add(Embedding(n_embeddings, embedding_vecor_length, input_length=max_len, weights=[embeddings]))\n",
    "model.add(LSTM(100, return_sequences=True))\n",
    "model.add(LSTM(50))\n",
    "model.add(Dense(3, activation='softmax'))\n",
    "\n",
    "model.compile(loss='categorical_crossentropy', optimizer='sgd', metrics=['categorical_accuracy'])\n",
    "\n",
    "early_stopping = EarlyStopping(patience=2, monitor='val_loss')\n",
    "\n",
    "model.fit(X_train, y_train, epochs=30, batch_size=batch_size, callbacks=[early_stopping], validation_split=0.25)"
   ]
  },
  {
   "cell_type": "code",
   "execution_count": 133,
   "metadata": {},
   "outputs": [
    {
     "name": "stdout",
     "output_type": "stream",
     "text": [
      "5047/5047 [==============================] - 16s    \n"
     ]
    },
    {
     "data": {
      "text/plain": [
       "0.78482266680094093"
      ]
     },
     "execution_count": 133,
     "metadata": {},
     "output_type": "execute_result"
    }
   ],
   "source": [
    "model.evaluate(X_test, y_test)[1]"
   ]
  },
  {
   "cell_type": "code",
   "execution_count": 134,
   "metadata": {},
   "outputs": [
    {
     "name": "stdout",
     "output_type": "stream",
     "text": [
      "_________________________________________________________________\n",
      "Layer (type)                 Output Shape              Param #   \n",
      "=================================================================\n",
      "embedding_20 (Embedding)     (None, 40, 300)           1500000   \n",
      "_________________________________________________________________\n",
      "lstm_8 (LSTM)                (None, 40, 100)           160400    \n",
      "_________________________________________________________________\n",
      "lstm_9 (LSTM)                (None, 50)                30200     \n",
      "_________________________________________________________________\n",
      "dense_25 (Dense)             (None, 3)                 153       \n",
      "=================================================================\n",
      "Total params: 1,690,753\n",
      "Trainable params: 1,690,753\n",
      "Non-trainable params: 0\n",
      "_________________________________________________________________\n"
     ]
    }
   ],
   "source": [
    "model.summary()"
   ]
  },
  {
   "cell_type": "markdown",
   "metadata": {
    "collapsed": true
   },
   "source": [
    "### Modelowanie szeregów czasowych\n",
    "\n",
    "https://machinelearningmastery.com/time-series-prediction-lstm-recurrent-neural-networks-python-keras/"
   ]
  },
  {
   "cell_type": "code",
   "execution_count": 325,
   "metadata": {},
   "outputs": [
    {
     "data": {
      "image/png": "[encoded data removed]",
      "text/plain": [
       "<matplotlib.figure.Figure at 0x7ff6dd0a20b8>"
      ]
     },
     "metadata": {},
     "output_type": "display_data"
    }
   ],
   "source": [
    "import pandas\n",
    "import matplotlib.pyplot as plt\n",
    "dataframe = pandas.read_csv('Dane/international-airline-passengers.csv', usecols=[1], engine='python', skipfooter=3)\n",
    "plt.plot(dataframe)\n",
    "plt.show()"
   ]
  },
  {
   "cell_type": "code",
   "execution_count": 326,
   "metadata": {
    "collapsed": true
   },
   "outputs": [],
   "source": [
    "import numpy\n",
    "import matplotlib.pyplot as plt\n",
    "import pandas\n",
    "import math\n",
    "from keras.models import Sequential\n",
    "from keras.layers import Dense\n",
    "from keras.layers import LSTM\n",
    "from sklearn.preprocessing import MinMaxScaler\n",
    "from sklearn.metrics import mean_squared_error"
   ]
  },
  {
   "cell_type": "code",
   "execution_count": 327,
   "metadata": {
    "collapsed": true
   },
   "outputs": [],
   "source": [
    "numpy.random.seed(7)"
   ]
  },
  {
   "cell_type": "code",
   "execution_count": 328,
   "metadata": {
    "collapsed": true
   },
   "outputs": [],
   "source": [
    "dataset = dataframe.values\n",
    "dataset = dataset.astype('float32')"
   ]
  },
  {
   "cell_type": "code",
   "execution_count": 329,
   "metadata": {
    "collapsed": true
   },
   "outputs": [],
   "source": [
    "# normalize the dataset\n",
    "scaler = MinMaxScaler(feature_range=(0, 1))\n",
    "dataset = scaler.fit_transform(dataset)"
   ]
  },
  {
   "cell_type": "code",
   "execution_count": 330,
   "metadata": {},
   "outputs": [
    {
     "data": {
      "image/png": "[encoded data removed]",
      "text/plain": [
       "<matplotlib.figure.Figure at 0x7ff6d6bd8e80>"
      ]
     },
     "metadata": {},
     "output_type": "display_data"
    }
   ],
   "source": [
    "plt.plot(dataset)\n",
    "plt.show()"
   ]
  },
  {
   "cell_type": "code",
   "execution_count": 331,
   "metadata": {},
   "outputs": [
    {
     "name": "stdout",
     "output_type": "stream",
     "text": [
      "96 48\n"
     ]
    }
   ],
   "source": [
    "# split into train and test sets\n",
    "train_size = int(len(dataset) * 0.67)\n",
    "test_size = len(dataset) - train_size\n",
    "train, test = dataset[0:train_size,:], dataset[train_size:len(dataset),:]\n",
    "print(len(train), len(test))"
   ]
  },
  {
   "cell_type": "code",
   "execution_count": 332,
   "metadata": {
    "collapsed": true
   },
   "outputs": [],
   "source": [
    "# convert an array of values into a dataset matrix\n",
    "def create_dataset(dataset, look_back=1):\n",
    "\tdataX, dataY = [], []\n",
    "\tfor i in range(len(dataset)-look_back-1):\n",
    "\t\ta = dataset[i:(i+look_back), 0]\n",
    "\t\tdataX.append(a)\n",
    "\t\tdataY.append(dataset[i + look_back, 0])\n",
    "\treturn numpy.array(dataX), numpy.array(dataY)"
   ]
  },
  {
   "cell_type": "code",
   "execution_count": 341,
   "metadata": {
    "collapsed": true
   },
   "outputs": [],
   "source": [
    "look_back = 3\n",
    "trainX, trainY = create_dataset(train, look_back)\n",
    "testX, testY = create_dataset(test, look_back)"
   ]
  },
  {
   "cell_type": "code",
   "execution_count": 342,
   "metadata": {
    "collapsed": true
   },
   "outputs": [],
   "source": [
    "#reshape input to be [samples, time steps, features]\n",
    "trainX = numpy.reshape(trainX, (trainX.shape[0], 1, trainX.shape[1]))\n",
    "testX = numpy.reshape(testX, (testX.shape[0], 1, testX.shape[1]))"
   ]
  },
  {
   "cell_type": "code",
   "execution_count": 343,
   "metadata": {},
   "outputs": [
    {
     "data": {
      "text/plain": [
       "array([[[ 0.01544401,  0.02702703,  0.05405405]],\n",
       "\n",
       "       [[ 0.02702703,  0.05405405,  0.04826255]],\n",
       "\n",
       "       [[ 0.05405405,  0.04826255,  0.03281853]],\n",
       "\n",
       "       [[ 0.04826255,  0.03281853,  0.05984557]],\n",
       "\n",
       "       [[ 0.03281853,  0.05984557,  0.08494207]],\n",
       "\n",
       "       [[ 0.05984557,  0.08494207,  0.08494207]],\n",
       "\n",
       "       [[ 0.08494207,  0.08494207,  0.06177607]],\n",
       "\n",
       "       [[ 0.08494207,  0.06177607,  0.02895753]],\n",
       "\n",
       "       [[ 0.06177607,  0.02895753,  0.        ]],\n",
       "\n",
       "       [[ 0.02895753,  0.        ,  0.02702703]]], dtype=float32)"
      ]
     },
     "execution_count": 343,
     "metadata": {},
     "output_type": "execute_result"
    }
   ],
   "source": [
    "trainX[:10]"
   ]
  },
  {
   "cell_type": "code",
   "execution_count": null,
   "metadata": {
    "collapsed": true
   },
   "outputs": [],
   "source": [
    "trainY[:10]"
   ]
  },
  {
   "cell_type": "code",
   "execution_count": 344,
   "metadata": {
    "scrolled": true
   },
   "outputs": [
    {
     "name": "stdout",
     "output_type": "stream",
     "text": [
      "Train on 82 samples, validate on 10 samples\n",
      "Epoch 1/100\n",
      "0s - loss: 0.0543 - val_loss: 0.2018\n",
      "Epoch 2/100\n",
      "0s - loss: 0.0256 - val_loss: 0.1309\n",
      "Epoch 3/100\n",
      "0s - loss: 0.0163 - val_loss: 0.0934\n",
      "Epoch 4/100\n",
      "0s - loss: 0.0137 - val_loss: 0.0752\n",
      "Epoch 5/100\n",
      "0s - loss: 0.0126 - val_loss: 0.0681\n",
      "Epoch 6/100\n",
      "0s - loss: 0.0117 - val_loss: 0.0602\n",
      "Epoch 7/100\n",
      "0s - loss: 0.0107 - val_loss: 0.0532\n",
      "Epoch 8/100\n",
      "0s - loss: 0.0100 - val_loss: 0.0454\n",
      "Epoch 9/100\n",
      "0s - loss: 0.0090 - val_loss: 0.0427\n",
      "Epoch 10/100\n",
      "0s - loss: 0.0082 - val_loss: 0.0372\n",
      "Epoch 11/100\n",
      "0s - loss: 0.0074 - val_loss: 0.0321\n",
      "Epoch 12/100\n",
      "0s - loss: 0.0066 - val_loss: 0.0269\n",
      "Epoch 13/100\n",
      "0s - loss: 0.0060 - val_loss: 0.0210\n",
      "Epoch 14/100\n",
      "0s - loss: 0.0055 - val_loss: 0.0191\n",
      "Epoch 15/100\n",
      "0s - loss: 0.0049 - val_loss: 0.0201\n",
      "Epoch 16/100\n",
      "0s - loss: 0.0046 - val_loss: 0.0174\n",
      "Epoch 17/100\n",
      "0s - loss: 0.0042 - val_loss: 0.0140\n",
      "Epoch 18/100\n",
      "0s - loss: 0.0039 - val_loss: 0.0138\n",
      "Epoch 19/100\n",
      "0s - loss: 0.0038 - val_loss: 0.0123\n",
      "Epoch 20/100\n",
      "0s - loss: 0.0037 - val_loss: 0.0115\n",
      "Epoch 21/100\n",
      "0s - loss: 0.0036 - val_loss: 0.0112\n",
      "Epoch 22/100\n",
      "0s - loss: 0.0035 - val_loss: 0.0111\n",
      "Epoch 23/100\n",
      "0s - loss: 0.0034 - val_loss: 0.0116\n",
      "Epoch 24/100\n",
      "0s - loss: 0.0033 - val_loss: 0.0114\n",
      "Epoch 25/100\n",
      "0s - loss: 0.0033 - val_loss: 0.0113\n",
      "Epoch 26/100\n",
      "0s - loss: 0.0033 - val_loss: 0.0112\n",
      "Epoch 27/100\n",
      "0s - loss: 0.0033 - val_loss: 0.0113\n",
      "Epoch 28/100\n",
      "0s - loss: 0.0032 - val_loss: 0.0111\n",
      "Epoch 29/100\n",
      "0s - loss: 0.0032 - val_loss: 0.0109\n",
      "Epoch 30/100\n",
      "0s - loss: 0.0032 - val_loss: 0.0109\n",
      "Epoch 31/100\n",
      "0s - loss: 0.0032 - val_loss: 0.0107\n",
      "Epoch 32/100\n",
      "0s - loss: 0.0031 - val_loss: 0.0107\n",
      "Epoch 33/100\n",
      "0s - loss: 0.0031 - val_loss: 0.0107\n",
      "Epoch 34/100\n",
      "0s - loss: 0.0031 - val_loss: 0.0106\n",
      "Epoch 35/100\n",
      "0s - loss: 0.0030 - val_loss: 0.0105\n",
      "Epoch 36/100\n",
      "0s - loss: 0.0031 - val_loss: 0.0104\n",
      "Epoch 37/100\n",
      "0s - loss: 0.0030 - val_loss: 0.0102\n",
      "Epoch 38/100\n",
      "0s - loss: 0.0030 - val_loss: 0.0101\n",
      "Epoch 39/100\n",
      "0s - loss: 0.0030 - val_loss: 0.0101\n",
      "Epoch 40/100\n",
      "0s - loss: 0.0030 - val_loss: 0.0100\n",
      "Epoch 41/100\n",
      "0s - loss: 0.0029 - val_loss: 0.0099\n",
      "Epoch 42/100\n",
      "0s - loss: 0.0029 - val_loss: 0.0098\n",
      "Epoch 43/100\n",
      "0s - loss: 0.0029 - val_loss: 0.0098\n",
      "Epoch 44/100\n",
      "0s - loss: 0.0029 - val_loss: 0.0096\n",
      "Epoch 45/100\n",
      "0s - loss: 0.0029 - val_loss: 0.0095\n",
      "Epoch 46/100\n",
      "0s - loss: 0.0028 - val_loss: 0.0096\n",
      "Epoch 47/100\n",
      "0s - loss: 0.0028 - val_loss: 0.0095\n",
      "Epoch 48/100\n",
      "0s - loss: 0.0029 - val_loss: 0.0093\n",
      "Epoch 49/100\n",
      "0s - loss: 0.0028 - val_loss: 0.0093\n",
      "Epoch 50/100\n",
      "0s - loss: 0.0028 - val_loss: 0.0091\n",
      "Epoch 51/100\n",
      "0s - loss: 0.0028 - val_loss: 0.0094\n",
      "Epoch 52/100\n",
      "0s - loss: 0.0027 - val_loss: 0.0090\n",
      "Epoch 53/100\n",
      "0s - loss: 0.0028 - val_loss: 0.0090\n",
      "Epoch 54/100\n",
      "0s - loss: 0.0028 - val_loss: 0.0089\n",
      "Epoch 55/100\n",
      "0s - loss: 0.0028 - val_loss: 0.0089\n",
      "Epoch 56/100\n",
      "0s - loss: 0.0027 - val_loss: 0.0088\n",
      "Epoch 57/100\n",
      "0s - loss: 0.0027 - val_loss: 0.0087\n",
      "Epoch 58/100\n",
      "0s - loss: 0.0027 - val_loss: 0.0087\n",
      "Epoch 59/100\n",
      "0s - loss: 0.0026 - val_loss: 0.0085\n",
      "Epoch 60/100\n",
      "0s - loss: 0.0026 - val_loss: 0.0084\n",
      "Epoch 61/100\n",
      "0s - loss: 0.0027 - val_loss: 0.0085\n",
      "Epoch 62/100\n",
      "0s - loss: 0.0026 - val_loss: 0.0083\n",
      "Epoch 63/100\n",
      "0s - loss: 0.0026 - val_loss: 0.0083\n",
      "Epoch 64/100\n",
      "0s - loss: 0.0025 - val_loss: 0.0086\n",
      "Epoch 65/100\n",
      "0s - loss: 0.0026 - val_loss: 0.0081\n",
      "Epoch 66/100\n",
      "0s - loss: 0.0025 - val_loss: 0.0083\n",
      "Epoch 67/100\n",
      "0s - loss: 0.0025 - val_loss: 0.0082\n",
      "Epoch 68/100\n",
      "0s - loss: 0.0026 - val_loss: 0.0079\n",
      "Epoch 69/100\n",
      "0s - loss: 0.0024 - val_loss: 0.0079\n",
      "Epoch 70/100\n",
      "0s - loss: 0.0024 - val_loss: 0.0083\n",
      "Epoch 71/100\n",
      "0s - loss: 0.0025 - val_loss: 0.0077\n",
      "Epoch 72/100\n",
      "0s - loss: 0.0025 - val_loss: 0.0079\n",
      "Epoch 73/100\n",
      "0s - loss: 0.0025 - val_loss: 0.0079\n",
      "Epoch 74/100\n",
      "0s - loss: 0.0025 - val_loss: 0.0075\n",
      "Epoch 75/100\n",
      "0s - loss: 0.0024 - val_loss: 0.0075\n",
      "Epoch 76/100\n",
      "0s - loss: 0.0024 - val_loss: 0.0075\n",
      "Epoch 77/100\n",
      "0s - loss: 0.0024 - val_loss: 0.0074\n",
      "Epoch 78/100\n",
      "0s - loss: 0.0024 - val_loss: 0.0074\n",
      "Epoch 79/100\n",
      "0s - loss: 0.0024 - val_loss: 0.0073\n",
      "Epoch 80/100\n",
      "0s - loss: 0.0023 - val_loss: 0.0077\n",
      "Epoch 81/100\n",
      "0s - loss: 0.0025 - val_loss: 0.0072\n",
      "Epoch 82/100\n",
      "0s - loss: 0.0023 - val_loss: 0.0074\n",
      "Epoch 83/100\n",
      "0s - loss: 0.0023 - val_loss: 0.0071\n",
      "Epoch 84/100\n",
      "0s - loss: 0.0023 - val_loss: 0.0070\n",
      "Epoch 85/100\n",
      "0s - loss: 0.0024 - val_loss: 0.0070\n",
      "Epoch 86/100\n",
      "0s - loss: 0.0024 - val_loss: 0.0069\n",
      "Epoch 87/100\n",
      "0s - loss: 0.0023 - val_loss: 0.0069\n",
      "Epoch 88/100\n",
      "0s - loss: 0.0023 - val_loss: 0.0068\n",
      "Epoch 89/100\n",
      "0s - loss: 0.0022 - val_loss: 0.0071\n",
      "Epoch 90/100\n",
      "0s - loss: 0.0023 - val_loss: 0.0067\n",
      "Epoch 91/100\n",
      "0s - loss: 0.0022 - val_loss: 0.0069\n",
      "Epoch 92/100\n",
      "0s - loss: 0.0022 - val_loss: 0.0066\n",
      "Epoch 93/100\n",
      "0s - loss: 0.0022 - val_loss: 0.0066\n",
      "Epoch 94/100\n",
      "0s - loss: 0.0022 - val_loss: 0.0069\n",
      "Epoch 95/100\n",
      "0s - loss: 0.0022 - val_loss: 0.0066\n",
      "Epoch 96/100\n",
      "0s - loss: 0.0022 - val_loss: 0.0066\n",
      "Epoch 97/100\n",
      "0s - loss: 0.0022 - val_loss: 0.0065\n",
      "Epoch 98/100\n",
      "0s - loss: 0.0022 - val_loss: 0.0064\n",
      "Epoch 99/100\n",
      "0s - loss: 0.0022 - val_loss: 0.0063\n",
      "Epoch 100/100\n",
      "0s - loss: 0.0021 - val_loss: 0.0062\n"
     ]
    },
    {
     "data": {
      "text/plain": [
       "<keras.callbacks.History at 0x7ff6d5ed5c88>"
      ]
     },
     "execution_count": 344,
     "metadata": {},
     "output_type": "execute_result"
    }
   ],
   "source": [
    "# create and fit the LSTM network\n",
    "model = Sequential()\n",
    "model.add(LSTM(4, input_shape=(1, look_back)))\n",
    "model.add(Dense(1))\n",
    "model.compile(loss='mean_squared_error', optimizer='adam')\n",
    "model.fit(trainX, trainY, epochs=100, batch_size=1, verbose=2,validation_split=0.1)"
   ]
  },
  {
   "cell_type": "code",
   "execution_count": 345,
   "metadata": {},
   "outputs": [
    {
     "name": "stdout",
     "output_type": "stream",
     "text": [
      "Train Score: 26.44 RMSE\n",
      "Test Score: 54.42 RMSE\n"
     ]
    }
   ],
   "source": [
    "# make predictions\n",
    "trainPredict = model.predict(trainX)\n",
    "testPredict = model.predict(testX)\n",
    "# invert predictions\n",
    "trainPredict = scaler.inverse_transform(trainPredict)\n",
    "trainY = scaler.inverse_transform([trainY])\n",
    "testPredict = scaler.inverse_transform(testPredict)\n",
    "testY = scaler.inverse_transform([testY])\n",
    "# calculate root mean squared error\n",
    "trainScore = math.sqrt(mean_squared_error(trainY[0], trainPredict[:,0]))\n",
    "print('Train Score: %.2f RMSE' % (trainScore))\n",
    "testScore = math.sqrt(mean_squared_error(testY[0], testPredict[:,0]))\n",
    "print('Test Score: %.2f RMSE' % (testScore))"
   ]
  },
  {
   "cell_type": "code",
   "execution_count": 346,
   "metadata": {},
   "outputs": [
    {
     "data": {
      "image/png": "[encoded data removed]",
      "text/plain": [
       "<matplotlib.figure.Figure at 0x7ff6d561f400>"
      ]
     },
     "metadata": {},
     "output_type": "display_data"
    }
   ],
   "source": [
    "# shift train predictions for plotting\n",
    "trainPredictPlot = numpy.empty_like(dataset)\n",
    "trainPredictPlot[:, :] = numpy.nan\n",
    "trainPredictPlot[look_back:len(trainPredict)+look_back, :] = trainPredict\n",
    "# shift test predictions for plotting\n",
    "testPredictPlot = numpy.empty_like(dataset)\n",
    "testPredictPlot[:, :] = numpy.nan\n",
    "testPredictPlot[len(trainPredict)+(look_back*2)+1:len(dataset)-1, :] = testPredict\n",
    "# plot baseline and predictions\n",
    "plt.plot(scaler.inverse_transform(dataset))\n",
    "plt.plot(trainPredictPlot)\n",
    "plt.plot(testPredictPlot)\n",
    "plt.show()"
   ]
  }
 ],
 "metadata": {
  "kernelspec": {
   "display_name": "Python 3",
   "language": "python",
   "name": "python3"
  },
  "language_info": {
   "codemirror_mode": {
    "name": "ipython",
    "version": 3
   },
   "file_extension": ".py",
   "mimetype": "text/x-python",
   "name": "python",
   "nbconvert_exporter": "python",
   "pygments_lexer": "ipython3",
   "version": "3.6.0"
  }
 },
 "nbformat": 4,
 "nbformat_minor": 2
}
