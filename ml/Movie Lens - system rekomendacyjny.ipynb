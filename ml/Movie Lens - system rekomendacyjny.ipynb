{
 "cells": [
  {
   "cell_type": "code",
   "execution_count": 1,
   "metadata": {
    "collapsed": false
   },
   "outputs": [
    {
     "data": {
      "text/plain": [
       "((90570, 4), (9430, 4))"
      ]
     },
     "execution_count": 1,
     "metadata": {},
     "output_type": "execute_result"
    }
   ],
   "source": [
    "import pandas as pd\n",
    "\n",
    "# pass in column names for each CSV and read them using pandas. \n",
    "# Column names available in the readme file\n",
    "\n",
    "#Reading users file:\n",
    "u_cols = ['user_id', 'age', 'sex', 'occupation', 'zip_code']\n",
    "users = pd.read_csv('Dane/ml-100k/u.user', sep='|', names=u_cols, encoding='latin-1')\n",
    "\n",
    "#Reading ratings file:\n",
    "r_cols = ['user_id', 'movie_id', 'rating', 'unix_timestamp']\n",
    "ratings = pd.read_csv('Dane/ml-100k/u.data', sep='\\t', names=r_cols, encoding='latin-1')\n",
    "\n",
    "#Reading items file:\n",
    "i_cols = ['movie_id', 'movie_title' ,'release_date','video_release_date', 'IMDb_URL', 'unknown', 'Action', 'Adventure',\n",
    "'Animation', 'Children\\'s', 'Comedy', 'Crime', 'Documentary', 'Drama', 'Fantasy',\n",
    "'Film-Noir', 'Horror', 'Musical', 'Mystery', 'Romance', 'Sci-Fi', 'Thriller', 'War', 'Western']\n",
    "items = pd.read_csv('Dane/ml-100k/u.item', sep='|', names=i_cols, encoding='latin-1')\n",
    "\n",
    "r_cols = ['user_id', 'movie_id', 'rating', 'unix_timestamp']\n",
    "ratings_train = pd.read_csv('Dane/ml-100k/ua.base', sep='\\t', names=r_cols, encoding='latin-1')\n",
    "ratings_test = pd.read_csv('Dane/ml-100k/ua.test', sep='\\t', names=r_cols, encoding='latin-1')\n",
    "ratings_train.shape, ratings_test.shape"
   ]
  },
  {
   "cell_type": "code",
   "execution_count": 2,
   "metadata": {
    "collapsed": false
   },
   "outputs": [
    {
     "data": {
      "text/html": [
       "<div>\n",
       "<table border=\"1\" class=\"dataframe\">\n",
       "  <thead>\n",
       "    <tr style=\"text-align: right;\">\n",
       "      <th></th>\n",
       "      <th>user_id</th>\n",
       "      <th>age</th>\n",
       "      <th>sex</th>\n",
       "      <th>occupation</th>\n",
       "      <th>zip_code</th>\n",
       "    </tr>\n",
       "  </thead>\n",
       "  <tbody>\n",
       "    <tr>\n",
       "      <th>0</th>\n",
       "      <td>1</td>\n",
       "      <td>24</td>\n",
       "      <td>M</td>\n",
       "      <td>technician</td>\n",
       "      <td>85711</td>\n",
       "    </tr>\n",
       "    <tr>\n",
       "      <th>1</th>\n",
       "      <td>2</td>\n",
       "      <td>53</td>\n",
       "      <td>F</td>\n",
       "      <td>other</td>\n",
       "      <td>94043</td>\n",
       "    </tr>\n",
       "    <tr>\n",
       "      <th>2</th>\n",
       "      <td>3</td>\n",
       "      <td>23</td>\n",
       "      <td>M</td>\n",
       "      <td>writer</td>\n",
       "      <td>32067</td>\n",
       "    </tr>\n",
       "    <tr>\n",
       "      <th>3</th>\n",
       "      <td>4</td>\n",
       "      <td>24</td>\n",
       "      <td>M</td>\n",
       "      <td>technician</td>\n",
       "      <td>43537</td>\n",
       "    </tr>\n",
       "    <tr>\n",
       "      <th>4</th>\n",
       "      <td>5</td>\n",
       "      <td>33</td>\n",
       "      <td>F</td>\n",
       "      <td>other</td>\n",
       "      <td>15213</td>\n",
       "    </tr>\n",
       "  </tbody>\n",
       "</table>\n",
       "</div>"
      ],
      "text/plain": [
       "   user_id  age sex  occupation zip_code\n",
       "0        1   24   M  technician    85711\n",
       "1        2   53   F       other    94043\n",
       "2        3   23   M      writer    32067\n",
       "3        4   24   M  technician    43537\n",
       "4        5   33   F       other    15213"
      ]
     },
     "execution_count": 2,
     "metadata": {},
     "output_type": "execute_result"
    }
   ],
   "source": [
    "users.head()"
   ]
  },
  {
   "cell_type": "code",
   "execution_count": 3,
   "metadata": {
    "collapsed": false
   },
   "outputs": [
    {
     "data": {
      "text/html": [
       "<div>\n",
       "<table border=\"1\" class=\"dataframe\">\n",
       "  <thead>\n",
       "    <tr style=\"text-align: right;\">\n",
       "      <th></th>\n",
       "      <th>movie_id</th>\n",
       "      <th>movie_title</th>\n",
       "      <th>release_date</th>\n",
       "      <th>video_release_date</th>\n",
       "      <th>IMDb_URL</th>\n",
       "      <th>unknown</th>\n",
       "      <th>Action</th>\n",
       "      <th>Adventure</th>\n",
       "      <th>Animation</th>\n",
       "      <th>Children's</th>\n",
       "      <th>...</th>\n",
       "      <th>Fantasy</th>\n",
       "      <th>Film-Noir</th>\n",
       "      <th>Horror</th>\n",
       "      <th>Musical</th>\n",
       "      <th>Mystery</th>\n",
       "      <th>Romance</th>\n",
       "      <th>Sci-Fi</th>\n",
       "      <th>Thriller</th>\n",
       "      <th>War</th>\n",
       "      <th>Western</th>\n",
       "    </tr>\n",
       "  </thead>\n",
       "  <tbody>\n",
       "    <tr>\n",
       "      <th>0</th>\n",
       "      <td>1</td>\n",
       "      <td>Toy Story (1995)</td>\n",
       "      <td>01-Jan-1995</td>\n",
       "      <td>NaN</td>\n",
       "      <td>http://us.imdb.com/M/title-exact?Toy%20Story%2...</td>\n",
       "      <td>0</td>\n",
       "      <td>0</td>\n",
       "      <td>0</td>\n",
       "      <td>1</td>\n",
       "      <td>1</td>\n",
       "      <td>...</td>\n",
       "      <td>0</td>\n",
       "      <td>0</td>\n",
       "      <td>0</td>\n",
       "      <td>0</td>\n",
       "      <td>0</td>\n",
       "      <td>0</td>\n",
       "      <td>0</td>\n",
       "      <td>0</td>\n",
       "      <td>0</td>\n",
       "      <td>0</td>\n",
       "    </tr>\n",
       "    <tr>\n",
       "      <th>1</th>\n",
       "      <td>2</td>\n",
       "      <td>GoldenEye (1995)</td>\n",
       "      <td>01-Jan-1995</td>\n",
       "      <td>NaN</td>\n",
       "      <td>http://us.imdb.com/M/title-exact?GoldenEye%20(...</td>\n",
       "      <td>0</td>\n",
       "      <td>1</td>\n",
       "      <td>1</td>\n",
       "      <td>0</td>\n",
       "      <td>0</td>\n",
       "      <td>...</td>\n",
       "      <td>0</td>\n",
       "      <td>0</td>\n",
       "      <td>0</td>\n",
       "      <td>0</td>\n",
       "      <td>0</td>\n",
       "      <td>0</td>\n",
       "      <td>0</td>\n",
       "      <td>1</td>\n",
       "      <td>0</td>\n",
       "      <td>0</td>\n",
       "    </tr>\n",
       "    <tr>\n",
       "      <th>2</th>\n",
       "      <td>3</td>\n",
       "      <td>Four Rooms (1995)</td>\n",
       "      <td>01-Jan-1995</td>\n",
       "      <td>NaN</td>\n",
       "      <td>http://us.imdb.com/M/title-exact?Four%20Rooms%...</td>\n",
       "      <td>0</td>\n",
       "      <td>0</td>\n",
       "      <td>0</td>\n",
       "      <td>0</td>\n",
       "      <td>0</td>\n",
       "      <td>...</td>\n",
       "      <td>0</td>\n",
       "      <td>0</td>\n",
       "      <td>0</td>\n",
       "      <td>0</td>\n",
       "      <td>0</td>\n",
       "      <td>0</td>\n",
       "      <td>0</td>\n",
       "      <td>1</td>\n",
       "      <td>0</td>\n",
       "      <td>0</td>\n",
       "    </tr>\n",
       "    <tr>\n",
       "      <th>3</th>\n",
       "      <td>4</td>\n",
       "      <td>Get Shorty (1995)</td>\n",
       "      <td>01-Jan-1995</td>\n",
       "      <td>NaN</td>\n",
       "      <td>http://us.imdb.com/M/title-exact?Get%20Shorty%...</td>\n",
       "      <td>0</td>\n",
       "      <td>1</td>\n",
       "      <td>0</td>\n",
       "      <td>0</td>\n",
       "      <td>0</td>\n",
       "      <td>...</td>\n",
       "      <td>0</td>\n",
       "      <td>0</td>\n",
       "      <td>0</td>\n",
       "      <td>0</td>\n",
       "      <td>0</td>\n",
       "      <td>0</td>\n",
       "      <td>0</td>\n",
       "      <td>0</td>\n",
       "      <td>0</td>\n",
       "      <td>0</td>\n",
       "    </tr>\n",
       "    <tr>\n",
       "      <th>4</th>\n",
       "      <td>5</td>\n",
       "      <td>Copycat (1995)</td>\n",
       "      <td>01-Jan-1995</td>\n",
       "      <td>NaN</td>\n",
       "      <td>http://us.imdb.com/M/title-exact?Copycat%20(1995)</td>\n",
       "      <td>0</td>\n",
       "      <td>0</td>\n",
       "      <td>0</td>\n",
       "      <td>0</td>\n",
       "      <td>0</td>\n",
       "      <td>...</td>\n",
       "      <td>0</td>\n",
       "      <td>0</td>\n",
       "      <td>0</td>\n",
       "      <td>0</td>\n",
       "      <td>0</td>\n",
       "      <td>0</td>\n",
       "      <td>0</td>\n",
       "      <td>1</td>\n",
       "      <td>0</td>\n",
       "      <td>0</td>\n",
       "    </tr>\n",
       "  </tbody>\n",
       "</table>\n",
       "<p>5 rows × 24 columns</p>\n",
       "</div>"
      ],
      "text/plain": [
       "   movie_id        movie_title release_date  video_release_date  \\\n",
       "0         1   Toy Story (1995)  01-Jan-1995                 NaN   \n",
       "1         2   GoldenEye (1995)  01-Jan-1995                 NaN   \n",
       "2         3  Four Rooms (1995)  01-Jan-1995                 NaN   \n",
       "3         4  Get Shorty (1995)  01-Jan-1995                 NaN   \n",
       "4         5     Copycat (1995)  01-Jan-1995                 NaN   \n",
       "\n",
       "                                            IMDb_URL  unknown  Action  \\\n",
       "0  http://us.imdb.com/M/title-exact?Toy%20Story%2...        0       0   \n",
       "1  http://us.imdb.com/M/title-exact?GoldenEye%20(...        0       1   \n",
       "2  http://us.imdb.com/M/title-exact?Four%20Rooms%...        0       0   \n",
       "3  http://us.imdb.com/M/title-exact?Get%20Shorty%...        0       1   \n",
       "4  http://us.imdb.com/M/title-exact?Copycat%20(1995)        0       0   \n",
       "\n",
       "   Adventure  Animation  Children's   ...     Fantasy  Film-Noir  Horror  \\\n",
       "0          0          1           1   ...           0          0       0   \n",
       "1          1          0           0   ...           0          0       0   \n",
       "2          0          0           0   ...           0          0       0   \n",
       "3          0          0           0   ...           0          0       0   \n",
       "4          0          0           0   ...           0          0       0   \n",
       "\n",
       "   Musical  Mystery  Romance  Sci-Fi  Thriller  War  Western  \n",
       "0        0        0        0       0         0    0        0  \n",
       "1        0        0        0       0         1    0        0  \n",
       "2        0        0        0       0         1    0        0  \n",
       "3        0        0        0       0         0    0        0  \n",
       "4        0        0        0       0         1    0        0  \n",
       "\n",
       "[5 rows x 24 columns]"
      ]
     },
     "execution_count": 3,
     "metadata": {},
     "output_type": "execute_result"
    }
   ],
   "source": [
    "items.head()"
   ]
  },
  {
   "cell_type": "code",
   "execution_count": 4,
   "metadata": {
    "collapsed": false
   },
   "outputs": [
    {
     "data": {
      "text/html": [
       "<div>\n",
       "<table border=\"1\" class=\"dataframe\">\n",
       "  <thead>\n",
       "    <tr style=\"text-align: right;\">\n",
       "      <th></th>\n",
       "      <th>user_id</th>\n",
       "      <th>movie_id</th>\n",
       "      <th>rating</th>\n",
       "      <th>unix_timestamp</th>\n",
       "    </tr>\n",
       "  </thead>\n",
       "  <tbody>\n",
       "    <tr>\n",
       "      <th>0</th>\n",
       "      <td>196</td>\n",
       "      <td>242</td>\n",
       "      <td>3</td>\n",
       "      <td>881250949</td>\n",
       "    </tr>\n",
       "    <tr>\n",
       "      <th>1</th>\n",
       "      <td>186</td>\n",
       "      <td>302</td>\n",
       "      <td>3</td>\n",
       "      <td>891717742</td>\n",
       "    </tr>\n",
       "    <tr>\n",
       "      <th>2</th>\n",
       "      <td>22</td>\n",
       "      <td>377</td>\n",
       "      <td>1</td>\n",
       "      <td>878887116</td>\n",
       "    </tr>\n",
       "    <tr>\n",
       "      <th>3</th>\n",
       "      <td>244</td>\n",
       "      <td>51</td>\n",
       "      <td>2</td>\n",
       "      <td>880606923</td>\n",
       "    </tr>\n",
       "    <tr>\n",
       "      <th>4</th>\n",
       "      <td>166</td>\n",
       "      <td>346</td>\n",
       "      <td>1</td>\n",
       "      <td>886397596</td>\n",
       "    </tr>\n",
       "  </tbody>\n",
       "</table>\n",
       "</div>"
      ],
      "text/plain": [
       "   user_id  movie_id  rating  unix_timestamp\n",
       "0      196       242       3       881250949\n",
       "1      186       302       3       891717742\n",
       "2       22       377       1       878887116\n",
       "3      244        51       2       880606923\n",
       "4      166       346       1       886397596"
      ]
     },
     "execution_count": 4,
     "metadata": {},
     "output_type": "execute_result"
    }
   ],
   "source": [
    "ratings.head()"
   ]
  },
  {
   "cell_type": "code",
   "execution_count": 5,
   "metadata": {
    "collapsed": false
   },
   "outputs": [
    {
     "data": {
      "text/plain": [
       "943"
      ]
     },
     "execution_count": 5,
     "metadata": {},
     "output_type": "execute_result"
    }
   ],
   "source": [
    "Nk = users.shape[0]\n",
    "Nk"
   ]
  },
  {
   "cell_type": "code",
   "execution_count": 6,
   "metadata": {
    "collapsed": false
   },
   "outputs": [
    {
     "data": {
      "text/plain": [
       "1682"
      ]
     },
     "execution_count": 6,
     "metadata": {},
     "output_type": "execute_result"
    }
   ],
   "source": [
    "Ni = items.shape[0]\n",
    "Ni"
   ]
  },
  {
   "cell_type": "code",
   "execution_count": 51,
   "metadata": {
    "collapsed": true
   },
   "outputs": [],
   "source": [
    "k = 30\n",
    "learning_rate = 0.001"
   ]
  },
  {
   "cell_type": "code",
   "execution_count": 52,
   "metadata": {
    "collapsed": true
   },
   "outputs": [],
   "source": [
    "import numpy as np"
   ]
  },
  {
   "cell_type": "code",
   "execution_count": 58,
   "metadata": {
    "collapsed": false
   },
   "outputs": [
    {
     "data": {
      "text/plain": [
       "array([[ 0.00462419, -0.03665728,  0.03055792, ...,  0.0446104 ,\n",
       "         0.0088018 ,  0.02796916],\n",
       "       [ 0.03121887,  0.03537908,  0.0028825 , ..., -0.03743405,\n",
       "         0.01596337,  0.03353265],\n",
       "       [ 0.02976069, -0.0444041 , -0.03423131, ...,  0.04373534,\n",
       "         0.04942211, -0.00489903],\n",
       "       ..., \n",
       "       [-0.01247854,  0.01969643, -0.04877076, ..., -0.04053938,\n",
       "        -0.0449584 , -0.01011615],\n",
       "       [ 0.02607875,  0.02167635, -0.03370418, ...,  0.03942942,\n",
       "         0.00541688, -0.00122751],\n",
       "       [ 0.03511322,  0.04935026, -0.00738135, ...,  0.02605328,\n",
       "        -0.04365953, -0.01835767]])"
      ]
     },
     "execution_count": 58,
     "metadata": {},
     "output_type": "execute_result"
    }
   ],
   "source": [
    "U = (np.random.random((Nk, k)) - 0.5) / 10\n",
    "#U"
   ]
  },
  {
   "cell_type": "code",
   "execution_count": 59,
   "metadata": {
    "collapsed": false
   },
   "outputs": [
    {
     "data": {
      "text/plain": [
       "array([[ 0.02641793,  0.02310492,  0.03849393, ..., -0.01607282,\n",
       "         0.02408088, -0.04469139],\n",
       "       [-0.04087882,  0.02960056,  0.02029566, ..., -0.02612535,\n",
       "         0.00460035,  0.04684475],\n",
       "       [-0.0059112 ,  0.03118646,  0.01429866, ..., -0.04830091,\n",
       "        -0.04896707, -0.04251883],\n",
       "       ..., \n",
       "       [-0.04430381, -0.04692093,  0.03734856, ...,  0.02662277,\n",
       "        -0.03662566,  0.04405735],\n",
       "       [-0.03437676,  0.03627527, -0.04552386, ...,  0.02292595,\n",
       "         0.02439007,  0.02366973],\n",
       "       [-0.0066346 ,  0.02164738, -0.0297455 , ..., -0.0157541 ,\n",
       "         0.04837783,  0.00724254]])"
      ]
     },
     "execution_count": 59,
     "metadata": {},
     "output_type": "execute_result"
    }
   ],
   "source": [
    "I = (np.random.random((k, Ni)) - 0.5) / 10\n",
    "#I"
   ]
  },
  {
   "cell_type": "code",
   "execution_count": 60,
   "metadata": {
    "collapsed": false
   },
   "outputs": [
    {
     "data": {
      "text/plain": [
       "((943, 30), (30, 1682))"
      ]
     },
     "execution_count": 60,
     "metadata": {},
     "output_type": "execute_result"
    }
   ],
   "source": [
    "U.shape, I.shape"
   ]
  },
  {
   "cell_type": "code",
   "execution_count": 61,
   "metadata": {
    "collapsed": false,
    "scrolled": false
   },
   "outputs": [
    {
     "name": "stdout",
     "output_type": "stream",
     "text": [
      "13.7312587246\n",
      "13.7613357138\n",
      "14.1440500294\n",
      "24.8309381564\n"
     ]
    },
    {
     "name": "stderr",
     "output_type": "stream",
     "text": [
      "/Users/lukasz/anaconda/lib/python3.6/site-packages/ipykernel/__main__.py:12: RuntimeWarning: overflow encountered in multiply\n",
      "/Users/lukasz/anaconda/lib/python3.6/site-packages/ipykernel/__main__.py:11: RuntimeWarning: overflow encountered in multiply\n"
     ]
    },
    {
     "name": "stdout",
     "output_type": "stream",
     "text": [
      "nan\n",
      "nan\n",
      "nan\n",
      "nan\n",
      "nan\n",
      "nan\n"
     ]
    }
   ],
   "source": [
    "for i in range(10):\n",
    "    for index, row in ratings.iterrows():\n",
    "        \n",
    "        user_id = row['user_id'] - 1\n",
    "        movie_id = row['movie_id'] - 1\n",
    "        Rij = row['rating']\n",
    "\n",
    "        us = U[user_id, :]\n",
    "        it = I[:, movie_id]\n",
    "\n",
    "        dCdu = 2 * (Rij - np.dot(us,it)) * -it\n",
    "        dCdi = 2 * (Rij - np.dot(us,it)) * -us\n",
    "\n",
    "        U[user_id, :] = U[user_id, :] - learning_rate * dCdu\n",
    "        I[:,movie_id] = I[:,movie_id] - learning_rate * dCdi\n",
    "    \n",
    "    mse = 0\n",
    "    Rhat = np.dot(U, I)\n",
    "    for index, row in ratings.iterrows():\n",
    "        user_id = row['user_id'] - 1\n",
    "        movie_id = row['movie_id'] - 1\n",
    "        Rij = row['rating']\n",
    "        mse += (Rhat[user_id, movie_id] - Rij) ** 2\n",
    "    mse /= ratings.shape[0]\n",
    "    print(mse)"
   ]
  },
  {
   "cell_type": "code",
   "execution_count": null,
   "metadata": {
    "collapsed": true
   },
   "outputs": [],
   "source": [
    "#Rozwiazanie Kuby:\n",
    "# dla każdego wiersza w ratings:\n",
    "# us - wiersz macierzy U o indeksie user id\n",
    "# it - kolumna macierzy I o indeksie movie id\n",
    "# dCdu - pochodna funkcji celu po us\n",
    "# dCdi - pochodna funkcji celu po it\n",
    "# U[user_id] = U[user_id] - learning_rate * dCdu\n",
    "# I[:, movie_id] = I[:, movie_id] - learning_rate * dCdi\n",
    "\n",
    "k = 10 # liczba cech ukrytych\n",
    "U = (np.random.sample((users_no, k)) -.5) / 10\n",
    "I = (np.random.sample((k, movies_no)) -.5) / 10\n",
    "\n",
    "learning_rate = 0.001\n",
    "\n",
    "for epoch in range(10):\n",
    "    for row in range(ratings.shape[0]):\n",
    "        us = ratings.iloc[row]['user_id']\n",
    "        it = ratings.iloc[row]['movie_id']\n",
    "        dCdu = 2 * (ratings.iloc[row]['rating'] - np.dot(U[us-1,:], I[:,it-1])) * (-I[:, it-1])\n",
    "        dCdi = 2 * (ratings.iloc[row]['rating'] - np.dot(U[us-1,:], I[:,it-1])) * (-U[us-1,:])\n",
    "        U[us-1,:] = U[us-1,:] - learning_rate * dCdu\n",
    "        I[:, it-1] = I[:, it-1] - learning_rate * dCdi\n",
    "    min_ = 0\n",
    "    for row in range(ratings.shape[0]):\n",
    "        us = ratings.iloc[row]['user_id']\n",
    "        it = ratings.iloc[row]['movie_id']\n",
    "        min_ += (ratings.iloc[row]['rating'] - np.dot(U[us-1,:], I[:,it-1]))**2\n",
    "    min_ /= ratings.shape[0]\n",
    "    print(\"Epoch:\", epoch + 1, \"Cost: \", min_ )"
   ]
  },
  {
   "cell_type": "code",
   "execution_count": 66,
   "metadata": {
    "collapsed": false
   },
   "outputs": [
    {
     "name": "stdout",
     "output_type": "stream",
     "text": [
      "Epoch: 1 Cost:  14.1265151579\n",
      "Epoch: 2 Cost:  14.1135686671\n",
      "Epoch: 3 Cost:  13.9702537731\n",
      "Epoch: 4 Cost:  12.7341597556\n",
      "Epoch: 5 Cost:  8.94005182149\n",
      "Epoch: 6 Cost:  6.14544567879\n",
      "Epoch: 7 Cost:  4.63781723665\n",
      "Epoch: 8 Cost:  3.69445319629\n",
      "Epoch: 9 Cost:  3.05863066541\n",
      "Epoch: 10 Cost:  2.60929841366\n",
      "Epoch: 11 Cost:  2.28021991919\n",
      "Epoch: 12 Cost:  2.03225253305\n",
      "Epoch: 13 Cost:  1.84103693837\n",
      "Epoch: 14 Cost:  1.69077059347\n",
      "Epoch: 15 Cost:  1.57082662507\n",
      "Epoch: 16 Cost:  1.47382911542\n",
      "Epoch: 17 Cost:  1.3945147445\n",
      "Epoch: 18 Cost:  1.32903609838\n",
      "Epoch: 19 Cost:  1.27452162404\n",
      "Epoch: 20 Cost:  1.22878942904\n",
      "Epoch: 21 Cost:  1.19015602987\n",
      "Epoch: 22 Cost:  1.15730534352\n",
      "Epoch: 23 Cost:  1.12919691877\n",
      "Epoch: 24 Cost:  1.10500036296\n",
      "Epoch: 25 Cost:  1.08404765362\n",
      "Epoch: 26 Cost:  1.06579790364\n",
      "Epoch: 27 Cost:  1.049810939\n",
      "Epoch: 28 Cost:  1.03572718799\n",
      "Epoch: 29 Cost:  1.02325212668\n",
      "Epoch: 30 Cost:  1.01214403082\n",
      "Epoch: 31 Cost:  1.00220414361\n",
      "Epoch: 32 Cost:  0.99326863566\n",
      "Epoch: 33 Cost:  0.985201938938\n",
      "Epoch: 34 Cost:  0.97789119108\n",
      "Epoch: 35 Cost:  0.971241634881\n",
      "Epoch: 36 Cost:  0.96517287946\n",
      "Epoch: 37 Cost:  0.959615950574\n",
      "Epoch: 38 Cost:  0.954511048672\n",
      "Epoch: 39 Cost:  0.949805910851\n",
      "Epoch: 40 Cost:  0.945454652745\n",
      "Epoch: 41 Cost:  0.941416959352\n",
      "Epoch: 42 Cost:  0.93765750318\n",
      "Epoch: 43 Cost:  0.934145490604\n",
      "Epoch: 44 Cost:  0.930854266178\n",
      "Epoch: 45 Cost:  0.927760933057\n",
      "Epoch: 46 Cost:  0.924845970948\n",
      "Epoch: 47 Cost:  0.922092849257\n",
      "Epoch: 48 Cost:  0.919487642518\n",
      "Epoch: 49 Cost:  0.917018659211\n",
      "Epoch: 50 Cost:  0.914676095389\n",
      "Epoch: 51 Cost:  0.912451722522\n",
      "Epoch: 52 Cost:  0.910338615784\n",
      "Epoch: 53 Cost:  0.908330925448\n",
      "Epoch: 54 Cost:  0.906423690545\n",
      "Epoch: 55 Cost:  0.90461269111\n"
     ]
    }
   ],
   "source": [
    "users_no = users.shape[0]\n",
    "movies_no = items.shape[0]\n",
    "k = 30 # liczba cech ukrytych\n",
    "U = (np.random.sample((users_no, k)) -.5) / 10\n",
    "I = (np.random.sample((k, movies_no)) -.5) / 10\n",
    "\n",
    "learning_rate = 0.001\n",
    "\n",
    "for epoch in range(55):\n",
    "    for row in range(ratings_train.shape[0]):\n",
    "        us = ratings_train.iloc[row]['user_id']\n",
    "        it = ratings_train.iloc[row]['movie_id']\n",
    "        dCdu = 2 * (ratings_train.iloc[row]['rating'] - np.dot(U[us-1,:], I[:,it-1])) * (-I[:, it-1])\n",
    "        dCdi = 2 * (ratings_train.iloc[row]['rating'] - np.dot(U[us-1,:], I[:,it-1])) * (-U[us-1,:])\n",
    "        U[us-1,:] = U[us-1,:] - learning_rate * dCdu\n",
    "        I[:, it-1] = I[:, it-1] - learning_rate * dCdi\n",
    "        \n",
    "    min_test = 0\n",
    "    for row in range(ratings_test.shape[0]):\n",
    "        us = ratings_test.iloc[row]['user_id']\n",
    "        it = ratings_test.iloc[row]['movie_id']\n",
    "        min_test += (ratings_test.iloc[row]['rating'] - np.dot(U[us-1,:], I[:,it-1]))**2\n",
    "    min_test /= ratings_test.shape[0]\n",
    "    \n",
    "    min_train = 0\n",
    "    for row in range(ratings_train.shape[0]):\n",
    "        us = ratings_train.iloc[row]['user_id']\n",
    "        it = ratings_train.iloc[row]['movie_id']\n",
    "        min_train += (ratings_train.iloc[row]['rating'] - np.dot(U[us-1,:], I[:,it-1]))**2\n",
    "    min_train /= ratings_train.shape[0]\n",
    "    print(\"Epoch:\", epoch + 1, \"Train Cost: \", min_train, \"Test Cost: \", min_test )\n",
    "    # uwazac na przeuczenie na danych treningowych"
   ]
  },
  {
   "cell_type": "code",
   "execution_count": null,
   "metadata": {
    "collapsed": true
   },
   "outputs": [],
   "source": []
  }
 ],
 "metadata": {
  "kernelspec": {
   "display_name": "Python 3",
   "language": "python",
   "name": "python3"
  },
  "language_info": {
   "codemirror_mode": {
    "name": "ipython",
    "version": 3
   },
   "file_extension": ".py",
   "mimetype": "text/x-python",
   "name": "python",
   "nbconvert_exporter": "python",
   "pygments_lexer": "ipython3",
   "version": "3.6.0"
  }
 },
 "nbformat": 4,
 "nbformat_minor": 2
}
