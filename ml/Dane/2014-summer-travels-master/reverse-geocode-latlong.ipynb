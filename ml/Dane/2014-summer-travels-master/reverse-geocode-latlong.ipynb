{
 "cells": [
  {
   "cell_type": "markdown",
   "metadata": {},
   "source": [
    "# Reverse geocode latitude-longitude to city + country, worldwide\n",
    "\n",
    "This notebook reverse geocodes a lat-long data set to city + country. \n",
    "\n",
    "More info: http://geoffboeing.com/2014/08/visualizing-summer-travels/\n",
    "\n",
    "For an advanced version that uses local caching, see [this notebook](https://github.com/gboeing/data-visualization/blob/master/location-history/google-location-history-reverse-geocode.ipynb) and [this write-up](http://geoffboeing.com/2016/06/mapping-everywhere-ever-been/) of that project."
   ]
  },
  {
   "cell_type": "code",
   "execution_count": 1,
   "metadata": {
    "collapsed": false
   },
   "outputs": [],
   "source": [
    "# import necessary modules\n",
    "import pandas as pd, requests, logging, time\n",
    "\n",
    "# magic command to display matplotlib plots inline within the ipython notebook\n",
    "%matplotlib inline"
   ]
  },
  {
   "cell_type": "code",
   "execution_count": 2,
   "metadata": {
    "collapsed": false
   },
   "outputs": [],
   "source": [
    "# configure logging for our tool\n",
    "lfh = logging.FileHandler('logs/reverse_geocoder.log', mode='w', encoding='utf-8')\n",
    "lfh.setFormatter(logging.Formatter('%(levelname)s %(asctime)s %(message)s'))\n",
    "log = logging.getLogger('reverse_geocoder')\n",
    "log.setLevel(logging.INFO)\n",
    "log.addHandler(lfh)\n",
    "log.info('process started')"
   ]
  },
  {
   "cell_type": "code",
   "execution_count": 3,
   "metadata": {
    "collapsed": false
   },
   "outputs": [
    {
     "data": {
      "text/html": [
       "<div>\n",
       "<table border=\"1\" class=\"dataframe\">\n",
       "  <thead>\n",
       "    <tr style=\"text-align: right;\">\n",
       "      <th></th>\n",
       "      <th>lat</th>\n",
       "      <th>lon</th>\n",
       "      <th>date</th>\n",
       "      <th>geocode_data</th>\n",
       "      <th>city</th>\n",
       "      <th>country</th>\n",
       "    </tr>\n",
       "  </thead>\n",
       "  <tbody>\n",
       "    <tr>\n",
       "      <th>0</th>\n",
       "      <td>51.481292</td>\n",
       "      <td>-0.451011</td>\n",
       "      <td>05/14/2014 09:07</td>\n",
       "      <td></td>\n",
       "      <td></td>\n",
       "      <td></td>\n",
       "    </tr>\n",
       "    <tr>\n",
       "      <th>1</th>\n",
       "      <td>51.474005</td>\n",
       "      <td>-0.450999</td>\n",
       "      <td>05/14/2014 09:22</td>\n",
       "      <td></td>\n",
       "      <td></td>\n",
       "      <td></td>\n",
       "    </tr>\n",
       "    <tr>\n",
       "      <th>2</th>\n",
       "      <td>51.478199</td>\n",
       "      <td>-0.446081</td>\n",
       "      <td>05/14/2014 10:51</td>\n",
       "      <td></td>\n",
       "      <td></td>\n",
       "      <td></td>\n",
       "    </tr>\n",
       "    <tr>\n",
       "      <th>3</th>\n",
       "      <td>51.478199</td>\n",
       "      <td>-0.446081</td>\n",
       "      <td>05/14/2014 11:24</td>\n",
       "      <td></td>\n",
       "      <td></td>\n",
       "      <td></td>\n",
       "    </tr>\n",
       "    <tr>\n",
       "      <th>4</th>\n",
       "      <td>51.474146</td>\n",
       "      <td>-0.451562</td>\n",
       "      <td>05/14/2014 11:38</td>\n",
       "      <td></td>\n",
       "      <td></td>\n",
       "      <td></td>\n",
       "    </tr>\n",
       "  </tbody>\n",
       "</table>\n",
       "</div>"
      ],
      "text/plain": [
       "         lat       lon              date geocode_data city country\n",
       "0  51.481292 -0.451011  05/14/2014 09:07                          \n",
       "1  51.474005 -0.450999  05/14/2014 09:22                          \n",
       "2  51.478199 -0.446081  05/14/2014 10:51                          \n",
       "3  51.478199 -0.446081  05/14/2014 11:24                          \n",
       "4  51.474146 -0.451562  05/14/2014 11:38                          "
      ]
     },
     "execution_count": 3,
     "metadata": {},
     "output_type": "execute_result"
    }
   ],
   "source": [
    "# load the gps coordinate data\n",
    "df = pd.read_csv('data/summer-travel-gps-no-city-country.csv', encoding='utf-8')\n",
    "\n",
    "# create new columns\n",
    "df['geocode_data'] = ''\n",
    "df['city'] = ''\n",
    "df['country'] = ''\n",
    "\n",
    "df.head()"
   ]
  },
  {
   "cell_type": "code",
   "execution_count": 4,
   "metadata": {
    "collapsed": false
   },
   "outputs": [],
   "source": [
    "# function that handles the geocoding requests\n",
    "def reverse_geocode(latlng):\n",
    "    time.sleep(0.1)\n",
    "    url = 'https://maps.googleapis.com/maps/api/geocode/json?latlng={0}'    \n",
    "    request = url.format(latlng)\n",
    "    log.info(request)\n",
    "    response = requests.get(request)\n",
    "    data = response.json()\n",
    "    if 'results' in data and len(data['results']) > 0:\n",
    "        return data['results'][0]"
   ]
  },
  {
   "cell_type": "code",
   "execution_count": 5,
   "metadata": {
    "collapsed": false
   },
   "outputs": [
    {
     "data": {
      "text/html": [
       "<div>\n",
       "<table border=\"1\" class=\"dataframe\">\n",
       "  <thead>\n",
       "    <tr style=\"text-align: right;\">\n",
       "      <th></th>\n",
       "      <th>lat</th>\n",
       "      <th>lon</th>\n",
       "      <th>date</th>\n",
       "      <th>geocode_data</th>\n",
       "      <th>city</th>\n",
       "      <th>country</th>\n",
       "      <th>latlng</th>\n",
       "    </tr>\n",
       "  </thead>\n",
       "  <tbody>\n",
       "    <tr>\n",
       "      <th>0</th>\n",
       "      <td>51.481292</td>\n",
       "      <td>-0.451011</td>\n",
       "      <td>05/14/2014 09:07</td>\n",
       "      <td>{'address_components': [{'long_name': '30', 't...</td>\n",
       "      <td></td>\n",
       "      <td></td>\n",
       "      <td>51.481291600000006,-0.4510112</td>\n",
       "    </tr>\n",
       "    <tr>\n",
       "      <th>1</th>\n",
       "      <td>51.474005</td>\n",
       "      <td>-0.450999</td>\n",
       "      <td>05/14/2014 09:22</td>\n",
       "      <td>{'address_components': [{'long_name': 'Croydon...</td>\n",
       "      <td></td>\n",
       "      <td></td>\n",
       "      <td>51.474005,-0.4509991</td>\n",
       "    </tr>\n",
       "    <tr>\n",
       "      <th>2</th>\n",
       "      <td>51.478199</td>\n",
       "      <td>-0.446081</td>\n",
       "      <td>05/14/2014 10:51</td>\n",
       "      <td>{'address_components': [{'long_name': '7912', ...</td>\n",
       "      <td></td>\n",
       "      <td></td>\n",
       "      <td>51.478199100000005,-0.44608100000000006</td>\n",
       "    </tr>\n",
       "    <tr>\n",
       "      <th>3</th>\n",
       "      <td>51.478199</td>\n",
       "      <td>-0.446081</td>\n",
       "      <td>05/14/2014 11:24</td>\n",
       "      <td>{'address_components': [{'long_name': '7912', ...</td>\n",
       "      <td></td>\n",
       "      <td></td>\n",
       "      <td>51.478199100000005,-0.44608100000000006</td>\n",
       "    </tr>\n",
       "    <tr>\n",
       "      <th>4</th>\n",
       "      <td>51.474146</td>\n",
       "      <td>-0.451562</td>\n",
       "      <td>05/14/2014 11:38</td>\n",
       "      <td>{'address_components': [{'long_name': 'Croydon...</td>\n",
       "      <td></td>\n",
       "      <td></td>\n",
       "      <td>51.4741456,-0.4515622</td>\n",
       "    </tr>\n",
       "  </tbody>\n",
       "</table>\n",
       "</div>"
      ],
      "text/plain": [
       "         lat       lon              date  \\\n",
       "0  51.481292 -0.451011  05/14/2014 09:07   \n",
       "1  51.474005 -0.450999  05/14/2014 09:22   \n",
       "2  51.478199 -0.446081  05/14/2014 10:51   \n",
       "3  51.478199 -0.446081  05/14/2014 11:24   \n",
       "4  51.474146 -0.451562  05/14/2014 11:38   \n",
       "\n",
       "                                        geocode_data city country  \\\n",
       "0  {'address_components': [{'long_name': '30', 't...                \n",
       "1  {'address_components': [{'long_name': 'Croydon...                \n",
       "2  {'address_components': [{'long_name': '7912', ...                \n",
       "3  {'address_components': [{'long_name': '7912', ...                \n",
       "4  {'address_components': [{'long_name': 'Croydon...                \n",
       "\n",
       "                                    latlng  \n",
       "0            51.481291600000006,-0.4510112  \n",
       "1                     51.474005,-0.4509991  \n",
       "2  51.478199100000005,-0.44608100000000006  \n",
       "3  51.478199100000005,-0.44608100000000006  \n",
       "4                    51.4741456,-0.4515622  "
      ]
     },
     "execution_count": 5,
     "metadata": {},
     "output_type": "execute_result"
    }
   ],
   "source": [
    "# create concatenated lat+lng column then reverse geocode each value\n",
    "df['latlng'] = df.apply(lambda row: '{},{}'.format(row['lat'], row['lon']), axis=1)\n",
    "df['geocode_data'] = df['latlng'].map(reverse_geocode)\n",
    "df.head()"
   ]
  },
  {
   "cell_type": "code",
   "execution_count": 6,
   "metadata": {
    "collapsed": true
   },
   "outputs": [],
   "source": [
    "# identify municipality and country data in the json that google sent back\n",
    "def parse_city(geocode_data):\n",
    "    if (not geocode_data is None) and ('address_components' in geocode_data):\n",
    "        for component in geocode_data['address_components']:\n",
    "            if 'locality' in component['types']:\n",
    "                return component['long_name']\n",
    "            elif 'postal_town' in component['types']:\n",
    "                return component['long_name']\n",
    "            elif 'administrative_area_level_2' in component['types']:\n",
    "                return component['long_name']\n",
    "            elif 'administrative_area_level_1' in component['types']:\n",
    "                return component['long_name']\n",
    "    return None\n",
    "\n",
    "def parse_country(geocode_data):\n",
    "    if (not geocode_data is None) and ('address_components' in geocode_data):\n",
    "        for component in geocode_data['address_components']:\n",
    "            if 'country' in component['types']:\n",
    "                return component['long_name']\n",
    "    return None"
   ]
  },
  {
   "cell_type": "code",
   "execution_count": 7,
   "metadata": {
    "collapsed": false
   },
   "outputs": [
    {
     "name": "stdout",
     "output_type": "stream",
     "text": [
      "1759\n"
     ]
    },
    {
     "data": {
      "text/html": [
       "<div>\n",
       "<table border=\"1\" class=\"dataframe\">\n",
       "  <thead>\n",
       "    <tr style=\"text-align: right;\">\n",
       "      <th></th>\n",
       "      <th>lat</th>\n",
       "      <th>lon</th>\n",
       "      <th>date</th>\n",
       "      <th>geocode_data</th>\n",
       "      <th>city</th>\n",
       "      <th>country</th>\n",
       "      <th>latlng</th>\n",
       "    </tr>\n",
       "  </thead>\n",
       "  <tbody>\n",
       "    <tr>\n",
       "      <th>0</th>\n",
       "      <td>51.481292</td>\n",
       "      <td>-0.451011</td>\n",
       "      <td>05/14/2014 09:07</td>\n",
       "      <td>{'address_components': [{'long_name': '30', 't...</td>\n",
       "      <td>Heathrow</td>\n",
       "      <td>United Kingdom</td>\n",
       "      <td>51.481291600000006,-0.4510112</td>\n",
       "    </tr>\n",
       "    <tr>\n",
       "      <th>1</th>\n",
       "      <td>51.474005</td>\n",
       "      <td>-0.450999</td>\n",
       "      <td>05/14/2014 09:22</td>\n",
       "      <td>{'address_components': [{'long_name': 'Croydon...</td>\n",
       "      <td>Longford</td>\n",
       "      <td>United Kingdom</td>\n",
       "      <td>51.474005,-0.4509991</td>\n",
       "    </tr>\n",
       "    <tr>\n",
       "      <th>2</th>\n",
       "      <td>51.478199</td>\n",
       "      <td>-0.446081</td>\n",
       "      <td>05/14/2014 10:51</td>\n",
       "      <td>{'address_components': [{'long_name': '7912', ...</td>\n",
       "      <td>Longford</td>\n",
       "      <td>United Kingdom</td>\n",
       "      <td>51.478199100000005,-0.44608100000000006</td>\n",
       "    </tr>\n",
       "    <tr>\n",
       "      <th>3</th>\n",
       "      <td>51.478199</td>\n",
       "      <td>-0.446081</td>\n",
       "      <td>05/14/2014 11:24</td>\n",
       "      <td>{'address_components': [{'long_name': '7912', ...</td>\n",
       "      <td>Longford</td>\n",
       "      <td>United Kingdom</td>\n",
       "      <td>51.478199100000005,-0.44608100000000006</td>\n",
       "    </tr>\n",
       "    <tr>\n",
       "      <th>4</th>\n",
       "      <td>51.474146</td>\n",
       "      <td>-0.451562</td>\n",
       "      <td>05/14/2014 11:38</td>\n",
       "      <td>{'address_components': [{'long_name': 'Croydon...</td>\n",
       "      <td>Longford</td>\n",
       "      <td>United Kingdom</td>\n",
       "      <td>51.4741456,-0.4515622</td>\n",
       "    </tr>\n",
       "  </tbody>\n",
       "</table>\n",
       "</div>"
      ],
      "text/plain": [
       "         lat       lon              date  \\\n",
       "0  51.481292 -0.451011  05/14/2014 09:07   \n",
       "1  51.474005 -0.450999  05/14/2014 09:22   \n",
       "2  51.478199 -0.446081  05/14/2014 10:51   \n",
       "3  51.478199 -0.446081  05/14/2014 11:24   \n",
       "4  51.474146 -0.451562  05/14/2014 11:38   \n",
       "\n",
       "                                        geocode_data      city  \\\n",
       "0  {'address_components': [{'long_name': '30', 't...  Heathrow   \n",
       "1  {'address_components': [{'long_name': 'Croydon...  Longford   \n",
       "2  {'address_components': [{'long_name': '7912', ...  Longford   \n",
       "3  {'address_components': [{'long_name': '7912', ...  Longford   \n",
       "4  {'address_components': [{'long_name': 'Croydon...  Longford   \n",
       "\n",
       "          country                                   latlng  \n",
       "0  United Kingdom            51.481291600000006,-0.4510112  \n",
       "1  United Kingdom                     51.474005,-0.4509991  \n",
       "2  United Kingdom  51.478199100000005,-0.44608100000000006  \n",
       "3  United Kingdom  51.478199100000005,-0.44608100000000006  \n",
       "4  United Kingdom                    51.4741456,-0.4515622  "
      ]
     },
     "execution_count": 7,
     "metadata": {},
     "output_type": "execute_result"
    }
   ],
   "source": [
    "df['city'] = df['geocode_data'].map(parse_city)\n",
    "df['country'] = df['geocode_data'].map(parse_country)\n",
    "print(len(df))\n",
    "df.head()"
   ]
  },
  {
   "cell_type": "code",
   "execution_count": 8,
   "metadata": {
    "collapsed": false
   },
   "outputs": [],
   "source": [
    "# google's geocoder fails on anything in kosovo, so do those manually now\n",
    "df.loc[df['country']=='', 'country'] = 'Kosovo'\n",
    "df.loc[df['city']=='', 'city'] = 'Prizren'"
   ]
  },
  {
   "cell_type": "code",
   "execution_count": 9,
   "metadata": {
    "collapsed": false
   },
   "outputs": [],
   "source": [
    "# save our reverse-geocoded data set\n",
    "df.to_csv('data/summer-travel-gps-full.csv', encoding='utf-8', index=False)"
   ]
  },
  {
   "cell_type": "code",
   "execution_count": null,
   "metadata": {
    "collapsed": false
   },
   "outputs": [],
   "source": []
  }
 ],
 "metadata": {
  "kernelspec": {
   "display_name": "Python 3",
   "language": "python",
   "name": "python3"
  },
  "language_info": {
   "codemirror_mode": {
    "name": "ipython",
    "version": 3
   },
   "file_extension": ".py",
   "mimetype": "text/x-python",
   "name": "python",
   "nbconvert_exporter": "python",
   "pygments_lexer": "ipython3",
   "version": "3.5.1"
  }
 },
 "nbformat": 4,
 "nbformat_minor": 0
}
