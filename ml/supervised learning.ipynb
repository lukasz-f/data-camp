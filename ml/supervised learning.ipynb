{
 "cells": [
  {
   "cell_type": "code",
   "execution_count": 1,
   "metadata": {
    "scrolled": true
   },
   "outputs": [
    {
     "name": "stderr",
     "output_type": "stream",
     "text": [
      "Using TensorFlow backend.\n"
     ]
    }
   ],
   "source": [
    "import keras"
   ]
  },
  {
   "cell_type": "code",
   "execution_count": 18,
   "metadata": {
    "collapsed": true
   },
   "outputs": [],
   "source": [
    "#Metody klasyfikacji:"
   ]
  },
  {
   "cell_type": "code",
   "execution_count": 8,
   "metadata": {
    "collapsed": true
   },
   "outputs": [],
   "source": [
    "# Naive Bayes\n",
    "# p(c|d) = (p(d|c) * p(c)) / p(d)\n",
    "# p(d|c) = p(d1|c) * p(d2|c) * p(d3|c) \n",
    "# naiwyny zaklada ze zdarzenia sa niezalezne i mozna je mnozyc\n",
    "# rozklad zdarzen powinien byc normalny\n",
    "\n",
    "# uzywany do:\n",
    "# do danych rzeczywistych bo jest szybki\n",
    "# kalsyfikacja tekstu: spam, analiza wydzwieku/sentymentu\n",
    "# system rekomendacyjny"
   ]
  },
  {
   "cell_type": "code",
   "execution_count": 7,
   "metadata": {
    "collapsed": true
   },
   "outputs": [],
   "source": [
    "from sklearn import metrics"
   ]
  },
  {
   "cell_type": "code",
   "execution_count": 9,
   "metadata": {
    "collapsed": true
   },
   "outputs": [],
   "source": [
    "#metrics.classification_report\n",
    "#metrics.confusion_matrix"
   ]
  },
  {
   "cell_type": "code",
   "execution_count": 12,
   "metadata": {
    "collapsed": true
   },
   "outputs": [],
   "source": [
    "# Maksymalna entropia (maxent) (regresja logistyczna, logistic regression)\n",
    "# nie zakladamy rozkladow cech\n",
    "# nie zakladamy niezaleznosci cech"
   ]
  },
  {
   "cell_type": "code",
   "execution_count": 14,
   "metadata": {
    "collapsed": true
   },
   "outputs": [],
   "source": [
    "# wektor Beta\n",
    "#B = (X.T * X) ** -1 * X.T * y\n",
    "# szukamy minimum funkcji RSS (suma po wszystkich (y - X.T * B) **2 )"
   ]
  },
  {
   "cell_type": "code",
   "execution_count": 16,
   "metadata": {
    "collapsed": true
   },
   "outputs": [],
   "source": [
    "#maxent mozna uczyc klasyfikatory metoda wstecznej propagacji (od wyjscia do wejscia)"
   ]
  },
  {
   "cell_type": "code",
   "execution_count": 17,
   "metadata": {
    "collapsed": true
   },
   "outputs": [],
   "source": [
    "#Support Vector Machines (SVM)\n",
    "# kernele liniowe i nieliniowe\n",
    "# liniowe sa szybkie, aby osiagnac liniowy kernel podnosimy wymiar danych"
   ]
  },
  {
   "cell_type": "code",
   "execution_count": 21,
   "metadata": {
    "collapsed": true
   },
   "outputs": [],
   "source": [
    "# Drzewa decyzyjne (CART) (ID3, ID4.5 to stare metody drzew decyzyjnych)\n",
    "# Random Forest (zbiór drzew, pomaga gdy pojedyncze drzewo nadmiernie sie dopasowuje) \n",
    "#(xbox kinect wykorzystuje random forest)\n",
    "# sklearn.ensemble.RandomForestClassifier"
   ]
  },
  {
   "cell_type": "code",
   "execution_count": null,
   "metadata": {
    "collapsed": true
   },
   "outputs": [],
   "source": [
    ""
   ]
  }
 ],
 "metadata": {
  "kernelspec": {
   "display_name": "Python 3",
   "language": "python",
   "name": "python3"
  },
  "language_info": {
   "codemirror_mode": {
    "name": "ipython",
    "version": 3.0
   },
   "file_extension": ".py",
   "mimetype": "text/x-python",
   "name": "python",
   "nbconvert_exporter": "python",
   "pygments_lexer": "ipython3",
   "version": "3.6.0"
  }
 },
 "nbformat": 4,
 "nbformat_minor": 0
}