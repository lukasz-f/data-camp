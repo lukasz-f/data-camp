{
 "cells": [
  {
   "cell_type": "markdown",
   "metadata": {},
   "source": [
    "Przygotowanie do zajęć:\n",
    "\n",
    "Dane (były już używane)\n",
    "adult, pima, https://raw.githubusercontent.com/dennybritz/rnn-tutorial-rnnlm/master/data/reddit-comments-2015-08.csv\n",
    "\"Dane/data_poleval\n",
    "Dane/international-airline-passengers.csv\"\n",
    "\n",
    "\n",
    "Zainstalować libhdf5-dev, h5py oraz theano:\n",
    "\n",
    "sudo apt-get install libhdf5-dev \n",
    "\n",
    "sudo pip3 install h5py\n",
    "\n",
    "sudo pip3 install theano\n",
    "\n",
    "Wywołać w jupyterze (żeby dane ściągnęły się na dysk):\n",
    "\n",
    "from sklearn.datasets import fetch_lfw_people\n",
    "\n",
    "lfw_people = fetch_lfw_people(min_faces_per_person=70, resize=0.4)\n",
    "\n",
    "from keras.datasets import cifar10\n",
    "\n",
    "(X_train, y_train), (X_test, y_test) = cifar10.load_data()\n",
    "\n",
    "from keras.datasets import imdb\n",
    "\n",
    "(x_train, y_train), (x_test, y_test) = imdb.load_data(num_words=5000)"
   ]
  },
  {
   "cell_type": "markdown",
   "metadata": {},
   "source": [
    "# Plan dnia\n",
    "\n",
    "1. Wielowarstwowa sieć neuronowa\n",
    "2. Sieci konwolucyjne\n",
    " - zastosowanie do analizy obrazu w sklali szarości (2D)\n",
    " - zastosowanie do analizy obrazu w RGB (3D)"
   ]
  },
  {
   "cell_type": "markdown",
   "metadata": {},
   "source": [
    "# Metoda spadku gradientu (gradient descent)"
   ]
  },
  {
   "cell_type": "code",
   "execution_count": 3,
   "metadata": {
    "collapsed": true,
    "scrolled": false
   },
   "outputs": [],
   "source": [
    "import numpy as np\n",
    "import matplotlib.pyplot as plt\n",
    "import time\n",
    "\n",
    "def f(x):\n",
    "    return(x**2 - 6*x + 12)\n",
    "    \n",
    "def grad_f(x):\n",
    "    return(2*x - 6)\n",
    "\n",
    "\n",
    "from IPython import display\n",
    "\n",
    "\n",
    "def visualise_gradient_decsent(f=f,grad_f=grad_f,theta = -2, learning_rate=0.8, sec=3, x = np.linspace(-5,11,100)):\n",
    "\n",
    "    \"\"\"\n",
    "    Funkcja wizualizujaca optymalizacje metoda spadku gradient.\n",
    "    \n",
    "    f - definicja funkcji, ktora chcemy zoptymalizowac\n",
    "    grad_f - definicja jej pochodnej\n",
    "    theta - punkt startowy\n",
    "    learning_rate - wspolczynnik uczenia\n",
    "    sec - dlugosc przerwy pomiedzy wyswietlaniem kolejnych elementow w sekundach\n",
    "    x - przedzial na ktorym wizualizujemy dzialanie metody\n",
    "    \n",
    "    \"\"\"\n",
    "    \n",
    "    y = f(x)\n",
    "    \n",
    "    for i in range(100):\n",
    "\n",
    "        plt.figure(figsize=(10,10))\n",
    "        plt.plot(x,y,c=\"blue\")\n",
    "        plt.scatter(theta,0,s=60)\n",
    "\n",
    "        display.clear_output(wait=True)\n",
    "        display.display(plt.gcf())\n",
    "        time.sleep(sec)\n",
    "\n",
    "        plt.vlines(x=theta,ymin=0,ymax=f(theta))\n",
    "\n",
    "\n",
    "        display.clear_output(wait=True)\n",
    "        display.display(plt.gcf())\n",
    "        time.sleep(sec)\n",
    "\n",
    "        theta_new = theta - learning_rate*grad_f(theta)\n",
    "\n",
    "\n",
    "        plt.arrow(theta, f(theta), 2, 2*grad_f(theta), head_width = 0.3,head_length = 0.3 )\n",
    "\n",
    "        display.clear_output(wait=True)\n",
    "        display.display(plt.gcf())\n",
    "        time.sleep(sec)\n",
    "\n",
    "\n",
    "        plt.text(-1,40,\"grad = %.3f\" % grad_f(theta), fontsize=20)\n",
    "\n",
    "        display.clear_output(wait=True)\n",
    "        display.display(plt.gcf())\n",
    "        time.sleep(sec)\n",
    "\n",
    "        plt.text(-2,30,\"step = -1 *  %.2f * %.2f = \" % (learning_rate,grad_f(theta)), fontsize=20)\n",
    "\n",
    "        display.clear_output(wait=True)\n",
    "        display.display(plt.gcf())\n",
    "        time.sleep(sec)\n",
    "\n",
    "        plt.text(-2,30,\"step = -1 *  %.2f * %.2f = %.2f\" % (learning_rate,grad_f(theta), -learning_rate*grad_f(theta)), fontsize=20)\n",
    "\n",
    "        display.clear_output(wait=True)\n",
    "        display.display(plt.gcf())\n",
    "        time.sleep(sec)\n",
    "\n",
    "\n",
    "\n",
    "        delta = theta_new - theta\n",
    "\n",
    "        plt.text(min(theta,theta_new),3,\"step = %.3f\" % ( -learning_rate*grad_f(theta)), fontsize=20)\n",
    "        plt.arrow(theta, 0, 0.9*delta, 0, head_width = 1,head_length = np.abs(0.1*delta),color=\"red\" )\n",
    "\n",
    "        display.display(plt.gcf())\n",
    "\n",
    "        #plt.annotate('', xy=(theta, 10), xytext=(theta_new, 10),\n",
    "        #                   arrowprops={'arrowstyle': '->', 'color': 'r', 'lw': 1},\n",
    "        #                   va='center', ha='center')\n",
    "        theta = theta_new\n",
    "\n",
    "        plt.vlines(x=theta,ymin=0,ymax=f(theta))\n",
    "        #plt.show()\n",
    "\n",
    "        display.clear_output(wait=True)\n",
    "        display.display(plt.gcf())\n",
    "        time.sleep(sec)"
   ]
  },
  {
   "cell_type": "code",
   "execution_count": 4,
   "metadata": {},
   "outputs": [
    {
     "data": {
      "image/png": "[encoded data removed]",
      "text/plain": [
       "<matplotlib.figure.Figure at 0x7f799e44b518>"
      ]
     },
     "metadata": {},
     "output_type": "display_data"
    },
    {
     "ename": "KeyboardInterrupt",
     "evalue": "",
     "output_type": "error",
     "traceback": [
      "\u001b[0;31m---------------------------------------------------------------------------\u001b[0m",
      "\u001b[0;31mKeyboardInterrupt\u001b[0m                         Traceback (most recent call last)",
      "\u001b[0;32m<ipython-input-4-7986667661cf>\u001b[0m in \u001b[0;36m<module>\u001b[0;34m()\u001b[0m\n\u001b[0;32m----> 1\u001b[0;31m \u001b[0mvisualise_gradient_decsent\u001b[0m\u001b[0;34m(\u001b[0m\u001b[0mlearning_rate\u001b[0m\u001b[0;34m=\u001b[0m\u001b[0;36m0.3\u001b[0m\u001b[0;34m)\u001b[0m\u001b[0;34m\u001b[0m\u001b[0m\n\u001b[0m",
      "\u001b[0;32m<ipython-input-3-08de3cb60d8a>\u001b[0m in \u001b[0;36mvisualise_gradient_decsent\u001b[0;34m(f, grad_f, theta, learning_rate, sec, x)\u001b[0m\n\u001b[1;32m     37\u001b[0m         \u001b[0mdisplay\u001b[0m\u001b[0;34m.\u001b[0m\u001b[0mclear_output\u001b[0m\u001b[0;34m(\u001b[0m\u001b[0mwait\u001b[0m\u001b[0;34m=\u001b[0m\u001b[0;32mTrue\u001b[0m\u001b[0;34m)\u001b[0m\u001b[0;34m\u001b[0m\u001b[0m\n\u001b[1;32m     38\u001b[0m         \u001b[0mdisplay\u001b[0m\u001b[0;34m.\u001b[0m\u001b[0mdisplay\u001b[0m\u001b[0;34m(\u001b[0m\u001b[0mplt\u001b[0m\u001b[0;34m.\u001b[0m\u001b[0mgcf\u001b[0m\u001b[0;34m(\u001b[0m\u001b[0;34m)\u001b[0m\u001b[0;34m)\u001b[0m\u001b[0;34m\u001b[0m\u001b[0m\n\u001b[0;32m---> 39\u001b[0;31m         \u001b[0mtime\u001b[0m\u001b[0;34m.\u001b[0m\u001b[0msleep\u001b[0m\u001b[0;34m(\u001b[0m\u001b[0msec\u001b[0m\u001b[0;34m)\u001b[0m\u001b[0;34m\u001b[0m\u001b[0m\n\u001b[0m\u001b[1;32m     40\u001b[0m \u001b[0;34m\u001b[0m\u001b[0m\n\u001b[1;32m     41\u001b[0m         \u001b[0mplt\u001b[0m\u001b[0;34m.\u001b[0m\u001b[0mvlines\u001b[0m\u001b[0;34m(\u001b[0m\u001b[0mx\u001b[0m\u001b[0;34m=\u001b[0m\u001b[0mtheta\u001b[0m\u001b[0;34m,\u001b[0m\u001b[0mymin\u001b[0m\u001b[0;34m=\u001b[0m\u001b[0;36m0\u001b[0m\u001b[0;34m,\u001b[0m\u001b[0mymax\u001b[0m\u001b[0;34m=\u001b[0m\u001b[0mf\u001b[0m\u001b[0;34m(\u001b[0m\u001b[0mtheta\u001b[0m\u001b[0;34m)\u001b[0m\u001b[0;34m)\u001b[0m\u001b[0;34m\u001b[0m\u001b[0m\n",
      "\u001b[0;31mKeyboardInterrupt\u001b[0m: "
     ]
    }
   ],
   "source": [
    "visualise_gradient_decsent(learning_rate=0.3)"
   ]
  },
  {
   "cell_type": "code",
   "execution_count": null,
   "metadata": {
    "collapsed": true,
    "scrolled": false
   },
   "outputs": [],
   "source": [
    "visualise_gradient_decsent(sec=1)"
   ]
  },
  {
   "cell_type": "code",
   "execution_count": null,
   "metadata": {
    "collapsed": true
   },
   "outputs": [],
   "source": [
    "visualise_gradient_decsent(learning_rate=1,sec=1)"
   ]
  },
  {
   "cell_type": "code",
   "execution_count": null,
   "metadata": {
    "collapsed": true
   },
   "outputs": [],
   "source": [
    "def f(x):\n",
    "    return(0.5*(x**4 - x**3 - 6*x**2 + 30) )\n",
    "\n",
    "def grad_f(x):\n",
    "    return(0.5*(4*x**3 - 3*x**2 - 12*x))\n",
    "\n",
    "visualise_gradient_decsent(f,grad_f,theta=-3,learning_rate=0.02,x=np.linspace(-4,4,300),sec=1)"
   ]
  },
  {
   "cell_type": "code",
   "execution_count": null,
   "metadata": {
    "collapsed": true
   },
   "outputs": [],
   "source": [
    "visualise_gradient_decsent(f,grad_f,theta=-3,learning_rate=0.1,x=np.linspace(-4,4,300),sec=1)"
   ]
  },
  {
   "cell_type": "markdown",
   "metadata": {},
   "source": [
    "Uczenie odbywa się w \"epokach\" - jedna epoka to aktualizaja wartosci parametru na podstawie całego zbioru obserwacji.\n",
    "\n",
    "## Gradient decsent:\n",
    "$$ Cost(\\theta) = \\sum\\limits_{i=1}^n f(x_i,y_i,\\theta)$$\n",
    "$$\\theta_k = \\theta_k - learning\\_rate * \\frac{dCost}{d\\theta_k}$$\n",
    "\n",
    "## Stochastic gradient decsent:\n",
    "\n",
    "$$ Cost(\\theta) = \\sum\\limits_{i \\in \\{ i_1, ..., i_r \\}}^n f(x_i,y_i,\\theta),$$ $$ \\ \\ \\text{gdzie} \\ \\ \\{ i_1, ..., i_r \\} - \\text{losowy podzbiór obserwacji}$$\n",
    "$$\\theta_i = \\theta_i - learning\\_rate * \\frac{df}{d\\theta_j}$$\n",
    "i powtarzamy to wielokrotnie tak, żeby każda obserwacja została wykorzystana jedenk raz - w praktyce mieszamy losowo kolejność obserwacji i bierzemy kolejne podzbiory - np. dla batcha wielkości 10, uczymy kolejno na obserwacjach od 1 do 10, od 11 do 20, itd.. Przejście po całych danych to jedna epoka."
   ]
  },
  {
   "cell_type": "markdown",
   "metadata": {},
   "source": [
    "# Neuron"
   ]
  },
  {
   "cell_type": "markdown",
   "metadata": {},
   "source": [
    "<img src=\"http://blog.zabarauskas.com/img/perceptron.gif\" width=\"400\">\n",
    "Źródło: http://blog.zabarauskas.com/img/perceptron.gif\n"
   ]
  },
  {
   "cell_type": "markdown",
   "metadata": {},
   "source": [
    "# Neuron jako klasyfikator - perceptron"
   ]
  },
  {
   "cell_type": "code",
   "execution_count": 5,
   "metadata": {
    "collapsed": true
   },
   "outputs": [],
   "source": [
    "from matplotlib.colors import ListedColormap\n",
    "def plot_decision_regions(X, y, classifier, resolution=0.02):\n",
    "   # setup marker generator and color map\n",
    "   markers = ('s', 'x', 'o', '^', 'v')\n",
    "   colors = ('red', 'blue', 'lightgreen', 'gray', 'cyan')\n",
    "   cmap = ListedColormap(colors[:len(np.unique(y))])\n",
    "\n",
    "   # plot the decision surface\n",
    "   x1_min, x1_max = X[:,  0].min() - 1, X[:, 0].max() + 1\n",
    "   x2_min, x2_max = X[:, 1].min() - 1, X[:, 1].max() + 1\n",
    "   xx1, xx2 = np.meshgrid(np.arange(x1_min, x1_max, resolution),\n",
    "   np.arange(x2_min, x2_max, resolution))\n",
    "   Z = classifier.predict(np.array([xx1.ravel(), xx2.ravel()]).T)\n",
    "   Z = Z.reshape(xx1.shape)\n",
    "   plt.contourf(xx1, xx2, Z, alpha=0.4, cmap=cmap)\n",
    "   plt.xlim(xx1.min(), xx1.max())\n",
    "   plt.ylim(xx2.min(), xx2.max())\n",
    "\n",
    "   # plot class samples\n",
    "   for idx, cl in enumerate(np.unique(y)):\n",
    "      plt.scatter(x=X[y == cl, 0], y=X[y == cl, 1],\n",
    "      alpha=0.8, c=cmap(idx),\n",
    "      marker=markers[idx], label=cl)\n",
    "\n",
    "class Perceptron(object):\n",
    "\n",
    "    def __init__(self, eta=0.1, epochs=50):\n",
    "        self.eta = eta\n",
    "        self.epochs = epochs\n",
    "\n",
    "    def train(self, X, y):\n",
    "\n",
    "        self.w_ = np.zeros(1 + X.shape[1])\n",
    "        self.w_[0] = -50\n",
    "        self.w_[1] = 10\n",
    "        self.w_[2] = 1\n",
    "        self.errors_ = []\n",
    "        \n",
    "        for i in range(self.epochs):\n",
    "            \n",
    "            plt.figure(figsize=(5,5))\n",
    "        \n",
    "            errors = 0\n",
    "            for xi, target in zip(X, y):\n",
    "                \n",
    "                update = self.eta * (target - self.predict(xi))\n",
    "                self.w_[1:] +=  update * xi\n",
    "                self.w_[0] +=  update\n",
    "                errors += int(update != 0.0)\n",
    "                \n",
    "            plt.scatter(X[:,0],X[:,1],c=y)\n",
    "            plt.plot(np.linspace(4,7,100),-1 * (self.w_[0]+self.w_[1]*np.linspace(4,7,100))/self.w_[2])\n",
    "            plt.title('Perceptron')\n",
    "            plt.xlabel('sepal length [cm]')\n",
    "            plt.ylabel('petal length [cm]')\n",
    "            plt.xlim(4,7)\n",
    "            plt.ylim(-1,6)\n",
    "            display.clear_output(wait=True)\n",
    "            display.display(plt.gcf())\n",
    "            time.sleep(1)\n",
    "\n",
    "            self.errors_.append(errors)\n",
    "            \n",
    "        return self\n",
    "\n",
    "    def net_input(self, X):\n",
    "        return np.dot(X, self.w_[1:]) + self.w_[0]\n",
    "\n",
    "    def predict(self, X):\n",
    "        return np.where(self.net_input(X) >= 0.0, 1, -1)"
   ]
  },
  {
   "cell_type": "markdown",
   "metadata": {},
   "source": [
    "# Wizualizacja procesu uczenia"
   ]
  },
  {
   "cell_type": "code",
   "execution_count": 6,
   "metadata": {},
   "outputs": [
    {
     "data": {
      "image/png": "[encoded data removed]",
      "text/plain": [
       "<matplotlib.figure.Figure at 0x7f799a115e10>"
      ]
     },
     "metadata": {},
     "output_type": "display_data"
    },
    {
     "ename": "KeyboardInterrupt",
     "evalue": "",
     "output_type": "error",
     "traceback": [
      "\u001b[0;31m---------------------------------------------------------------------------\u001b[0m",
      "\u001b[0;31mKeyboardInterrupt\u001b[0m                         Traceback (most recent call last)",
      "\u001b[0;32m<ipython-input-6-21561e6e848d>\u001b[0m in \u001b[0;36m<module>\u001b[0;34m()\u001b[0m\n\u001b[1;32m     11\u001b[0m \u001b[0;34m\u001b[0m\u001b[0m\n\u001b[1;32m     12\u001b[0m \u001b[0mppn\u001b[0m \u001b[0;34m=\u001b[0m \u001b[0mPerceptron\u001b[0m\u001b[0;34m(\u001b[0m\u001b[0mepochs\u001b[0m\u001b[0;34m=\u001b[0m\u001b[0;36m20\u001b[0m\u001b[0;34m,\u001b[0m \u001b[0meta\u001b[0m\u001b[0;34m=\u001b[0m\u001b[0;36m0.15\u001b[0m\u001b[0;34m)\u001b[0m\u001b[0;34m\u001b[0m\u001b[0m\n\u001b[0;32m---> 13\u001b[0;31m \u001b[0mppn\u001b[0m\u001b[0;34m.\u001b[0m\u001b[0mtrain\u001b[0m\u001b[0;34m(\u001b[0m\u001b[0mX\u001b[0m\u001b[0;34m,\u001b[0m \u001b[0my\u001b[0m\u001b[0;34m)\u001b[0m\u001b[0;34m\u001b[0m\u001b[0m\n\u001b[0m",
      "\u001b[0;32m<ipython-input-5-55493002b8ce>\u001b[0m in \u001b[0;36mtrain\u001b[0;34m(self, X, y)\u001b[0m\n\u001b[1;32m     58\u001b[0m             \u001b[0mdisplay\u001b[0m\u001b[0;34m.\u001b[0m\u001b[0mclear_output\u001b[0m\u001b[0;34m(\u001b[0m\u001b[0mwait\u001b[0m\u001b[0;34m=\u001b[0m\u001b[0;32mTrue\u001b[0m\u001b[0;34m)\u001b[0m\u001b[0;34m\u001b[0m\u001b[0m\n\u001b[1;32m     59\u001b[0m             \u001b[0mdisplay\u001b[0m\u001b[0;34m.\u001b[0m\u001b[0mdisplay\u001b[0m\u001b[0;34m(\u001b[0m\u001b[0mplt\u001b[0m\u001b[0;34m.\u001b[0m\u001b[0mgcf\u001b[0m\u001b[0;34m(\u001b[0m\u001b[0;34m)\u001b[0m\u001b[0;34m)\u001b[0m\u001b[0;34m\u001b[0m\u001b[0m\n\u001b[0;32m---> 60\u001b[0;31m             \u001b[0mtime\u001b[0m\u001b[0;34m.\u001b[0m\u001b[0msleep\u001b[0m\u001b[0;34m(\u001b[0m\u001b[0;36m1\u001b[0m\u001b[0;34m)\u001b[0m\u001b[0;34m\u001b[0m\u001b[0m\n\u001b[0m\u001b[1;32m     61\u001b[0m \u001b[0;34m\u001b[0m\u001b[0m\n\u001b[1;32m     62\u001b[0m             \u001b[0mself\u001b[0m\u001b[0;34m.\u001b[0m\u001b[0merrors_\u001b[0m\u001b[0;34m.\u001b[0m\u001b[0mappend\u001b[0m\u001b[0;34m(\u001b[0m\u001b[0merrors\u001b[0m\u001b[0;34m)\u001b[0m\u001b[0;34m\u001b[0m\u001b[0m\n",
      "\u001b[0;31mKeyboardInterrupt\u001b[0m: "
     ]
    }
   ],
   "source": [
    "import pandas as pd\n",
    "\n",
    "df = pd.read_csv('Dane/iris.data', header=None)\n",
    "\n",
    "# setosa and versicolor\n",
    "y = df.iloc[0:100, 4].values\n",
    "y = np.where(y == 'Iris-setosa', -1, 1)\n",
    "\n",
    "# sepal length and petal length\n",
    "X = df.iloc[0:100, [0,2]].values\n",
    "\n",
    "ppn = Perceptron(epochs=20, eta=0.15)\n",
    "ppn.train(X, y)"
   ]
  },
  {
   "cell_type": "markdown",
   "metadata": {},
   "source": [
    "# Wielowarstwowa sieć neuronowa\n",
    "\n",
    "(*Multilayer perceptron*, *feedforward neural network*)"
   ]
  },
  {
   "cell_type": "markdown",
   "metadata": {
    "collapsed": true
   },
   "source": [
    "<img src=\"https://www.intechopen.com/source/html/39071/media/f2.jpg\" width=\"700\">\n",
    "Źródło: https://www.intechopen.com/source/html/39071/media/f2.jpg\n"
   ]
  },
  {
   "cell_type": "markdown",
   "metadata": {
    "collapsed": true
   },
   "source": [
    "# Wizualizacja obszarów decyzyjnych w zalezności od liczby neuronów"
   ]
  },
  {
   "cell_type": "markdown",
   "metadata": {
    "collapsed": true
   },
   "source": [
    "<img src=\"http://d3kbpzbmcynnmx.cloudfront.net/wp-content/uploads/2015/09/nn-from-scratch-hidden-layer-varying-655x1024.png\" width=\"700\">\n",
    "Źródło: http://d3kbpzbmcynnmx.cloudfront.net/wp-content/uploads/2015/09/nn-from-scratch-hidden-layer-varying-655x1024.png\n",
    "\n"
   ]
  },
  {
   "cell_type": "markdown",
   "metadata": {},
   "source": [
    "### Fakt matematyczny: jednowarstwową siecią możemy otrzymać dowolny kształt. \n",
    "\n",
    "Co z tego wynika? To, że (teoretycznie) zawsze wystarczy sieć jednowarstwowa (odpowiednio duża). W praktyce rzeczywiście z reguły wystarcza jedna warstwa, ale mimo wszystko zawsze warto sprawdzić czy 2 (lub 3) nei zadziałają przypadkiem lepiej."
   ]
  },
  {
   "cell_type": "markdown",
   "metadata": {},
   "source": [
    "# 1. Sieci wielowarstwowe - klasyfikacja na zwykłym zbiorze, testowanie warstw, dropoutów"
   ]
  },
  {
   "cell_type": "code",
   "execution_count": 7,
   "metadata": {
    "collapsed": true
   },
   "outputs": [],
   "source": [
    "import numpy as np\n",
    "\n",
    "from sklearn.model_selection import train_test_split\n",
    "from sklearn.preprocessing import StandardScaler\n",
    "from sklearn.metrics import roc_auc_score, accuracy_score\n",
    "\n",
    "\n",
    "from sklearn.linear_model import LogisticRegression \n",
    "from sklearn.tree import DecisionTreeClassifier\n",
    "from sklearn.svm import SVC\n",
    "from sklearn.ensemble import RandomForestClassifier\n",
    "from sklearn.discriminant_analysis import LinearDiscriminantAnalysis, QuadraticDiscriminantAnalysis"
   ]
  },
  {
   "cell_type": "markdown",
   "metadata": {},
   "source": [
    "# Standaryzacji zmiennych!"
   ]
  },
  {
   "cell_type": "code",
   "execution_count": 8,
   "metadata": {},
   "outputs": [
    {
     "name": "stdout",
     "output_type": "stream",
     "text": [
      "(768, 8)\n",
      "0.348958333333\n",
      "Accuracy: 77.95% AUC:  0.828435319377\n",
      "Accuracy: 70.87% AUC:  0.680018786903\n",
      "Accuracy: 75.59% AUC:  0.834541062802\n",
      "Accuracy: 77.17% AUC:  0.830716586151\n",
      "Accuracy: 73.62% AUC:  0.785963499732\n",
      "Accuracy: 78.35% AUC:  0.811896135266\n"
     ]
    }
   ],
   "source": [
    "# load data\n",
    "dataset = np.loadtxt('Dane/pima-indians-diabetes.data', delimiter=\",\")\n",
    "# split data into X and y\n",
    "X = dataset[:,0:8]\n",
    "Y = dataset[:,8]\n",
    "\n",
    "print(X.shape)\n",
    "print(np.mean(Y))\n",
    "\n",
    "seed = 7\n",
    "test_size = 0.33\n",
    "X_train, X_test, y_train, y_test = train_test_split(X, Y, test_size=test_size, random_state=seed)\n",
    "\n",
    "\n",
    "####\n",
    "sc = StandardScaler()\n",
    "X_train = sc.fit_transform(X_train)\n",
    "X_test = sc.transform(X_test)\n",
    "####\n",
    "\n",
    "\n",
    "models = [LogisticRegression(),DecisionTreeClassifier(),SVC(probability=True), LinearDiscriminantAnalysis(), QuadraticDiscriminantAnalysis(), RandomForestClassifier()]\n",
    "\n",
    "for model in models:\n",
    "\n",
    "    model.fit(X_train, y_train)\n",
    "    y_pred = model.predict_proba(X_test)[:,1]\n",
    "    predictions = [round(value) for value in y_pred]\n",
    "\n",
    "    accuracy = accuracy_score(y_test, predictions)\n",
    "    print(\"Accuracy: %.2f%%\" % (accuracy * 100.0), \"AUC: \", roc_auc_score(y_score=y_pred,y_true=y_test))"
   ]
  },
  {
   "cell_type": "code",
   "execution_count": 9,
   "metadata": {
    "collapsed": true
   },
   "outputs": [],
   "source": [
    "from sklearn.neural_network import MLPClassifier"
   ]
  },
  {
   "cell_type": "code",
   "execution_count": null,
   "metadata": {
    "collapsed": true
   },
   "outputs": [],
   "source": [
    "?MLPClassifier()"
   ]
  },
  {
   "cell_type": "markdown",
   "metadata": {},
   "source": [
    "Jak widzimy MLP w sklearnie zatrzymuje uczenie na podstawie tego co się dzieje w treningowym! Na to sobie można pozwolić,\n",
    "gdy pracujemy nad zwykłym problemem klasyfikacji, gdzie naszymi danycmi jest tabelka, bo eksperymenty nie zajmują duzo czasu. Przy bardziej złożonych problemach, podchodzimy do tego inaczej!"
   ]
  },
  {
   "cell_type": "code",
   "execution_count": null,
   "metadata": {
    "collapsed": true
   },
   "outputs": [],
   "source": [
    "for h1_dim in [3,5,10,15,20,30,50,75,100,125,150,175,200,250,300,350,400,500]:\n",
    "\n",
    "    model = MLPClassifier((h1_dim,),activation=\"tanh\",max_iter=1000,tol=0)\n",
    "    model.fit(X_train, y_train)\n",
    "    y_pred = model.predict_proba(X_test)[:,1]\n",
    "    predictions = [round(value) for value in y_pred]\n",
    "\n",
    "    accuracy_test = accuracy_score(y_test, predictions)\n",
    "    #print(h1_dim, \"Accuracy Test: %.2f%%\" % (accuracy_test * 100.0), )\n",
    "    \n",
    "    y_pred = model.predict_proba(X_train)[:,1]\n",
    "    predictions = [round(value) for value in y_pred]\n",
    "    accuracy_train = accuracy_score(y_train, predictions)\n",
    "    print(h1_dim, \"Accuracy: %.2f%%\" % (accuracy_test * 100.0), \"Accuracy: %.2f%%\" % (accuracy_train * 100.0))"
   ]
  },
  {
   "cell_type": "markdown",
   "metadata": {},
   "source": [
    "Widzimy przeuczenie w niektórych przypadkach - tam gdzie jest ok 90% na treningowym, na testowym jest najmniej.\n",
    "\n",
    "Zauważmy, że najlepszy (na równi z innymi) wynik dało 5 neuronów! -> jeżeli różne sieci działają tak samo, to oczywiście bierzemy prostszą.\n",
    "\n",
    "Zwróćmy uwagę, że w najlepszym przypadku uzyskaliśmy 1% więcej niż najlepszy z poprzednich klasyfikatorów. I to nie jest istotna rożnica..."
   ]
  },
  {
   "cell_type": "code",
   "execution_count": null,
   "metadata": {
    "collapsed": true
   },
   "outputs": [],
   "source": [
    "for h1_dim in [3,5,10,15,20,30,50,75,100,150,200,300,400,500]:\n",
    "\n",
    "    model = MLPClassifier((h1_dim,),activation=\"tanh\",max_iter=200)\n",
    "    model.fit(X_train, y_train)\n",
    "    y_pred = model.predict_proba(X_test)[:,1]\n",
    "    predictions = [round(value) for value in y_pred]\n",
    "\n",
    "    accuracy_test = accuracy_score(y_test, predictions)\n",
    "    #print(h1_dim, \"Accuracy Test: %.2f%%\" % (accuracy_test * 100.0), )\n",
    "    \n",
    "    y_pred = model.predict_proba(X_train)[:,1]\n",
    "    predictions = [round(value) for value in y_pred]\n",
    "    accuracy_train = accuracy_score(y_train, predictions)\n",
    "    print(h1_dim, \"Accuracy: %.2f%%\" % (accuracy_test * 100.0), \"Accuracy: %.2f%%\" % (accuracy_train * 100.0))"
   ]
  },
  {
   "cell_type": "markdown",
   "metadata": {},
   "source": [
    "Widzimy, że większe sieci nie są istotnie lepsze. (na takim małym zbiorze statystycznie istotna rożnica to 3%)"
   ]
  },
  {
   "cell_type": "code",
   "execution_count": null,
   "metadata": {
    "collapsed": true
   },
   "outputs": [],
   "source": [
    "import itertools"
   ]
  },
  {
   "cell_type": "code",
   "execution_count": null,
   "metadata": {
    "collapsed": true,
    "scrolled": true
   },
   "outputs": [],
   "source": [
    "for h1_dim,h2_dim in itertools.product([3,5,10,15,20,30,50,75,100,150,200,300,400,500], [10,20,30,50,100]):\n",
    "\n",
    "    model = MLPClassifier((h1_dim,h2_dim),activation=\"tanh\",max_iter=500)\n",
    "    model.fit(X_train, y_train)\n",
    "    y_pred = model.predict_proba(X_test)[:,1]\n",
    "    predictions = [round(value) for value in y_pred]\n",
    "\n",
    "    accuracy_test = accuracy_score(y_test, predictions)\n",
    "    #print(h1_dim, \"Accuracy Test: %.2f%%\" % (accuracy_test * 100.0), )\n",
    "    \n",
    "    y_pred = model.predict_proba(X_train)[:,1]\n",
    "    predictions = [round(value) for value in y_pred]\n",
    "    accuracy_train = accuracy_score(y_train, predictions)\n",
    "    print(h1_dim, h2_dim, \"Accuracy: %.2f%%\" % (accuracy_test * 100.0), \"Accuracy: %.2f%%\" % (accuracy_train * 100.0))"
   ]
  },
  {
   "cell_type": "markdown",
   "metadata": {},
   "source": [
    "Widzimy przeuczenie w części sieci.\n",
    "\n",
    "Dodanie warstwy nie poprawiło wyników, więc nie ma sensu próbować dodawania kolejnych.\n",
    "\n",
    "Zatem na podstawie powyższych testów, przyjęlibyśmy, że najlepsza sieć to sieć jednowarstwowa z 5 neuronami."
   ]
  },
  {
   "cell_type": "markdown",
   "metadata": {
    "collapsed": true
   },
   "source": [
    "### Powyższe podejście do uczenia jest akceptowalne tylko w prostych problemach. Ogólnie należy uczyć inaczej: early stopping!"
   ]
  },
  {
   "cell_type": "code",
   "execution_count": null,
   "metadata": {
    "collapsed": true,
    "scrolled": false
   },
   "outputs": [],
   "source": [
    "model = MLPClassifier((5,),activation=\"tanh\",early_stopping=True,validation_fraction=0.3)\n",
    "model.fit(X_train, y_train)\n",
    "y_pred = model.predict_proba(X_test)[:,1]\n",
    "predictions = [round(value) for value in y_pred]\n",
    "\n",
    "accuracy_test = accuracy_score(y_test, predictions)\n",
    "print(\"Accuracy Test: %.2f%%\" % (accuracy_test * 100.0), )\n",
    "    "
   ]
  },
  {
   "cell_type": "markdown",
   "metadata": {},
   "source": [
    "Na tych danych otrzymamy gorszy wynik, bo zbiór jest bardzo mały.\n",
    "\n",
    "Uwaga: trzeba uważać na to, żeby zbiór walidacyjny był wystarczająco duży, żeby o końcu uczenia nie zadecydował przypadek."
   ]
  },
  {
   "cell_type": "code",
   "execution_count": null,
   "metadata": {
    "collapsed": true
   },
   "outputs": [],
   "source": [
    "# Wczytaj dane treningowe i testowe\n",
    "\n",
    "import pandas as pd\n",
    "import numpy as np\n",
    "train_set = pd.read_csv('Dane/adult.data', header = None)\n",
    "test_set = pd.read_csv('Dane/adult.test',skiprows = 1, header = None) # Make sure to skip a row for the test set\n",
    "\n",
    "\n",
    "col_labels = ['age', 'workclass', 'fnlwgt', 'education', 'education_num', 'marital_status', 'occupation', \n",
    "              'relationship', 'race', 'sex', 'capital_gain', 'capital_loss', 'hours_per_week', 'native_country',\n",
    "             'wage_class']\n",
    "train_set.columns = col_labels\n",
    "test_set.columns = col_labels\n",
    "\n",
    "train = train_set.replace(' ?', np.nan).dropna()\n",
    "test = test_set.replace(' ?', np.nan).dropna()\n",
    "\n",
    "\n",
    "\n",
    "dataset = pd.concat([train,test])\n",
    "\n",
    "dataset['wage_class'] = dataset.wage_class.replace({' <=50K.': 0,' <=50K':0, ' >50K.':1, ' >50K':1})\n",
    "\n",
    "dataset.drop([\"fnlwgt\"],axis=1,inplace=True)\n",
    "\n",
    "dataset.drop([\"education\"],axis=1,inplace=True)\n",
    "\n",
    "x = dataset.groupby('native_country')[\"wage_class\"].mean()\n",
    "\n",
    "d = dict(pd.cut(x[x.index!=\" United-States\"],5,labels=range(5)))\n",
    "\n",
    "dataset['native_country'] = dataset['native_country'].replace(d)\n",
    "\n",
    "dataset = pd.get_dummies(dataset,drop_first=True)\n",
    "\n",
    "train = dataset.iloc[:train.shape[0]]\n",
    "test = dataset.iloc[train.shape[0]:]\n",
    "\n",
    "X_train = train.drop(\"wage_class\",axis=1)\n",
    "y_train = train.wage_class\n",
    "\n",
    "X_test = test.drop(\"wage_class\",axis=1)\n",
    "y_test = test.wage_class\n",
    "\n",
    "print(X_train.shape)\n",
    "X_test.shape"
   ]
  },
  {
   "cell_type": "markdown",
   "metadata": {},
   "source": [
    "Sprawdźmy wyniki na surowych danych."
   ]
  },
  {
   "cell_type": "code",
   "execution_count": null,
   "metadata": {
    "collapsed": true
   },
   "outputs": [],
   "source": [
    "from sklearn.model_selection import GridSearchCV, ShuffleSplit"
   ]
  },
  {
   "cell_type": "code",
   "execution_count": null,
   "metadata": {
    "collapsed": true
   },
   "outputs": [],
   "source": [
    "params = {\"hidden_layer_sizes\": [(5),(10),(15),(30),(50),(100),(250),(500),(750),(1000),(1500),(2000),(3000),(4000)]}\n",
    "\n",
    "nnet = MLPClassifier(activation=\"tanh\",early_stopping=True,validation_fraction=0.15,max_iter=1000)\n",
    "gs = GridSearchCV(cv=ShuffleSplit(n_splits=1,test_size=0.1),error_score=\"accuracy\",estimator=nnet,param_grid=params)\n",
    "gs.fit(X_train,y_train)"
   ]
  },
  {
   "cell_type": "code",
   "execution_count": null,
   "metadata": {
    "collapsed": true
   },
   "outputs": [],
   "source": [
    "gs.grid_scores_"
   ]
  },
  {
   "cell_type": "code",
   "execution_count": null,
   "metadata": {
    "collapsed": true
   },
   "outputs": [],
   "source": [
    "accuracy_score(gs.best_estimator_.predict(X_test),y_test)"
   ]
  },
  {
   "cell_type": "markdown",
   "metadata": {},
   "source": [
    "### A teraz tak jak się powinno - na wystandaryzowanych."
   ]
  },
  {
   "cell_type": "code",
   "execution_count": null,
   "metadata": {
    "collapsed": true
   },
   "outputs": [],
   "source": [
    "from sklearn.preprocessing import StandardScaler\n",
    "sc = StandardScaler()"
   ]
  },
  {
   "cell_type": "code",
   "execution_count": null,
   "metadata": {
    "collapsed": true
   },
   "outputs": [],
   "source": [
    "X_train = sc.fit_transform(X_train)\n",
    "X_test = sc.transform(X_test)"
   ]
  },
  {
   "cell_type": "code",
   "execution_count": null,
   "metadata": {
    "collapsed": true
   },
   "outputs": [],
   "source": [
    "params = {\"hidden_layer_sizes\": [(5),(10),(15),(30),(50),(100),(250),(500),(750),(1000),(1500),(2000),(3000)]}\n",
    "\n",
    "nnet = MLPClassifier(activation=\"tanh\",early_stopping=True,validation_fraction=0.15,max_iter=1000)\n",
    "gs = GridSearchCV(cv=ShuffleSplit(n_splits=1,test_size=0.15),error_score=\"accuracy\",estimator=nnet,param_grid=params)\n",
    "gs.fit(X_train,y_train)"
   ]
  },
  {
   "cell_type": "code",
   "execution_count": null,
   "metadata": {
    "collapsed": true
   },
   "outputs": [],
   "source": [
    "gs.grid_scores_"
   ]
  },
  {
   "cell_type": "code",
   "execution_count": null,
   "metadata": {
    "collapsed": true
   },
   "outputs": [],
   "source": [
    "accuracy_score(gs.best_estimator_.predict(X_test),y_test)"
   ]
  },
  {
   "cell_type": "markdown",
   "metadata": {},
   "source": [
    "Widzimy, że najlepiej zadziałały sieci o liczbie neuronów podobnej do liczby zmiennych (42).\n",
    "\n",
    "Uwaga: im więcej neuronów, tym więcej parametrów -> tym więcej danych potrzeba, żeby je dobrze nauczyć.\n",
    "\n",
    "Dlatego trzeba badać sieci na dużych danych - bo jeśli badamy na małych danych to większe sieci, stoją na przegranej pozycji, pomimo tego, że gdyby danych było więcej, to być może byłyby obiektywnie lepsze."
   ]
  },
  {
   "cell_type": "code",
   "execution_count": null,
   "metadata": {
    "collapsed": true
   },
   "outputs": [],
   "source": [
    "from pprint import pprint\n",
    "\n",
    "params = {\"hidden_layer_sizes\": [(50,50),(100,50),(100,100),(500,100),(1000,100),(10,10)]}\n",
    "\n",
    "nnet = MLPClassifier(activation=\"tanh\",early_stopping=True,validation_fraction=0.15,max_iter=1000)\n",
    "gs = GridSearchCV(cv=ShuffleSplit(n_splits=1,test_size=0.1),error_score=\"accuracy\",estimator=nnet,param_grid=params)\n",
    "gs.fit(X_train,y_train)\n",
    "pprint(gs.grid_scores_)\n",
    "accuracy_score(gs.best_estimator_.predict(X_test),y_test)"
   ]
  },
  {
   "cell_type": "markdown",
   "metadata": {},
   "source": [
    "Czyli odrobinę się polepszyły wyniki."
   ]
  },
  {
   "cell_type": "markdown",
   "metadata": {},
   "source": [
    "### Ćwiczenie - pobawić się parametrami.\n",
    "\n",
    "- funkcja aktywacji - sigmoid\n",
    "- tol: rząd wielkości w górę, w dół\n",
    "- sprawdzić bez early stopping\n",
    "- wielkość części validacyjnej"
   ]
  },
  {
   "cell_type": "markdown",
   "metadata": {
    "collapsed": true
   },
   "source": [
    "# Uwaga\n",
    "\n",
    "W różnych materiałach możemy sie spotkać z takim kodem. \n",
    "\n",
    "model.fit(X_train, y_train, validation_data=(X_test, y_test), epochs=25)\n",
    "\n",
    "scores = model.evaluate(X_test, y_test)\n",
    "\n",
    "<br>\n",
    "\n",
    "<br>\n",
    "\n",
    "<br>\n",
    "\n",
    "<br>\n",
    "\n",
    "<br>\n",
    "\n",
    "<br>\n",
    "\n",
    "<br>\n",
    "\n",
    "Takie coś nie ma prawa pojawić się w poprawnym modelowaniu, bo:\n",
    "\n",
    "1. Podglądamy wyniki na zbiorze testowym - nie daje to rzetelnej oceny jakości modelu.\n",
    "2. Liczba epok jest ustalona."
   ]
  },
  {
   "cell_type": "markdown",
   "metadata": {},
   "source": [
    "# Konwolucyjne siecie neuronowe\n",
    "\n",
    "## Convolution neural networks, CNN"
   ]
  },
  {
   "cell_type": "markdown",
   "metadata": {},
   "source": [
    "### Filtrowanie - konwolucja (splot):\n",
    "\n",
    "<img src=\"https://i.stack.imgur.com/SKgim.jpg\" width=\"450\">\n",
    "\n",
    "Źródło: https://i.stack.imgur.com/SKgim.jpg"
   ]
  },
  {
   "cell_type": "markdown",
   "metadata": {},
   "source": [
    "# Filtry jako ekstraktory informacji\n",
    "\n",
    "<img src=\"https://adeshpande3.github.io/assets/Filter.png\" width=\"550\">\n",
    "\n",
    "<img src=\"https://adeshpande3.github.io/assets/OriginalAndFilter.png\" width=\"550\">\n",
    "\n",
    "<img src=\"https://adeshpande3.github.io/assets/FirstPixelMulitiplication.png\" width=\"550\">\n",
    "\n",
    "<img src=\"https://adeshpande3.github.io/assets/SecondMultiplication.png\" width=\"550\">\n",
    "\n",
    "Źródło: https://adeshpande3.github.io/assets/Filter.png"
   ]
  },
  {
   "cell_type": "markdown",
   "metadata": {},
   "source": [
    "### Warstwa konwolucyjna\n",
    "\n",
    "Warstawa konwolucyjna analizuje obraz \"kawałek po kawałku\" i zwraca informację o poszczególnych obszarach przy użyciu filtrów.\n",
    "\n",
    "Warstwa konwolucyjna składa się z K filtrów i zwraca K \"tablic\" powstałych przez przetworzenie wejścia kolejnymi filtrami.\n",
    "\n",
    "Operacja splotu (konwolucja):\n",
    "\n",
    "<img src=\"http://deeplearning.stanford.edu/wiki/images/6/6c/Convolution_schematic.gif\" width=\"450\">\n",
    "\n",
    "Źródło: http://deeplearning.stanford.edu/wiki/images/6/6c/Convolution_schematic.gif"
   ]
  },
  {
   "cell_type": "markdown",
   "metadata": {},
   "source": [
    "### Sieć konwolucyjna uczy się ekstrachować istotne \"informacje\" - parametrami sieci są wagi w filtrach!\n",
    "\n",
    "Czyli sieć sama uczy się tego, co jest istotne w danych dla naszego celu."
   ]
  },
  {
   "cell_type": "markdown",
   "metadata": {},
   "source": [
    "W sieciach konwolucyjnych na wyjście splotu nakłada się funkcję aktywacji. Z reguły jest to ReLU:\n",
    "\n",
    "<img src=\"https://ml4a.github.io/images/figures/relu.png\" width=\"350\">\n",
    "\n",
    "Źródło: https://ml4a.github.io/images/figures/relu.png\n",
    "\n",
    "Takie przekształcenie można interpretować w następujący sposób: jeżeli w danym obszarze jest coś co dany filtr \"rozpoznaje\" (wartość splotu większa od 0), to zwracamy po prostu wynik splotu. Natomiast jeśli dane nie pasują do danego filtra (wartość ujemna), to niezaleznie od tego co w tych danych jest, zwracamy 0, które mówi, że nie ma tego czego szukamy."
   ]
  },
  {
   "cell_type": "markdown",
   "metadata": {},
   "source": [
    "## Pooling (subsampling)\n",
    "\n",
    "Pooling to agregacja informacji - zamiast przechowywać całą tablicę, którą zwrócił filtr, wyciągamy sobie po jednej \"informacji\" z podobszarów. W ten sposób otrzymujemy tablicę o zredukowanym wymiarze.\n",
    "\n",
    "MaxPooling:\n",
    "\n",
    "<img src=\"https://adeshpande3.github.io/assets/MaxPool.png\" width=\"550\">\n",
    "\n",
    "Jaką informację wyekstrahuje \"max pooling\"?\n",
    "\n",
    "A jaką \"average pooling\"?\n",
    "\n",
    "W praktyce prawie zawsze po każdej warstwie konwolujyjnej dodaje się max pooling. (Czasem nie dodaje się poolingu na końcu wielowarstwowej sieci.)"
   ]
  },
  {
   "cell_type": "markdown",
   "metadata": {},
   "source": [
    "### Wielowarstwowa sieć konwolucyjna\n",
    "\n",
    "Naturalnym rozwiązaniem są wielowarstwowe sieci konwolucyjne.\n",
    "\n",
    "Wówczas każda kolejna warstwa w jakiś sposób agreguje informacje z poprzedniej warstwy do ogólniejszego poziomu. Przykladowa interpretacja w kontekście klasyfikacji czy na danym zdjęciu jest człowiek:\n",
    "- pierwsza warstwa: rozpoznawianie kształtów/konturów\n",
    "- druga warstwa: detekcja części ciała\n",
    "- trzecia: detekcja człowiek\n",
    "\n",
    "\n",
    "<img src=\"https://adeshpande3.github.io/assets/LeNet.png\" width=\"700\">\n",
    "Źródło: https://adeshpande3.github.io/assets/LeNet.png\"\n",
    "\n",
    "### Wyjście sieci\n",
    "\n",
    "Ostatnia warsta konwolucyjna (lub pooling) jest rozwijana do wektora. Ten wektor jest przepuszczany przez warstwy dense, które prowadzą do predykcji. Można dokonywać predykcji bezpośrednio z rozwiniętego wektora."
   ]
  },
  {
   "cell_type": "markdown",
   "metadata": {},
   "source": [
    "### Uwaga. Filty dla obrazka 2D jest tablicą 2D. Natomiast kolejne warstwy są 3D - dochodzi wymiar liczby filtrów. Dlatego dalsze filtry są kostami 3D, które mają głębokość równą głębokości poprzedniej warstwy.\n",
    "\n",
    "<img src=\"https://www.mathworks.com/content/mathworks/www/en/discovery/convolutional-neural-network/_jcr_content/mainParsys/image_copy.img.jpg/1497876372993.jpg\" width=\"700\">\n",
    "\n",
    "Źródło: https://www.mathworks.com/content/mathworks/www/en/discovery/convolutional-neural-network/_jcr_content/mainParsys/image_copy.img.jpg/1497876372993.jpg"
   ]
  },
  {
   "cell_type": "markdown",
   "metadata": {},
   "source": [
    "## Strides - wielkość kroku przesunięcia\n",
    "\n",
    "Określa dokładność z jaką chcemy skanować dane.\n",
    "\n",
    "Strides = (1,1)\n",
    "\n",
    "<img src=\"https://adeshpande3.github.io/assets/Stride1.png\" width=\"600\">\n",
    "\n",
    "Strides = (2,2)\n",
    "\n",
    "<img src=\"https://adeshpande3.github.io/assets/Stride2.png\" width=\"600\">\n",
    "\n",
    "Źródło: https://adeshpande3.github.io/adeshpande3.github.io/A-Beginner's-Guide-To-Understanding-Convolutional-Neural-Networks-Part-2/\n"
   ]
  },
  {
   "cell_type": "markdown",
   "metadata": {},
   "source": [
    "### Jeszcze jednym parametrem jest rozmiar filtra."
   ]
  },
  {
   "cell_type": "markdown",
   "metadata": {},
   "source": [
    "# Przechodzimy do praktyki!"
   ]
  },
  {
   "cell_type": "markdown",
   "metadata": {},
   "source": [
    "# Obrazki 2D (szare)\n",
    "\n",
    "http://scikit-learn.org/0.15/auto_examples/applications/face_recognition.html"
   ]
  },
  {
   "cell_type": "code",
   "execution_count": 3,
   "metadata": {},
   "outputs": [
    {
     "name": "stderr",
     "output_type": "stream",
     "text": [
      "Using TensorFlow backend.\n"
     ]
    }
   ],
   "source": [
    "import numpy as np\n",
    "import pandas as pd\n",
    "import os\n",
    "from keras.utils import np_utils"
   ]
  },
  {
   "cell_type": "code",
   "execution_count": 46,
   "metadata": {
    "collapsed": true
   },
   "outputs": [],
   "source": [
    "from sklearn.datasets import fetch_lfw_people\n",
    "\n",
    "lfw_people = fetch_lfw_people(min_faces_per_person=70, resize=0.4)\n",
    "\n",
    "n_samples, h, w = lfw_people.images.shape\n",
    "\n",
    "X = lfw_people.data\n",
    "n_features = X.shape[1]\n",
    "\n",
    "y = lfw_people.target\n",
    "\n",
    "target_names = lfw_people.target_names"
   ]
  },
  {
   "cell_type": "code",
   "execution_count": 47,
   "metadata": {},
   "outputs": [
    {
     "data": {
      "text/plain": [
       "array([ 254.33332825,  254.        ,  252.        , ...,   87.        ,\n",
       "         88.66666412,   87.        ], dtype=float32)"
      ]
     },
     "execution_count": 47,
     "metadata": {},
     "output_type": "execute_result"
    }
   ],
   "source": [
    "X[0] # wektor - pozniej zamienimy na macierz, bo to jest obraz"
   ]
  },
  {
   "cell_type": "code",
   "execution_count": 48,
   "metadata": {},
   "outputs": [
    {
     "data": {
      "text/plain": [
       "(1288, 1850)"
      ]
     },
     "execution_count": 48,
     "metadata": {},
     "output_type": "execute_result"
    }
   ],
   "source": [
    "X.shape"
   ]
  },
  {
   "cell_type": "code",
   "execution_count": 49,
   "metadata": {},
   "outputs": [
    {
     "data": {
      "text/plain": [
       "(array([0, 1, 2, 3, 4, 5, 6]), array([ 77, 236, 121, 530, 109,  71, 144]))"
      ]
     },
     "execution_count": 49,
     "metadata": {},
     "output_type": "execute_result"
    }
   ],
   "source": [
    "np.unique(y,return_counts=True)"
   ]
  },
  {
   "cell_type": "code",
   "execution_count": 50,
   "metadata": {},
   "outputs": [
    {
     "data": {
      "text/plain": [
       "array([[ 0.,  0.,  0., ...,  0.,  1.,  0.],\n",
       "       [ 0.,  0.,  0., ...,  0.,  0.,  1.],\n",
       "       [ 0.,  0.,  0., ...,  0.,  0.,  0.],\n",
       "       ..., \n",
       "       [ 0.,  0.,  0., ...,  0.,  1.,  0.],\n",
       "       [ 0.,  0.,  0., ...,  0.,  0.,  0.],\n",
       "       [ 0.,  0.,  0., ...,  0.,  1.,  0.]])"
      ]
     },
     "execution_count": 50,
     "metadata": {},
     "output_type": "execute_result"
    }
   ],
   "source": [
    "y = np_utils.to_categorical(y)\n",
    "y"
   ]
  },
  {
   "cell_type": "code",
   "execution_count": 51,
   "metadata": {
    "collapsed": true
   },
   "outputs": [],
   "source": [
    "n_classes = y.shape[1]"
   ]
  },
  {
   "cell_type": "code",
   "execution_count": 52,
   "metadata": {},
   "outputs": [
    {
     "data": {
      "text/plain": [
       "array(['Ariel Sharon', 'Colin Powell', 'Donald Rumsfeld', 'George W Bush',\n",
       "       'Gerhard Schroeder', 'Hugo Chavez', 'Tony Blair'],\n",
       "      dtype='<U17')"
      ]
     },
     "execution_count": 52,
     "metadata": {},
     "output_type": "execute_result"
    }
   ],
   "source": [
    "target_names"
   ]
  },
  {
   "cell_type": "code",
   "execution_count": 53,
   "metadata": {
    "collapsed": true
   },
   "outputs": [],
   "source": [
    "X_train, X_test, y_train, y_test = train_test_split(\n",
    "    X, y, test_size=0.4)\n",
    "\n",
    "X_train = np.array([x.reshape((h, w, 1)) for x in X_train])\n",
    "X_test = np.array([x.reshape((h, w, 1)) for x in X_test])\n",
    "\n",
    "X_train = X_train / 255\n",
    "X_test = X_test / 255"
   ]
  },
  {
   "cell_type": "code",
   "execution_count": 45,
   "metadata": {
    "scrolled": true
   },
   "outputs": [
    {
     "data": {
      "text/plain": [
       "array([[[ 0.32810456],\n",
       "        [ 0.32418299],\n",
       "        [ 0.3477124 ],\n",
       "        ..., \n",
       "        [ 0.35163397],\n",
       "        [ 0.21960784],\n",
       "        [ 0.16470589]],\n",
       "\n",
       "       [[ 0.31633985],\n",
       "        [ 0.3385621 ],\n",
       "        [ 0.40261436],\n",
       "        ..., \n",
       "        [ 0.25490198],\n",
       "        [ 0.26013073],\n",
       "        [ 0.1738562 ]],\n",
       "\n",
       "       [[ 0.33333334],\n",
       "        [ 0.33986926],\n",
       "        [ 0.41176471],\n",
       "        ..., \n",
       "        [ 0.1751634 ],\n",
       "        [ 0.18431373],\n",
       "        [ 0.13725491]],\n",
       "\n",
       "       ..., \n",
       "       [[ 0.59477127],\n",
       "        [ 0.51764709],\n",
       "        [ 0.3267974 ],\n",
       "        ..., \n",
       "        [ 0.03660131],\n",
       "        [ 0.10588235],\n",
       "        [ 0.33202612]],\n",
       "\n",
       "       [[ 0.58300656],\n",
       "        [ 0.59869283],\n",
       "        [ 0.3594771 ],\n",
       "        ..., \n",
       "        [ 0.04444444],\n",
       "        [ 0.05882353],\n",
       "        [ 0.08888888]],\n",
       "\n",
       "       [[ 0.57254905],\n",
       "        [ 0.63137257],\n",
       "        [ 0.45620915],\n",
       "        ..., \n",
       "        [ 0.04836601],\n",
       "        [ 0.05228758],\n",
       "        [ 0.0496732 ]]], dtype=float32)"
      ]
     },
     "execution_count": 45,
     "metadata": {},
     "output_type": "execute_result"
    }
   ],
   "source": [
    "X_train[0]"
   ]
  },
  {
   "cell_type": "code",
   "execution_count": 54,
   "metadata": {
    "collapsed": true
   },
   "outputs": [],
   "source": [
    "import matplotlib.pyplot as plt\n",
    "%matplotlib inline"
   ]
  },
  {
   "cell_type": "code",
   "execution_count": 55,
   "metadata": {},
   "outputs": [
    {
     "data": {
      "image/png": "[encoded data removed]",
      "text/plain": [
       "<matplotlib.figure.Figure at 0x7f479a7e75c0>"
      ]
     },
     "metadata": {},
     "output_type": "display_data"
    }
   ],
   "source": [
    "images = X_train[:12]\n",
    "n_col = 4\n",
    "n_row = 3\n",
    "plt.figure(figsize=(1.8 * n_col, 2.4 * n_row))\n",
    "plt.subplots_adjust(bottom=0, left=.01, right=.99, top=.90, hspace=.35)\n",
    "for i in range(n_row * n_col):\n",
    "    plt.subplot(n_row, n_col, i + 1)\n",
    "    plt.imshow(images[i][:,:,0], cmap=plt.cm.gray)\n",
    "    plt.xticks(())\n",
    "    plt.yticks(())\n",
    "    \n",
    "plt.show()"
   ]
  },
  {
   "cell_type": "code",
   "execution_count": 56,
   "metadata": {},
   "outputs": [
    {
     "data": {
      "text/plain": [
       "(772, 50, 37, 1)"
      ]
     },
     "execution_count": 56,
     "metadata": {},
     "output_type": "execute_result"
    }
   ],
   "source": [
    "X_train.shape"
   ]
  },
  {
   "cell_type": "code",
   "execution_count": 57,
   "metadata": {},
   "outputs": [
    {
     "data": {
      "text/plain": [
       "(772, 7)"
      ]
     },
     "execution_count": 57,
     "metadata": {},
     "output_type": "execute_result"
    }
   ],
   "source": [
    "y_train.shape"
   ]
  },
  {
   "cell_type": "code",
   "execution_count": 58,
   "metadata": {},
   "outputs": [
    {
     "data": {
      "text/plain": [
       "(516, 50, 37, 1)"
      ]
     },
     "execution_count": 58,
     "metadata": {},
     "output_type": "execute_result"
    }
   ],
   "source": [
    "X_test.shape"
   ]
  },
  {
   "cell_type": "markdown",
   "metadata": {},
   "source": [
    "### Ćwiczenie 1. Punkt odniesienia\n",
    "\n",
    "Sprawdź klasyfikację przy użyciu perceptrona - sieć 0-warstwowa (lub 1-warstwowa licząc wyjście jako warstwę). Pamiętaj, że, aby uruchomić warstwę dense na danych, które nie są wektorem trzeba je \"rozwinąć\" przy uzyciu \"warstwy\" (operacji) Flatten. "
   ]
  },
  {
   "cell_type": "code",
   "execution_count": 59,
   "metadata": {
    "collapsed": true
   },
   "outputs": [],
   "source": [
    "from keras.models import Sequential\n",
    "\n",
    "from keras.layers import Dense, Flatten, Dropout\n",
    "from keras.constraints import maxnorm\n",
    "# keras.optimizers import SGD\n",
    "from keras.layers.convolutional import Conv2D, MaxPooling2D, AveragePooling2D\n",
    "\n",
    "from keras.callbacks import EarlyStopping, ModelCheckpoint"
   ]
  },
  {
   "cell_type": "code",
   "execution_count": 62,
   "metadata": {},
   "outputs": [
    {
     "name": "stdout",
     "output_type": "stream",
     "text": [
      "_________________________________________________________________\n",
      "Layer (type)                 Output Shape              Param #   \n",
      "=================================================================\n",
      "flatten_3 (Flatten)          (None, 1850)              0         \n",
      "_________________________________________________________________\n",
      "dense_3 (Dense)              (None, 7)                 12957     \n",
      "=================================================================\n",
      "Total params: 12,957\n",
      "Trainable params: 12,957\n",
      "Non-trainable params: 0\n",
      "_________________________________________________________________\n",
      "None\n"
     ]
    }
   ],
   "source": [
    "model = Sequential()\n",
    "model.add(Flatten(input_shape=(50,37,1)))\n",
    "model.add(Dense(n_classes,activation=\"softmax\"))\n",
    "\n",
    "model.compile(loss=\"categorical_crossentropy\",optimizer=\"adam\",metrics=[\"categorical_accuracy\"])\n",
    "\n",
    "print(model.summary())"
   ]
  },
  {
   "cell_type": "code",
   "execution_count": 63,
   "metadata": {
    "scrolled": true
   },
   "outputs": [
    {
     "name": "stdout",
     "output_type": "stream",
     "text": [
      "Train on 579 samples, validate on 193 samples\n",
      "Epoch 1/100\n",
      "579/579 [==============================] - 0s - loss: 1.7694 - categorical_accuracy: 0.3851 - val_loss: 1.7537 - val_categorical_accuracy: 0.4352\n",
      "Epoch 2/100\n",
      "579/579 [==============================] - 0s - loss: 1.6893 - categorical_accuracy: 0.4301 - val_loss: 1.8499 - val_categorical_accuracy: 0.4819\n",
      "Epoch 3/100\n",
      "579/579 [==============================] - 0s - loss: 1.6220 - categorical_accuracy: 0.4370 - val_loss: 1.6641 - val_categorical_accuracy: 0.4249\n",
      "Epoch 4/100\n",
      "579/579 [==============================] - 0s - loss: 1.5795 - categorical_accuracy: 0.4093 - val_loss: 1.5779 - val_categorical_accuracy: 0.4767\n",
      "Epoch 5/100\n",
      "579/579 [==============================] - 0s - loss: 1.4895 - categorical_accuracy: 0.4611 - val_loss: 1.5532 - val_categorical_accuracy: 0.5078\n",
      "Epoch 6/100\n",
      "579/579 [==============================] - 0s - loss: 1.4331 - categorical_accuracy: 0.4940 - val_loss: 1.4437 - val_categorical_accuracy: 0.5440\n",
      "Epoch 7/100\n",
      "579/579 [==============================] - 0s - loss: 1.3919 - categorical_accuracy: 0.5043 - val_loss: 1.6030 - val_categorical_accuracy: 0.4508\n",
      "Epoch 8/100\n",
      "579/579 [==============================] - 0s - loss: 1.4072 - categorical_accuracy: 0.5043 - val_loss: 1.4823 - val_categorical_accuracy: 0.5233\n",
      "Epoch 9/100\n",
      "579/579 [==============================] - 0s - loss: 1.3163 - categorical_accuracy: 0.5233 - val_loss: 1.4331 - val_categorical_accuracy: 0.5389\n",
      "Epoch 10/100\n",
      "579/579 [==============================] - 0s - loss: 1.2957 - categorical_accuracy: 0.5579 - val_loss: 1.3840 - val_categorical_accuracy: 0.5648\n",
      "Epoch 11/100\n",
      "579/579 [==============================] - 0s - loss: 1.2393 - categorical_accuracy: 0.5630 - val_loss: 1.3606 - val_categorical_accuracy: 0.5492\n",
      "Epoch 12/100\n",
      "579/579 [==============================] - 0s - loss: 1.2031 - categorical_accuracy: 0.5855 - val_loss: 1.2667 - val_categorical_accuracy: 0.5699\n",
      "Epoch 13/100\n",
      "579/579 [==============================] - 0s - loss: 1.1753 - categorical_accuracy: 0.5907 - val_loss: 1.2467 - val_categorical_accuracy: 0.5699\n",
      "Epoch 14/100\n",
      "579/579 [==============================] - 0s - loss: 1.1663 - categorical_accuracy: 0.5820 - val_loss: 1.3627 - val_categorical_accuracy: 0.6062\n",
      "Epoch 15/100\n",
      "579/579 [==============================] - 0s - loss: 1.1993 - categorical_accuracy: 0.6149 - val_loss: 1.2195 - val_categorical_accuracy: 0.6425\n",
      "Epoch 16/100\n",
      "579/579 [==============================] - 0s - loss: 1.0899 - categorical_accuracy: 0.6477 - val_loss: 1.1948 - val_categorical_accuracy: 0.6010\n",
      "Epoch 17/100\n",
      "579/579 [==============================] - 0s - loss: 1.0750 - categorical_accuracy: 0.6373 - val_loss: 1.2976 - val_categorical_accuracy: 0.5078\n",
      "Epoch 18/100\n",
      "579/579 [==============================] - 0s - loss: 1.1861 - categorical_accuracy: 0.5889 - val_loss: 1.2045 - val_categorical_accuracy: 0.6010\n",
      "Epoch 19/100\n",
      "579/579 [==============================] - 0s - loss: 1.0470 - categorical_accuracy: 0.6770 - val_loss: 1.1615 - val_categorical_accuracy: 0.5907\n",
      "Epoch 20/100\n",
      "579/579 [==============================] - 0s - loss: 1.0127 - categorical_accuracy: 0.6718 - val_loss: 1.1427 - val_categorical_accuracy: 0.5803\n",
      "Epoch 21/100\n",
      "579/579 [==============================] - 0s - loss: 1.0971 - categorical_accuracy: 0.6408 - val_loss: 1.2224 - val_categorical_accuracy: 0.5907\n",
      "Epoch 22/100\n",
      "579/579 [==============================] - 0s - loss: 1.0974 - categorical_accuracy: 0.6045 - val_loss: 1.1847 - val_categorical_accuracy: 0.5130\n",
      "Epoch 23/100\n",
      "579/579 [==============================] - 0s - loss: 1.0324 - categorical_accuracy: 0.6218 - val_loss: 1.1755 - val_categorical_accuracy: 0.6218\n",
      "Epoch 24/100\n",
      "579/579 [==============================] - 0s - loss: 0.9821 - categorical_accuracy: 0.6770 - val_loss: 1.1539 - val_categorical_accuracy: 0.6373\n",
      " 32/516 [>.............................] - ETA: 0s"
     ]
    },
    {
     "data": {
      "text/plain": [
       "[1.1090443198995072, 0.63178294573643412]"
      ]
     },
     "execution_count": 63,
     "metadata": {},
     "output_type": "execute_result"
    }
   ],
   "source": [
    "early_stopping = EarlyStopping(patience=3, monitor=\"val_loss\")\n",
    "\n",
    "model.fit(X_train,y_train,validation_split=0.25,epochs=100,callbacks=[early_stopping])\n",
    "\n",
    "model.evaluate(X_test,y_test)"
   ]
  },
  {
   "cell_type": "markdown",
   "metadata": {
    "collapsed": true
   },
   "source": [
    "Z wyciągnięciem modelu z najlepszej epoki:"
   ]
  },
  {
   "cell_type": "code",
   "execution_count": null,
   "metadata": {
    "collapsed": true
   },
   "outputs": [],
   "source": [
    "model = Sequential()\n",
    "model.add(Flatten(input_shape=(50,37,1)))\n",
    "model.add(Dense(n_classes, activation='softmax'))\n",
    "model.compile(loss='categorical_crossentropy', optimizer=\"adam\", metrics=['categorical_accuracy'])\n",
    "print(model.summary())\n",
    "\n",
    "early_stopping = EarlyStopping(patience=3,monitor=\"val_loss\")\n",
    "take_best_model = ModelCheckpoint(\"wagi.h5py\", save_best_only=True)\n",
    "\n",
    "model.fit(X_train, y_train, validation_split=0.25, epochs=100, callbacks=[early_stopping,take_best_model], batch_size=32,)\n",
    "\n",
    "model.load_weights(\"wagi.h5py\")\n",
    "scores = model.evaluate(X_test, y_test, verbose=0)\n",
    "os.remove(\"wagi.h5py\")\n",
    "\n",
    "print(\"Accuracy test: %.2f%%\" % (scores[1]*100))"
   ]
  },
  {
   "cell_type": "markdown",
   "metadata": {},
   "source": [
    "### Ćwiczenie 2.\n",
    "\n",
    "Sprawdź klasyfikację przy użyciu sieci jednowarstwowej, dla rozmiarów stanu ukrytego: 20,50,100,150,200,300."
   ]
  },
  {
   "cell_type": "code",
   "execution_count": null,
   "metadata": {
    "collapsed": true,
    "scrolled": true
   },
   "outputs": [],
   "source": [
    "Accuracies = []\n",
    "\n",
    "for h_dim in [20,50,100,150,200,300]:\n",
    "\n",
    "    model = Sequential()\n",
    "    model.add(Flatten(input_shape=(50,37,1)))\n",
    "    model.add(Dense(h_dim))\n",
    "    model.add(Dense(n_classes, activation='softmax'))\n",
    "    model.compile(loss='categorical_crossentropy', optimizer=\"adam\", metrics=['categorical_accuracy'])\n",
    "    print(model.summary())\n",
    "    \n",
    "    early_stopping = EarlyStopping(patience=3,monitor=\"val_loss\")\n",
    "    take_best_model = ModelCheckpoint(\"wagi.h5py\", save_best_only=True)\n",
    "    \n",
    "    model.fit(X_train, y_train, verbose=0,validation_split=0.25, epochs=100, callbacks=[early_stopping,take_best_model], batch_size=32,)\n",
    "\n",
    "    model.load_weights(\"wagi.h5py\")\n",
    "    os.remove(\"wagi.h5py\")\n",
    "    scores = model.evaluate(X_test, y_test, verbose=0)\n",
    "    Accuracies.append(scores[1]*100)\n",
    "    \n",
    "print(Accuracies)"
   ]
  },
  {
   "cell_type": "markdown",
   "metadata": {},
   "source": [
    "### Ćwiczenie 3\n",
    "\n",
    "Weź najlepszą sieć z poprzedniego kroku i dodaj kolejną warstwę dense - rozpatrz takie same wielkosci stanu ukrytego jak poprzednio."
   ]
  },
  {
   "cell_type": "code",
   "execution_count": null,
   "metadata": {
    "collapsed": true,
    "scrolled": true
   },
   "outputs": [],
   "source": [
    "Accuracies = []\n",
    "\n",
    "for h_dim in [20,50,100,150,200,300]:\n",
    "\n",
    "    model = Sequential()\n",
    "    model.add(Flatten(input_shape=(50,37,1)))\n",
    "    model.add(Dense(150, activation='relu', kernel_constraint=maxnorm(3)))\n",
    "    model.add(Dense(h_dim, activation='relu', kernel_constraint=maxnorm(3)))\n",
    "    model.add(Dense(n_classes, activation='softmax'))\n",
    "    model.compile(loss='categorical_crossentropy', optimizer=\"adam\", metrics=['categorical_accuracy'])\n",
    "    print(model.summary())\n",
    "    \n",
    "    early_stopping = EarlyStopping(patience=3,monitor=\"val_loss\")\n",
    "    take_best_model = ModelCheckpoint(\"wagi.h5py\", save_best_only=True)\n",
    "    \n",
    "    model.fit(X_train, y_train, verbose=0,validation_split=0.25, epochs=100, callbacks=[early_stopping,take_best_model], batch_size=32,)\n",
    "\n",
    "    model.load_weights(\"wagi.h5py\")\n",
    "    os.remove(\"wagi.h5py\")\n",
    "    scores = model.evaluate(X_test, y_test, verbose=0)\n",
    "    Accuracies.append(scores[1]*100)\n",
    "    \n",
    "Print(Accuracies)"
   ]
  },
  {
   "cell_type": "markdown",
   "metadata": {},
   "source": [
    "### Ćwiczenie 4. Prosta sieć konwolucyjna.\n",
    "\n",
    "Liczba filtrów: 10, wielkość filtra: 5,5."
   ]
  },
  {
   "cell_type": "code",
   "execution_count": null,
   "metadata": {
    "collapsed": true
   },
   "outputs": [],
   "source": [
    "?Conv2D"
   ]
  },
  {
   "cell_type": "code",
   "execution_count": null,
   "metadata": {
    "collapsed": true,
    "scrolled": true
   },
   "outputs": [],
   "source": [
    "model = Sequential()\n",
    "model.add(Conv2D(10, (5, 5), input_shape=(50,37,1), padding='valid', activation='relu'))\n",
    "model.add(Flatten())\n",
    "model.add(Dense(n_classes, activation='softmax'))\n",
    "model.compile(loss='categorical_crossentropy', optimizer=\"adam\", metrics=['categorical_accuracy'])\n",
    "print(model.summary())\n",
    "\n",
    "early_stopping = EarlyStopping(patience=3,monitor=\"val_loss\")\n",
    "take_best_model = ModelCheckpoint(\"wagi.h5py\", save_best_only=True)\n",
    "\n",
    "model.fit(X_train, y_train, validation_split=0.25, epochs=100, callbacks=[early_stopping,take_best_model], batch_size=32,)\n",
    "\n",
    "model.load_weights(\"wagi.h5py\")\n",
    "os.remove(\"wagi.h5py\")\n",
    "scores = model.evaluate(X_test, y_test, verbose=0)\n",
    "print(\"Accuracy test: %.2f%%\" % (scores[1]*100))"
   ]
  },
  {
   "cell_type": "markdown",
   "metadata": {},
   "source": [
    "Omówić strukturę - wyjaśnić co robi padding równy \"valid\"."
   ]
  },
  {
   "cell_type": "markdown",
   "metadata": {},
   "source": [
    "### Ćwiczenie 5. Zmień padding na \"same\".\n",
    "\n",
    "Wyjaśnić co robi."
   ]
  },
  {
   "cell_type": "code",
   "execution_count": null,
   "metadata": {
    "collapsed": true,
    "scrolled": true
   },
   "outputs": [],
   "source": [
    "model = Sequential()\n",
    "model.add(Conv2D(10, (5, 5), input_shape=(50,37,1), padding='same', activation='relu'))\n",
    "model.add(Flatten())\n",
    "model.add(Dense(n_classes, activation='softmax'))\n",
    "model.compile(loss='categorical_crossentropy', optimizer=\"adam\", metrics=['categorical_accuracy'])\n",
    "print(model.summary())\n",
    "\n",
    "early_stopping = EarlyStopping(patience=3,monitor=\"val_loss\")\n",
    "take_best_model = ModelCheckpoint(\"wagi.h5py\", save_best_only=True)\n",
    "\n",
    "model.fit(X_train, y_train, validation_split=0.25, epochs=100, callbacks=[early_stopping,take_best_model], batch_size=32,)\n",
    "\n",
    "model.load_weights(\"wagi.h5py\")\n",
    "os.remove(\"wagi.h5py\")\n",
    "scores = model.evaluate(X_test, y_test, verbose=0)\n",
    "print(\"Accuracy test: %.2f%%\" % (scores[1]*100))"
   ]
  },
  {
   "cell_type": "markdown",
   "metadata": {},
   "source": [
    "Accuracy wzrosło o 3%! Widocznie wcześniej traciliśmy istotne informacje z brzegów obrazka."
   ]
  },
  {
   "cell_type": "markdown",
   "metadata": {},
   "source": [
    "### Ćwiczenie 6. Badanie parametrów:\n",
    "\n",
    "Liczby filtrów: 3, 5, 10, 15, 30\n",
    "\n",
    "Wielkości filtrów: (3,3),(5,5),(10,10)"
   ]
  },
  {
   "cell_type": "code",
   "execution_count": 64,
   "metadata": {},
   "outputs": [
    {
     "name": "stdout",
     "output_type": "stream",
     "text": [
      "10 3  Accuracy test: 78.10%\n",
      "10 5  Accuracy test: 78.68%\n",
      "10 10  Accuracy test: 78.29%\n",
      "15 3  Accuracy test: 77.13%\n",
      "15 5  Accuracy test: 82.56%\n",
      "15 10  Accuracy test: 80.23%\n",
      "30 3  Accuracy test: 77.13%\n",
      "30 5  Accuracy test: 83.91%\n",
      "30 10  Accuracy test: 81.78%\n"
     ]
    }
   ],
   "source": [
    "N_filters = [10,15,30]\n",
    "C = [3,5,10]\n",
    "\n",
    "from itertools import product\n",
    "\n",
    "for n_filters, c in product(N_filters, C):\n",
    "\n",
    "    \n",
    "    \n",
    "    \n",
    "    model = Sequential()\n",
    "    model.add(Conv2D(n_filters, (c, c), input_shape=(50,37,1), padding='same', activation='relu'))\n",
    "    model.add(Flatten())\n",
    "    model.add(Dense(n_classes, activation='softmax'))\n",
    "    model.compile(loss='categorical_crossentropy', optimizer=\"adam\", metrics=['categorical_accuracy'])\n",
    "    \n",
    "    # TUTAJ TRZEBA TO DOADAC BO INACZEJ JEST JAKIS BLAD TECHNICZNY:\n",
    "    early_stopping = EarlyStopping(patience=3,monitor=\"val_loss\")\n",
    "    take_best_model = ModelCheckpoint(\"wagi.h5py\", save_best_only=True)\n",
    "    \n",
    "    model.fit(X_train, y_train, verbose=0,validation_split=0.25, epochs=100, \n",
    "              callbacks=[early_stopping,take_best_model], batch_size=32)\n",
    "    \n",
    "    model.load_weights(\"wagi.h5py\")\n",
    "    \n",
    "    scores = model.evaluate(X_test, y_test, verbose=0)\n",
    "    os.remove(\"wagi.h5py\")\n",
    "    print(n_filters, c, \" Accuracy test: %.2f%%\" % (scores[1]*100))"
   ]
  },
  {
   "cell_type": "markdown",
   "metadata": {},
   "source": [
    "Czyli wyszło, że najlepszy jest rozmiar filtra 10x10 i 10 lub 15w."
   ]
  },
  {
   "cell_type": "markdown",
   "metadata": {},
   "source": [
    "Uwaga: to jest już sytuacja, która nie obrazuje prawdziwej jakości modelu - bo analizujemy jakość działania sieci z różnymi parametrami na zbiorze testowym. Żeby formalnie ocenić jakość działania najlepszej z tych ieci powinniśmy ją przetestować na nowym zbiorze."
   ]
  },
  {
   "cell_type": "markdown",
   "metadata": {},
   "source": [
    "### Ćwiczenie 7. MaxPooling, AveragePooling\n",
    "\n",
    "Przetestuj dodanie warstwy pooling po warstwie konwolucyjnej, dla konwolucji z najlepszymi parametrami."
   ]
  },
  {
   "cell_type": "code",
   "execution_count": 65,
   "metadata": {},
   "outputs": [
    {
     "name": "stdout",
     "output_type": "stream",
     "text": [
      "_________________________________________________________________\n",
      "Layer (type)                 Output Shape              Param #   \n",
      "=================================================================\n",
      "conv2d_10 (Conv2D)           (None, 50, 37, 15)        1515      \n",
      "_________________________________________________________________\n",
      "max_pooling2d_1 (MaxPooling2 (None, 25, 18, 15)        0         \n",
      "_________________________________________________________________\n",
      "flatten_13 (Flatten)         (None, 6750)              0         \n",
      "_________________________________________________________________\n",
      "dense_13 (Dense)             (None, 7)                 47257     \n",
      "=================================================================\n",
      "Total params: 48,772\n",
      "Trainable params: 48,772\n",
      "Non-trainable params: 0\n",
      "_________________________________________________________________\n",
      "None\n",
      "Accuracy test: 84.30%\n",
      "_________________________________________________________________\n",
      "Layer (type)                 Output Shape              Param #   \n",
      "=================================================================\n",
      "conv2d_11 (Conv2D)           (None, 50, 37, 15)        1515      \n",
      "_________________________________________________________________\n",
      "max_pooling2d_2 (MaxPooling2 (None, 12, 9, 15)         0         \n",
      "_________________________________________________________________\n",
      "flatten_14 (Flatten)         (None, 1620)              0         \n",
      "_________________________________________________________________\n",
      "dense_14 (Dense)             (None, 7)                 11347     \n",
      "=================================================================\n",
      "Total params: 12,862\n",
      "Trainable params: 12,862\n",
      "Non-trainable params: 0\n",
      "_________________________________________________________________\n",
      "None\n",
      "Accuracy test: 82.56%\n",
      "_________________________________________________________________\n",
      "Layer (type)                 Output Shape              Param #   \n",
      "=================================================================\n",
      "conv2d_12 (Conv2D)           (None, 50, 37, 15)        1515      \n",
      "_________________________________________________________________\n",
      "max_pooling2d_3 (MaxPooling2 (None, 8, 6, 15)          0         \n",
      "_________________________________________________________________\n",
      "flatten_15 (Flatten)         (None, 720)               0         \n",
      "_________________________________________________________________\n",
      "dense_15 (Dense)             (None, 7)                 5047      \n",
      "=================================================================\n",
      "Total params: 6,562\n",
      "Trainable params: 6,562\n",
      "Non-trainable params: 0\n",
      "_________________________________________________________________\n",
      "None\n",
      "Accuracy test: 41.09%\n",
      "_________________________________________________________________\n",
      "Layer (type)                 Output Shape              Param #   \n",
      "=================================================================\n",
      "conv2d_13 (Conv2D)           (None, 50, 37, 15)        1515      \n",
      "_________________________________________________________________\n",
      "average_pooling2d_1 (Average (None, 25, 18, 15)        0         \n",
      "_________________________________________________________________\n",
      "flatten_16 (Flatten)         (None, 6750)              0         \n",
      "_________________________________________________________________\n",
      "dense_16 (Dense)             (None, 7)                 47257     \n",
      "=================================================================\n",
      "Total params: 48,772\n",
      "Trainable params: 48,772\n",
      "Non-trainable params: 0\n",
      "_________________________________________________________________\n",
      "None\n",
      "Accuracy test: 78.88%\n",
      "_________________________________________________________________\n",
      "Layer (type)                 Output Shape              Param #   \n",
      "=================================================================\n",
      "conv2d_14 (Conv2D)           (None, 50, 37, 15)        1515      \n",
      "_________________________________________________________________\n",
      "average_pooling2d_2 (Average (None, 12, 9, 15)         0         \n",
      "_________________________________________________________________\n",
      "flatten_17 (Flatten)         (None, 1620)              0         \n",
      "_________________________________________________________________\n",
      "dense_17 (Dense)             (None, 7)                 11347     \n",
      "=================================================================\n",
      "Total params: 12,862\n",
      "Trainable params: 12,862\n",
      "Non-trainable params: 0\n",
      "_________________________________________________________________\n",
      "None\n",
      "Accuracy test: 63.57%\n"
     ]
    }
   ],
   "source": [
    "for pooling in [MaxPooling2D(pool_size=(2, 2)),\n",
    "               MaxPooling2D(pool_size=(4, 4)),\n",
    "               MaxPooling2D(pool_size=(6, 6)),\n",
    "               AveragePooling2D(pool_size=(2,2)),\n",
    "               AveragePooling2D(pool_size=(4,4))]:\n",
    "\n",
    "    model = Sequential()\n",
    "    model.add(Conv2D(15, (10, 10), input_shape=(50,37,1), padding='same', activation='relu'))\n",
    "    model.add(pooling)\n",
    "    model.add(Flatten())\n",
    "    model.add(Dense(n_classes, activation='softmax'))\n",
    "    model.compile(loss='categorical_crossentropy', optimizer=\"adam\", metrics=['categorical_accuracy'])\n",
    "    print(model.summary())\n",
    "  \n",
    "    early_stopping = EarlyStopping(patience=3,monitor=\"val_loss\")\n",
    "    take_best_model = ModelCheckpoint(\"wagi.h5py\", save_best_only=True)\n",
    "\n",
    "    model.fit(X_train, y_train, verbose=0,validation_split=0.25, epochs=100, callbacks=[early_stopping,take_best_model], batch_size=32,)\n",
    "\n",
    "    model.load_weights(\"wagi.h5py\")\n",
    "    os.remove(\"wagi.h5py\")\n",
    "    scores = model.evaluate(X_test, y_test, verbose=0)\n",
    "    print(\"Accuracy test: %.2f%%\" % (scores[1]*100))"
   ]
  },
  {
   "cell_type": "markdown",
   "metadata": {},
   "source": [
    "Spójrzmy na strukture powyższego - pooling (w takiej wersji) zmniejsza wymiar."
   ]
  },
  {
   "cell_type": "markdown",
   "metadata": {},
   "source": [
    "### Ćwiczenie 8. [Ten krok trwa kilkanaście minut!]\n",
    "\n",
    "Testujemy liczbę, filtrów, ich rozmiary i rozmiar okna pooling jednoczesnie."
   ]
  },
  {
   "cell_type": "code",
   "execution_count": null,
   "metadata": {
    "collapsed": true,
    "scrolled": true
   },
   "outputs": [],
   "source": [
    "N_filters = [15,30,40]\n",
    "C = [3,5,7,10]\n",
    "P = [2,4,6]\n",
    "\n",
    "\n",
    "for n_filters, c, p in product(N_filters, C, P):\n",
    "\n",
    "    model = Sequential()\n",
    "    \n",
    "    model.add(Conv2D(n_filters, (c, c), input_shape=(50,37,1), padding='same', activation='relu'))\n",
    "    model.add(MaxPooling2D(pool_size=(p,p)))\n",
    "    \n",
    "    model.add(Flatten())\n",
    "    model.add(Dense(n_classes, activation='softmax'))\n",
    "    model.compile(loss='categorical_crossentropy', optimizer=\"adam\", metrics=['categorical_accuracy'])\n",
    "    #print(model.summary())\n",
    "  \n",
    "    early_stopping = EarlyStopping(patience=3,monitor=\"val_loss\")\n",
    "    take_best_model = ModelCheckpoint(\"wagi.h5py\", save_best_only=True)\n",
    "\n",
    "    model.fit(X_train, y_train, verbose=0,validation_split=0.25, epochs=100, callbacks=[early_stopping,take_best_model], batch_size=32,)\n",
    "\n",
    "    model.load_weights(\"wagi.h5py\")\n",
    "    os.remove(\"wagi.h5py\")\n",
    "    scores = model.evaluate(X_test, y_test, verbose=0)\n",
    "    print(n_filters, c, p, \"Accuracy test: %.2f%%\" % (scores[1]*100))"
   ]
  },
  {
   "cell_type": "markdown",
   "metadata": {},
   "source": [
    "### Ćwiczenie 9.\n",
    "\n",
    "Weź najlepszą sieć z poprzedniego kroku. Przetestuj dodanie warstwy dense, między poolingiem, a outputem.\n",
    "\n",
    "Rozważ wymiary stanu ukrytego: 10, 30, 50."
   ]
  },
  {
   "cell_type": "code",
   "execution_count": null,
   "metadata": {
    "collapsed": true,
    "scrolled": true
   },
   "outputs": [],
   "source": [
    "for h_dim in [10, 30, 50]:\n",
    "\n",
    "    model = Sequential()\n",
    "    model.add(Conv2D(15, (10, 10), input_shape=(50,37,1), padding='same', activation='relu'))\n",
    "    model.add(Dropout(0.2))\n",
    "    \n",
    "    model.add(MaxPooling2D(pool_size=(2, 2)))\n",
    "    \n",
    "    \n",
    "    model.add(Flatten())\n",
    "    model.add(Dense(h_dim))\n",
    "    model.add(Dropout(0.2))\n",
    "    \n",
    "    model.add(Dense(n_classes, activation='softmax'))\n",
    "    model.compile(loss='categorical_crossentropy', optimizer=\"adam\", metrics=['categorical_accuracy'])\n",
    "    print(model.summary())\n",
    "\n",
    "    early_stopping = EarlyStopping(patience=3,monitor=\"val_loss\")\n",
    "    take_best_model = ModelCheckpoint(\"wagi.h5py\", save_best_only=True)\n",
    "\n",
    "    model.fit(X_train, y_train, verbose=0,validation_split=0.25, epochs=100, callbacks=[early_stopping,take_best_model], batch_size=32,)\n",
    "\n",
    "    model.load_weights(\"wagi.h5py\")\n",
    "    os.remove(\"wagi.h5py\")\n",
    "    scores = model.evaluate(X_test, y_test, verbose=0)\n",
    "    print(\"Accuracy test: %.2f%%\" % (scores[1]*100))"
   ]
  },
  {
   "cell_type": "markdown",
   "metadata": {},
   "source": [
    "Czyli jest gorzej."
   ]
  },
  {
   "cell_type": "markdown",
   "metadata": {},
   "source": [
    "### Ćwiczenie 10. Dwie warstwy konwolucyjne.\n",
    "\n",
    "Zamiast warstwy dense dodanej w poprzednim kroku, wstaw warstwę konwolucyjną. Rozważ 5, 10, i 15 filtrów wymiarów 3x3, 5x5, 10x10."
   ]
  },
  {
   "cell_type": "code",
   "execution_count": null,
   "metadata": {
    "collapsed": true,
    "scrolled": false
   },
   "outputs": [],
   "source": [
    "for n_filters, c in product([10,20,30], [3,5,10]):\n",
    "\n",
    "    model = Sequential()\n",
    "    model.add(Conv2D(15, (10, 10), input_shape=(50,37,1), padding='same', activation='relu'))\n",
    "    model.add(MaxPooling2D(pool_size=(2, 2)))\n",
    "    \n",
    "    model.add(Conv2D(n_filters, (c, c), padding='same', activation='relu'))\n",
    "    \n",
    "    model.add(Flatten())\n",
    "    model.add(Dense(n_classes, activation='softmax'))\n",
    "    model.compile(loss='categorical_crossentropy', optimizer=\"adam\", metrics=['categorical_accuracy'])\n",
    "    print(model.summary())\n",
    "\n",
    "    early_stopping = EarlyStopping(patience=3,monitor=\"val_loss\")\n",
    "    take_best_model = ModelCheckpoint(\"wagi.h5py\", save_best_only=True)\n",
    "\n",
    "    model.fit(X_train, y_train, verbose=0,validation_split=0.25, epochs=100, callbacks=[early_stopping,take_best_model], batch_size=32,)\n",
    "\n",
    "    model.load_weights(\"wagi.h5py\")\n",
    "    os.remove(\"wagi.h5py\")\n",
    "    scores = model.evaluate(X_test, y_test, verbose=0)\n",
    "    print(n_filters, c, \"Accuracy test: %.2f%%\" % (scores[1]*100))"
   ]
  },
  {
   "cell_type": "markdown",
   "metadata": {},
   "source": [
    "Czyli widzimy, że się pogorszyło. Ale nie zrobilismy max poolingu po tej warstwie, który z reguły pomaga!"
   ]
  },
  {
   "cell_type": "markdown",
   "metadata": {},
   "source": [
    "### Ćwiczenie 11. \n",
    "\n",
    "Przetestuj dodanie do porzedniej sieci max pooling'u po drugiej warstwie konwolucyjnej, z poolsize równym (2,2) i strides równymi (1,1), (2,2). Czy strides równe (3,3), gdy poolsize = (2,2) ma sens?."
   ]
  },
  {
   "cell_type": "code",
   "execution_count": null,
   "metadata": {
    "collapsed": true,
    "scrolled": true
   },
   "outputs": [],
   "source": [
    "for s in [1,2]:\n",
    "\n",
    "    model = Sequential()\n",
    "    model.add(Conv2D(15, (10, 10), input_shape=(50,37,1), padding='same', activation='relu'))\n",
    "    model.add(MaxPooling2D(pool_size=(4, 4)))\n",
    "    model.add(Conv2D(20, (3, 3), padding='same', activation='relu'))\n",
    "    model.add(MaxPooling2D(pool_size=(2, 2),strides=(s,s)))\n",
    "    \n",
    "    model.add(Flatten())\n",
    "    model.add(Dense(n_classes, activation='softmax'))\n",
    "    model.compile(loss='categorical_crossentropy', optimizer=\"adam\", metrics=['categorical_accuracy'])\n",
    "    print(model.summary())\n",
    "\n",
    "    early_stopping = EarlyStopping(patience=3,monitor=\"val_loss\")\n",
    "    take_best_model = ModelCheckpoint(\"wagi.h5py\", save_best_only=True)\n",
    "\n",
    "    model.fit(X_train, y_train, verbose=0,validation_split=0.25, epochs=100, callbacks=[early_stopping,take_best_model], batch_size=32)\n",
    "\n",
    "    model.load_weights(\"wagi.h5py\")\n",
    "    os.remove(\"wagi.h5py\")\n",
    "    scores = model.evaluate(X_test, y_test, verbose=0)\n",
    "    print(\"Accuracy test: %.2f%%\" % (scores[1]*100))"
   ]
  },
  {
   "cell_type": "markdown",
   "metadata": {},
   "source": [
    "Czyli na tym możemy zakończyć konstrukcję najlpeszej sieci. W punkie 7 dostaliśmy najlepszą sieć (85%) i kolejne warstwy (dense, conv) nie dodały jakości."
   ]
  },
  {
   "cell_type": "markdown",
   "metadata": {},
   "source": [
    "### Ćwiczenie 13.\n",
    "\n",
    "Przetestuj ograniczenie normy filtra maxnorm(k) dla k równego"
   ]
  },
  {
   "cell_type": "code",
   "execution_count": null,
   "metadata": {
    "collapsed": true,
    "scrolled": true
   },
   "outputs": [],
   "source": [
    "for k in [1,2,3,5,7,10,15,20,30]:\n",
    "\n",
    "    model = Sequential()\n",
    "    model.add(Conv2D(15, (10, 10), input_shape=(50,37,1), padding='same', activation='relu', kernel_constraint=maxnorm(k)))\n",
    "    model.add(MaxPooling2D(pool_size=(4, 4)))\n",
    "    model.add(Flatten())\n",
    "    model.add(Dense(n_classes, activation='softmax'))\n",
    "    model.compile(loss='categorical_crossentropy', optimizer=\"adam\", metrics=['categorical_accuracy'])\n",
    "    #print(model.summary())\n",
    "\n",
    "    early_stopping = EarlyStopping(patience=3,monitor=\"val_loss\")\n",
    "    take_best_model = ModelCheckpoint(\"wagi.h5py\", save_best_only=True)\n",
    "\n",
    "    model.fit(X_train, y_train, verbose=0,validation_split=0.25, epochs=100, callbacks=[early_stopping,take_best_model], batch_size=batch_size)\n",
    "\n",
    "    model.load_weights(\"wagi.h5py\")\n",
    "    os.remove(\"wagi.h5py\")\n",
    "    scores = model.evaluate(X_test, y_test, verbose=0)\n",
    "    print(\"Accuracy test: %.2f%%\" % (scores[1]*100))"
   ]
  },
  {
   "cell_type": "markdown",
   "metadata": {},
   "source": [
    "I na tym możemy zakończyć budowe sieci."
   ]
  },
  {
   "cell_type": "markdown",
   "metadata": {},
   "source": [
    "### Ćwiczenie 12.\n",
    "\n",
    "Dla najlepszej sieci przetestuj wielkości batcha: 1,5,10,15,20,30."
   ]
  },
  {
   "cell_type": "code",
   "execution_count": null,
   "metadata": {
    "collapsed": true
   },
   "outputs": [],
   "source": [
    "for batch_size in [1,5,10,15,20,30]:\n",
    "\n",
    "    model = Sequential()\n",
    "    model.add(Conv2D(15, (10, 10), input_shape=(50,37,1), padding='same', activation='relu'))\n",
    "    model.add(MaxPooling2D(pool_size=(2, 2)))\n",
    "    model.add(Flatten())\n",
    "    model.add(Dense(n_classes, activation='softmax'))\n",
    "    model.compile(loss='categorical_crossentropy', optimizer=\"adam\", metrics=['categorical_accuracy'])\n",
    "    #print(model.summary())\n",
    "\n",
    "    early_stopping = EarlyStopping(patience=3,monitor=\"val_loss\")\n",
    "    take_best_model = ModelCheckpoint(\"wagi.h5py\", save_best_only=True)\n",
    "\n",
    "    model.fit(X_train, y_train, verbose=0,validation_split=0.25, epochs=100, callbacks=[early_stopping,take_best_model], batch_size=batch_size)\n",
    "\n",
    "    model.load_weights(\"wagi.h5py\")\n",
    "    os.remove(\"wagi.h5py\")\n",
    "    scores = model.evaluate(X_test, y_test, verbose=0)\n",
    "    print(\"Accuracy test: %.2f%%\" % (scores[1]*100))"
   ]
  },
  {
   "cell_type": "markdown",
   "metadata": {
    "collapsed": true
   },
   "source": [
    "# Obrazki 3d (kolorowe - RGB)"
   ]
  },
  {
   "cell_type": "code",
   "execution_count": 66,
   "metadata": {
    "scrolled": true
   },
   "outputs": [
    {
     "name": "stdout",
     "output_type": "stream",
     "text": [
      "(7000, 32, 32, 3)\n",
      "(4000, 32, 32, 3)\n",
      "(array([0, 1, 2, 3], dtype=uint8), array([1738, 1733, 1779, 1750]))\n",
      "[[[170 180 198]\n",
      "  [168 178 196]\n",
      "  [177 185 203]\n",
      "  ..., \n",
      "  [162 179 215]\n",
      "  [158 178 214]\n",
      "  [157 177 212]]\n",
      "\n",
      " [[168 181 198]\n",
      "  [172 185 201]\n",
      "  [171 183 200]\n",
      "  ..., \n",
      "  [159 177 212]\n",
      "  [156 176 211]\n",
      "  [154 174 209]]\n",
      "\n",
      " [[154 170 186]\n",
      "  [149 165 181]\n",
      "  [129 144 162]\n",
      "  ..., \n",
      "  [161 178 214]\n",
      "  [157 177 212]\n",
      "  [154 174 209]]\n",
      "\n",
      " ..., \n",
      " [[ 74  84  80]\n",
      "  [ 76  85  81]\n",
      "  [ 78  85  82]\n",
      "  ..., \n",
      "  [ 71  75  78]\n",
      "  [ 68  72  75]\n",
      "  [ 61  65  68]]\n",
      "\n",
      " [[ 68  76  77]\n",
      "  [ 69  77  78]\n",
      "  [ 72  79  78]\n",
      "  ..., \n",
      "  [ 76  80  83]\n",
      "  [ 71  75  78]\n",
      "  [ 71  75  78]]\n",
      "\n",
      " [[ 67  75  78]\n",
      "  [ 68  76  79]\n",
      "  [ 69  75  76]\n",
      "  ..., \n",
      "  [ 75  79  82]\n",
      "  [ 71  75  78]\n",
      "  [ 73  77  80]]]\n"
     ]
    },
    {
     "ename": "NameError",
     "evalue": "name 'pyplot' is not defined",
     "output_type": "error",
     "traceback": [
      "\u001b[0;31m---------------------------------------------------------------------------\u001b[0m",
      "\u001b[0;31mNameError\u001b[0m                                 Traceback (most recent call last)",
      "\u001b[0;32m<ipython-input-66-9e381a68779d>\u001b[0m in \u001b[0;36m<module>\u001b[0;34m()\u001b[0m\n\u001b[1;32m     20\u001b[0m \u001b[0;31m# create a grid of 3x3 images\u001b[0m\u001b[0;34m\u001b[0m\u001b[0;34m\u001b[0m\u001b[0m\n\u001b[1;32m     21\u001b[0m \u001b[0;32mfor\u001b[0m \u001b[0mi\u001b[0m \u001b[0;32min\u001b[0m \u001b[0mrange\u001b[0m\u001b[0;34m(\u001b[0m\u001b[0;36m0\u001b[0m\u001b[0;34m,\u001b[0m \u001b[0;36m9\u001b[0m\u001b[0;34m)\u001b[0m\u001b[0;34m:\u001b[0m\u001b[0;34m\u001b[0m\u001b[0m\n\u001b[0;32m---> 22\u001b[0;31m         \u001b[0mpyplot\u001b[0m\u001b[0;34m.\u001b[0m\u001b[0msubplot\u001b[0m\u001b[0;34m(\u001b[0m\u001b[0;36m330\u001b[0m \u001b[0;34m+\u001b[0m \u001b[0;36m1\u001b[0m \u001b[0;34m+\u001b[0m \u001b[0mi\u001b[0m\u001b[0;34m)\u001b[0m\u001b[0;34m\u001b[0m\u001b[0m\n\u001b[0m\u001b[1;32m     23\u001b[0m         \u001b[0mpyplot\u001b[0m\u001b[0;34m.\u001b[0m\u001b[0mimshow\u001b[0m\u001b[0;34m(\u001b[0m\u001b[0mtoimage\u001b[0m\u001b[0;34m(\u001b[0m\u001b[0mX_train\u001b[0m\u001b[0;34m[\u001b[0m\u001b[0mi\u001b[0m\u001b[0;34m]\u001b[0m\u001b[0;34m)\u001b[0m\u001b[0;34m)\u001b[0m\u001b[0;34m\u001b[0m\u001b[0m\n\u001b[1;32m     24\u001b[0m \u001b[0;31m# show the plot\u001b[0m\u001b[0;34m\u001b[0m\u001b[0;34m\u001b[0m\u001b[0m\n",
      "\u001b[0;31mNameError\u001b[0m: name 'pyplot' is not defined"
     ]
    }
   ],
   "source": [
    "from keras.datasets import cifar10\n",
    "from scipy.misc import toimage\n",
    "\n",
    "import numpy as np\n",
    "\n",
    "# load data\n",
    "(X_train, y_train), (X_test, y_test) = cifar10.load_data()\n",
    "\n",
    "nb_classes = 4\n",
    "n_samples = 7000\n",
    "\n",
    "X_train, y_train = X_train[np.where(y_train<nb_classes)[0]][:n_samples], y_train[np.where(y_train<nb_classes)[0]][:n_samples]\n",
    "X_test, y_test = X_test[np.where(y_test<nb_classes)[0]], y_test[np.where(y_test<nb_classes)[0]]\n",
    "\n",
    "print(X_train.shape)\n",
    "print(X_test.shape)\n",
    "print(np.unique(y_train,return_counts=True))\n",
    "print(X_train[0])\n",
    "\n",
    "# create a grid of 3x3 images\n",
    "for i in range(0, 9):\n",
    "\tpyplot.subplot(330 + 1 + i)\n",
    "\tpyplot.imshow(toimage(X_train[i]))\n",
    "# show the plot\n",
    "pyplot.show()"
   ]
  },
  {
   "cell_type": "code",
   "execution_count": 67,
   "metadata": {},
   "outputs": [
    {
     "data": {
      "text/plain": [
       "(32, 32, 3)"
      ]
     },
     "execution_count": 67,
     "metadata": {},
     "output_type": "execute_result"
    }
   ],
   "source": [
    "# normalize inputs from 0-255 to 0.0-1.0\n",
    "X_train = X_train.astype('float32')\n",
    "X_test = X_test.astype('float32')\n",
    "X_train = X_train / 255.0\n",
    "X_test = X_test / 255.0\n",
    "\n",
    "# one hot encode outputs\n",
    "y_train = np_utils.to_categorical(y_train)\n",
    "y_test = np_utils.to_categorical(y_test)\n",
    "num_classes = y_test.shape[1]\n",
    "\n",
    "y_train[0:5]\n",
    "\n",
    "X_train[0].shape"
   ]
  },
  {
   "cell_type": "markdown",
   "metadata": {},
   "source": [
    "### Zadanie 1. Zbuduj jednowarstwową siec konwolucyjną z maxpoolingiem.\n",
    "\n",
    "Liczba filtrów: 32; rozmiar filtra: 5x5."
   ]
  },
  {
   "cell_type": "code",
   "execution_count": null,
   "metadata": {
    "collapsed": true
   },
   "outputs": [],
   "source": [
    "model = Sequential()\n",
    "model.add(Conv2D(32, (5, 5), input_shape=(32, 32,3), padding='same', activation='relu', kernel_constraint=maxnorm(3)))\n",
    "model.add(MaxPooling2D(pool_size=(2, 2)))\n",
    "model.add(Flatten())\n",
    "model.add(Dense(num_classes, activation='softmax'))\n",
    "model.compile(loss='categorical_crossentropy', optimizer=\"adam\", metrics=['categorical_accuracy'])\n",
    "print(model.summary())"
   ]
  },
  {
   "cell_type": "code",
   "execution_count": null,
   "metadata": {
    "collapsed": true,
    "scrolled": true
   },
   "outputs": [],
   "source": [
    "early_stopping = EarlyStopping(patience=3,monitor=\"val_loss\")\n",
    "take_best_model = ModelCheckpoint(\"wagi.h5py\", save_best_only=True)\n",
    "\n",
    "model.fit(X_train, y_train, validation_split=0.14, epochs=100, callbacks=[early_stopping,take_best_model], batch_size=32)\n",
    "\n",
    "model.load_weights(\"wagi.h5py\")\n",
    "os.remove(\"wagi.h5py\")\n",
    "scores = model.evaluate(X_test, y_test, verbose=0)\n",
    "print(\"Accuracy test: %.2f%%\" % (scores[1]*100))"
   ]
  },
  {
   "cell_type": "markdown",
   "metadata": {},
   "source": [
    "### Zadanie 2. Dodaj warstwę dense między poolingiem a wyjściem.\n",
    "\n",
    "Rozpatrz rozmiary tej warstwy: 100, 250, 500"
   ]
  },
  {
   "cell_type": "code",
   "execution_count": null,
   "metadata": {
    "collapsed": true
   },
   "outputs": [],
   "source": [
    "model = Sequential()\n",
    "model.add(Conv2D(32, (5, 5), input_shape=(32, 32,3), padding='same', activation='relu', kernel_constraint=maxnorm(3)))\n",
    "model.add(MaxPooling2D(pool_size=(2, 2)))\n",
    "model.add(Flatten())\n",
    "model.add(Dense(512, activation='relu', kernel_constraint=maxnorm(3)))\n",
    "model.add(Dense(num_classes, activation='softmax'))\n",
    "model.compile(loss='categorical_crossentropy', optimizer=\"adam\", metrics=['categorical_accuracy'])\n",
    "print(model.summary())"
   ]
  },
  {
   "cell_type": "code",
   "execution_count": null,
   "metadata": {
    "collapsed": true,
    "scrolled": true
   },
   "outputs": [],
   "source": [
    "early_stopping = EarlyStopping(patience=3,monitor=\"val_loss\")\n",
    "take_best_model = ModelCheckpoint(\"wagi.h5py\", save_best_only=True)\n",
    "\n",
    "model.fit(X_train, y_train, validation_split=0.14, epochs=100, callbacks=[early_stopping,take_best_model], batch_size=32)\n",
    "\n",
    "model.load_weights(\"wagi.h5py\")\n",
    "os.remove(\"wagi.h5py\")\n",
    "scores = model.evaluate(X_test, y_test, verbose=0)\n",
    "print(\"Accuracy test: %.2f%%\" % (scores[1]*100))"
   ]
  },
  {
   "cell_type": "markdown",
   "metadata": {},
   "source": [
    "### Zadanie 3. Zdadaj dwuwarstwową się conwolucyjną\n",
    "\n",
    "Max pooling tylko po pierwszej konwolucji"
   ]
  },
  {
   "cell_type": "markdown",
   "metadata": {},
   "source": [
    "### Zadanie 4. Zdadaj dwuwarstwową się conwolucyjną\n",
    "\n",
    "Max pooling po obu warstwach konwolucyjnych."
   ]
  },
  {
   "cell_type": "code",
   "execution_count": null,
   "metadata": {
    "collapsed": true
   },
   "outputs": [],
   "source": [
    "model = Sequential()\n",
    "model.add(Conv2D(32, (3, 3), input_shape=(3, 32, 32), padding='same', activation='relu', kernel_constraint=maxnorm(3)))\n",
    "model.add(Dropout(0.2))\n",
    "model.add(Conv2D(32, (3, 3), activation='relu', padding='same', kernel_constraint=maxnorm(3)))\n",
    "model.add(MaxPooling2D(pool_size=(2, 2)))\n",
    "model.add(Flatten())\n",
    "model.add(Dense(512, activation='relu', kernel_constraint=maxnorm(3)))\n",
    "model.add(Dropout(0.5))\n",
    "model.add(Dense(num_classes, activation='softmax'))\n",
    "# Compile model\n",
    "epochs = 25\n",
    "#lrate = 0.01\n",
    "#decay = lrate/epochs\n",
    "#sgd = SGD(lr=lrate, momentum=0.9, decay=decay, nesterov=False)\n",
    "model.compile(loss='categorical_crossentropy', optimizer=\"adam\", metrics=['accuracy'])\n",
    "print(model.summary())\n",
    "\n",
    "early_stopping = EarlyStopping(patience=3,monitor=\"val_loss\")\n",
    "take_best_model = ModelCheckpoint(\"wagi.h5py\", save_best_only=True)\n",
    "\n",
    "model.fit(X_train, y_train, validation_split=0.14, epochs=100, callbacks=[early_stopping,take_best_model], batch_size=32)\n",
    "\n",
    "model.load_weights(\"wagi.h5py\")\n",
    "os.remove(\"wagi.h5py\")\n",
    "scores = model.evaluate(X_test, y_test, verbose=0)\n",
    "print(\"Accuracy test: %.2f%%\" % (scores[1]*100))"
   ]
  },
  {
   "cell_type": "markdown",
   "metadata": {},
   "source": [
    "### Zadanie 5. Do poprzedniej sieci wstaw regularyzację dropout na obu warstwach konwolucyjnych.\n",
    "\n",
    "Rozważ poziomy 0.2 i 0.5."
   ]
  },
  {
   "cell_type": "markdown",
   "metadata": {},
   "source": [
    "### Zadanie 6. Zbudować i przetestować sieć przestawioną na rysunku:\n",
    "\n",
    "<img src=\"https://adeshpande3.github.io/assets/LeNet.png\" width=\"700\">\n",
    "Źródło: https://adeshpande3.github.io/assets/LeNet.png\"\n"
   ]
  },
  {
   "cell_type": "code",
   "execution_count": 68,
   "metadata": {},
   "outputs": [
    {
     "name": "stdout",
     "output_type": "stream",
     "text": [
      "_________________________________________________________________\n",
      "Layer (type)                 Output Shape              Param #   \n",
      "=================================================================\n",
      "conv2d_15 (Conv2D)           (None, 28, 28, 32)        2432      \n",
      "_________________________________________________________________\n",
      "max_pooling2d_4 (MaxPooling2 (None, 14, 14, 32)        0         \n",
      "_________________________________________________________________\n",
      "conv2d_16 (Conv2D)           (None, 10, 10, 16)        12816     \n",
      "_________________________________________________________________\n",
      "max_pooling2d_5 (MaxPooling2 (None, 5, 5, 16)          0         \n",
      "_________________________________________________________________\n",
      "flatten_18 (Flatten)         (None, 400)               0         \n",
      "_________________________________________________________________\n",
      "dense_18 (Dense)             (None, 120)               48120     \n",
      "_________________________________________________________________\n",
      "dense_19 (Dense)             (None, 84)                10164     \n",
      "_________________________________________________________________\n",
      "dense_20 (Dense)             (None, 4)                 340       \n",
      "=================================================================\n",
      "Total params: 73,872\n",
      "Trainable params: 73,872\n",
      "Non-trainable params: 0\n",
      "_________________________________________________________________\n",
      "None\n",
      "Train on 6020 samples, validate on 980 samples\n",
      "Epoch 1/100\n",
      "6020/6020 [==============================] - 4s - loss: 1.0925 - acc: 0.5106 - val_loss: 0.9309 - val_acc: 0.5939\n",
      "Epoch 2/100\n",
      "6020/6020 [==============================] - 4s - loss: 0.8404 - acc: 0.6452 - val_loss: 0.8808 - val_acc: 0.6276\n",
      "Epoch 3/100\n",
      "6020/6020 [==============================] - 4s - loss: 0.7743 - acc: 0.6797 - val_loss: 0.7488 - val_acc: 0.6857\n",
      "Epoch 4/100\n",
      "6020/6020 [==============================] - 4s - loss: 0.6971 - acc: 0.7186 - val_loss: 0.6879 - val_acc: 0.7153\n",
      "Epoch 5/100\n",
      "6020/6020 [==============================] - 4s - loss: 0.6612 - acc: 0.7352 - val_loss: 0.6729 - val_acc: 0.7194\n",
      "Epoch 6/100\n",
      "6020/6020 [==============================] - 4s - loss: 0.6196 - acc: 0.7535 - val_loss: 0.6628 - val_acc: 0.7418\n",
      "Epoch 7/100\n",
      "6020/6020 [==============================] - 4s - loss: 0.6040 - acc: 0.7550 - val_loss: 0.6813 - val_acc: 0.7337\n",
      "Epoch 8/100\n",
      "6020/6020 [==============================] - 4s - loss: 0.5634 - acc: 0.7751 - val_loss: 0.6762 - val_acc: 0.7173\n",
      "Epoch 9/100\n",
      "6020/6020 [==============================] - 4s - loss: 0.5570 - acc: 0.7739 - val_loss: 0.7856 - val_acc: 0.6888\n",
      "Epoch 10/100\n",
      "6020/6020 [==============================] - 4s - loss: 0.5275 - acc: 0.7914 - val_loss: 0.6370 - val_acc: 0.7520\n",
      "Epoch 11/100\n",
      "6020/6020 [==============================] - 4s - loss: 0.5112 - acc: 0.7980 - val_loss: 0.6331 - val_acc: 0.7429\n",
      "Epoch 12/100\n",
      "6020/6020 [==============================] - 4s - loss: 0.4725 - acc: 0.8103 - val_loss: 0.7140 - val_acc: 0.7347\n",
      "Epoch 13/100\n",
      "6020/6020 [==============================] - 4s - loss: 0.4704 - acc: 0.8116 - val_loss: 0.6738 - val_acc: 0.7367\n",
      "Epoch 14/100\n",
      "6020/6020 [==============================] - 4s - loss: 0.4216 - acc: 0.8331 - val_loss: 0.6557 - val_acc: 0.7378\n",
      "Epoch 15/100\n",
      "6020/6020 [==============================] - 4s - loss: 0.4087 - acc: 0.8379 - val_loss: 0.6699 - val_acc: 0.7439\n",
      "Accuracy test: 74.60%\n"
     ]
    }
   ],
   "source": [
    "model = Sequential()\n",
    "model.add(Conv2D(6, (5, 5), input_shape=(32, 32, 3), padding='valid', activation='relu', kernel_constraint=maxnorm(3)))\n",
    "model.add(MaxPooling2D(pool_size=(2, 2)))\n",
    "#model.add(Dropout(0.2))\n",
    "model.add(Conv2D(16, (5, 5), activation='relu', padding='valid', kernel_constraint=maxnorm(3)))\n",
    "model.add(MaxPooling2D(pool_size=(2, 2)))\n",
    "model.add(Flatten())\n",
    "model.add(Dense(120, activation='tanh', kernel_constraint=maxnorm(3)))\n",
    "model.add(Dense(84, activation='tanh', kernel_constraint=maxnorm(3)))\n",
    "#model.add(Dropout(0.5))\n",
    "model.add(Dense(num_classes, activation='softmax'))\n",
    "# Compile model\n",
    "epochs = 25\n",
    "#lrate = 0.01\n",
    "#decay = lrate/epochs\n",
    "#sgd = SGD(lr=lrate, momentum=0.9, decay=decay, nesterov=False)\n",
    "model.compile(loss='categorical_crossentropy', optimizer=\"adam\", metrics=['accuracy'])\n",
    "print(model.summary())\n",
    "\n",
    "early_stopping = EarlyStopping(patience=3,monitor=\"val_loss\")\n",
    "take_best_model = ModelCheckpoint(\"wagi.h5py\", save_best_only=True)\n",
    "\n",
    "model.fit(X_train, y_train, validation_split=0.14, epochs=100, callbacks=[early_stopping,take_best_model], batch_size=32)\n",
    "\n",
    "model.load_weights(\"wagi.h5py\")\n",
    "os.remove(\"wagi.h5py\")\n",
    "scores = model.evaluate(X_test, y_test, verbose=0)\n",
    "print(\"Accuracy test: %.2f%%\" % (scores[1]*100))"
   ]
  },
  {
   "cell_type": "code",
   "execution_count": null,
   "metadata": {
    "collapsed": true
   },
   "outputs": [],
   "source": []
  }
 ],
 "metadata": {
  "kernelspec": {
   "display_name": "Python 3",
   "language": "python",
   "name": "python3"
  },
  "language_info": {
   "codemirror_mode": {
    "name": "ipython",
    "version": 3
   },
   "file_extension": ".py",
   "mimetype": "text/x-python",
   "name": "python",
   "nbconvert_exporter": "python",
   "pygments_lexer": "ipython3",
   "version": "3.5.2"
  }
 },
 "nbformat": 4,
 "nbformat_minor": 2
}
