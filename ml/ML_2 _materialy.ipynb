{
 "cells": [
  {
   "cell_type": "markdown",
   "metadata": {},
   "source": [
    "# REDUKCJA WYMIARU"
   ]
  },
  {
   "cell_type": "markdown",
   "metadata": {},
   "source": [
    "# SVD"
   ]
  },
  {
   "cell_type": "code",
   "execution_count": null,
   "metadata": {
    "collapsed": true
   },
   "outputs": [],
   "source": [
    "import numpy as np\n",
    "import matplotlib.pyplot as plt\n",
    "\n",
    "%matplotlib inline"
   ]
  },
  {
   "cell_type": "markdown",
   "metadata": {},
   "source": [
    "Interpretacja geometryczna mnożenia macierzy"
   ]
  },
  {
   "cell_type": "code",
   "execution_count": null,
   "metadata": {
    "collapsed": true,
    "scrolled": true
   },
   "outputs": [],
   "source": [
    "x = np.array([[0,0],[0,1],[0,2],[0,3],[0,4],[0,5],[0.5,5],[1,5]])\n",
    "print(x)\n",
    "plt.scatter(x[:,0],x[:,1])\n",
    "plt.xlim(-1,21)\n",
    "plt.ylim(-1,21)\n",
    "plt.grid()\n",
    "plt.show()"
   ]
  },
  {
   "cell_type": "code",
   "execution_count": null,
   "metadata": {
    "collapsed": true
   },
   "outputs": [],
   "source": [
    "def plot_transform_xa(x,a):\n",
    "    \"\"\"\n",
    "    wizualizacja mnozenia macierzy a * x\n",
    "    \"\"\"\n",
    "    \n",
    "    print(a)\n",
    "    y = np.dot(x,a)\n",
    "    \n",
    "    plt.figure(figsize=(15,3.4))\n",
    "    \n",
    "    plt.subplot(1,4,1)\n",
    "    \n",
    "    plt.scatter(x[:,0],x[:,1])\n",
    "    plt.xlim(-21,21)\n",
    "    plt.ylim(-21,21)\n",
    "\n",
    "    plt.subplot(1,4,2)\n",
    "    plt.scatter(y[:,0],y[:,1])\n",
    "    plt.xlim(-21,21)\n",
    "    plt.ylim(-21,21)\n",
    "\n",
    "    plt.subplot(1,4,3)\n",
    "    plt.xlim(-6,6)\n",
    "    plt.ylim(-6,6)\n",
    "    plt.arrow(0, 0, 0, 1, head_width=0.2, head_length=0.2, fc='red', ec='red')\n",
    "    plt.arrow(0, 0, 1, 0, head_width=0.2, head_length=0.2, fc='red', ec='red')\n",
    " \n",
    "    plt.subplot(1,4,4)\n",
    "    plt.xlim(-6,6)\n",
    "    plt.ylim(-6,6)\n",
    "\n",
    "    #plt.arrow(0, 0, a[0,0],a[1,0], head_width=0.2, head_length=0.2, fc='red', ec='red')\n",
    "    #plt.arrow(0, 0, a[0,1],a[1,1], head_width=0.2, head_length=0.2, fc='red', ec='red')\n",
    "\n",
    "    plt.arrow(0, 0, a[0,0],a[0,1], head_width=0.2, head_length=0.2, fc='red', ec='red')\n",
    "    plt.arrow(0, 0, a[1,0],a[1,1], head_width=0.2, head_length=0.2, fc='red', ec='red')\n",
    "    \n",
    "    plt.show()"
   ]
  },
  {
   "cell_type": "code",
   "execution_count": null,
   "metadata": {
    "collapsed": true
   },
   "outputs": [],
   "source": [
    "a = np.diag([4,4])\n",
    "plot_transform_xa(x,a)"
   ]
  },
  {
   "cell_type": "markdown",
   "metadata": {},
   "source": [
    "Co tu widzimy?\n",
    "- wiersze x - obserwacja - punkty w naszej przestrzeni!\n",
    "- wiersz ax - obserwacje przetworzone\n",
    "- pierwsze strzalki - reprezentuja układ współrzędnych\n",
    "- drugie strzałki - nowy układ współrzędnych"
   ]
  },
  {
   "cell_type": "code",
   "execution_count": null,
   "metadata": {
    "collapsed": true
   },
   "outputs": [],
   "source": [
    "a = np.diag([4,2])\n",
    "plot_transform_xa(x,a)"
   ]
  },
  {
   "cell_type": "code",
   "execution_count": null,
   "metadata": {
    "collapsed": true
   },
   "outputs": [],
   "source": [
    "a = np.diag([2,4])\n",
    "plot_transform_xa(x,a)"
   ]
  },
  {
   "cell_type": "markdown",
   "metadata": {},
   "source": [
    "Wniosek: macierze diagonalne to macierze skalujące\n",
    "\n",
    "$y^i = x^i * a_{ii}$ - i-ta kolumna wyniku mnożenia to i-ta kolumna x razy i-ty element diagonali a"
   ]
  },
  {
   "cell_type": "markdown",
   "metadata": {},
   "source": [
    "### PYTANIE: CO SIĘ STANIE JAK NA PRZEKĄTNEJ BĘDĄ ZERA?"
   ]
  },
  {
   "cell_type": "code",
   "execution_count": null,
   "metadata": {
    "collapsed": true
   },
   "outputs": [],
   "source": [
    "a = np.diag([2,0])\n",
    "plot_transform_xa(x,a)"
   ]
  },
  {
   "cell_type": "code",
   "execution_count": null,
   "metadata": {
    "collapsed": true
   },
   "outputs": [],
   "source": [
    "a = np.diag([0,3])\n",
    "plot_transform_xa(x,a)"
   ]
  },
  {
   "cell_type": "markdown",
   "metadata": {},
   "source": [
    "### Rzutujemy na PODPRZESTRZEŃ (TYLKO NA CZĘŚĆ WYMIARÓW) - znikają wymiary, które zostały \"wyzerowane\""
   ]
  },
  {
   "cell_type": "markdown",
   "metadata": {},
   "source": [
    "### Inny typ macierzy"
   ]
  },
  {
   "cell_type": "code",
   "execution_count": null,
   "metadata": {
    "collapsed": true
   },
   "outputs": [],
   "source": [
    "t = np.pi/6 \n",
    "\n",
    "a = np.array([[np.cos(t),-np.sin(t)],[np.sin(t),np.cos(t)]])\n",
    "a"
   ]
  },
  {
   "cell_type": "code",
   "execution_count": null,
   "metadata": {
    "collapsed": true
   },
   "outputs": [],
   "source": [
    "np.dot(a,a.T) # DIAGONALNA (Z DOKŁADNOŚCI DO NUMERYKI) - A nazywa się macierzą ORTOGONALNĄ"
   ]
  },
  {
   "cell_type": "code",
   "execution_count": null,
   "metadata": {
    "collapsed": true
   },
   "outputs": [],
   "source": [
    "np.linalg.det(a) # wyznacznik rowny 1"
   ]
  },
  {
   "cell_type": "code",
   "execution_count": null,
   "metadata": {
    "collapsed": true
   },
   "outputs": [],
   "source": [
    "plot_transform_xa(x,a) "
   ]
  },
  {
   "cell_type": "markdown",
   "metadata": {},
   "source": [
    "### Ogólnie - macierz ortogonalna (czyli taka ze a*a' = I, i det(a)=1) jest wielowymiarową macierzą obrotu"
   ]
  },
  {
   "cell_type": "markdown",
   "metadata": {},
   "source": [
    "### Pytanie: co się stanie jak a będzie iloczynem macierzy skalujacej i obrotu?"
   ]
  },
  {
   "cell_type": "code",
   "execution_count": null,
   "metadata": {
    "collapsed": true
   },
   "outputs": [],
   "source": [
    "t = -np.pi/3\n",
    "a = np.dot(np.diag([4,4]),np.array([[np.cos(t),-np.sin(t)],[np.sin(t),np.cos(t)]]))\n",
    "plot_transform_xa(x,a)"
   ]
  },
  {
   "cell_type": "markdown",
   "metadata": {},
   "source": [
    "#### Złożenie macierzy skalującej z zerem i macierzy obrotu:"
   ]
  },
  {
   "cell_type": "code",
   "execution_count": null,
   "metadata": {
    "collapsed": true
   },
   "outputs": [],
   "source": [
    "t = np.pi/4\n",
    "a = np.dot(np.array([[0,0],[0,3]]),np.array([[np.cos(t),-np.sin(t)],[np.sin(t),np.cos(t)]]))\n",
    "plot_transform_xa(x,a)"
   ]
  },
  {
   "cell_type": "markdown",
   "metadata": {},
   "source": [
    "## Podsumowanie:\n",
    "\n",
    "### - przemnożenie przez macierz to REPREZENTACJA NASZYCH DANYCH W INNYM UKŁADZIE WSPÓŁRZĘDNYCH  - inaczej zrzutowanie naszych punktów do nowej przestrzeni liniowej, którą definiją nam wiersze tej macierzy"
   ]
  },
  {
   "cell_type": "markdown",
   "metadata": {},
   "source": [
    "# Rozkład SVD "
   ]
  },
  {
   "cell_type": "markdown",
   "metadata": {},
   "source": [
    "## X - macierz $ m\\times n$\n",
    "\n",
    "rozkładamy macierz na trzy czynniki:\n",
    "\n",
    "\n",
    "## $ X = U \\times \\Sigma \\times V^t$\n",
    "\n",
    ", gdzie: $U: m \\times m , S: m \\times n, V: m \\times m $\n",
    "\n",
    "- U i V - ortogonalne o wyznacznikach 1 (są to macierze zawierające wektory osobliwe)\n",
    "- $\\Sigma$ - macierz wartości osobliwych - $diag(\\sigma_1, ..., \\sigma_k)$ ,  sigmy uporządkowane malejąco. Macierz jest tego samego wymiary co X zawsze (czyli diagonalna, ale prostokątna)\n",
    "\n",
    "<img src=\"svd.jpg\" width=\"800\">\n",
    "\n",
    "Źródło: https://www.google.pl/search?q=svd&client=ubuntu&hs=LnO&channel=fs&source=lnms&tbm=isch&sa=X&ved=0ahUKEwjI0b_Bj7HUAhUGQJoKHTXtAb8Q_AUICigB#channel=fs&tbm=isch&q=svd+decomposition&imgrc=jIHtm6dIDFPLAM:"
   ]
  },
  {
   "cell_type": "markdown",
   "metadata": {},
   "source": [
    "## Interpretacja:\n",
    "\n",
    "## $X^j = (U \\Sigma V^t)^j = U \\times (\\Sigma V^t)^j = U \\times \\Sigma \\times (V^t)^j$ \n",
    "\n",
    "czyli $j$-ta kolummna $X$ jest reprezentacją $j$-tej kolumy $(V^t)$, czyli $j$-tego wiersza $V$, gdzie\n",
    "\n",
    "$X^j$ - cecha, którą obserwujemy, a $(V^t)^j$ to cech ukryta. \n",
    "\n",
    "<br>\n",
    "\n",
    "<br>\n",
    "\n",
    "<br>\n",
    "\n",
    "<br>\n",
    "\n",
    "### Analogicznie:\n",
    "\n",
    "## $X_i = (U \\Sigma V^t)_i = (U \\Sigma)_i \\times V^t = U_i \\times \\Sigma \\times V^t$"
   ]
  },
  {
   "cell_type": "markdown",
   "metadata": {},
   "source": [
    "# Pytanie: po co nam to?\n",
    "\n",
    "<br>\n",
    "\n",
    "<br>"
   ]
  },
  {
   "cell_type": "markdown",
   "metadata": {},
   "source": [
    "# Odpowiedź:\n",
    "\n",
    "## Wartości elementów diagonali macierzy $\\Sigma$ mówią o tym, jak ważna jest dana cechy ukryta!\n",
    "\n",
    "Duża wartosć oznacza, że cecha jest istotna - zawiera dużo informacji. Mała - że nie jest ważna - jest szumem.\n",
    "\n",
    "\n",
    "<br>\n",
    "\n",
    "## Zatem pomysł jest następujący: \n",
    "\n",
    "## Wykorzystajmy do reprezentacji X tylko ważne cechy ukryte."
   ]
  },
  {
   "cell_type": "markdown",
   "metadata": {},
   "source": [
    "## Zobaczmy jak to wygląda w praktyce"
   ]
  },
  {
   "cell_type": "code",
   "execution_count": null,
   "metadata": {
    "collapsed": true
   },
   "outputs": [],
   "source": [
    "X = np.random.multivariate_normal([0,0,0],np.array([[1,0.999,0],[0.999,1,0],[0,0,1]]),20)\n",
    "print(X)"
   ]
  },
  {
   "cell_type": "markdown",
   "metadata": {},
   "source": [
    "### Czyli mamy dwie bardzo silnie skorelowane zmienne"
   ]
  },
  {
   "cell_type": "code",
   "execution_count": null,
   "metadata": {
    "collapsed": true
   },
   "outputs": [],
   "source": [
    "U, s, V = np.linalg.svd(X, full_matrices=True)\n",
    "S = np.zeros_like(X)\n",
    "np.fill_diagonal(S,s)\n",
    "\n",
    "print(U)\n",
    "print(S)\n",
    "print(V)"
   ]
  },
  {
   "cell_type": "markdown",
   "metadata": {},
   "source": [
    "### Sprawdźmy czy się zgadza:"
   ]
  },
  {
   "cell_type": "code",
   "execution_count": null,
   "metadata": {
    "collapsed": true
   },
   "outputs": [],
   "source": [
    "np.dot(np.dot(U,S),V)"
   ]
  },
  {
   "cell_type": "markdown",
   "metadata": {},
   "source": [
    "### Patrzymy na istotność zmiennych"
   ]
  },
  {
   "cell_type": "code",
   "execution_count": null,
   "metadata": {
    "collapsed": true
   },
   "outputs": [],
   "source": [
    "S   #   Widzimy, że trzeci wymiar nie niesie dużo informacji"
   ]
  },
  {
   "cell_type": "markdown",
   "metadata": {},
   "source": [
    "### Odtwórzmy X - policzmy przyblizenie na podstawie tylko dwóch wymiarów V i porównajmy z X\n",
    "\n",
    "Czyli uznajemy, że jedna cecha nieistotna i zerujemy ten wymiar (tak jak to robiliśmy na początku)"
   ]
  },
  {
   "cell_type": "code",
   "execution_count": null,
   "metadata": {
    "collapsed": true
   },
   "outputs": [],
   "source": [
    "S[2,2]=0\n",
    "print(S)\n",
    "np.dot(np.dot(U,S),V)"
   ]
  },
  {
   "cell_type": "code",
   "execution_count": null,
   "metadata": {
    "collapsed": true
   },
   "outputs": [],
   "source": [
    "X # Nie jest to samo, ale bardzo podobne"
   ]
  },
  {
   "cell_type": "markdown",
   "metadata": {},
   "source": [
    "#### Czyli co zrobiliśmy? mieliśmy naszą reprezentację US - wycięliśmy jej jeden wymiar, który uznaliśmy za nieistotny i odtworzyliśmy na tej podstwie X i okazało się, że jest bardzo zbliżony\n",
    "\n",
    "#### Czyli rozkład SVD wykrył, że te dwie zmienne niosą tak naprawdę jedną informację, czyli tak jakby pochodzą z jednego źródła (cechy w ukrytej przestrzeni przestrzeni)."
   ]
  },
  {
   "cell_type": "markdown",
   "metadata": {},
   "source": [
    "# Fakt: przybliżenie X w taki sposób - zerując wszystkie poza k największymi elementami Sigmy - jest najlepszym możliwym przybliżeniem  w k wymiarowej przestrzeni."
   ]
  },
  {
   "cell_type": "markdown",
   "metadata": {},
   "source": [
    "### Powtórzmy ten przykład dla dwóch zmiennych liniowo zależnych (macierz kowariancji da 1 i2 wypełić jedynkami) trzecia wartość w S to zero..."
   ]
  },
  {
   "cell_type": "code",
   "execution_count": null,
   "metadata": {
    "collapsed": true,
    "scrolled": true
   },
   "outputs": [],
   "source": [
    "a = np.arange(1,301).reshape((50,6))\n",
    "b = np.random.multivariate_normal([0]*15,np.diag([0.1]*15),6)\n",
    "\n",
    "# a - ukryte cechy, \n",
    "# b - sposób przełożenia tych cech na cechy obserwowane w naszym świecie (tworzą szum)\n",
    "\n",
    "x = np.dot(a,b) \n",
    "# x - cechy obserwowane przez nas\n",
    "\n",
    "np.set_printoptions(2,suppress=True)\n",
    "\n",
    "print(a[:5,:])\n",
    "x[:5,:]"
   ]
  },
  {
   "cell_type": "code",
   "execution_count": null,
   "metadata": {
    "collapsed": true
   },
   "outputs": [],
   "source": [
    "U, s, V = np.linalg.svd(x)\n",
    "S = np.zeros_like(x)\n",
    "np.fill_diagonal(S,s)\n",
    "print(s)"
   ]
  },
  {
   "cell_type": "code",
   "execution_count": null,
   "metadata": {
    "collapsed": true
   },
   "outputs": [],
   "source": [
    "np.dot(np.dot(U,S)[:,0:2],V[0:2,:])[:5,:5]"
   ]
  },
  {
   "cell_type": "code",
   "execution_count": null,
   "metadata": {
    "collapsed": true
   },
   "outputs": [],
   "source": [
    "x[:5,:5]"
   ]
  },
  {
   "cell_type": "markdown",
   "metadata": {},
   "source": [
    "### Podobny przykład jak przed chwilą, ale kolumny w a niezależne"
   ]
  },
  {
   "cell_type": "code",
   "execution_count": null,
   "metadata": {
    "collapsed": true
   },
   "outputs": [],
   "source": [
    "a = np.random.multivariate_normal([0]*3,np.diag([1]*3),100)\n",
    "b = np.random.multivariate_normal([0]*15,np.diag([0.1]*15),3)\n",
    "\n",
    "# DODAJMY DO NASZEGO X SZUM\n",
    "\n",
    "x = np.dot(a,b) + np.random.multivariate_normal([0]*15,np.diag([0.01]*15),100)\n",
    "\n",
    "np.set_printoptions(2,suppress=True) \n",
    "print(x[:5,:])\n",
    "\n",
    "U, s, V = np.linalg.svd(x)\n",
    "S = np.zeros_like(x)\n",
    "np.fill_diagonal(S,s)\n",
    "print(s)"
   ]
  },
  {
   "cell_type": "markdown",
   "metadata": {},
   "source": [
    "wykryte trzy ukryte cechy"
   ]
  },
  {
   "cell_type": "code",
   "execution_count": null,
   "metadata": {
    "collapsed": true
   },
   "outputs": [],
   "source": [
    "np.dot(np.dot(U[:,:3],S[:3,:3]),V[:3,:]) # szału nie ma ale generalnie jest dobrze"
   ]
  },
  {
   "cell_type": "markdown",
   "metadata": {},
   "source": [
    "# Przetwarzanie obrazu\n",
    "\n",
    "http://www.ams.org/samplings/feature-column/fcarc-svd"
   ]
  },
  {
   "cell_type": "code",
   "execution_count": null,
   "metadata": {
    "collapsed": true
   },
   "outputs": [],
   "source": [
    "np.set_printoptions()\n",
    "x = np.zeros((200,80))\n",
    "x[50:150,20:60] = 1\n",
    "\n",
    "plt.gray()\n",
    "plt.imshow(x)\n",
    "plt.show()"
   ]
  },
  {
   "cell_type": "code",
   "execution_count": null,
   "metadata": {
    "collapsed": true
   },
   "outputs": [],
   "source": [
    "#zaszumiamy:\n",
    "losowe_indeksy = np.random.choice(2,size=x.shape,p=[0.5,0.5]).nonzero()\n",
    "print(losowe_indeksy)\n",
    "x[losowe_indeksy] = x[losowe_indeksy] + np.random.normal(0,0.4,len(losowe_indeksy[0]))\n",
    "x[x>1] = 1 # zeby pozbyc sie ujemnych\n",
    "x[x<0] = 0\n",
    "plt.gray()\n",
    "plt.imshow(x)\n",
    "plt.show()"
   ]
  },
  {
   "cell_type": "markdown",
   "metadata": {},
   "source": [
    "### Zadanie: odszumić obrazek"
   ]
  },
  {
   "cell_type": "code",
   "execution_count": null,
   "metadata": {
    "collapsed": true
   },
   "outputs": [],
   "source": [
    "U, s, V = np.linalg.svd(x)\n",
    "S = np.zeros_like(x)\n",
    "np.fill_diagonal(S,s)\n",
    "plt.plot(range(1,len(s)+1),s)\n",
    "plt.xlim(0,10)\n",
    "plt.show()\n",
    "print(s)"
   ]
  },
  {
   "cell_type": "code",
   "execution_count": null,
   "metadata": {
    "collapsed": true
   },
   "outputs": [],
   "source": [
    "k = 3\n",
    "x2 = np.dot(np.dot(U,S)[:,0:k],V[0:k,:])\n",
    "x2[x2>1] = 1\n",
    "x2[x2<0] = 0\n",
    "plt.gray()\n",
    "plt.imshow(x2)\n",
    "plt.show()"
   ]
  },
  {
   "cell_type": "markdown",
   "metadata": {},
   "source": [
    "### Zadanie - zredukować reprezentację obrazka kolorowego\n",
    "\n",
    "Zadanie dodatkowe - policzyć ile bajtów zajmuje normalna reprezentacja, a ile reprezentacja zredukowana dobrej jakości"
   ]
  },
  {
   "cell_type": "code",
   "execution_count": null,
   "metadata": {
    "collapsed": true
   },
   "outputs": [],
   "source": [
    "import PIL.Image as Image\n",
    "im = Image.open(\"../Dane/Obrazy/1.jpg\")\n",
    "plt.imshow(im)\n",
    "plt.show()"
   ]
  },
  {
   "cell_type": "code",
   "execution_count": null,
   "metadata": {
    "collapsed": true
   },
   "outputs": [],
   "source": [
    "im = np.array(Image.open(\"../Dane/Obrazy/1.jpg\"))/255\n",
    "im\n",
    "#im.nbytes"
   ]
  },
  {
   "cell_type": "code",
   "execution_count": null,
   "metadata": {
    "collapsed": true
   },
   "outputs": [],
   "source": [
    "im_r = im[:,:,0]\n",
    "im_g = im[:,:,1]\n",
    "im_b = im[:,:,2]"
   ]
  },
  {
   "cell_type": "code",
   "execution_count": null,
   "metadata": {
    "collapsed": true
   },
   "outputs": [],
   "source": [
    "U_r, s_r, V_r = np.linalg.svd(im_r)\n",
    "U_g, s_g, V_g = np.linalg.svd(im_g)\n",
    "U_b, s_b, V_b = np.linalg.svd(im_b)"
   ]
  },
  {
   "cell_type": "code",
   "execution_count": null,
   "metadata": {
    "collapsed": true,
    "scrolled": true
   },
   "outputs": [],
   "source": [
    "plt.plot(s_r)\n",
    "plt.show()"
   ]
  },
  {
   "cell_type": "code",
   "execution_count": null,
   "metadata": {
    "collapsed": true
   },
   "outputs": [],
   "source": [
    "k = 100\n",
    "\n",
    "im2_r = np.dot(np.dot(U_r[:,:k],np.diag(s_r[:k])),V_r[:k,:])\n",
    "im2_g = np.dot(np.dot(U_g[:,:k],np.diag(s_g[:k])),V_g[:k,:])\n",
    "im2_b = np.dot(np.dot(U_b[:,:k],np.diag(s_b[:k])),V_b[:k,:])"
   ]
  },
  {
   "cell_type": "code",
   "execution_count": null,
   "metadata": {
    "collapsed": true
   },
   "outputs": [],
   "source": [
    "im2 = np.zeros_like(im)\n",
    "im2[:,:,0] = im2_r\n",
    "im2[:,:,1] = im2_g\n",
    "im2[:,:,2] = im2_b\n",
    "im2[im2<0] = 0\n",
    "im2[im2>1] = 1"
   ]
  },
  {
   "cell_type": "code",
   "execution_count": null,
   "metadata": {
    "collapsed": true
   },
   "outputs": [],
   "source": [
    "plt.imshow(im2)\n",
    "plt.show()"
   ]
  },
  {
   "cell_type": "code",
   "execution_count": null,
   "metadata": {
    "collapsed": true
   },
   "outputs": [],
   "source": [
    "np.sum([x.nbytes for x in [U_r[:,:k],s_r[:k],V_r[:k,:],U_g[:,:k],s_g[:k],V_g[:k,:],U_b[:,:k],s_b[:k],V_b[:k,:]]])"
   ]
  },
  {
   "cell_type": "markdown",
   "metadata": {
    "collapsed": true
   },
   "source": [
    "# Tekst. Nasze zadanie: zaprojektować wyszukiwarkę: dla danego zapytania znaleźć tekst najbardziej adekwatny\n",
    "\n",
    "## podstawowy sposob reprezentacji tekstu to macierz wystapien slow w dokumentach - oznacza to bardzo duży wymiar... \n",
    "\n",
    "## Dlatego potrzebna redukcja. Pomysł: wykryć znaczenie tekstu znajdując ukryte cechy\n",
    "\n",
    "### Stosuje się w analizie podobieństwa tekstów (wyszukiwarki, systemy rekomendacyjne)"
   ]
  },
  {
   "cell_type": "code",
   "execution_count": null,
   "metadata": {
    "collapsed": true
   },
   "outputs": [],
   "source": [
    "documents = [\n",
    "    \"morze plaża woda słońce piasek\",\n",
    "    \"morze plaża piasek woda\",\n",
    "    \"morze plaża słońce\",\n",
    "    \"plaża woda piasek\",\n",
    "    \"słońce woda plaża\",\n",
    "    \"piasek woda\",\n",
    "    \"krowa pies papuga\",\n",
    "    \"pies kot\"\n",
    "]"
   ]
  },
  {
   "cell_type": "code",
   "execution_count": null,
   "metadata": {
    "collapsed": true
   },
   "outputs": [],
   "source": [
    "from sklearn.feature_extraction.text import CountVectorizer \n",
    "cv = CountVectorizer()\n",
    "dtm = cv.fit_transform(documents) \n",
    "dtm "
   ]
  },
  {
   "cell_type": "code",
   "execution_count": null,
   "metadata": {
    "collapsed": true
   },
   "outputs": [],
   "source": [
    "x = dtm.todense().T\n",
    "x # wiersze słowa, kolumny - dokumenty"
   ]
  },
  {
   "cell_type": "markdown",
   "metadata": {},
   "source": [
    "## Nasz cel - wyreprezentować dokumenty w niżej wymiarowej przestrzeni - znaleźć ich znaczenie"
   ]
  },
  {
   "cell_type": "code",
   "execution_count": null,
   "metadata": {
    "collapsed": true
   },
   "outputs": [],
   "source": [
    "U, s, V = np.linalg.svd(x)\n",
    "S = np.zeros_like(x).astype(\"float\")\n",
    "np.fill_diagonal(S,s)"
   ]
  },
  {
   "cell_type": "code",
   "execution_count": null,
   "metadata": {
    "collapsed": true
   },
   "outputs": [],
   "source": [
    "np.dot(np.dot(U,S),V)"
   ]
  },
  {
   "cell_type": "code",
   "execution_count": null,
   "metadata": {
    "collapsed": true
   },
   "outputs": [],
   "source": [
    "# Ile wziac skladowych?\n",
    "S "
   ]
  },
  {
   "cell_type": "code",
   "execution_count": null,
   "metadata": {
    "collapsed": true
   },
   "outputs": [],
   "source": [
    "k = 3\n",
    "np.set_printoptions(2,suppress=True)\n",
    "\n",
    "x_n = V[:k,:] # - jedna kolumna reprezentuje jeden dokument (w mniejszej przestrzeni) \n",
    "#                 zatem bierzemy pierwsze k współrzędnych z każdego dokumentu\n",
    "x_n"
   ]
  },
  {
   "cell_type": "markdown",
   "metadata": {},
   "source": [
    "Spojrzmy na wyglad dokumentow w powyzszej przestrzeni cech ukrytych"
   ]
  },
  {
   "cell_type": "markdown",
   "metadata": {},
   "source": [
    "### Pytanie: ja wyreprezentować przychodzące zapytanie w naszej przestrzeni V ???\n",
    "\n",
    "Spójrzmy jak otrzymać V z x mając rozkład svd:$\n",
    "\n",
    "$ X = USV$ => $ U^{-1} X = SV^t$ => $S^{-1} U^{-1} X = V^t$ \n",
    "\n",
    "i wiemy, że $U^{-1} = U^t$.\n",
    "\n",
    "Zatem co zrobić z nowym zapytanie, żeby otrzymać jego reprezentację w V? To samo co z X"
   ]
  },
  {
   "cell_type": "code",
   "execution_count": null,
   "metadata": {
    "collapsed": true
   },
   "outputs": [],
   "source": [
    "#Zatem, aby otrzymać k-wymiarową reprezentację V z X:\n",
    "dk = np.dot(np.linalg.inv(S[:k,:k]), np.dot(U.T[:k,:],x))\n",
    "dk"
   ]
  },
  {
   "cell_type": "code",
   "execution_count": null,
   "metadata": {
    "collapsed": true
   },
   "outputs": [],
   "source": [
    "zapytanie = [\"morze i słońce\"]\n",
    "zapytanie = cv.transform(zapytanie).todense().T # reprezentujemy zapytanie jak wektor wystapień słów\n",
    "zapytanie"
   ]
  },
  {
   "cell_type": "code",
   "execution_count": null,
   "metadata": {
    "collapsed": true
   },
   "outputs": [],
   "source": [
    "#Zatem reprezentacja zapytania w przestrzeni dokumentów:\n",
    "q = np.dot(np.linalg.inv(S[:k,:k]), np.dot(U.T[:k,:],zapytanie))\n",
    "q"
   ]
  },
  {
   "cell_type": "code",
   "execution_count": null,
   "metadata": {
    "collapsed": true
   },
   "outputs": [],
   "source": [
    "dk"
   ]
  },
  {
   "cell_type": "code",
   "execution_count": null,
   "metadata": {
    "collapsed": true
   },
   "outputs": [],
   "source": [
    "from sklearn.metrics import pairwise_distances\n",
    "pairwise_distances(dk.T,q.T)"
   ]
  },
  {
   "cell_type": "code",
   "execution_count": null,
   "metadata": {
    "collapsed": true
   },
   "outputs": [],
   "source": [
    "kolejnosc = np.argsort(np.squeeze(pairwise_distances(dk.T,q.T)))\n",
    "kolejnosc"
   ]
  },
  {
   "cell_type": "code",
   "execution_count": null,
   "metadata": {
    "collapsed": true
   },
   "outputs": [],
   "source": [
    "np.array(documents)[kolejnosc]"
   ]
  },
  {
   "cell_type": "markdown",
   "metadata": {},
   "source": [
    "### Zadanie dodatkowe: znaleźć tym razem SŁOWO najbardziej podobne do słowa np \"morze\"\n",
    "\n",
    "<br>\n",
    "\n",
    "<br>\n",
    "\n",
    "<br>\n",
    "\n",
    "<br>\n",
    "\n",
    "<br>"
   ]
  },
  {
   "cell_type": "markdown",
   "metadata": {},
   "source": [
    "# PCA"
   ]
  },
  {
   "cell_type": "markdown",
   "metadata": {},
   "source": [
    "### Uwaga na skalę zmiennych!"
   ]
  },
  {
   "cell_type": "code",
   "execution_count": null,
   "metadata": {
    "collapsed": true
   },
   "outputs": [],
   "source": [
    "samples = np.loadtxt(\"../Dane/seeds_dataset.txt\")\n",
    "grains = samples[:,[4,3]]\n",
    "print(grains)\n",
    "np.std(grains,0)"
   ]
  },
  {
   "cell_type": "code",
   "execution_count": null,
   "metadata": {
    "collapsed": true
   },
   "outputs": [],
   "source": [
    "from sklearn.decomposition import PCA\n",
    "from scipy.stats import pearsonr\n",
    "\n",
    "width = grains[:,0]\n",
    "length = grains[:,1]\n",
    "\n",
    "plt.scatter(width, length)\n",
    "plt.axis('equal')\n",
    "plt.show()\n",
    "\n",
    "correlation, pvalue = pearsonr(width,length)\n",
    "\n",
    "print(correlation)"
   ]
  },
  {
   "cell_type": "markdown",
   "metadata": {},
   "source": [
    "### Dopasowanie modelu i wizualizacja pierwszego kierunku, który znalazł"
   ]
  },
  {
   "cell_type": "code",
   "execution_count": null,
   "metadata": {
    "collapsed": true
   },
   "outputs": [],
   "source": [
    "plt.scatter(grains[:,0], grains[:,1])\n",
    "\n",
    "model = PCA()\n",
    "\n",
    "model.fit(grains)\n",
    "\n",
    "mean = model.mean_\n",
    "\n",
    "first_pc = model.components_[0,:] # SKLADOWE - CZYLI KIERUNKI - w wierszach\n",
    "\n",
    "plt.arrow(mean[0], mean[1], first_pc[0], first_pc[1], color='red', width=0.01)\n",
    "\n",
    "plt.axis('equal')\n",
    "plt.show()"
   ]
  },
  {
   "cell_type": "markdown",
   "metadata": {},
   "source": [
    "## Uwaga strzałka może wyjść w drugą stronę - kierunek ten sam, tylko zwrot przeciwny!"
   ]
  },
  {
   "cell_type": "code",
   "execution_count": null,
   "metadata": {
    "collapsed": true
   },
   "outputs": [],
   "source": [
    "model = PCA()\n",
    "\n",
    "pca_features = model.fit_transform(grains) # dwa wymiary, wiec rzutowanie jest na dwa wymiary\n",
    "\n",
    "xs = pca_features[:,0]\n",
    "ys = pca_features[:,1]\n",
    "\n",
    "plt.scatter(xs, ys)\n",
    "plt.axis('equal')\n",
    "plt.show()\n",
    "\n",
    "correlation, pvalue = pearsonr(xs, ys)\n",
    "\n",
    "print(correlation)"
   ]
  },
  {
   "cell_type": "markdown",
   "metadata": {},
   "source": [
    "### Jak otrzymać nową postać mając x i kierunki? \n",
    "\n",
    "#### Kierunki przechowywane są w wierszach. Zatem trzeba pomnożyć przez transpozycję"
   ]
  },
  {
   "cell_type": "code",
   "execution_count": null,
   "metadata": {
    "collapsed": true
   },
   "outputs": [],
   "source": [
    "print(xs[:10])\n",
    "print(ys[:10])\n",
    "np.dot(grains-model.mean_, model.components_.T)[:10,:]"
   ]
  },
  {
   "cell_type": "markdown",
   "metadata": {},
   "source": [
    "### Wizualizacja wartości \"na nowych wymiarach\""
   ]
  },
  {
   "cell_type": "code",
   "execution_count": null,
   "metadata": {
    "collapsed": true
   },
   "outputs": [],
   "source": [
    "plt.figure(figsize=(15,10))\n",
    "\n",
    "plt.subplot(2,2,1)\n",
    "plt.scatter(xs, ys)\n",
    "\n",
    "plt.subplot(2,2,2)\n",
    "plt.scatter(np.zeros_like(ys),ys)\n",
    "\n",
    "plt.subplot(2,2,3)\n",
    "plt.scatter(xs, np.zeros_like(xs))\n",
    "plt.show()\n"
   ]
  },
  {
   "cell_type": "code",
   "execution_count": null,
   "metadata": {
    "collapsed": true
   },
   "outputs": [],
   "source": [
    "np.var(xs), np.var(ys)"
   ]
  },
  {
   "cell_type": "code",
   "execution_count": null,
   "metadata": {
    "collapsed": true
   },
   "outputs": [],
   "source": [
    "model.explained_variance_"
   ]
  },
  {
   "cell_type": "code",
   "execution_count": null,
   "metadata": {
    "collapsed": true
   },
   "outputs": [],
   "source": [
    "model.explained_variance_ratio_"
   ]
  },
  {
   "cell_type": "code",
   "execution_count": null,
   "metadata": {
    "collapsed": true
   },
   "outputs": [],
   "source": [
    "features = range(model.n_components_)\n",
    "plt.bar(features, model.explained_variance_ratio_)\n",
    "plt.xlabel('PCA feature')\n",
    "plt.ylabel('variance')\n",
    "plt.xticks(features)\n",
    "plt.show()"
   ]
  },
  {
   "cell_type": "markdown",
   "metadata": {},
   "source": [
    "### Problem: jak wyznaczyć liczbę ważnych składowych?"
   ]
  },
  {
   "cell_type": "code",
   "execution_count": null,
   "metadata": {
    "collapsed": true,
    "scrolled": false
   },
   "outputs": [],
   "source": [
    "s = np.diag([1.]*5)\n",
    "s[[0,1,3,4],[1,0,4,3]] = 0.98\n",
    "print(s)\n",
    "x = np.random.multivariate_normal([0]*5,s,200)"
   ]
  },
  {
   "cell_type": "markdown",
   "metadata": {},
   "source": [
    "### Czyli mamy 5 zmiennych - dwie pary są silnie skorelowane"
   ]
  },
  {
   "cell_type": "code",
   "execution_count": null,
   "metadata": {
    "collapsed": true
   },
   "outputs": [],
   "source": [
    "pca = PCA()\n",
    "pca.fit(x)"
   ]
  },
  {
   "cell_type": "code",
   "execution_count": null,
   "metadata": {
    "collapsed": true
   },
   "outputs": [],
   "source": [
    "pca.components_.shape"
   ]
  },
  {
   "cell_type": "code",
   "execution_count": null,
   "metadata": {
    "collapsed": true,
    "scrolled": true
   },
   "outputs": [],
   "source": [
    "plt.bar(range(pca.n_components_),pca.explained_variance_ratio_)\n",
    "plt.show()"
   ]
  },
  {
   "cell_type": "markdown",
   "metadata": {},
   "source": [
    "### Ile wymiarów wziąć? oczywiście 3\n",
    "\n",
    "To samo tylko wartości skumulowane:"
   ]
  },
  {
   "cell_type": "code",
   "execution_count": null,
   "metadata": {
    "collapsed": true
   },
   "outputs": [],
   "source": [
    "plt.bar(range(pca.n_components_),np.cumsum(pca.explained_variance_ratio_))\n",
    "plt.show()"
   ]
  },
  {
   "cell_type": "code",
   "execution_count": null,
   "metadata": {
    "collapsed": true
   },
   "outputs": [],
   "source": [
    "pca.explained_variance_"
   ]
  },
  {
   "cell_type": "markdown",
   "metadata": {},
   "source": [
    "Podejrzyjmy dane w nowej przestrzeni:"
   ]
  },
  {
   "cell_type": "code",
   "execution_count": null,
   "metadata": {
    "collapsed": true
   },
   "outputs": [],
   "source": [
    "pca.transform(x)[:10] # widzimy, że wielkości w dwóch ostatnich kolumnach są mniejsze niż trzech pierwszych i mała wariancja"
   ]
  },
  {
   "cell_type": "code",
   "execution_count": null,
   "metadata": {
    "collapsed": true
   },
   "outputs": [],
   "source": [
    "# zatem nasz nowa reprezentacja to trzy pierwsze kolummy\n",
    "pca.transform(x)[:,:3]"
   ]
  },
  {
   "cell_type": "markdown",
   "metadata": {},
   "source": [
    "### Zadanie. Rozważmy zbiór ryb. Ile wymiarów wystarczy, żeby je dobrze wyreprezentować?"
   ]
  },
  {
   "cell_type": "code",
   "execution_count": null,
   "metadata": {
    "collapsed": true,
    "scrolled": true
   },
   "outputs": [],
   "source": [
    "import pandas as pd\n",
    "samples = pd.read_csv(\"fish.csv\", sep=\";\",decimal=\",\")\n",
    "\n",
    "import seaborn as sns\n",
    "sns.pairplot(data=samples, size=5)\n",
    "plt.show()"
   ]
  },
  {
   "cell_type": "code",
   "execution_count": null,
   "metadata": {
    "collapsed": true
   },
   "outputs": [],
   "source": [
    "samples.describe()"
   ]
  },
  {
   "cell_type": "code",
   "execution_count": null,
   "metadata": {
    "collapsed": true,
    "scrolled": true
   },
   "outputs": [],
   "source": [
    "from sklearn.preprocessing import scale\n",
    "\n",
    "pca = PCA()\n",
    "pca.fit(scale(samples.drop([\"Species\"],axis=1)))\n",
    "plt.bar(range(1,1+pca.n_components_),pca.explained_variance_ratio_)\n",
    "plt.show()"
   ]
  },
  {
   "cell_type": "code",
   "execution_count": null,
   "metadata": {
    "collapsed": true
   },
   "outputs": [],
   "source": [
    "np.cumsum(pca.explained_variance_ratio_)"
   ]
  },
  {
   "cell_type": "markdown",
   "metadata": {},
   "source": [
    "### Odpowiedź: 3 wymiary są wystarczające"
   ]
  },
  {
   "cell_type": "markdown",
   "metadata": {},
   "source": [
    "### ZINTERPRETUJMY orztymane wymiary (cechy)"
   ]
  },
  {
   "cell_type": "code",
   "execution_count": null,
   "metadata": {
    "collapsed": true
   },
   "outputs": [],
   "source": [
    "pca.components_  # kierunki to WIERSZE"
   ]
  },
  {
   "cell_type": "markdown",
   "metadata": {},
   "source": [
    "Porównajmy powyższą interpretację z wykresami rozrzutu na danych\n",
    "\n",
    "- pierwsze 4 zmienne są skorelowane - zrzutował je na jedną nową (w pierwszym wierszu 4 pierwsze wielkości ważne, a dwie ostatnie nieistotne)\n",
    "- druga składowa - ostatnie dwie zrzutowanie na jeden wymiar\n",
    "- trzecia składowa - zrzutowanie na drugi wymiar prostopadły do poprzedniego - czyli de facto kształt tych dwóch zmiennych został zachowany (tzn. w PCA wszystkie kolejne wymiary są prostopadłe do poprzednich, ale patrzać na znaki przy współrzędnych można zobaczyć, które wartości PCA chce zachować neizmienione)\n",
    "\n",
    "Podsumowując: 4 pierwsze zmienne zostały zmienione w jedną, a dwie pozostał zostały zachowane i są ważne"
   ]
  },
  {
   "cell_type": "markdown",
   "metadata": {},
   "source": [
    "### Wizualizacja - bardzo częste zastosowanie PCA\n",
    "\n",
    "Zauważmy, że pierwsze dwie składowe wyjaśniają 90% wariancji - to dużo! Oznacza to, że dwa pierwsze wymiary dość dobrze opisują dane. A dwa wymiary można pokazać na wykresie!\n",
    "\n",
    "Zbudujmy model od nowa."
   ]
  },
  {
   "cell_type": "code",
   "execution_count": null,
   "metadata": {
    "collapsed": true
   },
   "outputs": [],
   "source": [
    "pca = PCA(2)\n",
    "z = pca.fit_transform(scale(samples.iloc[:,:-1]))\n",
    "\n",
    "plt.figure(figsize=(12,12))\n",
    "plt.scatter(z[:,0],z[:,1])\n",
    "for i in range(z.shape[0]):\n",
    "    plt.annotate(samples.iloc[i,-1],xy=(z[i,0],z[i,1]),xytext = (z[i,0]+0.1,z[i,1]+0.1))\n",
    "plt.show()"
   ]
  },
  {
   "cell_type": "markdown",
   "metadata": {},
   "source": [
    "## Zadanie: na podstawie danych food, określić podobieństwo między zwyczajami jedzeniowymi mieszkańców krajów Wielkiej Brytanii.\n",
    "\n",
    "http://www.dsc.ufcg.edu.br/~hmg/disciplinas/posgraduacao/rn-copin-2014.3/material/SignalProcPCA.pdf\n",
    "\n",
    "Przygotowanie danych wspólnie - model i interpretacja - zadanie samodzielne"
   ]
  },
  {
   "cell_type": "code",
   "execution_count": null,
   "metadata": {
    "collapsed": true
   },
   "outputs": [],
   "source": [
    "import pandas as pd\n",
    "food = pd.read_csv(\"../Dane/food.txt\",delimiter=\" \",comment=\"#\")\n",
    "food"
   ]
  },
  {
   "cell_type": "code",
   "execution_count": null,
   "metadata": {
    "collapsed": true
   },
   "outputs": [],
   "source": [
    "from sklearn.preprocessing import scale\n",
    "import numpy as np\n",
    "x = scale(np.array(food)[:,1:].T.astype(\"float\")) # Wiersze to kraje\n",
    "x.shape"
   ]
  },
  {
   "cell_type": "code",
   "execution_count": null,
   "metadata": {
    "collapsed": true
   },
   "outputs": [],
   "source": [
    "from sklearn.decomposition import PCA\n",
    "pca = PCA()\n",
    "pca.fit(x)\n",
    "pca.explained_variance_ratio_ # dwa wymiary wyjaśniają 96% procent - jest super"
   ]
  },
  {
   "cell_type": "code",
   "execution_count": null,
   "metadata": {
    "collapsed": true
   },
   "outputs": [],
   "source": [
    "import matplotlib.pyplot as plt\n",
    "%matplotlib inline\n",
    "plt.scatter(pca.transform(x)[:,0],pca.transform(x)[:,1])\n",
    "for i in range(4):\n",
    "    plt.annotate(food.columns[i+1],\n",
    "                 xy=(pca.transform(x)[i,0],pca.transform(x)[i,1]))\n",
    "plt.show()"
   ]
  },
  {
   "cell_type": "code",
   "execution_count": null,
   "metadata": {
    "collapsed": true
   },
   "outputs": [],
   "source": [
    "pca.components_.T # WYSWIETLAMY TRANSPOZYCJE ZEBY ŁATWIEJ CZYTAĆ\n",
    "# pierwsza składowa - KOLUMNA - wszystkie zmienne oprócz trzech są istotne, a druga - te trzy"
   ]
  },
  {
   "cell_type": "markdown",
   "metadata": {},
   "source": [
    "## Zadanie 2: przeanalizować charakterystyki miast przy użyciu PCA - zinterpretować składowe"
   ]
  },
  {
   "cell_type": "code",
   "execution_count": null,
   "metadata": {
    "collapsed": true
   },
   "outputs": [],
   "source": [
    "miasta = pd.read_csv(\"../Dane/Miasta.txt\",sep=\"\\t+\")\n",
    "miasta.head()"
   ]
  },
  {
   "cell_type": "code",
   "execution_count": null,
   "metadata": {
    "collapsed": true
   },
   "outputs": [],
   "source": [
    "x = scale(miasta)\n",
    "\n",
    "pca = PCA()\n",
    "pca.fit(x)\n",
    "pca.explained_variance_ratio_ # dwa wymiary wyjaśniają 93% procent"
   ]
  },
  {
   "cell_type": "code",
   "execution_count": null,
   "metadata": {
    "collapsed": true
   },
   "outputs": [],
   "source": [
    "z = pca.transform(x)\n",
    "plt.scatter(z[:,0],z[:,1])\n",
    "for i in range(x.shape[0]):\n",
    "    plt.annotate(miasta.index[i],xy=(z[i,0],z[i,1]))\n",
    "plt.show()"
   ]
  },
  {
   "cell_type": "code",
   "execution_count": null,
   "metadata": {
    "collapsed": true
   },
   "outputs": [],
   "source": [
    "pca.components_"
   ]
  },
  {
   "cell_type": "markdown",
   "metadata": {},
   "source": [
    "## Zastosowanie PCA do oceny grupowania\n",
    "\n",
    "Nie jest to ocena formalna. Jeśli podział jest zachowany po redukcji wymiaru, to dzięki PCA można INTERPETOWAĆ charakterystyki klastrów."
   ]
  },
  {
   "cell_type": "code",
   "execution_count": null,
   "metadata": {
    "collapsed": true,
    "scrolled": false
   },
   "outputs": [],
   "source": [
    "from sklearn.datasets import load_iris\n",
    "from sklearn.cluster import KMeans\n",
    "from sklearn.preprocessing import scale\n",
    "import seaborn as sns\n",
    "colors = sns.color_palette(\"Set2\", 20)\n",
    "\n",
    "iris = load_iris()\n",
    "samples = iris.data\n",
    "labels = iris.target\n",
    "\n",
    "#print(samples, labels)\n",
    "\n",
    "km = KMeans(3)\n",
    "groups = km.fit_predict(scale(samples))\n",
    "\n",
    "\n",
    "pca = PCA(2)\n",
    "z = pca.fit_transform(scale(samples))\n",
    "\n",
    "\n",
    "plt.figure(figsize=(12,12))\n",
    "plt.scatter(z[:,0],z[:,1],c=np.array(colors)[groups])\n",
    "\n",
    "for i in range(samples.shape[0]):\n",
    "    plt.annotate(labels[i],xy=(z[i,0],z[i,1]),xytext = (z[i,0]+0.1,z[i,1]+0.1))\n",
    "\n",
    "plt.show()"
   ]
  },
  {
   "cell_type": "markdown",
   "metadata": {},
   "source": [
    "## Zadanie: dopasuj model k(7)-średnich do ryb (standaryzowanych) i zwizualizuj pogrupowanie przy użyciu pca"
   ]
  },
  {
   "cell_type": "code",
   "execution_count": null,
   "metadata": {
    "collapsed": true
   },
   "outputs": [],
   "source": [
    "import seaborn as sns\n",
    "colors = sns.color_palette(\"Set2\", 20)\n",
    "\n",
    "samples = pd.read_csv(\"fish.csv\", sep=\";\",decimal=\",\")\n",
    "\n",
    "pca = PCA(2)\n",
    "z = pca.fit_transform(scale(samples.iloc[:,:-1]))\n",
    "\n",
    "km = KMeans(7)\n",
    "labels = km.fit_predict(scale(samples.iloc[:,:-1]))\n",
    "\n",
    "plt.figure(figsize=(12,12))\n",
    "plt.scatter(z[:,0],z[:,1],c=np.array(colors)[labels])\n",
    "\n",
    "#for i in range(z.shape[0]):\n",
    "#    plt.annotate(samples.iloc[i,-1],xy=(z[i,0],z[i,1]),xytext = (z[i,0]+0.1,z[i,1]+0.1))\n",
    "\n",
    "plt.show()"
   ]
  },
  {
   "cell_type": "markdown",
   "metadata": {},
   "source": [
    "# Zadanie: przeanalizować jakość grupowania na danych seeds (3 klastry, k-means, i hierarchiczne)"
   ]
  },
  {
   "cell_type": "code",
   "execution_count": null,
   "metadata": {
    "collapsed": true
   },
   "outputs": [],
   "source": [
    "dane = pd.read_csv(\"../Dane/seeds_dataset.txt\",sep=\"\\t+\",header=None)\n",
    "\n",
    "dane_sc = pd.DataFrame(scale(dane.iloc[:,0:-1]),columns=dane.columns[:-1])\n",
    "y = dane.iloc[:,-1]\n",
    "\n",
    "from scipy.cluster.hierarchy import linkage, fcluster\n",
    "\n",
    "\n",
    "mergings = linkage(dane_sc.iloc[:,0:7],method=\"ward\")\n",
    "\n",
    "labels = fcluster(mergings,3,\"maxclust\")\n",
    "\n",
    "z = PCA().fit_transform(dane_sc.iloc[:,0:7])\n",
    "for i in range(z.shape[0]):\n",
    "    plt.scatter(z[i,0],z[i,1],c=colors[labels[i]])\n",
    "    #plt.annotate(y[i],xy=(z[i,0],z[i,1]),xytext=(z[i,0]+0.1,z[i,1]+0.1))\n",
    "plt.show()"
   ]
  },
  {
   "cell_type": "markdown",
   "metadata": {},
   "source": [
    "## Zadanie 3: Inne miasta - przeanalizować miasta przy użyciu pca, ile głównych składowych, zinterpretować je, zidentyfikować wyróżniające się miasta\n",
    "\n",
    "\n",
    "2. http://www.stat.nthu.edu.tw/~swcheng/Teaching/stat5191/assignment/assignment2.html"
   ]
  },
  {
   "cell_type": "code",
   "execution_count": null,
   "metadata": {
    "collapsed": true
   },
   "outputs": [],
   "source": [
    "dane = pd.read_csv(\"http://www.stat.nthu.edu.tw/~swcheng/Teaching/stat5191/assignment/places.txt\",sep=\"\\s+\",header=0)\n",
    "dane = dane.iloc[:,range(9)]\n",
    "dane.head()"
   ]
  },
  {
   "cell_type": "code",
   "execution_count": null,
   "metadata": {
    "collapsed": true
   },
   "outputs": [],
   "source": [
    "pca = PCA()\n",
    "pca.fit(scale(dane))\n",
    "plt.bar(range(1,pca.n_components_+1),np.cumsum(pca.explained_variance_ratio_ ))\n",
    "plt.show()"
   ]
  },
  {
   "cell_type": "code",
   "execution_count": null,
   "metadata": {
    "collapsed": true,
    "scrolled": true
   },
   "outputs": [],
   "source": [
    "k=0 # PRZEANALIZOWAĆ 0 I 1\n",
    "order = np.argsort(np.abs(pca.components_[k,:]))\n",
    "print(pca.components_[k,:][order])\n",
    "dane.columns[order]"
   ]
  },
  {
   "cell_type": "code",
   "execution_count": null,
   "metadata": {
    "collapsed": true
   },
   "outputs": [],
   "source": [
    "z = pca.transform(scale(dane))\n",
    "#print(z.shape)\n",
    "plt.scatter(z[:,0],z[:,1])\n",
    "for i in range(dane.shape[0]):\n",
    "    if z[i,0]**2+z[i,1]**2 > 12:\n",
    "        plt.annotate(dane.index[i],xy=(z[i,0],z[i,1]))\n",
    "plt.show()"
   ]
  },
  {
   "cell_type": "markdown",
   "metadata": {},
   "source": [
    "## Zastosowanie PCA w regresji liniowej\n",
    "\n",
    "Połączenie regresji liniowej z PCA jest nazywane PCR"
   ]
  },
  {
   "cell_type": "markdown",
   "metadata": {},
   "source": [
    "### 1. Dane longley: https://www.datarobot.com/blog/ordinary-least-squares-in-python/"
   ]
  },
  {
   "cell_type": "code",
   "execution_count": null,
   "metadata": {
    "collapsed": true
   },
   "outputs": [],
   "source": [
    "df = pd.read_csv('http://vincentarelbundock.github.io/Rdatasets/csv/datasets/longley.csv', index_col=0)\n",
    "df.head()"
   ]
  },
  {
   "cell_type": "code",
   "execution_count": null,
   "metadata": {
    "collapsed": true
   },
   "outputs": [],
   "source": [
    "df.shape"
   ]
  },
  {
   "cell_type": "code",
   "execution_count": null,
   "metadata": {
    "collapsed": true,
    "scrolled": true
   },
   "outputs": [],
   "source": [
    "df.corr()"
   ]
  },
  {
   "cell_type": "code",
   "execution_count": null,
   "metadata": {
    "collapsed": true
   },
   "outputs": [],
   "source": [
    "from sklearn.linear_model import LinearRegression\n",
    "from sklearn.model_selection import cross_val_score\n",
    "\n",
    "X = df.iloc[:,[0,1,2,3,4]]\n",
    "Y = df.iloc[:,-1]\n",
    "\n",
    "lm = LinearRegression()\n",
    "np.mean(cross_val_score(lm,X,Y,scoring='neg_mean_squared_error',cv=X.shape[0]))"
   ]
  },
  {
   "cell_type": "code",
   "execution_count": null,
   "metadata": {
    "collapsed": true
   },
   "outputs": [],
   "source": [
    "pca = PCA()\n",
    "pca.fit(X)\n",
    "plt.bar(range(pca.n_components_),pca.explained_variance_ratio_)\n",
    "plt.show()"
   ]
  },
  {
   "cell_type": "code",
   "execution_count": null,
   "metadata": {
    "collapsed": true
   },
   "outputs": [],
   "source": [
    "from sklearn.preprocessing import StandardScaler\n",
    "from sklearn.pipeline import Pipeline\n",
    "\n",
    "estimators = []\n",
    "estimators.append(('standardize', StandardScaler()))\n",
    "estimators.append(('pca', PCA(3)))\n",
    "estimators.append(('lm', LinearRegression()))\n",
    "sc_pca_lm = Pipeline(estimators)\n",
    "\n",
    "np.mean(cross_val_score(sc_pca_lm,X,Y,scoring='neg_mean_squared_error',cv=X.shape[0]))"
   ]
  },
  {
   "cell_type": "markdown",
   "metadata": {},
   "source": [
    "PCA pomogło - błąd jest mniejszy"
   ]
  },
  {
   "cell_type": "markdown",
   "metadata": {},
   "source": [
    "## Zadanie: użyć PCA do budowy modelu regresji na danych yarn (p>n) i porównać z regresją lasso"
   ]
  },
  {
   "cell_type": "code",
   "execution_count": null,
   "metadata": {
    "collapsed": true
   },
   "outputs": [],
   "source": [
    "df = pd.read_csv(\"../Dane/yarn.txt\",sep=\" \",index_col=0)\n",
    "print(df.shape)\n",
    "df.head().iloc[:,-5:]"
   ]
  },
  {
   "cell_type": "markdown",
   "metadata": {},
   "source": [
    "LM + PCA"
   ]
  },
  {
   "cell_type": "code",
   "execution_count": null,
   "metadata": {
    "collapsed": true
   },
   "outputs": [],
   "source": [
    "from sklearn.model_selection import KFold, GridSearchCV\n",
    "from sklearn.linear_model import LinearRegression, Lasso\n",
    "\n",
    "X = df.iloc[:,:-2]\n",
    "Y = df.iloc[:,-2]\n",
    "\n",
    "estimators = []\n",
    "estimators.append(('standardize', StandardScaler()))\n",
    "estimators.append(('pca', PCA()))\n",
    "estimators.append(('lm', LinearRegression()))\n",
    "sc_pca_lm = Pipeline(estimators)\n",
    "\n",
    "s = GridSearchCV(sc_pca_lm,{\"pca__n_components\":range(3,26)},scoring='neg_mean_squared_error',cv=X.shape[0],)\n",
    "s.fit(X,Y)\n",
    "#print(s.cv_results_)\n",
    "plt.plot(range(3,26),s.cv_results_['mean_test_score'])\n",
    "plt.show() # widzimy, że 10 składowych daje rade"
   ]
  },
  {
   "cell_type": "code",
   "execution_count": null,
   "metadata": {
    "collapsed": true
   },
   "outputs": [],
   "source": [
    "s.best_score_"
   ]
  },
  {
   "cell_type": "markdown",
   "metadata": {},
   "source": [
    "LASSO:"
   ]
  },
  {
   "cell_type": "code",
   "execution_count": null,
   "metadata": {
    "collapsed": true
   },
   "outputs": [],
   "source": [
    "estimators = []\n",
    "estimators.append(('standardize', StandardScaler()))\n",
    "estimators.append(('las', Lasso()))\n",
    "sc_pca_lm = Pipeline(estimators)\n",
    "\n",
    "s = GridSearchCV(sc_pca_lm,{\"las__alpha\":np.linspace(start=0.001,stop=0.1,num=10)},scoring='neg_mean_squared_error',cv=X.shape[0])\n",
    "s.fit(X,Y)\n",
    "#print(s.cv_results_)\n",
    "plt.plot(np.linspace(start=0.001,stop=0.1,num=10),s.cv_results_['mean_test_score'])\n",
    "plt.show() # widzimy, że 10 składowych daje rade"
   ]
  },
  {
   "cell_type": "code",
   "execution_count": null,
   "metadata": {
    "collapsed": true
   },
   "outputs": [],
   "source": [
    "s.best_score_"
   ]
  },
  {
   "cell_type": "markdown",
   "metadata": {},
   "source": [
    "PCA lepiej.\n",
    "\n",
    "Uwaga: PCA nie zawsze musi pomóc, a nawet może zaszkodzić. Bo cenne informacje mogą być ukryte tam gdzie wariancja jest mała. W praktyce zawsze trzeba po prostu testować różne rozwiązania!"
   ]
  },
  {
   "cell_type": "markdown",
   "metadata": {
    "collapsed": true
   },
   "source": [
    "### Źródła i materiały\n",
    "\n",
    "\n",
    "http://scikit-learn.org/stable/auto_examples/decomposition/plot_faces_decomposition.html#sphx-glr-auto-examples-decomposition-plot-faces-decomposition-py\n",
    "\n",
    "\n",
    "http://www.ams.org/samplings/feature-column/fcarc-svd\n",
    "\n",
    "https://bugra.github.io/work/notes/2014-11-16/an-introduction-to-unsupervised-learning-scikit-learn/\n",
    "\n",
    " https://alyssaq.github.io/2015/singular-value-decomposition-visualisation/"
   ]
  },
  {
   "cell_type": "markdown",
   "metadata": {
    "collapsed": true
   },
   "source": [
    "Przykład pokazujący dlaczego PCA może zaszkodzić:\n",
    "\n",
    "https://blog.drskippy.com/2012/05/14/dimension-reduction-for-machine-learning-simple-example-of-svd-pca-pathology/"
   ]
  },
  {
   "cell_type": "code",
   "execution_count": null,
   "metadata": {
    "collapsed": true
   },
   "outputs": [],
   "source": []
  }
 ],
 "metadata": {
  "kernelspec": {
   "display_name": "py3",
   "language": "python",
   "name": "py3"
  },
  "language_info": {
   "codemirror_mode": {
    "name": "ipython",
    "version": 3
   },
   "file_extension": ".py",
   "mimetype": "text/x-python",
   "name": "python",
   "nbconvert_exporter": "python",
   "pygments_lexer": "ipython3",
   "version": "3.5.2"
  }
 },
 "nbformat": 4,
 "nbformat_minor": 1
}
