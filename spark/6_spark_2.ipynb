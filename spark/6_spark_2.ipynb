{
 "cells": [
  {
   "cell_type": "markdown",
   "metadata": {},
   "source": [
    "![](imgs/kodolamaczlogo.png)\n",
    "\n",
    "# Przetwarzanie Big Data z użyciem Apache Spark\n",
    "\n",
    "Autor notebooka: Jakub Nowacki.\n",
    "\n",
    "## Spark 2.0\n",
    "\n",
    "Spark 2.0 wprowadził wiele optymalizacji związanych z prędkością działania; zobacz [wpis na blogu Databricks](https://databricks.com/blog/2016/07/26/introducing-apache-spark-2-0.html). \n",
    "\n",
    "Uporządkowane zostało równierz nieco API. Historycznie było wiele różnych obiektów do sterowania zadaniem: `SparkContext`, `SQLContext` czy `HiveContext`. W wersji Spark 2.0 zostały one wszystkie sprowadzone do obiektu `SparkSession`. Teraz zadania uruchamia się następująco:"
   ]
  },
  {
   "cell_type": "code",
   "execution_count": 1,
   "metadata": {
    "collapsed": true
   },
   "outputs": [],
   "source": [
    "import findspark\n",
    "findspark.init()"
   ]
  },
  {
   "cell_type": "code",
   "execution_count": 2,
   "metadata": {
    "collapsed": true
   },
   "outputs": [],
   "source": [
    "import pyspark\n",
    "import pyspark.sql.functions as func\n",
    "\n",
    "spark = pyspark.sql.SparkSession.builder \\\n",
    "    .appName('spark_2_test') \\\n",
    "    .master('local[2]') \\\n",
    "    .enableHiveSupport() \\\n",
    "    .getOrCreate()"
   ]
  },
  {
   "cell_type": "code",
   "execution_count": 3,
   "metadata": {
    "collapsed": false
   },
   "outputs": [
    {
     "name": "stdout",
     "output_type": "stream",
     "text": [
      "root\n",
      " |-- value: string (nullable = true)\n",
      "\n",
      "+--------------------+\n",
      "|               value|\n",
      "+--------------------+\n",
      "|                    |\n",
      "|This Etext file i...|\n",
      "|cooperation with ...|\n",
      "|Future and Shakes...|\n",
      "|Etexts that are N...|\n",
      "|                    |\n",
      "|*This Etext has c...|\n",
      "|                    |\n",
      "|<<THIS ELECTRONIC...|\n",
      "|SHAKESPEARE IS CO...|\n",
      "|PROVIDED BY PROJE...|\n",
      "|MACHINE READABLE ...|\n",
      "|(1) ARE FOR YOUR ...|\n",
      "|DISTRIBUTED OR US...|\n",
      "|DISTRIBUTION INCL...|\n",
      "|TIME OR FOR MEMBE...|\n",
      "|                    |\n",
      "|*Project Gutenber...|\n",
      "|in the presentati...|\n",
      "|for your reading ...|\n",
      "+--------------------+\n",
      "only showing top 20 rows\n",
      "\n"
     ]
    },
    {
     "data": {
      "text/plain": [
       "DataFrame[value: string]"
      ]
     },
     "execution_count": 3,
     "metadata": {},
     "output_type": "execute_result"
    }
   ],
   "source": [
    "lines = spark.read.text('data/titus_andronicus.txt')\n",
    "lines.printSchema()\n",
    "lines.show()\n",
    "lines"
   ]
  },
  {
   "cell_type": "code",
   "execution_count": 4,
   "metadata": {
    "collapsed": false
   },
   "outputs": [
    {
     "name": "stdout",
     "output_type": "stream",
     "text": [
      "+-----------+\n",
      "|      words|\n",
      "+-----------+\n",
      "|           |\n",
      "|       This|\n",
      "|      Etext|\n",
      "|       file|\n",
      "|         is|\n",
      "|  presented|\n",
      "|         by|\n",
      "|    Project|\n",
      "|  Gutenberg|\n",
      "|         in|\n",
      "|cooperation|\n",
      "|       with|\n",
      "|      World|\n",
      "|    Library|\n",
      "|        Inc|\n",
      "|       from|\n",
      "|      their|\n",
      "|    Library|\n",
      "|         of|\n",
      "|        the|\n",
      "+-----------+\n",
      "only showing top 20 rows\n",
      "\n"
     ]
    }
   ],
   "source": [
    "words = lines.select(func.explode(func.split(lines.value, '\\W+')).alias('words')) \n",
    "words.show()"
   ]
  },
  {
   "cell_type": "code",
   "execution_count": 5,
   "metadata": {
    "collapsed": false
   },
   "outputs": [
    {
     "name": "stdout",
     "output_type": "stream",
     "text": [
      "+-----------+-----+\n",
      "|      words|count|\n",
      "+-----------+-----+\n",
      "|       AWAY|    1|\n",
      "|         By|   16|\n",
      "|      those|    8|\n",
      "|irreligious|    2|\n",
      "|       hope|    9|\n",
      "|      Aside|   15|\n",
      "|      crest|    1|\n",
      "|        art|   21|\n",
      "|ingratitude|    2|\n",
      "|       some|   32|\n",
      "|        Sit|    2|\n",
      "|       Goth|    4|\n",
      "|     distil|    1|\n",
      "|      still|    7|\n",
      "|     ransom|    2|\n",
      "|        fog|    1|\n",
      "|     poetry|    1|\n",
      "|     Heaven|    1|\n",
      "|    blossom|    1|\n",
      "|      Virgo|    1|\n",
      "+-----------+-----+\n",
      "only showing top 20 rows\n",
      "\n"
     ]
    }
   ],
   "source": [
    "counts = words.groupBy('words').count()\n",
    "counts.show()"
   ]
  },
  {
   "cell_type": "markdown",
   "metadata": {},
   "source": [
    "### Zadanie\n",
    "\n",
    "Używając interfejsu i funkcji DataFrame lub SQL:\n",
    "\n",
    "1. Popraw jakość danych wejściowych i prezentację wyników\n",
    "1. Podaj liczność wyrazów zaczynających się od litery *t*\n",
    "1. ★ Wykonaj mapowanie używając Pythonowej funkcji długości `len` do obliczenia średniej długości wyrazu *(nie zalecane w praktyce)*"
   ]
  },
  {
   "cell_type": "code",
   "execution_count": null,
   "metadata": {
    "collapsed": true
   },
   "outputs": [],
   "source": [
    "words.select(func.lower())"
   ]
  },
  {
   "cell_type": "code",
   "execution_count": 12,
   "metadata": {
    "collapsed": false
   },
   "outputs": [
    {
     "name": "stdout",
     "output_type": "stream",
     "text": [
      "+-----------+-----+------------------+\n",
      "|words_lower|count|          variants|\n",
      "+-----------+-----+------------------+\n",
      "|        and|  905|   [and, And, AND]|\n",
      "|        the|  740|   [the, The, THE]|\n",
      "|         to|  541|      [TO, To, to]|\n",
      "|          i|  442|               [I]|\n",
      "|         of|  402|      [Of, of, OF]|\n",
      "|         my|  325|          [my, My]|\n",
      "|          a|  320|            [a, A]|\n",
      "|       that|  300|[THAT, that, That]|\n",
      "|         in|  288|          [In, in]|\n",
      "|       with|  284|[with, WITH, With]|\n",
      "|        for|  262|   [for, For, FOR]|\n",
      "|        you|  261|   [YOU, you, You]|\n",
      "|       this|  248|[this, This, THIS]|\n",
      "|          d|  232|               [d]|\n",
      "|        thy|  207|        [Thy, thy]|\n",
      "|         is|  200|      [is, IS, Is]|\n",
      "|          s|  197|               [s]|\n",
      "|      titus|  196|    [Titus, TITUS]|\n",
      "|         me|  195|              [me]|\n",
      "|        not|  187|   [NOT, not, Not]|\n",
      "+-----------+-----+------------------+\n",
      "only showing top 20 rows\n",
      "\n"
     ]
    }
   ],
   "source": [
    "words.where(func.length('words') > 0) \\\n",
    "    .withColumn('words_lower', func.lower(words['words'])) \\\n",
    "    .groupBy('words_lower') \\\n",
    "    .agg(func.count('*').alias('count'), \n",
    "         func.collect_set('words').alias('variants')) \\\n",
    "    .orderBy('count', ascending=False) \\\n",
    "    .show()"
   ]
  },
  {
   "cell_type": "markdown",
   "metadata": {},
   "source": [
    "## Co ze Spark Context?\n",
    "\n",
    "W razie potrzeby nadal jest dostępny w sesji Spark:"
   ]
  },
  {
   "cell_type": "code",
   "execution_count": null,
   "metadata": {
    "collapsed": true
   },
   "outputs": [],
   "source": [
    "spark.sparkContext"
   ]
  },
  {
   "cell_type": "markdown",
   "metadata": {},
   "source": [
    "Oczywiście dalej mamy też nadal dostępne RDD:"
   ]
  },
  {
   "cell_type": "code",
   "execution_count": null,
   "metadata": {
    "collapsed": true
   },
   "outputs": [],
   "source": [
    "words.rdd.take(10)"
   ]
  },
  {
   "cell_type": "markdown",
   "metadata": {},
   "source": [
    "## Nowe formaty plików\n",
    "\n",
    "Jedyną zmianą jest wprowadzenie formatu *CSV* jako wbudowanego; prezentowany powyżej format *text* jest dostępny od wersji 1.6."
   ]
  },
  {
   "cell_type": "code",
   "execution_count": 13,
   "metadata": {
    "collapsed": false,
    "scrolled": false
   },
   "outputs": [
    {
     "name": "stdout",
     "output_type": "stream",
     "text": [
      "root\n",
      " |-- _c0: string (nullable = true)\n",
      " |-- _c1: string (nullable = true)\n",
      " |-- _c2: string (nullable = true)\n",
      " |-- _c3: string (nullable = true)\n",
      " |-- _c4: string (nullable = true)\n",
      " |-- _c5: string (nullable = true)\n",
      " |-- _c6: string (nullable = true)\n",
      " |-- _c7: string (nullable = true)\n",
      " |-- _c8: string (nullable = true)\n",
      " |-- _c9: string (nullable = true)\n",
      " |-- _c10: string (nullable = true)\n",
      " |-- _c11: string (nullable = true)\n",
      " |-- _c12: string (nullable = true)\n",
      " |-- _c13: string (nullable = true)\n",
      " |-- _c14: string (nullable = true)\n",
      " |-- _c15: string (nullable = true)\n",
      " |-- _c16: string (nullable = true)\n",
      " |-- _c17: string (nullable = true)\n",
      " |-- _c18: string (nullable = true)\n",
      " |-- _c19: string (nullable = true)\n",
      " |-- _c20: string (nullable = true)\n",
      "\n",
      "+---+--------------------+--------------------+---+----+---+---+---+--------------------+------------+-----+----+----+----+-----+-----+----+---------+----+--------+----------+\n",
      "|_c0|                 _c1|                 _c2|_c3| _c4|_c5|_c6|_c7|                 _c8|         _c9| _c10|_c11|_c12|_c13| _c14| _c15|_c16|     _c17|_c18|    _c19|      _c20|\n",
      "+---+--------------------+--------------------+---+----+---+---+---+--------------------+------------+-----+----+----+----+-----+-----+----+---------+----+--------+----------+\n",
      "|  2|BATHGATE         ...|01  ONE FAMILY HO...|  1|3028| 25|   | A5| 412 EAST 179TH S...|            |10457|   1|   0|   1|1 842|2 048|1901|       1 | A5 |$355 000|  7/8/2013|\n",
      "|  2|BATHGATE         ...|01  ONE FAMILY HO...|  1|3039| 28|   | A1| 2329 WASHINGTON ...|            |10458|   1|   0|   1|1 103|1 290|1910|       1 | A1 |$474 819| 5/20/2013|\n",
      "|  2|BATHGATE         ...|01  ONE FAMILY HO...|  1|3046| 39|   | A1| 2075 BATHGATE AV...|            |10457|   1|   0|   1|1 986|1 344|1899|       1 | A1 |$210 000| 3/12/2013|\n",
      "|  2|BATHGATE         ...|01  ONE FAMILY HO...|  1|3046| 52|   | A1| 2047 BATHGATE AV...|            |10457|   1|   0|   1|2 329|1 431|1901|       1 | A1 |$343 116|  7/1/2013|\n",
      "|  2|BATHGATE         ...|02  TWO FAMILY HO...|  1|2900| 61|   | S2| 406 EAST TREMONT...|            |10457|   2|   1|   3|1 855|4 452|1931|       1 | S2 |      $0| 8/31/2012|\n",
      "|  2|BATHGATE         ...|02  TWO FAMILY HO...|  1|2912|158|   | B1| 505 EAST 171ST S...|            |10457|   2|   0|   2|2 000|2 400|1993|       1 | B1 |$316 500|12/27/2012|\n",
      "|  2|BATHGATE         ...|02  TWO FAMILY HO...|  1|2929|117|   | B1| 3860 3 AVENUE   ...|            |10457|   2|   0|   2|2 498|2 394|1995|       1 | B1 |$390 000| 6/24/2013|\n",
      "|  2|BATHGATE         ...|02  TWO FAMILY HO...|  1|3030| 60|   | B3| 4469 PARK AVENUE...|            |10457|   2|   0|   2|1 542|1 542|1899|       1 | B3 |$207 000| 6/27/2013|\n",
      "|  2|BATHGATE         ...|02  TWO FAMILY HO...|  1|3035| 27|   | B1| 454 EAST 179 STR...|            |10457|   2|   0|   2|1 819|2 340|1998|       1 | B1 |      $0|  7/1/2013|\n",
      "|  2|BATHGATE         ...|02  TWO FAMILY HO...|  1|3039| 65|   | B2| 465 EAST 185 STR...|            |10458|   2|   0|   2|1 667|1 296|1910|       1 | B2 |$369 000|  3/7/2013|\n",
      "|  2|BATHGATE         ...|02  TWO FAMILY HO...|  1|3040|  5|   | S2| 4654-4656 PARK A...|            |10458|   2|   1|   3|5 000|5 881|1910|       1 | S2 |$308 000| 2/28/2013|\n",
      "|  2|BATHGATE         ...|02  TWO FAMILY HO...|  1|3046| 54|   | B2| 2043 BATHGATE AV...|            |10457|   2|   0|   2|2 483|1 512|1901|       1 | B2 |      $0|  1/9/2013|\n",
      "|  2|BATHGATE         ...|02  TWO FAMILY HO...|  1|3050| 85|   | B1| 2241 BATHGATE AV...|            |10457|   2|   0|   2|1 562|3 382|2004|       1 | B1 |$443 776|10/15/2012|\n",
      "|  2|BATHGATE         ...|02  TWO FAMILY HO...|  1|3052| 37|   | S2| 4557 3 AVENUE   ...|            |10458|   2|   1|   3|  885|2 655|1931|       1 | S2 |      $0| 5/14/2013|\n",
      "|  2|BATHGATE         ...|03  THREE FAMILY ...|  1|3036| 33|   | C0| 2091 WASHINGTON ...|            |10457|   3|   0|   3|2 022|3 854|1899|       1 | C0 |      $0| 6/27/2013|\n",
      "|  2|BATHGATE         ...|03  THREE FAMILY ...|  1|3037| 37|   | C0| 4418 PARK AVENUE...|            |10457|   3|   0|   3|3 525|3 290|1899|         | C0 |$440 000| 2/15/2013|\n",
      "|  2|BATHGATE         ...|03  THREE FAMILY ...|  1|3038|125|   | C0| 468 EAST 183 STR...|            |10458|   3|   0|   3|1 216|2 916|2004|       1 | C0 |$662 115| 1/15/2013|\n",
      "|  2|BATHGATE         ...|03  THREE FAMILY ...|  1|3041| 11|   | C0| 452 CYRUS PLACE ...|            |10458|   3|   0|   3|3 742|2 280|1910|       1 | C0 |      $0| 7/25/2013|\n",
      "|  2|BATHGATE         ...|03  THREE FAMILY ...|  1|3050|  1|   | C0| 2186 WASHINGTON ...|            |10457|   3|   0|   3|1 505|2 640|1901|       1 | C0 |$460 000| 5/10/2013|\n",
      "|  2|BATHGATE         ...|03  THREE FAMILY ...|  1|3050|  1|   | C0| 2186 WASHINGTON ...|            |10457|   3|   0|   3|1 505|2 640|1901|       1 | C0 |$190 000| 8/27/2012|\n",
      "+---+--------------------+--------------------+---+----+---+---+---+--------------------+------------+-----+----+----+----+-----+-----+----+---------+----+--------+----------+\n",
      "only showing top 20 rows\n",
      "\n"
     ]
    }
   ],
   "source": [
    "csv = spark.read.csv('data/rollingsales_bronx.csv')\n",
    "csv.printSchema()\n",
    "csv.show()"
   ]
  },
  {
   "cell_type": "code",
   "execution_count": 23,
   "metadata": {
    "collapsed": false
   },
   "outputs": [
    {
     "name": "stdout",
     "output_type": "stream",
     "text": [
      "+--------+--------------------+--------+---------+----+-----+\n",
      "|    hood|                type|landArea|grossArea|year|price|\n",
      "+--------+--------------------+--------+---------+----+-----+\n",
      "|BATHGATE|01  ONE FAMILY HOMES|    null|     null|1901| null|\n",
      "|BATHGATE|01  ONE FAMILY HOMES|    null|     null|1910| null|\n",
      "|BATHGATE|01  ONE FAMILY HOMES|    null|     null|1899| null|\n",
      "|BATHGATE|01  ONE FAMILY HOMES|    null|     null|1901| null|\n",
      "|BATHGATE|02  TWO FAMILY HOMES|    null|     null|1931| null|\n",
      "|BATHGATE|02  TWO FAMILY HOMES|    null|     null|1993| null|\n",
      "|BATHGATE|02  TWO FAMILY HOMES|    null|     null|1995| null|\n",
      "|BATHGATE|02  TWO FAMILY HOMES|    null|     null|1899| null|\n",
      "|BATHGATE|02  TWO FAMILY HOMES|    null|     null|1998| null|\n",
      "|BATHGATE|02  TWO FAMILY HOMES|    null|     null|1910| null|\n",
      "|BATHGATE|02  TWO FAMILY HOMES|    null|     null|1910| null|\n",
      "|BATHGATE|02  TWO FAMILY HOMES|    null|     null|1901| null|\n",
      "|BATHGATE|02  TWO FAMILY HOMES|    null|     null|2004| null|\n",
      "|BATHGATE|02  TWO FAMILY HOMES|     885|     null|1931| null|\n",
      "|BATHGATE|03  THREE FAMILY ...|    null|     null|1899| null|\n",
      "|BATHGATE|03  THREE FAMILY ...|    null|     null|1899| null|\n",
      "|BATHGATE|03  THREE FAMILY ...|    null|     null|2004| null|\n",
      "|BATHGATE|03  THREE FAMILY ...|    null|     null|1910| null|\n",
      "|BATHGATE|03  THREE FAMILY ...|    null|     null|1901| null|\n",
      "|BATHGATE|03  THREE FAMILY ...|    null|     null|1901| null|\n",
      "+--------+--------------------+--------+---------+----+-----+\n",
      "only showing top 20 rows\n",
      "\n"
     ]
    }
   ],
   "source": [
    "houses = csv.select(\n",
    "    func.trim(func.col('_c1')).alias('hood'), \n",
    "    func.trim(func.col('_c2')).alias('type'),\n",
    "    func.col('_c14').cast('int').alias('landArea'),\n",
    "    func.col('_c15').cast('int').alias('grossArea'),\n",
    "    func.col('_c16').cast('int').alias('year'),\n",
    "    func.col('_c19').cast('int').alias('price')\n",
    ")\n",
    "houses.show()"
   ]
  },
  {
   "cell_type": "markdown",
   "metadata": {},
   "source": [
    "### Zadanie\n",
    "\n",
    "Używając interfejsu i funkcji DataFrame lub SQL:\n",
    "\n",
    "1. Popraw żle odczytane wartości (*null*).\n",
    "1. Policz średnie wartości grupując po dzielnicy i typie.\n",
    "1. Zapisz wynik do pliku CSV."
   ]
  },
  {
   "cell_type": "code",
   "execution_count": 22,
   "metadata": {
    "collapsed": false,
    "scrolled": true
   },
   "outputs": [
    {
     "name": "stdout",
     "output_type": "stream",
     "text": [
      "+--------+--------------------+--------+---------+----+------+\n",
      "|    hood|                type|landArea|grossArea|year| price|\n",
      "+--------+--------------------+--------+---------+----+------+\n",
      "|BATHGATE|01  ONE FAMILY HOMES|    1842|     2048|1901|355000|\n",
      "|BATHGATE|01  ONE FAMILY HOMES|    1103|     1290|1910|474819|\n",
      "|BATHGATE|01  ONE FAMILY HOMES|    1986|     1344|1899|210000|\n",
      "|BATHGATE|01  ONE FAMILY HOMES|    2329|     1431|1901|343116|\n",
      "|BATHGATE|02  TWO FAMILY HOMES|    1855|     4452|1931|     0|\n",
      "|BATHGATE|02  TWO FAMILY HOMES|    2000|     2400|1993|316500|\n",
      "|BATHGATE|02  TWO FAMILY HOMES|    2498|     2394|1995|390000|\n",
      "|BATHGATE|02  TWO FAMILY HOMES|    1542|     1542|1899|207000|\n",
      "|BATHGATE|02  TWO FAMILY HOMES|    1819|     2340|1998|     0|\n",
      "|BATHGATE|02  TWO FAMILY HOMES|    1667|     1296|1910|369000|\n",
      "|BATHGATE|02  TWO FAMILY HOMES|    5000|     5881|1910|308000|\n",
      "|BATHGATE|02  TWO FAMILY HOMES|    2483|     1512|1901|     0|\n",
      "|BATHGATE|02  TWO FAMILY HOMES|    1562|     3382|2004|443776|\n",
      "|BATHGATE|02  TWO FAMILY HOMES|     885|     2655|1931|     0|\n",
      "|BATHGATE|03  THREE FAMILY ...|    2022|     3854|1899|     0|\n",
      "|BATHGATE|03  THREE FAMILY ...|    3525|     3290|1899|440000|\n",
      "|BATHGATE|03  THREE FAMILY ...|    1216|     2916|2004|662115|\n",
      "|BATHGATE|03  THREE FAMILY ...|    3742|     2280|1910|     0|\n",
      "|BATHGATE|03  THREE FAMILY ...|    1505|     2640|1901|460000|\n",
      "|BATHGATE|03  THREE FAMILY ...|    1505|     2640|1901|190000|\n",
      "+--------+--------------------+--------+---------+----+------+\n",
      "only showing top 20 rows\n",
      "\n"
     ]
    }
   ],
   "source": [
    "houses = csv.select(\n",
    "    func.trim(func.col('_c1')).alias('hood'), \n",
    "    func.trim(func.col('_c2')).alias('type'),\n",
    "    func.regexp_replace(func.col('_c14'), '[^0-9]', '').cast('int').alias('landArea'),\n",
    "    func.regexp_replace(func.col('_c15'), '[^0-9]', '').cast('int').alias('grossArea'),\n",
    "    func.col('_c16').cast('int').alias('year'),\n",
    "    func.regexp_replace(func.col('_c19'), '[^0-9]', '').cast('int').alias('price')\n",
    ")\n",
    "houses.show()"
   ]
  },
  {
   "cell_type": "code",
   "execution_count": 24,
   "metadata": {
    "collapsed": true
   },
   "outputs": [],
   "source": [
    "func.when?"
   ]
  },
  {
   "cell_type": "code",
   "execution_count": 26,
   "metadata": {
    "collapsed": false,
    "scrolled": true
   },
   "outputs": [
    {
     "name": "stdout",
     "output_type": "stream",
     "text": [
      "+--------------------+--------------------+-------------+--------------+------------------+----------+\n",
      "|                hood|                type|avg(landArea)|avg(grossArea)|         avg(year)|avg(price)|\n",
      "+--------------------+--------------------+-------------+--------------+------------------+----------+\n",
      "|CASTLE HILL/UNION...|31  COMMERCIAL VA...|         null|           0.0|               0.0|      null|\n",
      "|   MELROSE/CONCOURSE|02  TWO FAMILY HOMES|         null|          null|1932.5454545454545|      null|\n",
      "|             BELMONT|02  TWO FAMILY HOMES|         null|          null|1914.5652173913043|      null|\n",
      "|        COUNTRY CLUB|05  TAX CLASS 1 V...|         null|           0.0|               0.0|      null|\n",
      "|KINGSBRIDGE/JEROM...|07  RENTALS - WAL...|         null|          null|            1925.0|      null|\n",
      "|          BAYCHESTER|05  TAX CLASS 1 V...|         null|           0.0|             402.4|      null|\n",
      "|        CROTONA PARK|05  TAX CLASS 1 V...|         null|           0.0|               0.0|      null|\n",
      "|SCHUYLERVILLE/PEL...|13  CONDOS - ELEV...|          0.0|           0.0|            1965.0|      null|\n",
      "|            BATHGATE|      30  WAREHOUSES|         null|          null|            1931.0|      null|\n",
      "|           FIELDSTON|08  RENTALS - ELE...|         null|          null|            1958.0|      null|\n",
      "|           BRONXDALE|02  TWO FAMILY HOMES|         null|          null|1944.9545454545455|      null|\n",
      "|          CO-OP CITY|01  ONE FAMILY HOMES|         null|          null|            1920.0|      null|\n",
      "| MORRISANIA/LONGWOOD|31  COMMERCIAL VA...|         null|           0.0|               0.0|      null|\n",
      "|         THROGS NECK|12  CONDOS - WALK...|          0.0|           0.0|            2000.0|      null|\n",
      "|      WILLIAMSBRIDGE| 22  STORE BUILDINGS|         null|          null|            1924.0|      null|\n",
      "|           BRONXDALE|03  THREE FAMILY ...|         null|          null|           1971.72|      null|\n",
      "|HIGHBRIDGE/MORRIS...|      30  WAREHOUSES|         null|          null|1949.6666666666667|      null|\n",
      "|      PELHAM GARDENS|01  ONE FAMILY HOMES|         null|          null| 1944.695652173913|      null|\n",
      "|         THROGS NECK|06  TAX CLASS 1 -...|         null|           0.0|            1936.0|      null|\n",
      "|          BAYCHESTER|02  TWO FAMILY HOMES|         null|           0.0|1961.0756302521008|      null|\n",
      "+--------------------+--------------------+-------------+--------------+------------------+----------+\n",
      "only showing top 20 rows\n",
      "\n"
     ]
    }
   ],
   "source": [
    "houses.groupBy('hood', 'type').avg().show()"
   ]
  },
  {
   "cell_type": "code",
   "execution_count": 28,
   "metadata": {
    "collapsed": false
   },
   "outputs": [
    {
     "name": "stdout",
     "output_type": "stream",
     "text": [
      "+--------------------+--------+----------+\n",
      "|                type|BATHGATE|BAYCHESTER|\n",
      "+--------------------+--------+----------+\n",
      "|32  HOSPITAL AND ...|    null|      null|\n",
      "|         17  CONDOPS|    null|      null|\n",
      "|02  TWO FAMILY HOMES|    null|      null|\n",
      "|03  THREE FAMILY ...|    null|      null|\n",
      "|05  TAX CLASS 1 V...|    null|      null|\n",
      "|15  CONDOS - 2-10...|    null|      null|\n",
      "|04  TAX CLASS 1 C...|    null|      null|\n",
      "|   11A CONDO-RENTALS|    null|      null|\n",
      "|21  OFFICE BUILDINGS|    null|      null|\n",
      "| 22  STORE BUILDINGS|    null|      null|\n",
      "|14  RENTALS - 4-1...|    null|      null|\n",
      "|13  CONDOS - ELEV...|    null|      null|\n",
      "|01  ONE FAMILY HOMES|    null|      null|\n",
      "|40  SELECTED GOVE...|    null|      null|\n",
      "|       27  FACTORIES|    null|      null|\n",
      "|33  EDUCATIONAL F...|    null|      null|\n",
      "|38  ASYLUMS AND H...|    null|      null|\n",
      "|08  RENTALS - ELE...|    null|      null|\n",
      "|36  OUTDOOR RECRE...|    null|      null|\n",
      "|09  COOPS - WALKU...|    null|      null|\n",
      "+--------------------+--------+----------+\n",
      "only showing top 20 rows\n",
      "\n"
     ]
    }
   ],
   "source": [
    "houses.groupBy('type').pivot('hood', ['BATHGATE','BAYCHESTER']).agg(func.avg('price')).show()"
   ]
  },
  {
   "cell_type": "markdown",
   "metadata": {},
   "source": [
    "## Podzapytania SQL\n",
    "\n",
    "Rozszeżony został również wachlarz dostępnych zapytań SQL, zwłaszcza użycie podzapytań, które pierwornie można było tylko uzywać z wyrażeniem `FROM`; zobacz [szczegóły na blogu Databricks](https://databricks.com/blog/2016/06/17/sql-subqueries-in-apache-spark-2-0.html). Zatem teraz można zrobić np takie zapytania:"
   ]
  },
  {
   "cell_type": "code",
   "execution_count": null,
   "metadata": {
    "collapsed": true
   },
   "outputs": [],
   "source": [
    "# tworzymy tymczasowy widok do zapytania SQL\n",
    "houses.createTempView('houses')"
   ]
  },
  {
   "cell_type": "code",
   "execution_count": null,
   "metadata": {
    "collapsed": true
   },
   "outputs": [],
   "source": [
    "spark.sql(\"\"\"\n",
    "SELECT * FROM houses \n",
    "WHERE year > (SELECT avg(year) FROM houses) \n",
    "\"\"\").show()"
   ]
  },
  {
   "cell_type": "code",
   "execution_count": null,
   "metadata": {
    "collapsed": true
   },
   "outputs": [],
   "source": [
    "spark.sql(\"\"\"\n",
    "SELECT * FROM houses \n",
    "WHERE hood IN \n",
    "    (SELECT hood FROM\n",
    "        (SELECT hood, avg(year) FROM houses GROUP BY hood ORDER BY avg(year) DESC LIMIT 5)\n",
    "    ) \n",
    "\"\"\").show()"
   ]
  },
  {
   "cell_type": "markdown",
   "metadata": {},
   "source": [
    "## Nowy dostęp do katalogu tabel\n",
    "\n",
    "SparkSession udostępnia równierz zały katalog tabel, który jest podobny do metastore w Hive; przy połączeniu z Hive pojawią się też tabele z Hive. Katalog jest dostępny bezpośrednio z sesji Spark:"
   ]
  },
  {
   "cell_type": "code",
   "execution_count": null,
   "metadata": {
    "collapsed": true
   },
   "outputs": [],
   "source": [
    "# naciśnij tab\n",
    "spark.catalog."
   ]
  },
  {
   "cell_type": "markdown",
   "metadata": {},
   "source": [
    "Dostępna jest lista tabel:"
   ]
  },
  {
   "cell_type": "code",
   "execution_count": null,
   "metadata": {
    "collapsed": true
   },
   "outputs": [],
   "source": [
    "spark.catalog.listTables()"
   ]
  },
  {
   "cell_type": "markdown",
   "metadata": {},
   "source": [
    "### Zadanie\n",
    "\n",
    "1. Zarejestruj DataFrame `counts` jako tymczasową tabelę; zobacz listę tabel.\n",
    "1. Usuń tabelę `counts`; zobacz listę tabel."
   ]
  },
  {
   "cell_type": "code",
   "execution_count": null,
   "metadata": {
    "collapsed": true
   },
   "outputs": [],
   "source": [
    "counts.createOrReplaceTempView('counts')\n",
    "spark.catalog.listTables()"
   ]
  },
  {
   "cell_type": "code",
   "execution_count": null,
   "metadata": {
    "collapsed": true
   },
   "outputs": [],
   "source": [
    "spark.catalog.dropTempView('words')\n",
    "spark.catalog.listTables()"
   ]
  },
  {
   "cell_type": "markdown",
   "metadata": {},
   "source": [
    "Dostępne sa też inne listy:"
   ]
  },
  {
   "cell_type": "code",
   "execution_count": null,
   "metadata": {
    "collapsed": true
   },
   "outputs": [],
   "source": [
    "print(\"Databases: \", spark.catalog.listDatabases())\n",
    "print(\"Functions: \", spark.catalog.listFunctions())"
   ]
  },
  {
   "cell_type": "markdown",
   "metadata": {},
   "source": [
    "Można też łatwiej zmienić bazę danych:"
   ]
  },
  {
   "cell_type": "code",
   "execution_count": null,
   "metadata": {
    "collapsed": true
   },
   "outputs": [],
   "source": [
    "# zmień na swój login\n",
    "spark.catalog.setCurrentDatabase('login') \n",
    "# poniższa funkcja tylko wypisuje obecną bazę danych\n",
    "spark.catalog.currentDatabase()"
   ]
  }
 ],
 "metadata": {
  "kernelspec": {
   "display_name": "Python 3",
   "language": "python",
   "name": "python3"
  },
  "language_info": {
   "codemirror_mode": {
    "name": "ipython",
    "version": 3
   },
   "file_extension": ".py",
   "mimetype": "text/x-python",
   "name": "python",
   "nbconvert_exporter": "python",
   "pygments_lexer": "ipython3",
   "version": "3.6.0"
  }
 },
 "nbformat": 4,
 "nbformat_minor": 1
}
