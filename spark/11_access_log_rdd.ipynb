{
 "cells": [
  {
   "cell_type": "markdown",
   "metadata": {},
   "source": [
    "![](imgs/kodolamaczlogo.png)\n",
    "\n",
    "# Przetwarzanie Big Data z użyciem Apache Spark\n",
    "\n",
    "Autor notebooka: Jakub Nowacki.\n",
    "\n",
    "\n",
    "## Spark Streaming - testy za pomocą RDD"
   ]
  },
  {
   "cell_type": "code",
   "execution_count": null,
   "metadata": {},
   "outputs": [],
   "source": [
    "import pyspark\n",
    "import pyspark.streaming\n",
    "\n",
    "# Lokalny kontekst Spark z 2 workerami agregujący dane z 1 sekundy.\n",
    "sc = pyspark.SparkContext(master=\"local[2]\", appName=\"AccessLogStreamAnalysis\")"
   ]
  },
  {
   "cell_type": "code",
   "execution_count": null,
   "metadata": {
    "collapsed": true
   },
   "outputs": [],
   "source": [
    "# Czytamy z pliku tekstowego do RDD\n",
    "lines = sc.textFile(\"data/access_log\")"
   ]
  },
  {
   "cell_type": "code",
   "execution_count": null,
   "metadata": {
    "collapsed": true
   },
   "outputs": [],
   "source": [
    "# Funkcja pomocnicza do czytania wierszy\n",
    "def get_row(line):\n",
    "    cols = line.split()\n",
    "    row = dict()\n",
    "    source = cols[0]\n",
    "    method = cols[5]\n",
    "    return (source, method)"
   ]
  },
  {
   "cell_type": "code",
   "execution_count": null,
   "metadata": {},
   "outputs": [],
   "source": [
    "# Czytanie wierszy\n",
    "rows = lines.map(lambda l: get_row(l))"
   ]
  },
  {
   "cell_type": "code",
   "execution_count": null,
   "metadata": {},
   "outputs": [],
   "source": [
    "# Liczenie wiersz\n",
    "count = rows.count()\n",
    "count"
   ]
  },
  {
   "cell_type": "code",
   "execution_count": null,
   "metadata": {},
   "outputs": [],
   "source": [
    "# Znajdowanie wszystkich metod w tej porcji loga\n",
    "grouped = rows.groupByKey()\n",
    "grouped.mapValues(lambda values: set(values)).take(5)"
   ]
  },
  {
   "cell_type": "markdown",
   "metadata": {
    "collapsed": true
   },
   "source": [
    "## Zadania\n",
    "\n",
    "* Zbadaj dane.\n",
    "* Wyczytaj inne wartości takie jak znacznik czasu czy ścieżkę.\n",
    "* Policz ilość rekordów dla jednego źródła.\n",
    "* ★ Policz metody dla jednego źródła.\n",
    "* ★ Policz rekordy dla 5s.\n",
    "\n",
    "Podpowiedź: dane ze strumienia są w pliku `data/access_log`."
   ]
  }
 ],
 "metadata": {
  "kernelspec": {
   "display_name": "Python 3",
   "language": "python",
   "name": "python3"
  },
  "language_info": {
   "codemirror_mode": {
    "name": "ipython",
    "version": 3
   },
   "file_extension": ".py",
   "mimetype": "text/x-python",
   "name": "python",
   "nbconvert_exporter": "python",
   "pygments_lexer": "ipython3",
   "version": "3.6.1"
  },
  "widgets": {
   "state": {},
   "version": "1.1.2"
  }
 },
 "nbformat": 4,
 "nbformat_minor": 1
}
