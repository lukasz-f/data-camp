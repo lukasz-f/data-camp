{
 "cells": [
  {
   "cell_type": "markdown",
   "metadata": {},
   "source": [
    "![](imgs/kodolamaczlogo.png)\n",
    "\n",
    "# Przetwarzanie Big Data z użyciem Apache Spark\n",
    "\n",
    "Autor notebooka: Jakub Nowacki.\n",
    "\n",
    "## Funkcje okienne w Spark\n",
    "\n",
    "Funkcje okienne (ang. window functions) w Spark zostały dodane w wersji 1.4, ale nadal są mniej znaną funkcją systemu; zobacz [wpis na blogu Databrics](https://databricks.com/blog/2015/07/15/introducing-window-functions-in-spark-sql.html) przybliżający te funkce. Ninejszy notebook przejdzie przez najważniejsze funkcje okienne dostępne w Spark.\n",
    "\n",
    "## Pobieranie danych\n",
    "\n",
    "Zestaw danych do tego ćwiczenia to dane udostępnione przez IBM i są to przykładowe dane sprzezażowe dostępne [tutaj](https://www.ibm.com/communities/analytics/watson-analytics-blog/sales-products-sample-data/). Poniższy kod pobierze dane automatycznie."
   ]
  },
  {
   "cell_type": "code",
   "execution_count": 1,
   "metadata": {
    "collapsed": true
   },
   "outputs": [],
   "source": [
    "import findspark\n",
    "findspark.init()"
   ]
  },
  {
   "cell_type": "code",
   "execution_count": 3,
   "metadata": {
    "collapsed": true
   },
   "outputs": [],
   "source": [
    "# IMDB dataset CERTIFICATE_VERIFY_FAILED exception workaround\n",
    "import requests\n",
    "requests.packages.urllib3.disable_warnings()\n",
    "import ssl\n",
    "\n",
    "try:\n",
    "    _create_unverified_https_context = ssl._create_unverified_context\n",
    "except AttributeError:\n",
    "    # Legacy Python that doesn't verify HTTPS certificates by default\n",
    "    pass\n",
    "else:\n",
    "    # Handle target environment that doesn't support HTTPS verification\n",
    "    ssl._create_default_https_context = _create_unverified_https_context"
   ]
  },
  {
   "cell_type": "code",
   "execution_count": 4,
   "metadata": {},
   "outputs": [],
   "source": [
    "import os\n",
    "import urllib.request\n",
    "\n",
    "if not os.path.exists('data'):\n",
    "    os.mkdir('data')\n",
    "\n",
    "url = 'https://community.watsonanalytics.com/wp-content/uploads/2015/08/WA_Sales_Products_2012-14.csv'    \n",
    "csv_file = 'data/WA_Sales_Products_2012-14.csv'\n",
    "\n",
    "urllib.request.urlretrieve(url, 'data/WA_Sales_Products_2012-14.csv');"
   ]
  },
  {
   "cell_type": "markdown",
   "metadata": {},
   "source": [
    "Inicjujemy sesje Spark jak zwykle."
   ]
  },
  {
   "cell_type": "code",
   "execution_count": 5,
   "metadata": {
    "collapsed": true
   },
   "outputs": [],
   "source": [
    "import pyspark\n",
    "import pyspark.sql.functions as func\n",
    "\n",
    "spark = pyspark.sql.SparkSession.builder\\\n",
    "    .appName('why_sql')\\\n",
    "    .getOrCreate()"
   ]
  },
  {
   "cell_type": "markdown",
   "metadata": {},
   "source": [
    "Dane są w formacie CSV, więc możemy użyć wbudowany czytnik CSV; dane są dość małe i dobrej jakości, więc możemy pozwolić sobie na automatyczne odkrycie schematu."
   ]
  },
  {
   "cell_type": "code",
   "execution_count": 6,
   "metadata": {},
   "outputs": [
    {
     "name": "stdout",
     "output_type": "stream",
     "text": [
      "root\n",
      " |-- Retailer country: string (nullable = true)\n",
      " |-- Order method type: string (nullable = true)\n",
      " |-- Retailer type: string (nullable = true)\n",
      " |-- Product line: string (nullable = true)\n",
      " |-- Product type: string (nullable = true)\n",
      " |-- Product: string (nullable = true)\n",
      " |-- Year: integer (nullable = true)\n",
      " |-- Quarter: string (nullable = true)\n",
      " |-- Revenue: double (nullable = true)\n",
      " |-- Quantity: integer (nullable = true)\n",
      " |-- Gross margin: double (nullable = true)\n",
      "\n",
      "+----------------+-----------------+-------------+--------------------+--------------------+--------------------+----+-------+---------+--------+------------+\n",
      "|Retailer country|Order method type|Retailer type|        Product line|        Product type|             Product|Year|Quarter|  Revenue|Quantity|Gross margin|\n",
      "+----------------+-----------------+-------------+--------------------+--------------------+--------------------+----+-------+---------+--------+------------+\n",
      "|   United States|              Fax|Outdoors Shop|   Camping Equipment|        Cooking Gear|TrailChef Deluxe ...|2012|Q1 2012| 59628.66|     489|  0.34754797|\n",
      "|   United States|              Fax|Outdoors Shop|   Camping Equipment|        Cooking Gear|TrailChef Double ...|2012|Q1 2012| 35950.32|     252|   0.4742745|\n",
      "|   United States|              Fax|Outdoors Shop|   Camping Equipment|               Tents|           Star Dome|2012|Q1 2012| 89940.48|     147|  0.35277197|\n",
      "|   United States|              Fax|Outdoors Shop|   Camping Equipment|               Tents|        Star Gazer 2|2012|Q1 2012|165883.41|     303|  0.28293788|\n",
      "|   United States|              Fax|Outdoors Shop|   Camping Equipment|       Sleeping Bags|     Hibernator Lite|2012|Q1 2012| 119822.2|    1415|  0.29145017|\n",
      "|   United States|              Fax|Outdoors Shop|   Camping Equipment|       Sleeping Bags|  Hibernator Extreme|2012|Q1 2012| 87728.96|     352|  0.39814629|\n",
      "|   United States|              Fax|Outdoors Shop|   Camping Equipment|       Sleeping Bags| Hibernator Camp Cot|2012|Q1 2012| 41837.46|     426|  0.33560737|\n",
      "|   United States|              Fax|Outdoors Shop|   Camping Equipment|            Lanterns|        Firefly Lite|2012|Q1 2012|  8268.41|     577|  0.52896022|\n",
      "|   United States|              Fax|Outdoors Shop|   Camping Equipment|            Lanterns|     Firefly Extreme|2012|Q1 2012|   9393.3|     189|  0.43420523|\n",
      "|   United States|              Fax|Outdoors Shop|   Camping Equipment|            Lanterns|     EverGlow Single|2012|Q1 2012|  19396.5|     579|  0.46149254|\n",
      "|   United States|              Fax|Outdoors Shop|   Camping Equipment|            Lanterns|     EverGlow Butane|2012|Q1 2012|  6940.03|     109|  0.36186587|\n",
      "|   United States|              Fax|Outdoors Shop|Mountaineering Eq...|                Rope|       Husky Rope 50|2012|Q1 2012|  20003.2|     133|  0.32905585|\n",
      "|   United States|              Fax|Outdoors Shop|Mountaineering Eq...|                Rope|       Husky Rope 60|2012|Q1 2012|  14109.4|      79|  0.29165733|\n",
      "|   United States|              Fax|Outdoors Shop|Mountaineering Eq...|                Rope|      Husky Rope 100|2012|Q1 2012| 73970.22|     227|  0.30126435|\n",
      "|   United States|              Fax|Outdoors Shop|Mountaineering Eq...|                Rope|      Husky Rope 200|2012|Q1 2012| 77288.64|     143|  0.31477575|\n",
      "|   United States|              Fax|Outdoors Shop|Mountaineering Eq...|              Safety|Granite Climbing ...|2012|Q1 2012| 62464.88|     898|  0.24468085|\n",
      "|   United States|              Fax|Outdoors Shop|Mountaineering Eq...|              Safety|       Husky Harness|2012|Q1 2012|  34154.9|     559|  0.28363339|\n",
      "|   United States|              Fax|Outdoors Shop|Mountaineering Eq...|              Safety|Husky Harness Ext...|2012|Q1 2012|  36396.8|     352|  0.47843327|\n",
      "|   United States|              Fax|Outdoors Shop|Mountaineering Eq...|              Safety|Granite Signal Mi...|2012|Q1 2012|  4074.84|     126|  0.51422387|\n",
      "|   United States|              Fax|Outdoors Shop|Mountaineering Eq...|Climbing Accessories|   Granite Carabiner|2012|Q1 2012| 15122.72|    4022|   0.4787234|\n",
      "+----------------+-----------------+-------------+--------------------+--------------------+--------------------+----+-------+---------+--------+------------+\n",
      "only showing top 20 rows\n",
      "\n"
     ]
    }
   ],
   "source": [
    "sales = spark.read.csv(csv_file, header=True, inferSchema=True)\n",
    "\n",
    "# This is needed for string queries, you don't need to do it using DF syntax\n",
    "sales.createTempView('sales') \n",
    "\n",
    "sales.printSchema()\n",
    "sales.show()"
   ]
  },
  {
   "cell_type": "markdown",
   "metadata": {},
   "source": [
    "## Czym są funkcje okienne?\n",
    "\n",
    "Spróbujmu znaleźć produkty o największym dochodzie (Reveniue)"
   ]
  },
  {
   "cell_type": "code",
   "execution_count": 7,
   "metadata": {},
   "outputs": [
    {
     "name": "stdout",
     "output_type": "stream",
     "text": [
      "+--------------------+--------------------+-------------+----+----------+\n",
      "|             Product|        Product line| Product type|Year|   Revenue|\n",
      "+--------------------+--------------------+-------------+----+----------+\n",
      "|Hailstorm Titaniu...|      Golf Equipment|        Woods|2014|1635687.96|\n",
      "|        Star Gazer 2|   Camping Equipment|        Tents|2014| 1486717.1|\n",
      "|           Star Lite|   Camping Equipment|        Tents|2013|1415141.91|\n",
      "|Hailstorm Titaniu...|      Golf Equipment|        Woods|2014| 1388659.5|\n",
      "|        Star Gazer 2|   Camping Equipment|        Tents|2013| 1335112.9|\n",
      "|        Star Gazer 2|   Camping Equipment|        Tents|2013| 1311874.3|\n",
      "|                Zone|Personal Accessories|      Eyewear|2013|1230450.95|\n",
      "|Hailstorm Titaniu...|      Golf Equipment|        Woods|2013|1226669.53|\n",
      "|           Star Lite|   Camping Equipment|        Tents|2012|1210413.68|\n",
      "|  Hibernator Extreme|   Camping Equipment|Sleeping Bags|2013|1199043.84|\n",
      "+--------------------+--------------------+-------------+----+----------+\n",
      "\n"
     ]
    }
   ],
   "source": [
    "sales.select('Product', 'Product line', 'Product type', 'Year', 'Revenue')\\\n",
    "    .orderBy(func.desc('Revenue'))\\\n",
    "    .limit(10)\\\n",
    "    .show()"
   ]
  },
  {
   "cell_type": "markdown",
   "metadata": {},
   "source": [
    "Ale danych jest więcej w zależności np od lini, typu lub roku.\n",
    "\n",
    "### Zadanie\n",
    "\n",
    "1. Znajdź ile jest i jakie są unikalne lini (Product line), typy (Product type) produkcji i lata raportu (Year)?\n",
    "1. Pogrupuj po tych elementach i zobacz jakie są zakresy dochodu.\n",
    "\n",
    "Jako, że zmiennych opisujących, które wpływają na dochód jest sporo, takie globalne sortowanie jest średnio informacyjne. Bardziej użyteczne jest np. grupowanie po latach. Jak zrobić zatem takie grupowanie aby dostać 3 najlepiej zarabiające produkty w danym roku? Możemy użyć funkcji okiennej `rank`."
   ]
  },
  {
   "cell_type": "code",
   "execution_count": 20,
   "metadata": {},
   "outputs": [
    {
     "name": "stdout",
     "output_type": "stream",
     "text": [
      "+------------------------+\n",
      "|Product line            |\n",
      "+------------------------+\n",
      "|Camping Equipment       |\n",
      "|Golf Equipment          |\n",
      "|Mountaineering Equipment|\n",
      "|Outdoor Protection      |\n",
      "|Personal Accessories    |\n",
      "+------------------------+\n",
      "\n"
     ]
    },
    {
     "data": {
      "text/plain": [
       "(5, None)"
      ]
     },
     "execution_count": 20,
     "metadata": {},
     "output_type": "execute_result"
    }
   ],
   "source": [
    "rows = sales.select('Product line').distinct()\n",
    "rows.count(), rows.show(truncate=False)"
   ]
  },
  {
   "cell_type": "code",
   "execution_count": 23,
   "metadata": {},
   "outputs": [
    {
     "name": "stdout",
     "output_type": "stream",
     "text": [
      "+--------------------+\n",
      "|        Product type|\n",
      "+--------------------+\n",
      "|             Eyewear|\n",
      "|          Navigation|\n",
      "|Climbing Accessories|\n",
      "|               Tents|\n",
      "|             Putters|\n",
      "|               Tools|\n",
      "|               Woods|\n",
      "|   Insect Repellents|\n",
      "|           First Aid|\n",
      "|               Packs|\n",
      "|          Binoculars|\n",
      "|            Lanterns|\n",
      "|        Cooking Gear|\n",
      "|              Safety|\n",
      "|             Watches|\n",
      "|                Rope|\n",
      "|               Irons|\n",
      "|       Sleeping Bags|\n",
      "|           Sunscreen|\n",
      "|              Knives|\n",
      "|    Golf Accessories|\n",
      "+--------------------+\n",
      "\n"
     ]
    },
    {
     "data": {
      "text/plain": [
       "(21, None)"
      ]
     },
     "execution_count": 23,
     "metadata": {},
     "output_type": "execute_result"
    }
   ],
   "source": [
    "rows = sales.select('Product type').distinct()\n",
    "rows.count(), rows.show(rows.count())"
   ]
  },
  {
   "cell_type": "code",
   "execution_count": 25,
   "metadata": {
    "scrolled": true
   },
   "outputs": [
    {
     "data": {
      "text/plain": [
       "(3,    Year\n",
       " 0  2013\n",
       " 1  2014\n",
       " 2  2012)"
      ]
     },
     "execution_count": 25,
     "metadata": {},
     "output_type": "execute_result"
    }
   ],
   "source": [
    "rows = sales.select('Year').distinct()\n",
    "rows.count(), rows.toPandas()"
   ]
  },
  {
   "cell_type": "code",
   "execution_count": 32,
   "metadata": {},
   "outputs": [
    {
     "name": "stdout",
     "output_type": "stream",
     "text": [
      "+--------------------+-------------------+------------+------------+\n",
      "|        Product line|count(Product line)|max(Revenue)|min(Revenue)|\n",
      "+--------------------+-------------------+------------+------------+\n",
      "|   Camping Equipment|              24866|   1486717.1|         0.0|\n",
      "|      Golf Equipment|               7764|  1635687.96|         0.0|\n",
      "|Mountaineering Eq...|               7943|    725496.0|         0.0|\n",
      "|  Outdoor Protection|               8620|   160956.39|         0.0|\n",
      "|Personal Accessories|              39282|  1230450.95|         0.0|\n",
      "+--------------------+-------------------+------------+------------+\n",
      "\n"
     ]
    }
   ],
   "source": [
    "sales.groupBy('Product line').agg(func.count('Product line'), func.max('Revenue'), func.min('Revenue')).show()"
   ]
  },
  {
   "cell_type": "code",
   "execution_count": 38,
   "metadata": {},
   "outputs": [
    {
     "name": "stdout",
     "output_type": "stream",
     "text": [
      "+--------------------+--------------------+-------------+----+----------+----+\n",
      "|             Product|        Product line| Product type|Year|   Revenue|Rank|\n",
      "+--------------------+--------------------+-------------+----+----------+----+\n",
      "|           Star Lite|   Camping Equipment|        Tents|2013|1415141.91|   1|\n",
      "|        Star Gazer 2|   Camping Equipment|        Tents|2013| 1335112.9|   2|\n",
      "|        Star Gazer 2|   Camping Equipment|        Tents|2013| 1311874.3|   3|\n",
      "|                Zone|Personal Accessories|      Eyewear|2013|1230450.95|   4|\n",
      "|Hailstorm Titaniu...|      Golf Equipment|        Woods|2013|1226669.53|   5|\n",
      "|  Hibernator Extreme|   Camping Equipment|Sleeping Bags|2013|1199043.84|   6|\n",
      "|                Zone|Personal Accessories|      Eyewear|2013| 1118965.3|   7|\n",
      "|           Star Lite|   Camping Equipment|        Tents|2013|1052750.28|   8|\n",
      "|            Infinity|Personal Accessories|      Watches|2013|  973804.4|   9|\n",
      "|        Star Gazer 2|   Camping Equipment|        Tents|2013|  946696.3|  10|\n",
      "|                Zone|Personal Accessories|      Eyewear|2013| 932827.25|  11|\n",
      "|                Zone|Personal Accessories|      Eyewear|2013|  912360.3|  12|\n",
      "|Hailstorm Titaniu...|      Golf Equipment|        Woods|2013| 879081.84|  13|\n",
      "|               Retro|Personal Accessories|      Eyewear|2013|  848030.4|  14|\n",
      "|Hailstorm Titaniu...|      Golf Equipment|        Irons|2013| 838783.83|  15|\n",
      "|Hailstorm Titaniu...|      Golf Equipment|        Woods|2013| 819912.87|  16|\n",
      "|        Star Gazer 2|   Camping Equipment|        Tents|2013|  798965.2|  17|\n",
      "|                  TX|Personal Accessories|      Watches|2013|  789764.1|  18|\n",
      "|             Inferno|Personal Accessories|      Eyewear|2013| 789647.05|  19|\n",
      "|Hailstorm Titaniu...|      Golf Equipment|        Irons|2013|  788597.4|  20|\n",
      "+--------------------+--------------------+-------------+----+----------+----+\n",
      "only showing top 20 rows\n",
      "\n"
     ]
    }
   ],
   "source": [
    "w = pyspark.sql.Window\\\n",
    "    .partitionBy('Year')\\\n",
    "    .orderBy(func.desc('Revenue'))\n",
    "\n",
    "year_with_rank = sales.withColumn('rank', func.rank().over(w))\\\n",
    "    .select('Product', 'Product line', 'Product type', 'Year', 'Revenue', 'Rank')\n",
    "\n",
    "year_with_rank.show()"
   ]
  },
  {
   "cell_type": "code",
   "execution_count": 34,
   "metadata": {},
   "outputs": [
    {
     "name": "stdout",
     "output_type": "stream",
     "text": [
      "+--------------------+--------------------+------------+----+----------+----+\n",
      "|             Product|        Product line|Product type|Year|   Revenue|Rank|\n",
      "+--------------------+--------------------+------------+----+----------+----+\n",
      "|           Star Lite|   Camping Equipment|       Tents|2013|1415141.91|   1|\n",
      "|        Star Gazer 2|   Camping Equipment|       Tents|2013| 1335112.9|   2|\n",
      "|        Star Gazer 2|   Camping Equipment|       Tents|2013| 1311874.3|   3|\n",
      "|Hailstorm Titaniu...|      Golf Equipment|       Woods|2014|1635687.96|   1|\n",
      "|        Star Gazer 2|   Camping Equipment|       Tents|2014| 1486717.1|   2|\n",
      "|Hailstorm Titaniu...|      Golf Equipment|       Woods|2014| 1388659.5|   3|\n",
      "|           Star Lite|   Camping Equipment|       Tents|2012|1210413.68|   1|\n",
      "|                Zone|Personal Accessories|     Eyewear|2012| 1042285.0|   2|\n",
      "|                Zone|Personal Accessories|     Eyewear|2012| 1009957.9|   3|\n",
      "+--------------------+--------------------+------------+----+----------+----+\n",
      "\n"
     ]
    }
   ],
   "source": [
    "year_with_rank.where('Rank <= 3').show()"
   ]
  },
  {
   "cell_type": "markdown",
   "metadata": {},
   "source": [
    "## Zadanie\n",
    "\n",
    "1. Wykonaj tę samą funkcję `rank` ale dla innej columny.\n",
    "1. Wykonaj funkcję `rank` po kilku kolumnach.\n",
    "1. Usuń kolumnę `rank`.\n",
    "1. ★ Ile więcej zarobiły te produkty od średniej w danym roku?\n",
    "\n",
    "Można to samo zapisać w formie SQL jak poniżej. Funkcja `RANK` jest zreszą częścią standardu ANSI SQL 1999."
   ]
  },
  {
   "cell_type": "code",
   "execution_count": 39,
   "metadata": {
    "scrolled": true
   },
   "outputs": [
    {
     "name": "stdout",
     "output_type": "stream",
     "text": [
      "+--------------------+--------------------+------------+----+----------+----+\n",
      "|             Product|        Product line|Product type|Year|   Revenue|Rank|\n",
      "+--------------------+--------------------+------------+----+----------+----+\n",
      "|           Star Lite|   Camping Equipment|       Tents|2013|1415141.91|   1|\n",
      "|        Star Gazer 2|   Camping Equipment|       Tents|2013| 1335112.9|   2|\n",
      "|        Star Gazer 2|   Camping Equipment|       Tents|2013| 1311874.3|   3|\n",
      "|Hailstorm Titaniu...|      Golf Equipment|       Woods|2014|1635687.96|   1|\n",
      "|        Star Gazer 2|   Camping Equipment|       Tents|2014| 1486717.1|   2|\n",
      "|Hailstorm Titaniu...|      Golf Equipment|       Woods|2014| 1388659.5|   3|\n",
      "|           Star Lite|   Camping Equipment|       Tents|2012|1210413.68|   1|\n",
      "|                Zone|Personal Accessories|     Eyewear|2012| 1042285.0|   2|\n",
      "|                Zone|Personal Accessories|     Eyewear|2012| 1009957.9|   3|\n",
      "+--------------------+--------------------+------------+----+----------+----+\n",
      "\n"
     ]
    }
   ],
   "source": [
    "query = \"\"\"\n",
    "SELECT \n",
    "    Product, \n",
    "    `Product line`,\n",
    "    `Product type`,\n",
    "    Year,\n",
    "    Revenue,\n",
    "    RANK() OVER(PARTITION BY Year ORDER BY Revenue DESC) AS Rank\n",
    "FROM sales\n",
    "HAVING Rank <= 3\n",
    "\"\"\"\n",
    "spark.sql(query).show()"
   ]
  },
  {
   "cell_type": "code",
   "execution_count": 41,
   "metadata": {},
   "outputs": [
    {
     "name": "stdout",
     "output_type": "stream",
     "text": [
      "+--------------------+--------------------+--------------------+----+---------+----+\n",
      "|             Product|        Product line|        Product type|Year|  Revenue|Rank|\n",
      "+--------------------+--------------------+--------------------+----+---------+----+\n",
      "|             Fairway|Personal Accessories|             Eyewear|2013|466774.75|   1|\n",
      "|             Fairway|Personal Accessories|             Eyewear|2013| 442932.9|   2|\n",
      "|             Fairway|Personal Accessories|             Eyewear|2013|426678.75|   3|\n",
      "|Firefly Rechargea...|Mountaineering Eq...|Climbing Accessories|2014|179899.04|   1|\n",
      "|Firefly Rechargea...|Mountaineering Eq...|Climbing Accessories|2014|166948.48|   2|\n",
      "|Firefly Rechargea...|Mountaineering Eq...|Climbing Accessories|2013|132374.32|   3|\n",
      "|TrailChef Deluxe ...|   Camping Equipment|        Cooking Gear|2014|429703.01|   1|\n",
      "|TrailChef Deluxe ...|   Camping Equipment|        Cooking Gear|2013|314852.65|   2|\n",
      "|TrailChef Deluxe ...|   Camping Equipment|        Cooking Gear|2012|287046.76|   3|\n",
      "|      Hibernator Pad|   Camping Equipment|       Sleeping Bags|2014|118768.82|   1|\n",
      "|      Hibernator Pad|   Camping Equipment|       Sleeping Bags|2013|117473.68|   2|\n",
      "|      Hibernator Pad|   Camping Equipment|       Sleeping Bags|2012|105096.51|   3|\n",
      "|Granite Signal Mi...|Mountaineering Eq...|              Safety|2014|  83028.0|   1|\n",
      "|Granite Signal Mi...|Mountaineering Eq...|              Safety|2014|  82569.3|   2|\n",
      "|Granite Signal Mi...|Mountaineering Eq...|              Safety|2013|  72204.0|   3|\n",
      "|Husky Harness Ext...|Mountaineering Eq...|              Safety|2014| 705479.5|   1|\n",
      "|Husky Harness Ext...|Mountaineering Eq...|              Safety|2014| 680713.0|   2|\n",
      "|Husky Harness Ext...|Mountaineering Eq...|              Safety|2013| 631702.5|   3|\n",
      "|           Sky Pilot|Personal Accessories|          Navigation|2013| 152866.0|   1|\n",
      "|           Sky Pilot|Personal Accessories|          Navigation|2013| 146780.0|   2|\n",
      "+--------------------+--------------------+--------------------+----+---------+----+\n",
      "only showing top 20 rows\n",
      "\n"
     ]
    }
   ],
   "source": [
    "w = pyspark.sql.Window\\\n",
    "    .partitionBy('Product')\\\n",
    "    .orderBy(func.desc('Revenue'))\n",
    "\n",
    "product_with_rank = sales.withColumn('rank', func.rank().over(w))\\\n",
    "    .select('Product', 'Product line', 'Product type', 'Year', 'Revenue', 'Rank')\n",
    "\n",
    "product_with_rank.where('Rank <= 3').show()"
   ]
  },
  {
   "cell_type": "code",
   "execution_count": 45,
   "metadata": {},
   "outputs": [
    {
     "name": "stdout",
     "output_type": "stream",
     "text": [
      "+-------------------+--------------------+--------------------+----+---------+----+\n",
      "|            Product|        Product line|        Product type|Year|  Revenue|Rank|\n",
      "+-------------------+--------------------+--------------------+----+---------+----+\n",
      "|          Seeker 50|Personal Accessories|          Binoculars|2014| 153134.8|   1|\n",
      "|          Seeker 50|Personal Accessories|          Binoculars|2014| 139885.2|   2|\n",
      "|        Trail Scout|Personal Accessories|          Navigation|2013| 170335.0|   1|\n",
      "|        Trail Scout|Personal Accessories|          Navigation|2012| 114954.0|   2|\n",
      "|       Trail Master|Personal Accessories|          Navigation|2012|  91750.0|   1|\n",
      "|       Trail Master|Personal Accessories|          Navigation|2012|  74095.0|   2|\n",
      "|  Granite Chalk Bag|Mountaineering Eq...|Climbing Accessories|2014| 66817.08|   1|\n",
      "|  Granite Chalk Bag|Mountaineering Eq...|Climbing Accessories|2014| 61670.16|   2|\n",
      "|         Sun Shield|  Outdoor Protection|           Sunscreen|2012| 38131.08|   1|\n",
      "|         Sun Shield|  Outdoor Protection|           Sunscreen|2012| 35102.76|   2|\n",
      "|Firefly Multi-light|   Camping Equipment|            Lanterns|2013|  47029.6|   1|\n",
      "|Firefly Multi-light|   Camping Equipment|            Lanterns|2014| 41973.67|   2|\n",
      "|          Bear Edge|Personal Accessories|              Knives|2013|138993.53|   1|\n",
      "|          Bear Edge|Personal Accessories|              Knives|2014| 80436.34|   2|\n",
      "| Bear Survival Edge|Personal Accessories|              Knives|2014|136517.76|   1|\n",
      "| Bear Survival Edge|Personal Accessories|              Knives|2013| 113040.4|   2|\n",
      "|          Polar Ice|Personal Accessories|             Eyewear|2014|  93212.0|   1|\n",
      "|          Polar Ice|Personal Accessories|             Eyewear|2014|  90225.5|   2|\n",
      "|Hibernator Camp Cot|   Camping Equipment|       Sleeping Bags|2014| 388602.9|   1|\n",
      "|Hibernator Camp Cot|   Camping Equipment|       Sleeping Bags|2013|252021.14|   2|\n",
      "+-------------------+--------------------+--------------------+----+---------+----+\n",
      "only showing top 20 rows\n",
      "\n"
     ]
    }
   ],
   "source": [
    "w = pyspark.sql.Window\\\n",
    "    .partitionBy(['Product', 'Product line'])\\\n",
    "    .orderBy(func.desc('Revenue'))\n",
    "\n",
    "multi_with_rank = sales.withColumn('rank', func.rank().over(w))\\\n",
    "    .select('Product', 'Product line', 'Product type', 'Year', 'Revenue', 'Rank')\n",
    "\n",
    "multi_with_rank.where('Rank <= 2').show()"
   ]
  },
  {
   "cell_type": "code",
   "execution_count": 50,
   "metadata": {},
   "outputs": [
    {
     "name": "stdout",
     "output_type": "stream",
     "text": [
      "+--------------------+--------------------+--------------------+----+---------+\n",
      "|             Product|        Product line|        Product type|Year|  Revenue|\n",
      "+--------------------+--------------------+--------------------+----+---------+\n",
      "|TrailChef Deluxe ...|   Camping Equipment|        Cooking Gear|2012| 59628.66|\n",
      "|TrailChef Double ...|   Camping Equipment|        Cooking Gear|2012| 35950.32|\n",
      "|           Star Dome|   Camping Equipment|               Tents|2012| 89940.48|\n",
      "|        Star Gazer 2|   Camping Equipment|               Tents|2012|165883.41|\n",
      "|     Hibernator Lite|   Camping Equipment|       Sleeping Bags|2012| 119822.2|\n",
      "|  Hibernator Extreme|   Camping Equipment|       Sleeping Bags|2012| 87728.96|\n",
      "| Hibernator Camp Cot|   Camping Equipment|       Sleeping Bags|2012| 41837.46|\n",
      "|        Firefly Lite|   Camping Equipment|            Lanterns|2012|  8268.41|\n",
      "|     Firefly Extreme|   Camping Equipment|            Lanterns|2012|   9393.3|\n",
      "|     EverGlow Single|   Camping Equipment|            Lanterns|2012|  19396.5|\n",
      "|     EverGlow Butane|   Camping Equipment|            Lanterns|2012|  6940.03|\n",
      "|       Husky Rope 50|Mountaineering Eq...|                Rope|2012|  20003.2|\n",
      "|       Husky Rope 60|Mountaineering Eq...|                Rope|2012|  14109.4|\n",
      "|      Husky Rope 100|Mountaineering Eq...|                Rope|2012| 73970.22|\n",
      "|      Husky Rope 200|Mountaineering Eq...|                Rope|2012| 77288.64|\n",
      "|Granite Climbing ...|Mountaineering Eq...|              Safety|2012| 62464.88|\n",
      "|       Husky Harness|Mountaineering Eq...|              Safety|2012|  34154.9|\n",
      "|Husky Harness Ext...|Mountaineering Eq...|              Safety|2012|  36396.8|\n",
      "|Granite Signal Mi...|Mountaineering Eq...|              Safety|2012|  4074.84|\n",
      "|   Granite Carabiner|Mountaineering Eq...|Climbing Accessories|2012| 15122.72|\n",
      "+--------------------+--------------------+--------------------+----+---------+\n",
      "only showing top 20 rows\n",
      "\n"
     ]
    }
   ],
   "source": [
    "w = pyspark.sql.Window\\\n",
    "    .partitionBy('Product', 'Product line')\\\n",
    "    .orderBy(func.desc('Revenue'))\n",
    "\n",
    "multi_with_rank = sales.withColumn('rank', func.rank().over(w))\\\n",
    "    .select('Product', 'Product line', 'Product type', 'Year', 'Revenue', 'Rank')\n",
    "\n",
    "multi_with_rank.drop('Rank').show()"
   ]
  },
  {
   "cell_type": "code",
   "execution_count": 57,
   "metadata": {},
   "outputs": [
    {
     "name": "stdout",
     "output_type": "stream",
     "text": [
      "+----+-----------------+---------+-------------------+\n",
      "|Year|  Avg Rev by Year|  Revenue|               Diff|\n",
      "+----+-----------------+---------+-------------------+\n",
      "|2013|45298.46170547772| 19418.52| -25879.94170547772|\n",
      "|2013|45298.46170547772| 42304.32|-2994.1417054777194|\n",
      "|2013|45298.46170547772| 52266.32|  6967.858294522281|\n",
      "|2013|45298.46170547772|  5211.64| -40086.82170547772|\n",
      "|2013|45298.46170547772| 51714.46|   6415.99829452228|\n",
      "|2013|45298.46170547772|112037.76|  66739.29829452228|\n",
      "|2013|45298.46170547772| 22786.56|-22511.901705477718|\n",
      "|2013|45298.46170547772| 12559.96| -32738.50170547772|\n",
      "|2013|45298.46170547772| 13101.88| -32196.58170547772|\n",
      "|2013|45298.46170547772|  3494.05|-41804.411705477716|\n",
      "|2013|45298.46170547772| 12967.05| -32331.41170547772|\n",
      "|2013|45298.46170547772|  32832.0|-12466.461705477719|\n",
      "|2013|45298.46170547772| 57900.38| 12601.918294522278|\n",
      "|2013|45298.46170547772|  43093.9|-2204.5617054777176|\n",
      "|2013|45298.46170547772|  22847.5| -22450.96170547772|\n",
      "|2013|45298.46170547772|  50264.5|  4966.038294522281|\n",
      "|2013|45298.46170547772|   7128.0| -38170.46170547772|\n",
      "|2013|45298.46170547772|  31832.6| -13465.86170547772|\n",
      "|2013|45298.46170547772|  45153.5|-144.96170547771908|\n",
      "|2013|45298.46170547772| 38481.84| -6816.621705477723|\n",
      "+----+-----------------+---------+-------------------+\n",
      "only showing top 20 rows\n",
      "\n"
     ]
    }
   ],
   "source": [
    "w = pyspark.sql.Window.partitionBy('Year')\n",
    "\n",
    "sales.withColumn('Avg Rev by Year', func.avg('Revenue').over(w)) \\\n",
    "    .select('Year', 'Avg Rev by Year', 'Revenue', (func.col('Revenue') - func.col('Avg Rev by Year')).alias('Diff')) \\\n",
    "    .show()"
   ]
  },
  {
   "cell_type": "markdown",
   "metadata": {},
   "source": [
    "Podobny efekt daje funkcja `dense_rank`."
   ]
  },
  {
   "cell_type": "code",
   "execution_count": 60,
   "metadata": {},
   "outputs": [
    {
     "name": "stdout",
     "output_type": "stream",
     "text": [
      "+------------+--------------------+------------+----+--------+----------+\n",
      "|     Product|        Product line|Product type|Year| Revenue|Dense rank|\n",
      "+------------+--------------------+------------+----+--------+----------+\n",
      "|   Polar Sun|Personal Accessories|     Eyewear|2012| 7015.34|         1|\n",
      "|   Polar Ice|Personal Accessories|     Eyewear|2012|  3825.8|         1|\n",
      "|       Capri|Personal Accessories|     Eyewear|2012| 10838.9|         1|\n",
      "|     Cat Eye|Personal Accessories|     Eyewear|2012| 4428.85|         1|\n",
      "|       Dante|Personal Accessories|     Eyewear|2012| 9759.75|         1|\n",
      "|     Fairway|Personal Accessories|     Eyewear|2012| 8241.35|         1|\n",
      "|     Inferno|Personal Accessories|     Eyewear|2012| 12935.0|         1|\n",
      "|     Maximus|Personal Accessories|     Eyewear|2012|  9325.0|         1|\n",
      "|      Trendi|Personal Accessories|     Eyewear|2012|  9104.3|         1|\n",
      "|        Zone|Personal Accessories|     Eyewear|2012|  4574.3|         1|\n",
      "|   Polar Sun|Personal Accessories|     Eyewear|2012| 25787.7|         1|\n",
      "|   Polar Ice|Personal Accessories|     Eyewear|2012| 20835.1|         1|\n",
      "|Polar Sports|Personal Accessories|     Eyewear|2012|10265.26|         1|\n",
      "|  Polar Wave|Personal Accessories|     Eyewear|2012| 5012.47|         1|\n",
      "|       Bella|Personal Accessories|     Eyewear|2012|  8977.5|         1|\n",
      "|       Capri|Personal Accessories|     Eyewear|2012| 40942.7|         1|\n",
      "|     Cat Eye|Personal Accessories|     Eyewear|2012| 29721.2|         1|\n",
      "|       Dante|Personal Accessories|     Eyewear|2012|41852.45|         1|\n",
      "|     Fairway|Personal Accessories|     Eyewear|2012|36209.55|         1|\n",
      "|     Inferno|Personal Accessories|     Eyewear|2012| 37830.0|         1|\n",
      "+------------+--------------------+------------+----+--------+----------+\n",
      "only showing top 20 rows\n",
      "\n"
     ]
    }
   ],
   "source": [
    "w = pyspark.sql.Window\\\n",
    "    .partitionBy('Product type')\\\n",
    "    .orderBy('Year')\n",
    "\n",
    "with_dense_rank = sales.withColumn('Dense rank', func.dense_rank().over(w))\\\n",
    "    .select('Product', 'Product line', 'Product type', 'Year', 'Revenue', 'Dense rank')\n",
    "\n",
    "with_dense_rank.show()"
   ]
  },
  {
   "cell_type": "code",
   "execution_count": 61,
   "metadata": {},
   "outputs": [
    {
     "name": "stdout",
     "output_type": "stream",
     "text": [
      "+----+------------------------+\n",
      "|year|first(Dense rank, false)|\n",
      "+----+------------------------+\n",
      "|2012|                       1|\n",
      "|2013|                       2|\n",
      "|2014|                       3|\n",
      "+----+------------------------+\n",
      "\n"
     ]
    }
   ],
   "source": [
    "with_dense_rank.groupBy('year')\\\n",
    "    .agg(func.first('Dense rank'))\\\n",
    "    .orderBy('Year')\\\n",
    "    .show()"
   ]
  },
  {
   "cell_type": "markdown",
   "metadata": {},
   "source": [
    "### Zadanie\n",
    "\n",
    "1. Zobacz co się stanie po zamianie `dense_rank` na `rank`?\n",
    "\n",
    "Jeżeli tylko potrzebny jest numer kolejnych elementów a nie ich ranga, można użyc funcji `row_number`."
   ]
  },
  {
   "cell_type": "code",
   "execution_count": 62,
   "metadata": {},
   "outputs": [
    {
     "name": "stdout",
     "output_type": "stream",
     "text": [
      "+------------+--------------------+------------+----+--------+---+\n",
      "|     Product|        Product line|Product type|Year| Revenue|Row|\n",
      "+------------+--------------------+------------+----+--------+---+\n",
      "|   Polar Sun|Personal Accessories|     Eyewear|2012| 7015.34|  1|\n",
      "|   Polar Ice|Personal Accessories|     Eyewear|2012|  3825.8|  2|\n",
      "|       Capri|Personal Accessories|     Eyewear|2012| 10838.9|  3|\n",
      "|     Cat Eye|Personal Accessories|     Eyewear|2012| 4428.85|  4|\n",
      "|       Dante|Personal Accessories|     Eyewear|2012| 9759.75|  5|\n",
      "|     Fairway|Personal Accessories|     Eyewear|2012| 8241.35|  6|\n",
      "|     Inferno|Personal Accessories|     Eyewear|2012| 12935.0|  7|\n",
      "|     Maximus|Personal Accessories|     Eyewear|2012|  9325.0|  8|\n",
      "|      Trendi|Personal Accessories|     Eyewear|2012|  9104.3|  9|\n",
      "|        Zone|Personal Accessories|     Eyewear|2012|  4574.3| 10|\n",
      "|   Polar Sun|Personal Accessories|     Eyewear|2012| 25787.7| 11|\n",
      "|   Polar Ice|Personal Accessories|     Eyewear|2012| 20835.1| 12|\n",
      "|Polar Sports|Personal Accessories|     Eyewear|2012|10265.26| 13|\n",
      "|  Polar Wave|Personal Accessories|     Eyewear|2012| 5012.47| 14|\n",
      "|       Bella|Personal Accessories|     Eyewear|2012|  8977.5| 15|\n",
      "|       Capri|Personal Accessories|     Eyewear|2012| 40942.7| 16|\n",
      "|     Cat Eye|Personal Accessories|     Eyewear|2012| 29721.2| 17|\n",
      "|       Dante|Personal Accessories|     Eyewear|2012|41852.45| 18|\n",
      "|     Fairway|Personal Accessories|     Eyewear|2012|36209.55| 19|\n",
      "|     Inferno|Personal Accessories|     Eyewear|2012| 37830.0| 20|\n",
      "+------------+--------------------+------------+----+--------+---+\n",
      "only showing top 20 rows\n",
      "\n"
     ]
    }
   ],
   "source": [
    "w = pyspark.sql.Window\\\n",
    "    .partitionBy('Product type')\\\n",
    "    .orderBy('Year')\n",
    "\n",
    "sales.withColumn('Row', func.row_number().over(w))\\\n",
    "    .select('Product', 'Product line', 'Product type', 'Year', 'Revenue', 'Row')\\\n",
    "    .show()"
   ]
  },
  {
   "cell_type": "markdown",
   "metadata": {},
   "source": [
    "Funkcje okienne mogą też być numeryczne. Przykładowo możemy średnią wartość przychodu dla poszczególnych lat i typu produktu."
   ]
  },
  {
   "cell_type": "code",
   "execution_count": 63,
   "metadata": {},
   "outputs": [
    {
     "name": "stdout",
     "output_type": "stream",
     "text": [
      "+--------------------+--------------------+--------------------+----+-------+------------------+----+\n",
      "|             Product|        Product line|        Product type|Year|Revenue|           Rev avg|Rank|\n",
      "+--------------------+--------------------+--------------------+----+-------+------------------+----+\n",
      "|             Fairway|Personal Accessories|             Eyewear|2014| 233.75| 46668.50330365328|   1|\n",
      "|             Maximus|Personal Accessories|             Eyewear|2012|  240.0| 46668.50330365328|   2|\n",
      "|               Retro|Personal Accessories|             Eyewear|2014|  250.6| 46668.50330365328|   3|\n",
      "|         Trail Scout|Personal Accessories|          Navigation|2012|  238.0| 32606.59504915291|   1|\n",
      "|         Trail Scout|Personal Accessories|          Navigation|2012|  238.0| 32606.59504915291|   1|\n",
      "|           Sky Pilot|Personal Accessories|          Navigation|2014|  358.0| 32606.59504915291|   3|\n",
      "|           Sky Pilot|Personal Accessories|          Navigation|2014|  358.0| 32606.59504915291|   3|\n",
      "|Firefly Rechargea...|Mountaineering Eq...|Climbing Accessories|2012|    0.0|30316.479431775704|   1|\n",
      "|Firefly Rechargea...|Mountaineering Eq...|Climbing Accessories|2012|    0.0|30316.479431775704|   1|\n",
      "|Firefly Rechargea...|Mountaineering Eq...|Climbing Accessories|2012|    0.0|30316.479431775704|   1|\n",
      "|Firefly Rechargea...|Mountaineering Eq...|Climbing Accessories|2012|    0.0|30316.479431775704|   1|\n",
      "|            Star Peg|   Camping Equipment|               Tents|2012|1334.52|113911.84314673906|   1|\n",
      "|            Star Peg|   Camping Equipment|               Tents|2012|1409.96|113911.84314673906|   2|\n",
      "|            Star Peg|   Camping Equipment|               Tents|2012|1432.18|113911.84314673906|   3|\n",
      "|Blue Steel Max Pu...|      Golf Equipment|             Putters|2013|    0.0| 49879.72290448342|   1|\n",
      "|Blue Steel Max Pu...|      Golf Equipment|             Putters|2013|    0.0| 49879.72290448342|   1|\n",
      "|Blue Steel Max Pu...|      Golf Equipment|             Putters|2013|    0.0| 49879.72290448342|   1|\n",
      "|Blue Steel Max Pu...|      Golf Equipment|             Putters|2013|    0.0| 49879.72290448342|   1|\n",
      "|Blue Steel Max Pu...|      Golf Equipment|             Putters|2013|    0.0| 49879.72290448342|   1|\n",
      "|Blue Steel Max Pu...|      Golf Equipment|             Putters|2013|    0.0| 49879.72290448342|   1|\n",
      "+--------------------+--------------------+--------------------+----+-------+------------------+----+\n",
      "only showing top 20 rows\n",
      "\n"
     ]
    }
   ],
   "source": [
    "w = pyspark.sql.Window\\\n",
    "    .partitionBy('Product type')\\\n",
    "    .orderBy('Revenue')\n",
    "\n",
    "w2 = pyspark.sql.Window\\\n",
    "    .partitionBy('Product type')\n",
    "    \n",
    "sales.withColumn('Rank', func.rank().over(w))\\\n",
    "    .withColumn('Rev avg', func.avg('Revenue').over(w2))\\\n",
    "    .select('Product', 'Product line', 'Product type', 'Year', 'Revenue', 'Rev avg', 'Rank')\\\n",
    "    .where('Rank <= 3')\\\n",
    "    .show()"
   ]
  },
  {
   "cell_type": "markdown",
   "metadata": {},
   "source": [
    "Można też definiować przesówne okna. Przykładowo możemy znajdować maksymalną wartość w przesównym oknie rozmiaru 3, z wartościami jeden przed i jeden za obecną wartością."
   ]
  },
  {
   "cell_type": "code",
   "execution_count": 64,
   "metadata": {},
   "outputs": [
    {
     "name": "stdout",
     "output_type": "stream",
     "text": [
      "+-------+---------+--------------+\n",
      "|Product|  Revenue|Max rev window|\n",
      "+-------+---------+--------------+\n",
      "|Fairway|  8241.35|      36209.55|\n",
      "|Fairway| 36209.55|      36209.55|\n",
      "|Fairway|  11646.7|      36209.55|\n",
      "|Fairway| 29237.65|       42919.5|\n",
      "|Fairway|  42919.5|     130874.25|\n",
      "|Fairway|130874.25|     130874.25|\n",
      "|Fairway| 47251.75|     209136.85|\n",
      "|Fairway|209136.85|     209136.85|\n",
      "|Fairway| 11545.95|     209136.85|\n",
      "|Fairway| 21903.05|      21903.05|\n",
      "|Fairway|  13339.3|       60853.0|\n",
      "|Fairway|  60853.0|       60853.0|\n",
      "|Fairway| 27907.75|       60853.0|\n",
      "|Fairway| 12916.15|      27907.75|\n",
      "|Fairway|  6186.05|      15092.35|\n",
      "|Fairway| 15092.35|      55795.35|\n",
      "|Fairway| 55795.35|      55795.35|\n",
      "|Fairway|   8019.7|      99641.75|\n",
      "|Fairway| 99641.75|      99641.75|\n",
      "|Fairway|   8100.3|      99641.75|\n",
      "+-------+---------+--------------+\n",
      "only showing top 20 rows\n",
      "\n"
     ]
    }
   ],
   "source": [
    "w = pyspark.sql.Window\\\n",
    "    .partitionBy('Product')\\\n",
    "    .rowsBetween(-1, 1)\n",
    "\n",
    "sales.select('Product', \n",
    "             'Revenue', \n",
    "             func.max('Revenue').over(w).alias('Max rev window'))\\\n",
    "    .show()"
   ]
  },
  {
   "cell_type": "markdown",
   "metadata": {},
   "source": [
    "Można to równierz zapisać w notacji SQL."
   ]
  },
  {
   "cell_type": "code",
   "execution_count": null,
   "metadata": {
    "collapsed": true
   },
   "outputs": [],
   "source": [
    "query = \"\"\"\n",
    "SELECT\n",
    "    Product,\n",
    "    Revenue,\n",
    "    MAX(Revenue) OVER(\n",
    "        PARTITION BY Product\n",
    "        ROWS BETWEEN 1 PRECEDING AND 1 FOLLOWING\n",
    "    ) AS `Max rev window`\n",
    "FROM sales\n",
    "\"\"\"\n",
    "spark.sql(query).show()"
   ]
  },
  {
   "cell_type": "markdown",
   "metadata": {},
   "source": [
    "### Zadanie\n",
    "\n",
    "1. Pokaż 5 najlepiej sprzedających się produktów dla danego typu sprzedawcy (Retailer type).\n",
    "1. Policz ile mniej zarobił dany produkt od maksymalnej wartości przychodu w linii produktu w danym roku.\n",
    "1. ★ Jaka jest różnica przychodu pomiędzy średnią dla danego roku, a średnią dla danych kwartałów.\n",
    "1. ★ Policz średnią okienną dla okna o rozmiarze 5, w kolejności wielkości przychodu."
   ]
  },
  {
   "cell_type": "code",
   "execution_count": 74,
   "metadata": {},
   "outputs": [
    {
     "name": "stdout",
     "output_type": "stream",
     "text": [
      "+--------------------+--------------------+-------------+----+----------------+----------+--------+----+\n",
      "|             Product|        Product line| Product type|Year|   Retailer type|   Revenue|Quantity|Rank|\n",
      "+--------------------+--------------------+-------------+----+----------------+----------+--------+----+\n",
      "|        Star Gazer 2|   Camping Equipment|        Tents|2013| Warehouse Store| 1335112.9|    2413|   1|\n",
      "|           Star Lite|   Camping Equipment|        Tents|2012| Warehouse Store|1210413.68|    3479|   2|\n",
      "|           Star Lite|   Camping Equipment|        Tents|2013| Warehouse Store|1052750.28|    2994|   3|\n",
      "|        Star Gazer 2|   Camping Equipment|        Tents|2012| Warehouse Store| 944385.75|    1725|   4|\n",
      "|           Star Lite|   Camping Equipment|        Tents|2014| Warehouse Store| 850221.71|    2353|   5|\n",
      "|Canyon Mule Journ...|   Camping Equipment|        Packs|2013|Department Store| 726873.21|    2074|   1|\n",
      "|Canyon Mule Journ...|   Camping Equipment|        Packs|2013|Department Store| 645450.24|    1832|   2|\n",
      "|Canyon Mule Weeke...|   Camping Equipment|        Packs|2013|Department Store| 639468.44|    2281|   3|\n",
      "|Canyon Mule Weeke...|   Camping Equipment|        Packs|2012|Department Store| 631254.18|    2267|   4|\n",
      "|            Infinity|Personal Accessories|      Watches|2013|Department Store|  528490.0|    2188|   5|\n",
      "|        Star Gazer 2|   Camping Equipment|        Tents|2013|Direct Marketing|  284949.5|     515|   1|\n",
      "|        Star Gazer 2|   Camping Equipment|        Tents|2012|Direct Marketing| 218440.53|     399|   2|\n",
      "|        Star Gazer 2|   Camping Equipment|        Tents|2013|Direct Marketing|  214680.4|     388|   3|\n",
      "|        Star Gazer 2|   Camping Equipment|        Tents|2012|Direct Marketing| 211870.89|     387|   4|\n",
      "|           Star Dome|   Camping Equipment|        Tents|2014|Direct Marketing| 208383.95|     337|   5|\n",
      "|                Zone|Personal Accessories|      Eyewear|2013|   Outdoors Shop|1230450.95|   36871|   1|\n",
      "|  Hibernator Extreme|   Camping Equipment|Sleeping Bags|2013|   Outdoors Shop|1199043.84|    4723|   2|\n",
      "|                Zone|Personal Accessories|      Eyewear|2013|   Outdoors Shop| 1118965.3|   36379|   3|\n",
      "|                Zone|Personal Accessories|      Eyewear|2012|   Outdoors Shop| 1042285.0|   33610|   4|\n",
      "|                Zone|Personal Accessories|      Eyewear|2012|   Outdoors Shop| 1009957.9|   32929|   5|\n",
      "+--------------------+--------------------+-------------+----+----------------+----------+--------+----+\n",
      "only showing top 20 rows\n",
      "\n"
     ]
    }
   ],
   "source": [
    "w = pyspark.sql.Window\\\n",
    "    .partitionBy('Retailer type') \\\n",
    "    .orderBy(func.desc('Revenue'), func.desc('Quantity'))\n",
    "    \n",
    "quantity_with_rank = sales.withColumn('Rank', func.rank().over(w))\\\n",
    "    .select('Product', 'Product line', 'Product type', 'Year', 'Retailer type', 'Revenue', 'Quantity', 'Rank')\n",
    "\n",
    "quantity_with_rank.where('`Rank` <= 5').show()"
   ]
  },
  {
   "cell_type": "code",
   "execution_count": null,
   "metadata": {
    "collapsed": true
   },
   "outputs": [],
   "source": []
  }
 ],
 "metadata": {
  "kernelspec": {
   "display_name": "Python 3",
   "language": "python",
   "name": "python3"
  },
  "language_info": {
   "codemirror_mode": {
    "name": "ipython",
    "version": 3
   },
   "file_extension": ".py",
   "mimetype": "text/x-python",
   "name": "python",
   "nbconvert_exporter": "python",
   "pygments_lexer": "ipython3",
   "version": "3.6.0"
  }
 },
 "nbformat": 4,
 "nbformat_minor": 2
}
