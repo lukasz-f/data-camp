{
 "cells": [
  {
   "cell_type": "markdown",
   "metadata": {},
   "source": [
    "![](imgs/kodolamaczlogo.png)\n",
    "\n",
    "# Przetwarzanie Big Data z użyciem Apache Spark\n",
    "\n",
    "Autor notebooka: Jakub Nowacki.\n",
    "\n",
    "## TF-IDF\n",
    "\n",
    "Term Frequency Inverse Document Frequency (TF-IDF) jest po popularną i przydatną miarą unikalności danego terminu (słowa) dla danego dokumentu. Miara w istocie składa się z dwóch elementów, TF oraz IDF, które na końcu są ze sobą mnożone.\n",
    "\n",
    "Term Frequency (TF), jest częstotliwością wystąpień terminu w dokumencie. Jako równanie zapisuje się go jak poniżej:\n",
    "\n",
    "$$\n",
    "TF = \\frac{n_w}{n_d},\n",
    "$$\n",
    "\n",
    "gdzie: $n_w$ ile razy termin wystąpił w dokuemcie $n_d$ wszystkie słowa w dokumencie.\n",
    "\n",
    "Z kolei Inverse Documents Frequency (IDF), zapisuje się jako:\n",
    "\n",
    "$$\n",
    "IDF = \\log \\left( \\frac{c_d}{i_d} \\right),\n",
    "$$\n",
    "\n",
    "gdzie: $c_d$ jest liczbą wszystkich dokumentów, $i_d$ jest liczbą dokumentów w których dane słowo wystąpiło. Należy pamiętać, że $\\log$ jest logarytmem naturalnym przy podstawie $e$.\n",
    "\n",
    "## Dane do analizy \n",
    "\n",
    "W przykładzie użyte zostaną dane z [Projektu Gutenberg](https://www.gutenberg.org). Poniższy skrypt pobierze dane jeżeli nie ma ich jeszcze w folderze `data`."
   ]
  },
  {
   "cell_type": "code",
   "execution_count": 2,
   "metadata": {
    "collapsed": true
   },
   "outputs": [],
   "source": [
    "# IMDB dataset CERTIFICATE_VERIFY_FAILED exception workaround\n",
    "import requests\n",
    "requests.packages.urllib3.disable_warnings()\n",
    "import ssl\n",
    "\n",
    "try:\n",
    "    _create_unverified_https_context = ssl._create_unverified_context\n",
    "except AttributeError:\n",
    "    # Legacy Python that doesn't verify HTTPS certificates by default\n",
    "    pass\n",
    "else:\n",
    "    # Handle target environment that doesn't support HTTPS verification\n",
    "    ssl._create_default_https_context = _create_unverified_https_context"
   ]
  },
  {
   "cell_type": "code",
   "execution_count": 3,
   "metadata": {},
   "outputs": [
    {
     "name": "stdout",
     "output_type": "stream",
     "text": [
      "Pobieranie pliku https://www.gutenberg.org/files/2591/2591-0.txt do data/tf-idf_docs/grimms_fairy_tales.txt\n",
      "Pobieranie data/tf-idf_docs/grimms_fairy_tales.txt ukończone\n",
      "Pobieranie pliku http://www.gutenberg.org/cache/epub/345/pg345.txt do data/tf-idf_docs/dracula.txt\n",
      "Pobieranie data/tf-idf_docs/dracula.txt ukończone\n",
      "Pobieranie pliku http://www.gutenberg.org/cache/epub/84/pg84.txt do data/tf-idf_docs/frankenstein.txt\n",
      "Pobieranie data/tf-idf_docs/frankenstein.txt ukończone\n",
      "Pobieranie pliku http://www.gutenberg.org/files/2701/2701-0.txt do data/tf-idf_docs/moby_dick.txt\n",
      "Pobieranie data/tf-idf_docs/moby_dick.txt ukończone\n",
      "Pobieranie pliku http://www.gutenberg.org/files/74/74-0.txt do data/tf-idf_docs/tom_sawyer.txt\n",
      "Pobieranie data/tf-idf_docs/tom_sawyer.txt ukończone\n",
      "Pobieranie pliku http://www.gutenberg.org/files/2600/2600-0.txt do data/tf-idf_docs/war_and_peace.txt\n",
      "Pobieranie data/tf-idf_docs/war_and_peace.txt ukończone\n"
     ]
    }
   ],
   "source": [
    "import os\n",
    "import urllib.request\n",
    "\n",
    "data_path = 'data/tf-idf_docs'\n",
    "if not os.path.exists(data_path):\n",
    "    os.mkdir(data_path)\n",
    "    \n",
    "book_links = {\n",
    "    'grimms_fairy_tales': 'https://www.gutenberg.org/files/2591/2591-0.txt',\n",
    "    'dracula': 'http://www.gutenberg.org/cache/epub/345/pg345.txt',\n",
    "    'frankenstein': 'http://www.gutenberg.org/cache/epub/84/pg84.txt',\n",
    "    'moby_dick': 'http://www.gutenberg.org/files/2701/2701-0.txt',\n",
    "    'tom_sawyer': 'http://www.gutenberg.org/files/74/74-0.txt',\n",
    "    'war_and_peace': 'http://www.gutenberg.org/files/2600/2600-0.txt'\n",
    "}\n",
    "\n",
    "for book, link in book_links.items():\n",
    "    file_name = '{}.txt'.format(book)\n",
    "    file_path = os.path.join(data_path, file_name)\n",
    "    if not os.path.exists(file_path):\n",
    "        print('Pobieranie pliku {} do {}'.format(link, file_path))\n",
    "        urllib.request.urlretrieve(link, file_path)\n",
    "        print('Pobieranie {} ukończone'.format(file_path))\n",
    "    else:\n",
    "        print('Plik {} jest już pobrany'.format(file_path))"
   ]
  },
  {
   "cell_type": "markdown",
   "metadata": {},
   "source": [
    "## Zadanie \n",
    "\n",
    "Należy policzyć miary TF-IDF dla pobranych dokumentów. Kroki do wykoniania:\n",
    "\n",
    "1. Odcztać dane, tak aby zachować informacje z której książki pochodzi dane zdanie.\n",
    "1. Podzielić zdania (linie) na słowa; słowa powinny być sprowadzone do wspólnego znaku i nie posiadać interpunkcji.\n",
    "1. Policzyć miarę TF.\n",
    "1. Policzyć miarę IDF.\n",
    "1. Złączyć wyniki tak, żeby wynikowa tabela miała kolumny: nazwa książki, słowo (termin), TF, IDF, TF-IDF."
   ]
  },
  {
   "cell_type": "code",
   "execution_count": null,
   "metadata": {
    "collapsed": true
   },
   "outputs": [],
   "source": [
    "import pyspark\n",
    "import pyspark.sql.functions as func\n",
    "\n",
    "spark = pyspark.sql.SparkSession.builder\\\n",
    "    .appName('tf-idf_sql')\\\n",
    "    .getOrCreate()"
   ]
  },
  {
   "cell_type": "code",
   "execution_count": null,
   "metadata": {
    "collapsed": true
   },
   "outputs": [],
   "source": [
    "books = spark.read.text(data_path)\n",
    "\n",
    "books.show(truncate=False)"
   ]
  },
  {
   "cell_type": "markdown",
   "metadata": {},
   "source": [
    "## Podpowiedzi\n",
    "\n",
    "* Pliki mają nagłówki, ale można je zostawić i potraktować jako część dokumentu.\n",
    "* Wszystko da się zrobić interfejsem Spark SQL (DataFrame lub zapytania SQL); nie ma potrzeby pisania dodatkowych funkcji.\n",
    "* Wprawdzie wiemy jakie są książki, ale jest lepsza metoda dostania nazwy czytanego pliku w DataFrame; zobacz [manual Spark odnośnie funkcji](http://spark.apache.org/docs/latest/api/python/pyspark.sql.html#module-pyspark.sql.functions). \n",
    "* Generalnie, w powyższym manualu jest sporo przydatnych funkcji."
   ]
  },
  {
   "cell_type": "code",
   "execution_count": null,
   "metadata": {
    "collapsed": true
   },
   "outputs": [],
   "source": []
  }
 ],
 "metadata": {
  "kernelspec": {
   "display_name": "Python 3",
   "language": "python",
   "name": "python3"
  },
  "language_info": {
   "codemirror_mode": {
    "name": "ipython",
    "version": 3
   },
   "file_extension": ".py",
   "mimetype": "text/x-python",
   "name": "python",
   "nbconvert_exporter": "python",
   "pygments_lexer": "ipython3",
   "version": "3.6.0"
  }
 },
 "nbformat": 4,
 "nbformat_minor": 2
}
