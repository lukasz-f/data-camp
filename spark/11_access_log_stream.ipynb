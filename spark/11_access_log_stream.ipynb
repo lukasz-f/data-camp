{
 "cells": [
  {
   "cell_type": "markdown",
   "metadata": {},
   "source": [
    "![](imgs/kodolamaczlogo.png)\n",
    "\n",
    "# Przetwarzanie Big Data z użyciem Apache Spark\n",
    "\n",
    "Autor notebooka: Jakub Nowacki.\n",
    "\n",
    "\n",
    "## Spark Streaming"
   ]
  },
  {
   "cell_type": "code",
   "execution_count": 1,
   "metadata": {
    "collapsed": true
   },
   "outputs": [],
   "source": [
    "import findspark\n",
    "findspark.init()"
   ]
  },
  {
   "cell_type": "code",
   "execution_count": 2,
   "metadata": {},
   "outputs": [],
   "source": [
    "import pyspark\n",
    "import pyspark.streaming\n",
    "\n",
    "# Lokalny kontekst Spark Streaming z 2 workerami agregujący dane z 1 sekundy.\n",
    "sc = pyspark.SparkContext(master=\"local[2]\", appName=\"AccessLogStreamAnalysis\")\n",
    "ssc = pyspark.streaming.StreamingContext(sc, 3)"
   ]
  },
  {
   "cell_type": "code",
   "execution_count": 3,
   "metadata": {
    "collapsed": true
   },
   "outputs": [],
   "source": [
    "# Czytamy z tekstowego socketa 8899\n",
    "lines = ssc.socketTextStream(\"localhost\", 8899)"
   ]
  },
  {
   "cell_type": "code",
   "execution_count": 4,
   "metadata": {},
   "outputs": [],
   "source": [
    "# Funkcja pomocnicza do czytania wierszy\n",
    "def get_row(line):\n",
    "    cols = line.split()\n",
    "    row = dict()\n",
    "    source = cols[0]\n",
    "    timestamp = cols[3]\n",
    "    method = cols[5].replace('\"', '')\n",
    "    return (source, (method, timestamp))"
   ]
  },
  {
   "cell_type": "code",
   "execution_count": 5,
   "metadata": {
    "collapsed": true
   },
   "outputs": [],
   "source": [
    "# Czytanie wierszy\n",
    "rows = lines.map(lambda l: get_row(l))"
   ]
  },
  {
   "cell_type": "code",
   "execution_count": 6,
   "metadata": {},
   "outputs": [],
   "source": [
    "# Liczenie wiersz\n",
    "count = rows.count()\n",
    "count.pprint()"
   ]
  },
  {
   "cell_type": "code",
   "execution_count": 7,
   "metadata": {
    "collapsed": true
   },
   "outputs": [],
   "source": [
    "def get_sets(values):\n",
    "    d = {'method': {v[0] for v in values},\n",
    "        'timestamp': {v[1] for v in values}}\n",
    "    return d"
   ]
  },
  {
   "cell_type": "code",
   "execution_count": 8,
   "metadata": {
    "collapsed": true
   },
   "outputs": [],
   "source": [
    "# Znajdowanie wszystkich metod w tej porcji loga\n",
    "grouped = rows.groupByKey()\n",
    "grouped.mapValues(get_sets).pprint()"
   ]
  },
  {
   "cell_type": "code",
   "execution_count": 9,
   "metadata": {},
   "outputs": [
    {
     "name": "stdout",
     "output_type": "stream",
     "text": [
      "-------------------------------------------\n",
      "Time: 2017-10-01 13:56:45\n",
      "-------------------------------------------\n",
      "\n",
      "-------------------------------------------\n",
      "Time: 2017-10-01 13:56:45\n",
      "-------------------------------------------\n",
      "\n",
      "-------------------------------------------\n",
      "Time: 2017-10-01 13:56:48\n",
      "-------------------------------------------\n",
      "3\n",
      "\n",
      "-------------------------------------------\n",
      "Time: 2017-10-01 13:56:48\n",
      "-------------------------------------------\n",
      "('wc09.mtnk.rnc.net.cable.rogers.com', {'method': {'GET'}, 'timestamp': {'[11/Mar/2004:16:13:02'}})\n",
      "('lj1048.inktomisearch.com', {'method': {'GET'}, 'timestamp': {'[09/Mar/2004:21:51:09'}})\n",
      "('10.0.0.153', {'method': {'GET'}, 'timestamp': {'[10/Mar/2004:12:07:14'}})\n",
      "\n",
      "-------------------------------------------\n",
      "Time: 2017-10-01 13:56:51\n",
      "-------------------------------------------\n",
      "3\n",
      "\n",
      "-------------------------------------------\n",
      "Time: 2017-10-01 13:56:51\n",
      "-------------------------------------------\n",
      "('lj1024.inktomisearch.com', {'method': {'GET'}, 'timestamp': {'[12/Mar/2004:02:27:29'}})\n",
      "('68-174-110-154.nyc.rr.com', {'method': {'GET'}, 'timestamp': {'[08/Mar/2004:05:16:15'}})\n",
      "('64.242.88.10', {'method': {'GET'}, 'timestamp': {'[07/Mar/2004:16:31:48'}})\n",
      "\n",
      "-------------------------------------------\n",
      "Time: 2017-10-01 13:56:54\n",
      "-------------------------------------------\n",
      "3\n",
      "\n",
      "-------------------------------------------\n",
      "Time: 2017-10-01 13:56:54\n",
      "-------------------------------------------\n",
      "('cr020r01-3.sac.overture.com', {'method': {'GET'}, 'timestamp': {'[11/Mar/2004:13:05:33'}})\n",
      "('mail.geovariances.fr', {'method': {'GET'}, 'timestamp': {'[09/Mar/2004:05:13:40'}})\n",
      "('px7wh.vc.shawcable.net', {'method': {'GET'}, 'timestamp': {'[08/Mar/2004:18:41:16'}})\n",
      "\n",
      "-------------------------------------------\n",
      "Time: 2017-10-01 13:56:57\n",
      "-------------------------------------------\n",
      "1\n",
      "\n",
      "-------------------------------------------\n",
      "Time: 2017-10-01 13:56:57\n",
      "-------------------------------------------\n",
      "('64.242.88.10', {'method': {'GET'}, 'timestamp': {'[07/Mar/2004:18:52:30'}})\n",
      "\n",
      "-------------------------------------------\n",
      "Time: 2017-10-01 13:57:00\n",
      "-------------------------------------------\n",
      "\n",
      "-------------------------------------------\n",
      "Time: 2017-10-01 13:57:00\n",
      "-------------------------------------------\n",
      "\n",
      "-------------------------------------------\n",
      "Time: 2017-10-01 13:57:03\n",
      "-------------------------------------------\n",
      "\n",
      "-------------------------------------------\n",
      "Time: 2017-10-01 13:57:03\n",
      "-------------------------------------------\n",
      "\n"
     ]
    }
   ],
   "source": [
    "# Strumień trzeba wystartować ręcznie\n",
    "ssc.start()             \n",
    "# Przestajemy czekać na strumień po 10s; normalnie czekamy w nieskończoność używając tej metody\n",
    "ssc.awaitTermination(10)\n",
    "# Zatrzymujemy strumień po 10s\n",
    "ssc.stop(True, True)"
   ]
  },
  {
   "cell_type": "markdown",
   "metadata": {
    "collapsed": true
   },
   "source": [
    "## Zadania\n",
    "\n",
    "* Zbadaj dane.\n",
    "* Wyczytaj inne wartości takie jak znacznik czasu czy ścieżkę.\n",
    "* Policz ilość rekordów dla jednego źródła.\n",
    "* ★ Policz metody dla jednego źródła.\n",
    "* ★ Policz rekordy dla 5s.\n",
    "\n",
    "Podpowiedź: dane ze strumienia są w pliku `data/access_log`."
   ]
  }
 ],
 "metadata": {
  "kernelspec": {
   "display_name": "Python 3",
   "language": "python",
   "name": "python3"
  },
  "language_info": {
   "codemirror_mode": {
    "name": "ipython",
    "version": 3
   },
   "file_extension": ".py",
   "mimetype": "text/x-python",
   "name": "python",
   "nbconvert_exporter": "python",
   "pygments_lexer": "ipython3",
   "version": "3.6.0"
  },
  "widgets": {
   "state": {},
   "version": "1.1.2"
  }
 },
 "nbformat": 4,
 "nbformat_minor": 1
}
