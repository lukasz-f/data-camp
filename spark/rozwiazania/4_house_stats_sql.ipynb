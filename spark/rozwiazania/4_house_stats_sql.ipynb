{
 "cells": [
  {
   "cell_type": "markdown",
   "metadata": {},
   "source": [
    "![](imgs/kodolamaczlogo.png)\n",
    "\n",
    "# Przetwarzanie Big Data z użyciem Apache Spark\n",
    "\n",
    "Autor notebooka: Jakub Nowacki.\n",
    "\n",
    "\n",
    "## Spark SQL - statystyki z użyciem SQL \n",
    "\n",
    "W katalogu `data/` znajduje się plik `rollingsales_bronx.json`.\n",
    "\n",
    "Poniżej analizujemy dane statystyczne domów: liczność, średnie powierzchnie, lata i ceny, grupując po dzielnicy i typie."
   ]
  },
  {
   "cell_type": "code",
   "execution_count": 1,
   "metadata": {
    "collapsed": false
   },
   "outputs": [],
   "source": [
    "import pyspark\n",
    "import pyspark.sql.functions as func\n",
    "\n",
    "spark = pyspark.sql.SparkSession.builder \\\n",
    "    .appName('HouseStatsSQL') \\\n",
    "    .getOrCreate()\n",
    "\n",
    "#sc = pyspark.SparkContext(appName='HouseStatsSQL')\n",
    "#spark = pyspark.sql.SQLContext(sc)"
   ]
  },
  {
   "cell_type": "code",
   "execution_count": 2,
   "metadata": {
    "collapsed": false
   },
   "outputs": [
    {
     "name": "stdout",
     "output_type": "stream",
     "text": [
      "root\n",
      " |-- grossArea: long (nullable = true)\n",
      " |-- hood: string (nullable = true)\n",
      " |-- landArea: long (nullable = true)\n",
      " |-- price: long (nullable = true)\n",
      " |-- type: string (nullable = true)\n",
      " |-- year: long (nullable = true)\n",
      "\n",
      "+---------+--------------------+--------+------+--------------------+----+\n",
      "|grossArea|                hood|landArea| price|                type|year|\n",
      "+---------+--------------------+--------+------+--------------------+----+\n",
      "|     2048|BATHGATE         ...|    1842|355000|01  ONE FAMILY HO...|1901|\n",
      "|     1290|BATHGATE         ...|    1103|474819|01  ONE FAMILY HO...|1910|\n",
      "|     1344|BATHGATE         ...|    1986|210000|01  ONE FAMILY HO...|1899|\n",
      "|     1431|BATHGATE         ...|    2329|343116|01  ONE FAMILY HO...|1901|\n",
      "|     4452|BATHGATE         ...|    1855|     0|02  TWO FAMILY HO...|1931|\n",
      "|     2400|BATHGATE         ...|    2000|316500|02  TWO FAMILY HO...|1993|\n",
      "|     2394|BATHGATE         ...|    2498|390000|02  TWO FAMILY HO...|1995|\n",
      "|     1542|BATHGATE         ...|    1542|207000|02  TWO FAMILY HO...|1899|\n",
      "|     2340|BATHGATE         ...|    1819|     0|02  TWO FAMILY HO...|1998|\n",
      "|     1296|BATHGATE         ...|    1667|369000|02  TWO FAMILY HO...|1910|\n",
      "|     5881|BATHGATE         ...|    5000|308000|02  TWO FAMILY HO...|1910|\n",
      "|     1512|BATHGATE         ...|    2483|     0|02  TWO FAMILY HO...|1901|\n",
      "|     3382|BATHGATE         ...|    1562|443776|02  TWO FAMILY HO...|2004|\n",
      "|     2655|BATHGATE         ...|     885|     0|02  TWO FAMILY HO...|1931|\n",
      "|     3854|BATHGATE         ...|    2022|     0|03  THREE FAMILY ...|1899|\n",
      "|     3290|BATHGATE         ...|    3525|440000|03  THREE FAMILY ...|1899|\n",
      "|     2916|BATHGATE         ...|    1216|662115|03  THREE FAMILY ...|2004|\n",
      "|     2280|BATHGATE         ...|    3742|     0|03  THREE FAMILY ...|1910|\n",
      "|     2640|BATHGATE         ...|    1505|460000|03  THREE FAMILY ...|1901|\n",
      "|     2640|BATHGATE         ...|    1505|190000|03  THREE FAMILY ...|1901|\n",
      "+---------+--------------------+--------+------+--------------------+----+\n",
      "only showing top 20 rows\n",
      "\n"
     ]
    }
   ],
   "source": [
    "# Czytanie danych\n",
    "sales = spark.read.json('data/rollingsales_bronx.json')\n",
    "# Nie zapomnij zarejestrować tabeli\n",
    "sales.registerTempTable('sales')\n",
    "sales.printSchema()\n",
    "sales.show()"
   ]
  },
  {
   "cell_type": "code",
   "execution_count": 3,
   "metadata": {
    "collapsed": false
   },
   "outputs": [
    {
     "name": "stdout",
     "output_type": "stream",
     "text": [
      "+--------------------+--------------------+-----+------------------+------------------+------------------+\n",
      "|                hood|                type|count|       avgLandArea|           avgYear|          avgPrice|\n",
      "+--------------------+--------------------+-----+------------------+------------------+------------------+\n",
      "|BATHGATE         ...|01  ONE FAMILY HO...|    4|            1815.0|           1902.75|         345733.75|\n",
      "|BATHGATE         ...|02  TWO FAMILY HO...|   10|            2131.1|            1947.2|          203427.6|\n",
      "|BATHGATE         ...|03  THREE FAMILY ...|    6|            2252.5|            1919.0| 292019.1666666667|\n",
      "|BATHGATE         ...|05  TAX CLASS 1 V...|    1|            2099.0|               0.0|           40730.0|\n",
      "|BATHGATE         ...|07  RENTALS - WAL...|    6|3161.6666666666665|            1924.5| 424286.1666666667|\n",
      "|BATHGATE         ...|10  COOPS - ELEVA...|    1|               0.0|               0.0|               4.0|\n",
      "|BATHGATE         ...|14  RENTALS - 4-1...|    3|1798.3333333333333|            1931.0|               0.0|\n",
      "|BATHGATE         ...|22  STORE BUILDIN...|    3| 8805.666666666666|            1936.0|155384.66666666666|\n",
      "|BATHGATE         ...|27  FACTORIES    ...|    1|            1578.0|            1997.0|               0.0|\n",
      "|BATHGATE         ...|29  COMMERCIAL GA...|    7|  9901.57142857143| 1101.857142857143| 605714.2857142857|\n",
      "|BATHGATE         ...|30  WAREHOUSES   ...|    1|            9180.0|            1931.0|         9733979.0|\n",
      "|BATHGATE         ...|31  COMMERCIAL VA...|    4|           82420.0|               0.0|          909638.5|\n",
      "|BATHGATE         ...|41  TAX CLASS 4 -...|    4|            4827.0|           1457.75|          307500.0|\n",
      "|BAYCHESTER       ...|01  ONE FAMILY HO...|  106| 2707.622641509434|1941.8490566037735|175829.80188679244|\n",
      "|BAYCHESTER       ...|02  TWO FAMILY HO...|  119|2780.8487394957983|1961.0756302521008|214003.38655462186|\n",
      "|BAYCHESTER       ...|03  THREE FAMILY ...|   32|        2763.03125|         1978.8125|        244380.875|\n",
      "|BAYCHESTER       ...|04  TAX CLASS 1 C...|    4|               0.0|            2008.0|          282164.0|\n",
      "|BAYCHESTER       ...|05  TAX CLASS 1 V...|   10|            3322.1|             402.4|          134508.5|\n",
      "|BAYCHESTER       ...|06  TAX CLASS 1 -...|    4|           2360.25|            1800.0|            2500.0|\n",
      "|BAYCHESTER       ...|07  RENTALS - WAL...|    6| 8903.333333333334|1990.3333333333333| 83333.33333333333|\n",
      "+--------------------+--------------------+-----+------------------+------------------+------------------+\n",
      "only showing top 20 rows\n",
      "\n"
     ]
    }
   ],
   "source": [
    "query = \"\"\"\n",
    "SELECT \n",
    "    hood,\n",
    "    type,\n",
    "    COUNT(*) as count,\n",
    "    AVG(landArea) as avgLandArea,\n",
    "    AVG(year) as avgYear,\n",
    "    AVG(price) as avgPrice\n",
    "FROM sales\n",
    "GROUP BY hood, type\n",
    "ORDER BY hood, type\n",
    "\"\"\"\n",
    "a1 = spark.sql(query)\n",
    "a1.show()"
   ]
  },
  {
   "cell_type": "markdown",
   "metadata": {},
   "source": [
    "## Zadania\n",
    "\n",
    "* Popraw wyniki usuwając błędne dane.\n",
    "* Zastosuj odpowiednią prezentację dany w zależności od typu.\n",
    "* Policz średnie dla domów z XX w. tylko dla grup zawierających więcej niż 10 domów.\n",
    "* ★ Policz średnie tylko dla 10 najbogatszych dzielnic."
   ]
  },
  {
   "cell_type": "code",
   "execution_count": 15,
   "metadata": {
    "collapsed": false
   },
   "outputs": [
    {
     "name": "stdout",
     "output_type": "stream",
     "text": [
      "+--------------------+--------------------+-----+-----------+-------+---------+\n",
      "|                hood|                type|count|avgLandArea|avgYear| avgPrice|\n",
      "+--------------------+--------------------+-----+-----------+-------+---------+\n",
      "|THROGS NECK      ...|01  ONE FAMILY HO...|   83|       2686|   1945|340273.33|\n",
      "|BAYCHESTER       ...|01  ONE FAMILY HO...|   77|       2854|   1941|242051.42|\n",
      "|BAYCHESTER       ...|02  TWO FAMILY HO...|   74|       2781|   1954|344140.58|\n",
      "|WILLIAMSBRIDGE   ...|02  TWO FAMILY HO...|   73|       2697|   1939|343334.67|\n",
      "|SCHUYLERVILLE/PEL...|02  TWO FAMILY HO...|   57|       3137|   1938|387447.02|\n",
      "|SOUNDVIEW        ...|02  TWO FAMILY HO...|   57|       2586|   1943|309658.05|\n",
      "|MORRIS PARK/VAN N...|02  TWO FAMILY HO...|   48|       2367|   1935|376374.40|\n",
      "|THROGS NECK      ...|02  TWO FAMILY HO...|   47|       2852|   1949|342417.23|\n",
      "|CASTLE HILL/UNION...|02  TWO FAMILY HO...|   45|       2651|   1949|332409.47|\n",
      "|MORRISANIA/LONGWO...|03  THREE FAMILY ...|   45|       2139|   1952|326618.58|\n",
      "|BRONXDALE        ...|02  TWO FAMILY HO...|   43|       2477|   1941|317483.88|\n",
      "|SOUNDVIEW        ...|03  THREE FAMILY ...|   43|       2290|   1952|359636.81|\n",
      "|COUNTRY CLUB     ...|01  ONE FAMILY HO...|   41|       2802|   1944|392679.78|\n",
      "|RIVERDALE        ...|01  ONE FAMILY HO...|   41|       9506|   1941|896041.95|\n",
      "|WAKEFIELD        ...|02  TWO FAMILY HO...|   41|       2778|   1942|343435.34|\n",
      "|BRONXDALE        ...|01  ONE FAMILY HO...|   38|       2149|   1944|239734.50|\n",
      "|WILLIAMSBRIDGE   ...|01  ONE FAMILY HO...|   38|       2792|   1934|264689.89|\n",
      "|PELHAM PARKWAY NO...|02  TWO FAMILY HO...|   37|       2887|   1949|394344.97|\n",
      "|SCHUYLERVILLE/PEL...|01  ONE FAMILY HO...|   36|       2751|   1927|344840.61|\n",
      "|WAKEFIELD        ...|01  ONE FAMILY HO...|   35|       2803|   1936|272300.37|\n",
      "+--------------------+--------------------+-----+-----------+-------+---------+\n",
      "only showing top 20 rows\n",
      "\n",
      "root\n",
      " |-- hood: string (nullable = true)\n",
      " |-- type: string (nullable = true)\n",
      " |-- count: long (nullable = false)\n",
      " |-- avgLandArea: integer (nullable = true)\n",
      " |-- avgYear: integer (nullable = true)\n",
      " |-- avgPrice: decimal(10,2) (nullable = true)\n",
      "\n"
     ]
    }
   ],
   "source": [
    "query = \"\"\"\n",
    "SELECT \n",
    "    hood,\n",
    "    type,\n",
    "    COUNT(*) as count, -- costam\n",
    "    CAST(AVG(landArea) AS INT) as avgLandArea,\n",
    "    CAST(AVG(year) AS INT) as avgYear,\n",
    "    CAST(AVG(price) AS DECIMAL(10,2)) as avgPrice\n",
    "FROM sales\n",
    "WHERE year > 1500 AND landArea > 0 AND price > 0\n",
    "GROUP BY hood, type\n",
    "HAVING count > 10\n",
    "ORDER BY count DESC, hood, type\n",
    "\"\"\"\n",
    "a1 = spark.sql(query)\n",
    "a1.show()\n",
    "a1.printSchema()"
   ]
  },
  {
   "cell_type": "code",
   "execution_count": 20,
   "metadata": {
    "collapsed": false
   },
   "outputs": [
    {
     "name": "stdout",
     "output_type": "stream",
     "text": [
      "+--------------------+--------------------+-----+-----------+-------+-----------+\n",
      "|                hood|                type|count|avgLandArea|avgYear|   avgPrice|\n",
      "+--------------------+--------------------+-----+-----------+-------+-----------+\n",
      "|HIGHBRIDGE/MORRIS...|02  TWO FAMILY HO...|   24|       2407|   1945|  274374.42|\n",
      "|BEDFORD PARK/NORW...|02  TWO FAMILY HO...|   23|       2413|   1917|  360086.17|\n",
      "|FORDHAM          ...|07  RENTALS - WAL...|   22|       6657|   1921| 2315263.64|\n",
      "|BEDFORD PARK/NORW...|07  RENTALS - WAL...|   21|       8995|   1922| 3907523.81|\n",
      "|MELROSE/CONCOURSE...|07  RENTALS - WAL...|   18|       4512|   1924| 1800854.17|\n",
      "|MOUNT HOPE/MOUNT ...|08  RENTALS - ELE...|   17|      15337|   1932| 7809504.35|\n",
      "|MELROSE/CONCOURSE...|03  THREE FAMILY ...|   16|       2272|   1907|  277009.06|\n",
      "|MOTT HAVEN/PORT M...|02  TWO FAMILY HO...|   16|       1921|   1941|  317152.25|\n",
      "|KINGSBRIDGE HTS/U...|07  RENTALS - WAL...|   15|       7084|   1919| 2510546.27|\n",
      "|MELROSE/CONCOURSE...|02  TWO FAMILY HO...|   15|       1962|   1937|  261059.87|\n",
      "|MOUNT HOPE/MOUNT ...|07  RENTALS - WAL...|   15|       6528|   1921| 1908570.87|\n",
      "|HIGHBRIDGE/MORRIS...|08  RENTALS - ELE...|   14|      73932|   1932|15054755.79|\n",
      "|PELHAM PARKWAY SO...|01  ONE FAMILY HO...|   14|       2681|   1941|  409928.57|\n",
      "|BEDFORD PARK/NORW...|08  RENTALS - ELE...|   13|      10067|   1931| 3668538.46|\n",
      "|HIGHBRIDGE/MORRIS...|07  RENTALS - WAL...|   13|       7021|   1919| 1964250.38|\n",
      "|FORDHAM          ...|08  RENTALS - ELE...|   12|      10386|   1936| 3728073.58|\n",
      "|KINGSBRIDGE HTS/U...|02  TWO FAMILY HO...|   12|       2819|   1914|  279750.00|\n",
      "|MOTT HAVEN/PORT M...|30  WAREHOUSES   ...|   12|      50457|   1942|12469147.25|\n",
      "|BEDFORD PARK/NORW...|01  ONE FAMILY HO...|   11|       2839|   1909|  541681.82|\n",
      "|FORDHAM          ...|02  TWO FAMILY HO...|   11|       2231|   1918|  288136.36|\n",
      "+--------------------+--------------------+-----+-----------+-------+-----------+\n",
      "only showing top 20 rows\n",
      "\n",
      "root\n",
      " |-- hood: string (nullable = true)\n",
      " |-- type: string (nullable = true)\n",
      " |-- count: long (nullable = false)\n",
      " |-- avgLandArea: integer (nullable = true)\n",
      " |-- avgYear: integer (nullable = true)\n",
      " |-- avgPrice: decimal(10,2) (nullable = true)\n",
      "\n"
     ]
    }
   ],
   "source": [
    "query = \"\"\"\n",
    "SELECT \n",
    "    hood,\n",
    "    type,\n",
    "    COUNT(*) as count, -- costam\n",
    "    CAST(AVG(landArea) AS INT) as avgLandArea,\n",
    "    CAST(AVG(year) AS INT) as avgYear,\n",
    "    CAST(AVG(price) AS DECIMAL(10,2)) as avgPrice\n",
    "FROM sales\n",
    "WHERE year > 1500 AND landArea > 0 AND price > 0 AND hood IN (\n",
    "    SELECT hood FROM sales GROUP BY hood ORDER BY AVG(price) DESC LIMIT 10\n",
    "    ) \n",
    "GROUP BY hood, type\n",
    "HAVING count > 10\n",
    "ORDER BY count DESC, hood, type\n",
    "\"\"\"\n",
    "a1 = spark.sql(query)\n",
    "a1.show()\n",
    "a1.printSchema()"
   ]
  },
  {
   "cell_type": "code",
   "execution_count": 19,
   "metadata": {
    "collapsed": false
   },
   "outputs": [
    {
     "data": {
      "text/plain": [
       "DataFrame[grossArea: bigint, hood: string, landArea: bigint, price: bigint, type: string, year: bigint]"
      ]
     },
     "execution_count": 19,
     "metadata": {},
     "output_type": "execute_result"
    }
   ],
   "source": [
    "sales.cache()"
   ]
  },
  {
   "cell_type": "code",
   "execution_count": null,
   "metadata": {
    "collapsed": true
   },
   "outputs": [],
   "source": []
  }
 ],
 "metadata": {
  "anaconda-cloud": {},
  "kernelspec": {
   "display_name": "Python 3",
   "language": "python",
   "name": "python3"
  },
  "language_info": {
   "codemirror_mode": {
    "name": "ipython",
    "version": 3
   },
   "file_extension": ".py",
   "mimetype": "text/x-python",
   "name": "python",
   "nbconvert_exporter": "python",
   "pygments_lexer": "ipython3",
   "version": "3.6.0"
  }
 },
 "nbformat": 4,
 "nbformat_minor": 0
}
