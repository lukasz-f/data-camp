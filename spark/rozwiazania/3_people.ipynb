{
 "cells": [
  {
   "cell_type": "markdown",
   "metadata": {},
   "source": [
    "![](imgs/kodolamaczlogo.png)\n",
    "\n",
    "# Przetwarzanie Big Data z użyciem Apache Spark\n",
    "\n",
    "Autor notebooka: Jakub Nowacki.\n",
    "\n",
    "\n",
    "## Podstawy Spark SQL - People"
   ]
  },
  {
   "cell_type": "code",
   "execution_count": 1,
   "metadata": {
    "collapsed": false
   },
   "outputs": [],
   "source": [
    "import pyspark\n",
    "import pyspark.sql.functions as func\n",
    "\n",
    "spark = pyspark.sql.SparkSession.builder \\\n",
    "    .appName('people') \\\n",
    "    .getOrCreate()\n",
    "    \n",
    "# W wersji Spark < 2\n",
    "#sc = pyspark.SparkContext(appName='people')\n",
    "#spark = pyspark.sql.SQLContext(sc)"
   ]
  },
  {
   "cell_type": "code",
   "execution_count": null,
   "metadata": {
    "collapsed": true
   },
   "outputs": [],
   "source": [
    "spark.read."
   ]
  },
  {
   "cell_type": "code",
   "execution_count": 2,
   "metadata": {
    "collapsed": false
   },
   "outputs": [],
   "source": [
    "people = spark.read.json('data/people.json')"
   ]
  },
  {
   "cell_type": "code",
   "execution_count": 3,
   "metadata": {
    "collapsed": false
   },
   "outputs": [
    {
     "name": "stdout",
     "output_type": "stream",
     "text": [
      "root\n",
      " |-- age: long (nullable = true)\n",
      " |-- children: long (nullable = true)\n",
      " |-- gender: string (nullable = true)\n",
      " |-- name: string (nullable = true)\n",
      " |-- surname: string (nullable = true)\n",
      "\n"
     ]
    }
   ],
   "source": [
    "people.printSchema()"
   ]
  },
  {
   "cell_type": "code",
   "execution_count": 6,
   "metadata": {
    "collapsed": false
   },
   "outputs": [
    {
     "name": "stdout",
     "output_type": "stream",
     "text": [
      "+---+--------+------+-----+-------+\n",
      "|age|children|gender| name|surname|\n",
      "+---+--------+------+-----+-------+\n",
      "| 25|       2|  male| John|    Doe|\n",
      "| 35|       0|  male| Mike|    Foo|\n",
      "| 65|       1|female|  Liz|    Bar|\n",
      "| 34|       3|female|Emily|    Doe|\n",
      "+---+--------+------+-----+-------+\n",
      "\n"
     ]
    }
   ],
   "source": [
    "people.show()"
   ]
  },
  {
   "cell_type": "markdown",
   "metadata": {},
   "source": [
    "## Używająć SQL\n",
    "\n",
    "Do zapytań na DataFrames możemy użyc standardowego SQLa, dla którego będą one traktowane jak tabele w bazie danych. Pamiętaj, że Spark wspiera składnię ANSI/ISO SQL, więc konstrukcje typowe dla poszczególnych baz danych mogę nie być dostępne."
   ]
  },
  {
   "cell_type": "code",
   "execution_count": 11,
   "metadata": {
    "collapsed": false
   },
   "outputs": [],
   "source": [
    "# Musisz najpierw zarejestrować tabelę zanim ją użyjesz w zapytaniu.\n",
    "# Pamiętaj, że alias może mieć dowolną nazwę; nie jest on zależny od nazwy zmiennej.\n",
    "people.createOrReplaceTempView('people')"
   ]
  },
  {
   "cell_type": "code",
   "execution_count": 12,
   "metadata": {
    "collapsed": false
   },
   "outputs": [
    {
     "name": "stdout",
     "output_type": "stream",
     "text": [
      "<class 'pyspark.sql.dataframe.DataFrame'>\n",
      "+---+--------+------+-----+-------+\n",
      "|age|children|gender| name|surname|\n",
      "+---+--------+------+-----+-------+\n",
      "| 25|       2|  male| John|    Doe|\n",
      "| 35|       0|  male| Mike|    Foo|\n",
      "| 65|       1|female|  Liz|    Bar|\n",
      "| 34|       3|female|Emily|    Doe|\n",
      "+---+--------+------+-----+-------+\n",
      "\n"
     ]
    }
   ],
   "source": [
    "# Teraz możemy wykonywać zapytania\n",
    "r = spark.sql('SELECT * FROM people')\n",
    "# Wynikiem jest nowy DataFrame\n",
    "print(type(r))\n",
    "# Metoda show() drukuje przykład danych\n",
    "r.show()"
   ]
  },
  {
   "cell_type": "code",
   "execution_count": 9,
   "metadata": {
    "collapsed": false
   },
   "outputs": [
    {
     "data": {
      "text/plain": [
       "[Table(name='people', database=None, description=None, tableType='TEMPORARY', isTemporary=True)]"
      ]
     },
     "execution_count": 9,
     "metadata": {},
     "output_type": "execute_result"
    }
   ],
   "source": [
    "spark.catalog.listTables()"
   ]
  },
  {
   "cell_type": "code",
   "execution_count": 14,
   "metadata": {
    "collapsed": false
   },
   "outputs": [
    {
     "name": "stdout",
     "output_type": "stream",
     "text": [
      "+-----+---+\n",
      "| name|age|\n",
      "+-----+---+\n",
      "| John| 25|\n",
      "| Mike| 35|\n",
      "|  Liz| 65|\n",
      "|Emily| 34|\n",
      "+-----+---+\n",
      "\n"
     ]
    }
   ],
   "source": [
    "spark.sql('SELECT name, age FROM people').show()"
   ]
  },
  {
   "cell_type": "code",
   "execution_count": 15,
   "metadata": {
    "collapsed": false
   },
   "outputs": [
    {
     "name": "stdout",
     "output_type": "stream",
     "text": [
      "+---+--------+------+-----+-------+\n",
      "|age|children|gender| name|surname|\n",
      "+---+--------+------+-----+-------+\n",
      "| 35|       0|  male| Mike|    Foo|\n",
      "| 65|       1|female|  Liz|    Bar|\n",
      "| 34|       3|female|Emily|    Doe|\n",
      "+---+--------+------+-----+-------+\n",
      "\n"
     ]
    }
   ],
   "source": [
    "spark.sql('SELECT * FROM people WHERE age > 30').show()"
   ]
  },
  {
   "cell_type": "code",
   "execution_count": 16,
   "metadata": {
    "collapsed": false
   },
   "outputs": [
    {
     "name": "stdout",
     "output_type": "stream",
     "text": [
      "+------+-----+-------+------------+\n",
      "|gender|count|avg_age|avg_children|\n",
      "+------+-----+-------+------------+\n",
      "|female|    2|   49.5|         2.0|\n",
      "|  male|    2|   30.0|         1.0|\n",
      "+------+-----+-------+------------+\n",
      "\n"
     ]
    }
   ],
   "source": [
    "# Możesz użyć docstring do dłuższych zapytań\n",
    "query = \"\"\"\n",
    "    SELECT \n",
    "        gender,\n",
    "        count(*) AS count, \n",
    "        avg(age) AS avg_age, \n",
    "        avg(children) AS avg_children \n",
    "    FROM people \n",
    "    GROUP BY gender\n",
    "\"\"\"\n",
    "spark.sql(query).show()"
   ]
  },
  {
   "cell_type": "code",
   "execution_count": 17,
   "metadata": {
    "collapsed": false
   },
   "outputs": [
    {
     "name": "stdout",
     "output_type": "stream",
     "text": [
      "+----+-------+------+\n",
      "|name|surname|maxAge|\n",
      "+----+-------+------+\n",
      "|John|    Doe|    35|\n",
      "+----+-------+------+\n",
      "\n"
     ]
    }
   ],
   "source": [
    "# Czasami trzeba uważać, np. poniższe nie zadziała\n",
    "#spark.sql(\"SELECT name, surname, max(age) as maxAge FROM people WHERE gender = 'male'\").show()\n",
    "# Ale to zadziała poprawnie\n",
    "spark.sql(\"SELECT first(name) AS name, first(surname) AS surname, max(age) as maxAge FROM people WHERE gender = 'male'\").show()"
   ]
  },
  {
   "cell_type": "markdown",
   "metadata": {},
   "source": [
    "## Używanie metod DataFrame\n",
    "\n",
    "Alternatywnie do zapytań SQL, Spark DataFrame posiadają metody podobne do SQL do budowania zapytań. Zaletą w stosunku do SQL jest m.in. to, że większość błędów w zapytaniach wykrywana jest w czasie kompilacji. "
   ]
  },
  {
   "cell_type": "code",
   "execution_count": 18,
   "metadata": {
    "collapsed": false
   },
   "outputs": [
    {
     "name": "stdout",
     "output_type": "stream",
     "text": [
      "+-----+\n",
      "| name|\n",
      "+-----+\n",
      "| John|\n",
      "| Mike|\n",
      "|  Liz|\n",
      "|Emily|\n",
      "+-----+\n",
      "\n"
     ]
    }
   ],
   "source": [
    "people.select('name').show()"
   ]
  },
  {
   "cell_type": "code",
   "execution_count": 21,
   "metadata": {
    "collapsed": false
   },
   "outputs": [
    {
     "name": "stdout",
     "output_type": "stream",
     "text": [
      "+---+--------+------+-----+-------+\n",
      "|age|children|gender| name|surname|\n",
      "+---+--------+------+-----+-------+\n",
      "| 35|       0|  male| Mike|    Foo|\n",
      "| 65|       1|female|  Liz|    Bar|\n",
      "| 34|       3|female|Emily|    Doe|\n",
      "+---+--------+------+-----+-------+\n",
      "\n"
     ]
    }
   ],
   "source": [
    "people.where(people.age > 30).show()"
   ]
  },
  {
   "cell_type": "code",
   "execution_count": 24,
   "metadata": {
    "collapsed": false
   },
   "outputs": [
    {
     "name": "stdout",
     "output_type": "stream",
     "text": [
      "+------+-------+------------+\n",
      "|gender|avg_age|max_children|\n",
      "+------+-------+------------+\n",
      "|female|   49.5|           3|\n",
      "|  male|   30.0|           2|\n",
      "+------+-------+------------+\n",
      "\n"
     ]
    }
   ],
   "source": [
    "people.groupBy('gender') \\\n",
    "    .agg(func.avg('age').alias('avg_age'), \n",
    "         func.max('children').alias('max_children'))\\\n",
    "    .show()"
   ]
  },
  {
   "cell_type": "code",
   "execution_count": 23,
   "metadata": {
    "collapsed": false
   },
   "outputs": [
    {
     "name": "stdout",
     "output_type": "stream",
     "text": [
      "+------+-----+----+----+----+\n",
      "|gender|Emily|John| Liz|Mike|\n",
      "+------+-----+----+----+----+\n",
      "|female| 34.0|null|65.0|null|\n",
      "|  male| null|25.0|null|35.0|\n",
      "+------+-----+----+----+----+\n",
      "\n"
     ]
    }
   ],
   "source": [
    "people.groupBy('gender').pivot('name').agg(func.avg('age')).show()"
   ]
  },
  {
   "cell_type": "code",
   "execution_count": 26,
   "metadata": {
    "collapsed": false
   },
   "outputs": [
    {
     "name": "stdout",
     "output_type": "stream",
     "text": [
      "+----+-------+------+\n",
      "|name|surname|maxAge|\n",
      "+----+-------+------+\n",
      "|John|    Doe|    35|\n",
      "+----+-------+------+\n",
      "\n"
     ]
    }
   ],
   "source": [
    "people.where(people.gender == 'male') \\\n",
    "    .select(\n",
    "        func.first('name').alias('name'), \n",
    "        func.first('surname').alias('surname'), \n",
    "        func.max('age').alias('maxAge')) \\\n",
    "    .show()"
   ]
  },
  {
   "cell_type": "code",
   "execution_count": 28,
   "metadata": {
    "collapsed": false
   },
   "outputs": [
    {
     "data": {
      "text/html": [
       "<div>\n",
       "<table border=\"1\" class=\"dataframe\">\n",
       "  <thead>\n",
       "    <tr style=\"text-align: right;\">\n",
       "      <th></th>\n",
       "      <th>avg_age</th>\n",
       "      <th>max_children</th>\n",
       "    </tr>\n",
       "    <tr>\n",
       "      <th>gender</th>\n",
       "      <th></th>\n",
       "      <th></th>\n",
       "    </tr>\n",
       "  </thead>\n",
       "  <tbody>\n",
       "    <tr>\n",
       "      <th>female</th>\n",
       "      <td>49.5</td>\n",
       "      <td>3</td>\n",
       "    </tr>\n",
       "    <tr>\n",
       "      <th>male</th>\n",
       "      <td>30.0</td>\n",
       "      <td>2</td>\n",
       "    </tr>\n",
       "  </tbody>\n",
       "</table>\n",
       "</div>"
      ],
      "text/plain": [
       "        avg_age  max_children\n",
       "gender                       \n",
       "female     49.5             3\n",
       "male       30.0             2"
      ]
     },
     "execution_count": 28,
     "metadata": {},
     "output_type": "execute_result"
    },
    {
     "data": {
      "image/png": "[encoded data removed]",
      "text/plain": [
       "<matplotlib.figure.Figure at 0x7fcd000d3860>"
      ]
     },
     "metadata": {},
     "output_type": "display_data"
    }
   ],
   "source": [
    "import matplotlib\n",
    "%matplotlib inline\n",
    "\n",
    "# Można otrzymywać data frame Pandas bezpośrednio z DataFrames; pamiętaj jednak o rozmiarze danych...\n",
    "p = people.groupBy('gender').agg(func.avg('age').alias('avg_age'), \n",
    "                                 func.max('children').alias('max_children')) \\\n",
    "        .toPandas().set_index('gender')\n",
    "p.plot(kind='bar', figsize=(8,6))\n",
    "p"
   ]
  },
  {
   "cell_type": "markdown",
   "metadata": {},
   "source": [
    "## Zadania\n",
    "\n",
    "Wypróbuj dostępne metody SQL i DataFrames. Sugestie:\n",
    "\n",
    "* zbadaj dostępne funkcje\n",
    "* spróbuj zapisać DataFrame\n",
    "* spróbuj przekształcić DataFrame do RDD (podpowiedź: RDD zawiera obiekty Row)"
   ]
  },
  {
   "cell_type": "code",
   "execution_count": 29,
   "metadata": {
    "collapsed": false
   },
   "outputs": [
    {
     "data": {
      "text/plain": [
       "[Row(age=25, children=2, gender='male', name='John', surname='Doe'),\n",
       " Row(age=35, children=0, gender='male', name='Mike', surname='Foo'),\n",
       " Row(age=65, children=1, gender='female', name='Liz', surname='Bar'),\n",
       " Row(age=34, children=3, gender='female', name='Emily', surname='Doe')]"
      ]
     },
     "execution_count": 29,
     "metadata": {},
     "output_type": "execute_result"
    }
   ],
   "source": [
    "people.rdd."
   ]
  },
  {
   "cell_type": "code",
   "execution_count": 31,
   "metadata": {
    "collapsed": false
   },
   "outputs": [
    {
     "data": {
      "text/plain": [
       "[Row(age=25, children=2, gender='male', name='John', surname='Doe'),\n",
       " Row(age=35, children=0, gender='male', name='Mike', surname='Foo'),\n",
       " Row(age=65, children=1, gender='female', name='Liz', surname='Bar'),\n",
       " Row(age=34, children=3, gender='female', name='Emily', surname='Doe')]"
      ]
     },
     "execution_count": 31,
     "metadata": {},
     "output_type": "execute_result"
    }
   ],
   "source": [
    "p = people.collect()\n",
    "p"
   ]
  },
  {
   "cell_type": "code",
   "execution_count": 33,
   "metadata": {
    "collapsed": false
   },
   "outputs": [
    {
     "data": {
      "text/plain": [
       "Row(age=25, children=2, gender='male', name='John', surname='Doe')"
      ]
     },
     "execution_count": 33,
     "metadata": {},
     "output_type": "execute_result"
    }
   ],
   "source": [
    "r = p[0]\n",
    "r"
   ]
  },
  {
   "cell_type": "code",
   "execution_count": 35,
   "metadata": {
    "collapsed": false
   },
   "outputs": [
    {
     "data": {
      "text/plain": [
       "25"
      ]
     },
     "execution_count": 35,
     "metadata": {},
     "output_type": "execute_result"
    }
   ],
   "source": [
    "r['age']"
   ]
  },
  {
   "cell_type": "code",
   "execution_count": 36,
   "metadata": {
    "collapsed": false
   },
   "outputs": [
    {
     "data": {
      "text/plain": [
       "25"
      ]
     },
     "execution_count": 36,
     "metadata": {},
     "output_type": "execute_result"
    }
   ],
   "source": [
    "r.age"
   ]
  },
  {
   "cell_type": "code",
   "execution_count": 37,
   "metadata": {
    "collapsed": false
   },
   "outputs": [
    {
     "data": {
      "text/plain": [
       "25"
      ]
     },
     "execution_count": 37,
     "metadata": {},
     "output_type": "execute_result"
    }
   ],
   "source": [
    "r[0]"
   ]
  },
  {
   "cell_type": "code",
   "execution_count": 39,
   "metadata": {
    "collapsed": false
   },
   "outputs": [
    {
     "data": {
      "text/plain": [
       "{'age': 25, 'children': 2, 'gender': 'male', 'name': 'John', 'surname': 'Doe'}"
      ]
     },
     "execution_count": 39,
     "metadata": {},
     "output_type": "execute_result"
    }
   ],
   "source": [
    "r.asDict()"
   ]
  },
  {
   "cell_type": "code",
   "execution_count": 41,
   "metadata": {
    "collapsed": false
   },
   "outputs": [
    {
     "data": {
      "text/plain": [
       "[25, 2, 'male', 'John', 'Doe']"
      ]
     },
     "execution_count": 41,
     "metadata": {},
     "output_type": "execute_result"
    }
   ],
   "source": [
    "[v for v in r]"
   ]
  },
  {
   "cell_type": "code",
   "execution_count": 42,
   "metadata": {
    "collapsed": false
   },
   "outputs": [
    {
     "data": {
      "text/html": [
       "<div>\n",
       "<table border=\"1\" class=\"dataframe\">\n",
       "  <thead>\n",
       "    <tr style=\"text-align: right;\">\n",
       "      <th></th>\n",
       "      <th>age</th>\n",
       "      <th>children</th>\n",
       "      <th>gender</th>\n",
       "      <th>name</th>\n",
       "      <th>surname</th>\n",
       "    </tr>\n",
       "  </thead>\n",
       "  <tbody>\n",
       "    <tr>\n",
       "      <th>0</th>\n",
       "      <td>25</td>\n",
       "      <td>2</td>\n",
       "      <td>male</td>\n",
       "      <td>John</td>\n",
       "      <td>Doe</td>\n",
       "    </tr>\n",
       "    <tr>\n",
       "      <th>1</th>\n",
       "      <td>35</td>\n",
       "      <td>0</td>\n",
       "      <td>male</td>\n",
       "      <td>Mike</td>\n",
       "      <td>Foo</td>\n",
       "    </tr>\n",
       "    <tr>\n",
       "      <th>2</th>\n",
       "      <td>65</td>\n",
       "      <td>1</td>\n",
       "      <td>female</td>\n",
       "      <td>Liz</td>\n",
       "      <td>Bar</td>\n",
       "    </tr>\n",
       "    <tr>\n",
       "      <th>3</th>\n",
       "      <td>34</td>\n",
       "      <td>3</td>\n",
       "      <td>female</td>\n",
       "      <td>Emily</td>\n",
       "      <td>Doe</td>\n",
       "    </tr>\n",
       "  </tbody>\n",
       "</table>\n",
       "</div>"
      ],
      "text/plain": [
       "   age  children  gender   name surname\n",
       "0   25         2    male   John     Doe\n",
       "1   35         0    male   Mike     Foo\n",
       "2   65         1  female    Liz     Bar\n",
       "3   34         3  female  Emily     Doe"
      ]
     },
     "execution_count": 42,
     "metadata": {},
     "output_type": "execute_result"
    }
   ],
   "source": [
    "df = people.toPandas()\n",
    "df"
   ]
  },
  {
   "cell_type": "code",
   "execution_count": 43,
   "metadata": {
    "collapsed": true
   },
   "outputs": [],
   "source": [
    "df.to_excel('blah.xlsx')"
   ]
  },
  {
   "cell_type": "code",
   "execution_count": null,
   "metadata": {
    "collapsed": true
   },
   "outputs": [],
   "source": []
  }
 ],
 "metadata": {
  "anaconda-cloud": {},
  "kernelspec": {
   "display_name": "Python 3",
   "language": "python",
   "name": "python3"
  },
  "language_info": {
   "codemirror_mode": {
    "name": "ipython",
    "version": 3
   },
   "file_extension": ".py",
   "mimetype": "text/x-python",
   "name": "python",
   "nbconvert_exporter": "python",
   "pygments_lexer": "ipython3",
   "version": "3.6.0"
  }
 },
 "nbformat": 4,
 "nbformat_minor": 0
}
