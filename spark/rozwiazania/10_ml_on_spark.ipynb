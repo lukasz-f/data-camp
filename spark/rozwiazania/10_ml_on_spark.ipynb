{
 "cells": [
  {
   "cell_type": "markdown",
   "metadata": {},
   "source": [
    "![](imgs/kodolamaczlogo.png)\n",
    "\n",
    "# Przetwarzanie Big Data z użyciem Apache Spark\n",
    "\n",
    "Autor notebooka: Jakub Nowacki.\n",
    "\n",
    "## Uczenie Maszynowe (Machine Learning) na Spark\n",
    "\n",
    "Spark ML zawiera wiele algorytmów uczenia maszynowego, które się dobrze działają w sposób rozproszony i się skalują, w tym:\n",
    "\n",
    "* regresja liniowa,\n",
    "* regresja logistyczna,\n",
    "* algorytm random forest,\n",
    "* algorytm centroidów (k-means).\n",
    "\n",
    "To API wykorzystuje DataFrames bezpośrednio, więc jest nieco łatwiejsze w użyciu. "
   ]
  },
  {
   "cell_type": "code",
   "execution_count": 1,
   "metadata": {
    "collapsed": false
   },
   "outputs": [],
   "source": [
    "import pyspark\n",
    "import pyspark.sql.functions as func\n",
    "\n",
    "spark = pyspark.sql.SparkSession.builder \\\n",
    "    .appName(\"SparkML\") \\\n",
    "    .getOrCreate()\n",
    "sc = spark.sparkContext"
   ]
  },
  {
   "cell_type": "code",
   "execution_count": 2,
   "metadata": {
    "collapsed": true
   },
   "outputs": [],
   "source": [
    "from pyspark.ml import Pipeline\n",
    "from pyspark.ml.regression import LinearRegression\n",
    "from pyspark.ml.feature import VectorAssembler"
   ]
  },
  {
   "cell_type": "code",
   "execution_count": 3,
   "metadata": {
    "collapsed": true
   },
   "outputs": [],
   "source": [
    "# Ładujemy dane z pliku CSV.\n",
    "# Szczegółowy opis danych jest dostępny w pliku README\n",
    "rdd = sc.textFile(\"data/Bike-Sharing-Dataset/day.csv\")"
   ]
  },
  {
   "cell_type": "code",
   "execution_count": 4,
   "metadata": {
    "collapsed": false
   },
   "outputs": [
    {
     "data": {
      "text/plain": [
       "'instant,dteday,season,yr,mnth,holiday,weekday,workingday,weathersit,temp,atemp,hum,windspeed,casual,registered,cnt'"
      ]
     },
     "execution_count": 4,
     "metadata": {},
     "output_type": "execute_result"
    }
   ],
   "source": [
    "rdd.first()"
   ]
  },
  {
   "cell_type": "code",
   "execution_count": 5,
   "metadata": {
    "collapsed": true
   },
   "outputs": [],
   "source": [
    "def from_csv(line):\n",
    "    cols = line.split(\",\")\n",
    "    d = dict()\n",
    "    d['yr'] = float(cols[3])\n",
    "    d['workingday'] = float(cols[7])\n",
    "    d['weathersit'] = float(cols[8])\n",
    "    d['temp'] = float(cols[9])\n",
    "    d['hum'] = float(cols[11])\n",
    "    d['windspeed'] = float(cols[12])\n",
    "    d['casual'] = float(cols[13])   \n",
    "    return pyspark.Row(**d)"
   ]
  },
  {
   "cell_type": "code",
   "execution_count": 6,
   "metadata": {
    "collapsed": false
   },
   "outputs": [],
   "source": [
    "rows = rdd \\\n",
    "  .filter(lambda line: not line.startswith(\"instant\")) \\\n",
    "  .map(lambda line: from_csv(line))"
   ]
  },
  {
   "cell_type": "code",
   "execution_count": 7,
   "metadata": {
    "collapsed": false
   },
   "outputs": [
    {
     "data": {
      "text/plain": [
       "[Row(casual=331.0, hum=0.805833, temp=0.344167, weathersit=2.0, windspeed=0.160446, workingday=0.0, yr=0.0),\n",
       " Row(casual=131.0, hum=0.696087, temp=0.363478, weathersit=2.0, windspeed=0.248539, workingday=0.0, yr=0.0),\n",
       " Row(casual=120.0, hum=0.437273, temp=0.196364, weathersit=1.0, windspeed=0.248309, workingday=1.0, yr=0.0),\n",
       " Row(casual=108.0, hum=0.590435, temp=0.2, weathersit=1.0, windspeed=0.160296, workingday=1.0, yr=0.0),\n",
       " Row(casual=82.0, hum=0.436957, temp=0.226957, weathersit=1.0, windspeed=0.1869, workingday=1.0, yr=0.0)]"
      ]
     },
     "execution_count": 7,
     "metadata": {},
     "output_type": "execute_result"
    }
   ],
   "source": [
    "rows.take(5)"
   ]
  },
  {
   "cell_type": "code",
   "execution_count": 24,
   "metadata": {
    "collapsed": false
   },
   "outputs": [
    {
     "name": "stdout",
     "output_type": "stream",
     "text": [
      "+------+--------+--------+----------+---------+----------+---+------------------+\n",
      "|casual|     hum|    temp|weathersit|windspeed|workingday| yr|        log_casual|\n",
      "+------+--------+--------+----------+---------+----------+---+------------------+\n",
      "| 331.0|0.805833|0.344167|       2.0| 0.160446|       0.0|0.0| 2.519827993775719|\n",
      "| 131.0|0.696087|0.363478|       2.0| 0.248539|       0.0|0.0|2.1172712956557644|\n",
      "| 120.0|0.437273|0.196364|       1.0| 0.248309|       1.0|0.0|2.0791812460476247|\n",
      "| 108.0|0.590435|     0.2|       1.0| 0.160296|       1.0|0.0|  2.03342375548695|\n",
      "|  82.0|0.436957|0.226957|       1.0|   0.1869|       1.0|0.0|1.9138138523837167|\n",
      "|  88.0|0.518261|0.204348|       1.0|0.0895652|       1.0|0.0|1.9444826721501687|\n",
      "| 148.0|0.498696|0.196522|       2.0| 0.168726|       1.0|0.0|2.1702617153949575|\n",
      "|  68.0|0.535833|   0.165|       2.0| 0.266804|       0.0|0.0|1.8325089127062364|\n",
      "|  54.0|0.434167|0.138333|       1.0|  0.36195|       0.0|0.0|1.7323937598229686|\n",
      "|  41.0|0.482917|0.150833|       1.0| 0.223267|       1.0|0.0|1.6127838567197355|\n",
      "|  43.0|0.686364|0.169091|       2.0| 0.122132|       1.0|0.0|1.6334684555795864|\n",
      "|  25.0|0.599545|0.172727|       1.0| 0.304627|       1.0|0.0|1.3979400086720377|\n",
      "|  38.0|0.470417|   0.165|       1.0|    0.301|       1.0|0.0|1.5797835966168101|\n",
      "|  54.0|0.537826| 0.16087|       1.0| 0.126548|       1.0|0.0|1.7323937598229686|\n",
      "| 222.0| 0.49875|0.233333|       2.0| 0.157963|       0.0|0.0| 2.346352974450639|\n",
      "| 251.0| 0.48375|0.231667|       1.0| 0.188433|       0.0|0.0| 2.399673721481038|\n",
      "| 117.0|  0.5375|0.175833|       2.0| 0.194017|       0.0|0.0|2.0681858617461617|\n",
      "|   9.0|0.861667|0.216667|       2.0| 0.146775|       1.0|0.0|0.9542425094393249|\n",
      "|  78.0|0.741739|0.292174|       2.0| 0.208317|       1.0|0.0|1.8920946026904804|\n",
      "|  83.0|0.538333|0.261667|       2.0| 0.195904|       1.0|0.0| 1.919078092376074|\n",
      "+------+--------+--------+----------+---------+----------+---+------------------+\n",
      "only showing top 20 rows\n",
      "\n"
     ]
    }
   ],
   "source": [
    "train_df = spark.createDataFrame(rows)\\\n",
    "    .withColumn('log_casual', func.log10('casual'))\n",
    "train_df.show()"
   ]
  },
  {
   "cell_type": "code",
   "execution_count": 9,
   "metadata": {
    "collapsed": true
   },
   "outputs": [],
   "source": [
    "VectorAssembler?"
   ]
  },
  {
   "cell_type": "code",
   "execution_count": 25,
   "metadata": {
    "collapsed": false
   },
   "outputs": [
    {
     "name": "stdout",
     "output_type": "stream",
     "text": [
      "root\n",
      " |-- casual: double (nullable = true)\n",
      " |-- hum: double (nullable = true)\n",
      " |-- temp: double (nullable = true)\n",
      " |-- weathersit: double (nullable = true)\n",
      " |-- windspeed: double (nullable = true)\n",
      " |-- workingday: double (nullable = true)\n",
      " |-- yr: double (nullable = true)\n",
      " |-- log_casual: double (nullable = true)\n",
      " |-- features: vector (nullable = true)\n",
      "\n",
      "+------+--------+--------+----------+---------+----------+---+------------------+--------------------+\n",
      "|casual|     hum|    temp|weathersit|windspeed|workingday| yr|        log_casual|            features|\n",
      "+------+--------+--------+----------+---------+----------+---+------------------+--------------------+\n",
      "| 331.0|0.805833|0.344167|       2.0| 0.160446|       0.0|0.0| 2.519827993775719|[0.0,0.0,2.0,0.34...|\n",
      "| 131.0|0.696087|0.363478|       2.0| 0.248539|       0.0|0.0|2.1172712956557644|[0.0,0.0,2.0,0.36...|\n",
      "| 120.0|0.437273|0.196364|       1.0| 0.248309|       1.0|0.0|2.0791812460476247|[0.0,1.0,1.0,0.19...|\n",
      "| 108.0|0.590435|     0.2|       1.0| 0.160296|       1.0|0.0|  2.03342375548695|[0.0,1.0,1.0,0.2,...|\n",
      "|  82.0|0.436957|0.226957|       1.0|   0.1869|       1.0|0.0|1.9138138523837167|[0.0,1.0,1.0,0.22...|\n",
      "|  88.0|0.518261|0.204348|       1.0|0.0895652|       1.0|0.0|1.9444826721501687|[0.0,1.0,1.0,0.20...|\n",
      "| 148.0|0.498696|0.196522|       2.0| 0.168726|       1.0|0.0|2.1702617153949575|[0.0,1.0,2.0,0.19...|\n",
      "|  68.0|0.535833|   0.165|       2.0| 0.266804|       0.0|0.0|1.8325089127062364|[0.0,0.0,2.0,0.16...|\n",
      "|  54.0|0.434167|0.138333|       1.0|  0.36195|       0.0|0.0|1.7323937598229686|[0.0,0.0,1.0,0.13...|\n",
      "|  41.0|0.482917|0.150833|       1.0| 0.223267|       1.0|0.0|1.6127838567197355|[0.0,1.0,1.0,0.15...|\n",
      "|  43.0|0.686364|0.169091|       2.0| 0.122132|       1.0|0.0|1.6334684555795864|[0.0,1.0,2.0,0.16...|\n",
      "|  25.0|0.599545|0.172727|       1.0| 0.304627|       1.0|0.0|1.3979400086720377|[0.0,1.0,1.0,0.17...|\n",
      "|  38.0|0.470417|   0.165|       1.0|    0.301|       1.0|0.0|1.5797835966168101|[0.0,1.0,1.0,0.16...|\n",
      "|  54.0|0.537826| 0.16087|       1.0| 0.126548|       1.0|0.0|1.7323937598229686|[0.0,1.0,1.0,0.16...|\n",
      "| 222.0| 0.49875|0.233333|       2.0| 0.157963|       0.0|0.0| 2.346352974450639|[0.0,0.0,2.0,0.23...|\n",
      "| 251.0| 0.48375|0.231667|       1.0| 0.188433|       0.0|0.0| 2.399673721481038|[0.0,0.0,1.0,0.23...|\n",
      "| 117.0|  0.5375|0.175833|       2.0| 0.194017|       0.0|0.0|2.0681858617461617|[0.0,0.0,2.0,0.17...|\n",
      "|   9.0|0.861667|0.216667|       2.0| 0.146775|       1.0|0.0|0.9542425094393249|[0.0,1.0,2.0,0.21...|\n",
      "|  78.0|0.741739|0.292174|       2.0| 0.208317|       1.0|0.0|1.8920946026904804|[0.0,1.0,2.0,0.29...|\n",
      "|  83.0|0.538333|0.261667|       2.0| 0.195904|       1.0|0.0| 1.919078092376074|[0.0,1.0,2.0,0.26...|\n",
      "+------+--------+--------+----------+---------+----------+---+------------------+--------------------+\n",
      "only showing top 20 rows\n",
      "\n"
     ]
    }
   ],
   "source": [
    "va = VectorAssembler(inputCols=['yr', 'workingday', 'weathersit', 'temp', 'hum', 'windspeed'], outputCol='features')\n",
    "t = va.transform(train_df)\n",
    "t.printSchema()\n",
    "t.show()"
   ]
  },
  {
   "cell_type": "code",
   "execution_count": 26,
   "metadata": {
    "collapsed": false
   },
   "outputs": [
    {
     "name": "stdout",
     "output_type": "stream",
     "text": [
      "+--------------------+\n",
      "|            features|\n",
      "+--------------------+\n",
      "|[0.0,0.0,2.0,0.34...|\n",
      "|[0.0,0.0,2.0,0.36...|\n",
      "|[0.0,1.0,1.0,0.19...|\n",
      "|[0.0,1.0,1.0,0.2,...|\n",
      "|[0.0,1.0,1.0,0.22...|\n",
      "|[0.0,1.0,1.0,0.20...|\n",
      "|[0.0,1.0,2.0,0.19...|\n",
      "|[0.0,0.0,2.0,0.16...|\n",
      "|[0.0,0.0,1.0,0.13...|\n",
      "|[0.0,1.0,1.0,0.15...|\n",
      "|[0.0,1.0,2.0,0.16...|\n",
      "|[0.0,1.0,1.0,0.17...|\n",
      "|[0.0,1.0,1.0,0.16...|\n",
      "|[0.0,1.0,1.0,0.16...|\n",
      "|[0.0,0.0,2.0,0.23...|\n",
      "|[0.0,0.0,1.0,0.23...|\n",
      "|[0.0,0.0,2.0,0.17...|\n",
      "|[0.0,1.0,2.0,0.21...|\n",
      "|[0.0,1.0,2.0,0.29...|\n",
      "|[0.0,1.0,2.0,0.26...|\n",
      "+--------------------+\n",
      "only showing top 20 rows\n",
      "\n"
     ]
    }
   ],
   "source": [
    "# Regresja liniowa oczekuje wektora zmiennych objaśniających (features) typu Vector (albo SparseVector).\n",
    "# Nazwa 'features' jest standardowa ale można przekazać inną nazwę kolumny do modelu.\n",
    "t.select(t.features).show()"
   ]
  },
  {
   "cell_type": "code",
   "execution_count": 27,
   "metadata": {
    "collapsed": false
   },
   "outputs": [
    {
     "name": "stdout",
     "output_type": "stream",
     "text": [
      "+------+\n",
      "|casual|\n",
      "+------+\n",
      "| 331.0|\n",
      "| 131.0|\n",
      "| 120.0|\n",
      "| 108.0|\n",
      "|  82.0|\n",
      "|  88.0|\n",
      "| 148.0|\n",
      "|  68.0|\n",
      "|  54.0|\n",
      "|  41.0|\n",
      "|  43.0|\n",
      "|  25.0|\n",
      "|  38.0|\n",
      "|  54.0|\n",
      "| 222.0|\n",
      "| 251.0|\n",
      "| 117.0|\n",
      "|   9.0|\n",
      "|  78.0|\n",
      "|  83.0|\n",
      "+------+\n",
      "only showing top 20 rows\n",
      "\n"
     ]
    }
   ],
   "source": [
    "# Regresja liniowa oczekuje standardowo żeby kolumna wartości objaśnianych była nazwana 'label',\n",
    "# możemy zatem przezwać kolumnę lub przekazać inną nazwę.\n",
    "t.select(t.casual).show()"
   ]
  },
  {
   "cell_type": "code",
   "execution_count": 35,
   "metadata": {
    "collapsed": true
   },
   "outputs": [],
   "source": [
    "# tworzenie estymatora\n",
    "lr = LinearRegression(maxIter=100, labelCol='log_casual')"
   ]
  },
  {
   "cell_type": "code",
   "execution_count": 36,
   "metadata": {
    "collapsed": false
   },
   "outputs": [
    {
     "data": {
      "text/plain": [
       "Pipeline_4cd9a4b42f0c4ab85aa7"
      ]
     },
     "execution_count": 36,
     "metadata": {},
     "output_type": "execute_result"
    }
   ],
   "source": [
    "# Możemy wytrenować estymator bezpośrednio używając metody fit(),\n",
    "# ale lepiej jest użyć pipeline który połączy transormatory i estymatory ze sobą.\n",
    "p = Pipeline(stages=[va, lr])\n",
    "p"
   ]
  },
  {
   "cell_type": "code",
   "execution_count": 37,
   "metadata": {
    "collapsed": false
   },
   "outputs": [],
   "source": [
    "# Trenujemy model używając podstawowej formy danych; \n",
    "# niezbędne przetworzenia wykona za nas pipeline\n",
    "lrmodel = p.fit(train_df)"
   ]
  },
  {
   "cell_type": "code",
   "execution_count": 38,
   "metadata": {
    "collapsed": false
   },
   "outputs": [
    {
     "name": "stdout",
     "output_type": "stream",
     "text": [
      "+---+----------+----------+--------+--------+---------+--------------------+------------------+\n",
      "| yr|workingday|weathersit|    temp|     hum|windspeed|            features|        prediction|\n",
      "+---+----------+----------+--------+--------+---------+--------------------+------------------+\n",
      "|0.0|       0.0|       2.0|0.344167|0.805833| 0.160446|[0.0,0.0,2.0,0.34...|2.5902189240944224|\n",
      "+---+----------+----------+--------+--------+---------+--------------------+------------------+\n",
      "\n"
     ]
    }
   ],
   "source": [
    "# predykcja\n",
    "test_df = spark.createDataFrame([(0.0,0.0,2.0,0.344167,0.805833,0.160446)], va.getInputCols())\n",
    "lrmodel.transform(test_df).show()"
   ]
  },
  {
   "cell_type": "code",
   "execution_count": 43,
   "metadata": {
    "collapsed": false
   },
   "outputs": [
    {
     "name": "stdout",
     "output_type": "stream",
     "text": [
      "+------------------+------------------+\n",
      "|            casual|        prediction|\n",
      "+------------------+------------------+\n",
      "| 2.519827993775719|2.5902189240944224|\n",
      "|2.1172712956557644|2.5854908064631426|\n",
      "|2.0791812460476247|  2.14255685253507|\n",
      "|  2.03342375548695| 2.173527588423627|\n",
      "|1.9138138523837167|2.2325089974868315|\n",
      "|1.9444826721501687|2.2447546495057007|\n",
      "|2.1702617153949575|  2.04912273015218|\n",
      "|1.8325089127062364|2.2970068066044864|\n",
      "|1.7323937598229686| 2.347242589312237|\n",
      "|1.6127838567197355| 2.077643305979551|\n",
      "|1.6334684555795864|1.9952654305639337|\n",
      "|1.3979400086720377| 2.030436176306222|\n",
      "|1.5797835966168101| 2.049905585304254|\n",
      "|1.7323937598229686| 2.146791110584616|\n",
      "| 2.346352974450639|2.4868839384681407|\n",
      "| 2.399673721481038| 2.600852937670821|\n",
      "|2.0681858617461617| 2.363159388727811|\n",
      "|0.9542425094393249|2.0137727695990955|\n",
      "|1.8920946026904804|2.1178055453286775|\n",
      "| 1.919078092376074| 2.124183386350578|\n",
      "+------------------+------------------+\n",
      "only showing top 20 rows\n",
      "\n"
     ]
    }
   ],
   "source": [
    "# prawdziwe odpowiedzi i predykcja\n",
    "y_ypred = lrmodel.transform(train_df).select(func.col('log_casual').alias('casual'), 'prediction')\n",
    "y_ypred.show()"
   ]
  },
  {
   "cell_type": "code",
   "execution_count": 44,
   "metadata": {
    "collapsed": false
   },
   "outputs": [
    {
     "name": "stdout",
     "output_type": "stream",
     "text": [
      "+-----------------+-------------------+------------------+\n",
      "|             mean|           variance| residual_variance|\n",
      "+-----------------+-------------------+------------------+\n",
      "|2.756815588647298|0.19559615147083714|0.0569941052663099|\n",
      "+-----------------+-------------------+------------------+\n",
      "\n"
     ]
    }
   ],
   "source": [
    "# policzmy R^2 ręcznie\n",
    "df_r2 = y_ypred.select(\n",
    "    func.mean('casual').alias('mean'), \n",
    "    func.variance('casual').alias('variance'), \n",
    "    (func.sum(func.pow(y_ypred.casual - y_ypred.prediction, 2))/func.count('casual')).alias('residual_variance')) \n",
    "df_r2.show()"
   ]
  },
  {
   "cell_type": "code",
   "execution_count": 45,
   "metadata": {
    "collapsed": false
   },
   "outputs": [
    {
     "name": "stdout",
     "output_type": "stream",
     "text": [
      "R^2 is: 0.709\n"
     ]
    }
   ],
   "source": [
    "r = df_r2.collect()[0]\n",
    "\n",
    "R2 = 1 - r.residual_variance/r.variance\n",
    "\n",
    "print(\"R^2 is: {:.3f}\".format(R2))"
   ]
  },
  {
   "cell_type": "markdown",
   "metadata": {},
   "source": [
    "### Zadanie\n",
    "\n",
    "* Użyj skali logarytmicznej dla `casual`.\n",
    "* ★ Przeprowadź kroswalidację (podpowiedź: `train_df.sample(False, 0.75)` lub sprawdź `pyspark.ml.tuning.CrossValidator`)."
   ]
  }
 ],
 "metadata": {
  "kernelspec": {
   "display_name": "Python 3",
   "language": "python",
   "name": "python3"
  },
  "language_info": {
   "codemirror_mode": {
    "name": "ipython",
    "version": 3
   },
   "file_extension": ".py",
   "mimetype": "text/x-python",
   "name": "python",
   "nbconvert_exporter": "python",
   "pygments_lexer": "ipython3",
   "version": "3.6.0"
  }
 },
 "nbformat": 4,
 "nbformat_minor": 0
}
