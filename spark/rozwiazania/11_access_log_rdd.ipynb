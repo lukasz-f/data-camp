{
 "cells": [
  {
   "cell_type": "markdown",
   "metadata": {},
   "source": [
    "![](imgs/kodolamaczlogo.png)\n",
    "\n",
    "# Przetwarzanie Big Data z użyciem Apache Spark\n",
    "\n",
    "Autor notebooka: Jakub Nowacki.\n",
    "\n",
    "\n",
    "## Spark Streaming - testy za pomocą RDD"
   ]
  },
  {
   "cell_type": "code",
   "execution_count": 1,
   "metadata": {
    "collapsed": true
   },
   "outputs": [],
   "source": [
    "import pyspark\n",
    "import pyspark.streaming\n",
    "\n",
    "# Lokalny kontekst Spark z 2 workerami agregujący dane z 1 sekundy.\n",
    "sc = pyspark.SparkContext(master=\"local[2]\", appName=\"AccessLogStreamAnalysis\")"
   ]
  },
  {
   "cell_type": "code",
   "execution_count": 2,
   "metadata": {
    "collapsed": true
   },
   "outputs": [],
   "source": [
    "# Czytamy z pliku tekstowego do RDD\n",
    "lines = sc.textFile(\"data/access_log\")"
   ]
  },
  {
   "cell_type": "code",
   "execution_count": 41,
   "metadata": {
    "collapsed": true
   },
   "outputs": [],
   "source": [
    "# Funkcja pomocnicza do czytania wierszy\n",
    "def get_row(line):\n",
    "    cols = line.split()\n",
    "    row = dict()\n",
    "    source = cols[0]\n",
    "    method = cols[5].replace('\"', '')\n",
    "    if len(cols) > 8:\n",
    "        code = cols[8]\n",
    "    else:\n",
    "        code = None\n",
    "    return (source, (method, code))"
   ]
  },
  {
   "cell_type": "code",
   "execution_count": 42,
   "metadata": {
    "collapsed": true
   },
   "outputs": [],
   "source": [
    "# Czytanie wierszy\n",
    "rows = lines.map(lambda l: get_row(l))"
   ]
  },
  {
   "cell_type": "code",
   "execution_count": 43,
   "metadata": {
    "collapsed": false
   },
   "outputs": [
    {
     "data": {
      "text/plain": [
       "1546"
      ]
     },
     "execution_count": 43,
     "metadata": {},
     "output_type": "execute_result"
    }
   ],
   "source": [
    "# Liczenie wiersz\n",
    "count = rows.count()\n",
    "count"
   ]
  },
  {
   "cell_type": "code",
   "execution_count": 58,
   "metadata": {
    "collapsed": true
   },
   "outputs": [],
   "source": [
    "def get_sets(values):\n",
    "    d = { 'methods': {v[0] for v in values},\n",
    "          'codes': {v[1] for v in values}}\n",
    "    return d"
   ]
  },
  {
   "cell_type": "code",
   "execution_count": 59,
   "metadata": {
    "collapsed": false
   },
   "outputs": [
    {
     "data": {
      "text/plain": [
       "[('lj1090.inktomisearch.com', {'codes': {'200'}, 'methods': {'GET'}}),\n",
       " ('d207-6-9-183.bchsia.telus.net', {'codes': {'200'}, 'methods': {'GET'}}),\n",
       " ('80-219-148-207.dclient.hispeed.ch',\n",
       "  {'codes': {'200'}, 'methods': {'OPTIONS'}}),\n",
       " ('mmscrm07-2.sac.overture.com', {'codes': {'200'}, 'methods': {'GET'}}),\n",
       " ('h24-70-56-49.ca.shawcable.net',\n",
       "  {'codes': {'200', '404'}, 'methods': {'GET'}})]"
      ]
     },
     "execution_count": 59,
     "metadata": {},
     "output_type": "execute_result"
    }
   ],
   "source": [
    "# Znajdowanie wszystkich metod w tej porcji loga\n",
    "grouped = rows.groupByKey()\n",
    "grouped.mapValues(get_sets).take(5)"
   ]
  },
  {
   "cell_type": "code",
   "execution_count": 50,
   "metadata": {
    "collapsed": false
   },
   "outputs": [
    {
     "data": {
      "text/plain": [
       "[('lj1090.inktomisearch.com', {('GET', '200')}),\n",
       " ('d207-6-9-183.bchsia.telus.net', {('GET', '200')}),\n",
       " ('80-219-148-207.dclient.hispeed.ch', {('OPTIONS', '200')}),\n",
       " ('mmscrm07-2.sac.overture.com', {('GET', '200')}),\n",
       " ('h24-70-56-49.ca.shawcable.net', {('GET', '200'), ('GET', '404')})]"
      ]
     },
     "execution_count": 50,
     "metadata": {},
     "output_type": "execute_result"
    }
   ],
   "source": [
    "# Znajdowanie wszystkich metod w tej porcji loga\n",
    "grouped = rows.groupByKey()\n",
    "grouped.mapValues(lambda values: {}).take(5)"
   ]
  },
  {
   "cell_type": "code",
   "execution_count": 51,
   "metadata": {
    "collapsed": false
   },
   "outputs": [
    {
     "data": {
      "text/plain": [
       "[('GET', '200'), ('GET', '404'), ('GET', '200'), ('GET', '404')]"
      ]
     },
     "execution_count": 51,
     "metadata": {},
     "output_type": "execute_result"
    }
   ],
   "source": [
    "l = [('GET', '200'), ('GET', '404'), ('GET', '200'), ('GET', '404')]\n",
    "l"
   ]
  },
  {
   "cell_type": "code",
   "execution_count": 55,
   "metadata": {
    "collapsed": false
   },
   "outputs": [
    {
     "data": {
      "text/plain": [
       "{'codes': {'200', '404'}, 'methods': {'GET'}}"
      ]
     },
     "execution_count": 55,
     "metadata": {},
     "output_type": "execute_result"
    }
   ],
   "source": [
    "d = { 'methods': {v[0] for v in l},\n",
    "      'codes': {v[1] for v in l}}\n",
    "d"
   ]
  },
  {
   "cell_type": "code",
   "execution_count": 53,
   "metadata": {
    "collapsed": false
   },
   "outputs": [
    {
     "data": {
      "text/plain": [
       "{'200', '404'}"
      ]
     },
     "execution_count": 53,
     "metadata": {},
     "output_type": "execute_result"
    }
   ],
   "source": [
    "{v[1] for v in l}"
   ]
  },
  {
   "cell_type": "code",
   "execution_count": null,
   "metadata": {
    "collapsed": true
   },
   "outputs": [],
   "source": []
  },
  {
   "cell_type": "markdown",
   "metadata": {
    "collapsed": true
   },
   "source": [
    "## Zadania\n",
    "\n",
    "* Zbadaj dane.\n",
    "* Wyczytaj inne wartości takie jak znacznik czasu czy ścieżkę.\n",
    "* Policz ilość rekordów dla jednego źródła.\n",
    "* ★ Policz metody dla jednego źródła.\n",
    "* ★ Policz rekordy dla 5s.\n",
    "\n",
    "Podpowiedź: dane ze strumienia są w pliku `data/access_log`."
   ]
  },
  {
   "cell_type": "code",
   "execution_count": 26,
   "metadata": {
    "collapsed": false
   },
   "outputs": [
    {
     "data": {
      "text/plain": [
       "['64.242.88.10 - - [07/Mar/2004:16:05:49 -0800] \"GET /twiki/bin/edit/Main/Double_bounce_sender?topicparent=Main.ConfigurationVariables HTTP/1.1\" 401 12846',\n",
       " '64.242.88.10 - - [07/Mar/2004:16:06:51 -0800] \"GET /twiki/bin/rdiff/TWiki/NewUserTemplate?rev1=1.3&rev2=1.2 HTTP/1.1\" 200 4523',\n",
       " '64.242.88.10 - - [07/Mar/2004:16:10:02 -0800] \"GET /mailman/listinfo/hsdivision HTTP/1.1\" 200 6291',\n",
       " '64.242.88.10 - - [07/Mar/2004:16:11:58 -0800] \"GET /twiki/bin/view/TWiki/WikiSyntax HTTP/1.1\" 200 7352',\n",
       " '64.242.88.10 - - [07/Mar/2004:16:20:55 -0800] \"GET /twiki/bin/view/Main/DCCAndPostFix HTTP/1.1\" 200 5253']"
      ]
     },
     "execution_count": 26,
     "metadata": {},
     "output_type": "execute_result"
    }
   ],
   "source": [
    "lines.take(5)"
   ]
  },
  {
   "cell_type": "code",
   "execution_count": null,
   "metadata": {
    "collapsed": true
   },
   "outputs": [],
   "source": []
  }
 ],
 "metadata": {
  "kernelspec": {
   "display_name": "Python 3",
   "language": "python",
   "name": "python3"
  },
  "language_info": {
   "codemirror_mode": {
    "name": "ipython",
    "version": 3
   },
   "file_extension": ".py",
   "mimetype": "text/x-python",
   "name": "python",
   "nbconvert_exporter": "python",
   "pygments_lexer": "ipython3",
   "version": "3.6.0"
  }
 },
 "nbformat": 4,
 "nbformat_minor": 1
}
