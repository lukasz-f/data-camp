{
 "cells": [
  {
   "cell_type": "markdown",
   "metadata": {},
   "source": [
    "![](imgs/kodolamaczlogo.png)\n",
    "\n",
    "# Przetwarzanie Big Data z użyciem Apache Spark\n",
    "\n",
    "Autor notebooka: Jakub Nowacki.\n",
    "\n",
    "## Więcej niż MapReduce"
   ]
  },
  {
   "cell_type": "code",
   "execution_count": 1,
   "metadata": {
    "collapsed": false
   },
   "outputs": [],
   "source": [
    "import pyspark\n",
    "spark = pyspark.sql.SparkSession.builder \\\n",
    "    .appName(\"beyondMapReduce\") \\\n",
    "    .getOrCreate()\n",
    "sc = spark.sparkContext"
   ]
  },
  {
   "cell_type": "markdown",
   "metadata": {},
   "source": [
    "## Akumulatory\n",
    "\n",
    "Akumulatory to zmienne tylko do zapisu dla workerów, które służą do zliczania wystąpień."
   ]
  },
  {
   "cell_type": "code",
   "execution_count": 2,
   "metadata": {
    "collapsed": false
   },
   "outputs": [],
   "source": [
    "acc = sc.accumulator(0)"
   ]
  },
  {
   "cell_type": "code",
   "execution_count": 3,
   "metadata": {
    "collapsed": false
   },
   "outputs": [],
   "source": [
    "rdd = sc.textFile(\"data/titus_andronicus.txt\")"
   ]
  },
  {
   "cell_type": "code",
   "execution_count": 4,
   "metadata": {
    "collapsed": true
   },
   "outputs": [],
   "source": [
    "rdd.foreach(lambda x: acc.add(1))"
   ]
  },
  {
   "cell_type": "code",
   "execution_count": 5,
   "metadata": {
    "collapsed": false
   },
   "outputs": [
    {
     "data": {
      "text/plain": [
       "3255"
      ]
     },
     "execution_count": 5,
     "metadata": {},
     "output_type": "execute_result"
    }
   ],
   "source": [
    "# Wartość dostępna jest jako\n",
    "acc.value"
   ]
  },
  {
   "cell_type": "code",
   "execution_count": 12,
   "metadata": {
    "collapsed": false
   },
   "outputs": [
    {
     "data": {
      "text/plain": [
       "0"
      ]
     },
     "execution_count": 12,
     "metadata": {},
     "output_type": "execute_result"
    }
   ],
   "source": [
    "acc.aid"
   ]
  },
  {
   "cell_type": "code",
   "execution_count": 6,
   "metadata": {
    "collapsed": true
   },
   "outputs": [],
   "source": [
    "# Akumulatory można opakowywać w funkję, jeżeli zachodzi taka potrzeba\n",
    "def function_with_acc(x):\n",
    "    acc.add(1)"
   ]
  },
  {
   "cell_type": "code",
   "execution_count": 15,
   "metadata": {
    "collapsed": true
   },
   "outputs": [],
   "source": [
    "# Akumulatory można opakowywać w funkję, jeżeli zachodzi taka potrzeba\n",
    "c = 0\n",
    "def function_with_acc(x):\n",
    "    global c\n",
    "    c += 1\n",
    "    acc.add(1)"
   ]
  },
  {
   "cell_type": "code",
   "execution_count": 16,
   "metadata": {
    "collapsed": false
   },
   "outputs": [],
   "source": [
    "rdd.foreach(function_with_acc)"
   ]
  },
  {
   "cell_type": "code",
   "execution_count": 17,
   "metadata": {
    "collapsed": false
   },
   "outputs": [
    {
     "data": {
      "text/plain": [
       "16275"
      ]
     },
     "execution_count": 17,
     "metadata": {},
     "output_type": "execute_result"
    }
   ],
   "source": [
    "acc.value"
   ]
  },
  {
   "cell_type": "code",
   "execution_count": 18,
   "metadata": {
    "collapsed": false
   },
   "outputs": [
    {
     "data": {
      "text/plain": [
       "0"
      ]
     },
     "execution_count": 18,
     "metadata": {},
     "output_type": "execute_result"
    }
   ],
   "source": [
    "c"
   ]
  },
  {
   "cell_type": "code",
   "execution_count": 19,
   "metadata": {
    "collapsed": true
   },
   "outputs": [],
   "source": [
    "# Zainicjujmy kolejny akumulator\n",
    "acc2 = sc.accumulator(0)"
   ]
  },
  {
   "cell_type": "code",
   "execution_count": 20,
   "metadata": {
    "collapsed": true
   },
   "outputs": [],
   "source": [
    "# ... i związaną funkcję\n",
    "def split_and_countspaces(x):\n",
    "    acc2.add(x.count(\" \"))\n",
    "    return x.split()"
   ]
  },
  {
   "cell_type": "code",
   "execution_count": 21,
   "metadata": {
    "collapsed": true
   },
   "outputs": [],
   "source": [
    "words = rdd.flatMap(split_and_countspaces)"
   ]
  },
  {
   "cell_type": "markdown",
   "metadata": {},
   "source": [
    "### Zadania \n",
    "\n",
    "* Jaka jest wartość `acc2`?\n",
    "* Pobierz 15 wyrazów: jaka jest teraz wartość `acc2`?\n",
    "* Pobierz jeszcze raz i sprawdź wartość.\n",
    "* Użyj `words.cache()`, pobierz 15 wyrazów i sprawdź `acc2.value`.\n",
    "* Weż pierwsze 15 wyrazów i sprawdź `acc2.value`."
   ]
  },
  {
   "cell_type": "code",
   "execution_count": 22,
   "metadata": {
    "collapsed": false
   },
   "outputs": [
    {
     "data": {
      "text/plain": [
       "0"
      ]
     },
     "execution_count": 22,
     "metadata": {},
     "output_type": "execute_result"
    }
   ],
   "source": [
    "acc2.value"
   ]
  },
  {
   "cell_type": "code",
   "execution_count": 23,
   "metadata": {
    "collapsed": false
   },
   "outputs": [
    {
     "data": {
      "text/plain": [
       "['This',\n",
       " 'Etext',\n",
       " 'file',\n",
       " 'is',\n",
       " 'presented',\n",
       " 'by',\n",
       " 'Project',\n",
       " 'Gutenberg,',\n",
       " 'in',\n",
       " 'cooperation',\n",
       " 'with',\n",
       " 'World',\n",
       " 'Library,',\n",
       " 'Inc.,',\n",
       " 'from']"
      ]
     },
     "execution_count": 23,
     "metadata": {},
     "output_type": "execute_result"
    }
   ],
   "source": [
    "words.take(15)"
   ]
  },
  {
   "cell_type": "code",
   "execution_count": 24,
   "metadata": {
    "collapsed": false
   },
   "outputs": [
    {
     "data": {
      "text/plain": [
       "17"
      ]
     },
     "execution_count": 24,
     "metadata": {},
     "output_type": "execute_result"
    }
   ],
   "source": [
    "acc2.value"
   ]
  },
  {
   "cell_type": "code",
   "execution_count": 25,
   "metadata": {
    "collapsed": false
   },
   "outputs": [
    {
     "data": {
      "text/plain": [
       "['This',\n",
       " 'Etext',\n",
       " 'file',\n",
       " 'is',\n",
       " 'presented',\n",
       " 'by',\n",
       " 'Project',\n",
       " 'Gutenberg,',\n",
       " 'in',\n",
       " 'cooperation',\n",
       " 'with',\n",
       " 'World',\n",
       " 'Library,',\n",
       " 'Inc.,',\n",
       " 'from']"
      ]
     },
     "execution_count": 25,
     "metadata": {},
     "output_type": "execute_result"
    }
   ],
   "source": [
    "words.take(15)"
   ]
  },
  {
   "cell_type": "code",
   "execution_count": 26,
   "metadata": {
    "collapsed": false
   },
   "outputs": [
    {
     "data": {
      "text/plain": [
       "34"
      ]
     },
     "execution_count": 26,
     "metadata": {},
     "output_type": "execute_result"
    }
   ],
   "source": [
    "acc2.value"
   ]
  },
  {
   "cell_type": "code",
   "execution_count": 27,
   "metadata": {
    "collapsed": false
   },
   "outputs": [
    {
     "data": {
      "text/plain": [
       "['This',\n",
       " 'Etext',\n",
       " 'file',\n",
       " 'is',\n",
       " 'presented',\n",
       " 'by',\n",
       " 'Project',\n",
       " 'Gutenberg,',\n",
       " 'in',\n",
       " 'cooperation',\n",
       " 'with',\n",
       " 'World',\n",
       " 'Library,',\n",
       " 'Inc.,',\n",
       " 'from']"
      ]
     },
     "execution_count": 27,
     "metadata": {},
     "output_type": "execute_result"
    }
   ],
   "source": [
    "words.cache()\n",
    "words.take(15)"
   ]
  },
  {
   "cell_type": "code",
   "execution_count": 28,
   "metadata": {
    "collapsed": false
   },
   "outputs": [
    {
     "data": {
      "text/plain": [
       "16059"
      ]
     },
     "execution_count": 28,
     "metadata": {},
     "output_type": "execute_result"
    }
   ],
   "source": [
    "acc2.value"
   ]
  },
  {
   "cell_type": "code",
   "execution_count": 29,
   "metadata": {
    "collapsed": false
   },
   "outputs": [
    {
     "data": {
      "text/plain": [
       "['This',\n",
       " 'Etext',\n",
       " 'file',\n",
       " 'is',\n",
       " 'presented',\n",
       " 'by',\n",
       " 'Project',\n",
       " 'Gutenberg,',\n",
       " 'in',\n",
       " 'cooperation',\n",
       " 'with',\n",
       " 'World',\n",
       " 'Library,',\n",
       " 'Inc.,',\n",
       " 'from']"
      ]
     },
     "execution_count": 29,
     "metadata": {},
     "output_type": "execute_result"
    }
   ],
   "source": [
    "words.take(15)"
   ]
  },
  {
   "cell_type": "code",
   "execution_count": 30,
   "metadata": {
    "collapsed": false
   },
   "outputs": [
    {
     "data": {
      "text/plain": [
       "16059"
      ]
     },
     "execution_count": 30,
     "metadata": {},
     "output_type": "execute_result"
    }
   ],
   "source": [
    "acc2.value"
   ]
  },
  {
   "cell_type": "markdown",
   "metadata": {},
   "source": [
    "## Broadcasts\n",
    "\n",
    "Zmienne tylko do odczytu pozwalające przekazywać argumenty do zadań. "
   ]
  },
  {
   "cell_type": "code",
   "execution_count": 31,
   "metadata": {
    "collapsed": true
   },
   "outputs": [],
   "source": [
    "# Zmiennych tych używa się do przekazywania argumentów; wartości te mogą być dość duże\n",
    "br = sc.broadcast([\"Marcus\", \"Titus\", \"hate\", \"die\"])"
   ]
  },
  {
   "cell_type": "code",
   "execution_count": 32,
   "metadata": {
    "collapsed": false
   },
   "outputs": [
    {
     "data": {
      "text/plain": [
       "['Marcus', 'Titus', 'hate', 'die']"
      ]
     },
     "execution_count": 32,
     "metadata": {},
     "output_type": "execute_result"
    }
   ],
   "source": [
    "br.value"
   ]
  },
  {
   "cell_type": "code",
   "execution_count": 33,
   "metadata": {
    "collapsed": true
   },
   "outputs": [],
   "source": [
    "def line_of_brothers(line):\n",
    "    t = 0\n",
    "    for word in br.value:\n",
    "        if word in line:\n",
    "            t += 1\n",
    "    return t > 1"
   ]
  },
  {
   "cell_type": "code",
   "execution_count": 34,
   "metadata": {
    "collapsed": false
   },
   "outputs": [
    {
     "data": {
      "text/plain": [
       "['    Let Marcus, Lucius, or thyself, old Titus,',\n",
       " \"  TITUS. Marcus, my brother! 'Tis sad Titus calls.\"]"
      ]
     },
     "execution_count": 34,
     "metadata": {},
     "output_type": "execute_result"
    }
   ],
   "source": [
    "rdd.filter(line_of_brothers).take(5)"
   ]
  },
  {
   "cell_type": "code",
   "execution_count": 35,
   "metadata": {
    "collapsed": false
   },
   "outputs": [
    {
     "data": {
      "text/plain": [
       "[\"  TITUS. Marcus, my brother! 'Tis sad Titus calls.\",\n",
       " '    Let Marcus, Lucius, or thyself, old Titus,']"
      ]
     },
     "execution_count": 35,
     "metadata": {},
     "output_type": "execute_result"
    }
   ],
   "source": [
    "rdd.filter(line_of_brothers).takeSample(False, 5)"
   ]
  },
  {
   "cell_type": "code",
   "execution_count": 36,
   "metadata": {
    "collapsed": true
   },
   "outputs": [],
   "source": [
    "b = [\"Marcus\", \"Titus\", \"hate\", \"die\"]\n",
    "def line_of_brothers_local(line):\n",
    "    t = 0\n",
    "    for word in b:\n",
    "        if word in line:\n",
    "            t += 1\n",
    "    return t > 1"
   ]
  },
  {
   "cell_type": "code",
   "execution_count": 37,
   "metadata": {
    "collapsed": false
   },
   "outputs": [
    {
     "data": {
      "text/plain": [
       "['    Let Marcus, Lucius, or thyself, old Titus,',\n",
       " \"  TITUS. Marcus, my brother! 'Tis sad Titus calls.\"]"
      ]
     },
     "execution_count": 37,
     "metadata": {},
     "output_type": "execute_result"
    }
   ],
   "source": [
    "rdd.filter(line_of_brothers_local).take(5)"
   ]
  },
  {
   "cell_type": "markdown",
   "metadata": {},
   "source": [
    "## Operacje na zbiorach"
   ]
  },
  {
   "cell_type": "code",
   "execution_count": 38,
   "metadata": {
    "collapsed": true
   },
   "outputs": [],
   "source": [
    "rdd1 = sc.parallelize([\"cat\", \"dog\", \"python\"])\n",
    "rdd2 = sc.parallelize([\"magpie\", \"python\", \"elephant\"])"
   ]
  },
  {
   "cell_type": "code",
   "execution_count": 39,
   "metadata": {
    "collapsed": false
   },
   "outputs": [
    {
     "data": {
      "text/plain": [
       "['cat', 'dog', 'python', 'magpie', 'python', 'elephant']"
      ]
     },
     "execution_count": 39,
     "metadata": {},
     "output_type": "execute_result"
    }
   ],
   "source": [
    "# Konkatenacja a nie suma zbiorów\n",
    "rdd1.union(rdd2).collect()"
   ]
  },
  {
   "cell_type": "markdown",
   "metadata": {},
   "source": [
    "### Zadanie\n",
    "\n",
    "* Żeby otrzymać prawdziwą sumę zbiorów z `union` użyj `.distinct()`."
   ]
  },
  {
   "cell_type": "code",
   "execution_count": 40,
   "metadata": {
    "collapsed": false
   },
   "outputs": [
    {
     "data": {
      "text/plain": [
       "['cat', 'python', 'elephant', 'magpie', 'dog']"
      ]
     },
     "execution_count": 40,
     "metadata": {},
     "output_type": "execute_result"
    }
   ],
   "source": [
    "rdd1.union(rdd2).distinct().collect()"
   ]
  },
  {
   "cell_type": "code",
   "execution_count": 41,
   "metadata": {
    "collapsed": false
   },
   "outputs": [
    {
     "data": {
      "text/plain": [
       "['python']"
      ]
     },
     "execution_count": 41,
     "metadata": {},
     "output_type": "execute_result"
    }
   ],
   "source": [
    "# Część wspólna zbiorów\n",
    "rdd1.intersection(rdd2).collect()"
   ]
  },
  {
   "cell_type": "markdown",
   "metadata": {},
   "source": [
    "## Złączenie zbiorów\n",
    "\n",
    "Łączenie zbiorów (join) działa podobnie jak w SQL ale odbywa się na parze klucz wartość w formie `(key, value)`."
   ]
  },
  {
   "cell_type": "code",
   "execution_count": 46,
   "metadata": {
    "collapsed": true
   },
   "outputs": [],
   "source": [
    "species = sc.parallelize([(\"Max\", \"dog\"), (\"Sasha\", \"cat\"), (\"Alice\", \"snake\"), (\"Ulrich\", \"snake\")])\n",
    "ages = sc.parallelize([(\"Alice\", 3), (\"Max\", 11), (\"Ulrich\", 2), (\"Karl\", 31)])"
   ]
  },
  {
   "cell_type": "code",
   "execution_count": 47,
   "metadata": {
    "collapsed": false
   },
   "outputs": [
    {
     "data": {
      "text/plain": [
       "[('Ulrich', ('snake', 2)), ('Max', ('dog', 11)), ('Alice', ('snake', 3))]"
      ]
     },
     "execution_count": 47,
     "metadata": {},
     "output_type": "execute_result"
    }
   ],
   "source": [
    "# inner join\n",
    "species.join(ages) \\\n",
    "  .collect()"
   ]
  },
  {
   "cell_type": "markdown",
   "metadata": {},
   "source": [
    "### Zadanie\n",
    "\n",
    "* Wypisz zbiór wierząt ze znanym wiekiem."
   ]
  },
  {
   "cell_type": "code",
   "execution_count": 50,
   "metadata": {
    "collapsed": false
   },
   "outputs": [
    {
     "data": {
      "text/plain": [
       "['snake', 'dog']"
      ]
     },
     "execution_count": 50,
     "metadata": {},
     "output_type": "execute_result"
    }
   ],
   "source": [
    "species.join(ages)\\\n",
    "    .map(lambda t: t[1][0]) \\\n",
    "    .distinct() \\\n",
    "    .collect()"
   ]
  },
  {
   "cell_type": "code",
   "execution_count": 55,
   "metadata": {
    "collapsed": false
   },
   "outputs": [
    {
     "data": {
      "text/plain": [
       "frozenset({'dog', 'snake'})"
      ]
     },
     "execution_count": 55,
     "metadata": {},
     "output_type": "execute_result"
    }
   ],
   "source": [
    "s = species.join(ages)\\\n",
    "    .map(lambda t: t[1][0]) \\\n",
    "    .collect()\n",
    "frozenset(s)"
   ]
  },
  {
   "cell_type": "code",
   "execution_count": 57,
   "metadata": {
    "collapsed": false
   },
   "outputs": [
    {
     "data": {
      "text/plain": [
       "[('Ulrich', 'snake'), ('Max', 'dog'), ('Alice', 'snake')]"
      ]
     },
     "execution_count": 57,
     "metadata": {},
     "output_type": "execute_result"
    }
   ],
   "source": [
    "species.join(ages)\\\n",
    "    .mapValues(lambda v: v[0]) \\\n",
    "    .collect()"
   ]
  },
  {
   "cell_type": "code",
   "execution_count": 44,
   "metadata": {
    "collapsed": false
   },
   "outputs": [
    {
     "name": "stdout",
     "output_type": "stream",
     "text": [
      "('b', 'c')\n",
      "b\n"
     ]
    }
   ],
   "source": [
    "# Podpowiedź\n",
    "z = (\"a\", (\"b\", \"c\"))\n",
    "print(z[1])\n",
    "print(z[1][0])"
   ]
  },
  {
   "cell_type": "code",
   "execution_count": 58,
   "metadata": {
    "collapsed": false
   },
   "outputs": [
    {
     "data": {
      "text/plain": [
       "[('Ulrich', ('snake', 2)),\n",
       " ('Max', ('dog', 11)),\n",
       " ('Sasha', ('cat', None)),\n",
       " ('Alice', ('snake', 3))]"
      ]
     },
     "execution_count": 58,
     "metadata": {},
     "output_type": "execute_result"
    }
   ],
   "source": [
    "# left outer join\n",
    "species.leftOuterJoin(ages) \\\n",
    "  .collect()"
   ]
  },
  {
   "cell_type": "code",
   "execution_count": 59,
   "metadata": {
    "collapsed": false
   },
   "outputs": [
    {
     "data": {
      "text/plain": [
       "[('Ulrich', ('snake', 2)),\n",
       " ('Karl', (None, 31)),\n",
       " ('Max', ('dog', 11)),\n",
       " ('Alice', ('snake', 3))]"
      ]
     },
     "execution_count": 59,
     "metadata": {},
     "output_type": "execute_result"
    }
   ],
   "source": [
    "# right outer join\n",
    "species.rightOuterJoin(ages) \\\n",
    "  .collect()"
   ]
  },
  {
   "cell_type": "code",
   "execution_count": 60,
   "metadata": {
    "collapsed": false
   },
   "outputs": [
    {
     "data": {
      "text/plain": [
       "[('Ulrich', ('snake', 2)),\n",
       " ('Karl', (None, 31)),\n",
       " ('Max', ('dog', 11)),\n",
       " ('Sasha', ('cat', None)),\n",
       " ('Alice', ('snake', 3))]"
      ]
     },
     "execution_count": 60,
     "metadata": {},
     "output_type": "execute_result"
    }
   ],
   "source": [
    "# full outer join\n",
    "species.fullOuterJoin(ages) \\\n",
    "  .collect()"
   ]
  },
  {
   "cell_type": "code",
   "execution_count": 61,
   "metadata": {
    "collapsed": false
   },
   "outputs": [
    {
     "data": {
      "text/plain": [
       "[(('Max', 'dog'), ('Alice', 3)),\n",
       " (('Max', 'dog'), ('Max', 11)),\n",
       " (('Sasha', 'cat'), ('Alice', 3)),\n",
       " (('Sasha', 'cat'), ('Max', 11)),\n",
       " (('Max', 'dog'), ('Ulrich', 2)),\n",
       " (('Max', 'dog'), ('Karl', 31)),\n",
       " (('Sasha', 'cat'), ('Ulrich', 2)),\n",
       " (('Sasha', 'cat'), ('Karl', 31)),\n",
       " (('Alice', 'snake'), ('Alice', 3)),\n",
       " (('Alice', 'snake'), ('Max', 11)),\n",
       " (('Ulrich', 'snake'), ('Alice', 3)),\n",
       " (('Ulrich', 'snake'), ('Max', 11)),\n",
       " (('Alice', 'snake'), ('Ulrich', 2)),\n",
       " (('Alice', 'snake'), ('Karl', 31)),\n",
       " (('Ulrich', 'snake'), ('Ulrich', 2)),\n",
       " (('Ulrich', 'snake'), ('Karl', 31))]"
      ]
     },
     "execution_count": 61,
     "metadata": {},
     "output_type": "execute_result"
    }
   ],
   "source": [
    "# iloczyn kartezjański\n",
    "species.cartesian(ages) \\\n",
    "  .collect()"
   ]
  },
  {
   "cell_type": "markdown",
   "metadata": {},
   "source": [
    "### Zadanie\n",
    "\n",
    "* ★ Zamień produkt kartezjański w wewnętrzne złączenie (inner join).\n",
    "* ★ Wypisz wszystkie możliwe pary zwierząt, np. `[(\"Max\", \"Alice\"), ... (\"Ulrich\", \"Karl\")]`."
   ]
  },
  {
   "cell_type": "markdown",
   "metadata": {},
   "source": [
    "## Grupowanie (po kluczu)"
   ]
  },
  {
   "cell_type": "code",
   "execution_count": 62,
   "metadata": {
    "collapsed": true
   },
   "outputs": [],
   "source": [
    "cities = sc.parallelize([\"Paris, France\", \"Lyon, France\", \"Warsaw, Poland\", \"London, United Kingdom\"])"
   ]
  },
  {
   "cell_type": "code",
   "execution_count": 64,
   "metadata": {
    "collapsed": false
   },
   "outputs": [
    {
     "data": {
      "text/plain": [
       "[('France', ['Paris, France', 'Lyon, France']),\n",
       " ('Poland', ['Warsaw, Poland']),\n",
       " ('United Kingdom', ['London, United Kingdom'])]"
      ]
     },
     "execution_count": 64,
     "metadata": {},
     "output_type": "execute_result"
    }
   ],
   "source": [
    "cities \\\n",
    "  .groupBy(lambda x: x.split(\", \")[1]) \\\n",
    "  .map(lambda x: (x[0], list(x[1]))) \\\n",
    "  .collect()"
   ]
  },
  {
   "cell_type": "code",
   "execution_count": 68,
   "metadata": {
    "collapsed": false
   },
   "outputs": [
    {
     "data": {
      "text/plain": [
       "[('France', ['Paris, France', 'Lyon, France']),\n",
       " ('Poland', ['Warsaw, Poland']),\n",
       " ('United Kingdom', ['London, United Kingdom'])]"
      ]
     },
     "execution_count": 68,
     "metadata": {},
     "output_type": "execute_result"
    }
   ],
   "source": [
    "cities \\\n",
    "  .groupBy(lambda x: x.split(\", \")[1]) \\\n",
    "  .mapValues(lambda x: list(x)) \\\n",
    "  .collect()"
   ]
  },
  {
   "cell_type": "markdown",
   "metadata": {},
   "source": [
    "### Zadanie\n",
    "\n",
    "* Zamiast `.map(lambda x: (x[0], list(x[1])))` użyj `.mapValues(some_function)`. "
   ]
  },
  {
   "cell_type": "code",
   "execution_count": 65,
   "metadata": {
    "collapsed": false
   },
   "outputs": [
    {
     "data": {
      "text/plain": [
       "[('a', 9), ('b', 4)]"
      ]
     },
     "execution_count": 65,
     "metadata": {},
     "output_type": "execute_result"
    }
   ],
   "source": [
    "# Podpowiedź\n",
    "sc.parallelize([(\"a\", 3), (\"b\", -2)]) \\\n",
    "  .mapValues(lambda x: x*x) \\\n",
    "  .collect()"
   ]
  },
  {
   "cell_type": "markdown",
   "metadata": {},
   "source": [
    "### Więcej zadań\n",
    "\n",
    "Wracamy do Titus Andronicus:\n",
    "\n",
    "* Wyczyść dane przez usuniecie niechcianych znaków\n",
    "* Policz i wyświetl 20 najczęstrzych:\n",
    "    * słów zaczynających się zawsze wielką literą,\n",
    "    * słów nigdy nie zaczynających się od wielkiej litery.\n",
    "* Policz częstotliwość (i.e. $p_{word}=n_{word}/n$ wszystkich słów (ignorując wielkość liter).\n",
    "* Pobierz słownik z [tej strony](http://www.math.sjsu.edu/~foster/dictionary.txt); policz ile słów ze słownika występuje w dziele (słownik ma tylko wyrazy o małych literach).\n",
    "* ★ Pobierz dzieło nie napisane przez Shakespeare [Gutenberg Project](http://www.gutenberg.org/); znajdź słowa charakterystyczne dla Shakespeare'a, tj. które nie występują w innym dziele.\n",
    "* ★ Dla wszystkich słów w lini policz\n",
    "\n",
    "$$\\frac{p_{pair}}{p_{word1}p_{word2}} = \\frac{n_{pair} n}{n_{word1}n_{word2}},$$\n",
    "\n",
    "tylko dla par występujących więcej niż 5 razy; pokaż 20 najwyższych wartości."
   ]
  },
  {
   "cell_type": "code",
   "execution_count": 73,
   "metadata": {
    "collapsed": false
   },
   "outputs": [
    {
     "data": {
      "text/plain": [
       "[('This', 1),\n",
       " ('Etext', 1),\n",
       " ('file', 1),\n",
       " ('is', 1),\n",
       " ('presented', 1),\n",
       " ('by', 1),\n",
       " ('Project', 1),\n",
       " ('Gutenberg', 1),\n",
       " ('in', 1),\n",
       " ('cooperation', 1)]"
      ]
     },
     "execution_count": 73,
     "metadata": {},
     "output_type": "execute_result"
    }
   ],
   "source": [
    "import re\n",
    "words2 = rdd.flatMap(lambda l: re.findall('\\w+', l))\\\n",
    "    .map(lambda w: (w, 1))\n",
    "words2.take(10)"
   ]
  },
  {
   "cell_type": "code",
   "execution_count": 82,
   "metadata": {
    "collapsed": false
   },
   "outputs": [
    {
     "data": {
      "text/plain": [
       "[('I', 0.01826672728024135),\n",
       " ('And', 0.012728850683969088),\n",
       " ('Rome', 0.004835310162416829),\n",
       " ('To', 0.00421539860313262),\n",
       " ('The', 0.003760796792990867),\n",
       " ('That', 0.003554159606562797),\n",
       " ('O', 0.0028929206099929743),\n",
       " ('But', 0.0027689382981361324),\n",
       " ('Emperor', 0.0024383187998512214),\n",
       " ('For', 0.002396991362565607),\n",
       " ('What', 0.0023143364879943795),\n",
       " ('My', 0.0021490267388519237),\n",
       " ('Andronicus', 0.002066371864280696),\n",
       " ('This', 0.002066371864280696),\n",
       " ('A', 0.002066371864280696),\n",
       " ('Lucius', 0.002066371864280696),\n",
       " ('Titus', 0.0018597346778526263),\n",
       " ('Lavinia', 0.0016944249287101708),\n",
       " ('Marcus', 0.0016944249287101708),\n",
       " ('Enter', 0.001611770054138943)]"
      ]
     },
     "execution_count": 82,
     "metadata": {},
     "output_type": "execute_result"
    }
   ],
   "source": [
    "from operator import add\n",
    "words2.filter(lambda t: t[0][0].isupper() and (len(t[0]) == 1 or t[0][1:].islower()))\\\n",
    "    .reduceByKey(add)\\\n",
    "    .mapValues(lambda v: v/n) \\\n",
    "    .top(20, key=lambda t: t[1])"
   ]
  },
  {
   "cell_type": "code",
   "execution_count": 81,
   "metadata": {
    "collapsed": false
   },
   "outputs": [
    {
     "data": {
      "text/plain": [
       "24197"
      ]
     },
     "execution_count": 81,
     "metadata": {},
     "output_type": "execute_result"
    }
   ],
   "source": [
    "n = words2.count()\n",
    "n"
   ]
  },
  {
   "cell_type": "code",
   "execution_count": 83,
   "metadata": {
    "collapsed": false
   },
   "outputs": [
    {
     "data": {
      "text/plain": [
       "['aaaa',\n",
       " 'aaaaa',\n",
       " 'aaaaaa',\n",
       " 'aaaaaaa',\n",
       " 'aaaaaaaa',\n",
       " 'aaaaaaaah',\n",
       " 'aaaaaaauugh',\n",
       " 'aaaaaagh',\n",
       " 'aaaaaahhhhh',\n",
       " 'aaaaaaugh']"
      ]
     },
     "execution_count": 83,
     "metadata": {},
     "output_type": "execute_result"
    }
   ],
   "source": [
    "eng = sc.textFile('data/dictionary.txt')\n",
    "eng.take(10)"
   ]
  },
  {
   "cell_type": "code",
   "execution_count": 85,
   "metadata": {
    "collapsed": false
   },
   "outputs": [
    {
     "data": {
      "text/plain": [
       "['gutenberg',\n",
       " 'cooperation',\n",
       " 'library',\n",
       " 'cdroms',\n",
       " 'placed',\n",
       " 'copyright',\n",
       " 'machine',\n",
       " 'long',\n",
       " 'others',\n",
       " 'only']"
      ]
     },
     "execution_count": 85,
     "metadata": {},
     "output_type": "execute_result"
    }
   ],
   "source": [
    "words2.map(lambda t: t[0].lower()).intersection(eng).take(10)"
   ]
  },
  {
   "cell_type": "code",
   "execution_count": 87,
   "metadata": {
    "collapsed": false
   },
   "outputs": [
    {
     "data": {
      "text/plain": [
       "[('this', 1),\n",
       " ('etext', 1),\n",
       " ('file', 1),\n",
       " ('is', 1),\n",
       " ('presented', 1),\n",
       " ('by', 1),\n",
       " ('project', 1),\n",
       " ('gutenberg', 1),\n",
       " ('in', 1),\n",
       " ('cooperation', 1)]"
      ]
     },
     "execution_count": 87,
     "metadata": {},
     "output_type": "execute_result"
    }
   ],
   "source": [
    "r = words2.map(lambda t: (t[0].lower(), t[1]))\n",
    "r.take(10)"
   ]
  },
  {
   "cell_type": "code",
   "execution_count": 90,
   "metadata": {
    "collapsed": false
   },
   "outputs": [
    {
     "data": {
      "text/plain": [
       "[('aaaa', None),\n",
       " ('aaaaa', None),\n",
       " ('aaaaaa', None),\n",
       " ('aaaaaaa', None),\n",
       " ('aaaaaaaa', None),\n",
       " ('aaaaaaaah', None),\n",
       " ('aaaaaaauugh', None),\n",
       " ('aaaaaagh', None),\n",
       " ('aaaaaahhhhh', None),\n",
       " ('aaaaaaugh', None)]"
      ]
     },
     "execution_count": 90,
     "metadata": {},
     "output_type": "execute_result"
    }
   ],
   "source": [
    "l = eng.map(lambda w: (w, None))\n",
    "l.take(10)"
   ]
  },
  {
   "cell_type": "code",
   "execution_count": 92,
   "metadata": {
    "collapsed": false
   },
   "outputs": [
    {
     "data": {
      "text/plain": [
       "[('that', 300),\n",
       " ('with', 284),\n",
       " ('this', 248),\n",
       " ('titus', 196),\n",
       " ('thou', 174),\n",
       " ('your', 140),\n",
       " ('will', 137),\n",
       " ('have', 133),\n",
       " ('marcus', 124),\n",
       " ('lucius', 120)]"
      ]
     },
     "execution_count": 92,
     "metadata": {},
     "output_type": "execute_result"
    }
   ],
   "source": [
    "r.join(l).mapValues(lambda t: t[0]).reduceByKey(add).top(10, key=lambda t: t[1])"
   ]
  },
  {
   "cell_type": "code",
   "execution_count": null,
   "metadata": {
    "collapsed": true
   },
   "outputs": [],
   "source": []
  }
 ],
 "metadata": {
  "kernelspec": {
   "display_name": "Python 3",
   "language": "python",
   "name": "python3"
  },
  "language_info": {
   "codemirror_mode": {
    "name": "ipython",
    "version": 3
   },
   "file_extension": ".py",
   "mimetype": "text/x-python",
   "name": "python",
   "nbconvert_exporter": "python",
   "pygments_lexer": "ipython3",
   "version": "3.6.0"
  }
 },
 "nbformat": 4,
 "nbformat_minor": 0
}
