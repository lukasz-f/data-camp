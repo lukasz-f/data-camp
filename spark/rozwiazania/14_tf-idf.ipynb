{
 "cells": [
  {
   "cell_type": "markdown",
   "metadata": {},
   "source": [
    "![](imgs/kodolamaczlogo.png)\n",
    "\n",
    "# Przetwarzanie Big Data z użyciem Apache Spark\n",
    "\n",
    "Autor notebooka: Jakub Nowacki.\n",
    "\n",
    "## TF-IDF\n",
    "\n",
    "Term Frequency Inverse Document Frequency (TF-IDF) jest po popularną i przydatną miarą unikalności danego terminu (słowa) dla danego dokumentu. Miara w istocie składa się z dwóch elementów, TF oraz IDF, które na końcu są ze sobą mnożone.\n",
    "\n",
    "Term Frequency (TF), jest częstotliwością wystąpień terminu w dokumencie. Jako równanie zapisuje się go jak poniżej:\n",
    "\n",
    "$$\n",
    "TF = \\frac{n_w}{n_d},\n",
    "$$\n",
    "\n",
    "gdzie: $n_w$ ile razy termin wystąpił w dokuemcie $n_d$ wszystkie słowa w dokumencie.\n",
    "\n",
    "Z kolei Inverse Documents Frequency (IDF), zapisuje się jako:\n",
    "\n",
    "$$\n",
    "IDF = \\log \\left( \\frac{c_d}{i_d} \\right),\n",
    "$$\n",
    "\n",
    "gdzie: $c_d$ jest liczbą wszystkich dokumentów, $i_d$ jest liczbą dokumentów w których dane słowo wystąpiło. Należy pamiętać, że $\\log$ jest logarytmem naturalnym przy podstawie $e$.\n",
    "\n",
    "## Dane do analizy \n",
    "\n",
    "W przykładzie użyte zostaną dane z [Projektu Gutenberg](https://www.gutenberg.org). Poniższy skrypt pobierze dane jeżeli nie ma ich jeszcze w folderze `data`."
   ]
  },
  {
   "cell_type": "code",
   "execution_count": 1,
   "metadata": {
    "collapsed": false
   },
   "outputs": [
    {
     "name": "stdout",
     "output_type": "stream",
     "text": [
      "Pobieranie pliku https://www.gutenberg.org/files/2591/2591-0.txt do data/tf-idf_docs/grimms_fairy_tales.txt\n",
      "Pobieranie data/tf-idf_docs/grimms_fairy_tales.txt ukończone\n",
      "Pobieranie pliku http://www.gutenberg.org/cache/epub/345/pg345.txt do data/tf-idf_docs/dracula.txt\n",
      "Pobieranie data/tf-idf_docs/dracula.txt ukończone\n",
      "Pobieranie pliku http://www.gutenberg.org/cache/epub/84/pg84.txt do data/tf-idf_docs/frankenstein.txt\n",
      "Pobieranie data/tf-idf_docs/frankenstein.txt ukończone\n",
      "Pobieranie pliku http://www.gutenberg.org/files/2701/2701-0.txt do data/tf-idf_docs/moby_dick.txt\n",
      "Pobieranie data/tf-idf_docs/moby_dick.txt ukończone\n",
      "Pobieranie pliku http://www.gutenberg.org/files/74/74-0.txt do data/tf-idf_docs/tom_sawyer.txt\n",
      "Pobieranie data/tf-idf_docs/tom_sawyer.txt ukończone\n",
      "Pobieranie pliku http://www.gutenberg.org/files/2600/2600-0.txt do data/tf-idf_docs/war_and_peace.txt\n",
      "Pobieranie data/tf-idf_docs/war_and_peace.txt ukończone\n"
     ]
    }
   ],
   "source": [
    "import os\n",
    "import urllib.request\n",
    "\n",
    "data_path = 'data/tf-idf_docs'\n",
    "if not os.path.exists(data_path):\n",
    "    os.mkdir(data_path)\n",
    "    \n",
    "book_links = {\n",
    "    'grimms_fairy_tales': 'https://www.gutenberg.org/files/2591/2591-0.txt',\n",
    "    'dracula': 'http://www.gutenberg.org/cache/epub/345/pg345.txt',\n",
    "    'frankenstein': 'http://www.gutenberg.org/cache/epub/84/pg84.txt',\n",
    "    'moby_dick': 'http://www.gutenberg.org/files/2701/2701-0.txt',\n",
    "    'tom_sawyer': 'http://www.gutenberg.org/files/74/74-0.txt',\n",
    "    'war_and_peace': 'http://www.gutenberg.org/files/2600/2600-0.txt'\n",
    "}\n",
    "\n",
    "for book, link in book_links.items():\n",
    "    file_name = '{}.txt'.format(book)\n",
    "    file_path = os.path.join(data_path, file_name)\n",
    "    if not os.path.exists(file_path):\n",
    "        print('Pobieranie pliku {} do {}'.format(link, file_path))\n",
    "        urllib.request.urlretrieve(link, file_path)\n",
    "        print('Pobieranie {} ukończone'.format(file_path))\n",
    "    else:\n",
    "        print('Plik {} jest już pobrany'.format(file_path))"
   ]
  },
  {
   "cell_type": "markdown",
   "metadata": {},
   "source": [
    "## Zadanie \n",
    "\n",
    "Należy policzyć miary TF-IDF dla pobranych dokumentów. Kroki do wykoniania:\n",
    "\n",
    "1. Odcztać dane, tak aby zachować informacje z której książki pochodzi dane zdanie.\n",
    "1. Podzielić zdania (linie) na słowa; słowa powinny być sprowadzone do wspólnego znaku i nie posiadać interpunkcji.\n",
    "1. Policzyć miarę TF.\n",
    "1. Policzyć miarę IDF.\n",
    "1. Złączyć wyniki tak, żeby wynikowa tabela miała kolumny: nazwa książki, słowo (termin), TF, IDF, TF-IDF."
   ]
  },
  {
   "cell_type": "code",
   "execution_count": 2,
   "metadata": {
    "collapsed": true
   },
   "outputs": [],
   "source": [
    "import pyspark\n",
    "import pyspark.sql.functions as func\n",
    "\n",
    "spark = pyspark.sql.SparkSession.builder\\\n",
    "    .appName('tf-idf_sql')\\\n",
    "    .getOrCreate()"
   ]
  },
  {
   "cell_type": "code",
   "execution_count": 3,
   "metadata": {
    "collapsed": false
   },
   "outputs": [
    {
     "name": "stdout",
     "output_type": "stream",
     "text": [
      "+-----------------------------------------------------------------------+\n",
      "|value                                                                  |\n",
      "+-----------------------------------------------------------------------+\n",
      "|                                                                       |\n",
      "|The Project Gutenberg EBook of War and Peace, by Leo Tolstoy           |\n",
      "|                                                                       |\n",
      "|This eBook is for the use of anyone anywhere at no cost and with almost|\n",
      "|no restrictions whatsoever. You may copy it, give it away or re-use    |\n",
      "|it under the terms of the Project Gutenberg License included with this |\n",
      "|eBook or online at www.gutenberg.org                                   |\n",
      "|                                                                       |\n",
      "|                                                                       |\n",
      "|Title: War and Peace                                                   |\n",
      "|                                                                       |\n",
      "|Author: Leo Tolstoy                                                    |\n",
      "|                                                                       |\n",
      "|Translators: Louise and Aylmer Maude                                   |\n",
      "|                                                                       |\n",
      "|Posting Date: January 10, 2009 [EBook #2600]                           |\n",
      "|                                                                       |\n",
      "|Last Updated: December 17, 2016                                        |\n",
      "|                                                                       |\n",
      "|Language: English                                                      |\n",
      "+-----------------------------------------------------------------------+\n",
      "only showing top 20 rows\n",
      "\n"
     ]
    }
   ],
   "source": [
    "books = spark.read.text(data_path)\n",
    "\n",
    "books.show(truncate=False)"
   ]
  },
  {
   "cell_type": "markdown",
   "metadata": {},
   "source": [
    "## Podpowiedzi\n",
    "\n",
    "* Pliki mają nagłówki, ale można je zostawić i potraktować jako część dokumentu.\n",
    "* Wszystko da się zrobić interfejsem Spark SQL (DataFrame lub zapytania SQL); nie ma potrzeby pisania dodatkowych funkcji.\n",
    "* Wprawdzie wiemy jakie są książki, ale jest lepsza metoda dostania nazwy czytanego pliku w DataFrame; zobacz [manual Spark odnośnie funkcji](http://spark.apache.org/docs/latest/api/python/pyspark.sql.html#module-pyspark.sql.functions). \n",
    "* Generalnie, w powyższym manualu jest sporo przydatnych funkcji."
   ]
  },
  {
   "cell_type": "code",
   "execution_count": 9,
   "metadata": {
    "collapsed": false
   },
   "outputs": [
    {
     "name": "stdout",
     "output_type": "stream",
     "text": [
      "+-------------+-----------------------------------------------------------------------+\n",
      "|book         |line                                                                   |\n",
      "+-------------+-----------------------------------------------------------------------+\n",
      "|war_and_peace|                                                                       |\n",
      "|war_and_peace|The Project Gutenberg EBook of War and Peace, by Leo Tolstoy           |\n",
      "|war_and_peace|                                                                       |\n",
      "|war_and_peace|This eBook is for the use of anyone anywhere at no cost and with almost|\n",
      "|war_and_peace|no restrictions whatsoever. You may copy it, give it away or re-use    |\n",
      "|war_and_peace|it under the terms of the Project Gutenberg License included with this |\n",
      "|war_and_peace|eBook or online at www.gutenberg.org                                   |\n",
      "|war_and_peace|                                                                       |\n",
      "|war_and_peace|                                                                       |\n",
      "|war_and_peace|Title: War and Peace                                                   |\n",
      "|war_and_peace|                                                                       |\n",
      "|war_and_peace|Author: Leo Tolstoy                                                    |\n",
      "|war_and_peace|                                                                       |\n",
      "|war_and_peace|Translators: Louise and Aylmer Maude                                   |\n",
      "|war_and_peace|                                                                       |\n",
      "|war_and_peace|Posting Date: January 10, 2009 [EBook #2600]                           |\n",
      "|war_and_peace|                                                                       |\n",
      "|war_and_peace|Last Updated: December 17, 2016                                        |\n",
      "|war_and_peace|                                                                       |\n",
      "|war_and_peace|Language: English                                                      |\n",
      "+-------------+-----------------------------------------------------------------------+\n",
      "only showing top 20 rows\n",
      "\n"
     ]
    }
   ],
   "source": [
    "lines = books.select(\n",
    "    func.regexp_extract(func.input_file_name(), '\\/(\\w+)\\.txt', 1).alias('book'),\n",
    "    func.col('value').alias('line'))\n",
    "\n",
    "lines.show(truncate=False)"
   ]
  },
  {
   "cell_type": "code",
   "execution_count": 19,
   "metadata": {
    "collapsed": false
   },
   "outputs": [
    {
     "name": "stdout",
     "output_type": "stream",
     "text": [
      "+-------------+---------+\n",
      "|         book|     word|\n",
      "+-------------+---------+\n",
      "|war_and_peace|      the|\n",
      "|war_and_peace|  project|\n",
      "|war_and_peace|gutenberg|\n",
      "|war_and_peace|    ebook|\n",
      "|war_and_peace|       of|\n",
      "|war_and_peace|      war|\n",
      "|war_and_peace|      and|\n",
      "|war_and_peace|    peace|\n",
      "|war_and_peace|       by|\n",
      "|war_and_peace|      leo|\n",
      "|war_and_peace|  tolstoy|\n",
      "|war_and_peace|     this|\n",
      "|war_and_peace|    ebook|\n",
      "|war_and_peace|       is|\n",
      "|war_and_peace|      for|\n",
      "|war_and_peace|      the|\n",
      "|war_and_peace|      use|\n",
      "|war_and_peace|       of|\n",
      "|war_and_peace|   anyone|\n",
      "|war_and_peace| anywhere|\n",
      "+-------------+---------+\n",
      "only showing top 20 rows\n",
      "\n"
     ]
    }
   ],
   "source": [
    "words = lines.select('book',\n",
    "            func.explode(func.split(func.lower(func.col('line')), '\\W+')).alias('word'))\\\n",
    "    .where(func.length('word') > 0)\n",
    "    \n",
    "words.show()"
   ]
  },
  {
   "cell_type": "code",
   "execution_count": 20,
   "metadata": {
    "collapsed": false
   },
   "outputs": [
    {
     "name": "stdout",
     "output_type": "stream",
     "text": [
      "+------------------+------+\n",
      "|              book| count|\n",
      "+------------------+------+\n",
      "|         moby_dick|222629|\n",
      "|     war_and_peace|586914|\n",
      "|           dracula|167267|\n",
      "|        tom_sawyer| 77612|\n",
      "|grimms_fairy_tales|105336|\n",
      "|      frankenstein| 78475|\n",
      "+------------------+------+\n",
      "\n"
     ]
    }
   ],
   "source": [
    "words.groupby('book').count().show()"
   ]
  },
  {
   "cell_type": "code",
   "execution_count": 24,
   "metadata": {
    "collapsed": false
   },
   "outputs": [
    {
     "name": "stdout",
     "output_type": "stream",
     "text": [
      "+---+------+\n",
      "|len| count|\n",
      "+---+------+\n",
      "|  1| 57996|\n",
      "|  2|209996|\n",
      "|  3|310464|\n",
      "|  4|231122|\n",
      "|  5|130029|\n",
      "|  6| 98018|\n",
      "|  7| 79385|\n",
      "|  8| 52359|\n",
      "|  9| 33195|\n",
      "| 10| 19011|\n",
      "| 11|  8461|\n",
      "| 12|  4772|\n",
      "| 13|  2302|\n",
      "| 14|   755|\n",
      "| 15|   245|\n",
      "| 16|    93|\n",
      "| 17|    24|\n",
      "| 18|     5|\n",
      "| 20|     1|\n",
      "+---+------+\n",
      "\n"
     ]
    }
   ],
   "source": [
    "words.groupBy(func.length('word').alias('len')).count().orderBy('len').show(40)"
   ]
  },
  {
   "cell_type": "code",
   "execution_count": 41,
   "metadata": {
    "collapsed": false
   },
   "outputs": [
    {
     "name": "stdout",
     "output_type": "stream",
     "text": [
      "+------------------+----+-----+------+--------------------+\n",
      "|              book|word|  n_w|   n_b|                  tf|\n",
      "+------------------+----+-----+------+--------------------+\n",
      "|grimms_fairy_tales| the| 7224|105336|  0.0685805422647528|\n",
      "|         moby_dick| the|14718|222629| 0.06610998567122882|\n",
      "|     war_and_peace| the|34725|586914|0.059165397315449966|\n",
      "|      frankenstein| the| 4371| 78475|0.055699267282574065|\n",
      "|grimms_fairy_tales| and| 5551|105336|0.052698032961190855|\n",
      "|        tom_sawyer| the| 3971| 77612| 0.05116476833479359|\n",
      "|           dracula| the| 8090|167267| 0.04836578643725301|\n",
      "|        tom_sawyer| and| 3193| 77612| 0.04114054527650363|\n",
      "|      frankenstein| and| 3046| 78475| 0.03881490920675374|\n",
      "|     war_and_peace| and|22307|586914| 0.03800727193421864|\n",
      "|      frankenstein|   i| 2849| 78475| 0.03630455559095253|\n",
      "|           dracula| and| 5976|167267| 0.03572731022855674|\n",
      "|      frankenstein|  of| 2760| 78475| 0.03517043644472762|\n",
      "|         moby_dick|  of| 6743|222629|0.030288057710361183|\n",
      "|         moby_dick| and| 6518|222629| 0.02927740770519564|\n",
      "|           dracula|   i| 4846|167267|0.028971644137815587|\n",
      "|     war_and_peace|  to|16755|586914|0.028547623672292705|\n",
      "|           dracula|  to| 4745|167267|0.028367819115545805|\n",
      "|      frankenstein|  to| 2174| 78475| 0.02770309015610067|\n",
      "|grimms_fairy_tales|  to| 2749|105336|0.026097440571124782|\n",
      "+------------------+----+-----+------+--------------------+\n",
      "only showing top 20 rows\n",
      "\n"
     ]
    }
   ],
   "source": [
    "w = pyspark.sql.Window.partitionBy('book')\n",
    "\n",
    "tf = words.groupBy('book', 'word')\\\n",
    "    .agg(func.count('*').alias('n_w'))\\\n",
    "    .withColumn('n_b', func.sum('n_w').over(w))\\\n",
    "    .withColumn('tf', func.col('n_w')/func.col('n_b'))\\\n",
    "    .orderBy(func.desc('tf'))\n",
    "tf.show()"
   ]
  },
  {
   "cell_type": "code",
   "execution_count": 52,
   "metadata": {
    "collapsed": true
   },
   "outputs": [],
   "source": [
    "n_d = words.select('book').distinct().count()"
   ]
  },
  {
   "cell_type": "code",
   "execution_count": 57,
   "metadata": {
    "collapsed": false
   },
   "outputs": [
    {
     "name": "stdout",
     "output_type": "stream",
     "text": [
      "+-------------+---+---+------------------+\n",
      "|         word|i_d|n_d|               idf|\n",
      "+-------------+---+---+------------------+\n",
      "|      embrace|  6|  6|               0.0|\n",
      "|     tripping|  3|  6|0.6931471805599453|\n",
      "|   circulates|  2|  6|1.0986122886681098|\n",
      "|     incoming|  1|  6| 1.791759469228055|\n",
      "|          fog|  5|  6|0.1823215567939546|\n",
      "|   horsecloth|  1|  6| 1.791759469228055|\n",
      "|       wields|  2|  6|1.0986122886681098|\n",
      "|          few|  6|  6|               0.0|\n",
      "|      flashed|  6|  6|               0.0|\n",
      "|  freebooting|  1|  6| 1.791759469228055|\n",
      "|  transaction|  3|  6|0.6931471805599453|\n",
      "|    elocution|  1|  6| 1.791759469228055|\n",
      "|    solemnity|  5|  6|0.1823215567939546|\n",
      "| promontories|  1|  6| 1.791759469228055|\n",
      "|    forgetful|  3|  6|0.6931471805599453|\n",
      "|    arguments|  4|  6|0.4054651081081644|\n",
      "|    recognize|  4|  6|0.4054651081081644|\n",
      "| submissively|  1|  6| 1.791759469228055|\n",
      "|gratification|  3|  6|0.6931471805599453|\n",
      "|   roundabout|  3|  6|0.6931471805599453|\n",
      "+-------------+---+---+------------------+\n",
      "only showing top 20 rows\n",
      "\n"
     ]
    }
   ],
   "source": [
    "idf = words.groupBy('word')\\\n",
    "    .agg(func.countDistinct('book').alias('i_d'))\\\n",
    "    .withColumn('n_d', func.lit(n_d))\\\n",
    "    .withColumn('idf', func.log(func.col('n_d')/func.col('i_d')))\n",
    "idf.show()"
   ]
  },
  {
   "cell_type": "code",
   "execution_count": 67,
   "metadata": {
    "collapsed": false
   },
   "outputs": [
    {
     "name": "stdout",
     "output_type": "stream",
     "text": [
      "+------------------+----+--------------------+---+------+\n",
      "|              book|word|                  tf|idf|tf_idf|\n",
      "+------------------+----+--------------------+---+------+\n",
      "|grimms_fairy_tales| the|  0.0685805422647528|0.0|   0.0|\n",
      "|         moby_dick| the| 0.06610998567122882|0.0|   0.0|\n",
      "|     war_and_peace| the|0.059165397315449966|0.0|   0.0|\n",
      "|      frankenstein| the|0.055699267282574065|0.0|   0.0|\n",
      "|grimms_fairy_tales| and|0.052698032961190855|0.0|   0.0|\n",
      "|        tom_sawyer| the| 0.05116476833479359|0.0|   0.0|\n",
      "|           dracula| the| 0.04836578643725301|0.0|   0.0|\n",
      "|        tom_sawyer| and| 0.04114054527650363|0.0|   0.0|\n",
      "|      frankenstein| and| 0.03881490920675374|0.0|   0.0|\n",
      "|     war_and_peace| and| 0.03800727193421864|0.0|   0.0|\n",
      "|      frankenstein|   i| 0.03630455559095253|0.0|   0.0|\n",
      "|           dracula| and| 0.03572731022855674|0.0|   0.0|\n",
      "|      frankenstein|  of| 0.03517043644472762|0.0|   0.0|\n",
      "|         moby_dick|  of|0.030288057710361183|0.0|   0.0|\n",
      "|         moby_dick| and| 0.02927740770519564|0.0|   0.0|\n",
      "|           dracula|   i|0.028971644137815587|0.0|   0.0|\n",
      "|     war_and_peace|  to|0.028547623672292705|0.0|   0.0|\n",
      "|           dracula|  to|0.028367819115545805|0.0|   0.0|\n",
      "|      frankenstein|  to| 0.02770309015610067|0.0|   0.0|\n",
      "|grimms_fairy_tales|  to|0.026097440571124782|0.0|   0.0|\n",
      "+------------------+----+--------------------+---+------+\n",
      "only showing top 20 rows\n",
      "\n"
     ]
    }
   ],
   "source": [
    "tf_idf = tf.join(idf, 'word')\\\n",
    "    .withColumn('tf_idf', func.col('tf')*func.col('idf'))\\\n",
    "    .select('book', 'word', 'tf', 'idf', 'tf_idf')\n",
    "tf_idf.show()"
   ]
  },
  {
   "cell_type": "code",
   "execution_count": 68,
   "metadata": {
    "collapsed": false
   },
   "outputs": [
    {
     "name": "stdout",
     "output_type": "stream",
     "text": [
      "+------------------+-------+--------------------+------------------+--------------------+\n",
      "|              book|   word|                  tf|               idf|              tf_idf|\n",
      "+------------------+-------+--------------------+------------------+--------------------+\n",
      "|         moby_dick|   ahab|0.002322249122980...| 1.791759469228055| 0.00416091185600665|\n",
      "|         moby_dick|  whale|0.005587771584115277|0.6931471805599453|0.003873148119142...|\n",
      "|         moby_dick| whales|0.001217271783999389| 1.791759469228055|0.002181058245605033|\n",
      "|     war_and_peace| pierre|0.003344612668977...| 1.791759469228055|0.005992741420539759|\n",
      "|     war_and_peace|   rost|0.001644193186736...| 1.791759469228055|0.002945998711574...|\n",
      "|     war_and_peace|    sha| 0.00216897194478237|1.0986122886681098|0.002382859232314...|\n",
      "|           dracula|helsing|0.001931044378149904| 1.791759469228055|0.003459967050049...|\n",
      "|           dracula|   lucy|0.001775604273407...| 1.791759469228055|0.003181455770479128|\n",
      "|           dracula|   mina|0.001363090149282...| 1.791759469228055|0.002442329682388...|\n",
      "|        tom_sawyer|   huck|0.003324228212132...| 1.791759469228055|0.005956217376962...|\n",
      "|        tom_sawyer|    tom|0.010616914910065453|0.4054651081081644|0.004304788551784872|\n",
      "|        tom_sawyer|  becky|0.001481729629438...| 1.791759469228055|0.002654903094382651|\n",
      "|grimms_fairy_tales| gretel|9.303561935140882E-4| 1.791759469228055|0.001666974519483...|\n",
      "|grimms_fairy_tales|   hans|0.001186678818257...|1.0986122886681098|0.001303699932440...|\n",
      "|grimms_fairy_tales| tailor|6.550467076782866E-4| 1.791759469228055|0.001173686141269...|\n",
      "|      frankenstein|clerval|7.518317935648295E-4| 1.791759469228055|0.001347101735386...|\n",
      "|      frankenstein|justine|7.008601465434852E-4| 1.791759469228055|0.001255772804173852|\n",
      "|      frankenstein|  felix|6.371455877668047E-4| 1.791759469228055|0.001141611640158047|\n",
      "+------------------+-------+--------------------+------------------+--------------------+\n",
      "\n"
     ]
    }
   ],
   "source": [
    "w = pyspark.sql.Window.partitionBy('book')\\\n",
    "    .orderBy(func.desc('tf_idf'))\n",
    "\n",
    "tf_idf.withColumn('rank', func.rank().over(w))\\\n",
    "    .where('rank <= 3')\\\n",
    "    .drop('rank')\\\n",
    "    .show()"
   ]
  },
  {
   "cell_type": "code",
   "execution_count": null,
   "metadata": {
    "collapsed": true
   },
   "outputs": [],
   "source": []
  }
 ],
 "metadata": {
  "kernelspec": {
   "display_name": "Python 3",
   "language": "python",
   "name": "python3"
  },
  "language_info": {
   "codemirror_mode": {
    "name": "ipython",
    "version": 3
   },
   "file_extension": ".py",
   "mimetype": "text/x-python",
   "name": "python",
   "nbconvert_exporter": "python",
   "pygments_lexer": "ipython3",
   "version": "3.6.0"
  }
 },
 "nbformat": 4,
 "nbformat_minor": 2
}
