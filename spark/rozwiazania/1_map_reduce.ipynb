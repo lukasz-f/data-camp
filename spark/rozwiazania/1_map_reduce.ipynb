{
 "cells": [
  {
   "cell_type": "markdown",
   "metadata": {},
   "source": [
    "![](imgs/kodolamaczlogo.png)\n",
    "\n",
    "# Przetwarzanie Big Data z użyciem Apache Spark\n",
    "\n",
    "Autor notebooka: Jakub Nowacki.\n",
    "\n",
    "## MapReduce"
   ]
  },
  {
   "cell_type": "markdown",
   "metadata": {},
   "source": [
    "### Map, reduce (i filter) in Python\n",
    "\n",
    "Nazwa **MapReduce** pochodzi od funkcji *map* i *reduce*.  \n",
    "\n",
    "*Map* i *reduce* (czasami nazywany *fold*) są typowe dla *programowania funkcyjnego*. "
   ]
  },
  {
   "cell_type": "code",
   "execution_count": 1,
   "metadata": {
    "collapsed": true
   },
   "outputs": [],
   "source": [
    "# Typowa definicja funkcji w Python\n",
    "def squared(x):\n",
    "    return x**2"
   ]
  },
  {
   "cell_type": "code",
   "execution_count": 2,
   "metadata": {
    "collapsed": false
   },
   "outputs": [
    {
     "data": {
      "text/plain": [
       "<function __main__.squared>"
      ]
     },
     "execution_count": 2,
     "metadata": {},
     "output_type": "execute_result"
    }
   ],
   "source": [
    "squared"
   ]
  },
  {
   "cell_type": "code",
   "execution_count": 3,
   "metadata": {
    "collapsed": false
   },
   "outputs": [
    {
     "data": {
      "text/plain": [
       "144"
      ]
     },
     "execution_count": 3,
     "metadata": {},
     "output_type": "execute_result"
    }
   ],
   "source": [
    "squared(12)"
   ]
  },
  {
   "cell_type": "code",
   "execution_count": 4,
   "metadata": {
    "collapsed": false
   },
   "outputs": [
    {
     "data": {
      "text/plain": [
       "<function __main__.<lambda>>"
      ]
     },
     "execution_count": 4,
     "metadata": {},
     "output_type": "execute_result"
    }
   ],
   "source": [
    "# funkcja anonimowa zwana też lambda\n",
    "lambda x: x**2"
   ]
  },
  {
   "cell_type": "code",
   "execution_count": 5,
   "metadata": {
    "collapsed": true
   },
   "outputs": [],
   "source": [
    "# Referencje do lambdy można przypisać do zmiennej\n",
    "squared_bis = lambda x: x**2"
   ]
  },
  {
   "cell_type": "code",
   "execution_count": 6,
   "metadata": {
    "collapsed": false
   },
   "outputs": [
    {
     "data": {
      "text/plain": [
       "144"
      ]
     },
     "execution_count": 6,
     "metadata": {},
     "output_type": "execute_result"
    }
   ],
   "source": [
    "squared_bis(12)"
   ]
  },
  {
   "cell_type": "code",
   "execution_count": 7,
   "metadata": {
    "collapsed": true
   },
   "outputs": [],
   "source": [
    "def do_something(a, f):\n",
    "    return f(a)"
   ]
  },
  {
   "cell_type": "code",
   "execution_count": 9,
   "metadata": {
    "collapsed": false
   },
   "outputs": [
    {
     "data": {
      "text/plain": [
       "9"
      ]
     },
     "execution_count": 9,
     "metadata": {},
     "output_type": "execute_result"
    }
   ],
   "source": [
    "do_something(3, lambda x: x**2)"
   ]
  },
  {
   "cell_type": "code",
   "execution_count": 10,
   "metadata": {
    "collapsed": false
   },
   "outputs": [
    {
     "data": {
      "text/plain": [
       "16"
      ]
     },
     "execution_count": 10,
     "metadata": {},
     "output_type": "execute_result"
    }
   ],
   "source": [
    "do_something(4, squared)"
   ]
  },
  {
   "cell_type": "code",
   "execution_count": 12,
   "metadata": {
    "collapsed": true
   },
   "outputs": [],
   "source": [
    "map?"
   ]
  },
  {
   "cell_type": "code",
   "execution_count": 13,
   "metadata": {
    "collapsed": false
   },
   "outputs": [
    {
     "data": {
      "text/plain": [
       "<map at 0x7f89d9617e48>"
      ]
     },
     "execution_count": 13,
     "metadata": {},
     "output_type": "execute_result"
    }
   ],
   "source": [
    "# map - wykonaj funkcje na wszystkich elementach kolekcji (iterable)\n",
    "# map(function, iterable)\n",
    "map(squared, [1, 2, 3, 4, 5])"
   ]
  },
  {
   "cell_type": "code",
   "execution_count": 14,
   "metadata": {
    "collapsed": false
   },
   "outputs": [
    {
     "data": {
      "text/plain": [
       "[1, 4, 9, 16, 25]"
      ]
     },
     "execution_count": 14,
     "metadata": {},
     "output_type": "execute_result"
    }
   ],
   "source": [
    "# map w Python 3 zwraca iterator; żeby otrzymać listę trzeba wykonać poniższe\n",
    "list(map(squared, [1, 2, 3, 4, 5]))"
   ]
  },
  {
   "cell_type": "code",
   "execution_count": 15,
   "metadata": {
    "collapsed": false
   },
   "outputs": [
    {
     "data": {
      "text/plain": [
       "([1, 2, 3], [1, 4, 9])"
      ]
     },
     "execution_count": 15,
     "metadata": {},
     "output_type": "execute_result"
    }
   ],
   "source": [
    "a = [1, 2, 3]\n",
    "b = list(map(squared, a))\n",
    "a, b"
   ]
  },
  {
   "cell_type": "code",
   "execution_count": 18,
   "metadata": {
    "collapsed": false
   },
   "outputs": [
    {
     "data": {
      "text/plain": [
       "15"
      ]
     },
     "execution_count": 18,
     "metadata": {},
     "output_type": "execute_result"
    }
   ],
   "source": [
    "# W Python 3 reduce przesunięte zostało do functools\n",
    "from functools import reduce \n",
    "\n",
    "# reduce - redukuje kolekcje do jednego elementu za pomocą funkcji (np. suma, )\n",
    "# reduce(function, iterable, accumulator=None)\n",
    "reduce(lambda x, y: x + y, [1, 2, 3, 4, 5])"
   ]
  },
  {
   "cell_type": "code",
   "execution_count": 19,
   "metadata": {
    "collapsed": false
   },
   "outputs": [
    {
     "data": {
      "text/plain": [
       "<filter at 0x7f89d962d400>"
      ]
     },
     "execution_count": 19,
     "metadata": {},
     "output_type": "execute_result"
    }
   ],
   "source": [
    "# filter - filtruje kolekcje używając funkcji filtrującej zwracającej wartość boolowską\n",
    "# filter(function, iterable)\n",
    "filter(lambda x: x % 2 == 1, [1, 2, 3, 4, 5])"
   ]
  },
  {
   "cell_type": "code",
   "execution_count": 20,
   "metadata": {
    "collapsed": false
   },
   "outputs": [
    {
     "data": {
      "text/plain": [
       "[1, 3, 5]"
      ]
     },
     "execution_count": 20,
     "metadata": {},
     "output_type": "execute_result"
    }
   ],
   "source": [
    "# Podobnie, w Python 3 dostajemy iterator; należy użyć listy aby otrzymać kolekcję\n",
    "list(filter(lambda x: x % 2 == 1, [1, 2, 3, 4, 5]))"
   ]
  },
  {
   "cell_type": "markdown",
   "metadata": {},
   "source": [
    "### Zadania\n",
    "\n",
    "Używająć `map`, `filter` i `reduce`, otrzymaj:\n",
    "\n",
    "* Iloczyn `[1, 2, 3, 4, 5]`.\n",
    "* Długość każdego słowa w liście `[\"Python\", \"Spark\", \"Big\", \"Data\", \"ML\", \"scikit-learn\"]`.\n",
    "* (★) Sumę wszystkich liter w słowach z powyższej listy nie zawierających litery `\"i\"`."
   ]
  },
  {
   "cell_type": "code",
   "execution_count": 21,
   "metadata": {
    "collapsed": false
   },
   "outputs": [
    {
     "data": {
      "text/plain": [
       "120"
      ]
     },
     "execution_count": 21,
     "metadata": {},
     "output_type": "execute_result"
    }
   ],
   "source": [
    "reduce(lambda x, y: x * y, [1, 2, 3, 4, 5])"
   ]
  },
  {
   "cell_type": "code",
   "execution_count": 24,
   "metadata": {
    "collapsed": false
   },
   "outputs": [
    {
     "data": {
      "text/plain": [
       "[6, 5, 3, 4, 2, 12]"
      ]
     },
     "execution_count": 24,
     "metadata": {},
     "output_type": "execute_result"
    }
   ],
   "source": [
    "words = [\"Python\", \"Spark\", \"Big\", \"Data\", \"ML\", \"scikit-learn\"]\n",
    "m = map(lambda w: len(w), words)\n",
    "list(m)"
   ]
  },
  {
   "cell_type": "code",
   "execution_count": 34,
   "metadata": {
    "collapsed": false
   },
   "outputs": [
    {
     "data": {
      "text/plain": [
       "17"
      ]
     },
     "execution_count": 34,
     "metadata": {},
     "output_type": "execute_result"
    }
   ],
   "source": [
    "f1 = filter(lambda w: w.lower().find('i') < 0, words)\n",
    "m1 = map(lambda w: len(w), f1)\n",
    "reduce(lambda x,y: x+y, m1)"
   ]
  },
  {
   "cell_type": "code",
   "execution_count": 35,
   "metadata": {
    "collapsed": true
   },
   "outputs": [],
   "source": [
    "# Przy okazji\n",
    "x = range(1000000)"
   ]
  },
  {
   "cell_type": "code",
   "execution_count": 36,
   "metadata": {
    "collapsed": false
   },
   "outputs": [
    {
     "name": "stdout",
     "output_type": "stream",
     "text": [
      "The slowest run took 6.80 times longer than the fastest. This could mean that an intermediate result is being cached.\n",
      "1000000 loops, best of 3: 249 ns per loop\n"
     ]
    }
   ],
   "source": [
    "%%timeit\n",
    "y = filter(lambda x: x % 2 == 1, x)"
   ]
  },
  {
   "cell_type": "code",
   "execution_count": 37,
   "metadata": {
    "collapsed": false
   },
   "outputs": [
    {
     "name": "stdout",
     "output_type": "stream",
     "text": [
      "10 loops, best of 3: 77 ms per loop\n"
     ]
    }
   ],
   "source": [
    "%%timeit\n",
    "y = [each for each in x if each % 2 == 1]"
   ]
  },
  {
   "cell_type": "markdown",
   "metadata": {},
   "source": [
    "## MapReduce in Hadoop\n",
    "\n",
    "W Hadoop MapReduce realizowane jest z użyciem par klucz-wartość. Zobacz poniższy przykład:\n",
    "![](imgs/MapReduce_example.png)"
   ]
  },
  {
   "cell_type": "code",
   "execution_count": 38,
   "metadata": {
    "collapsed": false
   },
   "outputs": [
    {
     "name": "stdout",
     "output_type": "stream",
     "text": [
      "Input: ['123199901', '567200806', '645200811', '989199933', '452199904', '224200822']\n",
      "Mapper out: ['1999<>1', '2008<>6', '2008<>11', '1999<>33', '1999<>4', '2008<>22']\n",
      "Shuffeled mapper out: ['1999<>1', '1999<>33', '1999<>4', '2008<>11', '2008<>22', '2008<>6']\n",
      "Output: ['1999,38', '2008,39']\n"
     ]
    }
   ],
   "source": [
    "import sys\n",
    "# Python 2\n",
    "#from StringIO import StringIO\n",
    "# Python 3\n",
    "from io import StringIO\n",
    "import contextlib\n",
    "\n",
    "# Funkcja pomocnicza przechwytująca strumień wyjściowy\n",
    "@contextlib.contextmanager\n",
    "def stdoutIO(stdout=None):\n",
    "    old = sys.stdout\n",
    "    if stdout is None:\n",
    "        stdout = StringIO()\n",
    "    sys.stdout = stdout\n",
    "    yield stdout\n",
    "    sys.stdout = old\n",
    "\n",
    "# Linie wejściowe do przetworzenia\n",
    "lines = ['123199901', '567200806', '645200811', '989199933', '452199904', '224200822']\n",
    "\n",
    "# Mapper wyciągający rok i liczbę\n",
    "def mapper(lines):\n",
    "    for line in lines:\n",
    "        key = int(line[3:7])\n",
    "        value = int(line[7:])\n",
    "        print(\"{0}<>{1}\".format(key, value))\n",
    "\n",
    "# Reducer liczący sumę\n",
    "def reducer(lines):\n",
    "    lastKey = None\n",
    "    reduce_sum = 0\n",
    "    for line in lines: \n",
    "        key, value = line.split(\"<>\")\n",
    "        if lastKey is None:\n",
    "            lastKey = key\n",
    "        if key != lastKey:\n",
    "            print(\"{0},{1}\".format(lastKey, reduce_sum))\n",
    "            reduce_sum = 0\n",
    "\n",
    "        reduce_sum += int(value)\n",
    "        lastKey = key\n",
    "    print(\"{0},{1}\".format(lastKey, reduce_sum))\n",
    "    \n",
    "# Przebieg MapReduce \n",
    "# Input\n",
    "print(\"Input: {}\".format(lines))\n",
    "# Map\n",
    "with stdoutIO() as mapper_out:\n",
    "    mapper(lines)\n",
    "shuffled = mapper_out.getvalue().strip().split('\\n')\n",
    "print(\"Mapper out: {}\".format(shuffled))\n",
    "# Shuffle\n",
    "shuffled.sort()\n",
    "print(\"Shuffeled mapper out: {}\".format(shuffled))\n",
    "# Reduce\n",
    "with stdoutIO() as reducer_out:\n",
    "    reducer(shuffled)\n",
    "# Output\n",
    "output = reducer_out.getvalue().strip().split('\\n')\n",
    "print(\"Output: {}\".format(output))"
   ]
  },
  {
   "cell_type": "markdown",
   "metadata": {},
   "source": [
    "\n",
    "\n",
    "## Podstawy Spark"
   ]
  },
  {
   "cell_type": "code",
   "execution_count": 39,
   "metadata": {
    "collapsed": true
   },
   "outputs": [],
   "source": [
    "import pyspark"
   ]
  },
  {
   "cell_type": "code",
   "execution_count": 44,
   "metadata": {
    "collapsed": false
   },
   "outputs": [],
   "source": [
    "# Stara metoda użwająca SparkContext \n",
    "#sc = pyspark.SparkContext(appName=\"sparkMapReduce\")\n",
    "# \n",
    "# Teraz raczej używamy SparkSession\n",
    "spark = pyspark.sql.SparkSession.builder \\\n",
    "    .appName(\"sparkMapReduce\") \\\n",
    "    .getOrCreate()\n",
    "\n",
    "# Tworzymy referencje do SparkContext dla dalszej wygody\n",
    "sc = spark.sparkContext"
   ]
  },
  {
   "cell_type": "code",
   "execution_count": 45,
   "metadata": {
    "collapsed": true
   },
   "outputs": [],
   "source": [
    "# RDD - Resilient Distributed Datasets, rozpraszanie danych w Spark\n",
    "rdd = sc.parallelize(range(10))"
   ]
  },
  {
   "cell_type": "code",
   "execution_count": 47,
   "metadata": {
    "collapsed": false
   },
   "outputs": [
    {
     "data": {
      "text/plain": [
       "PythonRDD[3] at RDD at PythonRDD.scala:48"
      ]
     },
     "execution_count": 47,
     "metadata": {},
     "output_type": "execute_result"
    }
   ],
   "source": [
    "# Obiekt a nie właściwe dane\n",
    "rdd"
   ]
  },
  {
   "cell_type": "code",
   "execution_count": 48,
   "metadata": {
    "collapsed": false
   },
   "outputs": [
    {
     "data": {
      "text/plain": [
       "[0, 1, 2, 3, 4, 5, 6, 7, 8, 9]"
      ]
     },
     "execution_count": 48,
     "metadata": {},
     "output_type": "execute_result"
    }
   ],
   "source": [
    "# zwraca wszystkie elementy; należy używać z rozwagą\n",
    "rdd.collect()"
   ]
  },
  {
   "cell_type": "code",
   "execution_count": 49,
   "metadata": {
    "collapsed": false
   },
   "outputs": [
    {
     "data": {
      "text/plain": [
       "10"
      ]
     },
     "execution_count": 49,
     "metadata": {},
     "output_type": "execute_result"
    }
   ],
   "source": [
    "# zwraca liczbę elementów\n",
    "rdd.count()"
   ]
  },
  {
   "cell_type": "code",
   "execution_count": 50,
   "metadata": {
    "collapsed": false
   },
   "outputs": [
    {
     "data": {
      "text/plain": [
       "0"
      ]
     },
     "execution_count": 50,
     "metadata": {},
     "output_type": "execute_result"
    }
   ],
   "source": [
    "# zwraca pierwszy\n",
    "rdd.first()"
   ]
  },
  {
   "cell_type": "code",
   "execution_count": 63,
   "metadata": {
    "collapsed": false
   },
   "outputs": [
    {
     "data": {
      "text/plain": [
       "[0, 1, 2, 3, 4]"
      ]
     },
     "execution_count": 63,
     "metadata": {},
     "output_type": "execute_result"
    }
   ],
   "source": [
    "# zwraca 5 pierwszych elementów\n",
    "rdd.take(5)"
   ]
  },
  {
   "cell_type": "code",
   "execution_count": 62,
   "metadata": {
    "collapsed": false
   },
   "outputs": [
    {
     "data": {
      "text/plain": [
       "[9, 8, 7, 6, 5]"
      ]
     },
     "execution_count": 62,
     "metadata": {},
     "output_type": "execute_result"
    }
   ],
   "source": [
    "# zwraca 5 elementów z najwyższą wartością\n",
    "rdd.top(5)"
   ]
  },
  {
   "cell_type": "code",
   "execution_count": 61,
   "metadata": {
    "collapsed": false
   },
   "outputs": [
    {
     "data": {
      "text/plain": [
       "[8, 6, 1]"
      ]
     },
     "execution_count": 61,
     "metadata": {},
     "output_type": "execute_result"
    }
   ],
   "source": [
    "# bierze próbkę losową 3 elementów (bez zwracania próbek)\n",
    "rdd.takeSample(False, 3)"
   ]
  },
  {
   "cell_type": "code",
   "execution_count": 67,
   "metadata": {
    "collapsed": false
   },
   "outputs": [
    {
     "data": {
      "text/plain": [
       "[0, 2, 4, 6, 8]"
      ]
     },
     "execution_count": 67,
     "metadata": {},
     "output_type": "execute_result"
    }
   ],
   "source": [
    "# operacje można łączyć w łańcuch\n",
    "rdd.filter(lambda x: x % 2 == 0).collect()"
   ]
  },
  {
   "cell_type": "code",
   "execution_count": 68,
   "metadata": {
    "collapsed": false
   },
   "outputs": [
    {
     "data": {
      "text/plain": [
       "45"
      ]
     },
     "execution_count": 68,
     "metadata": {},
     "output_type": "execute_result"
    }
   ],
   "source": [
    "# suma wszystkich elementów\n",
    "rdd.reduce(lambda x, y: x + y)"
   ]
  },
  {
   "cell_type": "code",
   "execution_count": 69,
   "metadata": {
    "collapsed": false
   },
   "outputs": [
    {
     "data": {
      "text/plain": [
       "45"
      ]
     },
     "execution_count": 69,
     "metadata": {},
     "output_type": "execute_result"
    }
   ],
   "source": [
    "# alternatywnie możemy wykorzystać operator\n",
    "from operator import add\n",
    "rdd.reduce(add)"
   ]
  },
  {
   "cell_type": "code",
   "execution_count": 70,
   "metadata": {
    "collapsed": true
   },
   "outputs": [],
   "source": [
    "# kolejny przykład z liczeniem słów\n",
    "animals = sc.parallelize([\"cat\", \"python\", \"cat\", \"snake\", \"snake\"])"
   ]
  },
  {
   "cell_type": "code",
   "execution_count": 71,
   "metadata": {
    "collapsed": false
   },
   "outputs": [],
   "source": [
    "# mapa do pary klucz-wartość\n",
    "animal_kv = animals.map(lambda x: (x, 1))"
   ]
  },
  {
   "cell_type": "code",
   "execution_count": 75,
   "metadata": {
    "collapsed": false
   },
   "outputs": [
    {
     "data": {
      "text/plain": [
       "[('cat', 1), ('python', 1), ('cat', 1), ('snake', 1), ('snake', 1)]"
      ]
     },
     "execution_count": 75,
     "metadata": {},
     "output_type": "execute_result"
    }
   ],
   "source": [
    "animal_kv.collect()"
   ]
  },
  {
   "cell_type": "code",
   "execution_count": 76,
   "metadata": {
    "collapsed": false
   },
   "outputs": [
    {
     "data": {
      "text/plain": [
       "[('cat', 2), ('python', 1), ('snake', 2)]"
      ]
     },
     "execution_count": 76,
     "metadata": {},
     "output_type": "execute_result"
    }
   ],
   "source": [
    "# redukujemy parami wszystkie wartości dla danego klucza\n",
    "animal_kv \\\n",
    "  .reduceByKey(add)  \\\n",
    "  .collect()"
   ]
  },
  {
   "cell_type": "markdown",
   "metadata": {},
   "source": [
    "## Text processing\n",
    "\n",
    "Będziemy analizować [\"The Tragedy of Titus Andronicus\" by William Shakespeare](http://www.gutenberg.org/cache/epub/1106/pg1106.txt) z Project Gutenberg.\n",
    "\n",
    "Zbiór nie jest Big Data ale ilustruje koncepcję przetwarzania w Spark."
   ]
  },
  {
   "cell_type": "code",
   "execution_count": 77,
   "metadata": {
    "collapsed": false
   },
   "outputs": [],
   "source": [
    "lines = sc.textFile(\"data/titus_andronicus.txt\")"
   ]
  },
  {
   "cell_type": "code",
   "execution_count": 78,
   "metadata": {
    "collapsed": false
   },
   "outputs": [
    {
     "data": {
      "text/plain": [
       "3255"
      ]
     },
     "execution_count": 78,
     "metadata": {},
     "output_type": "execute_result"
    }
   ],
   "source": [
    "# liczba linii\n",
    "lines.count()"
   ]
  },
  {
   "cell_type": "code",
   "execution_count": 79,
   "metadata": {
    "collapsed": false
   },
   "outputs": [
    {
     "data": {
      "text/plain": [
       "['',\n",
       " 'This Etext file is presented by Project Gutenberg, in',\n",
       " 'cooperation with World Library, Inc., from their Library of the',\n",
       " 'Future and Shakespeare CDROMS.  Project Gutenberg often releases',\n",
       " 'Etexts that are NOT placed in the Public Domain!!']"
      ]
     },
     "execution_count": 79,
     "metadata": {},
     "output_type": "execute_result"
    }
   ],
   "source": [
    "lines.take(5)"
   ]
  },
  {
   "cell_type": "code",
   "execution_count": 81,
   "metadata": {
    "collapsed": false
   },
   "outputs": [],
   "source": [
    "# zmieniamy linie w kolekcje słów\n",
    "words = lines.flatMap(lambda x: x.split())"
   ]
  },
  {
   "cell_type": "code",
   "execution_count": 82,
   "metadata": {
    "collapsed": false
   },
   "outputs": [
    {
     "data": {
      "text/plain": [
       "['This', 'Etext', 'file', 'is', 'presented']"
      ]
     },
     "execution_count": 82,
     "metadata": {},
     "output_type": "execute_result"
    }
   ],
   "source": [
    "words.take(5)"
   ]
  },
  {
   "cell_type": "code",
   "execution_count": 83,
   "metadata": {
    "collapsed": false
   },
   "outputs": [
    {
     "data": {
      "text/plain": [
       "23531"
      ]
     },
     "execution_count": 83,
     "metadata": {},
     "output_type": "execute_result"
    }
   ],
   "source": [
    "# liczba słów\n",
    "words.count()"
   ]
  },
  {
   "cell_type": "markdown",
   "metadata": {},
   "source": [
    "### Zadanie\n",
    "\n",
    "* Co się stanie jak użyjemy `map` zamiast `flatMap`?"
   ]
  },
  {
   "cell_type": "code",
   "execution_count": 84,
   "metadata": {
    "collapsed": false
   },
   "outputs": [
    {
     "data": {
      "text/plain": [
       "[[],\n",
       " ['This',\n",
       "  'Etext',\n",
       "  'file',\n",
       "  'is',\n",
       "  'presented',\n",
       "  'by',\n",
       "  'Project',\n",
       "  'Gutenberg,',\n",
       "  'in'],\n",
       " ['cooperation',\n",
       "  'with',\n",
       "  'World',\n",
       "  'Library,',\n",
       "  'Inc.,',\n",
       "  'from',\n",
       "  'their',\n",
       "  'Library',\n",
       "  'of',\n",
       "  'the'],\n",
       " ['Future',\n",
       "  'and',\n",
       "  'Shakespeare',\n",
       "  'CDROMS.',\n",
       "  'Project',\n",
       "  'Gutenberg',\n",
       "  'often',\n",
       "  'releases'],\n",
       " ['Etexts', 'that', 'are', 'NOT', 'placed', 'in', 'the', 'Public', 'Domain!!']]"
      ]
     },
     "execution_count": 84,
     "metadata": {},
     "output_type": "execute_result"
    }
   ],
   "source": [
    "# zmieniamy linie w kolekcje słów\n",
    "lines.map(lambda x: x.split()).take(5)"
   ]
  },
  {
   "cell_type": "code",
   "execution_count": 85,
   "metadata": {
    "collapsed": false
   },
   "outputs": [
    {
     "data": {
      "text/plain": [
       "3255"
      ]
     },
     "execution_count": 85,
     "metadata": {},
     "output_type": "execute_result"
    }
   ],
   "source": [
    "# zmieniamy linie w kolekcje słów\n",
    "lines.map(lambda x: x.split()).count()"
   ]
  },
  {
   "cell_type": "code",
   "execution_count": null,
   "metadata": {
    "collapsed": true
   },
   "outputs": [],
   "source": []
  },
  {
   "cell_type": "code",
   "execution_count": 86,
   "metadata": {
    "collapsed": false
   },
   "outputs": [],
   "source": [
    "# Liczymy słowa tylko z pierwszą wielką literą\n",
    "capitalized = words \\\n",
    "  .filter(lambda x: x[0].isupper()) \\"
   ]
  },
  {
   "cell_type": "code",
   "execution_count": 87,
   "metadata": {
    "collapsed": false
   },
   "outputs": [
    {
     "data": {
      "text/plain": [
       "['This', 'Etext', 'Project', 'Gutenberg,', 'World']"
      ]
     },
     "execution_count": 87,
     "metadata": {},
     "output_type": "execute_result"
    }
   ],
   "source": [
    "capitalized.take(5)"
   ]
  },
  {
   "cell_type": "code",
   "execution_count": 88,
   "metadata": {
    "collapsed": false
   },
   "outputs": [
    {
     "data": {
      "text/plain": [
       "['Etext',\n",
       " 'Project',\n",
       " 'Gutenberg,',\n",
       " 'World',\n",
       " 'Library,',\n",
       " 'Inc.,',\n",
       " 'Future',\n",
       " 'Shakespeare',\n",
       " 'Public',\n",
       " 'Domain!!']"
      ]
     },
     "execution_count": 88,
     "metadata": {},
     "output_type": "execute_result"
    }
   ],
   "source": [
    "capitalized.distinct().take(10)"
   ]
  },
  {
   "cell_type": "code",
   "execution_count": 89,
   "metadata": {
    "collapsed": false
   },
   "outputs": [
    {
     "data": {
      "text/plain": [
       "[('I', 390),\n",
       " ('And', 289),\n",
       " ('TITUS.', 118),\n",
       " ('The', 90),\n",
       " ('To', 85),\n",
       " ('That', 84),\n",
       " ('MARCUS.', 65),\n",
       " ('But', 61),\n",
       " ('AARON.', 58),\n",
       " ('For', 55)]"
      ]
     },
     "execution_count": 89,
     "metadata": {},
     "output_type": "execute_result"
    }
   ],
   "source": [
    "capitalized \\\n",
    "  .map(lambda x: (x, 1)) \\\n",
    "  .reduceByKey(add) \\\n",
    "  .top(10, lambda x: x[1])  # możemy wybrać wartość z pary klucz-wartość jako element sortujący"
   ]
  },
  {
   "cell_type": "markdown",
   "metadata": {},
   "source": [
    "### Zadania\n",
    "\n",
    "* Wypisz 5 linii zaczynających się od \"Titus\" lub \"Marcus\" (usuwając spacje jeżeli potrzeba).\n",
    "* Wypisz 20 najpopularniejszych słów z samymi WIELKIMI LITERAMI.\n",
    "* ★ Jaka jestczęstotliwość wyrazów w dziele?\n",
    "\n",
    "### (Python) hints"
   ]
  },
  {
   "cell_type": "code",
   "execution_count": 90,
   "metadata": {
    "collapsed": false
   },
   "outputs": [
    {
     "data": {
      "text/plain": [
       "'some string with whitespaces'"
      ]
     },
     "execution_count": 90,
     "metadata": {},
     "output_type": "execute_result"
    }
   ],
   "source": [
    "\"  some string with whitespaces \\t  \".strip()"
   ]
  },
  {
   "cell_type": "code",
   "execution_count": 91,
   "metadata": {
    "collapsed": false
   },
   "outputs": [
    {
     "data": {
      "text/plain": [
       "False"
      ]
     },
     "execution_count": 91,
     "metadata": {},
     "output_type": "execute_result"
    }
   ],
   "source": [
    "\"Jake likes his dog.\".startswith(\"Anne\")"
   ]
  },
  {
   "cell_type": "code",
   "execution_count": 92,
   "metadata": {
    "collapsed": false
   },
   "outputs": [
    {
     "data": {
      "text/plain": [
       "True"
      ]
     },
     "execution_count": 92,
     "metadata": {},
     "output_type": "execute_result"
    }
   ],
   "source": [
    "\"Jake likes his dog.\".startswith(\"Jake\")"
   ]
  },
  {
   "cell_type": "code",
   "execution_count": 93,
   "metadata": {
    "collapsed": false
   },
   "outputs": [
    {
     "data": {
      "text/plain": [
       "'Anne'"
      ]
     },
     "execution_count": 93,
     "metadata": {},
     "output_type": "execute_result"
    }
   ],
   "source": [
    "\"Anne\" or \"Jake\"  # Nie rób: string.startswith(a or b)"
   ]
  },
  {
   "cell_type": "code",
   "execution_count": 94,
   "metadata": {
    "collapsed": false
   },
   "outputs": [
    {
     "data": {
      "text/plain": [
       "'abc-'"
      ]
     },
     "execution_count": 94,
     "metadata": {},
     "output_type": "execute_result"
    }
   ],
   "source": [
    "\"abc,-\".replace(\",\", \"\")"
   ]
  },
  {
   "cell_type": "code",
   "execution_count": null,
   "metadata": {
    "collapsed": false
   },
   "outputs": [],
   "source": [
    "\"abc,-\".replace(\",\", \"\").replace(\"-\", \"\")"
   ]
  },
  {
   "cell_type": "code",
   "execution_count": 100,
   "metadata": {
    "collapsed": false
   },
   "outputs": [
    {
     "data": {
      "text/plain": [
       "['Titus', 'Andronicus', 'Roman', 'legion']"
      ]
     },
     "execution_count": 100,
     "metadata": {},
     "output_type": "execute_result"
    }
   ],
   "source": [
    "# Wyrażenia regularne w pythonie\n",
    "import re\n",
    "re.findall(\"[\\w]+\", \"Titus Andronicus Roman-legion $\")"
   ]
  },
  {
   "cell_type": "code",
   "execution_count": null,
   "metadata": {
    "collapsed": true
   },
   "outputs": [],
   "source": []
  },
  {
   "cell_type": "code",
   "execution_count": 102,
   "metadata": {
    "collapsed": true
   },
   "outputs": [],
   "source": [
    "def starts_with_name(line):\n",
    "    l = line.strip().lower()\n",
    "    return l.startswith('titus') or l.startswith('marcus')"
   ]
  },
  {
   "cell_type": "code",
   "execution_count": 103,
   "metadata": {
    "collapsed": false
   },
   "outputs": [
    {
     "data": {
      "text/plain": [
       "['  TITUS ANDRONICUS, a noble Roman',\n",
       " '  MARCUS ANDRONICUS, Tribune of the People, and brother to Titus',\n",
       " '  MARCUS. Princes, that strive by factions and by friends',\n",
       " '  TITUS. Hail, Rome, victorious in thy mourning weeds!',\n",
       " '    Titus, unkind, and careless of thine own,']"
      ]
     },
     "execution_count": 103,
     "metadata": {},
     "output_type": "execute_result"
    }
   ],
   "source": [
    "lines.filter(starts_with_name).take(5)"
   ]
  },
  {
   "cell_type": "code",
   "execution_count": 107,
   "metadata": {
    "collapsed": false
   },
   "outputs": [
    {
     "data": {
      "text/plain": [
       "[('I', 390),\n",
       " ('TITUS.', 118),\n",
       " ('MARCUS.', 65),\n",
       " ('AARON.', 58),\n",
       " ('LUCIUS.', 51),\n",
       " ('SATURNINUS.', 50),\n",
       " ('TAMORA.', 49),\n",
       " ('A', 45),\n",
       " ('DEMETRIUS.', 39),\n",
       " ('O,', 37),\n",
       " ('OF', 36),\n",
       " ('OR', 36),\n",
       " ('FOR', 32),\n",
       " ('O', 30),\n",
       " ('CHIRON.', 30),\n",
       " ('BY', 27),\n",
       " ('AND', 27),\n",
       " ('ARE', 22),\n",
       " ('IS', 20),\n",
       " ('ELECTRONIC', 18)]"
      ]
     },
     "execution_count": 107,
     "metadata": {},
     "output_type": "execute_result"
    }
   ],
   "source": [
    "words.filter(lambda w: w.isupper()) \\\n",
    "    .map(lambda w: (w, 1)) \\\n",
    "    .reduceByKey(add) \\\n",
    "    .top(20, key=lambda t: t[1])"
   ]
  },
  {
   "cell_type": "code",
   "execution_count": null,
   "metadata": {
    "collapsed": true
   },
   "outputs": [],
   "source": []
  }
 ],
 "metadata": {
  "kernelspec": {
   "display_name": "Python 3",
   "language": "python",
   "name": "python3"
  },
  "language_info": {
   "codemirror_mode": {
    "name": "ipython",
    "version": 3
   },
   "file_extension": ".py",
   "mimetype": "text/x-python",
   "name": "python",
   "nbconvert_exporter": "python",
   "pygments_lexer": "ipython3",
   "version": "3.6.0"
  }
 },
 "nbformat": 4,
 "nbformat_minor": 0
}
