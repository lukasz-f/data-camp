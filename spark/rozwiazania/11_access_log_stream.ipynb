{
 "cells": [
  {
   "cell_type": "markdown",
   "metadata": {},
   "source": [
    "![](imgs/kodolamaczlogo.png)\n",
    "\n",
    "# Przetwarzanie Big Data z użyciem Apache Spark\n",
    "\n",
    "Autor notebooka: Jakub Nowacki.\n",
    "\n",
    "\n",
    "## Spark Streaming"
   ]
  },
  {
   "cell_type": "code",
   "execution_count": 1,
   "metadata": {
    "collapsed": true
   },
   "outputs": [],
   "source": [
    "import pyspark\n",
    "import pyspark.streaming\n",
    "\n",
    "# Lokalny kontekst Spark Streaming z 2 workerami agregujący dane z 1 sekundy.\n",
    "sc = pyspark.SparkContext(master=\"local[2]\", appName=\"AccessLogStreamAnalysis\")\n",
    "ssc = pyspark.streaming.StreamingContext(sc, 3)"
   ]
  },
  {
   "cell_type": "code",
   "execution_count": 2,
   "metadata": {
    "collapsed": true
   },
   "outputs": [],
   "source": [
    "# Czytamy z tekstowego socketa 8899\n",
    "lines = ssc.socketTextStream(\"localhost\", 8899)"
   ]
  },
  {
   "cell_type": "code",
   "execution_count": 3,
   "metadata": {
    "collapsed": true
   },
   "outputs": [],
   "source": [
    "# Funkcja pomocnicza do czytania wierszy\n",
    "def get_row(line):\n",
    "    cols = line.split()\n",
    "    row = dict()\n",
    "    source = cols[0]\n",
    "    method = cols[5]\n",
    "    return (source, method)"
   ]
  },
  {
   "cell_type": "code",
   "execution_count": 4,
   "metadata": {
    "collapsed": false
   },
   "outputs": [],
   "source": [
    "# Czytanie wierszy\n",
    "#rows = lines.map(lambda l: get_row(l))\n",
    "rows = lines.map(get_row)"
   ]
  },
  {
   "cell_type": "code",
   "execution_count": 5,
   "metadata": {
    "collapsed": true
   },
   "outputs": [],
   "source": [
    "# Liczenie wiersz\n",
    "count = rows.count()\n",
    "count.pprint()"
   ]
  },
  {
   "cell_type": "code",
   "execution_count": 6,
   "metadata": {
    "collapsed": true
   },
   "outputs": [],
   "source": [
    "# Znajdowanie wszystkich metod w tej porcji loga\n",
    "grouped = rows.groupByKey()\n",
    "grouped.mapValues(lambda values: set(values)).pprint()"
   ]
  },
  {
   "cell_type": "code",
   "execution_count": 7,
   "metadata": {
    "collapsed": false
   },
   "outputs": [
    {
     "name": "stdout",
     "output_type": "stream",
     "text": [
      "-------------------------------------------\n",
      "Time: 2017-10-01 13:12:06\n",
      "-------------------------------------------\n",
      "2\n",
      "\n",
      "-------------------------------------------\n",
      "Time: 2017-10-01 13:12:06\n",
      "-------------------------------------------\n",
      "('64.242.88.10', {'\"GET'})\n",
      "\n",
      "-------------------------------------------\n",
      "Time: 2017-10-01 13:12:09\n",
      "-------------------------------------------\n",
      "3\n",
      "\n",
      "-------------------------------------------\n",
      "Time: 2017-10-01 13:12:09\n",
      "-------------------------------------------\n",
      "('fw.kcm.org', {'\"GET'})\n",
      "('10.0.0.153', {'\"GET'})\n",
      "('64.242.88.10', {'\"GET'})\n",
      "\n",
      "-------------------------------------------\n",
      "Time: 2017-10-01 13:12:12\n",
      "-------------------------------------------\n",
      "3\n",
      "\n",
      "-------------------------------------------\n",
      "Time: 2017-10-01 13:12:12\n",
      "-------------------------------------------\n",
      "('10.0.0.153', {'\"GET'})\n",
      "('64.242.88.10', {'\"GET'})\n",
      "\n",
      "-------------------------------------------\n",
      "Time: 2017-10-01 13:12:15\n",
      "-------------------------------------------\n",
      "3\n",
      "\n",
      "-------------------------------------------\n",
      "Time: 2017-10-01 13:12:15\n",
      "-------------------------------------------\n",
      "('h24-70-69-74.ca.shawcable.net', {'\"GET'})\n",
      "('proxy0.haifa.ac.il', {'\"GET'})\n",
      "('10.0.0.153', {'\"GET'})\n",
      "\n",
      "-------------------------------------------\n",
      "Time: 2017-10-01 13:12:18\n",
      "-------------------------------------------\n",
      "3\n",
      "\n",
      "-------------------------------------------\n",
      "Time: 2017-10-01 13:12:18\n",
      "-------------------------------------------\n",
      "('64.242.88.10', {'\"GET'})\n",
      "('spica.ukc.ac.uk', {'\"GET'})\n",
      "('10.0.0.153', {'\"GET'})\n",
      "\n",
      "-------------------------------------------\n",
      "Time: 2017-10-01 13:12:21\n",
      "-------------------------------------------\n",
      "3\n",
      "\n",
      "-------------------------------------------\n",
      "Time: 2017-10-01 13:12:21\n",
      "-------------------------------------------\n",
      "('cr020r01-3.sac.overture.com', {'\"GET'})\n",
      "('10.0.0.153', {'\"GET'})\n",
      "('64.242.88.10', {'\"GET'})\n",
      "\n",
      "-------------------------------------------\n",
      "Time: 2017-10-01 13:12:24\n",
      "-------------------------------------------\n",
      "3\n",
      "\n",
      "-------------------------------------------\n",
      "Time: 2017-10-01 13:12:24\n",
      "-------------------------------------------\n",
      "('mail.geovariances.fr', {'\"GET'})\n",
      "('64.242.88.10', {'\"GET'})\n",
      "\n",
      "-------------------------------------------\n",
      "Time: 2017-10-01 13:12:27\n",
      "-------------------------------------------\n",
      "\n",
      "-------------------------------------------\n",
      "Time: 2017-10-01 13:12:27\n",
      "-------------------------------------------\n",
      "\n",
      "-------------------------------------------\n",
      "Time: 2017-10-01 13:12:30\n",
      "-------------------------------------------\n",
      "\n",
      "-------------------------------------------\n",
      "Time: 2017-10-01 13:12:30\n",
      "-------------------------------------------\n",
      "\n"
     ]
    }
   ],
   "source": [
    "# Strumień trzeba wystartować ręcznie\n",
    "ssc.start()             \n",
    "# Przestajemy czekać na strumień po 10s; normalnie czekamy w nieskończoność używając tej metody\n",
    "ssc.awaitTermination(20)\n",
    "# Zatrzymujemy strumień po 10s\n",
    "ssc.stop(True, True)"
   ]
  },
  {
   "cell_type": "markdown",
   "metadata": {
    "collapsed": true
   },
   "source": [
    "## Zadania\n",
    "\n",
    "* Zbadaj dane.\n",
    "* Wyczytaj inne wartości takie jak znacznik czasu czy ścieżkę.\n",
    "* Policz ilość rekordów dla jednego źródła.\n",
    "* ★ Policz metody dla jednego źródła.\n",
    "* ★ Policz rekordy dla 5s.\n",
    "\n",
    "Podpowiedź: dane ze strumienia są w pliku `data/access_log`."
   ]
  }
 ],
 "metadata": {
  "kernelspec": {
   "display_name": "Python 3",
   "language": "python",
   "name": "python3"
  },
  "language_info": {
   "codemirror_mode": {
    "name": "ipython",
    "version": 3
   },
   "file_extension": ".py",
   "mimetype": "text/x-python",
   "name": "python",
   "nbconvert_exporter": "python",
   "pygments_lexer": "ipython3",
   "version": "3.6.0"
  }
 },
 "nbformat": 4,
 "nbformat_minor": 1
}
