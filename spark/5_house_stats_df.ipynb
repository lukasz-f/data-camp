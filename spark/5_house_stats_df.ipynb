{
 "cells": [
  {
   "cell_type": "markdown",
   "metadata": {},
   "source": [
    "![](imgs/kodolamaczlogo.png)\n",
    "\n",
    "# Przetwarzanie Big Data z użyciem Apache Spark\n",
    "\n",
    "Autor notebooka: Jakub Nowacki.\n",
    "\n",
    "\n",
    "## Spark SQL - statystyki z użyciem metod DataFrame \n",
    "\n",
    "W katalogu `data/` znajduje się plik `rollingsales_bronx.csv`.\n",
    "\n",
    "Poniżej analizujemy dane statystyczne domów: liczność, średnie powierzchnie, lata i ceny, grupując po dzielnicy i typie."
   ]
  },
  {
   "cell_type": "code",
   "execution_count": 1,
   "metadata": {
    "collapsed": true
   },
   "outputs": [],
   "source": [
    "import findspark\n",
    "findspark.init()"
   ]
  },
  {
   "cell_type": "code",
   "execution_count": 2,
   "metadata": {},
   "outputs": [],
   "source": [
    "import pyspark\n",
    "import pyspark.sql.functions as func\n",
    "import pyspark.sql.types as types\n",
    "\n",
    "spark = pyspark.sql.SparkSession.builder \\\n",
    "    .appName('HouseStatsDF') \\\n",
    "    .getOrCreate()\n",
    "    \n",
    "#sc = pyspark.SparkContext(appName='HouseStatsDF')\n",
    "#spark = pyspark.sql.SQLContext(sc)"
   ]
  },
  {
   "cell_type": "code",
   "execution_count": 3,
   "metadata": {},
   "outputs": [],
   "source": [
    "import re\n",
    "\n",
    "# Użycie Row to jedna z metod tworzenia DataFrame z danych; nie wymaga dodatkowego schematu\n",
    "# zobacz dokumentację: http://spark.apache.org/docs/latest/api/python/pyspark.sql.html\n",
    "def from_csv(line):\n",
    "    # Stałe podane są tylko dla czytelności\n",
    "    HOOD_COLUMN = 1\n",
    "    TYPE_COLUMN = 2;\n",
    "    LAND_AREA_COLUMN = 14;\n",
    "    GROSS_AREA_COLUMN = 15;\n",
    "    YEAR_COLUMN = 16;\n",
    "    PRICE_COLUMN = 19;\n",
    "    # Dzielimy linię na kolumny i przypisujemy do kluczy w słowniku\n",
    "    c = line.split(',')\n",
    "    row = dict()\n",
    "    row['hood'] = c[HOOD_COLUMN];\n",
    "    row['type'] = c[TYPE_COLUMN];\n",
    "    row['landArea'] = int(re.sub(r'[^\\d]', '', c[LAND_AREA_COLUMN]));\n",
    "    row['grossArea'] = int(re.sub(r'[^\\d]', '', c[GROSS_AREA_COLUMN]));\n",
    "    row['year'] = int(re.sub(r'[^\\d]', '', c[YEAR_COLUMN]));\n",
    "    row['price'] = int(re.sub(r'[^\\d]', '', c[PRICE_COLUMN]));\n",
    "    # Zwracamy obiekt Row\n",
    "    return pyspark.Row(**row)"
   ]
  },
  {
   "cell_type": "code",
   "execution_count": 4,
   "metadata": {},
   "outputs": [
    {
     "name": "stdout",
     "output_type": "stream",
     "text": [
      "root\n",
      " |-- grossArea: long (nullable = true)\n",
      " |-- hood: string (nullable = true)\n",
      " |-- landArea: long (nullable = true)\n",
      " |-- price: long (nullable = true)\n",
      " |-- type: string (nullable = true)\n",
      " |-- year: long (nullable = true)\n",
      "\n",
      "+---------+--------------------+--------+------+--------------------+----+\n",
      "|grossArea|                hood|landArea| price|                type|year|\n",
      "+---------+--------------------+--------+------+--------------------+----+\n",
      "|     2048|BATHGATE         ...|    1842|355000|01  ONE FAMILY HO...|1901|\n",
      "|     1290|BATHGATE         ...|    1103|474819|01  ONE FAMILY HO...|1910|\n",
      "|     1344|BATHGATE         ...|    1986|210000|01  ONE FAMILY HO...|1899|\n",
      "|     1431|BATHGATE         ...|    2329|343116|01  ONE FAMILY HO...|1901|\n",
      "|     4452|BATHGATE         ...|    1855|     0|02  TWO FAMILY HO...|1931|\n",
      "|     2400|BATHGATE         ...|    2000|316500|02  TWO FAMILY HO...|1993|\n",
      "|     2394|BATHGATE         ...|    2498|390000|02  TWO FAMILY HO...|1995|\n",
      "|     1542|BATHGATE         ...|    1542|207000|02  TWO FAMILY HO...|1899|\n",
      "|     2340|BATHGATE         ...|    1819|     0|02  TWO FAMILY HO...|1998|\n",
      "|     1296|BATHGATE         ...|    1667|369000|02  TWO FAMILY HO...|1910|\n",
      "|     5881|BATHGATE         ...|    5000|308000|02  TWO FAMILY HO...|1910|\n",
      "|     1512|BATHGATE         ...|    2483|     0|02  TWO FAMILY HO...|1901|\n",
      "|     3382|BATHGATE         ...|    1562|443776|02  TWO FAMILY HO...|2004|\n",
      "|     2655|BATHGATE         ...|     885|     0|02  TWO FAMILY HO...|1931|\n",
      "|     3854|BATHGATE         ...|    2022|     0|03  THREE FAMILY ...|1899|\n",
      "|     3290|BATHGATE         ...|    3525|440000|03  THREE FAMILY ...|1899|\n",
      "|     2916|BATHGATE         ...|    1216|662115|03  THREE FAMILY ...|2004|\n",
      "|     2280|BATHGATE         ...|    3742|     0|03  THREE FAMILY ...|1910|\n",
      "|     2640|BATHGATE         ...|    1505|460000|03  THREE FAMILY ...|1901|\n",
      "|     2640|BATHGATE         ...|    1505|190000|03  THREE FAMILY ...|1901|\n",
      "+---------+--------------------+--------+------+--------------------+----+\n",
      "only showing top 20 rows\n",
      "\n"
     ]
    }
   ],
   "source": [
    "# Używamy powyższą metodę generującą obiekty Row do przeczytania CSV linia po linii\n",
    "# Zauważ, że tworzymy zwykłe RDD\n",
    "sales_rdd = spark.sparkContext.textFile('data/rollingsales_bronx.csv').map(lambda line: from_csv(line))\n",
    "# Z RDD złożonego z obiektów Row możemy bezpośrednio stworzyć DataFrame bez dodatkowego schematu\n",
    "sales = spark.createDataFrame(sales_rdd)\n",
    "sales.printSchema()\n",
    "sales.show()"
   ]
  },
  {
   "cell_type": "code",
   "execution_count": null,
   "metadata": {},
   "outputs": [],
   "source": [
    "a1 = sales.groupBy('hood', 'type') \\\n",
    "    .agg(func.count('type').alias('count'),\n",
    "         func.avg('landArea').alias('avgLandArea'),\n",
    "         func.avg('year').alias('avgYear'),\n",
    "         func.avg('price').alias('avgPrice')) \\\n",
    "    .orderBy('hood', 'type')\n",
    "a1.show()"
   ]
  },
  {
   "cell_type": "markdown",
   "metadata": {},
   "source": [
    "## Zadania\n",
    "\n",
    "* Popraw wyniki usuwając błędne dane.\n",
    "* Zastosuj odpowiednią prezentację dany w zależności od typu.\n",
    "* Policz średnie dla domów z XX w. tylko dla grup zawierających więcej niż 10 domów.\n",
    "* ★ Policz średnie tylko dla 10 najbogatszych dzielnic."
   ]
  },
  {
   "cell_type": "code",
   "execution_count": 22,
   "metadata": {},
   "outputs": [
    {
     "name": "stdout",
     "output_type": "stream",
     "text": [
      "+--------------------+--------------------+-----+------------------+-------+---------+\n",
      "|                hood|                type|count|       avgLandArea|avgYear| avgPrice|\n",
      "+--------------------+--------------------+-----+------------------+-------+---------+\n",
      "|THROGS NECK      ...|01  ONE FAMILY HO...|   83|2686.3373493975905|   1945|340273.33|\n",
      "|BAYCHESTER       ...|01  ONE FAMILY HO...|   77|2854.4935064935066|   1941|242051.42|\n",
      "|BAYCHESTER       ...|02  TWO FAMILY HO...|   74|2781.4594594594596|   1954|344140.58|\n",
      "|WILLIAMSBRIDGE   ...|02  TWO FAMILY HO...|   73| 2697.794520547945|   1939|343334.67|\n",
      "|SCHUYLERVILLE/PEL...|02  TWO FAMILY HO...|   57|3137.9298245614036|   1938|387447.02|\n",
      "|SOUNDVIEW        ...|02  TWO FAMILY HO...|   57| 2586.315789473684|   1943|309658.05|\n",
      "|MORRIS PARK/VAN N...|02  TWO FAMILY HO...|   48|2367.2083333333335|   1935|376374.40|\n",
      "|THROGS NECK      ...|02  TWO FAMILY HO...|   47|2852.5106382978724|   1949|342417.23|\n",
      "|CASTLE HILL/UNION...|02  TWO FAMILY HO...|   45|2651.3777777777777|   1949|332409.47|\n",
      "|MORRISANIA/LONGWO...|03  THREE FAMILY ...|   45| 2139.266666666667|   1952|326618.58|\n",
      "|BRONXDALE        ...|02  TWO FAMILY HO...|   43|2477.6511627906975|   1941|317483.88|\n",
      "|SOUNDVIEW        ...|03  THREE FAMILY ...|   43|2290.1162790697676|   1952|359636.81|\n",
      "|COUNTRY CLUB     ...|01  ONE FAMILY HO...|   41|2802.2926829268295|   1944|392679.78|\n",
      "|RIVERDALE        ...|01  ONE FAMILY HO...|   41| 9506.073170731708|   1941|896041.95|\n",
      "|WAKEFIELD        ...|02  TWO FAMILY HO...|   41| 2778.170731707317|   1942|343435.34|\n",
      "|BRONXDALE        ...|01  ONE FAMILY HO...|   38|2149.8947368421054|   1944|239734.50|\n",
      "|WILLIAMSBRIDGE   ...|01  ONE FAMILY HO...|   38|2792.0526315789475|   1934|264689.89|\n",
      "|PELHAM PARKWAY NO...|02  TWO FAMILY HO...|   37|2887.0810810810813|   1949|394344.97|\n",
      "|SCHUYLERVILLE/PEL...|01  ONE FAMILY HO...|   36| 2751.027777777778|   1927|344840.61|\n",
      "|WAKEFIELD        ...|01  ONE FAMILY HO...|   35|2803.8285714285716|   1936|272300.37|\n",
      "+--------------------+--------------------+-----+------------------+-------+---------+\n",
      "only showing top 20 rows\n",
      "\n"
     ]
    }
   ],
   "source": [
    "#a1 = sales.where(sales.year > 1500).where(sales.landArea > 0) \\\n",
    "a1 = sales.where((sales.year > 1500) & (sales.landArea > 0) & (sales.price > 0)) \\\n",
    "    .groupBy('hood', 'type') \\\n",
    "    .agg(func.count('type').alias('count'),\n",
    "         func.avg('landArea').alias('avgLandArea'),\n",
    "         func.avg('year').cast('int').alias('avgYear'),\n",
    "         #func.avg('price').cast('decimal(10,2)').alias('avgPrice')) \\\n",
    "         func.avg('price').cast(types.DecimalType(10,2)).alias('avgPrice')) \\\n",
    "    .where('count > 10') \\\n",
    "    .orderBy(func.col('count').desc(), 'hood', 'type')\n",
    "    #.orderBy('count', ascending=False) \\\n",
    "a1.show()"
   ]
  },
  {
   "cell_type": "code",
   "execution_count": 24,
   "metadata": {},
   "outputs": [
    {
     "data": {
      "text/plain": [
       "['MOUNT HOPE/MOUNT EDEN    ',\n",
       " 'HIGHBRIDGE/MORRIS HEIGHTS',\n",
       " 'MOTT HAVEN/PORT MORRIS   ',\n",
       " 'CO-OP CITY               ',\n",
       " 'FORDHAM                  ',\n",
       " 'BRONX PARK               ',\n",
       " 'PELHAM PARKWAY SOUTH     ',\n",
       " 'BEDFORD PARK/NORWOOD     ',\n",
       " 'KINGSBRIDGE HTS/UNIV HTS ',\n",
       " 'MELROSE/CONCOURSE        ']"
      ]
     },
     "execution_count": 24,
     "metadata": {},
     "output_type": "execute_result"
    }
   ],
   "source": [
    "posh = sales.groupBy('hood') \\\n",
    "   .agg(func.avg('price').alias('p')) \\\n",
    "   .orderBy('p', ascending=False) \\\n",
    "   .select('hood') \\\n",
    "   .limit(10)\n",
    "   \n",
    "p = [r['hood'] for r in posh.collect()]\n",
    "p"
   ]
  },
  {
   "cell_type": "code",
   "execution_count": 27,
   "metadata": {},
   "outputs": [
    {
     "name": "stdout",
     "output_type": "stream",
     "text": [
      "+--------------------+--------------------+-----+------------------+-------+-----------+\n",
      "|                hood|                type|count|       avgLandArea|avgYear|   avgPrice|\n",
      "+--------------------+--------------------+-----+------------------+-------+-----------+\n",
      "|HIGHBRIDGE/MORRIS...|02  TWO FAMILY HO...|   24|2407.6666666666665|   1945|  274374.42|\n",
      "|BEDFORD PARK/NORW...|02  TWO FAMILY HO...|   23| 2413.304347826087|   1917|  360086.17|\n",
      "|FORDHAM          ...|07  RENTALS - WAL...|   22| 6657.909090909091|   1921| 2315263.64|\n",
      "|BEDFORD PARK/NORW...|07  RENTALS - WAL...|   21| 8995.285714285714|   1922| 3907523.81|\n",
      "|MELROSE/CONCOURSE...|07  RENTALS - WAL...|   18| 4512.944444444444|   1924| 1800854.17|\n",
      "|MOUNT HOPE/MOUNT ...|08  RENTALS - ELE...|   17|15337.823529411764|   1932| 7809504.35|\n",
      "|MELROSE/CONCOURSE...|03  THREE FAMILY ...|   16|         2272.0625|   1907|  277009.06|\n",
      "|MOTT HAVEN/PORT M...|02  TWO FAMILY HO...|   16|          1921.375|   1941|  317152.25|\n",
      "|KINGSBRIDGE HTS/U...|07  RENTALS - WAL...|   15|            7084.8|   1919| 2510546.27|\n",
      "|MELROSE/CONCOURSE...|02  TWO FAMILY HO...|   15|            1962.0|   1937|  261059.87|\n",
      "|MOUNT HOPE/MOUNT ...|07  RENTALS - WAL...|   15|            6528.6|   1921| 1908570.87|\n",
      "|HIGHBRIDGE/MORRIS...|08  RENTALS - ELE...|   14|           73932.5|   1932|15054755.79|\n",
      "|PELHAM PARKWAY SO...|01  ONE FAMILY HO...|   14|2681.8571428571427|   1941|  409928.57|\n",
      "|BEDFORD PARK/NORW...|08  RENTALS - ELE...|   13| 10067.76923076923|   1931| 3668538.46|\n",
      "|HIGHBRIDGE/MORRIS...|07  RENTALS - WAL...|   13| 7021.384615384615|   1919| 1964250.38|\n",
      "|FORDHAM          ...|08  RENTALS - ELE...|   12|10386.083333333334|   1936| 3728073.58|\n",
      "|KINGSBRIDGE HTS/U...|02  TWO FAMILY HO...|   12|            2819.5|   1914|  279750.00|\n",
      "|MOTT HAVEN/PORT M...|30  WAREHOUSES   ...|   12|          50457.75|   1942|12469147.25|\n",
      "|BEDFORD PARK/NORW...|01  ONE FAMILY HO...|   11| 2839.090909090909|   1909|  541681.82|\n",
      "|FORDHAM          ...|02  TWO FAMILY HO...|   11|2231.5454545454545|   1918|  288136.36|\n",
      "+--------------------+--------------------+-----+------------------+-------+-----------+\n",
      "only showing top 20 rows\n",
      "\n",
      "root\n",
      " |-- hood: string (nullable = true)\n",
      " |-- type: string (nullable = true)\n",
      " |-- count: long (nullable = false)\n",
      " |-- avgLandArea: double (nullable = true)\n",
      " |-- avgYear: integer (nullable = true)\n",
      " |-- avgPrice: decimal(10,2) (nullable = true)\n",
      "\n"
     ]
    }
   ],
   "source": [
    "a1 = sales.join(posh, on='hood', how='leftsemi') \\\n",
    ".where((sales.year > 1500) & (sales['price'] > 0)) \\\n",
    ".where('landArea > 0') \\\n",
    ".groupBy('hood', 'type') \\\n",
    ".agg(func.count('type').alias('count'),\n",
    "    func.avg('landArea').alias('avgLandArea'),\n",
    "    func.avg('year').cast('int').alias('avgYear'),\n",
    "    func.avg('price').cast(types.DecimalType(10,2)).alias('avgPrice')) \\\n",
    ".where('count > 10') \\\n",
    ".orderBy(func.col('count').desc(), 'hood', 'type')\n",
    "\n",
    "a1.show()\n",
    "a1.printSchema()"
   ]
  },
  {
   "cell_type": "code",
   "execution_count": null,
   "metadata": {
    "collapsed": true
   },
   "outputs": [],
   "source": []
  }
 ],
 "metadata": {
  "anaconda-cloud": {},
  "kernelspec": {
   "display_name": "Python 3",
   "language": "python",
   "name": "python3"
  },
  "language_info": {
   "codemirror_mode": {
    "name": "ipython",
    "version": 3
   },
   "file_extension": ".py",
   "mimetype": "text/x-python",
   "name": "python",
   "nbconvert_exporter": "python",
   "pygments_lexer": "ipython3",
   "version": "3.6.0"
  }
 },
 "nbformat": 4,
 "nbformat_minor": 1
}
