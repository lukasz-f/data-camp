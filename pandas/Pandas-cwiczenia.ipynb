{
 "cells": [
  {
   "cell_type": "code",
   "execution_count": 5,
   "metadata": {
    "collapsed": true
   },
   "outputs": [],
   "source": [
    "import numpy as np\n",
    "import pandas as pd"
   ]
  },
  {
   "cell_type": "code",
   "execution_count": 4,
   "metadata": {
    "collapsed": true
   },
   "outputs": [],
   "source": [
    "import seaborn as sns\n",
    "flights = sns.load_dataset(\"flights\")"
   ]
  },
  {
   "cell_type": "code",
   "execution_count": 5,
   "metadata": {
    "collapsed": false
   },
   "outputs": [
    {
     "data": {
      "text/html": [
       "<div>\n",
       "<table border=\"1\" class=\"dataframe\">\n",
       "  <thead>\n",
       "    <tr style=\"text-align: right;\">\n",
       "      <th></th>\n",
       "      <th>year</th>\n",
       "      <th>month</th>\n",
       "      <th>passengers</th>\n",
       "      <th>daty</th>\n",
       "    </tr>\n",
       "  </thead>\n",
       "  <tbody>\n",
       "    <tr>\n",
       "      <th>141</th>\n",
       "      <td>1960</td>\n",
       "      <td>October</td>\n",
       "      <td>461</td>\n",
       "      <td>1960-10-31</td>\n",
       "    </tr>\n",
       "    <tr>\n",
       "      <th>142</th>\n",
       "      <td>1960</td>\n",
       "      <td>November</td>\n",
       "      <td>390</td>\n",
       "      <td>1960-11-30</td>\n",
       "    </tr>\n",
       "    <tr>\n",
       "      <th>143</th>\n",
       "      <td>1960</td>\n",
       "      <td>December</td>\n",
       "      <td>432</td>\n",
       "      <td>1960-12-31</td>\n",
       "    </tr>\n",
       "  </tbody>\n",
       "</table>\n",
       "</div>"
      ],
      "text/plain": [
       "     year     month  passengers       daty\n",
       "141  1960   October         461 1960-10-31\n",
       "142  1960  November         390 1960-11-30\n",
       "143  1960  December         432 1960-12-31"
      ]
     },
     "execution_count": 5,
     "metadata": {},
     "output_type": "execute_result"
    }
   ],
   "source": [
    "# Ramka danych flights zawiera kolumny year i month. Wygeneruj na ich podstawie nową zmienną typu data i czas.\n",
    "\n",
    "daty = pd.Series(pd.date_range(start=str(flights.year.values.min()), end=str(flights.year.values.max()+1), freq=\"1M\"))\n",
    "flights2 = flights.copy()\n",
    "flights2[\"daty\"] = daty\n",
    "flights2.tail(3)"
   ]
  },
  {
   "cell_type": "code",
   "execution_count": 10,
   "metadata": {
    "collapsed": false
   },
   "outputs": [
    {
     "data": {
      "text/plain": [
       "[(1949, 'January'),\n",
       " (1949, 'February'),\n",
       " (1949, 'March'),\n",
       " (1949, 'April'),\n",
       " (1949, 'May'),\n",
       " (1949, 'June'),\n",
       " (1949, 'July'),\n",
       " (1949, 'August'),\n",
       " (1949, 'September'),\n",
       " (1949, 'October'),\n",
       " (1949, 'November'),\n",
       " (1949, 'December'),\n",
       " (1950, 'January'),\n",
       " (1950, 'February'),\n",
       " (1950, 'March'),\n",
       " (1950, 'April'),\n",
       " (1950, 'May'),\n",
       " (1950, 'June'),\n",
       " (1950, 'July'),\n",
       " (1950, 'August'),\n",
       " (1950, 'September'),\n",
       " (1950, 'October'),\n",
       " (1950, 'November'),\n",
       " (1950, 'December'),\n",
       " (1951, 'January'),\n",
       " (1951, 'February'),\n",
       " (1951, 'March'),\n",
       " (1951, 'April'),\n",
       " (1951, 'May'),\n",
       " (1951, 'June'),\n",
       " (1951, 'July'),\n",
       " (1951, 'August'),\n",
       " (1951, 'September'),\n",
       " (1951, 'October'),\n",
       " (1951, 'November'),\n",
       " (1951, 'December'),\n",
       " (1952, 'January'),\n",
       " (1952, 'February'),\n",
       " (1952, 'March'),\n",
       " (1952, 'April'),\n",
       " (1952, 'May'),\n",
       " (1952, 'June'),\n",
       " (1952, 'July'),\n",
       " (1952, 'August'),\n",
       " (1952, 'September'),\n",
       " (1952, 'October'),\n",
       " (1952, 'November'),\n",
       " (1952, 'December'),\n",
       " (1953, 'January'),\n",
       " (1953, 'February'),\n",
       " (1953, 'March'),\n",
       " (1953, 'April'),\n",
       " (1953, 'May'),\n",
       " (1953, 'June'),\n",
       " (1953, 'July'),\n",
       " (1953, 'August'),\n",
       " (1953, 'September'),\n",
       " (1953, 'October'),\n",
       " (1953, 'November'),\n",
       " (1953, 'December'),\n",
       " (1954, 'January'),\n",
       " (1954, 'February'),\n",
       " (1954, 'March'),\n",
       " (1954, 'April'),\n",
       " (1954, 'May'),\n",
       " (1954, 'June'),\n",
       " (1954, 'July'),\n",
       " (1954, 'August'),\n",
       " (1954, 'September'),\n",
       " (1954, 'October'),\n",
       " (1954, 'November'),\n",
       " (1954, 'December'),\n",
       " (1955, 'January'),\n",
       " (1955, 'February'),\n",
       " (1955, 'March'),\n",
       " (1955, 'April'),\n",
       " (1955, 'May'),\n",
       " (1955, 'June'),\n",
       " (1955, 'July'),\n",
       " (1955, 'August'),\n",
       " (1955, 'September'),\n",
       " (1955, 'October'),\n",
       " (1955, 'November'),\n",
       " (1955, 'December'),\n",
       " (1956, 'January'),\n",
       " (1956, 'February'),\n",
       " (1956, 'March'),\n",
       " (1956, 'April'),\n",
       " (1956, 'May'),\n",
       " (1956, 'June'),\n",
       " (1956, 'July'),\n",
       " (1956, 'August'),\n",
       " (1956, 'September'),\n",
       " (1956, 'October'),\n",
       " (1956, 'November'),\n",
       " (1956, 'December'),\n",
       " (1957, 'January'),\n",
       " (1957, 'February'),\n",
       " (1957, 'March'),\n",
       " (1957, 'April'),\n",
       " (1957, 'May'),\n",
       " (1957, 'June'),\n",
       " (1957, 'July'),\n",
       " (1957, 'August'),\n",
       " (1957, 'September'),\n",
       " (1957, 'October'),\n",
       " (1957, 'November'),\n",
       " (1957, 'December'),\n",
       " (1958, 'January'),\n",
       " (1958, 'February'),\n",
       " (1958, 'March'),\n",
       " (1958, 'April'),\n",
       " (1958, 'May'),\n",
       " (1958, 'June'),\n",
       " (1958, 'July'),\n",
       " (1958, 'August'),\n",
       " (1958, 'September'),\n",
       " (1958, 'October'),\n",
       " (1958, 'November'),\n",
       " (1958, 'December'),\n",
       " (1959, 'January'),\n",
       " (1959, 'February'),\n",
       " (1959, 'March'),\n",
       " (1959, 'April'),\n",
       " (1959, 'May'),\n",
       " (1959, 'June'),\n",
       " (1959, 'July'),\n",
       " (1959, 'August'),\n",
       " (1959, 'September'),\n",
       " (1959, 'October'),\n",
       " (1959, 'November'),\n",
       " (1959, 'December'),\n",
       " (1960, 'January'),\n",
       " (1960, 'February'),\n",
       " (1960, 'March'),\n",
       " (1960, 'April'),\n",
       " (1960, 'May'),\n",
       " (1960, 'June'),\n",
       " (1960, 'July'),\n",
       " (1960, 'August'),\n",
       " (1960, 'September'),\n",
       " (1960, 'October'),\n",
       " (1960, 'November'),\n",
       " (1960, 'December')]"
      ]
     },
     "execution_count": 10,
     "metadata": {},
     "output_type": "execute_result"
    }
   ],
   "source": [
    "list(zip(flights2.year,flights2.month))"
   ]
  },
  {
   "cell_type": "code",
   "execution_count": 7,
   "metadata": {
    "collapsed": false
   },
   "outputs": [
    {
     "data": {
      "text/plain": [
       "year  month    \n",
       "1949  January      112\n",
       "      February     118\n",
       "      March        132\n",
       "      April        129\n",
       "      May          121\n",
       "      June         135\n",
       "      July         148\n",
       "      August       148\n",
       "      September    136\n",
       "      October      119\n",
       "      November     104\n",
       "      December     118\n",
       "1950  January      115\n",
       "      February     126\n",
       "Name: passengers, dtype: int64"
      ]
     },
     "execution_count": 7,
     "metadata": {},
     "output_type": "execute_result"
    }
   ],
   "source": [
    "# Zastosuj wektor etykiet hierarchicznych do nazwania \n",
    "# wierszy ramki danych flight. Wykorzystaj do tego \n",
    "# celu dane zawarte w kolumnach year i month.\n",
    "\n",
    "flights2 = flights.copy()\n",
    "flights2.index = pd.MultiIndex.from_tuples(list(zip(flights2.year,flights2.month)))\n",
    "flights2.index.names = [\"year\", \"month\"]\n",
    "flights2.passengers.head(14)"
   ]
  },
  {
   "cell_type": "code",
   "execution_count": 11,
   "metadata": {
    "collapsed": false
   },
   "outputs": [
    {
     "data": {
      "text/html": [
       "<div>\n",
       "<table border=\"1\" class=\"dataframe\">\n",
       "  <thead>\n",
       "    <tr style=\"text-align: right;\">\n",
       "      <th></th>\n",
       "      <th></th>\n",
       "      <th>passengers</th>\n",
       "    </tr>\n",
       "    <tr>\n",
       "      <th>year</th>\n",
       "      <th>month</th>\n",
       "      <th></th>\n",
       "    </tr>\n",
       "  </thead>\n",
       "  <tbody>\n",
       "    <tr>\n",
       "      <th rowspan=\"2\" valign=\"top\">1959</th>\n",
       "      <th>November</th>\n",
       "      <td>362</td>\n",
       "    </tr>\n",
       "    <tr>\n",
       "      <th>December</th>\n",
       "      <td>405</td>\n",
       "    </tr>\n",
       "    <tr>\n",
       "      <th rowspan=\"12\" valign=\"top\">1960</th>\n",
       "      <th>January</th>\n",
       "      <td>417</td>\n",
       "    </tr>\n",
       "    <tr>\n",
       "      <th>February</th>\n",
       "      <td>391</td>\n",
       "    </tr>\n",
       "    <tr>\n",
       "      <th>March</th>\n",
       "      <td>419</td>\n",
       "    </tr>\n",
       "    <tr>\n",
       "      <th>April</th>\n",
       "      <td>461</td>\n",
       "    </tr>\n",
       "    <tr>\n",
       "      <th>May</th>\n",
       "      <td>472</td>\n",
       "    </tr>\n",
       "    <tr>\n",
       "      <th>June</th>\n",
       "      <td>535</td>\n",
       "    </tr>\n",
       "    <tr>\n",
       "      <th>July</th>\n",
       "      <td>622</td>\n",
       "    </tr>\n",
       "    <tr>\n",
       "      <th>August</th>\n",
       "      <td>606</td>\n",
       "    </tr>\n",
       "    <tr>\n",
       "      <th>September</th>\n",
       "      <td>508</td>\n",
       "    </tr>\n",
       "    <tr>\n",
       "      <th>October</th>\n",
       "      <td>461</td>\n",
       "    </tr>\n",
       "    <tr>\n",
       "      <th>November</th>\n",
       "      <td>390</td>\n",
       "    </tr>\n",
       "    <tr>\n",
       "      <th>December</th>\n",
       "      <td>432</td>\n",
       "    </tr>\n",
       "  </tbody>\n",
       "</table>\n",
       "</div>"
      ],
      "text/plain": [
       "                passengers\n",
       "year month                \n",
       "1959 November          362\n",
       "     December          405\n",
       "1960 January           417\n",
       "     February          391\n",
       "     March             419\n",
       "     April             461\n",
       "     May               472\n",
       "     June              535\n",
       "     July              622\n",
       "     August            606\n",
       "     September         508\n",
       "     October           461\n",
       "     November          390\n",
       "     December          432"
      ]
     },
     "execution_count": 11,
     "metadata": {},
     "output_type": "execute_result"
    }
   ],
   "source": [
    "# Zastosuj wektor etykiet hierarchicznych do nazwania \n",
    "# wierszy ramki danych flight. Wykorzystaj do tego \n",
    "# celu dane zawarte w kolumnach year i month.\n",
    "\n",
    "flights2 = flights.copy()\n",
    "flights2 = flights2.set_index([\"year\", \"month\"])\n",
    "flights2.tail(14)"
   ]
  },
  {
   "cell_type": "code",
   "execution_count": 6,
   "metadata": {
    "collapsed": false
   },
   "outputs": [],
   "source": [
    "iris = sns.load_dataset(\"iris\")"
   ]
  },
  {
   "cell_type": "code",
   "execution_count": 15,
   "metadata": {
    "collapsed": false
   },
   "outputs": [
    {
     "data": {
      "text/plain": [
       "(120, 30, 150)"
      ]
     },
     "execution_count": 15,
     "metadata": {},
     "output_type": "execute_result"
    }
   ],
   "source": [
    "# Podziel ramkę danych iris \n",
    "# na dwie rozłączne części: \n",
    "# niech pierwsza zawiera 80% obserwacji, \n",
    "# a druga - pozostałe 20%. (podpowiedź: sample albo permutation)\n",
    "iris1= iris.sample(frac=0.8)\n",
    "iris2 = iris.iloc[~iris.index.isin(iris1.index), :]\n",
    "len(iris1), len(iris2), len(iris)"
   ]
  },
  {
   "cell_type": "code",
   "execution_count": 7,
   "metadata": {
    "collapsed": false
   },
   "outputs": [
    {
     "data": {
      "text/plain": [
       "(120, 30, 150)"
      ]
     },
     "execution_count": 7,
     "metadata": {},
     "output_type": "execute_result"
    }
   ],
   "source": [
    "# Podziel ramkę danych iris \n",
    "# na dwie rozłączne części: \n",
    "# niech pierwsza zawiera 80% obserwacji, \n",
    "# a druga - pozostałe 20%. (podpowiedź: sample albo permutation)\n",
    "\n",
    "\n",
    "i = np.random.permutation(np.arange(len(iris)))\n",
    "k = int(len(i)*0.8)\n",
    "iris1 = iris.iloc[i[:k], :]\n",
    "iris2 = iris.iloc[i[k:], :]\n",
    "len(iris1), len(iris2), len(iris)"
   ]
  },
  {
   "cell_type": "code",
   "execution_count": 23,
   "metadata": {
    "collapsed": false
   },
   "outputs": [
    {
     "data": {
      "text/plain": [
       "sepal_length    5.843333\n",
       "sepal_width     3.057333\n",
       "petal_length    3.758000\n",
       "petal_width     1.199333\n",
       "dtype: float64"
      ]
     },
     "execution_count": 23,
     "metadata": {},
     "output_type": "execute_result"
    }
   ],
   "source": [
    "# Dokonaj standaryzacji wszystkich zmiennych \n",
    "# liczbowych w ramce danych iris (odejmij \n",
    "# średnią i podziel przez odchylenie standardowe).\n",
    "\n",
    "iris = iris.iloc[:,0:4]\n",
    "srednie = iris.mean(axis=0)\n",
    "srednie"
   ]
  },
  {
   "cell_type": "code",
   "execution_count": 24,
   "metadata": {
    "collapsed": false
   },
   "outputs": [
    {
     "data": {
      "text/plain": [
       "sepal_length    0.828066\n",
       "sepal_width     0.435866\n",
       "petal_length    1.765298\n",
       "petal_width     0.762238\n",
       "dtype: float64"
      ]
     },
     "execution_count": 24,
     "metadata": {},
     "output_type": "execute_result"
    }
   ],
   "source": [
    "odch = iris.std(axis=0,ddof=1)\n",
    "odch"
   ]
  },
  {
   "cell_type": "code",
   "execution_count": 27,
   "metadata": {
    "collapsed": false
   },
   "outputs": [
    {
     "data": {
      "text/html": [
       "<div>\n",
       "<table border=\"1\" class=\"dataframe\">\n",
       "  <thead>\n",
       "    <tr style=\"text-align: right;\">\n",
       "      <th></th>\n",
       "      <th>sepal_length</th>\n",
       "      <th>sepal_width</th>\n",
       "      <th>petal_length</th>\n",
       "      <th>petal_width</th>\n",
       "    </tr>\n",
       "  </thead>\n",
       "  <tbody>\n",
       "    <tr>\n",
       "      <th>0</th>\n",
       "      <td>-0.897674</td>\n",
       "      <td>1.015602</td>\n",
       "      <td>-1.335752</td>\n",
       "      <td>-1.311052</td>\n",
       "    </tr>\n",
       "    <tr>\n",
       "      <th>1</th>\n",
       "      <td>-1.139200</td>\n",
       "      <td>-0.131539</td>\n",
       "      <td>-1.335752</td>\n",
       "      <td>-1.311052</td>\n",
       "    </tr>\n",
       "    <tr>\n",
       "      <th>2</th>\n",
       "      <td>-1.380727</td>\n",
       "      <td>0.327318</td>\n",
       "      <td>-1.392399</td>\n",
       "      <td>-1.311052</td>\n",
       "    </tr>\n",
       "    <tr>\n",
       "      <th>3</th>\n",
       "      <td>-1.501490</td>\n",
       "      <td>0.097889</td>\n",
       "      <td>-1.279104</td>\n",
       "      <td>-1.311052</td>\n",
       "    </tr>\n",
       "    <tr>\n",
       "      <th>4</th>\n",
       "      <td>-1.018437</td>\n",
       "      <td>1.245030</td>\n",
       "      <td>-1.335752</td>\n",
       "      <td>-1.311052</td>\n",
       "    </tr>\n",
       "    <tr>\n",
       "      <th>5</th>\n",
       "      <td>-0.535384</td>\n",
       "      <td>1.933315</td>\n",
       "      <td>-1.165809</td>\n",
       "      <td>-1.048667</td>\n",
       "    </tr>\n",
       "    <tr>\n",
       "      <th>6</th>\n",
       "      <td>-1.501490</td>\n",
       "      <td>0.786174</td>\n",
       "      <td>-1.335752</td>\n",
       "      <td>-1.179859</td>\n",
       "    </tr>\n",
       "    <tr>\n",
       "      <th>7</th>\n",
       "      <td>-1.018437</td>\n",
       "      <td>0.786174</td>\n",
       "      <td>-1.279104</td>\n",
       "      <td>-1.311052</td>\n",
       "    </tr>\n",
       "    <tr>\n",
       "      <th>8</th>\n",
       "      <td>-1.743017</td>\n",
       "      <td>-0.360967</td>\n",
       "      <td>-1.335752</td>\n",
       "      <td>-1.311052</td>\n",
       "    </tr>\n",
       "    <tr>\n",
       "      <th>9</th>\n",
       "      <td>-1.139200</td>\n",
       "      <td>0.097889</td>\n",
       "      <td>-1.279104</td>\n",
       "      <td>-1.442245</td>\n",
       "    </tr>\n",
       "    <tr>\n",
       "      <th>10</th>\n",
       "      <td>-0.535384</td>\n",
       "      <td>1.474458</td>\n",
       "      <td>-1.279104</td>\n",
       "      <td>-1.311052</td>\n",
       "    </tr>\n",
       "    <tr>\n",
       "      <th>11</th>\n",
       "      <td>-1.259964</td>\n",
       "      <td>0.786174</td>\n",
       "      <td>-1.222456</td>\n",
       "      <td>-1.311052</td>\n",
       "    </tr>\n",
       "    <tr>\n",
       "      <th>12</th>\n",
       "      <td>-1.259964</td>\n",
       "      <td>-0.131539</td>\n",
       "      <td>-1.335752</td>\n",
       "      <td>-1.442245</td>\n",
       "    </tr>\n",
       "    <tr>\n",
       "      <th>13</th>\n",
       "      <td>-1.863780</td>\n",
       "      <td>-0.131539</td>\n",
       "      <td>-1.505695</td>\n",
       "      <td>-1.442245</td>\n",
       "    </tr>\n",
       "    <tr>\n",
       "      <th>14</th>\n",
       "      <td>-0.052331</td>\n",
       "      <td>2.162743</td>\n",
       "      <td>-1.449047</td>\n",
       "      <td>-1.311052</td>\n",
       "    </tr>\n",
       "    <tr>\n",
       "      <th>15</th>\n",
       "      <td>-0.173094</td>\n",
       "      <td>3.080455</td>\n",
       "      <td>-1.279104</td>\n",
       "      <td>-1.048667</td>\n",
       "    </tr>\n",
       "    <tr>\n",
       "      <th>16</th>\n",
       "      <td>-0.535384</td>\n",
       "      <td>1.933315</td>\n",
       "      <td>-1.392399</td>\n",
       "      <td>-1.048667</td>\n",
       "    </tr>\n",
       "    <tr>\n",
       "      <th>17</th>\n",
       "      <td>-0.897674</td>\n",
       "      <td>1.015602</td>\n",
       "      <td>-1.335752</td>\n",
       "      <td>-1.179859</td>\n",
       "    </tr>\n",
       "    <tr>\n",
       "      <th>18</th>\n",
       "      <td>-0.173094</td>\n",
       "      <td>1.703886</td>\n",
       "      <td>-1.165809</td>\n",
       "      <td>-1.179859</td>\n",
       "    </tr>\n",
       "    <tr>\n",
       "      <th>19</th>\n",
       "      <td>-0.897674</td>\n",
       "      <td>1.703886</td>\n",
       "      <td>-1.279104</td>\n",
       "      <td>-1.179859</td>\n",
       "    </tr>\n",
       "    <tr>\n",
       "      <th>20</th>\n",
       "      <td>-0.535384</td>\n",
       "      <td>0.786174</td>\n",
       "      <td>-1.165809</td>\n",
       "      <td>-1.311052</td>\n",
       "    </tr>\n",
       "    <tr>\n",
       "      <th>21</th>\n",
       "      <td>-0.897674</td>\n",
       "      <td>1.474458</td>\n",
       "      <td>-1.279104</td>\n",
       "      <td>-1.048667</td>\n",
       "    </tr>\n",
       "    <tr>\n",
       "      <th>22</th>\n",
       "      <td>-1.501490</td>\n",
       "      <td>1.245030</td>\n",
       "      <td>-1.562342</td>\n",
       "      <td>-1.311052</td>\n",
       "    </tr>\n",
       "    <tr>\n",
       "      <th>23</th>\n",
       "      <td>-0.897674</td>\n",
       "      <td>0.556746</td>\n",
       "      <td>-1.165809</td>\n",
       "      <td>-0.917474</td>\n",
       "    </tr>\n",
       "    <tr>\n",
       "      <th>24</th>\n",
       "      <td>-1.259964</td>\n",
       "      <td>0.786174</td>\n",
       "      <td>-1.052513</td>\n",
       "      <td>-1.311052</td>\n",
       "    </tr>\n",
       "    <tr>\n",
       "      <th>25</th>\n",
       "      <td>-1.018437</td>\n",
       "      <td>-0.131539</td>\n",
       "      <td>-1.222456</td>\n",
       "      <td>-1.311052</td>\n",
       "    </tr>\n",
       "    <tr>\n",
       "      <th>26</th>\n",
       "      <td>-1.018437</td>\n",
       "      <td>0.786174</td>\n",
       "      <td>-1.222456</td>\n",
       "      <td>-1.048667</td>\n",
       "    </tr>\n",
       "    <tr>\n",
       "      <th>27</th>\n",
       "      <td>-0.776911</td>\n",
       "      <td>1.015602</td>\n",
       "      <td>-1.279104</td>\n",
       "      <td>-1.311052</td>\n",
       "    </tr>\n",
       "    <tr>\n",
       "      <th>28</th>\n",
       "      <td>-0.776911</td>\n",
       "      <td>0.786174</td>\n",
       "      <td>-1.335752</td>\n",
       "      <td>-1.311052</td>\n",
       "    </tr>\n",
       "    <tr>\n",
       "      <th>29</th>\n",
       "      <td>-1.380727</td>\n",
       "      <td>0.327318</td>\n",
       "      <td>-1.222456</td>\n",
       "      <td>-1.311052</td>\n",
       "    </tr>\n",
       "    <tr>\n",
       "      <th>...</th>\n",
       "      <td>...</td>\n",
       "      <td>...</td>\n",
       "      <td>...</td>\n",
       "      <td>...</td>\n",
       "    </tr>\n",
       "    <tr>\n",
       "      <th>120</th>\n",
       "      <td>1.276066</td>\n",
       "      <td>0.327318</td>\n",
       "      <td>1.100097</td>\n",
       "      <td>1.443994</td>\n",
       "    </tr>\n",
       "    <tr>\n",
       "      <th>121</th>\n",
       "      <td>-0.293857</td>\n",
       "      <td>-0.590395</td>\n",
       "      <td>0.646916</td>\n",
       "      <td>1.050416</td>\n",
       "    </tr>\n",
       "    <tr>\n",
       "      <th>122</th>\n",
       "      <td>2.242172</td>\n",
       "      <td>-0.590395</td>\n",
       "      <td>1.666574</td>\n",
       "      <td>1.050416</td>\n",
       "    </tr>\n",
       "    <tr>\n",
       "      <th>123</th>\n",
       "      <td>0.551486</td>\n",
       "      <td>-0.819823</td>\n",
       "      <td>0.646916</td>\n",
       "      <td>0.788031</td>\n",
       "    </tr>\n",
       "    <tr>\n",
       "      <th>124</th>\n",
       "      <td>1.034539</td>\n",
       "      <td>0.556746</td>\n",
       "      <td>1.100097</td>\n",
       "      <td>1.181609</td>\n",
       "    </tr>\n",
       "    <tr>\n",
       "      <th>125</th>\n",
       "      <td>1.638355</td>\n",
       "      <td>0.327318</td>\n",
       "      <td>1.270040</td>\n",
       "      <td>0.788031</td>\n",
       "    </tr>\n",
       "    <tr>\n",
       "      <th>126</th>\n",
       "      <td>0.430722</td>\n",
       "      <td>-0.590395</td>\n",
       "      <td>0.590269</td>\n",
       "      <td>0.788031</td>\n",
       "    </tr>\n",
       "    <tr>\n",
       "      <th>127</th>\n",
       "      <td>0.309959</td>\n",
       "      <td>-0.131539</td>\n",
       "      <td>0.646916</td>\n",
       "      <td>0.788031</td>\n",
       "    </tr>\n",
       "    <tr>\n",
       "      <th>128</th>\n",
       "      <td>0.672249</td>\n",
       "      <td>-0.590395</td>\n",
       "      <td>1.043450</td>\n",
       "      <td>1.181609</td>\n",
       "    </tr>\n",
       "    <tr>\n",
       "      <th>129</th>\n",
       "      <td>1.638355</td>\n",
       "      <td>-0.131539</td>\n",
       "      <td>1.156745</td>\n",
       "      <td>0.525645</td>\n",
       "    </tr>\n",
       "    <tr>\n",
       "      <th>130</th>\n",
       "      <td>1.879882</td>\n",
       "      <td>-0.590395</td>\n",
       "      <td>1.326688</td>\n",
       "      <td>0.919223</td>\n",
       "    </tr>\n",
       "    <tr>\n",
       "      <th>131</th>\n",
       "      <td>2.483699</td>\n",
       "      <td>1.703886</td>\n",
       "      <td>1.496631</td>\n",
       "      <td>1.050416</td>\n",
       "    </tr>\n",
       "    <tr>\n",
       "      <th>132</th>\n",
       "      <td>0.672249</td>\n",
       "      <td>-0.590395</td>\n",
       "      <td>1.043450</td>\n",
       "      <td>1.312801</td>\n",
       "    </tr>\n",
       "    <tr>\n",
       "      <th>133</th>\n",
       "      <td>0.551486</td>\n",
       "      <td>-0.590395</td>\n",
       "      <td>0.760211</td>\n",
       "      <td>0.394453</td>\n",
       "    </tr>\n",
       "    <tr>\n",
       "      <th>134</th>\n",
       "      <td>0.309959</td>\n",
       "      <td>-1.049251</td>\n",
       "      <td>1.043450</td>\n",
       "      <td>0.263260</td>\n",
       "    </tr>\n",
       "    <tr>\n",
       "      <th>135</th>\n",
       "      <td>2.242172</td>\n",
       "      <td>-0.131539</td>\n",
       "      <td>1.326688</td>\n",
       "      <td>1.443994</td>\n",
       "    </tr>\n",
       "    <tr>\n",
       "      <th>136</th>\n",
       "      <td>0.551486</td>\n",
       "      <td>0.786174</td>\n",
       "      <td>1.043450</td>\n",
       "      <td>1.575187</td>\n",
       "    </tr>\n",
       "    <tr>\n",
       "      <th>137</th>\n",
       "      <td>0.672249</td>\n",
       "      <td>0.097889</td>\n",
       "      <td>0.986802</td>\n",
       "      <td>0.788031</td>\n",
       "    </tr>\n",
       "    <tr>\n",
       "      <th>138</th>\n",
       "      <td>0.189196</td>\n",
       "      <td>-0.131539</td>\n",
       "      <td>0.590269</td>\n",
       "      <td>0.788031</td>\n",
       "    </tr>\n",
       "    <tr>\n",
       "      <th>139</th>\n",
       "      <td>1.276066</td>\n",
       "      <td>0.097889</td>\n",
       "      <td>0.930154</td>\n",
       "      <td>1.181609</td>\n",
       "    </tr>\n",
       "    <tr>\n",
       "      <th>140</th>\n",
       "      <td>1.034539</td>\n",
       "      <td>0.097889</td>\n",
       "      <td>1.043450</td>\n",
       "      <td>1.575187</td>\n",
       "    </tr>\n",
       "    <tr>\n",
       "      <th>141</th>\n",
       "      <td>1.276066</td>\n",
       "      <td>0.097889</td>\n",
       "      <td>0.760211</td>\n",
       "      <td>1.443994</td>\n",
       "    </tr>\n",
       "    <tr>\n",
       "      <th>142</th>\n",
       "      <td>-0.052331</td>\n",
       "      <td>-0.819823</td>\n",
       "      <td>0.760211</td>\n",
       "      <td>0.919223</td>\n",
       "    </tr>\n",
       "    <tr>\n",
       "      <th>143</th>\n",
       "      <td>1.155302</td>\n",
       "      <td>0.327318</td>\n",
       "      <td>1.213393</td>\n",
       "      <td>1.443994</td>\n",
       "    </tr>\n",
       "    <tr>\n",
       "      <th>144</th>\n",
       "      <td>1.034539</td>\n",
       "      <td>0.556746</td>\n",
       "      <td>1.100097</td>\n",
       "      <td>1.706379</td>\n",
       "    </tr>\n",
       "    <tr>\n",
       "      <th>145</th>\n",
       "      <td>1.034539</td>\n",
       "      <td>-0.131539</td>\n",
       "      <td>0.816859</td>\n",
       "      <td>1.443994</td>\n",
       "    </tr>\n",
       "    <tr>\n",
       "      <th>146</th>\n",
       "      <td>0.551486</td>\n",
       "      <td>-1.278680</td>\n",
       "      <td>0.703564</td>\n",
       "      <td>0.919223</td>\n",
       "    </tr>\n",
       "    <tr>\n",
       "      <th>147</th>\n",
       "      <td>0.793012</td>\n",
       "      <td>-0.131539</td>\n",
       "      <td>0.816859</td>\n",
       "      <td>1.050416</td>\n",
       "    </tr>\n",
       "    <tr>\n",
       "      <th>148</th>\n",
       "      <td>0.430722</td>\n",
       "      <td>0.786174</td>\n",
       "      <td>0.930154</td>\n",
       "      <td>1.443994</td>\n",
       "    </tr>\n",
       "    <tr>\n",
       "      <th>149</th>\n",
       "      <td>0.068433</td>\n",
       "      <td>-0.131539</td>\n",
       "      <td>0.760211</td>\n",
       "      <td>0.788031</td>\n",
       "    </tr>\n",
       "  </tbody>\n",
       "</table>\n",
       "<p>150 rows × 4 columns</p>\n",
       "</div>"
      ],
      "text/plain": [
       "     sepal_length  sepal_width  petal_length  petal_width\n",
       "0       -0.897674     1.015602     -1.335752    -1.311052\n",
       "1       -1.139200    -0.131539     -1.335752    -1.311052\n",
       "2       -1.380727     0.327318     -1.392399    -1.311052\n",
       "3       -1.501490     0.097889     -1.279104    -1.311052\n",
       "4       -1.018437     1.245030     -1.335752    -1.311052\n",
       "5       -0.535384     1.933315     -1.165809    -1.048667\n",
       "6       -1.501490     0.786174     -1.335752    -1.179859\n",
       "7       -1.018437     0.786174     -1.279104    -1.311052\n",
       "8       -1.743017    -0.360967     -1.335752    -1.311052\n",
       "9       -1.139200     0.097889     -1.279104    -1.442245\n",
       "10      -0.535384     1.474458     -1.279104    -1.311052\n",
       "11      -1.259964     0.786174     -1.222456    -1.311052\n",
       "12      -1.259964    -0.131539     -1.335752    -1.442245\n",
       "13      -1.863780    -0.131539     -1.505695    -1.442245\n",
       "14      -0.052331     2.162743     -1.449047    -1.311052\n",
       "15      -0.173094     3.080455     -1.279104    -1.048667\n",
       "16      -0.535384     1.933315     -1.392399    -1.048667\n",
       "17      -0.897674     1.015602     -1.335752    -1.179859\n",
       "18      -0.173094     1.703886     -1.165809    -1.179859\n",
       "19      -0.897674     1.703886     -1.279104    -1.179859\n",
       "20      -0.535384     0.786174     -1.165809    -1.311052\n",
       "21      -0.897674     1.474458     -1.279104    -1.048667\n",
       "22      -1.501490     1.245030     -1.562342    -1.311052\n",
       "23      -0.897674     0.556746     -1.165809    -0.917474\n",
       "24      -1.259964     0.786174     -1.052513    -1.311052\n",
       "25      -1.018437    -0.131539     -1.222456    -1.311052\n",
       "26      -1.018437     0.786174     -1.222456    -1.048667\n",
       "27      -0.776911     1.015602     -1.279104    -1.311052\n",
       "28      -0.776911     0.786174     -1.335752    -1.311052\n",
       "29      -1.380727     0.327318     -1.222456    -1.311052\n",
       "..            ...          ...           ...          ...\n",
       "120      1.276066     0.327318      1.100097     1.443994\n",
       "121     -0.293857    -0.590395      0.646916     1.050416\n",
       "122      2.242172    -0.590395      1.666574     1.050416\n",
       "123      0.551486    -0.819823      0.646916     0.788031\n",
       "124      1.034539     0.556746      1.100097     1.181609\n",
       "125      1.638355     0.327318      1.270040     0.788031\n",
       "126      0.430722    -0.590395      0.590269     0.788031\n",
       "127      0.309959    -0.131539      0.646916     0.788031\n",
       "128      0.672249    -0.590395      1.043450     1.181609\n",
       "129      1.638355    -0.131539      1.156745     0.525645\n",
       "130      1.879882    -0.590395      1.326688     0.919223\n",
       "131      2.483699     1.703886      1.496631     1.050416\n",
       "132      0.672249    -0.590395      1.043450     1.312801\n",
       "133      0.551486    -0.590395      0.760211     0.394453\n",
       "134      0.309959    -1.049251      1.043450     0.263260\n",
       "135      2.242172    -0.131539      1.326688     1.443994\n",
       "136      0.551486     0.786174      1.043450     1.575187\n",
       "137      0.672249     0.097889      0.986802     0.788031\n",
       "138      0.189196    -0.131539      0.590269     0.788031\n",
       "139      1.276066     0.097889      0.930154     1.181609\n",
       "140      1.034539     0.097889      1.043450     1.575187\n",
       "141      1.276066     0.097889      0.760211     1.443994\n",
       "142     -0.052331    -0.819823      0.760211     0.919223\n",
       "143      1.155302     0.327318      1.213393     1.443994\n",
       "144      1.034539     0.556746      1.100097     1.706379\n",
       "145      1.034539    -0.131539      0.816859     1.443994\n",
       "146      0.551486    -1.278680      0.703564     0.919223\n",
       "147      0.793012    -0.131539      0.816859     1.050416\n",
       "148      0.430722     0.786174      0.930154     1.443994\n",
       "149      0.068433    -0.131539      0.760211     0.788031\n",
       "\n",
       "[150 rows x 4 columns]"
      ]
     },
     "execution_count": 27,
     "metadata": {},
     "output_type": "execute_result"
    }
   ],
   "source": [
    "iris_std = (iris - srednie)/odch\n",
    "iris_std"
   ]
  },
  {
   "cell_type": "code",
   "execution_count": 30,
   "metadata": {
    "collapsed": false
   },
   "outputs": [
    {
     "data": {
      "text/plain": [
       "True"
      ]
     },
     "execution_count": 30,
     "metadata": {},
     "output_type": "execute_result"
    }
   ],
   "source": [
    "np.allclose(iris_std.mean(axis=0),0)"
   ]
  },
  {
   "cell_type": "code",
   "execution_count": 31,
   "metadata": {
    "collapsed": false
   },
   "outputs": [
    {
     "data": {
      "text/plain": [
       "True"
      ]
     },
     "execution_count": 31,
     "metadata": {},
     "output_type": "execute_result"
    }
   ],
   "source": [
    "np.allclose(iris_std.std(axis=0),1)"
   ]
  },
  {
   "cell_type": "code",
   "execution_count": 9,
   "metadata": {
    "collapsed": false
   },
   "outputs": [
    {
     "data": {
      "text/html": [
       "<div>\n",
       "<table border=\"1\" class=\"dataframe\">\n",
       "  <thead>\n",
       "    <tr style=\"text-align: right;\">\n",
       "      <th></th>\n",
       "      <th></th>\n",
       "      <th>tip</th>\n",
       "      <th>total_bill</th>\n",
       "    </tr>\n",
       "    <tr>\n",
       "      <th>day</th>\n",
       "      <th>sex</th>\n",
       "      <th></th>\n",
       "      <th></th>\n",
       "    </tr>\n",
       "  </thead>\n",
       "  <tbody>\n",
       "    <tr>\n",
       "      <th rowspan=\"2\" valign=\"top\">Fri</th>\n",
       "      <th>Female</th>\n",
       "      <td>3.000</td>\n",
       "      <td>15.380</td>\n",
       "    </tr>\n",
       "    <tr>\n",
       "      <th>Male</th>\n",
       "      <td>2.600</td>\n",
       "      <td>17.215</td>\n",
       "    </tr>\n",
       "    <tr>\n",
       "      <th rowspan=\"2\" valign=\"top\">Sat</th>\n",
       "      <th>Female</th>\n",
       "      <td>2.625</td>\n",
       "      <td>18.360</td>\n",
       "    </tr>\n",
       "    <tr>\n",
       "      <th>Male</th>\n",
       "      <td>3.000</td>\n",
       "      <td>18.240</td>\n",
       "    </tr>\n",
       "    <tr>\n",
       "      <th rowspan=\"2\" valign=\"top\">Sun</th>\n",
       "      <th>Female</th>\n",
       "      <td>3.500</td>\n",
       "      <td>17.410</td>\n",
       "    </tr>\n",
       "    <tr>\n",
       "      <th>Male</th>\n",
       "      <td>3.085</td>\n",
       "      <td>20.725</td>\n",
       "    </tr>\n",
       "    <tr>\n",
       "      <th rowspan=\"2\" valign=\"top\">Thur</th>\n",
       "      <th>Female</th>\n",
       "      <td>2.005</td>\n",
       "      <td>13.785</td>\n",
       "    </tr>\n",
       "    <tr>\n",
       "      <th>Male</th>\n",
       "      <td>2.530</td>\n",
       "      <td>16.975</td>\n",
       "    </tr>\n",
       "  </tbody>\n",
       "</table>\n",
       "</div>"
      ],
      "text/plain": [
       "               tip  total_bill\n",
       "day  sex                      \n",
       "Fri  Female  3.000      15.380\n",
       "     Male    2.600      17.215\n",
       "Sat  Female  2.625      18.360\n",
       "     Male    3.000      18.240\n",
       "Sun  Female  3.500      17.410\n",
       "     Male    3.085      20.725\n",
       "Thur Female  2.005      13.785\n",
       "     Male    2.530      16.975"
      ]
     },
     "execution_count": 9,
     "metadata": {},
     "output_type": "execute_result"
    }
   ],
   "source": [
    "# Utwórz tabelę przestawną (pivot table) dla ramki tips, \n",
    "# dla wartości total_bill i tip, w rozbiciu na dzień tygodnia oraz płeć.\n",
    "\n",
    "tips = pd.read_csv('tips.csv')\n",
    "pd.pivot_table(tips, values=[\"total_bill\", \"tip\"], index=[\"day\", \"sex\"], aggfunc=\"median\")"
   ]
  },
  {
   "cell_type": "code",
   "execution_count": 35,
   "metadata": {
    "collapsed": false
   },
   "outputs": [
    {
     "data": {
      "text/plain": [
       "0    0.059447\n",
       "1    0.160542\n",
       "2    0.166587\n",
       "3    0.139780\n",
       "4    0.146808\n",
       "dtype: float64"
      ]
     },
     "execution_count": 35,
     "metadata": {},
     "output_type": "execute_result"
    }
   ],
   "source": [
    "(tips[\"tip\"]/tips[\"total_bill\"]).head()"
   ]
  },
  {
   "cell_type": "code",
   "execution_count": 21,
   "metadata": {
    "collapsed": false
   },
   "outputs": [
    {
     "data": {
      "text/html": [
       "<div>\n",
       "<table border=\"1\" class=\"dataframe\">\n",
       "  <thead>\n",
       "    <tr style=\"text-align: right;\">\n",
       "      <th></th>\n",
       "      <th></th>\n",
       "      <th>tip_frac</th>\n",
       "    </tr>\n",
       "    <tr>\n",
       "      <th>day</th>\n",
       "      <th>sex</th>\n",
       "      <th></th>\n",
       "    </tr>\n",
       "  </thead>\n",
       "  <tbody>\n",
       "    <tr>\n",
       "      <th rowspan=\"2\" valign=\"top\">Fri</th>\n",
       "      <th>Female</th>\n",
       "      <td>0.195059</td>\n",
       "    </tr>\n",
       "    <tr>\n",
       "      <th>Male</th>\n",
       "      <td>0.133739</td>\n",
       "    </tr>\n",
       "    <tr>\n",
       "      <th rowspan=\"2\" valign=\"top\">Sat</th>\n",
       "      <th>Female</th>\n",
       "      <td>0.151091</td>\n",
       "    </tr>\n",
       "    <tr>\n",
       "      <th>Male</th>\n",
       "      <td>0.151832</td>\n",
       "    </tr>\n",
       "    <tr>\n",
       "      <th rowspan=\"2\" valign=\"top\">Sun</th>\n",
       "      <th>Female</th>\n",
       "      <td>0.169397</td>\n",
       "    </tr>\n",
       "    <tr>\n",
       "      <th>Male</th>\n",
       "      <td>0.157845</td>\n",
       "    </tr>\n",
       "    <tr>\n",
       "      <th rowspan=\"2\" valign=\"top\">Thur</th>\n",
       "      <th>Female</th>\n",
       "      <td>0.153143</td>\n",
       "    </tr>\n",
       "    <tr>\n",
       "      <th>Male</th>\n",
       "      <td>0.155529</td>\n",
       "    </tr>\n",
       "  </tbody>\n",
       "</table>\n",
       "</div>"
      ],
      "text/plain": [
       "             tip_frac\n",
       "day  sex             \n",
       "Fri  Female  0.195059\n",
       "     Male    0.133739\n",
       "Sat  Female  0.151091\n",
       "     Male    0.151832\n",
       "Sun  Female  0.169397\n",
       "     Male    0.157845\n",
       "Thur Female  0.153143\n",
       "     Male    0.155529"
      ]
     },
     "execution_count": 21,
     "metadata": {},
     "output_type": "execute_result"
    }
   ],
   "source": [
    "# Oblicz, jaką część rachunku stanowi napiwek i podaj \n",
    "# podsumowania liczbowe tych wartości (także w podgrupach \n",
    "# utworzonych na podstawie zmiennych jakościowych dostępnych w ramce danych tips)\n",
    "\n",
    "tips[\"tip_frac\"] = tips[\"tip\"]/tips[\"total_bill\"]\n",
    "tips.groupby([\"sex\", \"day\"])[\"tip_frac\"].describe()\n",
    "tips.groupby([\"sex\", \"day\"])[\"tip_frac\"].mean()\n",
    "pd.pivot_table(tips, values=[\"tip_frac\"], index=[\"day\", \"sex\"], aggfunc=\"median\")"
   ]
  },
  {
   "cell_type": "code",
   "execution_count": 18,
   "metadata": {
    "collapsed": false
   },
   "outputs": [
    {
     "data": {
      "text/plain": [
       "sex     day        \n",
       "Female  Fri   count     9.000000\n",
       "              mean      0.199388\n",
       "              std       0.042170\n",
       "              min       0.142857\n",
       "              25%       0.173913\n",
       "              50%       0.195059\n",
       "              75%       0.220264\n",
       "              max       0.263480\n",
       "        Sat   count    28.000000\n",
       "              mean      0.156470\n",
       "              std       0.060243\n",
       "              min       0.056433\n",
       "              25%       0.127253\n",
       "              50%       0.151091\n",
       "              75%       0.188209\n",
       "              max       0.325733\n",
       "        Sun   count    18.000000\n",
       "              mean      0.181569\n",
       "              std       0.071430\n",
       "              min       0.059447\n",
       "              25%       0.149537\n",
       "              50%       0.169397\n",
       "              75%       0.200377\n",
       "              max       0.416667\n",
       "        Thur  count    32.000000\n",
       "              mean      0.157525\n",
       "              std       0.030689\n",
       "              min       0.072961\n",
       "              25%       0.139895\n",
       "              50%       0.153143\n",
       "                         ...    \n",
       "Male    Fri   std       0.036228\n",
       "              min       0.103555\n",
       "              25%       0.118408\n",
       "              50%       0.133739\n",
       "              75%       0.153375\n",
       "              max       0.223776\n",
       "        Sat   count    59.000000\n",
       "              mean      0.151577\n",
       "              std       0.046944\n",
       "              min       0.035638\n",
       "              25%       0.123863\n",
       "              50%       0.151832\n",
       "              75%       0.188712\n",
       "              max       0.291990\n",
       "        Sun   count    58.000000\n",
       "              mean      0.162344\n",
       "              std       0.088529\n",
       "              min       0.065660\n",
       "              25%       0.106829\n",
       "              50%       0.157845\n",
       "              75%       0.183570\n",
       "              max       0.710345\n",
       "        Thur  count    30.000000\n",
       "              mean      0.165276\n",
       "              std       0.045866\n",
       "              min       0.078616\n",
       "              25%       0.130821\n",
       "              50%       0.155529\n",
       "              75%       0.195211\n",
       "              max       0.266312\n",
       "Name: tip_frac, dtype: float64"
      ]
     },
     "execution_count": 18,
     "metadata": {},
     "output_type": "execute_result"
    }
   ],
   "source": []
  },
  {
   "cell_type": "code",
   "execution_count": 36,
   "metadata": {
    "collapsed": false
   },
   "outputs": [
    {
     "data": {
      "text/html": [
       "<div>\n",
       "<table border=\"1\" class=\"dataframe\">\n",
       "  <thead>\n",
       "    <tr>\n",
       "      <th></th>\n",
       "      <th colspan=\"7\" halign=\"left\">passengers</th>\n",
       "    </tr>\n",
       "    <tr>\n",
       "      <th></th>\n",
       "      <th>mean</th>\n",
       "      <th>std</th>\n",
       "      <th>min</th>\n",
       "      <th>25%</th>\n",
       "      <th>50%</th>\n",
       "      <th>75%</th>\n",
       "      <th>max</th>\n",
       "    </tr>\n",
       "    <tr>\n",
       "      <th>year</th>\n",
       "      <th></th>\n",
       "      <th></th>\n",
       "      <th></th>\n",
       "      <th></th>\n",
       "      <th></th>\n",
       "      <th></th>\n",
       "      <th></th>\n",
       "    </tr>\n",
       "  </thead>\n",
       "  <tbody>\n",
       "    <tr>\n",
       "      <th>1949</th>\n",
       "      <td>126.666667</td>\n",
       "      <td>13.720147</td>\n",
       "      <td>104.0</td>\n",
       "      <td>118.00</td>\n",
       "      <td>125.0</td>\n",
       "      <td>135.25</td>\n",
       "      <td>148.0</td>\n",
       "    </tr>\n",
       "    <tr>\n",
       "      <th>1950</th>\n",
       "      <td>139.666667</td>\n",
       "      <td>19.070841</td>\n",
       "      <td>114.0</td>\n",
       "      <td>125.75</td>\n",
       "      <td>137.5</td>\n",
       "      <td>151.25</td>\n",
       "      <td>170.0</td>\n",
       "    </tr>\n",
       "    <tr>\n",
       "      <th>1951</th>\n",
       "      <td>170.166667</td>\n",
       "      <td>18.438267</td>\n",
       "      <td>145.0</td>\n",
       "      <td>159.00</td>\n",
       "      <td>169.0</td>\n",
       "      <td>179.50</td>\n",
       "      <td>199.0</td>\n",
       "    </tr>\n",
       "  </tbody>\n",
       "</table>\n",
       "</div>"
      ],
      "text/plain": [
       "      passengers                                                \n",
       "            mean        std    min     25%    50%     75%    max\n",
       "year                                                            \n",
       "1949  126.666667  13.720147  104.0  118.00  125.0  135.25  148.0\n",
       "1950  139.666667  19.070841  114.0  125.75  137.5  151.25  170.0\n",
       "1951  170.166667  18.438267  145.0  159.00  169.0  179.50  199.0"
      ]
     },
     "execution_count": 36,
     "metadata": {},
     "output_type": "execute_result"
    }
   ],
   "source": [
    "# Wyznacz podstawowe statystyki próbkowe \n",
    "# (średnia, odchylenie standardowe, kwartyle) \n",
    "# dla liczby pasażerów (ramka danych flights) \n",
    "# w każdym roku z osobna. \n",
    "# Przedstaw wyniki tak, by zagregowane wartości \n",
    "# przechowywane były w kolumnach, a kolejne lata - w wierszach.\n",
    "\n",
    "flights.groupby(\"year\").describe().unstack().iloc[0:3, 1:8]"
   ]
  },
  {
   "cell_type": "code",
   "execution_count": 38,
   "metadata": {
    "collapsed": false
   },
   "outputs": [
    {
     "data": {
      "text/html": [
       "<div>\n",
       "<table border=\"1\" class=\"dataframe\">\n",
       "  <thead>\n",
       "    <tr style=\"text-align: right;\">\n",
       "      <th></th>\n",
       "      <th>year</th>\n",
       "      <th>month</th>\n",
       "      <th>passengers</th>\n",
       "    </tr>\n",
       "  </thead>\n",
       "  <tbody>\n",
       "    <tr>\n",
       "      <th>0</th>\n",
       "      <td>1949</td>\n",
       "      <td>January</td>\n",
       "      <td>112</td>\n",
       "    </tr>\n",
       "    <tr>\n",
       "      <th>1</th>\n",
       "      <td>1949</td>\n",
       "      <td>February</td>\n",
       "      <td>118</td>\n",
       "    </tr>\n",
       "    <tr>\n",
       "      <th>2</th>\n",
       "      <td>1949</td>\n",
       "      <td>March</td>\n",
       "      <td>132</td>\n",
       "    </tr>\n",
       "    <tr>\n",
       "      <th>3</th>\n",
       "      <td>1949</td>\n",
       "      <td>April</td>\n",
       "      <td>129</td>\n",
       "    </tr>\n",
       "    <tr>\n",
       "      <th>4</th>\n",
       "      <td>1949</td>\n",
       "      <td>May</td>\n",
       "      <td>121</td>\n",
       "    </tr>\n",
       "  </tbody>\n",
       "</table>\n",
       "</div>"
      ],
      "text/plain": [
       "   year     month  passengers\n",
       "0  1949   January         112\n",
       "1  1949  February         118\n",
       "2  1949     March         132\n",
       "3  1949     April         129\n",
       "4  1949       May         121"
      ]
     },
     "execution_count": 38,
     "metadata": {},
     "output_type": "execute_result"
    }
   ],
   "source": [
    "# Niech flights_pivot = flights.pivot(\"month\", \"year\", \"passengers\") \n",
    "# Odwróć powyższe przekształcenie, tzn. przekształć macierz flights_pivot\n",
    "# na ramkę danych tożsamą z flights.\n",
    "\n",
    "flights_pivot = flights.pivot(\"month\", \"year\", \"passengers\")\n",
    "u = flights_pivot.unstack().reset_index()\n",
    "u.columns = [\"year\", \"month\", \"passengers\"]\n",
    "u.head()"
   ]
  },
  {
   "cell_type": "markdown",
   "metadata": {},
   "source": [
    "# Movie Lens"
   ]
  },
  {
   "cell_type": "code",
   "execution_count": null,
   "metadata": {
    "collapsed": true
   },
   "outputs": [],
   "source": [
    "#sed -i 's/::/;/g' file.txt\n",
    "# jeden rekord w movies zamienic z ; na ,"
   ]
  },
  {
   "cell_type": "code",
   "execution_count": 7,
   "metadata": {
    "collapsed": false
   },
   "outputs": [
    {
     "name": "stderr",
     "output_type": "stream",
     "text": [
      "/home/kodolamacz/anaconda3/lib/python3.6/site-packages/ipykernel/__main__.py:1: ParserWarning: Falling back to the 'python' engine because the 'c' engine does not support regex separators (separators > 1 char and different from '\\s+' are interpreted as regex); you can avoid this warning by specifying engine='python'.\n",
      "  if __name__ == '__main__':\n",
      "/home/kodolamacz/anaconda3/lib/python3.6/site-packages/ipykernel/__main__.py:2: ParserWarning: Falling back to the 'python' engine because the 'c' engine does not support regex separators (separators > 1 char and different from '\\s+' are interpreted as regex); you can avoid this warning by specifying engine='python'.\n",
      "  from ipykernel import kernelapp as app\n",
      "/home/kodolamacz/anaconda3/lib/python3.6/site-packages/ipykernel/__main__.py:3: ParserWarning: Falling back to the 'python' engine because the 'c' engine does not support regex separators (separators > 1 char and different from '\\s+' are interpreted as regex); you can avoid this warning by specifying engine='python'.\n",
      "  app.launch_new_instance()\n"
     ]
    }
   ],
   "source": [
    "movies = pd.read_csv(\"movies.dat\", sep=\"::\")#, names=[\"Movie\", \"Genre\"])\n",
    "ratings = pd.read_csv(\"ratings.dat\", sep=\"::\")#, names=[\"UserID\", \"MovieID\", \"Rating\", \"Timestamp\"])\n",
    "users = pd.read_csv(\"users.dat\", sep=\"::\")#, names=[\"UserID\", \"Gender\", \"Age\", \"Occupation\", \"Zip-code\"])"
   ]
  },
  {
   "cell_type": "code",
   "execution_count": 8,
   "metadata": {
    "collapsed": false
   },
   "outputs": [
    {
     "data": {
      "text/html": [
       "<div>\n",
       "<table border=\"1\" class=\"dataframe\">\n",
       "  <thead>\n",
       "    <tr style=\"text-align: right;\">\n",
       "      <th></th>\n",
       "      <th>MovieID</th>\n",
       "      <th>Title</th>\n",
       "      <th>Genres</th>\n",
       "    </tr>\n",
       "  </thead>\n",
       "  <tbody>\n",
       "    <tr>\n",
       "      <th>0</th>\n",
       "      <td>1</td>\n",
       "      <td>Toy Story (1995)</td>\n",
       "      <td>Animation|Children's|Comedy</td>\n",
       "    </tr>\n",
       "    <tr>\n",
       "      <th>1</th>\n",
       "      <td>2</td>\n",
       "      <td>Jumanji (1995)</td>\n",
       "      <td>Adventure|Children's|Fantasy</td>\n",
       "    </tr>\n",
       "    <tr>\n",
       "      <th>2</th>\n",
       "      <td>3</td>\n",
       "      <td>Grumpier Old Men (1995)</td>\n",
       "      <td>Comedy|Romance</td>\n",
       "    </tr>\n",
       "    <tr>\n",
       "      <th>3</th>\n",
       "      <td>4</td>\n",
       "      <td>Waiting to Exhale (1995)</td>\n",
       "      <td>Comedy|Drama</td>\n",
       "    </tr>\n",
       "    <tr>\n",
       "      <th>4</th>\n",
       "      <td>5</td>\n",
       "      <td>Father of the Bride Part II (1995)</td>\n",
       "      <td>Comedy</td>\n",
       "    </tr>\n",
       "  </tbody>\n",
       "</table>\n",
       "</div>"
      ],
      "text/plain": [
       "   MovieID                               Title                        Genres\n",
       "0        1                    Toy Story (1995)   Animation|Children's|Comedy\n",
       "1        2                      Jumanji (1995)  Adventure|Children's|Fantasy\n",
       "2        3             Grumpier Old Men (1995)                Comedy|Romance\n",
       "3        4            Waiting to Exhale (1995)                  Comedy|Drama\n",
       "4        5  Father of the Bride Part II (1995)                        Comedy"
      ]
     },
     "execution_count": 8,
     "metadata": {},
     "output_type": "execute_result"
    }
   ],
   "source": [
    "movies.head()"
   ]
  },
  {
   "cell_type": "code",
   "execution_count": 9,
   "metadata": {
    "collapsed": false
   },
   "outputs": [
    {
     "data": {
      "text/html": [
       "<div>\n",
       "<table border=\"1\" class=\"dataframe\">\n",
       "  <thead>\n",
       "    <tr style=\"text-align: right;\">\n",
       "      <th></th>\n",
       "      <th>UserID</th>\n",
       "      <th>MovieID</th>\n",
       "      <th>Rating</th>\n",
       "      <th>Timestamp</th>\n",
       "    </tr>\n",
       "  </thead>\n",
       "  <tbody>\n",
       "    <tr>\n",
       "      <th>0</th>\n",
       "      <td>1</td>\n",
       "      <td>1193</td>\n",
       "      <td>5</td>\n",
       "      <td>978300760</td>\n",
       "    </tr>\n",
       "    <tr>\n",
       "      <th>1</th>\n",
       "      <td>1</td>\n",
       "      <td>661</td>\n",
       "      <td>3</td>\n",
       "      <td>978302109</td>\n",
       "    </tr>\n",
       "    <tr>\n",
       "      <th>2</th>\n",
       "      <td>1</td>\n",
       "      <td>914</td>\n",
       "      <td>3</td>\n",
       "      <td>978301968</td>\n",
       "    </tr>\n",
       "    <tr>\n",
       "      <th>3</th>\n",
       "      <td>1</td>\n",
       "      <td>3408</td>\n",
       "      <td>4</td>\n",
       "      <td>978300275</td>\n",
       "    </tr>\n",
       "    <tr>\n",
       "      <th>4</th>\n",
       "      <td>1</td>\n",
       "      <td>2355</td>\n",
       "      <td>5</td>\n",
       "      <td>978824291</td>\n",
       "    </tr>\n",
       "  </tbody>\n",
       "</table>\n",
       "</div>"
      ],
      "text/plain": [
       "   UserID  MovieID  Rating  Timestamp\n",
       "0       1     1193       5  978300760\n",
       "1       1      661       3  978302109\n",
       "2       1      914       3  978301968\n",
       "3       1     3408       4  978300275\n",
       "4       1     2355       5  978824291"
      ]
     },
     "execution_count": 9,
     "metadata": {},
     "output_type": "execute_result"
    }
   ],
   "source": [
    "ratings.head()"
   ]
  },
  {
   "cell_type": "code",
   "execution_count": 10,
   "metadata": {
    "collapsed": false
   },
   "outputs": [
    {
     "data": {
      "text/html": [
       "<div>\n",
       "<table border=\"1\" class=\"dataframe\">\n",
       "  <thead>\n",
       "    <tr style=\"text-align: right;\">\n",
       "      <th></th>\n",
       "      <th>UserID</th>\n",
       "      <th>Gender</th>\n",
       "      <th>Age</th>\n",
       "      <th>Occupation</th>\n",
       "      <th>Zip-code</th>\n",
       "    </tr>\n",
       "  </thead>\n",
       "  <tbody>\n",
       "    <tr>\n",
       "      <th>0</th>\n",
       "      <td>1</td>\n",
       "      <td>F</td>\n",
       "      <td>1</td>\n",
       "      <td>10</td>\n",
       "      <td>48067</td>\n",
       "    </tr>\n",
       "    <tr>\n",
       "      <th>1</th>\n",
       "      <td>2</td>\n",
       "      <td>M</td>\n",
       "      <td>56</td>\n",
       "      <td>16</td>\n",
       "      <td>70072</td>\n",
       "    </tr>\n",
       "    <tr>\n",
       "      <th>2</th>\n",
       "      <td>3</td>\n",
       "      <td>M</td>\n",
       "      <td>25</td>\n",
       "      <td>15</td>\n",
       "      <td>55117</td>\n",
       "    </tr>\n",
       "    <tr>\n",
       "      <th>3</th>\n",
       "      <td>4</td>\n",
       "      <td>M</td>\n",
       "      <td>45</td>\n",
       "      <td>7</td>\n",
       "      <td>02460</td>\n",
       "    </tr>\n",
       "    <tr>\n",
       "      <th>4</th>\n",
       "      <td>5</td>\n",
       "      <td>M</td>\n",
       "      <td>25</td>\n",
       "      <td>20</td>\n",
       "      <td>55455</td>\n",
       "    </tr>\n",
       "  </tbody>\n",
       "</table>\n",
       "</div>"
      ],
      "text/plain": [
       "   UserID Gender  Age  Occupation Zip-code\n",
       "0       1      F    1          10    48067\n",
       "1       2      M   56          16    70072\n",
       "2       3      M   25          15    55117\n",
       "3       4      M   45           7    02460\n",
       "4       5      M   25          20    55455"
      ]
     },
     "execution_count": 10,
     "metadata": {},
     "output_type": "execute_result"
    }
   ],
   "source": [
    "users.head()"
   ]
  },
  {
   "cell_type": "code",
   "execution_count": 13,
   "metadata": {
    "collapsed": false
   },
   "outputs": [],
   "source": [
    "#zadanie 0: rok\n",
    "movies[\"Year\"] = movies[\"Title\"].str.slice(-5,-1)"
   ]
  },
  {
   "cell_type": "code",
   "execution_count": 14,
   "metadata": {
    "collapsed": false
   },
   "outputs": [
    {
     "data": {
      "text/html": [
       "<div>\n",
       "<table border=\"1\" class=\"dataframe\">\n",
       "  <thead>\n",
       "    <tr style=\"text-align: right;\">\n",
       "      <th></th>\n",
       "      <th>MovieID</th>\n",
       "      <th>Title</th>\n",
       "      <th>Genres</th>\n",
       "      <th>Year</th>\n",
       "    </tr>\n",
       "  </thead>\n",
       "  <tbody>\n",
       "    <tr>\n",
       "      <th>0</th>\n",
       "      <td>1</td>\n",
       "      <td>Toy Story (1995)</td>\n",
       "      <td>Animation|Children's|Comedy</td>\n",
       "      <td>1995</td>\n",
       "    </tr>\n",
       "    <tr>\n",
       "      <th>1</th>\n",
       "      <td>2</td>\n",
       "      <td>Jumanji (1995)</td>\n",
       "      <td>Adventure|Children's|Fantasy</td>\n",
       "      <td>1995</td>\n",
       "    </tr>\n",
       "    <tr>\n",
       "      <th>2</th>\n",
       "      <td>3</td>\n",
       "      <td>Grumpier Old Men (1995)</td>\n",
       "      <td>Comedy|Romance</td>\n",
       "      <td>1995</td>\n",
       "    </tr>\n",
       "    <tr>\n",
       "      <th>3</th>\n",
       "      <td>4</td>\n",
       "      <td>Waiting to Exhale (1995)</td>\n",
       "      <td>Comedy|Drama</td>\n",
       "      <td>1995</td>\n",
       "    </tr>\n",
       "    <tr>\n",
       "      <th>4</th>\n",
       "      <td>5</td>\n",
       "      <td>Father of the Bride Part II (1995)</td>\n",
       "      <td>Comedy</td>\n",
       "      <td>1995</td>\n",
       "    </tr>\n",
       "  </tbody>\n",
       "</table>\n",
       "</div>"
      ],
      "text/plain": [
       "   MovieID                               Title                        Genres  \\\n",
       "0        1                    Toy Story (1995)   Animation|Children's|Comedy   \n",
       "1        2                      Jumanji (1995)  Adventure|Children's|Fantasy   \n",
       "2        3             Grumpier Old Men (1995)                Comedy|Romance   \n",
       "3        4            Waiting to Exhale (1995)                  Comedy|Drama   \n",
       "4        5  Father of the Bride Part II (1995)                        Comedy   \n",
       "\n",
       "   Year  \n",
       "0  1995  \n",
       "1  1995  \n",
       "2  1995  \n",
       "3  1995  \n",
       "4  1995  "
      ]
     },
     "execution_count": 14,
     "metadata": {},
     "output_type": "execute_result"
    }
   ],
   "source": [
    "movies.head()"
   ]
  },
  {
   "cell_type": "code",
   "execution_count": 47,
   "metadata": {
    "collapsed": true
   },
   "outputs": [
    {
     "name": "stdout",
     "output_type": "stream",
     "text": [
      "<class 'pandas.core.frame.DataFrame'>\n",
      "Int64Index: 3883 entries, 1 to 3952\n",
      "Data columns (total 3 columns):\n",
      "Movie    3883 non-null object\n",
      "Genre    3883 non-null object\n",
      "Year     3883 non-null object\n",
      "dtypes: object(3)\n",
      "memory usage: 121.3+ KB\n"
     ]
    }
   ],
   "source": [
    "movies.info()"
   ]
  },
  {
   "cell_type": "code",
   "execution_count": 48,
   "metadata": {
    "collapsed": true
   },
   "outputs": [
    {
     "data": {
      "text/plain": [
       "inf"
      ]
     },
     "execution_count": 48,
     "metadata": {},
     "output_type": "execute_result"
    }
   ],
   "source": [
    "movies.Year.mean()"
   ]
  },
  {
   "cell_type": "code",
   "execution_count": 15,
   "metadata": {
    "collapsed": false
   },
   "outputs": [],
   "source": [
    "movies[\"Year\"] = pd.to_numeric(movies[\"Year\"])"
   ]
  },
  {
   "cell_type": "code",
   "execution_count": 50,
   "metadata": {
    "collapsed": true
   },
   "outputs": [
    {
     "name": "stdout",
     "output_type": "stream",
     "text": [
      "<class 'pandas.core.frame.DataFrame'>\n",
      "Int64Index: 3883 entries, 1 to 3952\n",
      "Data columns (total 3 columns):\n",
      "Movie    3883 non-null object\n",
      "Genre    3883 non-null object\n",
      "Year     3883 non-null int64\n",
      "dtypes: int64(1), object(2)\n",
      "memory usage: 121.3+ KB\n"
     ]
    }
   ],
   "source": [
    "movies.info()"
   ]
  },
  {
   "cell_type": "code",
   "execution_count": 51,
   "metadata": {
    "collapsed": true
   },
   "outputs": [
    {
     "data": {
      "text/plain": [
       "1986.0669585372134"
      ]
     },
     "execution_count": 51,
     "metadata": {},
     "output_type": "execute_result"
    }
   ],
   "source": [
    "movies.Year.mean()"
   ]
  },
  {
   "cell_type": "code",
   "execution_count": 38,
   "metadata": {
    "collapsed": true
   },
   "outputs": [
    {
     "data": {
      "text/plain": [
       "(3883, 3)"
      ]
     },
     "execution_count": 38,
     "metadata": {},
     "output_type": "execute_result"
    }
   ],
   "source": [
    "#ile jest wszystkich filmów\n",
    "movies.shape"
   ]
  },
  {
   "cell_type": "code",
   "execution_count": 16,
   "metadata": {
    "collapsed": false
   },
   "outputs": [
    {
     "data": {
      "text/plain": [
       "3883"
      ]
     },
     "execution_count": 16,
     "metadata": {},
     "output_type": "execute_result"
    }
   ],
   "source": [
    "movies.shape[0]"
   ]
  },
  {
   "cell_type": "code",
   "execution_count": 17,
   "metadata": {
    "collapsed": false
   },
   "outputs": [],
   "source": [
    "#ile filmów powstało w poszczególnych latach\n",
    "zliczenia = movies.groupby(\"Year\")[\"Title\"].count()"
   ]
  },
  {
   "cell_type": "code",
   "execution_count": 18,
   "metadata": {
    "collapsed": false
   },
   "outputs": [
    {
     "data": {
      "text/plain": [
       "Year\n",
       "1995    342\n",
       "1998    337\n",
       "1997    315\n",
       "1999    283\n",
       "1994    257\n",
       "Name: Title, dtype: int64"
      ]
     },
     "execution_count": 18,
     "metadata": {},
     "output_type": "execute_result"
    }
   ],
   "source": [
    "zliczenia.sort_values(ascending=False)[1:6]"
   ]
  },
  {
   "cell_type": "code",
   "execution_count": 19,
   "metadata": {
    "collapsed": false,
    "scrolled": true
   },
   "outputs": [
    {
     "ename": "ValueError",
     "evalue": "Grouper for 'Gender' not 1-dimensional",
     "output_type": "error",
     "traceback": [
      "\u001b[0;31m--------------------------------------------------------------\u001b[0m",
      "\u001b[0;31mValueError\u001b[0m                   Traceback (most recent call last)",
      "\u001b[0;32m<ipython-input-19-7739716f3664>\u001b[0m in \u001b[0;36m<module>\u001b[0;34m()\u001b[0m\n\u001b[0;32m----> 1\u001b[0;31m \u001b[0mpd\u001b[0m\u001b[0;34m.\u001b[0m\u001b[0mpivot_table\u001b[0m\u001b[0;34m(\u001b[0m\u001b[0musers\u001b[0m\u001b[0;34m,\u001b[0m \u001b[0mvalues\u001b[0m\u001b[0;34m=\u001b[0m\u001b[0;34m[\u001b[0m\u001b[0;34m\"Gender\"\u001b[0m\u001b[0;34m]\u001b[0m\u001b[0;34m,\u001b[0m \u001b[0mindex\u001b[0m\u001b[0;34m=\u001b[0m\u001b[0;34m[\u001b[0m\u001b[0;34m\"Gender\"\u001b[0m\u001b[0;34m,\u001b[0m \u001b[0;34m\"sex\"\u001b[0m\u001b[0;34m]\u001b[0m\u001b[0;34m,\u001b[0m \u001b[0maggfunc\u001b[0m\u001b[0;34m=\u001b[0m\u001b[0;34m\"count\"\u001b[0m\u001b[0;34m)\u001b[0m\u001b[0;34m\u001b[0m\u001b[0m\n\u001b[0m",
      "\u001b[0;32m/home/kodolamacz/anaconda3/lib/python3.6/site-packages/pandas/tools/pivot.py\u001b[0m in \u001b[0;36mpivot_table\u001b[0;34m(data, values, index, columns, aggfunc, fill_value, margins, dropna, margins_name)\u001b[0m\n\u001b[1;32m    124\u001b[0m         \u001b[0mvalues\u001b[0m \u001b[0;34m=\u001b[0m \u001b[0mlist\u001b[0m\u001b[0;34m(\u001b[0m\u001b[0mvalues\u001b[0m\u001b[0;34m)\u001b[0m\u001b[0;34m\u001b[0m\u001b[0m\n\u001b[1;32m    125\u001b[0m \u001b[0;34m\u001b[0m\u001b[0m\n\u001b[0;32m--> 126\u001b[0;31m     \u001b[0mgrouped\u001b[0m \u001b[0;34m=\u001b[0m \u001b[0mdata\u001b[0m\u001b[0;34m.\u001b[0m\u001b[0mgroupby\u001b[0m\u001b[0;34m(\u001b[0m\u001b[0mkeys\u001b[0m\u001b[0;34m)\u001b[0m\u001b[0;34m\u001b[0m\u001b[0m\n\u001b[0m\u001b[1;32m    127\u001b[0m     \u001b[0magged\u001b[0m \u001b[0;34m=\u001b[0m \u001b[0mgrouped\u001b[0m\u001b[0;34m.\u001b[0m\u001b[0magg\u001b[0m\u001b[0;34m(\u001b[0m\u001b[0maggfunc\u001b[0m\u001b[0;34m)\u001b[0m\u001b[0;34m\u001b[0m\u001b[0m\n\u001b[1;32m    128\u001b[0m \u001b[0;34m\u001b[0m\u001b[0m\n",
      "\u001b[0;32m/home/kodolamacz/anaconda3/lib/python3.6/site-packages/pandas/core/generic.py\u001b[0m in \u001b[0;36mgroupby\u001b[0;34m(self, by, axis, level, as_index, sort, group_keys, squeeze, **kwargs)\u001b[0m\n\u001b[1;32m   3989\u001b[0m         return groupby(self, by=by, axis=axis, level=level, as_index=as_index,\n\u001b[1;32m   3990\u001b[0m                        \u001b[0msort\u001b[0m\u001b[0;34m=\u001b[0m\u001b[0msort\u001b[0m\u001b[0;34m,\u001b[0m \u001b[0mgroup_keys\u001b[0m\u001b[0;34m=\u001b[0m\u001b[0mgroup_keys\u001b[0m\u001b[0;34m,\u001b[0m \u001b[0msqueeze\u001b[0m\u001b[0;34m=\u001b[0m\u001b[0msqueeze\u001b[0m\u001b[0;34m,\u001b[0m\u001b[0;34m\u001b[0m\u001b[0m\n\u001b[0;32m-> 3991\u001b[0;31m                        **kwargs)\n\u001b[0m\u001b[1;32m   3992\u001b[0m \u001b[0;34m\u001b[0m\u001b[0m\n\u001b[1;32m   3993\u001b[0m     \u001b[0;32mdef\u001b[0m \u001b[0masfreq\u001b[0m\u001b[0;34m(\u001b[0m\u001b[0mself\u001b[0m\u001b[0;34m,\u001b[0m \u001b[0mfreq\u001b[0m\u001b[0;34m,\u001b[0m \u001b[0mmethod\u001b[0m\u001b[0;34m=\u001b[0m\u001b[0;32mNone\u001b[0m\u001b[0;34m,\u001b[0m \u001b[0mhow\u001b[0m\u001b[0;34m=\u001b[0m\u001b[0;32mNone\u001b[0m\u001b[0;34m,\u001b[0m \u001b[0mnormalize\u001b[0m\u001b[0;34m=\u001b[0m\u001b[0;32mFalse\u001b[0m\u001b[0;34m)\u001b[0m\u001b[0;34m:\u001b[0m\u001b[0;34m\u001b[0m\u001b[0m\n",
      "\u001b[0;32m/home/kodolamacz/anaconda3/lib/python3.6/site-packages/pandas/core/groupby.py\u001b[0m in \u001b[0;36mgroupby\u001b[0;34m(obj, by, **kwds)\u001b[0m\n\u001b[1;32m   1509\u001b[0m         \u001b[0;32mraise\u001b[0m \u001b[0mTypeError\u001b[0m\u001b[0;34m(\u001b[0m\u001b[0;34m'invalid type: %s'\u001b[0m \u001b[0;34m%\u001b[0m \u001b[0mtype\u001b[0m\u001b[0;34m(\u001b[0m\u001b[0mobj\u001b[0m\u001b[0;34m)\u001b[0m\u001b[0;34m)\u001b[0m\u001b[0;34m\u001b[0m\u001b[0m\n\u001b[1;32m   1510\u001b[0m \u001b[0;34m\u001b[0m\u001b[0m\n\u001b[0;32m-> 1511\u001b[0;31m     \u001b[0;32mreturn\u001b[0m \u001b[0mklass\u001b[0m\u001b[0;34m(\u001b[0m\u001b[0mobj\u001b[0m\u001b[0;34m,\u001b[0m \u001b[0mby\u001b[0m\u001b[0;34m,\u001b[0m \u001b[0;34m**\u001b[0m\u001b[0mkwds\u001b[0m\u001b[0;34m)\u001b[0m\u001b[0;34m\u001b[0m\u001b[0m\n\u001b[0m\u001b[1;32m   1512\u001b[0m \u001b[0;34m\u001b[0m\u001b[0m\n\u001b[1;32m   1513\u001b[0m \u001b[0;34m\u001b[0m\u001b[0m\n",
      "\u001b[0;32m/home/kodolamacz/anaconda3/lib/python3.6/site-packages/pandas/core/groupby.py\u001b[0m in \u001b[0;36m__init__\u001b[0;34m(self, obj, keys, axis, level, grouper, exclusions, selection, as_index, sort, group_keys, squeeze, **kwargs)\u001b[0m\n\u001b[1;32m    368\u001b[0m                                                     \u001b[0mlevel\u001b[0m\u001b[0;34m=\u001b[0m\u001b[0mlevel\u001b[0m\u001b[0;34m,\u001b[0m\u001b[0;34m\u001b[0m\u001b[0m\n\u001b[1;32m    369\u001b[0m                                                     \u001b[0msort\u001b[0m\u001b[0;34m=\u001b[0m\u001b[0msort\u001b[0m\u001b[0;34m,\u001b[0m\u001b[0;34m\u001b[0m\u001b[0m\n\u001b[0;32m--> 370\u001b[0;31m                                                     mutated=self.mutated)\n\u001b[0m\u001b[1;32m    371\u001b[0m \u001b[0;34m\u001b[0m\u001b[0m\n\u001b[1;32m    372\u001b[0m         \u001b[0mself\u001b[0m\u001b[0;34m.\u001b[0m\u001b[0mobj\u001b[0m \u001b[0;34m=\u001b[0m \u001b[0mobj\u001b[0m\u001b[0;34m\u001b[0m\u001b[0m\n",
      "\u001b[0;32m/home/kodolamacz/anaconda3/lib/python3.6/site-packages/pandas/core/groupby.py\u001b[0m in \u001b[0;36m_get_grouper\u001b[0;34m(obj, key, axis, level, sort, mutated)\u001b[0m\n\u001b[1;32m   2482\u001b[0m                         \u001b[0msort\u001b[0m\u001b[0;34m=\u001b[0m\u001b[0msort\u001b[0m\u001b[0;34m,\u001b[0m\u001b[0;34m\u001b[0m\u001b[0m\n\u001b[1;32m   2483\u001b[0m                         in_axis=in_axis) \\\n\u001b[0;32m-> 2484\u001b[0;31m             \u001b[0;32mif\u001b[0m \u001b[0;32mnot\u001b[0m \u001b[0misinstance\u001b[0m\u001b[0;34m(\u001b[0m\u001b[0mgpr\u001b[0m\u001b[0;34m,\u001b[0m \u001b[0mGrouping\u001b[0m\u001b[0;34m)\u001b[0m \u001b[0;32melse\u001b[0m \u001b[0mgpr\u001b[0m\u001b[0;34m\u001b[0m\u001b[0m\n\u001b[0m\u001b[1;32m   2485\u001b[0m \u001b[0;34m\u001b[0m\u001b[0m\n\u001b[1;32m   2486\u001b[0m         \u001b[0mgroupings\u001b[0m\u001b[0;34m.\u001b[0m\u001b[0mappend\u001b[0m\u001b[0;34m(\u001b[0m\u001b[0mping\u001b[0m\u001b[0;34m)\u001b[0m\u001b[0;34m\u001b[0m\u001b[0m\n",
      "\u001b[0;32m/home/kodolamacz/anaconda3/lib/python3.6/site-packages/pandas/core/groupby.py\u001b[0m in \u001b[0;36m__init__\u001b[0;34m(self, index, grouper, obj, name, level, sort, in_axis)\u001b[0m\n\u001b[1;32m   2275\u001b[0m                 \u001b[0;32mif\u001b[0m \u001b[0mgetattr\u001b[0m\u001b[0;34m(\u001b[0m\u001b[0mself\u001b[0m\u001b[0;34m.\u001b[0m\u001b[0mgrouper\u001b[0m\u001b[0;34m,\u001b[0m \u001b[0;34m'ndim'\u001b[0m\u001b[0;34m,\u001b[0m \u001b[0;36m1\u001b[0m\u001b[0;34m)\u001b[0m \u001b[0;34m!=\u001b[0m \u001b[0;36m1\u001b[0m\u001b[0;34m:\u001b[0m\u001b[0;34m\u001b[0m\u001b[0m\n\u001b[1;32m   2276\u001b[0m                     \u001b[0mt\u001b[0m \u001b[0;34m=\u001b[0m \u001b[0mself\u001b[0m\u001b[0;34m.\u001b[0m\u001b[0mname\u001b[0m \u001b[0;32mor\u001b[0m \u001b[0mstr\u001b[0m\u001b[0;34m(\u001b[0m\u001b[0mtype\u001b[0m\u001b[0;34m(\u001b[0m\u001b[0mself\u001b[0m\u001b[0;34m.\u001b[0m\u001b[0mgrouper\u001b[0m\u001b[0;34m)\u001b[0m\u001b[0;34m)\u001b[0m\u001b[0;34m\u001b[0m\u001b[0m\n\u001b[0;32m-> 2277\u001b[0;31m                     \u001b[0;32mraise\u001b[0m \u001b[0mValueError\u001b[0m\u001b[0;34m(\u001b[0m\u001b[0;34m\"Grouper for '%s' not 1-dimensional\"\u001b[0m \u001b[0;34m%\u001b[0m \u001b[0mt\u001b[0m\u001b[0;34m)\u001b[0m\u001b[0;34m\u001b[0m\u001b[0m\n\u001b[0m\u001b[1;32m   2278\u001b[0m                 \u001b[0mself\u001b[0m\u001b[0;34m.\u001b[0m\u001b[0mgrouper\u001b[0m \u001b[0;34m=\u001b[0m \u001b[0mself\u001b[0m\u001b[0;34m.\u001b[0m\u001b[0mindex\u001b[0m\u001b[0;34m.\u001b[0m\u001b[0mmap\u001b[0m\u001b[0;34m(\u001b[0m\u001b[0mself\u001b[0m\u001b[0;34m.\u001b[0m\u001b[0mgrouper\u001b[0m\u001b[0;34m)\u001b[0m\u001b[0;34m\u001b[0m\u001b[0m\n\u001b[1;32m   2279\u001b[0m                 if not (hasattr(self.grouper, \"__len__\") and\n",
      "\u001b[0;31mValueError\u001b[0m: Grouper for 'Gender' not 1-dimensional"
     ]
    }
   ],
   "source": [
    "#pd.pivot_table(users, values=[\"Gender\"], index=[\"Gender\", \"sex\"], aggfunc=\"count\")"
   ]
  },
  {
   "cell_type": "code",
   "execution_count": 20,
   "metadata": {
    "collapsed": false
   },
   "outputs": [
    {
     "data": {
      "text/plain": [
       "Gender\n",
       "F    1709\n",
       "M    4331\n",
       "Name: UserID, dtype: int64"
      ]
     },
     "execution_count": 20,
     "metadata": {},
     "output_type": "execute_result"
    }
   ],
   "source": [
    "users.groupby(\"Gender\")[\"UserID\"].count()"
   ]
  },
  {
   "cell_type": "code",
   "execution_count": 21,
   "metadata": {
    "collapsed": false
   },
   "outputs": [
    {
     "data": {
      "text/plain": [
       "Age\n",
       "1      222\n",
       "18    1103\n",
       "25    2096\n",
       "35    1193\n",
       "45     550\n",
       "50     496\n",
       "56     380\n",
       "Name: UserID, dtype: int64"
      ]
     },
     "execution_count": 21,
     "metadata": {},
     "output_type": "execute_result"
    }
   ],
   "source": [
    "users.groupby(\"Age\")[\"UserID\"].count()"
   ]
  },
  {
   "cell_type": "code",
   "execution_count": 5,
   "metadata": {
    "collapsed": true
   },
   "outputs": [
    {
     "data": {
      "text/plain": [
       "Age_agg1\n",
       "(0.945, 19.333]     1325\n",
       "(19.333, 37.667]    3289\n",
       "(37.667, 56]        1426\n",
       "Name: UserID, dtype: int64"
      ]
     },
     "execution_count": 5,
     "metadata": {},
     "output_type": "execute_result"
    }
   ],
   "source": [
    "users[\"Age_agg1\"] = pd.cut(users[\"Age\"],3)\n",
    "users.groupby(\"Age_agg1\")[\"UserID\"].count()"
   ]
  },
  {
   "cell_type": "code",
   "execution_count": 6,
   "metadata": {
    "collapsed": true
   },
   "outputs": [
    {
     "data": {
      "text/plain": [
       "Age_agg2\n",
       "(0, 12]      222\n",
       "(12, 35]    4392\n",
       "(35, 51]    1046\n",
       "(51, 57]     380\n",
       "Name: UserID, dtype: int64"
      ]
     },
     "execution_count": 6,
     "metadata": {},
     "output_type": "execute_result"
    }
   ],
   "source": [
    "users[\"Age_agg2\"] = pd.cut(users[\"Age\"], [0,12,35,51,57])\n",
    "users.groupby(\"Age_agg2\")[\"UserID\"].count()"
   ]
  },
  {
   "cell_type": "code",
   "execution_count": 8,
   "metadata": {
    "collapsed": true
   },
   "outputs": [
    {
     "data": {
      "text/html": [
       "<div>\n",
       "<table border=\"1\" class=\"dataframe\">\n",
       "  <thead>\n",
       "    <tr style=\"text-align: right;\">\n",
       "      <th></th>\n",
       "      <th>UserID</th>\n",
       "      <th>Gender</th>\n",
       "      <th>Age</th>\n",
       "      <th>Occupation</th>\n",
       "      <th>Zip-code</th>\n",
       "    </tr>\n",
       "  </thead>\n",
       "  <tbody>\n",
       "    <tr>\n",
       "      <th>0</th>\n",
       "      <td>1</td>\n",
       "      <td>F</td>\n",
       "      <td>1</td>\n",
       "      <td>10</td>\n",
       "      <td>48067</td>\n",
       "    </tr>\n",
       "    <tr>\n",
       "      <th>1</th>\n",
       "      <td>2</td>\n",
       "      <td>M</td>\n",
       "      <td>56</td>\n",
       "      <td>16</td>\n",
       "      <td>70072</td>\n",
       "    </tr>\n",
       "    <tr>\n",
       "      <th>2</th>\n",
       "      <td>3</td>\n",
       "      <td>M</td>\n",
       "      <td>25</td>\n",
       "      <td>15</td>\n",
       "      <td>55117</td>\n",
       "    </tr>\n",
       "    <tr>\n",
       "      <th>3</th>\n",
       "      <td>4</td>\n",
       "      <td>M</td>\n",
       "      <td>45</td>\n",
       "      <td>7</td>\n",
       "      <td>02460</td>\n",
       "    </tr>\n",
       "    <tr>\n",
       "      <th>4</th>\n",
       "      <td>5</td>\n",
       "      <td>M</td>\n",
       "      <td>25</td>\n",
       "      <td>20</td>\n",
       "      <td>55455</td>\n",
       "    </tr>\n",
       "  </tbody>\n",
       "</table>\n",
       "</div>"
      ],
      "text/plain": [
       "   UserID Gender  Age  Occupation Zip-code\n",
       "0       1      F    1          10    48067\n",
       "1       2      M   56          16    70072\n",
       "2       3      M   25          15    55117\n",
       "3       4      M   45           7    02460\n",
       "4       5      M   25          20    55455"
      ]
     },
     "execution_count": 8,
     "metadata": {},
     "output_type": "execute_result"
    }
   ],
   "source": [
    "users = users.drop(\"Age_agg2\", axis=1)\n",
    "users = users.drop(\"Age_agg1\", axis=1)\n",
    "users.head()"
   ]
  },
  {
   "cell_type": "code",
   "execution_count": 10,
   "metadata": {
    "collapsed": true
   },
   "outputs": [],
   "source": [
    "#movies[\"movieId\"] = movies.index"
   ]
  },
  {
   "cell_type": "code",
   "execution_count": null,
   "metadata": {
    "collapsed": true
   },
   "outputs": [],
   "source": [
    "\n",
    "#najczestszy gatunek filmowy\n",
    "\n",
    "movies.head()\n",
    "gatunki = np.array(movies[\"Genre\"].str.split(\"|\").tolist())\n",
    "gatunki_rozwiniete = [item for sublist in gatunki for item in sublist]\n",
    "gatunkiKolumna=pd.Series(gatunki_rozwiniete)\n",
    "\n",
    "gatunkiKolumna.value_counts()\n",
    "\n",
    "movies.head()\n",
    "\n",
    "movies.head()\n",
    "ratings.head()\n",
    "\n",
    "#bez odrzucania ponizej 100 glosow\n",
    "pd.merge(movies, ratings,left_on=\"movieId\", right_on=\"MovieID\").groupby(\"Movie\")[\"Rating\"].mean().sort_values()\n",
    "\n",
    "#z odrzucaniem\n",
    "\n",
    "pd.merge(movies, ratings,left_on=\"movieId\", right_on=\"MovieID\").groupby(\"Movie\")[\"Rating\"].agg([\"mean\", \"count\"]).head()\n",
    "\n",
    "polaczone = pd.merge(movies, ratings,left_on=\"movieId\", right_on=\"MovieID\").groupby(\"Movie\")[\"Rating\"].agg([\"mean\", \"count\"])\n",
    "polaczone.head()\n",
    "polaczone.columns = [\"Mean\", \"Count\"]\n",
    "polaczone.Count\n",
    "polaczone[\"count\"] > 100\n",
    "polaczone = polaczone.loc[polaczone[\"Count\"] > 100]\n",
    "polaczone.sort_values(by=\"Mean\")\n",
    "\n"
   ]
  },
  {
   "cell_type": "code",
   "execution_count": 23,
   "metadata": {
    "collapsed": false
   },
   "outputs": [
    {
     "data": {
      "text/html": [
       "<div>\n",
       "<table border=\"1\" class=\"dataframe\">\n",
       "  <thead>\n",
       "    <tr style=\"text-align: right;\">\n",
       "      <th></th>\n",
       "      <th>MovieID</th>\n",
       "      <th>Title</th>\n",
       "      <th>Genres</th>\n",
       "      <th>Year</th>\n",
       "    </tr>\n",
       "  </thead>\n",
       "  <tbody>\n",
       "    <tr>\n",
       "      <th>0</th>\n",
       "      <td>1</td>\n",
       "      <td>Toy Story (1995)</td>\n",
       "      <td>Animation|Children's|Comedy</td>\n",
       "      <td>1995</td>\n",
       "    </tr>\n",
       "    <tr>\n",
       "      <th>1</th>\n",
       "      <td>2</td>\n",
       "      <td>Jumanji (1995)</td>\n",
       "      <td>Adventure|Children's|Fantasy</td>\n",
       "      <td>1995</td>\n",
       "    </tr>\n",
       "    <tr>\n",
       "      <th>2</th>\n",
       "      <td>3</td>\n",
       "      <td>Grumpier Old Men (1995)</td>\n",
       "      <td>Comedy|Romance</td>\n",
       "      <td>1995</td>\n",
       "    </tr>\n",
       "    <tr>\n",
       "      <th>3</th>\n",
       "      <td>4</td>\n",
       "      <td>Waiting to Exhale (1995)</td>\n",
       "      <td>Comedy|Drama</td>\n",
       "      <td>1995</td>\n",
       "    </tr>\n",
       "    <tr>\n",
       "      <th>4</th>\n",
       "      <td>5</td>\n",
       "      <td>Father of the Bride Part II (1995)</td>\n",
       "      <td>Comedy</td>\n",
       "      <td>1995</td>\n",
       "    </tr>\n",
       "  </tbody>\n",
       "</table>\n",
       "</div>"
      ],
      "text/plain": [
       "   MovieID                               Title                        Genres  \\\n",
       "0        1                    Toy Story (1995)   Animation|Children's|Comedy   \n",
       "1        2                      Jumanji (1995)  Adventure|Children's|Fantasy   \n",
       "2        3             Grumpier Old Men (1995)                Comedy|Romance   \n",
       "3        4            Waiting to Exhale (1995)                  Comedy|Drama   \n",
       "4        5  Father of the Bride Part II (1995)                        Comedy   \n",
       "\n",
       "   Year  \n",
       "0  1995  \n",
       "1  1995  \n",
       "2  1995  \n",
       "3  1995  \n",
       "4  1995  "
      ]
     },
     "execution_count": 23,
     "metadata": {},
     "output_type": "execute_result"
    }
   ],
   "source": [
    "movies.head()"
   ]
  },
  {
   "cell_type": "code",
   "execution_count": 24,
   "metadata": {
    "collapsed": false
   },
   "outputs": [
    {
     "data": {
      "text/html": [
       "<div>\n",
       "<table border=\"1\" class=\"dataframe\">\n",
       "  <thead>\n",
       "    <tr style=\"text-align: right;\">\n",
       "      <th></th>\n",
       "      <th>UserID</th>\n",
       "      <th>MovieID</th>\n",
       "      <th>Rating</th>\n",
       "      <th>Timestamp</th>\n",
       "    </tr>\n",
       "  </thead>\n",
       "  <tbody>\n",
       "    <tr>\n",
       "      <th>0</th>\n",
       "      <td>1</td>\n",
       "      <td>1193</td>\n",
       "      <td>5</td>\n",
       "      <td>978300760</td>\n",
       "    </tr>\n",
       "    <tr>\n",
       "      <th>1</th>\n",
       "      <td>1</td>\n",
       "      <td>661</td>\n",
       "      <td>3</td>\n",
       "      <td>978302109</td>\n",
       "    </tr>\n",
       "    <tr>\n",
       "      <th>2</th>\n",
       "      <td>1</td>\n",
       "      <td>914</td>\n",
       "      <td>3</td>\n",
       "      <td>978301968</td>\n",
       "    </tr>\n",
       "    <tr>\n",
       "      <th>3</th>\n",
       "      <td>1</td>\n",
       "      <td>3408</td>\n",
       "      <td>4</td>\n",
       "      <td>978300275</td>\n",
       "    </tr>\n",
       "    <tr>\n",
       "      <th>4</th>\n",
       "      <td>1</td>\n",
       "      <td>2355</td>\n",
       "      <td>5</td>\n",
       "      <td>978824291</td>\n",
       "    </tr>\n",
       "  </tbody>\n",
       "</table>\n",
       "</div>"
      ],
      "text/plain": [
       "   UserID  MovieID  Rating  Timestamp\n",
       "0       1     1193       5  978300760\n",
       "1       1      661       3  978302109\n",
       "2       1      914       3  978301968\n",
       "3       1     3408       4  978300275\n",
       "4       1     2355       5  978824291"
      ]
     },
     "execution_count": 24,
     "metadata": {},
     "output_type": "execute_result"
    }
   ],
   "source": [
    "ratings.head()"
   ]
  },
  {
   "cell_type": "code",
   "execution_count": 26,
   "metadata": {
    "collapsed": false,
    "scrolled": true
   },
   "outputs": [
    {
     "data": {
      "text/html": [
       "<div>\n",
       "<table border=\"1\" class=\"dataframe\">\n",
       "  <thead>\n",
       "    <tr style=\"text-align: right;\">\n",
       "      <th></th>\n",
       "      <th>MovieID</th>\n",
       "      <th>Title</th>\n",
       "      <th>Genres</th>\n",
       "      <th>Year</th>\n",
       "      <th>UserID</th>\n",
       "      <th>Rating</th>\n",
       "      <th>Timestamp</th>\n",
       "      <th>Gender</th>\n",
       "      <th>Age</th>\n",
       "      <th>Occupation</th>\n",
       "      <th>Zip-code</th>\n",
       "    </tr>\n",
       "  </thead>\n",
       "  <tbody>\n",
       "    <tr>\n",
       "      <th>0</th>\n",
       "      <td>1</td>\n",
       "      <td>Toy Story (1995)</td>\n",
       "      <td>Animation|Children's|Comedy</td>\n",
       "      <td>1995</td>\n",
       "      <td>1</td>\n",
       "      <td>5</td>\n",
       "      <td>978824268</td>\n",
       "      <td>F</td>\n",
       "      <td>1</td>\n",
       "      <td>10</td>\n",
       "      <td>48067</td>\n",
       "    </tr>\n",
       "    <tr>\n",
       "      <th>1</th>\n",
       "      <td>48</td>\n",
       "      <td>Pocahontas (1995)</td>\n",
       "      <td>Animation|Children's|Musical|Romance</td>\n",
       "      <td>1995</td>\n",
       "      <td>1</td>\n",
       "      <td>5</td>\n",
       "      <td>978824351</td>\n",
       "      <td>F</td>\n",
       "      <td>1</td>\n",
       "      <td>10</td>\n",
       "      <td>48067</td>\n",
       "    </tr>\n",
       "    <tr>\n",
       "      <th>2</th>\n",
       "      <td>150</td>\n",
       "      <td>Apollo 13 (1995)</td>\n",
       "      <td>Drama</td>\n",
       "      <td>1995</td>\n",
       "      <td>1</td>\n",
       "      <td>5</td>\n",
       "      <td>978301777</td>\n",
       "      <td>F</td>\n",
       "      <td>1</td>\n",
       "      <td>10</td>\n",
       "      <td>48067</td>\n",
       "    </tr>\n",
       "    <tr>\n",
       "      <th>3</th>\n",
       "      <td>260</td>\n",
       "      <td>Star Wars: Episode IV - A New Hope (1977)</td>\n",
       "      <td>Action|Adventure|Fantasy|Sci-Fi</td>\n",
       "      <td>1977</td>\n",
       "      <td>1</td>\n",
       "      <td>4</td>\n",
       "      <td>978300760</td>\n",
       "      <td>F</td>\n",
       "      <td>1</td>\n",
       "      <td>10</td>\n",
       "      <td>48067</td>\n",
       "    </tr>\n",
       "    <tr>\n",
       "      <th>4</th>\n",
       "      <td>527</td>\n",
       "      <td>Schindler's List (1993)</td>\n",
       "      <td>Drama|War</td>\n",
       "      <td>1993</td>\n",
       "      <td>1</td>\n",
       "      <td>5</td>\n",
       "      <td>978824195</td>\n",
       "      <td>F</td>\n",
       "      <td>1</td>\n",
       "      <td>10</td>\n",
       "      <td>48067</td>\n",
       "    </tr>\n",
       "  </tbody>\n",
       "</table>\n",
       "</div>"
      ],
      "text/plain": [
       "   MovieID                                      Title  \\\n",
       "0        1                           Toy Story (1995)   \n",
       "1       48                          Pocahontas (1995)   \n",
       "2      150                           Apollo 13 (1995)   \n",
       "3      260  Star Wars: Episode IV - A New Hope (1977)   \n",
       "4      527                    Schindler's List (1993)   \n",
       "\n",
       "                                 Genres  Year  UserID  Rating  Timestamp  \\\n",
       "0           Animation|Children's|Comedy  1995       1       5  978824268   \n",
       "1  Animation|Children's|Musical|Romance  1995       1       5  978824351   \n",
       "2                                 Drama  1995       1       5  978301777   \n",
       "3       Action|Adventure|Fantasy|Sci-Fi  1977       1       4  978300760   \n",
       "4                             Drama|War  1993       1       5  978824195   \n",
       "\n",
       "  Gender  Age  Occupation Zip-code  \n",
       "0      F    1          10    48067  \n",
       "1      F    1          10    48067  \n",
       "2      F    1          10    48067  \n",
       "3      F    1          10    48067  \n",
       "4      F    1          10    48067  "
      ]
     },
     "execution_count": 26,
     "metadata": {},
     "output_type": "execute_result"
    }
   ],
   "source": [
    "\n",
    "# jaki jest najlepszy film według kobiet i według mężczyzn\n",
    "\n",
    "movies_ratings = pd.merge(movies, ratings,left_on=\"MovieID\", right_on=\"MovieID\")\n",
    "movies_ratings_users = pd.merge(movies_ratings, users, left_on=\"UserID\", right_on=\"UserID\")\n",
    "movies_ratings_users.head()\n"
   ]
  },
  {
   "cell_type": "code",
   "execution_count": 28,
   "metadata": {
    "collapsed": false
   },
   "outputs": [
    {
     "data": {
      "text/html": [
       "<div>\n",
       "<table border=\"1\" class=\"dataframe\">\n",
       "  <thead>\n",
       "    <tr style=\"text-align: right;\">\n",
       "      <th></th>\n",
       "      <th></th>\n",
       "      <th>mean</th>\n",
       "      <th>count</th>\n",
       "    </tr>\n",
       "    <tr>\n",
       "      <th>Title</th>\n",
       "      <th>Gender</th>\n",
       "      <th></th>\n",
       "      <th></th>\n",
       "    </tr>\n",
       "  </thead>\n",
       "  <tbody>\n",
       "    <tr>\n",
       "      <th>'burbs, The (1989)</th>\n",
       "      <th>M</th>\n",
       "      <td>2.962085</td>\n",
       "      <td>211</td>\n",
       "    </tr>\n",
       "    <tr>\n",
       "      <th>...And Justice for All (1979)</th>\n",
       "      <th>M</th>\n",
       "      <td>3.689024</td>\n",
       "      <td>164</td>\n",
       "    </tr>\n",
       "    <tr>\n",
       "      <th rowspan=\"2\" valign=\"top\">10 Things I Hate About You (1999)</th>\n",
       "      <th>F</th>\n",
       "      <td>3.646552</td>\n",
       "      <td>232</td>\n",
       "    </tr>\n",
       "    <tr>\n",
       "      <th>M</th>\n",
       "      <td>3.311966</td>\n",
       "      <td>468</td>\n",
       "    </tr>\n",
       "    <tr>\n",
       "      <th>101 Dalmatians (1961)</th>\n",
       "      <th>F</th>\n",
       "      <td>3.791444</td>\n",
       "      <td>187</td>\n",
       "    </tr>\n",
       "  </tbody>\n",
       "</table>\n",
       "</div>"
      ],
      "text/plain": [
       "                                              mean  count\n",
       "Title                             Gender                 \n",
       "'burbs, The (1989)                M       2.962085    211\n",
       "...And Justice for All (1979)     M       3.689024    164\n",
       "10 Things I Hate About You (1999) F       3.646552    232\n",
       "                                  M       3.311966    468\n",
       "101 Dalmatians (1961)             F       3.791444    187"
      ]
     },
     "execution_count": 28,
     "metadata": {},
     "output_type": "execute_result"
    }
   ],
   "source": [
    "ratings_gender = movies_ratings_users.groupby([\"Title\", \"Gender\"])[\"Rating\"].agg([\"mean\", \"count\"])\n",
    "ratings_gender = ratings_gender[ratings_gender[\"count\"] > 100]\n",
    "ratings_gender.head()"
   ]
  },
  {
   "cell_type": "code",
   "execution_count": 39,
   "metadata": {
    "collapsed": false
   },
   "outputs": [
    {
     "data": {
      "text/plain": [
       "4.583333333333333"
      ]
     },
     "execution_count": 39,
     "metadata": {},
     "output_type": "execute_result"
    }
   ],
   "source": [
    "ratings_gender.xs(\"M\", level=1).sort_values(by=\"mean\", ascending=False).ix[0,\"mean\"]"
   ]
  },
  {
   "cell_type": "code",
   "execution_count": 40,
   "metadata": {
    "collapsed": false
   },
   "outputs": [
    {
     "data": {
      "text/html": [
       "<div>\n",
       "<table border=\"1\" class=\"dataframe\">\n",
       "  <thead>\n",
       "    <tr style=\"text-align: right;\">\n",
       "      <th></th>\n",
       "      <th>mean</th>\n",
       "      <th>count</th>\n",
       "    </tr>\n",
       "    <tr>\n",
       "      <th>Movie</th>\n",
       "      <th></th>\n",
       "      <th></th>\n",
       "    </tr>\n",
       "  </thead>\n",
       "  <tbody>\n",
       "    <tr>\n",
       "      <th>Godfather, The (1972)</th>\n",
       "      <td>4.583333</td>\n",
       "      <td>1740</td>\n",
       "    </tr>\n",
       "  </tbody>\n",
       "</table>\n",
       "</div>"
      ],
      "text/plain": [
       "                           mean  count\n",
       "Movie                                 \n",
       "Godfather, The (1972)  4.583333   1740"
      ]
     },
     "execution_count": 40,
     "metadata": {},
     "output_type": "execute_result"
    }
   ],
   "source": [
    "ratings_gender.xs(\"M\", level=1).sort_values(by=\"mean\", ascending=False)[0:1]"
   ]
  },
  {
   "cell_type": "code",
   "execution_count": 43,
   "metadata": {
    "collapsed": false
   },
   "outputs": [
    {
     "data": {
      "text/plain": [
       "Age\n",
       "1     1988.981699\n",
       "18    1989.701982\n",
       "25    1987.972972\n",
       "35    1984.965478\n",
       "45    1983.500520\n",
       "50    1982.483211\n",
       "56    1981.549097\n",
       "Name: Year, dtype: float64"
      ]
     },
     "execution_count": 43,
     "metadata": {},
     "output_type": "execute_result"
    }
   ],
   "source": [
    "#jaki jest średni rok oglądanego filmu w poszczególnych grupach wiekowych\n",
    "movies_ratings_users.groupby(\"Age\")[\"Year\"].mean()"
   ]
  },
  {
   "cell_type": "code",
   "execution_count": 54,
   "metadata": {
    "collapsed": false
   },
   "outputs": [
    {
     "name": "stdout",
     "output_type": "stream",
     "text": [
      "Movie\n",
      "American Beauty (1999)                                   2482\n",
      "Star Wars: Episode IV - A New Hope (1977)                2344\n",
      "Star Wars: Episode V - The Empire Strikes Back (1980)    2342\n",
      "Name: Year, dtype: int64\n",
      "Movie\n",
      "American Beauty (1999)              946\n",
      "Shakespeare in Love (1998)          798\n",
      "Silence of the Lambs, The (1991)    706\n",
      "Name: Year, dtype: int64\n"
     ]
    }
   ],
   "source": [
    "#jakie trzy gatunki filmowe są najczęściej oglądane przez kobiety i mężczyzn\n",
    "#nie wiem co tu mialem na mysli, patrz nizej\n",
    "zliczenia = movies_ratings_users.groupby([\"Gender\", \"Movie\"])[\"Year\"].count()\n",
    "print(zliczenia.xs(\"M\", level=0).sort_values(ascending=False)[0:3])\n",
    "print(zliczenia.xs(\"F\", level=0).sort_values(ascending=False)[0:3])\n"
   ]
  },
  {
   "cell_type": "code",
   "execution_count": 29,
   "metadata": {
    "collapsed": false
   },
   "outputs": [
    {
     "data": {
      "text/html": [
       "<div>\n",
       "<table border=\"1\" class=\"dataframe\">\n",
       "  <thead>\n",
       "    <tr style=\"text-align: right;\">\n",
       "      <th></th>\n",
       "      <th>MovieID</th>\n",
       "      <th>Title</th>\n",
       "      <th>Genres</th>\n",
       "      <th>Year</th>\n",
       "      <th>UserID</th>\n",
       "      <th>Rating</th>\n",
       "      <th>Timestamp</th>\n",
       "      <th>Gender</th>\n",
       "      <th>Age</th>\n",
       "      <th>Occupation</th>\n",
       "      <th>Zip-code</th>\n",
       "    </tr>\n",
       "  </thead>\n",
       "  <tbody>\n",
       "    <tr>\n",
       "      <th>0</th>\n",
       "      <td>1</td>\n",
       "      <td>Toy Story (1995)</td>\n",
       "      <td>Animation|Children's|Comedy</td>\n",
       "      <td>1995</td>\n",
       "      <td>1</td>\n",
       "      <td>5</td>\n",
       "      <td>978824268</td>\n",
       "      <td>F</td>\n",
       "      <td>1</td>\n",
       "      <td>10</td>\n",
       "      <td>48067</td>\n",
       "    </tr>\n",
       "    <tr>\n",
       "      <th>1</th>\n",
       "      <td>48</td>\n",
       "      <td>Pocahontas (1995)</td>\n",
       "      <td>Animation|Children's|Musical|Romance</td>\n",
       "      <td>1995</td>\n",
       "      <td>1</td>\n",
       "      <td>5</td>\n",
       "      <td>978824351</td>\n",
       "      <td>F</td>\n",
       "      <td>1</td>\n",
       "      <td>10</td>\n",
       "      <td>48067</td>\n",
       "    </tr>\n",
       "    <tr>\n",
       "      <th>2</th>\n",
       "      <td>150</td>\n",
       "      <td>Apollo 13 (1995)</td>\n",
       "      <td>Drama</td>\n",
       "      <td>1995</td>\n",
       "      <td>1</td>\n",
       "      <td>5</td>\n",
       "      <td>978301777</td>\n",
       "      <td>F</td>\n",
       "      <td>1</td>\n",
       "      <td>10</td>\n",
       "      <td>48067</td>\n",
       "    </tr>\n",
       "    <tr>\n",
       "      <th>3</th>\n",
       "      <td>260</td>\n",
       "      <td>Star Wars: Episode IV - A New Hope (1977)</td>\n",
       "      <td>Action|Adventure|Fantasy|Sci-Fi</td>\n",
       "      <td>1977</td>\n",
       "      <td>1</td>\n",
       "      <td>4</td>\n",
       "      <td>978300760</td>\n",
       "      <td>F</td>\n",
       "      <td>1</td>\n",
       "      <td>10</td>\n",
       "      <td>48067</td>\n",
       "    </tr>\n",
       "    <tr>\n",
       "      <th>4</th>\n",
       "      <td>527</td>\n",
       "      <td>Schindler's List (1993)</td>\n",
       "      <td>Drama|War</td>\n",
       "      <td>1993</td>\n",
       "      <td>1</td>\n",
       "      <td>5</td>\n",
       "      <td>978824195</td>\n",
       "      <td>F</td>\n",
       "      <td>1</td>\n",
       "      <td>10</td>\n",
       "      <td>48067</td>\n",
       "    </tr>\n",
       "  </tbody>\n",
       "</table>\n",
       "</div>"
      ],
      "text/plain": [
       "   MovieID                                      Title  \\\n",
       "0        1                           Toy Story (1995)   \n",
       "1       48                          Pocahontas (1995)   \n",
       "2      150                           Apollo 13 (1995)   \n",
       "3      260  Star Wars: Episode IV - A New Hope (1977)   \n",
       "4      527                    Schindler's List (1993)   \n",
       "\n",
       "                                 Genres  Year  UserID  Rating  Timestamp  \\\n",
       "0           Animation|Children's|Comedy  1995       1       5  978824268   \n",
       "1  Animation|Children's|Musical|Romance  1995       1       5  978824351   \n",
       "2                                 Drama  1995       1       5  978301777   \n",
       "3       Action|Adventure|Fantasy|Sci-Fi  1977       1       4  978300760   \n",
       "4                             Drama|War  1993       1       5  978824195   \n",
       "\n",
       "  Gender  Age  Occupation Zip-code  \n",
       "0      F    1          10    48067  \n",
       "1      F    1          10    48067  \n",
       "2      F    1          10    48067  \n",
       "3      F    1          10    48067  \n",
       "4      F    1          10    48067  "
      ]
     },
     "execution_count": 29,
     "metadata": {},
     "output_type": "execute_result"
    }
   ],
   "source": [
    "movies_ratings_users.head()"
   ]
  },
  {
   "cell_type": "code",
   "execution_count": 33,
   "metadata": {
    "collapsed": false
   },
   "outputs": [],
   "source": [
    "females = movies_ratings_users[movies_ratings_users.Gender==\"F\"]\n",
    "males = movies_ratings_users[movies_ratings_users.Gender==\"M\"]"
   ]
  },
  {
   "cell_type": "code",
   "execution_count": 35,
   "metadata": {
    "collapsed": false
   },
   "outputs": [
    {
     "data": {
      "text/plain": [
       "Drama          98153\n",
       "Comedy         96271\n",
       "Romance        50297\n",
       "Action         45650\n",
       "Thriller       40308\n",
       "Sci-Fi         27400\n",
       "Adventure      27332\n",
       "Children's     21317\n",
       "Crime          16442\n",
       "Horror         14635\n",
       "War            14093\n",
       "Musical        13505\n",
       "Animation      12221\n",
       "Mystery         9976\n",
       "Fantasy         8718\n",
       "Film-Noir       4202\n",
       "Western         3477\n",
       "Documentary     1940\n",
       "dtype: int64"
      ]
     },
     "execution_count": 35,
     "metadata": {},
     "output_type": "execute_result"
    }
   ],
   "source": [
    "gatunki = np.array(females[\"Genres\"].str.split(\"|\").tolist())\n",
    "gatunki_rozwiniete = [item for sublist in gatunki for item in sublist]\n",
    "gatunkiKolumna=pd.Series(gatunki_rozwiniete)\n",
    "\n",
    "gatunkiKolumna.value_counts()"
   ]
  },
  {
   "cell_type": "code",
   "execution_count": 36,
   "metadata": {
    "collapsed": false
   },
   "outputs": [
    {
     "data": {
      "text/plain": [
       "Comedy         260309\n",
       "Drama          256376\n",
       "Action         211807\n",
       "Thriller       149372\n",
       "Sci-Fi         129894\n",
       "Adventure      106621\n",
       "Romance         97226\n",
       "Crime           63099\n",
       "Horror          61751\n",
       "War             54434\n",
       "Children's      50869\n",
       "Animation       31072\n",
       "Mystery         30202\n",
       "Musical         28028\n",
       "Fantasy         27583\n",
       "Western         17206\n",
       "Film-Noir       14059\n",
       "Documentary      5970\n",
       "dtype: int64"
      ]
     },
     "execution_count": 36,
     "metadata": {},
     "output_type": "execute_result"
    }
   ],
   "source": [
    "gatunki = np.array(males[\"Genres\"].str.split(\"|\").tolist())\n",
    "gatunki_rozwiniete = [item for sublist in gatunki for item in sublist]\n",
    "gatunkiKolumna=pd.Series(gatunki_rozwiniete)\n",
    "\n",
    "gatunkiKolumna.value_counts()"
   ]
  }
 ],
 "metadata": {
  "kernelspec": {
   "display_name": "Python 3",
   "language": "python",
   "name": "python3"
  },
  "language_info": {
   "codemirror_mode": {
    "name": "ipython",
    "version": 3
   },
   "file_extension": ".py",
   "mimetype": "text/x-python",
   "name": "python",
   "nbconvert_exporter": "python",
   "pygments_lexer": "ipython3",
   "version": "3.6.0"
  }
 },
 "nbformat": 4,
 "nbformat_minor": 2
}
