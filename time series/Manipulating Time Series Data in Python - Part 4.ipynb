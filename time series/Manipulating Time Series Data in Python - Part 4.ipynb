{
 "cells": [
  {
   "cell_type": "markdown",
   "metadata": {
    "collapsed": true,
    "pycharm": {
     "name": "#%% md\n"
    }
   },
   "source": [
    "# Manipulating Time Series Data in Python - Part 4"
   ]
  },
  {
   "cell_type": "code",
   "execution_count": 95,
   "outputs": [],
   "source": [
    "import numpy as np\n",
    "import pandas as pd\n",
    "import matplotlib.pyplot as plt\n",
    "import seaborn as sns\n",
    "\n",
    "from numpy.random import normal, seed, choice\n",
    "\n",
    "%matplotlib inline"
   ],
   "metadata": {
    "collapsed": false,
    "pycharm": {
     "name": "#%%\n"
    }
   }
  },
  {
   "cell_type": "markdown",
   "source": [
    "## Datasets"
   ],
   "metadata": {
    "collapsed": false,
    "pycharm": {
     "name": "#%% md\n"
    }
   }
  },
  {
   "cell_type": "markdown",
   "source": [
    "### Company Listings"
   ],
   "metadata": {
    "collapsed": false,
    "pycharm": {
     "name": "#%% md\n"
    }
   }
  },
  {
   "cell_type": "code",
   "source": [
    "amex = pd.read_excel('../datasets/stock/listings.xlsx', sheet_name='amex', na_values='n/a', engine='openpyxl')\n",
    "amex['Exchange'] = 'amex'\n",
    "\n",
    "nasdaq = pd.read_excel('../datasets/stock/listings.xlsx', sheet_name='nasdaq', na_values='n/a', engine='openpyxl')\n",
    "nasdaq['Exchange'] = 'nasdaq'\n",
    "\n",
    "nyse = pd.read_excel('../datasets/stock/listings.xlsx', sheet_name='nyse', na_values='n/a', engine='openpyxl')\n",
    "nyse['Exchange'] = 'nyse'\n",
    "\n",
    "company_listings = pd.concat([amex, nasdaq, nyse])\n",
    "company_listings['Market Capitalization'] /= 1e6  # in Million USD"
   ],
   "metadata": {
    "collapsed": false,
    "pycharm": {
     "name": "#%%\n"
    }
   },
   "execution_count": 96,
   "outputs": []
  },
  {
   "cell_type": "markdown",
   "source": [
    "### Stock Prices"
   ],
   "metadata": {
    "collapsed": false,
    "pycharm": {
     "name": "#%% md\n"
    }
   }
  },
  {
   "cell_type": "code",
   "execution_count": 97,
   "outputs": [],
   "source": [
    "stock_prices = pd.read_csv('../datasets/stock/stock_prices.csv', index_col='Date', parse_dates=['Date'])"
   ],
   "metadata": {
    "collapsed": false,
    "pycharm": {
     "name": "#%%\n"
    }
   }
  },
  {
   "cell_type": "markdown",
   "source": [
    "### DJIA"
   ],
   "metadata": {
    "collapsed": false,
    "pycharm": {
     "name": "#%% md\n"
    }
   }
  },
  {
   "cell_type": "code",
   "execution_count": 140,
   "outputs": [],
   "source": [
    "djia_dataset = pd.read_csv('../datasets/stock/djia.csv', index_col='date', parse_dates=['date'])"
   ],
   "metadata": {
    "collapsed": false,
    "pycharm": {
     "name": "#%%\n"
    }
   }
  },
  {
   "cell_type": "markdown",
   "source": [
    "## Putting it all together: Building a value-weighted index\n",
    "This chapter combines the previous concepts by teaching you how to create a value-weighted index. This index uses market-cap data contained in the stock exchange listings to calculate weights and 2016 stock price information. Index performance is then compared against benchmarks to evaluate the performance of the index you created."
   ],
   "metadata": {
    "collapsed": false,
    "pycharm": {
     "name": "#%% md\n"
    }
   }
  },
  {
   "cell_type": "markdown",
   "source": [
    "### Explore and clean company listing information\n",
    "To get started with the construction of a market-value based index, you'll work with the combined listing info for the three largest US stock exchanges, the NYSE, the NASDAQ and the AMEX.\n",
    "\n",
    "In this and the next exercise, you will calculate market-cap weights for these stocks.\n",
    "\n",
    "We have already imported pandas as pd, and loaded the listings data set with listings information from the NYSE, NASDAQ, and AMEX. The column 'Market Capitalization' is already measured in USD mn."
   ],
   "metadata": {
    "collapsed": false,
    "pycharm": {
     "name": "#%% md\n"
    }
   }
  },
  {
   "cell_type": "code",
   "execution_count": 98,
   "outputs": [],
   "source": [
    "listings = company_listings.copy()"
   ],
   "metadata": {
    "collapsed": false,
    "pycharm": {
     "name": "#%%\n"
    }
   }
  },
  {
   "cell_type": "code",
   "execution_count": 99,
   "outputs": [
    {
     "name": "stdout",
     "output_type": "stream",
     "text": [
      "<class 'pandas.core.frame.DataFrame'>\n",
      "Int64Index: 6674 entries, 0 to 3146\n",
      "Data columns (total 8 columns):\n",
      "Stock Symbol             6674 non-null object\n",
      "Company Name             6674 non-null object\n",
      "Last Sale                6590 non-null float64\n",
      "Market Capitalization    6674 non-null float64\n",
      "IPO Year                 2852 non-null float64\n",
      "Sector                   5182 non-null object\n",
      "Industry                 5182 non-null object\n",
      "Exchange                 6674 non-null object\n",
      "dtypes: float64(3), object(5)\n",
      "memory usage: 469.3+ KB\n",
      "None\n"
     ]
    }
   ],
   "source": [
    "# Inspect listings\n",
    "print(listings.info())"
   ],
   "metadata": {
    "collapsed": false,
    "pycharm": {
     "name": "#%%\n"
    }
   }
  },
  {
   "cell_type": "code",
   "execution_count": 100,
   "outputs": [],
   "source": [
    "# Move 'stock symbol' into the index\n",
    "listings.set_index('Stock Symbol', inplace=True)"
   ],
   "metadata": {
    "collapsed": false,
    "pycharm": {
     "name": "#%%\n"
    }
   }
  },
  {
   "cell_type": "code",
   "execution_count": 101,
   "outputs": [],
   "source": [
    "# Drop rows with missing 'sector' data\n",
    "listings.dropna(subset=['Sector'], inplace=True)"
   ],
   "metadata": {
    "collapsed": false,
    "pycharm": {
     "name": "#%%\n"
    }
   }
  },
  {
   "cell_type": "code",
   "execution_count": 102,
   "outputs": [],
   "source": [
    "# Select companies with IPO Year before 2019\n",
    "listings = listings[listings['IPO Year'] < 2019]"
   ],
   "metadata": {
    "collapsed": false,
    "pycharm": {
     "name": "#%%\n"
    }
   }
  },
  {
   "cell_type": "code",
   "execution_count": 103,
   "outputs": [
    {
     "name": "stdout",
     "output_type": "stream",
     "text": [
      "<class 'pandas.core.frame.DataFrame'>\n",
      "Index: 2349 entries, ACU to ZTO\n",
      "Data columns (total 7 columns):\n",
      "Company Name             2349 non-null object\n",
      "Last Sale                2349 non-null float64\n",
      "Market Capitalization    2349 non-null float64\n",
      "IPO Year                 2349 non-null float64\n",
      "Sector                   2349 non-null object\n",
      "Industry                 2349 non-null object\n",
      "Exchange                 2349 non-null object\n",
      "dtypes: float64(3), object(4)\n",
      "memory usage: 146.8+ KB\n",
      "None\n"
     ]
    }
   ],
   "source": [
    "# Inspect the new listings data\n",
    "print(listings.info())"
   ],
   "metadata": {
    "collapsed": false,
    "pycharm": {
     "name": "#%%\n"
    }
   }
  },
  {
   "cell_type": "code",
   "execution_count": 104,
   "outputs": [
    {
     "name": "stdout",
     "output_type": "stream",
     "text": [
      "Sector\n",
      "Health Care              445\n",
      "Consumer Services        402\n",
      "Technology               386\n",
      "Finance                  351\n",
      "Energy                   144\n",
      "Capital Goods            143\n",
      "Public Utilities         104\n",
      "Basic Industries         104\n",
      "Consumer Non-Durables     89\n",
      "Miscellaneous             68\n",
      "Transportation            58\n",
      "Consumer Durables         55\n",
      "dtype: int64\n"
     ]
    }
   ],
   "source": [
    "# Show the number of companies per sector\n",
    "print(listings.groupby('Sector').size().sort_values(ascending=False))"
   ],
   "metadata": {
    "collapsed": false,
    "pycharm": {
     "name": "#%%\n"
    }
   }
  },
  {
   "cell_type": "markdown",
   "source": [
    "### Select and inspect index components\n",
    "Now that you have imported and cleaned the listings data, you can proceed to select the index components as the largest company for each sector by market capitalization.\n",
    "\n",
    "You'll also have the opportunity to take a closer look at the components, their last market value, and last price."
   ],
   "metadata": {
    "collapsed": false,
    "pycharm": {
     "name": "#%% md\n"
    }
   }
  },
  {
   "cell_type": "code",
   "execution_count": 105,
   "outputs": [],
   "source": [
    "# Select largest company for each sector\n",
    "components = listings.groupby('Sector')['Market Capitalization'].nlargest(1)"
   ],
   "metadata": {
    "collapsed": false,
    "pycharm": {
     "name": "#%%\n"
    }
   }
  },
  {
   "cell_type": "code",
   "execution_count": 106,
   "outputs": [
    {
     "name": "stdout",
     "output_type": "stream",
     "text": [
      "Sector                 Stock Symbol\n",
      "Technology             AAPL            740024.467000\n",
      "Consumer Services      AMZN            422138.530626\n",
      "Miscellaneous          BABA            275525.000000\n",
      "Health Care            AMGN            118927.210535\n",
      "Transportation         UPS              90180.886756\n",
      "Finance                GS               88840.590477\n",
      "Consumer Non-Durables  ABEV             88240.198455\n",
      "Basic Industries       RIO              70431.476895\n",
      "Public Utilities       TEF              54609.806092\n",
      "Capital Goods          GM               50086.335099\n",
      "Energy                 PAA              22223.001416\n",
      "Consumer Durables      CPRT             13620.922869\n",
      "Name: Market Capitalization, dtype: float64\n"
     ]
    }
   ],
   "source": [
    "# Print components, sorted by market cap\n",
    "print(components.sort_values(ascending=False))"
   ],
   "metadata": {
    "collapsed": false,
    "pycharm": {
     "name": "#%%\n"
    }
   }
  },
  {
   "cell_type": "code",
   "execution_count": 107,
   "outputs": [
    {
     "name": "stdout",
     "output_type": "stream",
     "text": [
      "Index(['RIO', 'GM', 'CPRT', 'ABEV', 'AMZN', 'PAA', 'GS', 'AMGN', 'BABA', 'TEF',\n",
      "       'AAPL', 'UPS'],\n",
      "      dtype='object', name='Stock Symbol')\n"
     ]
    }
   ],
   "source": [
    "# Select stock symbols and print the result\n",
    "tickers = components.index.get_level_values('Stock Symbol')\n",
    "print(tickers)"
   ],
   "metadata": {
    "collapsed": false,
    "pycharm": {
     "name": "#%%\n"
    }
   }
  },
  {
   "cell_type": "code",
   "execution_count": 108,
   "outputs": [
    {
     "name": "stdout",
     "output_type": "stream",
     "text": [
      "                                    Company Name  Market Capitalization  \\\n",
      "Stock Symbol                                                              \n",
      "AAPL                                  Apple Inc.          740024.467000   \n",
      "AMZN                            Amazon.com, Inc.          422138.530626   \n",
      "BABA               Alibaba Group Holding Limited          275525.000000   \n",
      "AMGN                                  Amgen Inc.          118927.210535   \n",
      "UPS                  United Parcel Service, Inc.           90180.886756   \n",
      "GS               Goldman Sachs Group, Inc. (The)           88840.590477   \n",
      "ABEV                                  Ambev S.A.           88240.198455   \n",
      "RIO                                Rio Tinto Plc           70431.476895   \n",
      "TEF                                Telefonica SA           54609.806092   \n",
      "GM                        General Motors Company           50086.335099   \n",
      "PAA           Plains All American Pipeline, L.P.           22223.001416   \n",
      "CPRT                                Copart, Inc.           13620.922869   \n",
      "\n",
      "              Last Sale  \n",
      "Stock Symbol             \n",
      "AAPL             141.05  \n",
      "AMZN             884.67  \n",
      "BABA             110.21  \n",
      "AMGN             161.61  \n",
      "UPS              103.74  \n",
      "GS               223.32  \n",
      "ABEV               5.62  \n",
      "RIO               38.94  \n",
      "TEF               10.84  \n",
      "GM                33.39  \n",
      "PAA               30.72  \n",
      "CPRT              29.65  \n"
     ]
    }
   ],
   "source": [
    "# Print company name, market cap, and last price for each component\n",
    "info_cols = ['Company Name', 'Market Capitalization', 'Last Sale']\n",
    "print(listings.loc[tickers, info_cols].sort_values(by='Market Capitalization', ascending=False))"
   ],
   "metadata": {
    "collapsed": false,
    "pycharm": {
     "name": "#%%\n"
    }
   }
  },
  {
   "cell_type": "markdown",
   "source": [
    "### Import index component price information\n",
    "Now you'll use the stock symbols for the companies you selected in the last exercise to calculate returns for each company."
   ],
   "metadata": {
    "collapsed": false,
    "pycharm": {
     "name": "#%% md\n"
    }
   }
  },
  {
   "cell_type": "code",
   "execution_count": 109,
   "outputs": [],
   "source": [
    "data = stock_prices.copy()"
   ],
   "metadata": {
    "collapsed": false,
    "pycharm": {
     "name": "#%%\n"
    }
   }
  },
  {
   "cell_type": "code",
   "execution_count": 110,
   "outputs": [
    {
     "name": "stdout",
     "output_type": "stream",
     "text": [
      "<class 'pandas.core.frame.DataFrame'>\n",
      "DatetimeIndex: 1762 entries, 2010-01-04 to 2016-12-30\n",
      "Data columns (total 12 columns):\n",
      "AAPL    1761 non-null float64\n",
      "AMGN    1761 non-null float64\n",
      "AMZN    1761 non-null float64\n",
      "CPRT    1761 non-null float64\n",
      "EL      1762 non-null float64\n",
      "GS      1762 non-null float64\n",
      "ILMN    1761 non-null float64\n",
      "MA      1762 non-null float64\n",
      "PAA     1762 non-null float64\n",
      "RIO     1762 non-null float64\n",
      "TEF     1762 non-null float64\n",
      "UPS     1762 non-null float64\n",
      "dtypes: float64(12)\n",
      "memory usage: 179.0 KB\n",
      "None\n"
     ]
    }
   ],
   "source": [
    "print(data.info())"
   ],
   "metadata": {
    "collapsed": false,
    "pycharm": {
     "name": "#%%\n"
    }
   }
  },
  {
   "cell_type": "code",
   "execution_count": 111,
   "outputs": [],
   "source": [
    "# Calculate the returns\n",
    "price_return = data.iloc[-1].div(data.iloc[0]).sub(1).mul(100)"
   ],
   "metadata": {
    "collapsed": false,
    "pycharm": {
     "name": "#%%\n"
    }
   }
  },
  {
   "cell_type": "code",
   "execution_count": 112,
   "outputs": [
    {
     "data": {
      "text/plain": "<Figure size 720x360 with 1 Axes>",
      "image/png": "[encoded data removed]"
     },
     "metadata": {
      "needs_background": "light"
     },
     "output_type": "display_data"
    }
   ],
   "source": [
    "# Plot horizontal bar chart of sorted price_return\n",
    "price_return.sort_values().plot(kind='barh', title='Stock Price Returns', figsize=(10,5));"
   ],
   "metadata": {
    "collapsed": false,
    "pycharm": {
     "name": "#%%\n"
    }
   }
  },
  {
   "cell_type": "markdown",
   "source": [
    "### Calculate number of shares outstanding\n",
    "The next step towards building a value-weighted index is to calculate the number of shares for each index component.\n",
    "\n",
    "The number of shares will allow you to calculate the total market capitalization for each component given the historical price series in the next exercise."
   ],
   "metadata": {
    "collapsed": false,
    "pycharm": {
     "name": "#%% md\n"
    }
   }
  },
  {
   "cell_type": "code",
   "execution_count": 113,
   "outputs": [
    {
     "name": "stdout",
     "output_type": "stream",
     "text": [
      "<class 'pandas.core.frame.DataFrame'>\n",
      "Index: 2349 entries, ACU to ZTO\n",
      "Data columns (total 7 columns):\n",
      "Company Name             2349 non-null object\n",
      "Last Sale                2349 non-null float64\n",
      "Market Capitalization    2349 non-null float64\n",
      "IPO Year                 2349 non-null float64\n",
      "Sector                   2349 non-null object\n",
      "Industry                 2349 non-null object\n",
      "Exchange                 2349 non-null object\n",
      "dtypes: float64(3), object(4)\n",
      "memory usage: 226.8+ KB\n",
      "None\n"
     ]
    }
   ],
   "source": [
    "# Inspect listings\n",
    "print(listings.info())"
   ],
   "metadata": {
    "collapsed": false,
    "pycharm": {
     "name": "#%%\n"
    }
   }
  },
  {
   "cell_type": "code",
   "execution_count": 114,
   "outputs": [
    {
     "name": "stdout",
     "output_type": "stream",
     "text": [
      "Index(['RIO', 'GM', 'CPRT', 'ABEV', 'AMZN', 'PAA', 'GS', 'AMGN', 'BABA', 'TEF',\n",
      "       'AAPL', 'UPS'],\n",
      "      dtype='object', name='Stock Symbol')\n"
     ]
    }
   ],
   "source": [
    "# Print tickers\n",
    "print(tickers)"
   ],
   "metadata": {
    "collapsed": false,
    "pycharm": {
     "name": "#%%\n"
    }
   }
  },
  {
   "cell_type": "code",
   "execution_count": 115,
   "outputs": [],
   "source": [
    "# Select components and relevant columns from listings\n",
    "components = listings.loc[tickers,['Market Capitalization', 'Last Sale']]"
   ],
   "metadata": {
    "collapsed": false,
    "pycharm": {
     "name": "#%%\n"
    }
   }
  },
  {
   "cell_type": "code",
   "execution_count": 116,
   "outputs": [
    {
     "name": "stdout",
     "output_type": "stream",
     "text": [
      "              Market Capitalization  Last Sale\n",
      "Stock Symbol                                  \n",
      "RIO                    70431.476895      38.94\n",
      "GM                     50086.335099      33.39\n",
      "CPRT                   13620.922869      29.65\n",
      "ABEV                   88240.198455       5.62\n",
      "AMZN                  422138.530626     884.67\n"
     ]
    }
   ],
   "source": [
    "# Print the first rows of components\n",
    "print(components.head(5))"
   ],
   "metadata": {
    "collapsed": false,
    "pycharm": {
     "name": "#%%\n"
    }
   }
  },
  {
   "cell_type": "code",
   "execution_count": 117,
   "outputs": [],
   "source": [
    "# Calculate the number of shares here\n",
    "components['Number of Shares'] = components['Market Capitalization'].div(components['Last Sale'])\n",
    "no_shares = components['Number of Shares']"
   ],
   "metadata": {
    "collapsed": false,
    "pycharm": {
     "name": "#%%\n"
    }
   }
  },
  {
   "cell_type": "code",
   "execution_count": 118,
   "outputs": [
    {
     "name": "stdout",
     "output_type": "stream",
     "text": [
      "Stock Symbol\n",
      "ABEV    15701.102928\n",
      "AAPL     5246.540000\n",
      "TEF      5037.804990\n",
      "BABA     2500.000000\n",
      "RIO      1808.717948\n",
      "GM       1500.039985\n",
      "UPS       869.297154\n",
      "AMGN      735.890171\n",
      "PAA       723.404994\n",
      "AMZN      477.170618\n",
      "CPRT      459.390316\n",
      "GS        397.817439\n",
      "Name: Number of Shares, dtype: float64\n"
     ]
    }
   ],
   "source": [
    "# Print the sorted no_shares\n",
    "print(no_shares.sort_values(ascending=False))"
   ],
   "metadata": {
    "collapsed": false,
    "pycharm": {
     "name": "#%%\n"
    }
   }
  },
  {
   "cell_type": "markdown",
   "source": [
    "### Create time series of market value\n",
    "You can now use the number of shares to calculate the total market capitalization for each component and trading date from the historical price series.\n",
    "\n",
    "The result will be the key input to construct the value-weighted stock index, which you will complete in the next exercise."
   ],
   "metadata": {
    "collapsed": false,
    "pycharm": {
     "name": "#%% md\n"
    }
   }
  },
  {
   "cell_type": "code",
   "execution_count": 120,
   "outputs": [
    {
     "name": "stdout",
     "output_type": "stream",
     "text": [
      "Stock Symbol\n",
      "GS        397.817439\n",
      "CPRT      459.390316\n",
      "AMZN      477.170618\n",
      "PAA       723.404994\n",
      "AMGN      735.890171\n",
      "UPS       869.297154\n",
      "GM       1500.039985\n",
      "RIO      1808.717948\n",
      "BABA     2500.000000\n",
      "TEF      5037.804990\n",
      "AAPL     5246.540000\n",
      "ABEV    15701.102928\n",
      "Name: Number of Shares, dtype: float64\n"
     ]
    }
   ],
   "source": [
    "# Select the number of shares\n",
    "no_shares = components['Number of Shares']\n",
    "print(no_shares.sort_values())"
   ],
   "metadata": {
    "collapsed": false,
    "pycharm": {
     "name": "#%%\n"
    }
   }
  },
  {
   "cell_type": "code",
   "execution_count": 121,
   "outputs": [],
   "source": [
    "# Create the series of market cap per ticker\n",
    "market_cap = stock_prices * no_shares"
   ],
   "metadata": {
    "collapsed": false,
    "pycharm": {
     "name": "#%%\n"
    }
   }
  },
  {
   "cell_type": "code",
   "execution_count": 122,
   "outputs": [],
   "source": [
    "market_cap = market_cap.dropna(axis=1, how='all')"
   ],
   "metadata": {
    "collapsed": false,
    "pycharm": {
     "name": "#%%\n"
    }
   }
  },
  {
   "cell_type": "code",
   "execution_count": 123,
   "outputs": [],
   "source": [
    "# Select first and last market cap here\n",
    "first_value = market_cap.iloc[0]\n",
    "last_value = market_cap.iloc[-1]"
   ],
   "metadata": {
    "collapsed": false,
    "pycharm": {
     "name": "#%%\n"
    }
   }
  },
  {
   "cell_type": "code",
   "execution_count": 124,
   "outputs": [
    {
     "data": {
      "text/plain": "<Figure size 720x360 with 1 Axes>",
      "image/png": "[encoded data removed]"
     },
     "metadata": {
      "needs_background": "light"
     },
     "output_type": "display_data"
    }
   ],
   "source": [
    "# Concatenate and plot first and last market cap here\n",
    "pd.concat([first_value, last_value], axis=1).plot(kind='barh', figsize=(10,5));"
   ],
   "metadata": {
    "collapsed": false,
    "pycharm": {
     "name": "#%%\n"
    }
   }
  },
  {
   "cell_type": "markdown",
   "source": [
    "### Calculate & plot the composite index\n",
    "By now you have all ingredients that you need to calculate the aggregate stock performance for your group of companies.\n",
    "\n",
    "Use the time series of market capitalization that you created in the last exercise to aggregate the market value for each period, and then normalize this series to convert it to an index."
   ],
   "metadata": {
    "collapsed": false,
    "pycharm": {
     "name": "#%% md\n"
    }
   }
  },
  {
   "cell_type": "code",
   "execution_count": 125,
   "outputs": [
    {
     "name": "stdout",
     "output_type": "stream",
     "text": [
      "Date\n",
      "2010-01-04    6.529794e+05\n",
      "2010-01-05    6.562973e+05\n",
      "2010-01-06    6.527435e+05\n",
      "2010-01-07    6.492939e+05\n",
      "2010-01-08    6.537965e+05\n",
      "                  ...     \n",
      "2016-12-23    1.425208e+06\n",
      "2016-12-27    1.435541e+06\n",
      "2016-12-28    1.431656e+06\n",
      "2016-12-29    1.427209e+06\n",
      "2016-12-30    1.413611e+06\n",
      "Length: 1762, dtype: float64\n"
     ]
    }
   ],
   "source": [
    "# Aggregate and print the market cap per trading day\n",
    "raw_index = market_cap.sum(axis=1)\n",
    "print(raw_index)"
   ],
   "metadata": {
    "collapsed": false,
    "pycharm": {
     "name": "#%%\n"
    }
   }
  },
  {
   "cell_type": "code",
   "execution_count": 126,
   "outputs": [
    {
     "name": "stdout",
     "output_type": "stream",
     "text": [
      "Date\n",
      "2010-01-04    100.000000\n",
      "2010-01-05    100.508119\n",
      "2010-01-06     99.963872\n",
      "2010-01-07     99.435588\n",
      "2010-01-08    100.125141\n",
      "                 ...    \n",
      "2016-12-23    218.262332\n",
      "2016-12-27    219.844835\n",
      "2016-12-28    219.249834\n",
      "2016-12-29    218.568789\n",
      "2016-12-30    216.486276\n",
      "Length: 1762, dtype: float64\n"
     ]
    }
   ],
   "source": [
    "# Normalize the aggregate market cap here\n",
    "index = raw_index.div(raw_index.iloc[0]).mul(100)\n",
    "print(index)"
   ],
   "metadata": {
    "collapsed": false,
    "pycharm": {
     "name": "#%%\n"
    }
   }
  },
  {
   "cell_type": "code",
   "execution_count": 127,
   "outputs": [
    {
     "data": {
      "text/plain": "<Figure size 720x360 with 1 Axes>",
      "image/png": "[encoded data removed]"
     },
     "metadata": {
      "needs_background": "light"
     },
     "output_type": "display_data"
    }
   ],
   "source": [
    "# Plot the index here\n",
    "index.plot(title='Market-Cap Weighted Index', figsize=(10, 5));"
   ],
   "metadata": {
    "collapsed": false,
    "pycharm": {
     "name": "#%%\n"
    }
   }
  },
  {
   "cell_type": "markdown",
   "source": [
    "### Calculate the contribution of each stock to the index\n",
    "You have successfully built the value-weighted index. Let's now explore how it performed over the 2010-2016 period.\n",
    "\n",
    "Let's also determine how much each stock has contributed to the index return."
   ],
   "metadata": {
    "collapsed": false,
    "pycharm": {
     "name": "#%% md\n"
    }
   }
  },
  {
   "cell_type": "code",
   "execution_count": 128,
   "outputs": [
    {
     "name": "stdout",
     "output_type": "stream",
     "text": [
      "116.48627582170698\n"
     ]
    }
   ],
   "source": [
    "# Calculate and print the index return here\n",
    "index_return = (index.iloc[-1] / index.iloc[0] - 1) * 100\n",
    "print(index_return)"
   ],
   "metadata": {
    "collapsed": false,
    "pycharm": {
     "name": "#%%\n"
    }
   }
  },
  {
   "cell_type": "code",
   "execution_count": 129,
   "outputs": [],
   "source": [
    "# Select the market capitalization\n",
    "market_cap = components['Market Capitalization']"
   ],
   "metadata": {
    "collapsed": false,
    "pycharm": {
     "name": "#%%\n"
    }
   }
  },
  {
   "cell_type": "code",
   "execution_count": 130,
   "outputs": [],
   "source": [
    "# Calculate the total market cap\n",
    "total_market_cap = market_cap.sum()"
   ],
   "metadata": {
    "collapsed": false,
    "pycharm": {
     "name": "#%%\n"
    }
   }
  },
  {
   "cell_type": "code",
   "execution_count": 131,
   "outputs": [
    {
     "name": "stdout",
     "output_type": "stream",
     "text": [
      "Stock Symbol\n",
      "CPRT    0.006694\n",
      "PAA     0.010921\n",
      "GM      0.024614\n",
      "TEF     0.026837\n",
      "RIO     0.034613\n",
      "ABEV    0.043365\n",
      "GS      0.043660\n",
      "UPS     0.044318\n",
      "AMGN    0.058445\n",
      "BABA    0.135403\n",
      "AMZN    0.207455\n",
      "AAPL    0.363675\n",
      "Name: Market Capitalization, dtype: float64\n"
     ]
    }
   ],
   "source": [
    "# Calculate the component weights, and print the result\n",
    "weights = market_cap.div(total_market_cap)\n",
    "print(weights.sort_values())"
   ],
   "metadata": {
    "collapsed": false,
    "pycharm": {
     "name": "#%%\n"
    }
   }
  },
  {
   "cell_type": "code",
   "execution_count": 132,
   "outputs": [
    {
     "data": {
      "text/plain": "<Figure size 432x288 with 1 Axes>",
      "image/png": "[encoded data removed]"
     },
     "metadata": {
      "needs_background": "light"
     },
     "output_type": "display_data"
    }
   ],
   "source": [
    "# Calculate and plot the contribution by component\n",
    "weights.mul(index_return).sort_values().plot(kind='barh');"
   ],
   "metadata": {
    "collapsed": false,
    "pycharm": {
     "name": "#%%\n"
    }
   }
  },
  {
   "cell_type": "markdown",
   "source": [
    "### Compare index performance against benchmark I\n",
    "The next step in analyzing the performance of your index is to compare it against a benchmark.\n",
    "\n",
    "In the video, we used the S&P 500 as benchmark. You can also use the Dow Jones Industrial Average, which contains the 30 largest stocks, and would also be a reasonable benchmark for the largest stocks from all sectors across the three exchanges."
   ],
   "metadata": {
    "collapsed": false,
    "pycharm": {
     "name": "#%% md\n"
    }
   }
  },
  {
   "cell_type": "code",
   "execution_count": 143,
   "outputs": [],
   "source": [
    "djia = djia_dataset.copy()"
   ],
   "metadata": {
    "collapsed": false,
    "pycharm": {
     "name": "#%%\n"
    }
   }
  },
  {
   "cell_type": "code",
   "execution_count": 144,
   "outputs": [],
   "source": [
    "# Convert index series to dataframe here\n",
    "data = index.to_frame(name='Index')"
   ],
   "metadata": {
    "collapsed": false,
    "pycharm": {
     "name": "#%%\n"
    }
   }
  },
  {
   "cell_type": "code",
   "execution_count": 145,
   "outputs": [],
   "source": [
    "# Normalize djia series and add as new column to data\n",
    "djia = djia.div(djia.iloc[0]).mul(100)\n",
    "data['DJIA'] = djia"
   ],
   "metadata": {
    "collapsed": false,
    "pycharm": {
     "name": "#%%\n"
    }
   }
  },
  {
   "cell_type": "code",
   "execution_count": 146,
   "outputs": [
    {
     "name": "stdout",
     "output_type": "stream",
     "text": [
      "Index    116.486276\n",
      "DJIA      86.722172\n",
      "dtype: float64\n"
     ]
    }
   ],
   "source": [
    "# Show total return for both index and djia\n",
    "print((data.iloc[-1] / data.iloc[0] - 1) * 100)"
   ],
   "metadata": {
    "collapsed": false,
    "pycharm": {
     "name": "#%%\n"
    }
   }
  },
  {
   "cell_type": "code",
   "execution_count": 147,
   "outputs": [
    {
     "data": {
      "text/plain": "<Figure size 720x360 with 1 Axes>",
      "image/png": "[encoded data removed]"
     },
     "metadata": {
      "needs_background": "light"
     },
     "output_type": "display_data"
    }
   ],
   "source": [
    "# Plot both series\n",
    "data.plot(figsize=(10,5));"
   ],
   "metadata": {
    "collapsed": false,
    "pycharm": {
     "name": "#%%\n"
    }
   }
  },
  {
   "cell_type": "markdown",
   "source": [
    "### Compare index performance against benchmark II\n",
    "The next step in analyzing the performance of your index is to compare it against a benchmark.\n",
    "\n",
    "In the video, we have use the S&P 500 as benchmark. You can also use the Dow Jones Industrial Average, which contains the 30 largest stocks, and would also be a reasonable benchmark for the largest stocks from all sectors across the three exchanges."
   ],
   "metadata": {
    "collapsed": false,
    "pycharm": {
     "name": "#%% md\n"
    }
   }
  },
  {
   "cell_type": "code",
   "execution_count": 148,
   "outputs": [
    {
     "name": "stdout",
     "output_type": "stream",
     "text": [
      "<class 'pandas.core.frame.DataFrame'>\n",
      "DatetimeIndex: 1762 entries, 2010-01-04 to 2016-12-30\n",
      "Data columns (total 2 columns):\n",
      "Index    1762 non-null float64\n",
      "DJIA     1762 non-null float64\n",
      "dtypes: float64(2)\n",
      "memory usage: 41.3 KB\n",
      "None\n",
      "                 Index       DJIA\n",
      "Date                             \n",
      "2010-01-04  100.000000  78.933999\n",
      "2010-01-05  100.508119  78.844952\n",
      "2010-01-06   99.963872  78.857332\n",
      "2010-01-07   99.435588  79.104785\n",
      "2010-01-08  100.125141  79.189283\n"
     ]
    }
   ],
   "source": [
    "# Inspect data\n",
    "print(data.info())\n",
    "print(data.head(5))"
   ],
   "metadata": {
    "collapsed": false,
    "pycharm": {
     "name": "#%%\n"
    }
   }
  },
  {
   "cell_type": "code",
   "execution_count": 149,
   "outputs": [],
   "source": [
    "# Create multi_period_return function here\n",
    "def multi_period_return(r):\n",
    "    return (np.prod(r + 1) - 1) * 100"
   ],
   "metadata": {
    "collapsed": false,
    "pycharm": {
     "name": "#%%\n"
    }
   }
  },
  {
   "cell_type": "code",
   "execution_count": 152,
   "outputs": [],
   "source": [
    "# Calculate rolling_return_360\n",
    "rolling_return_360 = data.pct_change().rolling('360D').apply(multi_period_return, raw=True)"
   ],
   "metadata": {
    "collapsed": false,
    "pycharm": {
     "name": "#%%\n"
    }
   }
  },
  {
   "cell_type": "code",
   "execution_count": 155,
   "outputs": [
    {
     "data": {
      "text/plain": "<Figure size 720x360 with 1 Axes>",
      "image/png": "[encoded data removed]"
     },
     "metadata": {
      "needs_background": "light"
     },
     "output_type": "display_data"
    }
   ],
   "source": [
    "# Plot rolling_return_360 here\n",
    "rolling_return_360.plot(title='Rolling 360D Return', figsize=(10,5));"
   ],
   "metadata": {
    "collapsed": false,
    "pycharm": {
     "name": "#%%\n"
    }
   }
  },
  {
   "cell_type": "markdown",
   "source": [
    "### Visualize your index constituent correlations\n",
    "To better understand the characteristics of your index constituents, you can calculate the return correlations.\n",
    "\n",
    "Use the daily stock prices or your index companies, and show a heatmap of the daily return correlations!"
   ],
   "metadata": {
    "collapsed": false,
    "pycharm": {
     "name": "#%% md\n"
    }
   }
  },
  {
   "cell_type": "code",
   "execution_count": 158,
   "outputs": [
    {
     "name": "stdout",
     "output_type": "stream",
     "text": [
      "<class 'pandas.core.frame.DataFrame'>\n",
      "DatetimeIndex: 1762 entries, 2010-01-04 to 2016-12-30\n",
      "Data columns (total 12 columns):\n",
      "AAPL    1761 non-null float64\n",
      "AMGN    1761 non-null float64\n",
      "AMZN    1761 non-null float64\n",
      "CPRT    1761 non-null float64\n",
      "EL      1762 non-null float64\n",
      "GS      1762 non-null float64\n",
      "ILMN    1761 non-null float64\n",
      "MA      1762 non-null float64\n",
      "PAA     1762 non-null float64\n",
      "RIO     1762 non-null float64\n",
      "TEF     1762 non-null float64\n",
      "UPS     1762 non-null float64\n",
      "dtypes: float64(12)\n",
      "memory usage: 179.0 KB\n",
      "None\n"
     ]
    }
   ],
   "source": [
    "# Inspect stock_prices here\n",
    "print(stock_prices.info())"
   ],
   "metadata": {
    "collapsed": false,
    "pycharm": {
     "name": "#%%\n"
    }
   }
  },
  {
   "cell_type": "code",
   "execution_count": 159,
   "outputs": [],
   "source": [
    "# Calculate the daily returns\n",
    "returns = stock_prices.pct_change()"
   ],
   "metadata": {
    "collapsed": false,
    "pycharm": {
     "name": "#%%\n"
    }
   }
  },
  {
   "cell_type": "code",
   "execution_count": 160,
   "outputs": [
    {
     "name": "stdout",
     "output_type": "stream",
     "text": [
      "          AAPL      AMGN      AMZN      CPRT        EL        GS      ILMN  \\\n",
      "AAPL  1.000000  0.286898  0.327611  0.346616  0.306770  0.344981  0.264791   \n",
      "AMGN  0.286898  1.000000  0.323408  0.355892  0.349893  0.390076  0.336927   \n",
      "AMZN  0.327611  0.323408  1.000000  0.298929  0.334031  0.333402  0.242726   \n",
      "CPRT  0.346616  0.355892  0.298929  1.000000  0.371763  0.423160  0.265665   \n",
      "EL    0.306770  0.349893  0.334031  0.371763  1.000000  0.358318  0.214027   \n",
      "GS    0.344981  0.390076  0.333402  0.423160  0.358318  1.000000  0.266063   \n",
      "ILMN  0.264791  0.336927  0.242726  0.265665  0.214027  0.266063  1.000000   \n",
      "MA    0.391421  0.400230  0.428330  0.401352  0.431556  0.466796  0.301392   \n",
      "PAA   0.212960  0.229255  0.182438  0.221273  0.206056  0.271982  0.162796   \n",
      "RIO   0.361684  0.313878  0.326229  0.384944  0.415416  0.527298  0.234445   \n",
      "TEF   0.325309  0.374555  0.331867  0.376767  0.428925  0.498230  0.231173   \n",
      "UPS   0.366039  0.432468  0.378399  0.462716  0.456952  0.506407  0.267801   \n",
      "\n",
      "            MA       PAA       RIO       TEF       UPS  \n",
      "AAPL  0.391421  0.212960  0.361684  0.325309  0.366039  \n",
      "AMGN  0.400230  0.229255  0.313878  0.374555  0.432468  \n",
      "AMZN  0.428330  0.182438  0.326229  0.331867  0.378399  \n",
      "CPRT  0.401352  0.221273  0.384944  0.376767  0.462716  \n",
      "EL    0.431556  0.206056  0.415416  0.428925  0.456952  \n",
      "GS    0.466796  0.271982  0.527298  0.498230  0.506407  \n",
      "ILMN  0.301392  0.162796  0.234445  0.231173  0.267801  \n",
      "MA    1.000000  0.243761  0.437778  0.448438  0.486512  \n",
      "PAA   0.243761  1.000000  0.337448  0.253598  0.217523  \n",
      "RIO   0.437778  0.337448  1.000000  0.559264  0.509809  \n",
      "TEF   0.448438  0.253598  0.559264  1.000000  0.516242  \n",
      "UPS   0.486512  0.217523  0.509809  0.516242  1.000000  \n"
     ]
    }
   ],
   "source": [
    "# Calculate and print the pairwise correlations\n",
    "correlations = returns.corr()\n",
    "print(correlations)"
   ],
   "metadata": {
    "collapsed": false,
    "pycharm": {
     "name": "#%%\n"
    }
   }
  },
  {
   "cell_type": "code",
   "execution_count": 162,
   "outputs": [
    {
     "data": {
      "text/plain": "<Figure size 720x360 with 2 Axes>",
      "image/png": "[encoded data removed]"
     },
     "metadata": {
      "needs_background": "light"
     },
     "output_type": "display_data"
    }
   ],
   "source": [
    "# Plot a heatmap of daily return correlations\n",
    "plt.figure(figsize = (10,5))\n",
    "sns.heatmap(correlations, annot=True)\n",
    "plt.title('Daily Return Correlations');"
   ],
   "metadata": {
    "collapsed": false,
    "pycharm": {
     "name": "#%%\n"
    }
   }
  },
  {
   "cell_type": "markdown",
   "source": [
    "### Save your analysis to multiple excel worksheets\n",
    "Now that you have completed your analysis, you may want to save all results into a single Excel workbook.\n",
    "\n",
    "Let's practice exporting various DataFrame to multiple Excel worksheets."
   ],
   "metadata": {
    "collapsed": false,
    "pycharm": {
     "name": "#%% md\n"
    }
   }
  },
  {
   "cell_type": "code",
   "execution_count": 169,
   "outputs": [],
   "source": [
    "data = index.to_frame(name='Index')"
   ],
   "metadata": {
    "collapsed": false,
    "pycharm": {
     "name": "#%%\n"
    }
   }
  },
  {
   "cell_type": "code",
   "execution_count": 170,
   "outputs": [
    {
     "name": "stdout",
     "output_type": "stream",
     "text": [
      "<class 'pandas.core.frame.DataFrame'>\n",
      "DatetimeIndex: 1762 entries, 2010-01-04 to 2016-12-30\n",
      "Data columns (total 1 columns):\n",
      "Index    1762 non-null float64\n",
      "dtypes: float64(1)\n",
      "memory usage: 27.5 KB\n",
      "None\n",
      "<class 'pandas.core.frame.DataFrame'>\n",
      "DatetimeIndex: 1762 entries, 2010-01-04 to 2016-12-30\n",
      "Data columns (total 12 columns):\n",
      "AAPL    1761 non-null float64\n",
      "AMGN    1761 non-null float64\n",
      "AMZN    1761 non-null float64\n",
      "CPRT    1761 non-null float64\n",
      "EL      1762 non-null float64\n",
      "GS      1762 non-null float64\n",
      "ILMN    1761 non-null float64\n",
      "MA      1762 non-null float64\n",
      "PAA     1762 non-null float64\n",
      "RIO     1762 non-null float64\n",
      "TEF     1762 non-null float64\n",
      "UPS     1762 non-null float64\n",
      "dtypes: float64(12)\n",
      "memory usage: 179.0 KB\n",
      "None\n"
     ]
    }
   ],
   "source": [
    "# Inspect index and stock_prices\n",
    "print(data.info())\n",
    "print(stock_prices.info())"
   ],
   "metadata": {
    "collapsed": false,
    "pycharm": {
     "name": "#%%\n"
    }
   }
  },
  {
   "cell_type": "code",
   "execution_count": 171,
   "outputs": [
    {
     "name": "stdout",
     "output_type": "stream",
     "text": [
      "<class 'pandas.core.frame.DataFrame'>\n",
      "DatetimeIndex: 1762 entries, 2010-01-04 to 2016-12-30\n",
      "Data columns (total 13 columns):\n",
      "AAPL     1761 non-null float64\n",
      "AMGN     1761 non-null float64\n",
      "AMZN     1761 non-null float64\n",
      "CPRT     1761 non-null float64\n",
      "EL       1762 non-null float64\n",
      "GS       1762 non-null float64\n",
      "ILMN     1761 non-null float64\n",
      "MA       1762 non-null float64\n",
      "PAA      1762 non-null float64\n",
      "RIO      1762 non-null float64\n",
      "TEF      1762 non-null float64\n",
      "UPS      1762 non-null float64\n",
      "Index    1762 non-null float64\n",
      "dtypes: float64(13)\n",
      "memory usage: 192.7 KB\n",
      "None\n"
     ]
    }
   ],
   "source": [
    "# Join index to stock_prices, and inspect the result\n",
    "data = stock_prices.join(data)\n",
    "print(data.info())"
   ],
   "metadata": {
    "collapsed": false,
    "pycharm": {
     "name": "#%%\n"
    }
   }
  },
  {
   "cell_type": "code",
   "execution_count": 172,
   "outputs": [],
   "source": [
    "# Create index & stock price returns\n",
    "returns = data.pct_change()"
   ],
   "metadata": {
    "collapsed": false,
    "pycharm": {
     "name": "#%%\n"
    }
   }
  },
  {
   "cell_type": "code",
   "execution_count": 174,
   "outputs": [],
   "source": [
    "# Export data and data as returns to excel\n",
    "with pd.ExcelWriter('data.xls', engine='openpyxl') as writer:\n",
    "    data.to_excel(excel_writer=writer, sheet_name='data')\n",
    "    returns.to_excel(excel_writer=writer, sheet_name='returns')"
   ],
   "metadata": {
    "collapsed": false,
    "pycharm": {
     "name": "#%%\n"
    }
   }
  },
  {
   "cell_type": "code",
   "execution_count": null,
   "outputs": [],
   "source": [],
   "metadata": {
    "collapsed": false,
    "pycharm": {
     "name": "#%%\n"
    }
   }
  }
 ],
 "metadata": {
  "kernelspec": {
   "display_name": "Python 3",
   "language": "python",
   "name": "python3"
  },
  "language_info": {
   "codemirror_mode": {
    "name": "ipython",
    "version": 2
   },
   "file_extension": ".py",
   "mimetype": "text/x-python",
   "name": "python",
   "nbconvert_exporter": "python",
   "pygments_lexer": "ipython2",
   "version": "2.7.6"
  }
 },
 "nbformat": 4,
 "nbformat_minor": 0
}