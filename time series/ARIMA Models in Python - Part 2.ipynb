{
 "cells": [
  {
   "cell_type": "markdown",
   "metadata": {
    "collapsed": true,
    "pycharm": {
     "name": "#%% md\n"
    }
   },
   "source": [
    "# ARIMA Models in Python - Part 2"
   ]
  },
  {
   "cell_type": "code",
   "execution_count": 58,
   "outputs": [],
   "source": [
    "import pandas as pd\n",
    "import numpy as np\n",
    "import matplotlib.pyplot as plt\n",
    "\n",
    "from statsmodels.tsa.arima_model import ARMA\n",
    "from statsmodels.tsa.statespace.sarimax import SARIMAX\n",
    "\n",
    "%matplotlib inline"
   ],
   "metadata": {
    "collapsed": false,
    "pycharm": {
     "name": "#%%\n"
    }
   }
  },
  {
   "cell_type": "markdown",
   "source": [
    "## Datasets"
   ],
   "metadata": {
    "collapsed": false,
    "pycharm": {
     "name": "#%% md\n"
    }
   }
  },
  {
   "cell_type": "markdown",
   "source": [
    "### Earthquake"
   ],
   "metadata": {
    "collapsed": false,
    "pycharm": {
     "name": "#%% md\n"
    }
   }
  },
  {
   "cell_type": "code",
   "execution_count": 4,
   "outputs": [],
   "source": [
    "earthquake_dataset = pd.read_csv('../datasets/time series/earthquakes.csv', index_col='date', parse_dates=True)"
   ],
   "metadata": {
    "collapsed": false,
    "pycharm": {
     "name": "#%%\n"
    }
   }
  },
  {
   "cell_type": "markdown",
   "source": [
    "### Hospital"
   ],
   "metadata": {
    "collapsed": false,
    "pycharm": {
     "name": "#%% md\n"
    }
   }
  },
  {
   "cell_type": "code",
   "execution_count": 48,
   "outputs": [],
   "source": [
    "hospital_dataset = pd.read_csv('../datasets/time series/hospital.csv', index_col=0, parse_dates=True)"
   ],
   "metadata": {
    "collapsed": false,
    "pycharm": {
     "name": "#%%\n"
    }
   }
  },
  {
   "cell_type": "markdown",
   "source": [
    "### Amazon Close"
   ],
   "metadata": {
    "collapsed": false,
    "pycharm": {
     "name": "#%% md\n"
    }
   }
  },
  {
   "cell_type": "code",
   "execution_count": 71,
   "outputs": [],
   "source": [
    "amazon_dataset = pd.read_csv('../datasets/time series/amazon_close.csv', index_col='date', parse_dates=['date'])\n",
    "amazon_dataset = amazon_dataset.iloc[::-1]"
   ],
   "metadata": {
    "collapsed": false,
    "pycharm": {
     "name": "#%%\n"
    }
   }
  },
  {
   "cell_type": "markdown",
   "source": [
    "## Fitting the Future\n",
    "What lies ahead in this chapter is you predicting what lies ahead in your data. You'll learn how to use the elegant statsmodels package to fit ARMA, ARIMA and ARMAX models. Then you'll use your models to predict the uncertain future of stock prices!"
   ],
   "metadata": {
    "collapsed": false,
    "pycharm": {
     "name": "#%% md\n"
    }
   }
  },
  {
   "cell_type": "markdown",
   "source": [
    "### Fitting AR and MA models\n",
    "In this exercise you will fit an AR and an MA model to some data. The data here has been generated using the `arma_generate_sample()` function we used before.\n",
    "\n",
    "You know the real AR and MA parameters used to create this data so it is a really good way to gain some confidence with ARMA models and know you are doing it right. In the next exercise you'll move onto some real world data with confidence.\n",
    "\n",
    "There is a `pandas` DataFrame available in your environment called `sample`. It has two columns of different time series data."
   ],
   "metadata": {
    "collapsed": false,
    "pycharm": {
     "name": "#%% md\n"
    }
   }
  },
  {
   "cell_type": "code",
   "execution_count": 39,
   "outputs": [],
   "source": [
    "earthquake = earthquake_dataset.copy()[['earthquakes_per_year']]"
   ],
   "metadata": {
    "collapsed": false,
    "pycharm": {
     "name": "#%%\n"
    }
   }
  },
  {
   "cell_type": "markdown",
   "source": [
    "- Fit an AR(2) model to the `'timeseries_1'` column of `sample`.\n",
    "- Print a summary of the fitted model."
   ],
   "metadata": {
    "collapsed": false,
    "pycharm": {
     "name": "#%% md\n"
    }
   }
  },
  {
   "cell_type": "code",
   "execution_count": 40,
   "outputs": [
    {
     "name": "stderr",
     "output_type": "stream",
     "text": [
      "/Users/lukasz/.conda/envs/data-camp/lib/python3.8/site-packages/statsmodels/tsa/base/tsa_model.py:159: ValueWarning: No frequency information was provided, so inferred frequency AS-JAN will be used.\n",
      "  warnings.warn('No frequency information was'\n"
     ]
    }
   ],
   "source": [
    "# Instantiate the model\n",
    "model = ARMA(earthquake, order=(2, 0))"
   ],
   "metadata": {
    "collapsed": false,
    "pycharm": {
     "name": "#%%\n"
    }
   }
  },
  {
   "cell_type": "code",
   "execution_count": 41,
   "outputs": [],
   "source": [
    "# Fit the model\n",
    "results = model.fit()"
   ],
   "metadata": {
    "collapsed": false,
    "pycharm": {
     "name": "#%%\n"
    }
   }
  },
  {
   "cell_type": "code",
   "execution_count": 42,
   "outputs": [
    {
     "name": "stdout",
     "output_type": "stream",
     "text": [
      "                               ARMA Model Results                               \n",
      "================================================================================\n",
      "Dep. Variable:     earthquakes_per_year   No. Observations:                   99\n",
      "Model:                       ARMA(2, 0)   Log Likelihood                -317.367\n",
      "Method:                         css-mle   S.D. of innovations              5.958\n",
      "Date:                  Wed, 29 Dec 2021   AIC                            642.734\n",
      "Time:                          22:10:52   BIC                            653.114\n",
      "Sample:                      01-01-1900   HQIC                           646.934\n",
      "                           - 01-01-1998                                         \n",
      "==============================================================================================\n",
      "                                 coef    std err          z      P>|z|      [0.025      0.975]\n",
      "----------------------------------------------------------------------------------------------\n",
      "const                         19.8146      1.563     12.674      0.000      16.750      22.879\n",
      "ar.L1.earthquakes_per_year     0.4457      0.098      4.528      0.000       0.253       0.639\n",
      "ar.L2.earthquakes_per_year     0.1788      0.099      1.815      0.070      -0.014       0.372\n",
      "                                    Roots                                    \n",
      "=============================================================================\n",
      "                  Real          Imaginary           Modulus         Frequency\n",
      "-----------------------------------------------------------------------------\n",
      "AR.1            1.4269           +0.0000j            1.4269            0.0000\n",
      "AR.2           -3.9192           +0.0000j            3.9192            0.5000\n",
      "-----------------------------------------------------------------------------\n"
     ]
    }
   ],
   "source": [
    "# Print summary\n",
    "print(results.summary())"
   ],
   "metadata": {
    "collapsed": false,
    "pycharm": {
     "name": "#%%\n"
    }
   }
  },
  {
   "cell_type": "markdown",
   "source": [
    "Using the information in the summary printed, which of the following set of parameters do you think was used to generate the 'timeseries_1' data?"
   ],
   "metadata": {
    "collapsed": false,
    "pycharm": {
     "name": "#%% md\n"
    }
   }
  },
  {
   "cell_type": "code",
   "execution_count": 43,
   "outputs": [],
   "source": [
    "ar_coefs = [1, -0.4, -0.2]\n",
    "ma_coefs = [1]"
   ],
   "metadata": {
    "collapsed": false,
    "pycharm": {
     "name": "#%%\n"
    }
   }
  },
  {
   "cell_type": "markdown",
   "source": [
    "- Fit an MA(3) model to the `'timeseries_2'` column of `sample`."
   ],
   "metadata": {
    "collapsed": false,
    "pycharm": {
     "name": "#%% md\n"
    }
   }
  },
  {
   "cell_type": "code",
   "execution_count": 44,
   "outputs": [
    {
     "name": "stderr",
     "output_type": "stream",
     "text": [
      "/Users/lukasz/.conda/envs/data-camp/lib/python3.8/site-packages/statsmodels/tsa/base/tsa_model.py:159: ValueWarning: No frequency information was provided, so inferred frequency AS-JAN will be used.\n",
      "  warnings.warn('No frequency information was'\n"
     ]
    }
   ],
   "source": [
    "# Instantiate the model\n",
    "model = ARMA(earthquake, order=(0, 3))"
   ],
   "metadata": {
    "collapsed": false,
    "pycharm": {
     "name": "#%%\n"
    }
   }
  },
  {
   "cell_type": "code",
   "execution_count": 45,
   "outputs": [],
   "source": [
    "# Fit the model\n",
    "results = model.fit()"
   ],
   "metadata": {
    "collapsed": false,
    "pycharm": {
     "name": "#%%\n"
    }
   }
  },
  {
   "cell_type": "code",
   "execution_count": 46,
   "outputs": [
    {
     "name": "stdout",
     "output_type": "stream",
     "text": [
      "                               ARMA Model Results                               \n",
      "================================================================================\n",
      "Dep. Variable:     earthquakes_per_year   No. Observations:                   99\n",
      "Model:                       ARMA(0, 3)   Log Likelihood                -318.965\n",
      "Method:                         css-mle   S.D. of innovations              6.056\n",
      "Date:                  Wed, 29 Dec 2021   AIC                            647.931\n",
      "Time:                          22:10:56   BIC                            660.906\n",
      "Sample:                      01-01-1900   HQIC                           653.181\n",
      "                           - 01-01-1998                                         \n",
      "==============================================================================================\n",
      "                                 coef    std err          z      P>|z|      [0.025      0.975]\n",
      "----------------------------------------------------------------------------------------------\n",
      "const                         19.9295      1.152     17.297      0.000      17.671      22.188\n",
      "ma.L1.earthquakes_per_year     0.3982      0.102      3.913      0.000       0.199       0.598\n",
      "ma.L2.earthquakes_per_year     0.2324      0.088      2.627      0.009       0.059       0.406\n",
      "ma.L3.earthquakes_per_year     0.2793      0.117      2.393      0.017       0.051       0.508\n",
      "                                    Roots                                    \n",
      "=============================================================================\n",
      "                  Real          Imaginary           Modulus         Frequency\n",
      "-----------------------------------------------------------------------------\n",
      "MA.1           -1.4891           -0.0000j            1.4891           -0.5000\n",
      "MA.2            0.3286           -1.5154j            1.5506           -0.2160\n",
      "MA.3            0.3286           +1.5154j            1.5506            0.2160\n",
      "-----------------------------------------------------------------------------\n"
     ]
    }
   ],
   "source": [
    "# Print summary\n",
    "print(results.summary())"
   ],
   "metadata": {
    "collapsed": false,
    "pycharm": {
     "name": "#%%\n"
    }
   }
  },
  {
   "cell_type": "markdown",
   "source": [
    "Using the information in the summary printed, which of the following set of parameters do you think was used to generate the 'timeseries_2' data?"
   ],
   "metadata": {
    "collapsed": false,
    "pycharm": {
     "name": "#%% md\n"
    }
   }
  },
  {
   "cell_type": "code",
   "execution_count": 47,
   "outputs": [],
   "source": [
    "ar_coefs = [1]\n",
    "ma_coefs = [1, 0.4, 0.2, 0.3]"
   ],
   "metadata": {
    "collapsed": false,
    "pycharm": {
     "name": "#%%\n"
    }
   }
  },
  {
   "cell_type": "markdown",
   "source": [
    "### Fitting an ARMA model\n",
    "In this exercise you will fit an ARMA model to the earthquakes dataset. You saw before that the earthquakes dataset is stationary so you don't need to transform it at all. It comes ready for modeling straight out the ground. You can remind yourself what it looks like below.\n",
    "\n",
    "\n",
    "\n",
    "The earthquakes dataset is available in your environment as earthquake. The ARMA class is also available in your environment."
   ],
   "metadata": {
    "collapsed": false,
    "pycharm": {
     "name": "#%% md\n"
    }
   }
  },
  {
   "cell_type": "code",
   "execution_count": 32,
   "outputs": [],
   "source": [
    "earthquake = earthquake_dataset.copy()[['earthquakes_per_year']]"
   ],
   "metadata": {
    "collapsed": false,
    "pycharm": {
     "name": "#%%\n"
    }
   }
  },
  {
   "cell_type": "code",
   "execution_count": 33,
   "outputs": [
    {
     "name": "stderr",
     "output_type": "stream",
     "text": [
      "/Users/lukasz/.conda/envs/data-camp/lib/python3.8/site-packages/statsmodels/tsa/base/tsa_model.py:159: ValueWarning: No frequency information was provided, so inferred frequency AS-JAN will be used.\n",
      "  warnings.warn('No frequency information was'\n"
     ]
    }
   ],
   "source": [
    "# Instantiate the model\n",
    "model = ARMA(earthquake, order=(3, 1))"
   ],
   "metadata": {
    "collapsed": false,
    "pycharm": {
     "name": "#%%\n"
    }
   }
  },
  {
   "cell_type": "code",
   "execution_count": 34,
   "outputs": [],
   "source": [
    "# Fit the model\n",
    "results = model.fit()"
   ],
   "metadata": {
    "collapsed": false,
    "pycharm": {
     "name": "#%%\n"
    }
   }
  },
  {
   "cell_type": "code",
   "execution_count": 35,
   "outputs": [
    {
     "name": "stdout",
     "output_type": "stream",
     "text": [
      "                               ARMA Model Results                               \n",
      "================================================================================\n",
      "Dep. Variable:     earthquakes_per_year   No. Observations:                   99\n",
      "Model:                       ARMA(3, 1)   Log Likelihood                -315.673\n",
      "Method:                         css-mle   S.D. of innovations              5.853\n",
      "Date:                  Wed, 29 Dec 2021   AIC                            643.345\n",
      "Time:                          22:06:49   BIC                            658.916\n",
      "Sample:                      01-01-1900   HQIC                           649.645\n",
      "                           - 01-01-1998                                         \n",
      "==============================================================================================\n",
      "                                 coef    std err          z      P>|z|      [0.025      0.975]\n",
      "----------------------------------------------------------------------------------------------\n",
      "const                         19.6452      1.929     10.183      0.000      15.864      23.426\n",
      "ar.L1.earthquakes_per_year     0.5794      0.416      1.393      0.164      -0.236       1.394\n",
      "ar.L2.earthquakes_per_year     0.0251      0.208      0.121      0.904      -0.382       0.433\n",
      "ar.L3.earthquakes_per_year     0.1519      0.131      1.162      0.245      -0.104       0.408\n",
      "ma.L1.earthquakes_per_year    -0.1720      0.416     -0.413      0.679      -0.988       0.644\n",
      "                                    Roots                                    \n",
      "=============================================================================\n",
      "                  Real          Imaginary           Modulus         Frequency\n",
      "-----------------------------------------------------------------------------\n",
      "AR.1            1.2047           -0.0000j            1.2047           -0.0000\n",
      "AR.2           -0.6850           -2.2352j            2.3378           -0.2973\n",
      "AR.3           -0.6850           +2.2352j            2.3378            0.2973\n",
      "MA.1            5.8139           +0.0000j            5.8139            0.0000\n",
      "-----------------------------------------------------------------------------\n"
     ]
    }
   ],
   "source": [
    "# Print model fit summary\n",
    "print(results.summary())"
   ],
   "metadata": {
    "collapsed": false,
    "pycharm": {
     "name": "#%%\n"
    }
   }
  },
  {
   "cell_type": "markdown",
   "source": [
    "### Fitting an ARMAX model\n",
    "In this exercise you will fit an ARMAX model to a time series which represents the wait times at an accident and emergency room for urgent medical care.\n",
    "\n",
    "The variable you would like to model is the wait times to be seen by a medical professional wait_times_hrs. This may be related to an exogenous variable that you measured nurse_count which is the number of nurses on shift at any given time. These can be seen below.\n",
    "\n",
    "\n",
    "\n",
    "This is a particularly interesting case of time series modeling as, if the number of nurses has an effect, you could change this to affect the wait times.\n",
    "\n",
    "The time series data is available in your environment as hospital and has the two columns mentioned above. The ARMA class is also available for you."
   ],
   "metadata": {
    "collapsed": false,
    "pycharm": {
     "name": "#%% md\n"
    }
   }
  },
  {
   "cell_type": "code",
   "execution_count": 50,
   "outputs": [],
   "source": [
    "hospital = hospital_dataset.copy()"
   ],
   "metadata": {
    "collapsed": false,
    "pycharm": {
     "name": "#%%\n"
    }
   }
  },
  {
   "cell_type": "code",
   "execution_count": 52,
   "outputs": [
    {
     "data": {
      "text/plain": "<Figure size 720x360 with 2 Axes>",
      "image/png": "[encoded data removed]"
     },
     "metadata": {
      "needs_background": "light"
     },
     "output_type": "display_data"
    }
   ],
   "source": [
    "hospital.plot(subplots=True, figsize=(10, 5));"
   ],
   "metadata": {
    "collapsed": false,
    "pycharm": {
     "name": "#%%\n"
    }
   }
  },
  {
   "cell_type": "code",
   "execution_count": 53,
   "outputs": [
    {
     "name": "stderr",
     "output_type": "stream",
     "text": [
      "/Users/lukasz/.conda/envs/data-camp/lib/python3.8/site-packages/statsmodels/tsa/base/tsa_model.py:159: ValueWarning: No frequency information was provided, so inferred frequency H will be used.\n",
      "  warnings.warn('No frequency information was'\n"
     ]
    }
   ],
   "source": [
    "# Instantiate the model\n",
    "model = ARMA(hospital['wait_times_hrs'], order=(2, 1), exog=hospital['nurse_count'])"
   ],
   "metadata": {
    "collapsed": false,
    "pycharm": {
     "name": "#%%\n"
    }
   }
  },
  {
   "cell_type": "code",
   "execution_count": 54,
   "outputs": [],
   "source": [
    "# Fit the model\n",
    "results = model.fit()"
   ],
   "metadata": {
    "collapsed": false,
    "pycharm": {
     "name": "#%%\n"
    }
   }
  },
  {
   "cell_type": "code",
   "execution_count": 55,
   "outputs": [
    {
     "name": "stdout",
     "output_type": "stream",
     "text": [
      "                              ARMA Model Results                              \n",
      "==============================================================================\n",
      "Dep. Variable:         wait_times_hrs   No. Observations:                  168\n",
      "Model:                     ARMA(2, 1)   Log Likelihood                 -11.834\n",
      "Method:                       css-mle   S.D. of innovations              0.259\n",
      "Date:                Wed, 29 Dec 2021   AIC                             35.668\n",
      "Time:                        22:31:30   BIC                             54.411\n",
      "Sample:                    03-04-2019   HQIC                            43.275\n",
      "                         - 03-10-2019                                         \n",
      "========================================================================================\n",
      "                           coef    std err          z      P>|z|      [0.025      0.975]\n",
      "----------------------------------------------------------------------------------------\n",
      "const                    2.1000      0.086     24.293      0.000       1.931       2.269\n",
      "nurse_count             -0.1171      0.013     -9.054      0.000      -0.142      -0.092\n",
      "ar.L1.wait_times_hrs     0.5693      0.164      3.468      0.001       0.248       0.891\n",
      "ar.L2.wait_times_hrs    -0.1612      0.131     -1.226      0.220      -0.419       0.096\n",
      "ma.L1.wait_times_hrs     0.3728      0.157      2.375      0.018       0.065       0.680\n",
      "                                    Roots                                    \n",
      "=============================================================================\n",
      "                  Real          Imaginary           Modulus         Frequency\n",
      "-----------------------------------------------------------------------------\n",
      "AR.1            1.7656           -1.7566j            2.4906           -0.1246\n",
      "AR.2            1.7656           +1.7566j            2.4906            0.1246\n",
      "MA.1           -2.6827           +0.0000j            2.6827            0.5000\n",
      "-----------------------------------------------------------------------------\n"
     ]
    }
   ],
   "source": [
    "# Print model fit summary\n",
    "print(results.summary())"
   ],
   "metadata": {
    "collapsed": false,
    "pycharm": {
     "name": "#%%\n"
    }
   }
  },
  {
   "cell_type": "markdown",
   "source": [
    "### Generating one-step-ahead predictions\n",
    "It is very hard to forecast stock prices. Classic economics actually tells us that this should be impossible because of market clearing.\n",
    "\n",
    "Your task in this exercise is to attempt the impossible and predict the Amazon stock price anyway.\n",
    "\n",
    "In this exercise you will generate one-step-ahead predictions for the stock price as well as the uncertainty of these predictions.\n",
    "\n",
    "A model has already been fitted to the Amazon data for you. The results object from this model is available in your environment as results."
   ],
   "metadata": {
    "collapsed": false,
    "pycharm": {
     "name": "#%% md\n"
    }
   }
  },
  {
   "cell_type": "code",
   "execution_count": 110,
   "outputs": [],
   "source": [
    "amazon = amazon_dataset.copy()\n",
    "amazon = amazon.loc['2018':]"
   ],
   "metadata": {
    "collapsed": false,
    "pycharm": {
     "name": "#%%\n"
    }
   }
  },
  {
   "cell_type": "code",
   "execution_count": 111,
   "outputs": [
    {
     "name": "stderr",
     "output_type": "stream",
     "text": [
      "/Users/lukasz/.conda/envs/data-camp/lib/python3.8/site-packages/statsmodels/tsa/base/tsa_model.py:216: ValueWarning: A date index has been provided, but it has no associated frequency information and so will be ignored when e.g. forecasting.\n",
      "  warnings.warn('A date index has been provided, but it has no'\n",
      "/Users/lukasz/.conda/envs/data-camp/lib/python3.8/site-packages/statsmodels/tsa/base/tsa_model.py:216: ValueWarning: A date index has been provided, but it has no associated frequency information and so will be ignored when e.g. forecasting.\n",
      "  warnings.warn('A date index has been provided, but it has no'\n",
      "/Users/lukasz/.conda/envs/data-camp/lib/python3.8/site-packages/statsmodels/base/model.py:567: ConvergenceWarning: Maximum Likelihood optimization failed to converge. Check mle_retvals\n",
      "  warn(\"Maximum Likelihood optimization failed to converge. \"\n"
     ]
    }
   ],
   "source": [
    "model = SARIMAX(amazon, order=(3, 1, 3), seasonal_order=(1, 0, 1, 7), trend='c')\n",
    "results = model.fit()"
   ],
   "metadata": {
    "collapsed": false,
    "pycharm": {
     "name": "#%%\n"
    }
   }
  },
  {
   "cell_type": "code",
   "execution_count": 112,
   "outputs": [],
   "source": [
    "# Generate predictions\n",
    "one_step_forecast = results.get_prediction(start=-30)"
   ],
   "metadata": {
    "collapsed": false,
    "pycharm": {
     "name": "#%%\n"
    }
   }
  },
  {
   "cell_type": "code",
   "execution_count": 113,
   "outputs": [],
   "source": [
    "# Extract prediction mean\n",
    "mean_forecast = one_step_forecast.predicted_mean"
   ],
   "metadata": {
    "collapsed": false,
    "pycharm": {
     "name": "#%%\n"
    }
   }
  },
  {
   "cell_type": "code",
   "execution_count": 114,
   "outputs": [],
   "source": [
    "# Get confidence intervals of  predictions\n",
    "confidence_intervals = one_step_forecast.conf_int()"
   ],
   "metadata": {
    "collapsed": false,
    "pycharm": {
     "name": "#%%\n"
    }
   }
  },
  {
   "cell_type": "code",
   "execution_count": 115,
   "outputs": [],
   "source": [
    "# Select lower and upper confidence limits\n",
    "lower_limits = confidence_intervals.loc[:,'lower close']\n",
    "upper_limits = confidence_intervals.loc[:,'upper close']"
   ],
   "metadata": {
    "collapsed": false,
    "pycharm": {
     "name": "#%%\n"
    }
   }
  },
  {
   "cell_type": "code",
   "execution_count": 116,
   "outputs": [
    {
     "name": "stdout",
     "output_type": "stream",
     "text": [
      "date\n",
      "2018-12-27    1476.606140\n",
      "2018-12-28    1462.160232\n",
      "2018-12-31    1468.406067\n",
      "2019-01-02    1497.953818\n",
      "2019-01-03    1539.545952\n",
      "2019-01-04    1509.834297\n",
      "2019-01-07    1581.600965\n",
      "2019-01-08    1629.539162\n",
      "2019-01-09    1647.120393\n",
      "2019-01-10    1648.161638\n",
      "2019-01-11    1655.134472\n",
      "2019-01-14    1651.871752\n",
      "2019-01-15    1625.445592\n",
      "2019-01-16    1672.506518\n",
      "2019-01-17    1672.079718\n",
      "2019-01-18    1681.349076\n",
      "2019-01-22    1690.564252\n",
      "2019-01-23    1641.608687\n",
      "2019-01-24    1658.569467\n",
      "2019-01-25    1654.768466\n",
      "2019-01-28    1660.452068\n",
      "2019-01-29    1620.777729\n",
      "2019-01-30    1589.031447\n",
      "2019-01-31    1679.813462\n",
      "2019-02-01    1727.076124\n",
      "2019-02-04    1633.137468\n",
      "2019-02-05    1633.766730\n",
      "2019-02-06    1647.603501\n",
      "2019-02-07    1633.476070\n",
      "2019-02-08    1606.502562\n",
      "dtype: float64\n"
     ]
    }
   ],
   "source": [
    "# Print best estimate  predictions\n",
    "print(mean_forecast)"
   ],
   "metadata": {
    "collapsed": false,
    "pycharm": {
     "name": "#%%\n"
    }
   }
  },
  {
   "cell_type": "markdown",
   "source": [
    "### Plotting one-step-ahead predictions\n",
    "Now that you have your predictions on the Amazon stock, you should plot these predictions to see how you've done.\n",
    "\n",
    "You made predictions over the latest 30 days of data available, always forecasting just one day ahead. By evaluating these predictions you can judge how the model performs in making predictions for just the next day, where you don't know the answer.\n",
    "\n",
    "The lower_limits, upper_limits and amazon DataFrames as well as your mean prediction mean_forecast that you created in the last exercise are available in your environment."
   ],
   "metadata": {
    "collapsed": false,
    "pycharm": {
     "name": "#%% md\n"
    }
   }
  },
  {
   "cell_type": "code",
   "execution_count": 117,
   "outputs": [
    {
     "data": {
      "text/plain": "<Figure size 720x360 with 1 Axes>",
      "image/png": "[encoded data removed]"
     },
     "metadata": {
      "needs_background": "light"
     },
     "output_type": "display_data"
    }
   ],
   "source": [
    "plt.figure(figsize=(10, 5))\n",
    "\n",
    "# plot the amazon data\n",
    "plt.plot(amazon.index, amazon, label='observed')\n",
    "\n",
    "# plot your mean predictions\n",
    "plt.plot(mean_forecast.index, mean_forecast, color='r', label='forecast')\n",
    "\n",
    "# shade the area between your confidence limits\n",
    "plt.fill_between(lower_limits.index, lower_limits, upper_limits,\n",
    "\t\t color='pink')\n",
    "\n",
    "# set labels, legends and show plot\n",
    "plt.xlabel('Date')\n",
    "plt.ylabel('Amazon Stock Price - Close USD')\n",
    "plt.legend()\n",
    "plt.show()"
   ],
   "metadata": {
    "collapsed": false,
    "pycharm": {
     "name": "#%%\n"
    }
   }
  },
  {
   "cell_type": "markdown",
   "source": [
    "### Generating dynamic forecasts\n",
    "Now lets move a little further into the future, to dynamic predictions. What if you wanted to predict the Amazon stock price, not just for tomorrow, but for next week or next month? This is where dynamical predictions come in.\n",
    "\n",
    "Remember that in the video you learned how it is more difficult to make precise long-term forecasts because the shock terms add up. The further into the future the predictions go, the more uncertain. This is especially true with stock data and so you will likely find that your predictions in this exercise are not as precise as those in the last exercise."
   ],
   "metadata": {
    "collapsed": false,
    "pycharm": {
     "name": "#%% md\n"
    }
   }
  },
  {
   "cell_type": "code",
   "execution_count": 118,
   "outputs": [],
   "source": [
    "# Generate predictions\n",
    "dynamic_forecast = results.get_prediction(start=-30, dynamic=True)"
   ],
   "metadata": {
    "collapsed": false,
    "pycharm": {
     "name": "#%%\n"
    }
   }
  },
  {
   "cell_type": "code",
   "execution_count": 119,
   "outputs": [],
   "source": [
    "# Extract prediction mean\n",
    "mean_forecast = dynamic_forecast.predicted_mean"
   ],
   "metadata": {
    "collapsed": false,
    "pycharm": {
     "name": "#%%\n"
    }
   }
  },
  {
   "cell_type": "code",
   "execution_count": 120,
   "outputs": [],
   "source": [
    "# Get confidence intervals of predictions\n",
    "confidence_intervals = dynamic_forecast.conf_int()"
   ],
   "metadata": {
    "collapsed": false,
    "pycharm": {
     "name": "#%%\n"
    }
   }
  },
  {
   "cell_type": "code",
   "execution_count": 121,
   "outputs": [],
   "source": [
    "# Select lower and upper confidence limits\n",
    "lower_limits = confidence_intervals.loc[:,'lower close']\n",
    "upper_limits = confidence_intervals.loc[:,'upper close']"
   ],
   "metadata": {
    "collapsed": false,
    "pycharm": {
     "name": "#%%\n"
    }
   }
  },
  {
   "cell_type": "code",
   "execution_count": 122,
   "outputs": [
    {
     "name": "stdout",
     "output_type": "stream",
     "text": [
      "date\n",
      "2018-12-27    1476.606140\n",
      "2018-12-28    1477.038578\n",
      "2018-12-31    1466.524392\n",
      "2019-01-02    1464.247119\n",
      "2019-01-03    1466.706134\n",
      "2019-01-04    1478.520442\n",
      "2019-01-07    1479.598638\n",
      "2019-01-08    1482.602967\n",
      "2019-01-09    1472.809493\n",
      "2019-01-10    1468.202641\n",
      "2019-01-11    1466.008482\n",
      "2019-01-14    1475.944459\n",
      "2019-01-15    1481.803499\n",
      "2019-01-16    1483.789144\n",
      "2019-01-17    1476.739260\n",
      "2019-01-18    1470.806852\n",
      "2019-01-22    1466.822314\n",
      "2019-01-23    1473.149112\n",
      "2019-01-24    1479.533447\n",
      "2019-01-25    1484.285281\n",
      "2019-01-28    1478.609691\n",
      "2019-01-29    1472.814028\n",
      "2019-01-30    1467.471681\n",
      "2019-01-31    1471.304572\n",
      "2019-02-01    1476.913830\n",
      "2019-02-04    1482.641845\n",
      "2019-02-05    1479.831318\n",
      "2019-02-06    1474.190502\n",
      "2019-02-07    1468.222210\n",
      "2019-02-08    1469.786536\n",
      "dtype: float64\n"
     ]
    }
   ],
   "source": [
    "# Print best estimate predictions\n",
    "print(mean_forecast)"
   ],
   "metadata": {
    "collapsed": false,
    "pycharm": {
     "name": "#%%\n"
    }
   }
  },
  {
   "cell_type": "markdown",
   "source": [
    "### Plotting dynamic forecasts\n",
    "Time to plot your predictions. Remember that making dynamic predictions, means that your model makes predictions with no corrections, unlike the one-step-ahead predictions. This is kind of like making a forecast now for the next 30 days, and then waiting to see what happens before comparing how good your predictions were.\n",
    "\n",
    "The lower_limits, upper_limits and amazon DataFrames as well as your mean predictions mean_forecast that you created in the last exercise are available in your environment."
   ],
   "metadata": {
    "collapsed": false,
    "pycharm": {
     "name": "#%% md\n"
    }
   }
  },
  {
   "cell_type": "code",
   "execution_count": 123,
   "outputs": [
    {
     "data": {
      "text/plain": "<Figure size 720x360 with 1 Axes>",
      "image/png": "[encoded data removed]"
     },
     "metadata": {
      "needs_background": "light"
     },
     "output_type": "display_data"
    }
   ],
   "source": [
    "plt.figure(figsize=(10, 5))\n",
    "\n",
    "# plot the amazon data\n",
    "plt.plot(amazon.index, amazon, label='observed')\n",
    "\n",
    "# plot your mean forecast\n",
    "plt.plot(mean_forecast.index, mean_forecast, color='r', label='forecast')\n",
    "\n",
    "# shade the area between your confidence limits\n",
    "plt.fill_between(lower_limits.index, lower_limits, upper_limits, color='pink')\n",
    "\n",
    "# set labels, legends and show plot\n",
    "plt.xlabel('Date')\n",
    "plt.ylabel('Amazon Stock Price - Close USD')\n",
    "plt.legend()\n",
    "plt.show()"
   ],
   "metadata": {
    "collapsed": false,
    "pycharm": {
     "name": "#%%\n"
    }
   }
  },
  {
   "cell_type": "markdown",
   "source": [
    "### Differencing and fitting ARMA\n",
    "In this exercise you will fit an ARMA model to the Amazon stocks dataset. As you saw before, this is a non-stationary dataset. You will use differencing to make it stationary so that you can fit an ARMA model.\n",
    "\n",
    "In the next section you'll make a forecast of the differences and use this to forecast the actual values.\n",
    "\n",
    "The Amazon stock time series in available in your environment as amazon. The SARIMAX model class is also available in your environment."
   ],
   "metadata": {
    "collapsed": false,
    "pycharm": {
     "name": "#%% md\n"
    }
   }
  },
  {
   "cell_type": "code",
   "execution_count": 124,
   "outputs": [],
   "source": [
    "# Take the first difference of the data\n",
    "amazon_diff = amazon.diff().dropna()"
   ],
   "metadata": {
    "collapsed": false,
    "pycharm": {
     "name": "#%%\n"
    }
   }
  },
  {
   "cell_type": "code",
   "execution_count": 125,
   "outputs": [
    {
     "name": "stderr",
     "output_type": "stream",
     "text": [
      "/Users/lukasz/.conda/envs/data-camp/lib/python3.8/site-packages/statsmodels/tsa/base/tsa_model.py:216: ValueWarning: A date index has been provided, but it has no associated frequency information and so will be ignored when e.g. forecasting.\n",
      "  warnings.warn('A date index has been provided, but it has no'\n",
      "/Users/lukasz/.conda/envs/data-camp/lib/python3.8/site-packages/statsmodels/tsa/base/tsa_model.py:216: ValueWarning: A date index has been provided, but it has no associated frequency information and so will be ignored when e.g. forecasting.\n",
      "  warnings.warn('A date index has been provided, but it has no'\n"
     ]
    }
   ],
   "source": [
    "# Create ARMA(2,2) model\n",
    "arma = SARIMAX(amazon_diff, order=(2, 0, 2))"
   ],
   "metadata": {
    "collapsed": false,
    "pycharm": {
     "name": "#%%\n"
    }
   }
  },
  {
   "cell_type": "code",
   "execution_count": 126,
   "outputs": [],
   "source": [
    "# Fit model\n",
    "arma_results = arma.fit()"
   ],
   "metadata": {
    "collapsed": false,
    "pycharm": {
     "name": "#%%\n"
    }
   }
  },
  {
   "cell_type": "code",
   "execution_count": 127,
   "outputs": [
    {
     "name": "stdout",
     "output_type": "stream",
     "text": [
      "                               SARIMAX Results                                \n",
      "==============================================================================\n",
      "Dep. Variable:                  close   No. Observations:                  277\n",
      "Model:               SARIMAX(2, 0, 2)   Log Likelihood               -1388.657\n",
      "Date:                Wed, 29 Dec 2021   AIC                           2787.314\n",
      "Time:                        23:50:10   BIC                           2805.434\n",
      "Sample:                             0   HQIC                          2794.584\n",
      "                                - 277                                         \n",
      "Covariance Type:                  opg                                         \n",
      "==============================================================================\n",
      "                 coef    std err          z      P>|z|      [0.025      0.975]\n",
      "------------------------------------------------------------------------------\n",
      "ar.L1          1.6525      0.033     50.775      0.000       1.589       1.716\n",
      "ar.L2         -0.9198      0.031    -29.502      0.000      -0.981      -0.859\n",
      "ma.L1         -1.7008      1.381     -1.231      0.218      -4.409       1.007\n",
      "ma.L2          0.9999      1.622      0.616      0.538      -2.180       4.180\n",
      "sigma2      1304.2413   2121.703      0.615      0.539   -2854.220    5462.703\n",
      "===================================================================================\n",
      "Ljung-Box (Q):                       35.89   Jarque-Bera (JB):                22.00\n",
      "Prob(Q):                              0.66   Prob(JB):                         0.00\n",
      "Heteroskedasticity (H):               3.22   Skew:                            -0.11\n",
      "Prob(H) (two-sided):                  0.00   Kurtosis:                         4.36\n",
      "===================================================================================\n",
      "\n",
      "Warnings:\n",
      "[1] Covariance matrix calculated using the outer product of gradients (complex-step).\n"
     ]
    }
   ],
   "source": [
    "# Print fit summary\n",
    "print(arma_results.summary())"
   ],
   "metadata": {
    "collapsed": false,
    "pycharm": {
     "name": "#%%\n"
    }
   }
  },
  {
   "cell_type": "markdown",
   "source": [
    "### Unrolling ARMA forecast\n",
    "Now you will use the model that you trained in the previous exercise arma in order to forecast the absolute value of the Amazon stocks dataset. Remember that sometimes predicting the difference could be enough; will the stocks go up, or down; but sometimes the absolute value is key.\n",
    "\n",
    "The results object from the model you trained in the last exercise is available in your environment as arma_results. The np.cumsum() function and the original DataFrame amazon are also available."
   ],
   "metadata": {
    "collapsed": false,
    "pycharm": {
     "name": "#%% md\n"
    }
   }
  },
  {
   "cell_type": "code",
   "execution_count": 128,
   "outputs": [
    {
     "name": "stderr",
     "output_type": "stream",
     "text": [
      "/Users/lukasz/.conda/envs/data-camp/lib/python3.8/site-packages/statsmodels/tsa/base/tsa_model.py:580: ValueWarning: No supported index is available. Prediction results will be given with an integer index beginning at `start`.\n",
      "  warnings.warn('No supported index is available.'\n"
     ]
    }
   ],
   "source": [
    "# Make arma forecast of next 10 differences\n",
    "arma_diff_forecast = arma_results.get_forecast(steps=10).predicted_mean"
   ],
   "metadata": {
    "collapsed": false,
    "pycharm": {
     "name": "#%%\n"
    }
   }
  },
  {
   "cell_type": "code",
   "execution_count": 129,
   "outputs": [],
   "source": [
    "# Integrate the difference forecast\n",
    "arma_int_forecast = np.cumsum(arma_diff_forecast)"
   ],
   "metadata": {
    "collapsed": false,
    "pycharm": {
     "name": "#%%\n"
    }
   }
  },
  {
   "cell_type": "code",
   "execution_count": 130,
   "outputs": [],
   "source": [
    "# Make absolute value forecast\n",
    "arma_value_forecast = arma_int_forecast + amazon.iloc[-1, 0]"
   ],
   "metadata": {
    "collapsed": false,
    "pycharm": {
     "name": "#%%\n"
    }
   }
  },
  {
   "cell_type": "code",
   "execution_count": 131,
   "outputs": [
    {
     "name": "stdout",
     "output_type": "stream",
     "text": [
      "277    1595.631946\n",
      "278    1594.892494\n",
      "279    1586.853066\n",
      "280    1574.248364\n",
      "281    1560.814240\n",
      "282    1550.208667\n",
      "283    1545.040070\n",
      "284    1546.254168\n",
      "285    1553.014496\n",
      "286    1563.068956\n",
      "dtype: float64\n"
     ]
    }
   ],
   "source": [
    "# Print forecast\n",
    "print(arma_value_forecast)"
   ],
   "metadata": {
    "collapsed": false,
    "pycharm": {
     "name": "#%%\n"
    }
   }
  },
  {
   "cell_type": "markdown",
   "source": [
    "### Fitting an ARIMA model\n",
    "In this exercise you'll learn how to be lazy in time series modeling. Instead of taking the difference, modeling the difference and then integrating, you're just going to lets statsmodels do the hard work for you.\n",
    "\n",
    "You'll repeat the same exercise that you did before, of forecasting the absolute values of the Amazon stocks dataset, but this time with an ARIMA model.\n",
    "\n",
    "A subset of the stocks dataset is available in your environment as amazon and so is the SARIMAX model class."
   ],
   "metadata": {
    "collapsed": false,
    "pycharm": {
     "name": "#%% md\n"
    }
   }
  },
  {
   "cell_type": "code",
   "execution_count": 132,
   "outputs": [
    {
     "name": "stderr",
     "output_type": "stream",
     "text": [
      "/Users/lukasz/.conda/envs/data-camp/lib/python3.8/site-packages/statsmodels/tsa/base/tsa_model.py:216: ValueWarning: A date index has been provided, but it has no associated frequency information and so will be ignored when e.g. forecasting.\n",
      "  warnings.warn('A date index has been provided, but it has no'\n",
      "/Users/lukasz/.conda/envs/data-camp/lib/python3.8/site-packages/statsmodels/tsa/base/tsa_model.py:216: ValueWarning: A date index has been provided, but it has no associated frequency information and so will be ignored when e.g. forecasting.\n",
      "  warnings.warn('A date index has been provided, but it has no'\n"
     ]
    }
   ],
   "source": [
    "# Create ARIMA(2,1,2) model\n",
    "arima = SARIMAX(amazon, order=(2,1,2))"
   ],
   "metadata": {
    "collapsed": false,
    "pycharm": {
     "name": "#%%\n"
    }
   }
  },
  {
   "cell_type": "code",
   "execution_count": 133,
   "outputs": [],
   "source": [
    "# Fit ARIMA model\n",
    "arima_results = arima.fit()"
   ],
   "metadata": {
    "collapsed": false,
    "pycharm": {
     "name": "#%%\n"
    }
   }
  },
  {
   "cell_type": "code",
   "execution_count": 134,
   "outputs": [
    {
     "name": "stderr",
     "output_type": "stream",
     "text": [
      "/Users/lukasz/.conda/envs/data-camp/lib/python3.8/site-packages/statsmodels/tsa/base/tsa_model.py:580: ValueWarning: No supported index is available. Prediction results will be given with an integer index beginning at `start`.\n",
      "  warnings.warn('No supported index is available.'\n"
     ]
    }
   ],
   "source": [
    "# Make ARIMA forecast of next 10 values\n",
    "arima_value_forecast = arima_results.get_forecast(steps=10).predicted_mean"
   ],
   "metadata": {
    "collapsed": false,
    "pycharm": {
     "name": "#%%\n"
    }
   }
  },
  {
   "cell_type": "code",
   "execution_count": 135,
   "outputs": [
    {
     "name": "stdout",
     "output_type": "stream",
     "text": [
      "278    1595.650787\n",
      "279    1594.919463\n",
      "280    1586.876751\n",
      "281    1574.259701\n",
      "282    1560.808542\n",
      "283    1550.186246\n",
      "284    1545.005474\n",
      "285    1546.214430\n",
      "286    1552.976977\n",
      "287    1563.039411\n",
      "dtype: float64\n"
     ]
    }
   ],
   "source": [
    "# Print forecast\n",
    "print(arima_value_forecast)"
   ],
   "metadata": {
    "collapsed": false,
    "pycharm": {
     "name": "#%%\n"
    }
   }
  },
  {
   "cell_type": "code",
   "execution_count": null,
   "outputs": [],
   "source": [],
   "metadata": {
    "collapsed": false,
    "pycharm": {
     "name": "#%%\n"
    }
   }
  }
 ],
 "metadata": {
  "kernelspec": {
   "display_name": "Python 3",
   "language": "python",
   "name": "python3"
  },
  "language_info": {
   "codemirror_mode": {
    "name": "ipython",
    "version": 2
   },
   "file_extension": ".py",
   "mimetype": "text/x-python",
   "name": "python",
   "nbconvert_exporter": "python",
   "pygments_lexer": "ipython2",
   "version": "2.7.6"
  }
 },
 "nbformat": 4,
 "nbformat_minor": 0
}