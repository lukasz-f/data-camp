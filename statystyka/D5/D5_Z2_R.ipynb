{
 "cells": [
  {
   "cell_type": "markdown",
   "metadata": {},
   "source": [
    "# Zadanie (przedziały ufności)\n",
    "\n",
    "Zmierzono wytrzymałość 10 losowo wybranych gotowych elementów konstrukcji budowlanych i otrzymano następujące wyniki: \n",
    "\n",
    "383, 284, 339, 340, 305, 386, 378, 335, 344, 346.\n",
    "\n",
    "Zakładamy, że rozkład wytrzymałości tych elementów jest rozkładem normalnym $N(\\mu,\\sigma^2)$ o nieznanych parametrach. Wyznaczyć na podstawie tej próbki 95%-ową realizację przedziału ufności dla nieznanej wartości parametru $\\mu$ badanej cechy populacji. "
   ]
  },
  {
   "cell_type": "code",
   "execution_count": 1,
   "metadata": {
    "collapsed": true
   },
   "outputs": [],
   "source": [
    "import matplotlib.pyplot as plt\n",
    "import numpy as np\n",
    "from scipy import stats\n",
    "from scipy import integrate"
   ]
  },
  {
   "cell_type": "code",
   "execution_count": 2,
   "metadata": {
    "collapsed": false
   },
   "outputs": [
    {
     "name": "stdout",
     "output_type": "stream",
     "text": [
      "[383 284 339 340 305 386 378 335 344 346]\n"
     ]
    }
   ],
   "source": [
    "data=np.array([383, 284, 339, 340, 305, 386, 378, 335, 344, 346])\n",
    "print(data)"
   ]
  },
  {
   "cell_type": "markdown",
   "metadata": {},
   "source": [
    "Przedział ufności dla \\red{ nieznanej wartości przeciętnej $\\mu$} populacji, w której \\red{badana cecha ma rozkład $N(\\mu,\\sigma^2)$}, w przypadku gdy \\red{zarówno $\\mu$ jak $\\sigma$ są nieznane}, na podstawie $n$--elementowej próby $X_1,\\ldots,X_n$ \\red{(n<100)} wynosi\n",
    "$$\n",
    "\\left(\n",
    "\\bar X - t \\left(1-\\frac{\\alpha}{2},n-1 \\right) \\frac{S}{\\sqrt{n-1}},\n",
    "\\bar X + t \\left(1-\\frac{\\alpha}{2},n-1 \\right) \\frac{S}{\\sqrt{n-1}}\n",
    "\\right)\n",
    "$$\n",
    "gdzie \n",
    "$$\n",
    "S^2 = \\frac{1}{n} \\sum_{i=1}^{n} (X_{i} - \\bar X)\n",
    "\\mbox{ oraz }\n",
    "\\bar X = \\frac{1}{n} \\sum_{i=1}^{n} X_{i} \n",
    "$$\n",
    "oraz $t(\\alpha,n)$ oznacza kwantyl rzędu $\\alpha$, który ma $n$ stopni swobody rozkładu $t$--studenta."
   ]
  },
  {
   "cell_type": "markdown",
   "metadata": {},
   "source": [
    "## Zdefiniujmy zmienną losową o rozkładzie t-Studenta"
   ]
  },
  {
   "cell_type": "code",
   "execution_count": 3,
   "metadata": {
    "collapsed": false
   },
   "outputs": [],
   "source": [
    "n=data.size\n",
    "X=stats.t(n-1)"
   ]
  },
  {
   "cell_type": "markdown",
   "metadata": {},
   "source": [
    "## Wylicz końce przedziałów"
   ]
  },
  {
   "cell_type": "code",
   "execution_count": 4,
   "metadata": {
    "collapsed": false
   },
   "outputs": [
    {
     "name": "stdout",
     "output_type": "stream",
     "text": [
      "344.0\n",
      "31.1255522039\n"
     ]
    }
   ],
   "source": [
    "alpha=0.05\n",
    "bar_x=np.mean(data)\n",
    "s=np.std(data,ddof=0)\n",
    "print(bar_x)\n",
    "print(s)"
   ]
  },
  {
   "cell_type": "code",
   "execution_count": 5,
   "metadata": {
    "collapsed": false
   },
   "outputs": [],
   "source": [
    "L=bar_x-X.ppf(1-alpha/2)*(s/np.sqrt(n-1))"
   ]
  },
  {
   "cell_type": "code",
   "execution_count": 6,
   "metadata": {
    "collapsed": true
   },
   "outputs": [],
   "source": [
    "R=bar_x+X.ppf(1-alpha/2)*(s/np.sqrt(n-1))"
   ]
  },
  {
   "cell_type": "markdown",
   "metadata": {},
   "source": [
    "## Wypisz przedział ufności"
   ]
  },
  {
   "cell_type": "code",
   "execution_count": 7,
   "metadata": {
    "collapsed": false
   },
   "outputs": [
    {
     "name": "stdout",
     "output_type": "stream",
     "text": [
      "( 320.52970 , 367.47030)\n"
     ]
    }
   ],
   "source": [
    "print(r'( %3.5f , %3.5f)' % (L,R))"
   ]
  },
  {
   "cell_type": "markdown",
   "metadata": {},
   "source": [
    "# Zadanie 2\n",
    "Wykonaj zadanie za pomocą <tt>scipy</tt> i <tt>funkcji stats.t.interval</tt>."
   ]
  },
  {
   "cell_type": "code",
   "execution_count": 8,
   "metadata": {
    "collapsed": false
   },
   "outputs": [
    {
     "data": {
      "text/plain": [
       "(320.52970304586518, 367.47029695413482)"
      ]
     },
     "execution_count": 8,
     "metadata": {},
     "output_type": "execute_result"
    }
   ],
   "source": [
    "ci = stats.t.interval(0.95, n-1, loc=bar_x, scale=stats.sem(data,ddof=1))\n",
    "ci"
   ]
  },
  {
   "cell_type": "markdown",
   "metadata": {},
   "source": [
    "# Zadanie 3\n",
    "Narysuj przedział ufności na wykresie gęstości i dystrybuanty rozkładu t-Studenta dla statystyki\n",
    "$$\n",
    "t = \\frac{\\bar X - \\mu}{S}\\sqrt{n-1}\n",
    "$$"
   ]
  },
  {
   "cell_type": "code",
   "execution_count": 9,
   "metadata": {
    "collapsed": false
   },
   "outputs": [
    {
     "data": {
      "image/png": "[encoded data removed]",
      "text/plain": [
       "<matplotlib.figure.Figure at 0xdda36bbdd8>"
      ]
     },
     "metadata": {},
     "output_type": "display_data"
    }
   ],
   "source": [
    "alpha_1=alpha/2\n",
    "alpha_2=alpha-alpha_1\n",
    "\n",
    "u_1=X.ppf(alpha_1)\n",
    "u_2=X.ppf(1-alpha_2)\n",
    "\n",
    "x = np.linspace(-3,3,100)\n",
    "yp = X.pdf(x)\n",
    "y = X.cdf(x)\n",
    "x1 = np.linspace(-3, u_1)\n",
    "y1 = X.pdf(x1)\n",
    "\n",
    "x2 = np.linspace(u_2,3)\n",
    "y2 = X.pdf(x2)\n",
    "\n",
    "figs, axs = plt.subplots(1,2, figsize=(12, 6))\n",
    "\n",
    "axs[0].plot(x,yp, 'k')\n",
    "axs[0].fill_between(x1, y1, facecolor='#CCCCCC')\n",
    "axs[0].fill_between(x2, y2, facecolor='#CCCCCC')\n",
    "axs[0].text(u_1, 0.1, np.round(X.cdf(u_1),4))\n",
    "axs[0].text(u_2, 0.1, np.round(1-X.cdf(u_2),4))\n",
    "axs[0].set_xlabel('x')\n",
    "axs[0].set_ylabel('PDF(x)')\n",
    "\n",
    "axs[1].plot(x, y, '#999999', lw=3)\n",
    "axs[1].set_xlabel('x')\n",
    "axs[1].set_ylabel('CDF(x)')\n",
    "axs[1].text(u_1, X.cdf(u_1), r'$\\alpha_1 = $ %.3f' % np.round(alpha_1,3))\n",
    "axs[1].hlines(alpha_1, -3, 3, linestyles='--')\n",
    "axs[1].text(u_2, X.cdf(u_2), r'1-$\\alpha_2 = $ %.3f' % np.round(1-alpha_2,3))\n",
    "axs[1].hlines(1-alpha_2, -3, 3, linestyles='--')\n",
    "plt.show()"
   ]
  },
  {
   "cell_type": "code",
   "execution_count": null,
   "metadata": {
    "collapsed": true
   },
   "outputs": [],
   "source": []
  },
  {
   "cell_type": "code",
   "execution_count": null,
   "metadata": {
    "collapsed": true
   },
   "outputs": [],
   "source": []
  }
 ],
 "metadata": {
  "kernelspec": {
   "display_name": "Python 3",
   "language": "python",
   "name": "python3"
  },
  "language_info": {
   "codemirror_mode": {
    "name": "ipython",
    "version": 3
   },
   "file_extension": ".py",
   "mimetype": "text/x-python",
   "name": "python",
   "nbconvert_exporter": "python",
   "pygments_lexer": "ipython3",
   "version": "3.6.0"
  }
 },
 "nbformat": 4,
 "nbformat_minor": 2
}
