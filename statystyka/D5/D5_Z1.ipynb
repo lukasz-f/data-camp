{
 "cells": [
  {
   "cell_type": "markdown",
   "metadata": {},
   "source": [
    "# Zadanie (przedziały ufności)\n",
    "\n",
    "Znaleźć przedział ufności dla nieznanej wartości średniej $\\mu$ populacji, w której badana cecha ma rozkład $N(\\mu,\\sigma)$, w przypadku gdy $\\sigma$ jest znana, na podstawie $n$-elementowej próby prostej \n",
    "$$\n",
    "X_1,\\ldots,X_n.\n",
    "$$"
   ]
  },
  {
   "cell_type": "code",
   "execution_count": 1,
   "metadata": {
    "collapsed": true
   },
   "outputs": [],
   "source": [
    "import matplotlib.pyplot as plt\n",
    "import numpy as np\n",
    "from scipy import stats\n",
    "from scipy import integrate"
   ]
  },
  {
   "cell_type": "markdown",
   "metadata": {},
   "source": [
    "Wiemy, że statystyka \n",
    "$$\n",
    "\\bar X = \\frac{1}{n} \\sum_{i=1}^{n} X_i\n",
    "$$\n",
    "ma rozkład \n",
    "$$\n",
    "N(\\mu, \\frac{\\sigma}{\\sqrt{n}}).\n",
    "$$\n",
    "\n",
    "Natomiast,  \n",
    "$$\n",
    "U = \\frac{\\bar X - \\mu}{\\sigma} \\sqrt{n} \n",
    "$$\n",
    "ma rozkład \n",
    "$$\n",
    "N(0, 1).\n",
    "$$"
   ]
  },
  {
   "cell_type": "markdown",
   "metadata": {},
   "source": [
    "Zdefiniujmy zmienną losową o rozkładzie Normalnym"
   ]
  },
  {
   "cell_type": "code",
   "execution_count": 2,
   "metadata": {
    "collapsed": false
   },
   "outputs": [],
   "source": [
    "(mu, sigma)=(0,1)\n",
    "X=stats.norm(mu, sigma)"
   ]
  },
  {
   "cell_type": "markdown",
   "metadata": {},
   "source": [
    "Dla danego $\\alpha$ ($0<\\alpha<1$) możemy znaleść takie wartości $u_1$ i $u_1$, aby\n",
    "$$\n",
    "P( u_1<U<u_2 ) = CDF(u_2) - CDF(u_1) = 1-\\alpha.\n",
    "$$\n"
   ]
  },
  {
   "cell_type": "code",
   "execution_count": 3,
   "metadata": {
    "collapsed": false
   },
   "outputs": [],
   "source": [
    "alpha=0.05"
   ]
  },
  {
   "cell_type": "markdown",
   "metadata": {},
   "source": [
    "Wystarczy w tym celu wybrać $\\alpha_1$ i $\\alpha_2$, takie, że spełniają one warunek:\n",
    "$$\n",
    "\\alpha_1+\\alpha_2 = \\alpha, \\qquad 0<\\alpha_1<\\alpha_1<\\alpha\n",
    "$$ \n",
    "\n",
    "i przyjąć\n",
    "$$\n",
    "u_1= PPF(\\alpha_1), \\qquad u_2= PPF(1 - \\alpha_2)\n",
    "$$\n",
    "czyli kwantyle rzedu $\\alpha_1$ i $1-\\alpha_1$.\n",
    "\n",
    "Wynika to z faktu, że\n",
    "$$\n",
    "CDF(PPF(1-\\alpha_2)) - CDF(PPF(\\alpha_1)) = 1-\\alpha_2 - \\alpha_1 = 1-\\alpha\n",
    "$$\n",
    "\n",
    "Więc\n",
    "$$\n",
    "P( u_1<U<u_2 ) = CDF(u_2) - CDF(u_1) = 1-\\alpha.\n",
    "$$"
   ]
  },
  {
   "cell_type": "markdown",
   "metadata": {},
   "source": [
    "# Zadanie 1\n",
    "Wybierz kilka różnych $\\alpha_1$ i $\\alpha_2$ (tak aby $\\alpha_1+\\alpha_2= \\alpha$) i narysuj przedział ufności:\n",
    "<ul>\n",
    "<li>$\\alpha_1=0.02$ , $\\alpha_2=\\alpha- 0.02$</li>\n",
    "<li>$\\alpha_1=0.000001$ , $\\alpha_2=\\alpha- 0.000001$</li>\n",
    "<li>$\\alpha_1=0.5 \\cdot  \\alpha$ , $\\alpha_2=0.5 \\cdot \\alpha$</li>\n",
    "</ul>"
   ]
  },
  {
   "cell_type": "code",
   "execution_count": 4,
   "metadata": {
    "collapsed": true
   },
   "outputs": [],
   "source": [
    "alpha_1=0.02\n",
    "alpha_2=alpha-alpha_1"
   ]
  },
  {
   "cell_type": "code",
   "execution_count": 6,
   "metadata": {
    "collapsed": false
   },
   "outputs": [
    {
     "name": "stdout",
     "output_type": "stream",
     "text": [
      "-1.75068607125\n",
      "2.32634787404\n"
     ]
    }
   ],
   "source": [
    "u_1=X.ppf(alpha_1)\n",
    "u_2=X.ppf(1-alpha_2)\n",
    "print(u_1)\n",
    "print(u_2)"
   ]
  },
  {
   "cell_type": "code",
   "execution_count": 9,
   "metadata": {
    "collapsed": false
   },
   "outputs": [
    {
     "data": {
      "image/png": "[encoded data removed]",
      "text/plain": [
       "<matplotlib.figure.Figure at 0x48df6f7588>"
      ]
     },
     "metadata": {},
     "output_type": "display_data"
    }
   ],
   "source": [
    "alpha_1=0.04\n",
    "alpha_2=alpha-alpha_1\n",
    "\n",
    "u_1=X.ppf(alpha_1)\n",
    "u_2=X.ppf(1-alpha_2)\n",
    "\n",
    "x = np.linspace(-3,3,100)\n",
    "yp = X.pdf(x)\n",
    "y = X.cdf(x)\n",
    "x1 = np.linspace(-3, u_1)\n",
    "y1 = X.pdf(x1)\n",
    "\n",
    "x2 = np.linspace(u_2,3)\n",
    "y2 = X.pdf(x2)\n",
    "\n",
    "figs, axs = plt.subplots(1,2, figsize=(12, 6))\n",
    "\n",
    "axs[0].plot(x,yp, 'k')\n",
    "axs[0].fill_between(x1, y1, facecolor='#CCCCCC')\n",
    "axs[0].fill_between(x2, y2, facecolor='#CCCCCC')\n",
    "axs[0].text(u_1, 0.1, np.round(X.cdf(u_1),4))\n",
    "axs[0].text(u_2, 0.1, np.round(1-X.cdf(u_2),4))\n",
    "axs[0].set_xlabel('x')\n",
    "axs[0].set_ylabel('PDF(x)')\n",
    "\n",
    "axs[1].plot(x, y, '#999999', lw=3)\n",
    "axs[1].set_xlabel('x')\n",
    "axs[1].set_ylabel('CDF(x)')\n",
    "axs[1].text(u_1, X.cdf(u_1), r'$\\alpha_1 = $ %.2f' % np.round(alpha_1,2))\n",
    "axs[1].hlines(alpha_1, -3, 3, linestyles='--')\n",
    "axs[1].text(u_2, X.cdf(u_2), r'1-$\\alpha_2 = $ %.2f' % np.round(1-alpha_2,2))\n",
    "axs[1].hlines(1-alpha_2, -3, 3, linestyles='--')\n",
    "plt.show()"
   ]
  },
  {
   "cell_type": "markdown",
   "metadata": {},
   "source": [
    "# Zadanie 2\n",
    "\n",
    "Niech $\\sigma=2$. Załóżmy, że w naszym zadaniu w $n=16$ próbach wypadło $\\bar x = 34.1$.\n",
    "\n",
    "Przyjmijmy współczynnik ufności $0.05$ wyznacz przedział największej wiarygodności:\n",
    "\n",
    "$$\n",
    "\\left( \\bar X - PPF(1-\\frac{\\alpha}{2}) \\frac{\\sigma}{\\sqrt{n}} , \\bar X + PPF(1-\\frac{\\alpha}{2}) \\frac{\\sigma}{\\sqrt{n}} \\right)\n",
    "$$"
   ]
  },
  {
   "cell_type": "code",
   "execution_count": 10,
   "metadata": {
    "collapsed": true
   },
   "outputs": [],
   "source": [
    "alpha_1=0.025\n",
    "alpha_2=alpha-alpha_1\n",
    "n=16\n",
    "s=2\n",
    "bar_x=34.1"
   ]
  },
  {
   "cell_type": "code",
   "execution_count": null,
   "metadata": {
    "collapsed": true
   },
   "outputs": [],
   "source": [
    "L=bar_x-X.ppf(1-alpha/2)*(s/np.sqrt(n))"
   ]
  },
  {
   "cell_type": "code",
   "execution_count": null,
   "metadata": {
    "collapsed": true
   },
   "outputs": [],
   "source": [
    "R="
   ]
  },
  {
   "cell_type": "code",
   "execution_count": null,
   "metadata": {
    "collapsed": true
   },
   "outputs": [],
   "source": [
    "print(r'( %3.5f , %3.5f)' % (L,R))"
   ]
  },
  {
   "cell_type": "markdown",
   "metadata": {},
   "source": [
    "# Zadanie 3\n",
    "Wykonaj zadanie za pomocą <tt>scipy</tt> i <tt>funkcji stats.norm.interval</tt>."
   ]
  },
  {
   "cell_type": "code",
   "execution_count": 11,
   "metadata": {
    "collapsed": false
   },
   "outputs": [
    {
     "data": {
      "text/plain": [
       "(33.120018007729975, 35.079981992270028)"
      ]
     },
     "execution_count": 11,
     "metadata": {},
     "output_type": "execute_result"
    }
   ],
   "source": [
    "ci = stats.norm.interval(1-alpha, loc=bar_x, scale=s/np.sqrt(n))\n",
    "ci"
   ]
  },
  {
   "cell_type": "code",
   "execution_count": null,
   "metadata": {
    "collapsed": true
   },
   "outputs": [],
   "source": []
  }
 ],
 "metadata": {
  "kernelspec": {
   "display_name": "Python 3",
   "language": "python",
   "name": "python3"
  },
  "language_info": {
   "codemirror_mode": {
    "name": "ipython",
    "version": 3
   },
   "file_extension": ".py",
   "mimetype": "text/x-python",
   "name": "python",
   "nbconvert_exporter": "python",
   "pygments_lexer": "ipython3",
   "version": "3.6.0"
  }
 },
 "nbformat": 4,
 "nbformat_minor": 2
}
