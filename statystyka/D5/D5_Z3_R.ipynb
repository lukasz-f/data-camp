{
 "cells": [
  {
   "cell_type": "markdown",
   "metadata": {},
   "source": [
    "# Zadanie (przedziały ufności)\n",
    "\n",
    "W celu wyznaczenia ładunku elektrycznego wykonano 26 pomiarów tego ładunku metodą Millikana, otrzymując:\n",
    "\n",
    "$$\n",
    "\\bar X = 1.574\\cdot 10^{-19}, \\mbox{ } S = 0.043 \\cdot10^{-19}\n",
    "$$\n",
    "\n",
    "Zakładając że pomiary pochodzą z rozkładu normalnego o nieznanym parametrze $\\sigma$ wyznaczyć na podstawie danych $99\\%$-owy przedział ufności.  "
   ]
  },
  {
   "cell_type": "code",
   "execution_count": 19,
   "metadata": {
    "collapsed": true
   },
   "outputs": [],
   "source": [
    "import matplotlib.pyplot as plt\n",
    "import numpy as np\n",
    "from scipy import stats\n",
    "from scipy import integrate"
   ]
  },
  {
   "cell_type": "markdown",
   "metadata": {},
   "source": [
    "Przedział ufności dla <b>nieznanej wartości przeciętnej $\\mu$</b> populacji, w której <b>badana cecha ma rozkład $N(\\mu,\\sigma^2)$</b>, w przypadku gdy <b>zarówno $\\mu$ jak $\\sigma$ są nieznane</b>, na podstawie $n$--elementowej próby $X_1,\\ldots,X_n$ <b>($n<100$)</b> \n",
    "wynosi\n",
    "$$\n",
    "\\left(\n",
    "\\bar X - t \\left(1-\\frac{\\alpha}{2},n-1 \\right) \\frac{S}{\\sqrt{n-1}},\n",
    "\\bar X + t \\left(1-\\frac{\\alpha}{2},n-1 \\right) \\frac{S}{\\sqrt{n-1}}\n",
    "\\right)\n",
    "$$\n",
    "gdzie \n",
    "$$\n",
    "S^2 = \\frac{1}{n} \\sum_{i=1}^{n} (X_{i} - \\bar X)\n",
    "\\mbox{ oraz }\n",
    "\\bar X = \\frac{1}{n} \\sum_{i=1}^{n} X_{i} \n",
    "$$\n",
    "oraz $t(\\alpha,n)$ oznacza kwantyl rzędu $\\alpha$ o $n$ stopniach swobody rozkładu $t$--studenta."
   ]
  },
  {
   "cell_type": "markdown",
   "metadata": {},
   "source": [
    "## Zdefiniujmy zmienną losową o rozkładzie t-Studenta"
   ]
  },
  {
   "cell_type": "code",
   "execution_count": 20,
   "metadata": {
    "collapsed": false
   },
   "outputs": [],
   "source": [
    "n=26\n",
    "X=stats.t(n-1)"
   ]
  },
  {
   "cell_type": "markdown",
   "metadata": {},
   "source": [
    "## Wylicz końce przedziałów"
   ]
  },
  {
   "cell_type": "code",
   "execution_count": 21,
   "metadata": {
    "collapsed": false
   },
   "outputs": [
    {
     "name": "stdout",
     "output_type": "stream",
     "text": [
      "1.574e-19\n",
      "4.3e-21\n"
     ]
    }
   ],
   "source": [
    "alpha=0.01\n",
    "bar_x = 1.574*10**(-19)\n",
    "s = 0.043*10**(-19)\n",
    "print(bar_x)\n",
    "print(s)"
   ]
  },
  {
   "cell_type": "code",
   "execution_count": 22,
   "metadata": {
    "collapsed": false
   },
   "outputs": [],
   "source": [
    "L=bar_x-X.ppf(1-alpha/2)*(s/np.sqrt(n-1))"
   ]
  },
  {
   "cell_type": "code",
   "execution_count": 23,
   "metadata": {
    "collapsed": true
   },
   "outputs": [],
   "source": [
    "R=bar_x+X.ppf(1-alpha/2)*(s/np.sqrt(n-1))"
   ]
  },
  {
   "cell_type": "markdown",
   "metadata": {},
   "source": [
    "## Wypisz przedział ufności"
   ]
  },
  {
   "cell_type": "code",
   "execution_count": 24,
   "metadata": {
    "collapsed": false
   },
   "outputs": [
    {
     "name": "stdout",
     "output_type": "stream",
     "text": [
      "1.550028052e-19\n",
      "1.597971948e-19\n"
     ]
    }
   ],
   "source": [
    "print(L)\n",
    "print(R)"
   ]
  },
  {
   "cell_type": "markdown",
   "metadata": {},
   "source": [
    "# Zadanie 2\n",
    "Wykonaj zadanie za pomocą <tt>scipy</tt> i <tt>funkcji stats.t.interval</tt>."
   ]
  },
  {
   "cell_type": "code",
   "execution_count": 26,
   "metadata": {
    "collapsed": false
   },
   "outputs": [
    {
     "data": {
      "text/plain": [
       "(1.5500280520023877e-19, 1.5979719479976123e-19)"
      ]
     },
     "execution_count": 26,
     "metadata": {},
     "output_type": "execute_result"
    }
   ],
   "source": [
    "ci = stats.t.interval(0.99, n-1, loc=bar_x, scale=(s/np.sqrt(n-1)))\n",
    "ci"
   ]
  },
  {
   "cell_type": "markdown",
   "metadata": {},
   "source": [
    "# Zadanie 3\n",
    "Narysuj przedział ufności na wykresie gęstości i dystrybuanty rozkładu t-Studenta dla statystyki\n",
    "$$\n",
    "\\frac{\\bar X - \\mu}{S}\\sqrt{n-1}\n",
    "$$"
   ]
  },
  {
   "cell_type": "code",
   "execution_count": 17,
   "metadata": {
    "collapsed": false
   },
   "outputs": [
    {
     "data": {
      "image/png": "[encoded data removed]",
      "text/plain": [
       "<matplotlib.figure.Figure at 0x2ed26fc5c0>"
      ]
     },
     "metadata": {},
     "output_type": "display_data"
    }
   ],
   "source": [
    "alpha_1=alpha/2\n",
    "alpha_2=alpha-alpha_1\n",
    "\n",
    "u_1=X.ppf(alpha_1)\n",
    "u_2=X.ppf(1-alpha_2)\n",
    "\n",
    "x = np.linspace(-3,3,100)\n",
    "yp = X.pdf(x)\n",
    "y = X.cdf(x)\n",
    "x1 = np.linspace(-3, u_1)\n",
    "y1 = X.pdf(x1)\n",
    "\n",
    "x2 = np.linspace(u_2,3)\n",
    "y2 = X.pdf(x2)\n",
    "\n",
    "figs, axs = plt.subplots(1,2, figsize=(12, 6))\n",
    "\n",
    "axs[0].plot(x,yp, 'k')\n",
    "axs[0].fill_between(x1, y1, facecolor='#CCCCCC')\n",
    "axs[0].fill_between(x2, y2, facecolor='#CCCCCC')\n",
    "axs[0].text(u_1, 0.1, np.round(X.cdf(u_1),4))\n",
    "axs[0].text(u_2, 0.1, np.round(1-X.cdf(u_2),4))\n",
    "axs[0].set_xlabel('x')\n",
    "axs[0].set_ylabel('PDF(x)')\n",
    "\n",
    "axs[1].plot(x, y, '#999999', lw=3)\n",
    "axs[1].set_xlabel('x')\n",
    "axs[1].set_ylabel('CDF(x)')\n",
    "axs[1].text(u_1, X.cdf(u_1), r'$\\alpha_1 = $ %.3f' % np.round(alpha_1,3))\n",
    "axs[1].hlines(alpha_1, -3, 3, linestyles='--')\n",
    "axs[1].text(u_2, X.cdf(u_2), r'1-$\\alpha_2 = $ %.3f' % np.round(1-alpha_2,3))\n",
    "axs[1].hlines(1-alpha_2, -3, 3, linestyles='--')\n",
    "plt.show()"
   ]
  },
  {
   "cell_type": "code",
   "execution_count": null,
   "metadata": {
    "collapsed": true
   },
   "outputs": [],
   "source": []
  }
 ],
 "metadata": {
  "kernelspec": {
   "display_name": "Python 3",
   "language": "python",
   "name": "python3"
  },
  "language_info": {
   "codemirror_mode": {
    "name": "ipython",
    "version": 3
   },
   "file_extension": ".py",
   "mimetype": "text/x-python",
   "name": "python",
   "nbconvert_exporter": "python",
   "pygments_lexer": "ipython3",
   "version": "3.6.0"
  }
 },
 "nbformat": 4,
 "nbformat_minor": 2
}
