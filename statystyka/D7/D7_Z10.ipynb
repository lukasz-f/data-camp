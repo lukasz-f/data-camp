{
 "cells": [
  {
   "cell_type": "markdown",
   "metadata": {
    "collapsed": false
   },
   "source": [
    "# Zadanie\n",
    "\n",
    "Dala sprawdzenia poprawności działania urządzenia automatycznie odważającego produkt w opakowania po $250$ g wybrano losowo $15$ opakowań i zważono masę netto każdego z opakowań.\n",
    "Uzyskano następujące wyniki:\n",
    "\n",
    "249.3, 248.5, 250.2, 249.3, 247.9, 250.3, 251.1, 250.2, 249.3, 248.3, 247.9, 248.6, 250.6, 251.6, 249.6\n",
    "\n",
    "Czy na podstawie uzyskanych wyników możemy stwierdzić, że urządzenie odważa średnio właściwą masę produktu?"
   ]
  },
  {
   "cell_type": "code",
   "execution_count": 1,
   "metadata": {
    "collapsed": true
   },
   "outputs": [],
   "source": [
    "import numpy as np\n",
    "import matplotlib.pyplot as plt\n",
    "import scipy.stats as stats\n",
    "import seaborn as sns\n",
    "import pandas as pd\n",
    "# additional packages\n",
    "from statsmodels.stats.diagnostic import lillifors"
   ]
  },
  {
   "cell_type": "code",
   "execution_count": 2,
   "metadata": {
    "collapsed": false
   },
   "outputs": [],
   "source": [
    "data=np.array([249.3, 248.5, 250.2, 249.3, 247.9, 250.3, 251.1, 250.2, 249.3, 248.3, 247.9, 248.6, 250.6, 251.6, 249.6])"
   ]
  },
  {
   "cell_type": "markdown",
   "metadata": {},
   "source": [
    "# Najpierw sprawdzamy założenie o tym, że próbka pochodzi z rozkładu normalnego."
   ]
  },
  {
   "cell_type": "code",
   "execution_count": 3,
   "metadata": {
    "collapsed": false
   },
   "outputs": [
    {
     "name": "stdout",
     "output_type": "stream",
     "text": [
      "p-values for all 15 data points: ----------------\n",
      "Omnibus               0.670529\n",
      "Shapiro-Wilk          0.638493\n",
      "Lilliefors            0.864556\n",
      "Kolmogorov-Smirnov    0.971191\n",
      "dtype: float64\n"
     ]
    },
    {
     "name": "stderr",
     "output_type": "stream",
     "text": [
      "D:\\Anaconda3\\lib\\site-packages\\scipy\\stats\\stats.py:1327: UserWarning: kurtosistest only valid for n>=20 ... continuing anyway, n=15\n",
      "  \"anyway, n=%i\" % int(n))\n"
     ]
    }
   ],
   "source": [
    "pVals = pd.Series()\n",
    "pFewVals = pd.Series()\n",
    "# The scipy normaltest is based on D-Agostino and Pearsons test that\n",
    "# combines skew and kurtosis to produce an omnibus test of normality.\n",
    "_, pVals['Omnibus']    = stats.normaltest(data)\n",
    "\n",
    "# Shapiro-Wilk test\n",
    "_, pVals['Shapiro-Wilk']    = stats.shapiro(data)\n",
    "\n",
    "# Or you can check for normality with Lilliefors-test\n",
    "_, pVals['Lilliefors']    = lillifors(data)\n",
    "\n",
    "# Alternatively with original Kolmogorov-Smirnov test\n",
    "_, pVals['Kolmogorov-Smirnov']    = stats.kstest((data-np.mean(data))/np.std(data,ddof=1), 'norm')\n",
    "\n",
    "print('p-values for all {0} data points: ----------------'.format(len(data)))\n",
    "print(pVals)\n"
   ]
  },
  {
   "cell_type": "markdown",
   "metadata": {},
   "source": [
    "# Możemy wykonać test t-studenta"
   ]
  },
  {
   "cell_type": "code",
   "execution_count": 5,
   "metadata": {
    "collapsed": false
   },
   "outputs": [
    {
     "name": "stdout",
     "output_type": "stream",
     "text": [
      "0.121454683292\n",
      "Nie ma podstaw aby odrzucić hipotezę H_0\n"
     ]
    }
   ],
   "source": [
    "checkValue = 250\n",
    "tval = (checkValue-np.mean(data))/stats.sem(data)\n",
    "td = stats.t(len(data)-1) # \"frozen\" t-distribution\n",
    "p = 2*td.sf(tval)\n",
    "print(p)\n",
    "if p < 0.05:\n",
    "    print(\"Odrzucamy hipotezę H_0\")\n",
    "else:\n",
    "    print(\"Nie ma podstaw aby odrzucić hipotezę H_0\")"
   ]
  },
  {
   "cell_type": "markdown",
   "metadata": {},
   "source": [
    "# Zadanie\n",
    "Wykonaj test t-studenta z pomocą funkcji <tt>stats.ttest_1samp</tt>."
   ]
  },
  {
   "cell_type": "code",
   "execution_count": 8,
   "metadata": {
    "collapsed": false
   },
   "outputs": [
    {
     "name": "stdout",
     "output_type": "stream",
     "text": [
      "(-1.6487216788267192, 0.12145468329245238)\n",
      "Nie ma podstaw aby odrzucić hipotezę H_0\n"
     ]
    }
   ],
   "source": [
    "checkValue = 250\n",
    "t, prob = stats.ttest_1samp(data, checkValue)\n",
    "print( (t, prob))\n",
    "if prob < 0.05:\n",
    "    print(\"Odrzucamy hipotezę H_0\")\n",
    "else:\n",
    "    print(\"Nie ma podstaw aby odrzucić hipotezę H_0\")"
   ]
  },
  {
   "cell_type": "code",
   "execution_count": null,
   "metadata": {
    "collapsed": true
   },
   "outputs": [],
   "source": []
  }
 ],
 "metadata": {
  "kernelspec": {
   "display_name": "Python 3",
   "language": "python",
   "name": "python3"
  },
  "language_info": {
   "codemirror_mode": {
    "name": "ipython",
    "version": 3
   },
   "file_extension": ".py",
   "mimetype": "text/x-python",
   "name": "python",
   "nbconvert_exporter": "python",
   "pygments_lexer": "ipython3",
   "version": "3.6.0"
  }
 },
 "nbformat": 4,
 "nbformat_minor": 2
}
