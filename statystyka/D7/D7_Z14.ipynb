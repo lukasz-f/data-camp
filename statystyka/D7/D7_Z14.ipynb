{
 "cells": [
  {
   "cell_type": "code",
   "execution_count": 1,
   "metadata": {
    "collapsed": true
   },
   "outputs": [],
   "source": [
    "import numpy as np\n",
    "import matplotlib.pyplot as plt\n",
    "from scipy import stats\n",
    "import pandas as pd\n",
    "from statsmodels.formula.api import ols\n",
    "from statsmodels.stats.anova import anova_lm\n",
    "from statsmodels.stats.multicomp import (pairwise_tukeyhsd, MultiComparison)\n",
    "from statsmodels.stats.libqsturng import psturng"
   ]
  },
  {
   "cell_type": "markdown",
   "metadata": {},
   "source": [
    "# Zadanie \n",
    "Pewna grupa poddała się trzem testom.\n",
    "Na podstawie poniższych wyników chcielibyśmy zweryfikować hipotezę zerowa mówiącą, że środki wynik w tych trzech testach jest taki sam."
   ]
  },
  {
   "cell_type": "code",
   "execution_count": 6,
   "metadata": {},
   "outputs": [],
   "source": [
    "data = np.rec.array([\n",
    "    (  1,   'mental',  2 ),\n",
    "    (  2,   'mental',  2 ),\n",
    "    (  3,   'mental',  3 ),\n",
    "    (  4,   'mental',  4 ),\n",
    "    (  5,   'mental',  4 ),\n",
    "    (  6,   'mental',  5 ),\n",
    "    (  7,   'mental',  3 ),\n",
    "    (  8,   'mental',  4 ),\n",
    "    (  9,   'mental',  4 ),\n",
    "    ( 10,   'mental',  4 ),\n",
    "    ( 11, 'physical',  4 ),\n",
    "    ( 12, 'physical',  4 ),\n",
    "    ( 13, 'physical',  3 ),\n",
    "    ( 14, 'physical',  5 ),\n",
    "    ( 15, 'physical',  4 ),\n",
    "    ( 16, 'physical',  1 ),\n",
    "    ( 17, 'physical',  1 ),\n",
    "    ( 18, 'physical',  2 ),\n",
    "    ( 19, 'physical',  3 ),\n",
    "    ( 20, 'physical',  3 ),\n",
    "    ( 21,  'medical',  1 ),\n",
    "    ( 22,  'medical',  2 ),\n",
    "    ( 23,  'medical',  2 ),\n",
    "    ( 24,  'medical',  2 ),\n",
    "    ( 25,  'medical',  3 ),\n",
    "    ( 26,  'medical',  2 ),\n",
    "    ( 27,  'medical',  3 ),\n",
    "    ( 28,  'medical',  1 ),\n",
    "    ( 29,  'medical',  3 ),\n",
    "    ( 30,  'medical',  1 )], dtype=[('idx', '<i4'),\n",
    "                                    ('Treatment', '|S8'),\n",
    "                                    ('StressReduction', '<i4')])"
   ]
  },
  {
   "cell_type": "code",
   "execution_count": 16,
   "metadata": {},
   "outputs": [
    {
     "data": {
      "text/plain": [
       "array([2, 2, 3, 4, 4, 5, 3, 4, 4, 4], dtype=int32)"
      ]
     },
     "execution_count": 16,
     "metadata": {},
     "output_type": "execute_result"
    }
   ],
   "source": [
    "group1 = data[data['Treatment'] == b'mental'].StressReduction\n",
    "group2 = data[data['Treatment'] == b'physical'].StressReduction\n",
    "group3 = data[data['Treatment'] == b'medical'].StressReduction"
   ]
  },
  {
   "cell_type": "code",
   "execution_count": 18,
   "metadata": {},
   "outputs": [
    {
     "name": "stdout",
     "output_type": "stream",
     "text": [
      "0.456712056141\n"
     ]
    }
   ],
   "source": [
    "# First, check if the variances are equal, with the \"Levene\"-test\n",
    "(W,p) = stats.levene(group1, group2, group3)\n",
    "print(p)\n",
    "if p<0.05:\n",
    "    print(('Warning: the p-value of the Levene test is <0.05: p={0}'.format(p)))"
   ]
  },
  {
   "cell_type": "markdown",
   "metadata": {},
   "source": [
    "# Wykonujemy test ANOVA"
   ]
  },
  {
   "cell_type": "code",
   "execution_count": 17,
   "metadata": {},
   "outputs": [
    {
     "name": "stdout",
     "output_type": "stream",
     "text": [
      "One-way ANOVA\n",
      "=============\n",
      "F value: 5.16393442623\n",
      "P value: 0.0126171909418 \n",
      "\n"
     ]
    }
   ],
   "source": [
    "f, p = stats.f_oneway(group1, group2, group3)\n",
    " \n",
    "print ('One-way ANOVA')\n",
    "print ('=============')\n",
    " \n",
    "print ('F value:', f)\n",
    "print ('P value:', p, '\\n')"
   ]
  },
  {
   "cell_type": "markdown",
   "metadata": {},
   "source": [
    "## Wniosek\n",
    "\n",
    "...\n",
    "\n",
    "# Wykonujemy analizę post hoc"
   ]
  },
  {
   "cell_type": "code",
   "execution_count": 19,
   "metadata": {
    "collapsed": true
   },
   "outputs": [],
   "source": [
    "multiComp = MultiComparison(data['StressReduction'], data['Treatment'])"
   ]
  },
  {
   "cell_type": "code",
   "execution_count": 20,
   "metadata": {},
   "outputs": [
    {
     "name": "stdout",
     "output_type": "stream",
     "text": [
      "  Multiple Comparison of Means - Tukey HSD,FWER=0.05 \n",
      "=====================================================\n",
      "  group1      group2   meandiff  lower  upper  reject\n",
      "-----------------------------------------------------\n",
      "b'medical'  b'mental'    1.5     0.3217 2.6783  True \n",
      "b'medical' b'physical'   1.0    -0.1783 2.1783 False \n",
      "b'mental'  b'physical'   -0.5   -1.6783 0.6783 False \n",
      "-----------------------------------------------------\n"
     ]
    }
   ],
   "source": [
    "print((multiComp.tukeyhsd().summary()))"
   ]
  },
  {
   "cell_type": "markdown",
   "metadata": {},
   "source": [
    "znaczenie kolumny reject. medical i mental jest rozna (bo jest true).\n",
    "medical i physical jest rowna (bo jest false).\n",
    "mental i physical jest rowna (bo jest false)."
   ]
  },
  {
   "cell_type": "code",
   "execution_count": null,
   "metadata": {
    "collapsed": true
   },
   "outputs": [],
   "source": []
  }
 ],
 "metadata": {
  "kernelspec": {
   "display_name": "Python 3",
   "language": "python",
   "name": "python3"
  },
  "language_info": {
   "codemirror_mode": {
    "name": "ipython",
    "version": 3
   },
   "file_extension": ".py",
   "mimetype": "text/x-python",
   "name": "python",
   "nbconvert_exporter": "python",
   "pygments_lexer": "ipython3",
   "version": "3.6.0"
  }
 },
 "nbformat": 4,
 "nbformat_minor": 2
}
