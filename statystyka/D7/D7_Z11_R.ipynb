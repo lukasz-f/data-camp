{
 "cells": [
  {
   "cell_type": "markdown",
   "metadata": {
    "collapsed": true
   },
   "source": [
    "# Zadanie 1\n",
    "Jako przykład rozważmy dana zawierające poziomy przepływu ($\\mu g/l$) w trzech grupach pacjentów z zastawką serca z różnymi poziomami wentylacji azotem. W analizie wzięło udział 22 osoby (https://github.com/przem85/statistics/blob/master/D7/ANOVA1.txt).\n",
    "\n",
    "Zerową hipoteza dla ANOVA mówi, że wszystkie grupy pochodzą z tej samej populacji. \n"
   ]
  },
  {
   "cell_type": "code",
   "execution_count": 1,
   "metadata": {
    "collapsed": true
   },
   "outputs": [],
   "source": [
    "import numpy as np\n",
    "import scipy.stats as stats\n",
    "import pandas as pd"
   ]
  },
  {
   "cell_type": "code",
   "execution_count": 2,
   "metadata": {
    "collapsed": false
   },
   "outputs": [],
   "source": [
    "data = np.loadtxt('F:\\SZKOLENIE\\data\\ANOVA1.txt')\n",
    " # Sort them into groups, according to column 1\n",
    "group1 = data[data[:,1]==1,0]\n",
    "group2 = data[data[:,1]==2,0]\n",
    "group3 = data[data[:,1]==3,0]"
   ]
  },
  {
   "cell_type": "code",
   "execution_count": 3,
   "metadata": {
    "collapsed": false
   },
   "outputs": [
    {
     "data": {
      "text/plain": [
       "(22, 2)"
      ]
     },
     "execution_count": 3,
     "metadata": {},
     "output_type": "execute_result"
    }
   ],
   "source": [
    "data.shape"
   ]
  },
  {
   "cell_type": "markdown",
   "metadata": {},
   "source": [
    "## Saprawdzamy założenie o równości variancii "
   ]
  },
  {
   "cell_type": "code",
   "execution_count": 4,
   "metadata": {
    "collapsed": false
   },
   "outputs": [
    {
     "name": "stdout",
     "output_type": "stream",
     "text": [
      "Warning: the p-value of the Levene test is <0.05: p=0.045846812634186246\n"
     ]
    }
   ],
   "source": [
    "# First, check if the variances are equal, with the \"Levene\"-test\n",
    "(W,p) = stats.levene(group1, group2, group3)\n",
    "if p<0.05:\n",
    "    print(('Warning: the p-value of the Levene test is <0.05: p={0}'.format(p)))"
   ]
  },
  {
   "cell_type": "markdown",
   "metadata": {},
   "source": [
    "## Wykonujemy ANOVE jednoczynnikową "
   ]
  },
  {
   "cell_type": "code",
   "execution_count": 7,
   "metadata": {
    "collapsed": false
   },
   "outputs": [],
   "source": [
    "# Do the one-way ANOVA\n",
    "F_statistic, pVal = stats.f_oneway(group1, group2, group3)"
   ]
  },
  {
   "cell_type": "code",
   "execution_count": 8,
   "metadata": {
    "collapsed": false
   },
   "outputs": [
    {
     "name": "stdout",
     "output_type": "stream",
     "text": [
      "(3.7113359882669763, 0.043589334959178244)\n",
      "One of the groups is significantly different.\n"
     ]
    }
   ],
   "source": [
    "print((F_statistic, pVal))\n",
    "if pVal < 0.05:\n",
    "    print('One of the groups is significantly different.')"
   ]
  },
  {
   "cell_type": "markdown",
   "metadata": {},
   "source": [
    "## Bardziej szczegółowym wynikiem ANOVA można otrzymać za pomom modelowania statystycznego:"
   ]
  },
  {
   "cell_type": "code",
   "execution_count": 9,
   "metadata": {
    "collapsed": false,
    "scrolled": false
   },
   "outputs": [
    {
     "name": "stdout",
     "output_type": "stream",
     "text": [
      "                df        sum_sq      mean_sq         F    PR(>F)\n",
      "C(treatment)   2.0  15515.766414  7757.883207  3.711336  0.043589\n",
      "Residual      19.0  39716.097222  2090.320906       NaN       NaN\n"
     ]
    },
    {
     "name": "stderr",
     "output_type": "stream",
     "text": [
      "D:\\Anaconda3\\lib\\site-packages\\scipy\\stats\\_distn_infrastructure.py:875: RuntimeWarning: invalid value encountered in greater\n",
      "  return (self.a < x) & (x < self.b)\n",
      "D:\\Anaconda3\\lib\\site-packages\\scipy\\stats\\_distn_infrastructure.py:875: RuntimeWarning: invalid value encountered in less\n",
      "  return (self.a < x) & (x < self.b)\n",
      "D:\\Anaconda3\\lib\\site-packages\\scipy\\stats\\_distn_infrastructure.py:1814: RuntimeWarning: invalid value encountered in less_equal\n",
      "  cond2 = cond0 & (x <= self.a)\n"
     ]
    }
   ],
   "source": [
    "from statsmodels.formula.api import ols\n",
    "from statsmodels.stats.anova import anova_lm\n",
    "# Elegant alternative implementation, with pandas & statsmodels\n",
    "df = pd.DataFrame(data, columns=['value', 'treatment'])    \n",
    "model = ols('value ~ C(treatment)', df).fit()\n",
    "anovaResults = anova_lm(model)\n",
    "print(anovaResults)"
   ]
  },
  {
   "cell_type": "markdown",
   "metadata": {},
   "source": [
    "# Możemy policzyć ten test na piechotę"
   ]
  },
  {
   "cell_type": "code",
   "execution_count": 31,
   "metadata": {
    "collapsed": true
   },
   "outputs": [],
   "source": [
    "data = np.loadtxt('F:\\SZKOLENIE\\data\\ANOVA1.txt')"
   ]
  },
  {
   "cell_type": "code",
   "execution_count": 32,
   "metadata": {
    "collapsed": true
   },
   "outputs": [],
   "source": [
    "# Convert them to pandas-forman and group them by their group value\n",
    "df = pd.DataFrame(data, columns=['values', 'group'])\n",
    "groups = df.groupby('group')"
   ]
  },
  {
   "cell_type": "markdown",
   "metadata": {},
   "source": [
    "Najpierw oblicza się Sums of squares ($SS_{Total}$). Otrzymujemy \n",
    "\n",
    "$$\n",
    "SS_{Treatments}=15 515.76\n",
    "$$ \n",
    "\n",
    "oraz \n",
    "\n",
    "$$\n",
    "SS_{Error}=39.716.09.\n",
    "$$"
   ]
  },
  {
   "cell_type": "code",
   "execution_count": 38,
   "metadata": {
    "collapsed": false
   },
   "outputs": [
    {
     "data": {
      "text/plain": [
       "55231.86363636363"
      ]
     },
     "execution_count": 38,
     "metadata": {},
     "output_type": "execute_result"
    }
   ],
   "source": [
    "# The \"total sum-square\" is the squared deviation from the mean\n",
    "ss_total = np.sum((df['values']-df['values'].mean())**2)\n",
    "ss_total"
   ]
  },
  {
   "cell_type": "code",
   "execution_count": 44,
   "metadata": {
    "collapsed": false
   },
   "outputs": [
    {
     "name": "stdout",
     "output_type": "stream",
     "text": [
      "15515.766414141408\n",
      "39716.0972222\n"
     ]
    }
   ],
   "source": [
    "# Calculate ss_treatment and  ss_error\n",
    "(ss_treatments, ss_error) = (0, 0)\n",
    "for val, group in groups:\n",
    "    ss_error += sum((group['values'] - group['values'].mean())**2)\n",
    "    ss_treatments += len(group) * (group['values'].mean() - df['values'].mean())**2\n",
    "print(ss_treatments)\n",
    "print(ss_error)"
   ]
  },
  {
   "cell_type": "markdown",
   "metadata": {},
   "source": [
    "Średnie kwadraty (mean squares) (MS) to SS podzielone przez odpowiednie stopnie swobody (DF)."
   ]
  },
  {
   "cell_type": "code",
   "execution_count": 46,
   "metadata": {
    "collapsed": false
   },
   "outputs": [],
   "source": [
    "df_groups = len(groups)-1\n",
    "df_residuals = len(data)-len(groups)"
   ]
  },
  {
   "cell_type": "markdown",
   "metadata": {},
   "source": [
    "Otrzymujemy również wartość statystyki $F$:\n",
    "$$\n",
    "F=\\frac{MS_{Treatments}}{MS_{Error}}=\\frac{SS_{Treatments}/(n_{groups}-1)}{MS_{Error}/(n_{total}-n_{groups})}\n",
    "$$"
   ]
  },
  {
   "cell_type": "code",
   "execution_count": 47,
   "metadata": {
    "collapsed": false
   },
   "outputs": [
    {
     "name": "stdout",
     "output_type": "stream",
     "text": [
      "ANOVA-Results: F = 3.7113359882669754, and p<0.043589334959178244\n"
     ]
    }
   ],
   "source": [
    "F = (ss_treatments/df_groups) / (ss_error/df_residuals)\n",
    "df = stats.f(df_groups,df_residuals)\n",
    "p = df.sf(F)\n",
    "print(('ANOVA-Results: F = {0}, and p<{1}'.format(F, p)))"
   ]
  }
 ],
 "metadata": {
  "kernelspec": {
   "display_name": "Python 3",
   "language": "python",
   "name": "python3"
  },
  "language_info": {
   "codemirror_mode": {
    "name": "ipython",
    "version": 3
   },
   "file_extension": ".py",
   "mimetype": "text/x-python",
   "name": "python",
   "nbconvert_exporter": "python",
   "pygments_lexer": "ipython3",
   "version": "3.6.0"
  }
 },
 "nbformat": 4,
 "nbformat_minor": 2
}
