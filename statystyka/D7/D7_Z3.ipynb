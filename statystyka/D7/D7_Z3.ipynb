{
 "cells": [
  {
   "cell_type": "code",
   "execution_count": 2,
   "metadata": {
    "collapsed": true
   },
   "outputs": [],
   "source": [
    "import numpy as np\n",
    "import matplotlib.pyplot as plt\n",
    "import scipy.stats as stats\n",
    "import pandas as pd\n",
    "# additional packages\n",
    "from statsmodels.stats.diagnostic import lillifors"
   ]
  },
  {
   "cell_type": "markdown",
   "metadata": {},
   "source": [
    "# Test dla innych postaci rozkładu"
   ]
  },
  {
   "cell_type": "markdown",
   "metadata": {},
   "source": [
    "Wylosujmy próbki z rozkładu noemalenego, jednostajnego i t-studenta, a następnie sprawdżmy jak zadzaiłają tasty na tych próbkach."
   ]
  },
  {
   "cell_type": "code",
   "execution_count": 3,
   "metadata": {
    "collapsed": false
   },
   "outputs": [],
   "source": [
    "n=1000\n",
    "ud=stats.uniform(-1,2)\n",
    "nd=stats.norm()\n",
    "td=stats.t(7)\n",
    "data_u=ud.rvs(n)\n",
    "data_n=nd.rvs(n)\n",
    "data_t=td.rvs(n)\n",
    "fewData_u = data_u[:100]\n",
    "fewData_n = data_n[:100]\n",
    "fewData_t = data_t[:100]"
   ]
  },
  {
   "cell_type": "code",
   "execution_count": 6,
   "metadata": {
    "collapsed": false
   },
   "outputs": [
    {
     "name": "stdout",
     "output_type": "stream",
     "text": [
      "0.0\n"
     ]
    }
   ],
   "source": [
    "D , p = stats.kstest(data_u, 'uniform', args=(0, 1)) \n",
    "print(p)"
   ]
  },
  {
   "cell_type": "markdown",
   "metadata": {},
   "source": [
    "# Zadanie\n",
    "Wylosujmy po 100 próbek z rozkładu normalenego, jednostajnego i t-studenta zawierajacych 1000 punktów, a następnie sprawdżmy na ilu znich testy normalności się pomylą.\n",
    "\n",
    "Wtkonaj analogiczne zadanie dla 100 próbek o liczności 100."
   ]
  },
  {
   "cell_type": "code",
   "execution_count": null,
   "metadata": {
    "collapsed": true
   },
   "outputs": [],
   "source": []
  }
 ],
 "metadata": {
  "kernelspec": {
   "display_name": "Python 3",
   "language": "python",
   "name": "python3"
  },
  "language_info": {
   "codemirror_mode": {
    "name": "ipython",
    "version": 3
   },
   "file_extension": ".py",
   "mimetype": "text/x-python",
   "name": "python",
   "nbconvert_exporter": "python",
   "pygments_lexer": "ipython3",
   "version": "3.6.0"
  }
 },
 "nbformat": 4,
 "nbformat_minor": 2
}
