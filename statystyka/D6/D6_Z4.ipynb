{
 "cells": [
  {
   "cell_type": "markdown",
   "metadata": {},
   "source": [
    "# Zadanie\n",
    "\n",
    "W celu oszacowania dokładności pomiarów wykonanych pewnym przyrządem dokonano $8$ pomiarów pewnej wielkości i otrzymano: \n",
    "\n",
    "$18.17, 18.21, 18.05, 18.14, 18.19, 18.22, 18.06, 18.08$. \n",
    "\n",
    "Zweryfikować na poziomie istotności $\\alpha = 0.05$ hipotezę $\\sigma^2=0.06$ wobec hipotez alternatywnych:\n",
    "\n",
    "<ul>\n",
    "<li> $\\sigma^2 \\neq 0.06$ </li>\n",
    "<li> $\\sigma^2 < 0.06$ </li>\n",
    "<li> $\\sigma^2 > 0.06$ </li>\n",
    "</ul>\n"
   ]
  },
  {
   "cell_type": "code",
   "execution_count": 2,
   "metadata": {
    "collapsed": true
   },
   "outputs": [],
   "source": [
    "import matplotlib.pyplot as plt\n",
    "import numpy as np\n",
    "from scipy import stats\n",
    "from scipy import integrate"
   ]
  },
  {
   "cell_type": "markdown",
   "metadata": {},
   "source": [
    "## Model 1.\n",
    "\n",
    "Badana cecha $X$ populacji generalnej ma rozkład $N(\\mu,\\sigma)$ przy <b>obu parametrach nieznanych</b> ($n<50$). \n",
    "\n",
    "Weryfikujemy hipotezę:\n",
    "\n",
    "$$\n",
    "H_{0}: \\sigma^2 = \\sigma^2_0\n",
    "$$\n",
    "\n",
    "$$\n",
    "H_{1}: \\sigma = \\sigma_1 > \\sigma_0\n",
    "$$\n",
    "\n",
    "W tym teście używa się statystyki\n",
    "\n",
    "$$\n",
    "\\chi^2=\\frac{n S^2}{\\sigma_0^2} \n",
    "$$\n",
    "\n",
    "Zbiór krytyczny jest dany za pomocą przedziału\n",
    "\n",
    "$$\n",
    "[\\chi^2(1-\\alpha,n-1), +\\infty)\n",
    "$$\n",
    "\n",
    "gdzie $\\chi^2(\\alpha,n)$ jest kwantylem rozkładu $\\chi^2$ przy $n$ stopniach swobody oraz\n",
    "\n",
    "$\n",
    "S^2 = \\frac{1}{n} \\sum_{i=1}^{n} (X_{i} - \\bar X)^2.\n",
    "$\n",
    "\n"
   ]
  },
  {
   "cell_type": "markdown",
   "metadata": {},
   "source": [
    "## Model 2.\n",
    "\n",
    "Badana cecha $X$ populacji generalnej ma rozkład $N(\\mu,\\sigma)$ przy <b>obu parametrach nieznanych</b> ($n<50$).\n",
    "\n",
    "Weryfikujemy hipotezę:\n",
    "\n",
    "$$\n",
    "H_{0}: \\sigma = \\sigma_0\n",
    "$$\n",
    "\n",
    "$$\n",
    "H_{1}: \\sigma = \\sigma_1 < \\sigma_0\n",
    "$$\n",
    "\n",
    "W tym teście używa się statystyki\n",
    "\n",
    "$$\n",
    "\\chi^2=\\frac{n S^2}{\\sigma_0^2} \n",
    "$$\n",
    "\n",
    "Zbiór krytyczny jest dany za pomocą przedziału\n",
    "\n",
    "$$\n",
    "(0, \\chi^2(\\alpha,n-1)]\n",
    "$$\n",
    "\n",
    "gdzie $\\chi^2(\\alpha,n)$ jest kwantylem rozkładu $\\chi^2$ przy $n$ stopniach swobody oraz\n",
    "\n",
    "$\n",
    "S^2 = \\frac{1}{n} \\sum_{i=1}^{n} (X_{i} - \\bar X)^2.\n",
    "$\n"
   ]
  },
  {
   "cell_type": "markdown",
   "metadata": {},
   "source": [
    "## Model 3\n",
    "\n",
    "Badana cecha $X$ populacji generalnej ma rozkład $N(\\mu,\\sigma)$ przy <b>obu parametrach nieznanych</b> ($n<50$).\n",
    "\n",
    "Weryfikujemy hipotezę:\n",
    "\n",
    "$$\n",
    "H_{0}: \\sigma = \\sigma_0\n",
    "$$\n",
    "\n",
    "$$\n",
    "H_{1}: \\sigma = \\sigma_1 \\neq \\sigma_0\n",
    "$$\n",
    "\n",
    "\n",
    "W tym teście używa się statystyki\n",
    "\n",
    "$$\n",
    "\\chi^2=\\frac{n S^2}{\\sigma_0^2} \n",
    "$$\n",
    "\n",
    "Zbiór krytyczny jest dany za pomocą przedziału\n",
    "\n",
    "$$\n",
    "(0, \\chi^2(\\frac{1}{2}\\alpha,n-1)] \\cup [\\chi^2(1-\\frac{1}{2}\\alpha,n-1), +\\infty)\n",
    "$$\n",
    "\n",
    "gdzie $\\chi^2(\\alpha,n)$ jest kwantylem rozkładu $\\chi^2$ przy $n$ stopniach swobody oraz\n",
    "\n",
    "$\n",
    "S^2 = \\frac{1}{n} \\sum_{i=1}^{n} (X_{i} - \\bar X)^2.\n",
    "$\n"
   ]
  },
  {
   "cell_type": "code",
   "execution_count": 3,
   "metadata": {},
   "outputs": [],
   "source": [
    "data=np.array([18.17, 18.21, 18.05, 18.14, 18.19, 18.22, 18.06, 18.08])\n",
    "n=data.size"
   ]
  },
  {
   "cell_type": "markdown",
   "metadata": {},
   "source": [
    "## Zdefiniujmy zmienną losową o rozkładzie chi-kwadrat"
   ]
  },
  {
   "cell_type": "code",
   "execution_count": 4,
   "metadata": {},
   "outputs": [],
   "source": [
    "X=stats.chi2(n-1)"
   ]
  },
  {
   "cell_type": "markdown",
   "metadata": {},
   "source": [
    "## Wyliczmy wartość statystyki\n",
    "\n",
    "$$\n",
    "\\chi^2=\\frac{n S^2}{\\sigma_0^2} \n",
    "$$"
   ]
  },
  {
   "cell_type": "code",
   "execution_count": 5,
   "metadata": {},
   "outputs": [
    {
     "name": "stdout",
     "output_type": "stream",
     "text": [
      "18.14\n",
      "0.06\n",
      "0.0640312423743\n",
      "0.0041\n",
      "0.546666666667\n"
     ]
    }
   ],
   "source": [
    "alpha=0.05\n",
    "bar_x = np.mean(data)\n",
    "s = np.std(data,ddof=0)\n",
    "sigma_2=0.06\n",
    "chi= (n*s**2)/sigma_2\n",
    "print(bar_x)\n",
    "print(sigma_2)\n",
    "print(s)\n",
    "print(s*s)\n",
    "print(chi)"
   ]
  },
  {
   "cell_type": "markdown",
   "metadata": {},
   "source": [
    "# $H_0$: $\\sigma^2=0.06$ przy hipotezie alternatywnej $H_1$: $\\sigma^2\\neq0.06$\n",
    "\n",
    "## Wypisz przedział krytyczny\n"
   ]
  },
  {
   "cell_type": "code",
   "execution_count": 7,
   "metadata": {},
   "outputs": [],
   "source": [
    "L1=0\n",
    "L2=X.ppf(alpha/2)\n",
    "R1=\n",
    "R2=np.inf"
   ]
  },
  {
   "cell_type": "code",
   "execution_count": 8,
   "metadata": {},
   "outputs": [
    {
     "name": "stdout",
     "output_type": "stream",
     "text": [
      "( 0.000 , 1.690) sum ( 16.013 , inf)\n"
     ]
    }
   ],
   "source": [
    "print(r'( %3.3f , %3.3f) sum ( %3.3f , %3.3f)' % (L1,L2,R1,R2))"
   ]
  },
  {
   "cell_type": "markdown",
   "metadata": {},
   "source": [
    "## zweryfikuj hipotezę na podstawie wartości statystyki oraz przedziału krytycznego"
   ]
  },
  {
   "cell_type": "code",
   "execution_count": null,
   "metadata": {},
   "outputs": [],
   "source": [
    "if (chi <L2) | (chi > R1):\n",
    "    print(\"Wartość statystyki należy do przedziału krytycznego więc odrzucamy hipotezę H_0\")\n",
    "else:\n",
    "    print(\"Wartość statystyki nie należy do przedziału krytycznego więc nie ma podstaw by odrzucić hipotezę H_0\")"
   ]
  },
  {
   "cell_type": "markdown",
   "metadata": {},
   "source": [
    "## wylicz p-value"
   ]
  },
  {
   "cell_type": "code",
   "execution_count": 9,
   "metadata": {},
   "outputs": [
    {
     "name": "stdout",
     "output_type": "stream",
     "text": [
      "0.00148593511979\n"
     ]
    }
   ],
   "source": [
    "p = 2*X.cdf(chi)\n",
    "print(p)"
   ]
  },
  {
   "cell_type": "markdown",
   "metadata": {},
   "source": [
    "## zweryfikuj hipotezę na podstawie wartości p-value"
   ]
  },
  {
   "cell_type": "code",
   "execution_count": 10,
   "metadata": {},
   "outputs": [
    {
     "name": "stdout",
     "output_type": "stream",
     "text": [
      "Odrzucam hipotezę zerową H_0\n"
     ]
    }
   ],
   "source": [
    "if(p < alpha):\n",
    "    print(\"Odrzucam hipotezę zerową H_0\")\n",
    "else:        \n",
    "    print(\"Nie ma podstaw by odrzucić hipotezę zerową H_0\")"
   ]
  },
  {
   "cell_type": "markdown",
   "metadata": {},
   "source": [
    "Narysuj gęstość rozkładu statystyki i zaznacz na nim:\n",
    "<ul>\n",
    "<li> przedział krytyczny </li>\n",
    "<li> wartość statystyki testowej </li>\n",
    "<li> p-value </li>\n",
    "</ul>"
   ]
  },
  {
   "cell_type": "code",
   "execution_count": null,
   "metadata": {
    "collapsed": true
   },
   "outputs": [],
   "source": []
  },
  {
   "cell_type": "code",
   "execution_count": 19,
   "metadata": {},
   "outputs": [
    {
     "data": {
      "image/png": "[encoded data removed]",
      "text/plain": [
       "<matplotlib.figure.Figure at 0x481f7725c0>"
      ]
     },
     "metadata": {},
     "output_type": "display_data"
    }
   ],
   "source": []
  },
  {
   "cell_type": "markdown",
   "metadata": {
    "collapsed": true
   },
   "source": [
    "# $H_0$: $\\sigma^2=0.06$ przy hipotezie alternatywnej $H_1$: $\\sigma^2>0.06$\n",
    "## Wypisz przedział krytyczny"
   ]
  },
  {
   "cell_type": "code",
   "execution_count": 12,
   "metadata": {},
   "outputs": [
    {
     "name": "stdout",
     "output_type": "stream",
     "text": [
      "( 14.07 , inf)\n"
     ]
    }
   ],
   "source": [
    "L=X.ppf(1-alpha)\n",
    "R=np.inf\n",
    "print(r'( %3.2f , %3.2f)' % (L,R))"
   ]
  },
  {
   "cell_type": "markdown",
   "metadata": {},
   "source": [
    "## zweryfikuj hipotezę na podstawie wartości statystyki oraz przedziału krytycznego"
   ]
  },
  {
   "cell_type": "code",
   "execution_count": 23,
   "metadata": {},
   "outputs": [
    {
     "name": "stdout",
     "output_type": "stream",
     "text": [
      "Wartość statystyki nie należy do przedziału krytycznego więc nie ma podstaw by odrzucić hipotezę H_0\n"
     ]
    }
   ],
   "source": [
    "if chi > L:\n",
    "    print(\"Wartość statystyki należy do przedziału krytycznego więc odrzucamy hipotezę H_0\")\n",
    "else:\n",
    "    print(\"Wartość statystyki nie należy do przedziału krytycznego więc nie ma podstaw by odrzucić hipotezę H_0\")"
   ]
  },
  {
   "cell_type": "markdown",
   "metadata": {},
   "source": [
    "## wylicz p-value"
   ]
  },
  {
   "cell_type": "code",
   "execution_count": 24,
   "metadata": {},
   "outputs": [
    {
     "name": "stdout",
     "output_type": "stream",
     "text": [
      "0.99925703244\n"
     ]
    }
   ],
   "source": [
    "p = X.sf(chi)\n",
    "print(p)"
   ]
  },
  {
   "cell_type": "markdown",
   "metadata": {},
   "source": [
    "## zweryfikuj hipotezę na podstawie wartości p-value"
   ]
  },
  {
   "cell_type": "code",
   "execution_count": 25,
   "metadata": {},
   "outputs": [
    {
     "name": "stdout",
     "output_type": "stream",
     "text": [
      "Nie ma podstaw by odrzucić hipotezę zerową H_0\n"
     ]
    }
   ],
   "source": [
    "if(p < alpha):\n",
    "    print(\"Odrzucam hipotezę zerową H_0\")\n",
    "else:        \n",
    "    print(\"Nie ma podstaw by odrzucić hipotezę zerową H_0\")"
   ]
  },
  {
   "cell_type": "markdown",
   "metadata": {},
   "source": [
    "Narysuj gęstość rozkładu statystyki i zaznacz na nim:\n",
    "<ul>\n",
    "<li> przedział krytyczny </li>\n",
    "<li> wartość statystyki testowej </li>\n",
    "<li> p-value </li>\n",
    "</ul>"
   ]
  },
  {
   "cell_type": "code",
   "execution_count": null,
   "metadata": {},
   "outputs": [],
   "source": []
  },
  {
   "cell_type": "markdown",
   "metadata": {},
   "source": [
    "# $H_0$: $\\sigma^2=0.06$ przy hipotezie alternatywnej $H_1$: $\\sigma^2<0.06$\n",
    "\n",
    "## Wypisz przedział krytyczny"
   ]
  },
  {
   "cell_type": "code",
   "execution_count": null,
   "metadata": {},
   "outputs": [],
   "source": []
  },
  {
   "cell_type": "markdown",
   "metadata": {},
   "source": [
    "## zweryfikuj hipotezę na podstawie wartości statystyki oraz przedziału krytycznego"
   ]
  },
  {
   "cell_type": "code",
   "execution_count": null,
   "metadata": {},
   "outputs": [],
   "source": []
  },
  {
   "cell_type": "markdown",
   "metadata": {},
   "source": [
    "## wylicz p-value"
   ]
  },
  {
   "cell_type": "code",
   "execution_count": null,
   "metadata": {},
   "outputs": [],
   "source": []
  },
  {
   "cell_type": "markdown",
   "metadata": {},
   "source": [
    "## zweryfikuj hipotezę na podstawie wartości p-value"
   ]
  },
  {
   "cell_type": "code",
   "execution_count": null,
   "metadata": {},
   "outputs": [],
   "source": []
  },
  {
   "cell_type": "markdown",
   "metadata": {},
   "source": [
    "Narysuj gęstość rozkładu statystyki i zaznacz na nim:\n",
    "<ul>\n",
    "<li> przedział krytyczny </li>\n",
    "<li> wartość statystyki testowej </li>\n",
    "<li> p-value </li>\n",
    "</ul>"
   ]
  },
  {
   "cell_type": "code",
   "execution_count": null,
   "metadata": {},
   "outputs": [],
   "source": []
  }
 ],
 "metadata": {
  "kernelspec": {
   "display_name": "Python 3",
   "language": "python",
   "name": "python3"
  },
  "language_info": {
   "codemirror_mode": {
    "name": "ipython",
    "version": 3
   },
   "file_extension": ".py",
   "mimetype": "text/x-python",
   "name": "python",
   "nbconvert_exporter": "python",
   "pygments_lexer": "ipython3",
   "version": "3.6.0"
  }
 },
 "nbformat": 4,
 "nbformat_minor": 1
}
