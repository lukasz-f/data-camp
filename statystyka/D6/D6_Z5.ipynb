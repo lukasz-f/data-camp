{
 "cells": [
  {
   "cell_type": "markdown",
   "metadata": {},
   "source": [
    "# Zadanie\n",
    "\n",
    "Do tarczy oddano $50$ strzałów. Mierząc odległości trafień od środka tarczy. Okazało się, że wariancja tych odległości jest równa $S^2=107.3$ $cm^2$. Zakładając, że te odległości mają rozkład normalny na poziomie istotności $\\alpha = 0.05$, zweryfikować hipotezę $H$, że wariancja odległości trafienia od środka tarczy jest równa $\\sigma^2=100$ $cm^2$ przy hipotezie alternatywnej:\n",
    "\n",
    "<ul>\n",
    "<li> $\\sigma^2 \\neq 100$ </li>\n",
    "<li> $\\sigma^2 < 100$ </li>\n",
    "<li> $\\sigma^2 > 100$ </li>\n",
    "</ul>\n"
   ]
  },
  {
   "cell_type": "code",
   "execution_count": 2,
   "metadata": {
    "collapsed": true
   },
   "outputs": [],
   "source": [
    "import matplotlib.pyplot as plt\n",
    "import numpy as np\n",
    "from scipy import stats\n",
    "from scipy import integrate"
   ]
  },
  {
   "cell_type": "markdown",
   "metadata": {},
   "source": [
    "## Model 1.\n",
    "\n",
    "Badana cecha $X$ populacji generalnej ma rozkład $N(\\mu,\\sigma)$ przy \\red{obu parametrach nieznanych} ($n\\geq50$).\n",
    "\n",
    "Weryfikujemy hipotezę:\n",
    "\n",
    "$$\n",
    "H_{0}: \\sigma = \\sigma_0\n",
    "$$\n",
    "\n",
    "$$\n",
    "H_{1}: \\sigma = \\sigma_1 > \\sigma_0\n",
    "$$\n",
    "\n",
    "\n",
    "W tym teście używa się statystyki\n",
    "\n",
    "$$\n",
    "U=\\sqrt{\\frac{2nS^2}{\\sigma_{0}^2}} - \\sqrt{2n-3}\n",
    "$$\n",
    "\n",
    "Zbiór krytyczny jest dany za pomocą przedziału\n",
    "\n",
    "$$\n",
    "[u(1-\\alpha), +\\infty)\n",
    "$$\n",
    "\n",
    "gdzie $u(\\alpha)$ jest kwantylem rozkładu normalnego.\n"
   ]
  },
  {
   "cell_type": "markdown",
   "metadata": {},
   "source": [
    "## Zdefiniujmy zmienną losową o rozkładzie Normalnym"
   ]
  },
  {
   "cell_type": "code",
   "execution_count": 4,
   "metadata": {
    "collapsed": false
   },
   "outputs": [],
   "source": []
  },
  {
   "cell_type": "markdown",
   "metadata": {},
   "source": [
    "## Wyliczmy wartość statystyki\n",
    "\n",
    "$$\n",
    "U=\\sqrt{\\frac{2nS^2}{\\sigma_{0}^2}} - \\sqrt{2n-3}\n",
    "$$"
   ]
  },
  {
   "cell_type": "code",
   "execution_count": null,
   "metadata": {
    "collapsed": false
   },
   "outputs": [],
   "source": []
  },
  {
   "cell_type": "markdown",
   "metadata": {},
   "source": [
    "# $H_0$: $\\sigma^2=100$ przy hipotezie alternatywnej $H_1$: $\\sigma^2\\neq 100$\n",
    "\n",
    "## Wypisz przedział krytyczny\n"
   ]
  },
  {
   "cell_type": "code",
   "execution_count": null,
   "metadata": {
    "collapsed": false
   },
   "outputs": [],
   "source": []
  },
  {
   "cell_type": "code",
   "execution_count": 20,
   "metadata": {
    "collapsed": false
   },
   "outputs": [
    {
     "name": "stdout",
     "output_type": "stream",
     "text": [
      "( 0.000 , 1.690) sum ( 16.013 , inf)\n"
     ]
    }
   ],
   "source": [
    "print(r'( %3.3f , %3.3f) sum ( %3.3f , %3.3f)' % (L1,L2,R1,R2))"
   ]
  },
  {
   "cell_type": "markdown",
   "metadata": {},
   "source": [
    "## zweryfikuj hipotezę na podstawie wartości statystyki oraz przedziału krytycznego"
   ]
  },
  {
   "cell_type": "code",
   "execution_count": null,
   "metadata": {
    "collapsed": false
   },
   "outputs": [],
   "source": []
  },
  {
   "cell_type": "markdown",
   "metadata": {},
   "source": [
    "## wylicz p-value"
   ]
  },
  {
   "cell_type": "code",
   "execution_count": null,
   "metadata": {
    "collapsed": false
   },
   "outputs": [],
   "source": []
  },
  {
   "cell_type": "markdown",
   "metadata": {},
   "source": [
    "## zweryfikuj hipotezę na podstawie wartości p-value"
   ]
  },
  {
   "cell_type": "code",
   "execution_count": null,
   "metadata": {
    "collapsed": false
   },
   "outputs": [],
   "source": []
  },
  {
   "cell_type": "markdown",
   "metadata": {},
   "source": [
    "Narysuj gęstość rozkładu statystyki i zaznacz na nim:\n",
    "<ul>\n",
    "<li> przedział krytyczny </li>\n",
    "<li> wartość statystyki testowej </li>\n",
    "<li> p-value </li>\n",
    "</ul>"
   ]
  },
  {
   "cell_type": "code",
   "execution_count": null,
   "metadata": {
    "collapsed": false
   },
   "outputs": [],
   "source": []
  },
  {
   "cell_type": "markdown",
   "metadata": {
    "collapsed": true
   },
   "source": [
    "# $H_0$: $\\sigma^2=100$ przy hipotezie alternatywnej $H_1$: $\\sigma^2>100$\n",
    "## Wypisz przedział krytyczny"
   ]
  },
  {
   "cell_type": "code",
   "execution_count": null,
   "metadata": {
    "collapsed": false
   },
   "outputs": [],
   "source": []
  },
  {
   "cell_type": "markdown",
   "metadata": {},
   "source": [
    "## zweryfikuj hipotezę na podstawie wartości statystyki oraz przedziału krytycznego"
   ]
  },
  {
   "cell_type": "code",
   "execution_count": null,
   "metadata": {
    "collapsed": false
   },
   "outputs": [],
   "source": []
  },
  {
   "cell_type": "markdown",
   "metadata": {},
   "source": [
    "## wylicz p-value"
   ]
  },
  {
   "cell_type": "code",
   "execution_count": null,
   "metadata": {
    "collapsed": false
   },
   "outputs": [],
   "source": []
  },
  {
   "cell_type": "markdown",
   "metadata": {},
   "source": [
    "## zweryfikuj hipotezę na podstawie wartości p-value"
   ]
  },
  {
   "cell_type": "code",
   "execution_count": null,
   "metadata": {
    "collapsed": false
   },
   "outputs": [],
   "source": []
  },
  {
   "cell_type": "markdown",
   "metadata": {},
   "source": [
    "Narysuj gęstość rozkładu statystyki i zaznacz na nim:\n",
    "<ul>\n",
    "<li> przedział krytyczny </li>\n",
    "<li> wartość statystyki testowej </li>\n",
    "<li> p-value </li>\n",
    "</ul>"
   ]
  },
  {
   "cell_type": "code",
   "execution_count": null,
   "metadata": {
    "collapsed": false
   },
   "outputs": [],
   "source": []
  },
  {
   "cell_type": "markdown",
   "metadata": {},
   "source": [
    "# $H_0$: $\\sigma^2=100$ przy hipotezie alternatywnej $H_1$: $\\sigma^2<100$\n",
    "\n",
    "## Wypisz przedział krytyczny"
   ]
  },
  {
   "cell_type": "code",
   "execution_count": null,
   "metadata": {
    "collapsed": false
   },
   "outputs": [],
   "source": []
  },
  {
   "cell_type": "markdown",
   "metadata": {},
   "source": [
    "## zweryfikuj hipotezę na podstawie wartości statystyki oraz przedziału krytycznego"
   ]
  },
  {
   "cell_type": "code",
   "execution_count": null,
   "metadata": {
    "collapsed": false
   },
   "outputs": [],
   "source": []
  },
  {
   "cell_type": "markdown",
   "metadata": {},
   "source": [
    "## wylicz p-value"
   ]
  },
  {
   "cell_type": "code",
   "execution_count": null,
   "metadata": {
    "collapsed": false
   },
   "outputs": [],
   "source": []
  },
  {
   "cell_type": "markdown",
   "metadata": {},
   "source": [
    "## zweryfikuj hipotezę na podstawie wartości p-value"
   ]
  },
  {
   "cell_type": "code",
   "execution_count": null,
   "metadata": {
    "collapsed": false
   },
   "outputs": [],
   "source": []
  },
  {
   "cell_type": "markdown",
   "metadata": {},
   "source": [
    "Narysuj gęstość rozkładu statystyki i zaznacz na nim:\n",
    "<ul>\n",
    "<li> przedział krytyczny </li>\n",
    "<li> wartość statystyki testowej </li>\n",
    "<li> p-value </li>\n",
    "</ul>"
   ]
  },
  {
   "cell_type": "code",
   "execution_count": null,
   "metadata": {
    "collapsed": false
   },
   "outputs": [],
   "source": []
  }
 ],
 "metadata": {
  "kernelspec": {
   "display_name": "Python 3",
   "language": "python",
   "name": "python3"
  },
  "language_info": {
   "codemirror_mode": {
    "name": "ipython",
    "version": 3
   },
   "file_extension": ".py",
   "mimetype": "text/x-python",
   "name": "python",
   "nbconvert_exporter": "python",
   "pygments_lexer": "ipython3",
   "version": "3.6.0"
  }
 },
 "nbformat": 4,
 "nbformat_minor": 2
}
