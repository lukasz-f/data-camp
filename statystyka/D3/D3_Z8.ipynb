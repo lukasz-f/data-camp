{
 "cells": [
  {
   "cell_type": "markdown",
   "metadata": {},
   "source": [
    "# Rozkład F-Snedecora\n",
    "\n",
    "Rozkład F-Snedecora ma gęstość\n",
    "\n",
    "$$\n",
    "{\\begin{aligned}f_{X}(x;d_{1},d_{2})&={\\frac  {{\\sqrt  {{\\frac  {(d_{1}\\,x)^{{d_{1}}}\\,\\,d_{2}^{{d_{2}}}}{(d_{1}\\,x+d_{2})^{{d_{1}+d_{2}}}}}}}}{x\\,{\\mathrm  {B}}\\!\\left({\\frac  {d_{1}}{2}},{\\frac  {d_{2}}{2}}\\right)}}={\\frac  {1}{{\\mathrm  {B}}\\!\\left({\\frac  {d_{1}}{2}},{\\frac  {d_{2}}{2}}\\right)}}\\left({\\frac  {d_{1}}{d_{2}}}\\right)^{{{\\frac  {d_{1}}{2}}}}x^{{{\\frac  {d_{1}}{2}}-1}}\\left(1+{\\frac  {d_{1}}{d_{2}}}\\,x\\right)^{{-{\\frac  {d_{1}+d_{2}}{2}}}}\\end{aligned}},\n",
    "\\mbox{   dla } x \\geq 0\n",
    "$$\n",
    "\n",
    "\n",
    "gdzie $\\mathrm  {B}$ oznacza funkcję Beta.\n",
    "\n",
    "https://en.wikipedia.org/wiki/Beta_function"
   ]
  },
  {
   "cell_type": "code",
   "execution_count": 2,
   "metadata": {
    "collapsed": true
   },
   "outputs": [],
   "source": [
    "import numpy as np\n",
    "import matplotlib.pyplot as plt\n",
    "from scipy import stats\n",
    "import seaborn as sns"
   ]
  },
  {
   "cell_type": "markdown",
   "metadata": {},
   "source": [
    "# Definiujemy zmienną losową"
   ]
  },
  {
   "cell_type": "code",
   "execution_count": 35,
   "metadata": {
    "collapsed": false
   },
   "outputs": [],
   "source": [
    "t = np.arange(0, 10, 0.05)\n",
    "d1=4\n",
    "d2=5\n",
    "X=stats.f(d1,d2)"
   ]
  },
  {
   "cell_type": "markdown",
   "metadata": {},
   "source": [
    "# Narysujmy gętość zmiennej losowej"
   ]
  },
  {
   "cell_type": "code",
   "execution_count": null,
   "metadata": {
    "collapsed": false
   },
   "outputs": [],
   "source": []
  },
  {
   "cell_type": "markdown",
   "metadata": {},
   "source": [
    "# Narysujmy dystrybuantę zmiennej losowej"
   ]
  },
  {
   "cell_type": "code",
   "execution_count": null,
   "metadata": {
    "collapsed": false
   },
   "outputs": [],
   "source": []
  },
  {
   "cell_type": "markdown",
   "metadata": {},
   "source": [
    "# Wylosujmy próbkę i narysujmy histogram na jednym obrazku"
   ]
  },
  {
   "cell_type": "code",
   "execution_count": null,
   "metadata": {
    "collapsed": false
   },
   "outputs": [],
   "source": []
  },
  {
   "cell_type": "markdown",
   "metadata": {},
   "source": [
    "# Narysuj gęstości rozkładu jednostajnego z różnymi parametrami"
   ]
  },
  {
   "cell_type": "code",
   "execution_count": null,
   "metadata": {
    "collapsed": false
   },
   "outputs": [],
   "source": []
  },
  {
   "cell_type": "markdown",
   "metadata": {},
   "source": [
    "# Narysuj kilka histogramów różnych próbek z roskładu jednostajnego o tych samych parametrach."
   ]
  },
  {
   "cell_type": "code",
   "execution_count": null,
   "metadata": {
    "collapsed": false
   },
   "outputs": [],
   "source": []
  }
 ],
 "metadata": {
  "kernelspec": {
   "display_name": "Python 3",
   "language": "python",
   "name": "python3"
  },
  "language_info": {
   "codemirror_mode": {
    "name": "ipython",
    "version": 3
   },
   "file_extension": ".py",
   "mimetype": "text/x-python",
   "name": "python",
   "nbconvert_exporter": "python",
   "pygments_lexer": "ipython3",
   "version": "3.6.0"
  }
 },
 "nbformat": 4,
 "nbformat_minor": 2
}
