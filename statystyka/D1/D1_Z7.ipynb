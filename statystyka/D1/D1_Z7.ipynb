{
 "cells": [
  {
   "cell_type": "markdown",
   "metadata": {},
   "source": [
    "# Pobierzmy plik:\n",
    "https://github.com/PyHOGS/pyhogs-code/blob/master/data/CA2009.mat\n",
    "\n",
    "Poniższe polecenia pozwalają wczytać dane w formacie <tt>.mat</tt> (z pliku Matlab):\n"
   ]
  },
  {
   "cell_type": "code",
   "execution_count": 5,
   "metadata": {
    "collapsed": true
   },
   "outputs": [],
   "source": [
    "import numpy as np\n",
    "import pandas as pd\n",
    "from scipy.io import loadmat\n",
    "import matplotlib.pyplot as plt\n",
    "data = loadmat('F:\\SZKOLENIE\\data\\CA2009.mat')"
   ]
  },
  {
   "cell_type": "markdown",
   "metadata": {},
   "source": [
    "Wypiszmy nazwy obiektów"
   ]
  },
  {
   "cell_type": "code",
   "execution_count": 6,
   "metadata": {
    "collapsed": false
   },
   "outputs": [
    {
     "data": {
      "text/plain": [
       "dict_keys(['__header__', '__version__', '__globals__', 'CTPO_CA015_090429_001', 'CTPO_CA015_090603_001', 'CTPO_CA015_090728_001', 'CTPO_CA015_090902_001', 'CTPO_CA042_090429_001', 'CTPO_CA042_090603_001', 'CTPO_CA042_090728_001', 'CTPO_CA042_090902_001', 'CTPO_CA065_090429_001', 'CTPO_CA065_090603_001', 'CTPO_CA065_090728_001', 'CTPO_CA065_090902_001', 'CT_CA042_090429_038', 'CT_CA042_090603_038', 'CT_CA042_090728_038', 'CT_CA042_090902_038', 'F_CA042_090429_038', 'F_CA042_090603_038', 'F_CA042_090728_038', 'F_CA042_090902_038', 'T_CA015_090429_001', 'T_CA015_090429_010', 'T_CA015_090429_015', 'T_CA015_090603_001', 'T_CA015_090603_005', 'T_CA015_090603_015', 'T_CA015_090728_001', 'T_CA015_090728_005', 'T_CA015_090728_010', 'T_CA015_090728_015', 'T_CA015_090902_001', 'T_CA015_090902_005', 'T_CA015_090902_010', 'T_CA015_090902_015', 'T_CA042_090429_001', 'T_CA042_090429_010', 'T_CA042_090429_020', 'T_CA042_090429_030', 'T_CA042_090429_035', 'T_CA042_090429_042', 'T_CA042_090603_001', 'T_CA042_090603_010', 'T_CA042_090603_020', 'T_CA042_090603_030', 'T_CA042_090603_035', 'T_CA042_090728_001', 'T_CA042_090728_010', 'T_CA042_090728_020', 'T_CA042_090728_030', 'T_CA042_090728_035', 'T_CA042_090728_042', 'T_CA042_090902_001', 'T_CA042_090902_010', 'T_CA042_090902_020', 'T_CA042_090902_030', 'T_CA042_090902_035', 'T_CA042_090902_042', 'T_CA065_090429_001', 'T_CA065_090429_010', 'T_CA065_090429_020', 'T_CA065_090429_030', 'T_CA065_090429_040', 'T_CA065_090429_050', 'T_CA065_090429_060', 'T_CA065_090429_065', 'T_CA065_090603_001', 'T_CA065_090603_010', 'T_CA065_090603_020', 'T_CA065_090603_030', 'T_CA065_090603_040', 'T_CA065_090603_050', 'T_CA065_090603_060', 'T_CA065_090603_065', 'T_CA065_090728_001', 'T_CA065_090728_010', 'T_CA065_090728_020', 'T_CA065_090728_040', 'T_CA065_090728_050', 'T_CA065_090728_060', 'T_CA065_090910_001', 'T_CA065_090910_010', 'T_CA065_090910_020', 'T_CA065_090910_030', 'T_CA065_090910_040', 'T_CA065_090910_050', 'T_CA065_090910_060', 'T_CA065_090910_065'])"
      ]
     },
     "execution_count": 6,
     "metadata": {},
     "output_type": "execute_result"
    }
   ],
   "source": [
    "data\n",
    "data.keys()"
   ]
  },
  {
   "cell_type": "markdown",
   "metadata": {},
   "source": [
    "Wypiszmy jeden z nich"
   ]
  },
  {
   "cell_type": "code",
   "execution_count": 7,
   "metadata": {
    "collapsed": false
   },
   "outputs": [
    {
     "name": "stdout",
     "output_type": "stream",
     "text": [
      "<class 'dict'>\n",
      "<class 'numpy.ndarray'>\n"
     ]
    }
   ],
   "source": [
    "print(type(data)) \n",
    "print(type(data['T_CA065_090603_010']))"
   ]
  },
  {
   "cell_type": "markdown",
   "metadata": {},
   "source": [
    "Dane w plikach <tt>.mat</tt> mogą posiadać bardzo skomplikowaną strukturę:"
   ]
  },
  {
   "cell_type": "code",
   "execution_count": 8,
   "metadata": {
    "collapsed": false
   },
   "outputs": [],
   "source": [
    "t = data['T_CA065_090603_010']"
   ]
  },
  {
   "cell_type": "code",
   "execution_count": 9,
   "metadata": {
    "collapsed": false
   },
   "outputs": [
    {
     "data": {
      "text/plain": [
       "array([[ ([[(array([[ 733927.63291667],\n",
       "       [ 733927.63430556],\n",
       "       [ 733927.63569444],\n",
       "       ..., \n",
       "       [ 733972.55097222],\n",
       "       [ 733972.55236111],\n",
       "       [ 733972.55375   ]]), array([[ 7.01],\n",
       "       [ 7.01],\n",
       "       [ 7.01],\n",
       "       ..., \n",
       "       [ 7.33],\n",
       "       [ 7.33],\n",
       "       [ 7.48]]))]], [[(array([[ 6.9769],\n",
       "       [ 6.9768],\n",
       "       [ 6.9767],\n",
       "       ..., \n",
       "       [ 7.3305],\n",
       "       [ 7.331 ],\n",
       "       [ 7.3314]]),)]])]], \n",
       "      dtype=[('data', 'O'), ('lpdata', 'O')])"
      ]
     },
     "execution_count": 9,
     "metadata": {},
     "output_type": "execute_result"
    }
   ],
   "source": [
    "t"
   ]
  },
  {
   "cell_type": "code",
   "execution_count": 12,
   "metadata": {
    "collapsed": false
   },
   "outputs": [
    {
     "name": "stdout",
     "output_type": "stream",
     "text": [
      "t['data'] is a: <class 'numpy.ndarray'>object(1, 1)\n",
      "t['data'][0,0] is a: <class 'numpy.ndarray'>[('time', 'O'), ('temp', 'O')](1, 1)\n"
     ]
    }
   ],
   "source": [
    "def dtype_shape_str(x):\n",
    "    \"\"\" Return string containing the dtype and shape of x.\"\"\"\n",
    "    return str(type(x)) + str(x.dtype)  + str(x.shape)\n",
    "\n",
    "print(\"t['data'] is a: \" + dtype_shape_str(t['data']))\n",
    "print(\"t['data'][0,0] is a: \" + dtype_shape_str(t['data'][0,0]))"
   ]
  },
  {
   "cell_type": "code",
   "execution_count": 13,
   "metadata": {
    "collapsed": false
   },
   "outputs": [
    {
     "name": "stdout",
     "output_type": "stream",
     "text": [
      "t['data'][0,0]['time'] is a: <class 'numpy.ndarray'>object(1, 1)\n",
      "t['data'][0,0]['time'][0,0] is a: <class 'numpy.ndarray'>float64(32344, 1)\n"
     ]
    }
   ],
   "source": [
    "print(\"t['data'][0,0]['time'] is a: \" + dtype_shape_str(t['data'][0,0]['time']))\n",
    "print(\"t['data'][0,0]['time'][0,0] is a: \" + dtype_shape_str(t['data'][0,0]['time'][0,0]))"
   ]
  },
  {
   "cell_type": "markdown",
   "metadata": {},
   "source": [
    "# Zad. 1\n",
    "Proszę odczytać dane <tt>'time'</tt> oraz <tt>'temp'</tt> oraz je narysować."
   ]
  },
  {
   "cell_type": "code",
   "execution_count": null,
   "metadata": {
    "collapsed": true
   },
   "outputs": [],
   "source": []
  }
 ],
 "metadata": {
  "kernelspec": {
   "display_name": "Python 3",
   "language": "python",
   "name": "python3"
  },
  "language_info": {
   "codemirror_mode": {
    "name": "ipython",
    "version": 3
   },
   "file_extension": ".py",
   "mimetype": "text/x-python",
   "name": "python",
   "nbconvert_exporter": "python",
   "pygments_lexer": "ipython3",
   "version": "3.6.0"
  }
 },
 "nbformat": 4,
 "nbformat_minor": 2
}
