{
 "cells": [
  {
   "cell_type": "markdown",
   "metadata": {
    "collapsed": true
   },
   "source": [
    "# Regresja"
   ]
  },
  {
   "cell_type": "code",
   "execution_count": 1,
   "metadata": {
    "collapsed": false
   },
   "outputs": [],
   "source": [
    "import numpy as np\n",
    "import pandas as pd\n",
    "import matplotlib as mpl\n",
    "import matplotlib.pyplot as plt\n",
    "import statsmodels.formula.api as sm\n",
    "from sklearn.linear_model import LinearRegression\n",
    "from scipy import stats"
   ]
  },
  {
   "cell_type": "code",
   "execution_count": 2,
   "metadata": {
    "collapsed": true
   },
   "outputs": [],
   "source": [
    "data_str = '''Region Alcohol Tobacco\n",
    "North 6.47 4.03\n",
    "Yorkshire 6.13 3.76\n",
    "Northeast 6.19 3.77\n",
    "East_Midlands 4.89 3.34\n",
    "West_Midlands 5.63 3.47\n",
    "East_Anglia 4.52 2.92\n",
    "Southeast 5.89 3.20\n",
    "Southwest 4.79 2.71\n",
    "Wales 5.27 3.53\n",
    "Scotland 6.08 4.51\n",
    "Northern_Ireland 4.02 4.56'''"
   ]
  },
  {
   "cell_type": "markdown",
   "metadata": {},
   "source": [
    "Wczytajmy nasze dane"
   ]
  },
  {
   "cell_type": "code",
   "execution_count": 3,
   "metadata": {
    "collapsed": true
   },
   "outputs": [],
   "source": [
    "# Read in the data. Note that for Python 2.x,\n",
    "# you have to change the \"import\" statement\n",
    "from io import StringIO\n",
    "df = pd.read_csv(StringIO(data_str), sep=r'\\s+')"
   ]
  },
  {
   "cell_type": "code",
   "execution_count": 4,
   "metadata": {
    "collapsed": false
   },
   "outputs": [
    {
     "data": {
      "text/html": [
       "<div>\n",
       "<table border=\"1\" class=\"dataframe\">\n",
       "  <thead>\n",
       "    <tr style=\"text-align: right;\">\n",
       "      <th></th>\n",
       "      <th>Region</th>\n",
       "      <th>Alcohol</th>\n",
       "      <th>Tobacco</th>\n",
       "    </tr>\n",
       "  </thead>\n",
       "  <tbody>\n",
       "    <tr>\n",
       "      <th>0</th>\n",
       "      <td>North</td>\n",
       "      <td>6.47</td>\n",
       "      <td>4.03</td>\n",
       "    </tr>\n",
       "    <tr>\n",
       "      <th>1</th>\n",
       "      <td>Yorkshire</td>\n",
       "      <td>6.13</td>\n",
       "      <td>3.76</td>\n",
       "    </tr>\n",
       "    <tr>\n",
       "      <th>2</th>\n",
       "      <td>Northeast</td>\n",
       "      <td>6.19</td>\n",
       "      <td>3.77</td>\n",
       "    </tr>\n",
       "    <tr>\n",
       "      <th>3</th>\n",
       "      <td>East_Midlands</td>\n",
       "      <td>4.89</td>\n",
       "      <td>3.34</td>\n",
       "    </tr>\n",
       "    <tr>\n",
       "      <th>4</th>\n",
       "      <td>West_Midlands</td>\n",
       "      <td>5.63</td>\n",
       "      <td>3.47</td>\n",
       "    </tr>\n",
       "    <tr>\n",
       "      <th>5</th>\n",
       "      <td>East_Anglia</td>\n",
       "      <td>4.52</td>\n",
       "      <td>2.92</td>\n",
       "    </tr>\n",
       "    <tr>\n",
       "      <th>6</th>\n",
       "      <td>Southeast</td>\n",
       "      <td>5.89</td>\n",
       "      <td>3.20</td>\n",
       "    </tr>\n",
       "    <tr>\n",
       "      <th>7</th>\n",
       "      <td>Southwest</td>\n",
       "      <td>4.79</td>\n",
       "      <td>2.71</td>\n",
       "    </tr>\n",
       "    <tr>\n",
       "      <th>8</th>\n",
       "      <td>Wales</td>\n",
       "      <td>5.27</td>\n",
       "      <td>3.53</td>\n",
       "    </tr>\n",
       "    <tr>\n",
       "      <th>9</th>\n",
       "      <td>Scotland</td>\n",
       "      <td>6.08</td>\n",
       "      <td>4.51</td>\n",
       "    </tr>\n",
       "    <tr>\n",
       "      <th>10</th>\n",
       "      <td>Northern_Ireland</td>\n",
       "      <td>4.02</td>\n",
       "      <td>4.56</td>\n",
       "    </tr>\n",
       "  </tbody>\n",
       "</table>\n",
       "</div>"
      ],
      "text/plain": [
       "              Region  Alcohol  Tobacco\n",
       "0              North     6.47     4.03\n",
       "1          Yorkshire     6.13     3.76\n",
       "2          Northeast     6.19     3.77\n",
       "3      East_Midlands     4.89     3.34\n",
       "4      West_Midlands     5.63     3.47\n",
       "5        East_Anglia     4.52     2.92\n",
       "6          Southeast     5.89     3.20\n",
       "7          Southwest     4.79     2.71\n",
       "8              Wales     5.27     3.53\n",
       "9           Scotland     6.08     4.51\n",
       "10  Northern_Ireland     4.02     4.56"
      ]
     },
     "execution_count": 4,
     "metadata": {},
     "output_type": "execute_result"
    }
   ],
   "source": [
    "df"
   ]
  },
  {
   "cell_type": "code",
   "execution_count": 5,
   "metadata": {
    "collapsed": false
   },
   "outputs": [
    {
     "data": {
      "image/png": "[encoded data removed]",
      "text/plain": [
       "<matplotlib.figure.Figure at 0xbb813d10f0>"
      ]
     },
     "metadata": {},
     "output_type": "display_data"
    }
   ],
   "source": [
    "plt.plot(df.Tobacco, df.Alcohol, 'o', ms=8)\n",
    "plt.xlabel('Tobacco')\n",
    "plt.ylabel('Alcohol')\n",
    "plt.title('Sales in Several UK Regions')\n",
    "plt.ylim([3.8, 6.7])\n",
    "plt.show()"
   ]
  },
  {
   "cell_type": "markdown",
   "metadata": {},
   "source": [
    "## Uczymy nasz model\n",
    "Nauczmy nasz model regresji liniowej na zbiorze danych bez ostatniej wartości (uznajemy, że jest to element odstający (outlier))"
   ]
  },
  {
   "cell_type": "code",
   "execution_count": 6,
   "metadata": {
    "collapsed": false,
    "scrolled": true
   },
   "outputs": [
    {
     "name": "stdout",
     "output_type": "stream",
     "text": [
      "                            OLS Regression Results                            \n",
      "==============================================================================\n",
      "Dep. Variable:                Alcohol   R-squared:                       0.615\n",
      "Model:                            OLS   Adj. R-squared:                  0.567\n",
      "Method:                 Least Squares   F-statistic:                     12.78\n",
      "Date:                Wed, 17 May 2017   Prob (F-statistic):            0.00723\n",
      "Time:                        21:12:48   Log-Likelihood:                -4.9998\n",
      "No. Observations:                  10   AIC:                             14.00\n",
      "Df Residuals:                       8   BIC:                             14.60\n",
      "Df Model:                           1                                         \n",
      "Covariance Type:            nonrobust                                         \n",
      "==============================================================================\n",
      "                 coef    std err          t      P>|t|      [95.0% Conf. Int.]\n",
      "------------------------------------------------------------------------------\n",
      "Intercept      2.0412      1.001      2.038      0.076        -0.268     4.350\n",
      "Tobacco        1.0059      0.281      3.576      0.007         0.357     1.655\n",
      "==============================================================================\n",
      "Omnibus:                        2.542   Durbin-Watson:                   1.975\n",
      "Prob(Omnibus):                  0.281   Jarque-Bera (JB):                0.904\n",
      "Skew:                          -0.014   Prob(JB):                        0.636\n",
      "Kurtosis:                       1.527   Cond. No.                         27.2\n",
      "==============================================================================\n",
      "\n",
      "Warnings:\n",
      "[1] Standard Errors assume that the covariance matrix of the errors is correctly specified.\n"
     ]
    },
    {
     "name": "stderr",
     "output_type": "stream",
     "text": [
      "D:\\Anaconda3\\lib\\site-packages\\scipy\\stats\\stats.py:1327: UserWarning: kurtosistest only valid for n>=20 ... continuing anyway, n=10\n",
      "  \"anyway, n=%i\" % int(n))\n"
     ]
    }
   ],
   "source": [
    "result = sm.ols('Alcohol ~ Tobacco', df[:-1]).fit()\n",
    "print(result.summary())"
   ]
  },
  {
   "cell_type": "code",
   "execution_count": 7,
   "metadata": {
    "collapsed": false
   },
   "outputs": [
    {
     "name": "stdout",
     "output_type": "stream",
     "text": [
      "2.04122308684\n",
      "1.00589583234\n",
      "Intercept    2.041223\n",
      "Tobacco      1.005896\n",
      "dtype: float64\n"
     ]
    }
   ],
   "source": [
    "print(result.params[0])\n",
    "print(result.params[1])\n",
    "print(result.params)"
   ]
  },
  {
   "cell_type": "code",
   "execution_count": 8,
   "metadata": {
    "collapsed": false
   },
   "outputs": [
    {
     "data": {
      "image/png": "[encoded data removed]",
      "text/plain": [
       "<matplotlib.figure.Figure at 0x8d05ae1780>"
      ]
     },
     "metadata": {},
     "output_type": "display_data"
    }
   ],
   "source": [
    "f_lr = lambda x: result.params[1] * x + result.params[0]\n",
    "x_f_lr = np.linspace(2, 5, 200)\n",
    "y_f_lr = f_lr(x_f_lr)\n",
    "plt.figure(figsize=(6,6));\n",
    "axes = plt.gca()\n",
    "axes.set_xlim([2, 5])\n",
    "plt.plot(df.Tobacco, df.Alcohol, 'o', ms=8)\n",
    "plt.plot(x_f_lr, y_f_lr, 'g');\n",
    "plt.show()"
   ]
  },
  {
   "cell_type": "markdown",
   "metadata": {},
   "source": [
    "# Opis\n",
    "Lewa kolumna przeważnie zawiera informacje dotyczące użytej metody:\n",
    "\n",
    "- Df (model) -- oznacza stopnie swobody modelu czyli liczbę predyktorów (zmiennych objaśniających). \n",
    "- Df (residuals) -- oznacza liczbę obserwacji pomniejszoną o stopnie swobody modelu minus jeden (dla przesunięcia).\n",
    "\n",
    "Jeżeli oznaczymy przez\n",
    "$n$ liczbą obserwacji, a $k$ liczbą parametrów regresji/modelu. \n",
    "(np. dla modelu liniowego z przykłady mamy $k=2$.), a $\\hat y$ przewidywaną wartość modelu oraz $\\bar y$ średnią z zaobserwowanych wartości to\n",
    "\n",
    "- (Corrected) Model Degrees\n",
    "\n",
    "$$\n",
    "DF_{mod} =  k-1\n",
    "$$\n",
    "\n",
    "- Residuals Degrees of Freedom\n",
    "\n",
    "$$\n",
    "DF_{res} = n - k\n",
    "$$\n",
    "\n",
    "- Residuals Degrees of Freedom ($DF_{mod} + DF_{res} = DF_{tot}$)\n",
    "\n",
    "$$\n",
    "DF_{tot} = n - 1\n",
    "$$\n",
    "\n",
    "\n"
   ]
  },
  {
   "cell_type": "code",
   "execution_count": 49,
   "metadata": {
    "collapsed": false
   },
   "outputs": [
    {
     "name": "stdout",
     "output_type": "stream",
     "text": [
      "10\n",
      "8.0\n",
      "1.0\n"
     ]
    }
   ],
   "source": [
    "N = df.shape[0]-1 # size of data\n",
    "k = 2.\n",
    "dfm, dfe = k-1, N - k\n",
    "print(N)\n",
    "print(dfe)\n",
    "print(dfm)"
   ]
  },
  {
   "cell_type": "markdown",
   "metadata": {},
   "source": [
    "### Zmienność zbioru możemy mierzyć różnymi miarami:\n",
    "\n",
    "- Model Sum of Squares (Explained Sum of Squares)\n",
    "$$\n",
    "SS_{mod} = \\sum_{i=1}^{n} (\\hat y_i - \\bar y)^2\n",
    "$$\n",
    "\n",
    "- Residuals Sum of Squares (sum of squares for the errors)\n",
    "$$\n",
    "SS_{res} = \\sum_{i=1}^{n} (y_i - \\hat y_i)^2\n",
    "$$\n",
    "\n",
    "- Total Sum of Squares (równoważna wariancji próbki pomnożonej przez ($n-1$).\n",
    "$$\n",
    "SS_{tot} = \\sum_{i=1}^{n} (y_i - \\bar y)^2\n",
    "$$\n",
    "\n",
    "- Model Mean of Squares\n",
    "\n",
    "$$\n",
    "MS_{mod} = SS_{mod}/DF_{mod}\n",
    "$$\n",
    "\n",
    "- Residuals Mean of Squares (jest estymatorem nieobciążonym $\\sigma^2$)\n",
    "\n",
    "$$\n",
    "MS_{res} = SS_{res}/DF_{res}\n",
    "$$\n",
    "\n",
    "- Total Mean of Squares\n",
    "\n",
    "$$\n",
    "MS_{tot} = SS_{tot}/DF_{tot}\n",
    "$$\n",
    "\n",
    "### $R^2$ Value wyraża się wzorem \n",
    "\n",
    "$$\n",
    "R^2 = 1-\\frac{SS_{res}}{SS_{tot}} = \\frac{SS_{model}}{SS_{tot}}\n",
    "$$\n",
    "Adjusted $\\bar R^2$ Value jest modyfikacją $R^2$ biorącą pod uwagę karę za dużą liczbę parametrów w modelu $p$:\n",
    "\n",
    "$$\n",
    "1-\\bar R^2 = \\frac{ResidualVariance}{TotalVariance},\n",
    "$$\n",
    "\n",
    "gdzie (Sample) Residual Variance to\n",
    "\n",
    "$$\n",
    "ResidualVariance=SS_{res}/DF_{res}=SS_{res}/(n-k)\n",
    "$$\n",
    "\n",
    "(Sample) Total Variance to\n",
    "\n",
    "$$\n",
    "ResidualVariance=SS_{tot}/DF_{tot}=SS_{tot}/(n-1)\n",
    "$$\n",
    "\n",
    "\n",
    "\n"
   ]
  },
  {
   "cell_type": "markdown",
   "metadata": {},
   "source": [
    "# Zadanie 1\n",
    "Proszę wyliczyć \n",
    "<ul>\n",
    "<li>ss_res</li>\n",
    "<li>ss_tot</li>\n",
    "<li>R</li>\n",
    "<li>$\\bar R$</li>\n",
    "</ul>"
   ]
  },
  {
   "cell_type": "code",
   "execution_count": 32,
   "metadata": {
    "collapsed": false
   },
   "outputs": [
    {
     "name": "stdout",
     "output_type": "stream",
     "text": [
      "ss_res = 1.591\n",
      "ss_tot = 4.135\n",
      "R = 0.615\n",
      "\\bar R = 0.567\n"
     ]
    }
   ],
   "source": [
    "y=np.array(df[:-1].Alcohol)\n",
    "x=np.array(df[:-1].Tobacco)\n",
    "n = len(x) # number of samples    \n",
    "f = lambda x: result.params[1] * x + result.params[0]\n",
    "mean_y = np.mean(y)\n",
    "ss_res=np.sum( (y-f(x))**2 )\n",
    "ss_tot=np.sum( (y-mean_y)**2 )\n",
    "ss_mod=np.sum( (f(x)-mean_y)**2 )\n",
    "R=1-ss_res/ss_tot\n",
    "bar_R=1-(ss_res/dfe)/(ss_tot/(n-1))\n",
    "print( r'ss_res = %.3f' % ss_res)\n",
    "print( r'ss_tot = %.3f' % ss_tot)\n",
    "print( r'R = %.3f' % R)\n",
    "print( r'\\bar R = %.3f' % bar_R)"
   ]
  },
  {
   "cell_type": "markdown",
   "metadata": {},
   "source": [
    "# The F-Test for regression\n",
    "\n",
    "W przypadku modelu regresji:\n",
    "\n",
    "$$\n",
    "Y_i = \\alpha + \\beta_1X_{1j}+\\ldots+\\beta_n X_{nj} + \\epsilon_i = \\alpha + \\sum_{i=1}^{n} \\beta_{i} X_{ij}+\\epsilon_j .\n",
    "$$\n",
    "\n",
    "Chcemy przetestować hipotezę:\n",
    "\n",
    "$$\n",
    "H_{0}: \\beta_1=\\beta_2=\\ldots\\beta_n=0\n",
    "$$\n",
    "\n",
    "vs\n",
    "\n",
    "$$\n",
    "H_{1}: \\beta_{j} \\neq 0 \\mbox{ dla co najmniej jednego } j\n",
    "$$\n",
    "\n",
    "Pamiętamy, że jeżeli zmienne losowe $t_1,t_2,\\ldots,t_m$ są niezależne o rozkładzie normalnym $N(0,\\sigma^2)$ to\n",
    "\n",
    "$$\n",
    "\\sum_{i=1}^{m}\\frac{t_i^2}{\\sigma^2}\n",
    "$$\n",
    "\n",
    "ma rozkład chi-kwadrat z $m$ stopniami swobody.\n",
    "\n",
    "W konsekwencji, jeżeli hipoteza zerowa jest prawdziwa to:\n",
    "\n",
    "- $SS_{res}/\\sigma^2$ ma rokład $\\chi^2$ z $DF_{res}$ stopniami swobody\n",
    "\n",
    "- $SS_{mod}/\\sigma^2$ ma rokład $\\chi^2$ z $DF_{mod}$ stopniami swobody\n",
    "\n",
    "- $SS_{res}$ oraz $SS_{mod}$ są niezależne\n",
    "\n",
    "Jeżeli zmienna losowa $U$ ma rozkład $\\chi^2$ z $n$ stopniami swobody oraz $V$ jest zmienną losową o rozkładzie $\\chi^2$ z $m$ stopniami swobody to \n",
    "\n",
    "$$\n",
    "F=\\frac{U/n}{V/m}\n",
    "$$\n",
    "\n",
    "ma rozkład F z $(n,m)$ stopniami swobody.\n",
    "\n",
    "Jeżeli hipoteza $H_0$ jest prawdziwa to\n",
    "\n",
    "$$\n",
    "F=\\frac{(SS_{mod}/\\sigma^2)/DF_{mod}}{(SS_{res}/\\sigma^2)/DF_{res}} = \\frac{SS_{mod}/DF_{mod}  }{ SS_{res}/DF_{res} }\n",
    "$$\n",
    "\n",
    "ma rozkład z ($DF_{mod},DF_{res}$) stopniami swobody i jest niezależna od $\\sigma$.\n"
   ]
  },
  {
   "cell_type": "markdown",
   "metadata": {},
   "source": [
    "# Zadanie 2\n",
    "Proszę wyliczyć \n",
    "<ul>\n",
    "<li>statystykę testową F</li>\n",
    "<li>p-value</li>\n",
    "</ul>"
   ]
  },
  {
   "cell_type": "code",
   "execution_count": 38,
   "metadata": {
    "collapsed": false
   },
   "outputs": [
    {
     "name": "stdout",
     "output_type": "stream",
     "text": [
      "0.198934077971\n",
      "0.198934077971\n",
      "2.54336737624\n",
      "2.54336737624\n"
     ]
    }
   ],
   "source": [
    "ss_mod=np.sum( (f(x)-mean_y)**2 )\n",
    "print(result.mse_resid)\n",
    "print(ss_res/dfe)\n",
    "print(result.mse_model)\n",
    "print(ss_mod/dfm)"
   ]
  },
  {
   "cell_type": "code",
   "execution_count": 39,
   "metadata": {
    "collapsed": false
   },
   "outputs": [
    {
     "name": "stdout",
     "output_type": "stream",
     "text": [
      "F-statistic: 12.785, p-value: 0.00723\n"
     ]
    }
   ],
   "source": [
    "F = (ss_mod/dfm)/ (ss_res/dfe)\n",
    "p = 1.0 - stats.f.cdf(F,dfm,dfe)\n",
    "print('F-statistic: {:.3f}, p-value: {:.5f}'.format( F, p ))"
   ]
  },
  {
   "cell_type": "markdown",
   "metadata": {},
   "source": [
    "# Log-Likelihood Function\n",
    "\n",
    "Dla klasycznej regresji liniowej mamy\n",
    "$$\n",
    "\\epsilon = y_{i}-\\sum_{k=1}^{n} \\beta_{k} x_{ik} = y_i - \\hat y_{i} \\thicksim N(0,\\sigma)\n",
    "$$\n",
    "\n",
    "W konsekwencji wiemy, że \n",
    "\n",
    "$$\n",
    "p(\\epsilon_i)=f(\\frac{y_i-\\hat y_i}{\\sigma})\n",
    "$$\n",
    "\n",
    "gdzie $f$ jest gęstością standardowego rozkładu normalnego.\n",
    "\n",
    "Zakładając niezależność między błędami mamy funkcję wiarygodności:\n",
    "\n",
    "$$\n",
    "l_{total}=\\prod_{i=1}^{n} p(\\epsilon_i).\n",
    "$$\n",
    "\n",
    "Logarytmiczną funkcją wiarygodności (Log Likelihood function) nazywamy:\n",
    "\n",
    "$$\n",
    "L=\\ln(l)=\\ln\\left(\\prod_{i=1}^{n} f(\\frac{y_i-\\hat y_i}{\\sigma}) \\right)\n",
    "$$\n",
    "\n",
    "$$\n",
    "L=\\ln(l)=\\ln\\left(\\prod_{i=1}^{n} \\frac{1}{\\sigma\\sqrt{2\\pi}} \\exp\\left( - \\frac{ (y_i-\\hat y_i)^2 }{2\\sigma^2} \\right) \\right)=\n",
    "$$\n",
    "$$\n",
    "=\\sum_{i=1}^{n} \\left( \\ln\\left( \\frac{1}{\\sigma\\sqrt{2\\pi}}\\right) - \\left( \\frac{ (y_i-\\hat y_i)^2 }{2\\sigma^2} \\right)\\right) \n",
    "$$\n",
    "\n",
    "Można pokazać, że estymatorem największej wiarygodności wariancji jest\n",
    "\n",
    "$$\n",
    "\\sigma^2 = \\frac{SS_{res}}{n}.\n",
    "$$"
   ]
  },
  {
   "cell_type": "markdown",
   "metadata": {},
   "source": [
    "# Zadanie 3\n",
    "Proszę wyliczyć \n",
    "<ul>\n",
    "<li>ln(L)</li>\n",
    "</ul>"
   ]
  },
  {
   "cell_type": "code",
   "execution_count": 40,
   "metadata": {
    "collapsed": false
   },
   "outputs": [
    {
     "name": "stdout",
     "output_type": "stream",
     "text": [
      "ln(L) =  -4.9998\n"
     ]
    }
   ],
   "source": [
    "s2 = ss_res / n\n",
    "L = (1.0/np.sqrt(2*np.pi*s2)) ** N*np.exp(-ss_res/(s2*2.0))\n",
    "print(r'ln(L) =  %.4f' % np.log( L ))"
   ]
  },
  {
   "cell_type": "markdown",
   "metadata": {},
   "source": [
    "Innymi powszechnie spotykanymi kryteriami jest Akaike Information Criterion (AIC)  oraz Bayesian Information Criterion (BIC), które opierają się na funkcji wiarygodności. Obydwa dwie miary wprowadzają kary za złożoność modelu, ale AIC kara mniej za złożoność niż BIC. \n",
    "\n",
    "Kryterium Informacyjne Akaike (AIC):\n",
    "\n",
    "$$\n",
    "AIC = 2\\cdot k-2\\cdot \\ln(L)\n",
    "$$\n",
    "\n",
    "Bayesian Information Criterion (BIC):\n",
    "\n",
    "$$\n",
    "BIC = k \\cdot \\ln(N)-2 \\cdot \\ln(L)\n",
    "$$\n",
    "\n",
    "gdzie, $N$ jest liczbą obserwacji, $k$ jest liczbą parametrów, a $L$ jest funkcją wiarygodności. \n",
    "\n",
    "Powinniśmy wybrać model o niższej wartości AIC lub BIC."
   ]
  },
  {
   "cell_type": "markdown",
   "metadata": {},
   "source": [
    "# Zadanie 4\n",
    "Proszę wyliczyć \n",
    "<ul>\n",
    "<li>AIC</li>\n",
    "<li>BIC</li>\n",
    "</ul>"
   ]
  },
  {
   "cell_type": "code",
   "execution_count": 13,
   "metadata": {
    "collapsed": false
   },
   "outputs": [
    {
     "name": "stdout",
     "output_type": "stream",
     "text": [
      "AIC =  14.00\n",
      "BIC =  14.60\n"
     ]
    }
   ],
   "source": [
    "AIC = 2*k-2*np.log(L)\n",
    "BIC = k *np.log(N)-2 * np.log(L)\n",
    "print(r'AIC =  %.2f' % AIC)\n",
    "print(r'BIC =  %.2f' % BIC)"
   ]
  },
  {
   "cell_type": "markdown",
   "metadata": {},
   "source": [
    "Parametr $\\beta$ możemy łatwo otrzymać wyznaczając macierz odwrotną do $X$\n",
    "\n",
    "$$\n",
    "\\beta=(X^T X)^{-1} X^T y. \n",
    "$$"
   ]
  },
  {
   "cell_type": "markdown",
   "metadata": {},
   "source": [
    "# Zadanie 5\n",
    "Proszę wyliczyć \n",
    "<ul>\n",
    "<li>$\\beta$</li>\n",
    "</ul>"
   ]
  },
  {
   "cell_type": "code",
   "execution_count": 29,
   "metadata": {
    "collapsed": false
   },
   "outputs": [
    {
     "data": {
      "text/plain": [
       "matrix([[ 2.04122309,  1.00589583]])"
      ]
     },
     "execution_count": 29,
     "metadata": {},
     "output_type": "execute_result"
    }
   ],
   "source": [
    "X = df.Tobacco[:-1]\n",
    "Y = np.matrix(df.Alcohol[:-1])\n",
    "X = np.vstack(( np.ones(X.size), X ))\n",
    "X = np.matrix( X )\n",
    "C = np.linalg.inv( X * X.T )\n",
    "Y*(X.T*C)"
   ]
  },
  {
   "cell_type": "markdown",
   "metadata": {},
   "source": [
    "W celu uzyskania odchylenia standardowego współczynników obliczymy macierz kowariancji dla $\\beta$:\n",
    "\n",
    "$$\n",
    "C = cov(\\beta)= \\sigma^2(X^T X)^{-1}, \\mbox{ gdzie } \\sigma^2 \\mbox{ jest wariancją } \\hat y_i.\n",
    "$$\n",
    "\n",
    "Błąd standardowy jest dany przez pierwiastki wartości na digonali macierzy kowariancji."
   ]
  },
  {
   "cell_type": "markdown",
   "metadata": {},
   "source": [
    "# Zadanie 6\n",
    "Proszę wyliczyć \n",
    "<ul>\n",
    "<li> odchylenia standardowego współczynników $\\beta$</li>\n",
    "</ul>"
   ]
  },
  {
   "cell_type": "code",
   "execution_count": 15,
   "metadata": {
    "collapsed": false
   },
   "outputs": [
    {
     "name": "stdout",
     "output_type": "stream",
     "text": [
      "[[ 1.00136021         nan]\n",
      " [        nan  0.28132158]]\n"
     ]
    },
    {
     "name": "stderr",
     "output_type": "stream",
     "text": [
      "D:\\Anaconda3\\lib\\site-packages\\ipykernel\\__main__.py:5: RuntimeWarning: invalid value encountered in sqrt\n"
     ]
    }
   ],
   "source": [
    "# multiply by the mean squared error of the residual\n",
    "mse_res=(ss_res/dfe)\n",
    "C *= mse_res\n",
    "# take the square root\n",
    "SE = np.sqrt(C)\n",
    "print(SE)"
   ]
  },
  {
   "cell_type": "markdown",
   "metadata": {},
   "source": [
    "możemy użyć testu t-Studenta, aby przetestować hipotezę zerową mówiącą, że \n",
    "\n",
    "<i>współczynnik wynosi zero, co sugeruje, że dany predykator nie ma znaczącego wpływu na zmienną objaśnianą. </i>\n",
    "\n",
    "Statystyka t jest dana wzorem\n",
    "\n",
    "$$\n",
    "t_i=\\frac{\\beta}{SE_{ii}}.\n",
    "$$"
   ]
  },
  {
   "cell_type": "markdown",
   "metadata": {},
   "source": [
    "# Zadanie 7\n",
    "Proszę wyliczyć \n",
    "<ul>\n",
    "<li> statystykę testową t dla parametrów $\\beta$</li>\n",
    "</ul>"
   ]
  },
  {
   "cell_type": "code",
   "execution_count": 30,
   "metadata": {
    "collapsed": false
   },
   "outputs": [
    {
     "name": "stdout",
     "output_type": "stream",
     "text": [
      "t = 1.073285435\n",
      "p = 0.311\n"
     ]
    }
   ],
   "source": [
    "i = 1\n",
    "beta = result.params[i]\n",
    "se = SE[i,i]\n",
    "t = beta / se\n",
    "print('t =', t)\n",
    "N = result.nobs\n",
    "k = result.df_model + 1\n",
    "dof = N - k\n",
    "p_onesided = 1.0 - stats.t( dof ).cdf( t )\n",
    "p = p_onesided * 2.0\n",
    "print('p = {0:.3f}'.format(p))"
   ]
  },
  {
   "cell_type": "code",
   "execution_count": 31,
   "metadata": {
    "collapsed": false
   },
   "outputs": [
    {
     "name": "stdout",
     "output_type": "stream",
     "text": [
      "t = 4.34525800139\n",
      "p = 0.002\n"
     ]
    }
   ],
   "source": [
    "i = 0\n",
    "beta = result.params[i]\n",
    "se = SE[i,i]\n",
    "t = beta / se\n",
    "print('t =', t)\n",
    "N = result.nobs\n",
    "k = result.df_model + 1\n",
    "dof = N - k\n",
    "p_onesided = 1.0 - stats.t( dof ).cdf( t )\n",
    "p = p_onesided * 2.0\n",
    "print('p = {0:.3f}'.format(p))"
   ]
  },
  {
   "cell_type": "markdown",
   "metadata": {
    "collapsed": false
   },
   "source": [
    "Przedział ufności dany jest wzorem\n",
    "\n",
    "$$\n",
    "CI = \\beta_i \\pm PPF(0.975) \\cdot SE_{i,i}.\n",
    "$$"
   ]
  },
  {
   "cell_type": "markdown",
   "metadata": {},
   "source": [
    "# Zadanie 8\n",
    "Proszę wyliczyć \n",
    "<ul>\n",
    "<li> przedziały ufności dla statystyk $t_1$ i $t_2$</li>\n",
    "</ul>"
   ]
  },
  {
   "cell_type": "code",
   "execution_count": 18,
   "metadata": {
    "collapsed": false
   },
   "outputs": [
    {
     "name": "stdout",
     "output_type": "stream",
     "text": [
      "-0.267917709371 4.35036388305\n"
     ]
    }
   ],
   "source": [
    "i = 0\n",
    "# the estimated coefficient, and its variance\n",
    "beta, c = result.params[i], SE[i,i]\n",
    "# critical value of the t-statistic\n",
    "N = result.nobs\n",
    "P = result.df_model\n",
    "dof = N - P - 1\n",
    "z = stats.t( dof ).ppf(0.975) # 1 - 0.05/2\n",
    "# the confidence interval\n",
    "print(beta - z * c, beta + z * c)"
   ]
  },
  {
   "cell_type": "code",
   "execution_count": 19,
   "metadata": {
    "collapsed": false
   },
   "outputs": [
    {
     "name": "stdout",
     "output_type": "stream",
     "text": [
      "0.357167097503 1.65462456717\n"
     ]
    }
   ],
   "source": [
    "i = 1\n",
    "# the estimated coefficient, and its variance\n",
    "beta, c = result.params[i], SE[i,i]\n",
    "# critical value of the t-statistic\n",
    "N = result.nobs\n",
    "P = result.df_model\n",
    "dof = N - P - 1\n",
    "z = stats.t( dof ).ppf(0.975) # 1 - 0.05/2\n",
    "# the confidence interval\n",
    "print(beta - z * c, beta + z * c)"
   ]
  },
  {
   "cell_type": "markdown",
   "metadata": {},
   "source": [
    "Skośność i kurtoza odnoszą się do kształtu rozkładu. Skośność jest miarą asymetrii rozkładu, a kurtoza jest miarą jego krzywizny (grube ogony):\n",
    "\n",
    "$$\n",
    "S=\\frac{\\hat \\mu_3}{\\hat \\sigma^3}=\\frac{\\frac{1}{N} \\sum_{i=1}^{N} (y_i -\\hat y_{i} )^3 }{ \\left( \\frac{1}{N} \\sum_{i=1}^{N} (y_i -\\hat y_{i} )^2 \\right)^{3/2}}\n",
    "$$\n",
    "\n",
    "$$\n",
    "K=\\frac{\\hat \\mu_4}{\\hat \\sigma^4}=\\frac{\\frac{1}{N} \\sum_{i=1}^{N} (y_i -\\hat y_{i} )^4 }{ \\left( \\frac{1}{N} \\sum_{i=1}^{N} (y_i -\\hat y_{i} )^2 \\right)^{2}}\n",
    "$$\n",
    "\n",
    "Kurtozę definiuje się jako $K-3$ gdysz rozkłady normalne mają kurtozę równą $3$."
   ]
  },
  {
   "cell_type": "markdown",
   "metadata": {},
   "source": [
    "# Zadanie 9\n",
    "Proszę wyliczyć \n",
    "<ul>\n",
    "<li>skośność</li>\n",
    "<li>kurtozę</li>\n",
    "</ul>"
   ]
  },
  {
   "cell_type": "code",
   "execution_count": 20,
   "metadata": {
    "collapsed": false
   },
   "outputs": [
    {
     "name": "stdout",
     "output_type": "stream",
     "text": [
      "Skewness: -0.014, Kurtosis: 1.527\n"
     ]
    }
   ],
   "source": [
    "#d = Y - result.fittedvalues\n",
    "d = y - f(x)\n",
    "S = np.mean( d**3.0 ) / np.mean( d**2.0 )**(3.0/2.0)\n",
    "# equivalent to:\n",
    "# S = stats.skew(result.resid, bias=True)\n",
    "K = np.mean( d**4.0 ) / np.mean( d**2.0 )**(4.0/2.0)\n",
    "# equivalent to:\n",
    "# K = stats.kurtosis(result.resid, fisher=False,\n",
    "# bias=True)\n",
    "print('Skewness: {:.3f}, Kurtosis: {:.3f}'.format(S,K))"
   ]
  },
  {
   "cell_type": "markdown",
   "metadata": {},
   "source": [
    "## Omnibus Test\n",
    "Omnibus Test wykorzystuje skośność i kurtozę, aby przetestować hipotezę zerową mówiącą, że rozkład błędów (residuals) jest normalny. \n",
    "\n",
    "Jeśli otrzymamy bardzo małą p-value dla  Omnibus Test, wówczas błędy nie pochodzą a rozkładu normalnego. "
   ]
  },
  {
   "cell_type": "markdown",
   "metadata": {},
   "source": [
    "# Zadanie 10\n",
    "Proszę wykonać Omnibus test. "
   ]
  },
  {
   "cell_type": "code",
   "execution_count": 21,
   "metadata": {
    "collapsed": false
   },
   "outputs": [
    {
     "name": "stdout",
     "output_type": "stream",
     "text": [
      "Omnibus: 2.542, p = 0.281\n"
     ]
    },
    {
     "name": "stderr",
     "output_type": "stream",
     "text": [
      "D:\\Anaconda3\\lib\\site-packages\\scipy\\stats\\stats.py:1327: UserWarning: kurtosistest only valid for n>=20 ... continuing anyway, n=10\n",
      "  \"anyway, n=%i\" % int(n))\n"
     ]
    }
   ],
   "source": [
    "(K2, p) = stats.normaltest(result.resid)\n",
    "print('Omnibus: {0:.3f}, p = {1:.3f}'.format(K2, p))"
   ]
  },
  {
   "cell_type": "markdown",
   "metadata": {},
   "source": [
    "## Test Durbin-Watson\n",
    "Durbin-Watson jest testem  używany do wykrywania obecności autokorelacji (relacji pomiędzy wartościami oddzielonymi od siebie określonym czasem opóźnienia) w błędach. U nas opóźnienie jest jedno:\n",
    "\n",
    "$$\n",
    "DW=\\frac{ \\sum_{i=1}^{N} ( (y_i -\\hat y_{i}) - (y_{i-1} - \\hat y_{i-1} ) )^2 }{\\sum_{i=1}^{N} (y_i -\\hat y_{i} )^2}\n",
    "$$\n",
    "\n",
    "\n",
    "Jeśli statystyka Durbin-Watson jest znacznie mniejsza od 2, to dane są skorelowane dodatnio. W zasadzie, jeśli statystyka Durbin-Watsona jest mniejszy niż $1.0$, to należy zastanowić się nad zmianą modelu."
   ]
  },
  {
   "cell_type": "markdown",
   "metadata": {},
   "source": [
    "# Zadanie 11\n",
    "Proszę wykonać Durbin-Watson test (można użyć <tt>np.diff</tt>)."
   ]
  },
  {
   "cell_type": "code",
   "execution_count": 47,
   "metadata": {
    "collapsed": false
   },
   "outputs": [
    {
     "name": "stdout",
     "output_type": "stream",
     "text": [
      "Durbin-Watson: 1.97535\n"
     ]
    }
   ],
   "source": [
    "DW = np.sum( np.diff( f(x) - y )**2.0 ) /  ss_res\n",
    "print('Durbin-Watson: {:.5f}'.format( DW ))"
   ]
  },
  {
   "cell_type": "code",
   "execution_count": 48,
   "metadata": {
    "collapsed": false
   },
   "outputs": [
    {
     "name": "stdout",
     "output_type": "stream",
     "text": [
      "Durbin-Watson: 1.97535\n"
     ]
    }
   ],
   "source": [
    "DW = np.sum( np.diff( result.resid.values )**2.0 ) / result.ssr\n",
    "print('Durbin-Watson: {:.5f}'.format( DW ))"
   ]
  },
  {
   "cell_type": "markdown",
   "metadata": {},
   "source": [
    "## Test Jarque-Bera\n",
    "Test Jarque-Bera to kolejny test, który uwzględnia skośność (S) i kurtozę (K).\n",
    "Hipoteza zerowa mówi, że rozkład jest normalny w sensie zerowej skośność i kurtozy\n",
    "\n",
    "Niestety, przy małych próbkach, test Jarque-Bera jest podatny na odrzucenie hipotezy zerowej (że rozkład jest normalny) gdy nie powinien.\n",
    "\n",
    "$$\n",
    "JB=\\frac{N}{6}\\left( S^2 + \\frac{1}{4}(K-3)^2  \\right)\n",
    "$$\n",
    "\n",
    "Statystyka Jarque–Bera ma rozkład chi kwadrat z dwoma stopniami swobody."
   ]
  },
  {
   "cell_type": "markdown",
   "metadata": {},
   "source": [
    "# Zadanie 12\n",
    "Proszę wykonać Jarque-Bera test."
   ]
  },
  {
   "cell_type": "code",
   "execution_count": 23,
   "metadata": {
    "collapsed": false
   },
   "outputs": [
    {
     "name": "stdout",
     "output_type": "stream",
     "text": [
      "JB-statistic: 0.90421, p-value: 0.63629\n"
     ]
    }
   ],
   "source": [
    "JB = (N/6.0) * ( S**2.0 + (1.0/4.0)*( K - 3.0 )**2.0 )\n",
    "p = 1.0 - stats.chi2(2).cdf(JB)\n",
    "print('JB-statistic: {:.5f}, p-value: {:.5f}'.format( JB, p ))"
   ]
  },
  {
   "cell_type": "markdown",
   "metadata": {},
   "source": [
    "## Condition Number\n",
    "Condition Number - określa czułość wyjścia funkcji na jego wejście. Gdy dwie zmienne objaśniające są wysoce skorelowane mała zmiana w danych lub modelu drastycznie zmienia wyniki. W idealnej sytuacji podobne modele powinny dawać podobne wyniki.\n",
    "\n",
    "Condition Number obliczamy wyznaczając wartości własne $X^TX$ (w tym wektora stałych), a następnie biorąc pierwiastek ze stosunku największej wartości własnej do najmniejszej. \n",
    "\n",
    "Jeśli Condition Number przekracza 30, to model regresji powinien zostać zmieniony."
   ]
  },
  {
   "cell_type": "markdown",
   "metadata": {},
   "source": [
    "# Zadanie 13\n",
    "Proszę wyliczyć Condition Number."
   ]
  },
  {
   "cell_type": "code",
   "execution_count": 24,
   "metadata": {
    "collapsed": false
   },
   "outputs": [
    {
     "name": "stdout",
     "output_type": "stream",
     "text": [
      "(array([   0.18412885,  136.51527115]), matrix([[-0.96332746, -0.26832855],\n",
      "        [ 0.26832855, -0.96332746]]))\n",
      "Condition No.: 27.22887\n"
     ]
    }
   ],
   "source": [
    "X = np.matrix(X)\n",
    "EV = np.linalg.eig( X * X.T )\n",
    "print(EV)\n",
    "CN = np.sqrt( EV[0].max() / EV[0].min() )\n",
    "print('Condition No.: {:.5f}'.format( CN ))"
   ]
  },
  {
   "cell_type": "markdown",
   "metadata": {},
   "source": [
    "# Zadanie 14\n",
    "\n",
    "Wykonaj regresję dla danych z ostatnim elementem, który został przez nas uznany za element odstający (outlier).\n",
    "Porównaj wyniki."
   ]
  },
  {
   "cell_type": "code",
   "execution_count": 27,
   "metadata": {
    "collapsed": false
   },
   "outputs": [
    {
     "name": "stdout",
     "output_type": "stream",
     "text": [
      "                            OLS Regression Results                            \n",
      "==============================================================================\n",
      "Dep. Variable:                Alcohol   R-squared:                       0.050\n",
      "Model:                            OLS   Adj. R-squared:                 -0.056\n",
      "Method:                 Least Squares   F-statistic:                    0.4735\n",
      "Date:                Mon, 08 May 2017   Prob (F-statistic):              0.509\n",
      "Time:                        13:14:12   Log-Likelihood:                -12.317\n",
      "No. Observations:                  11   AIC:                             28.63\n",
      "Df Residuals:                       9   BIC:                             29.43\n",
      "Df Model:                           1                                         \n",
      "Covariance Type:            nonrobust                                         \n",
      "==============================================================================\n",
      "                 coef    std err          t      P>|t|      [95.0% Conf. Int.]\n",
      "------------------------------------------------------------------------------\n",
      "Intercept      4.3512      1.607      2.708      0.024         0.717     7.986\n",
      "Tobacco        0.3019      0.439      0.688      0.509        -0.691     1.295\n",
      "==============================================================================\n",
      "Omnibus:                        3.123   Durbin-Watson:                   1.655\n",
      "Prob(Omnibus):                  0.210   Jarque-Bera (JB):                1.397\n",
      "Skew:                          -0.873   Prob(JB):                        0.497\n",
      "Kurtosis:                       3.022   Cond. No.                         25.5\n",
      "==============================================================================\n",
      "\n",
      "Warnings:\n",
      "[1] Standard Errors assume that the covariance matrix of the errors is correctly specified.\n"
     ]
    },
    {
     "name": "stderr",
     "output_type": "stream",
     "text": [
      "D:\\Anaconda3\\lib\\site-packages\\scipy\\stats\\stats.py:1327: UserWarning: kurtosistest only valid for n>=20 ... continuing anyway, n=11\n",
      "  \"anyway, n=%i\" % int(n))\n"
     ]
    }
   ],
   "source": [
    "result = sm.ols('Alcohol ~ Tobacco', df).fit()\n",
    "print(result.summary())"
   ]
  },
  {
   "cell_type": "code",
   "execution_count": 28,
   "metadata": {
    "collapsed": false
   },
   "outputs": [
    {
     "data": {
      "image/png": "[encoded data removed]",
      "text/plain": [
       "<matplotlib.figure.Figure at 0x8d071b9a90>"
      ]
     },
     "metadata": {},
     "output_type": "display_data"
    }
   ],
   "source": [
    "f_lr = lambda x: result.params[1] * x + result.params[0]\n",
    "x_f_lr = np.linspace(2, 5, 200)\n",
    "y_f_lr = f_lr(x_f_lr)\n",
    "plt.figure(figsize=(6,6));\n",
    "axes = plt.gca()\n",
    "axes.set_xlim([2, 5])\n",
    "plt.plot(df.Tobacco, df.Alcohol, 'o', ms=8)\n",
    "plt.plot(x_f_lr, y_f_lr, 'g');\n",
    "plt.show()\n"
   ]
  },
  {
   "cell_type": "code",
   "execution_count": null,
   "metadata": {
    "collapsed": true
   },
   "outputs": [],
   "source": []
  }
 ],
 "metadata": {
  "kernelspec": {
   "display_name": "Python 3",
   "language": "python",
   "name": "python3"
  },
  "language_info": {
   "codemirror_mode": {
    "name": "ipython",
    "version": 3
   },
   "file_extension": ".py",
   "mimetype": "text/x-python",
   "name": "python",
   "nbconvert_exporter": "python",
   "pygments_lexer": "ipython3",
   "version": "3.6.0"
  }
 },
 "nbformat": 4,
 "nbformat_minor": 2
}
