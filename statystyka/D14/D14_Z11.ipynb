{
 "cells": [
  {
   "cell_type": "markdown",
   "metadata": {},
   "source": [
    "# Próbkowanie Gibbsa"
   ]
  },
  {
   "cell_type": "code",
   "execution_count": 1,
   "metadata": {
    "collapsed": true
   },
   "outputs": [],
   "source": [
    "import random,math\n",
    "import numpy as np\n",
    "from scipy.linalg import eigh, cholesky\n",
    "from scipy.stats import norm\n",
    "import matplotlib.pyplot as plt \n",
    "import scipy.stats as stats"
   ]
  },
  {
   "cell_type": "markdown",
   "metadata": {},
   "source": [
    "# Zadanie\n",
    "\n",
    "\n",
    "Wylosuj próbkę z rozkładu \n",
    "\n",
    "$$\n",
    "X \\sim N(0,\\Sigma), \\qquad \n",
    "\\Sigma = \\begin{bmatrix}\n",
    "1 & \\rho\\\\\n",
    "\\rho & 1 \n",
    "\\end{bmatrix}.\n",
    "$$\n",
    "\n",
    "za pomocą próbkowanie Gibbsa wiedząc, że\n",
    "\n",
    "$$\n",
    "p(x_1|x_2) \\sim N(\\rho x_1, [1-\\rho^2]) \n",
    "$$\n",
    "\n",
    "oraz\n",
    "\n",
    "$$\n",
    "p(x_2|x_1) \\sim N(\\rho x_2, [1-\\rho^2])\n",
    "$$\n",
    "\n",
    "są to rozkłady warunkowe."
   ]
  },
  {
   "cell_type": "code",
   "execution_count": 5,
   "metadata": {},
   "outputs": [
    {
     "data": {
      "image/png": "[encoded data removed]",
      "text/plain": [
       "<matplotlib.figure.Figure at 0x1086012e8>"
      ]
     },
     "metadata": {},
     "output_type": "display_data"
    }
   ],
   "source": [
    "N = 50\n",
    "thin = 100\n",
    "\n",
    "rho = 0.5\n",
    "cov = [[1, rho], [rho, 1]]\n",
    "mean = np.array([0, 0])\n",
    "\n",
    "theta_1 = 0\n",
    "theta_2 = 0\n",
    "x = [] \n",
    "y = []\n",
    "for i in range(N):\n",
    "    for j in range(thin):\n",
    "        theta_1 = stats.norm(loc=rho*theta_2, scale=1-rho*rho).rvs(1)[0]\n",
    "        theta_2 = stats.norm(loc=rho*theta_1, scale=1-rho*rho).rvs(1)[0]\n",
    "    x.append(theta_1), y.append(theta_2)\n",
    "\n",
    "\n",
    "fig, ax = plt.subplots(nrows=1, ncols=1, figsize=(5, 5))\n",
    "x_plot, y_plot = np.mgrid[-5:5:.1, -5:5:.1]\n",
    "pos = np.empty(x_plot.shape + (2,))\n",
    "pos[:, :, 0] = x_plot\n",
    "pos[:, :, 1] = y_plot\n",
    "ax.contour(x_plot, y_plot, stats.multivariate_normal(mean,cov).pdf(pos), 6, colors = 'b')\n",
    "ax.scatter(x, y)\n",
    "plt.show()"
   ]
  },
  {
   "cell_type": "code",
   "execution_count": null,
   "metadata": {
    "collapsed": true
   },
   "outputs": [],
   "source": []
  }
 ],
 "metadata": {
  "kernelspec": {
   "display_name": "Python 3",
   "language": "python",
   "name": "python3"
  },
  "language_info": {
   "codemirror_mode": {
    "name": "ipython",
    "version": 3
   },
   "file_extension": ".py",
   "mimetype": "text/x-python",
   "name": "python",
   "nbconvert_exporter": "python",
   "pygments_lexer": "ipython3",
   "version": "3.6.0"
  }
 },
 "nbformat": 4,
 "nbformat_minor": 2
}
