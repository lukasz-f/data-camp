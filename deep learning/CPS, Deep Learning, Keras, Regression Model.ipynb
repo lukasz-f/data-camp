{
 "cells": [
  {
   "cell_type": "markdown",
   "metadata": {},
   "source": [
    "## Building deep learning models with keras"
   ]
  },
  {
   "cell_type": "markdown",
   "metadata": {},
   "source": [
    "### Understanding dataset"
   ]
  },
  {
   "cell_type": "code",
   "execution_count": 52,
   "metadata": {
    "scrolled": false
   },
   "outputs": [
    {
     "data": {
      "text/html": [
       "<div>\n",
       "<table border=\"1\" class=\"dataframe\">\n",
       "  <thead>\n",
       "    <tr style=\"text-align: right;\">\n",
       "      <th></th>\n",
       "      <th>wage</th>\n",
       "      <th>educ</th>\n",
       "      <th>race</th>\n",
       "      <th>sex</th>\n",
       "      <th>hispanic</th>\n",
       "      <th>south</th>\n",
       "      <th>married</th>\n",
       "      <th>exper</th>\n",
       "      <th>union</th>\n",
       "      <th>age</th>\n",
       "      <th>sector</th>\n",
       "    </tr>\n",
       "  </thead>\n",
       "  <tbody>\n",
       "    <tr>\n",
       "      <th>1</th>\n",
       "      <td>9.0</td>\n",
       "      <td>10</td>\n",
       "      <td>W</td>\n",
       "      <td>M</td>\n",
       "      <td>NH</td>\n",
       "      <td>NS</td>\n",
       "      <td>Married</td>\n",
       "      <td>27</td>\n",
       "      <td>Not</td>\n",
       "      <td>43</td>\n",
       "      <td>const</td>\n",
       "    </tr>\n",
       "    <tr>\n",
       "      <th>2</th>\n",
       "      <td>5.5</td>\n",
       "      <td>12</td>\n",
       "      <td>W</td>\n",
       "      <td>M</td>\n",
       "      <td>NH</td>\n",
       "      <td>NS</td>\n",
       "      <td>Married</td>\n",
       "      <td>20</td>\n",
       "      <td>Not</td>\n",
       "      <td>38</td>\n",
       "      <td>sales</td>\n",
       "    </tr>\n",
       "    <tr>\n",
       "      <th>3</th>\n",
       "      <td>3.8</td>\n",
       "      <td>12</td>\n",
       "      <td>W</td>\n",
       "      <td>F</td>\n",
       "      <td>NH</td>\n",
       "      <td>NS</td>\n",
       "      <td>Single</td>\n",
       "      <td>4</td>\n",
       "      <td>Not</td>\n",
       "      <td>22</td>\n",
       "      <td>sales</td>\n",
       "    </tr>\n",
       "    <tr>\n",
       "      <th>4</th>\n",
       "      <td>10.5</td>\n",
       "      <td>12</td>\n",
       "      <td>W</td>\n",
       "      <td>F</td>\n",
       "      <td>NH</td>\n",
       "      <td>NS</td>\n",
       "      <td>Married</td>\n",
       "      <td>29</td>\n",
       "      <td>Not</td>\n",
       "      <td>47</td>\n",
       "      <td>clerical</td>\n",
       "    </tr>\n",
       "    <tr>\n",
       "      <th>5</th>\n",
       "      <td>15.0</td>\n",
       "      <td>12</td>\n",
       "      <td>W</td>\n",
       "      <td>M</td>\n",
       "      <td>NH</td>\n",
       "      <td>NS</td>\n",
       "      <td>Married</td>\n",
       "      <td>40</td>\n",
       "      <td>Union</td>\n",
       "      <td>58</td>\n",
       "      <td>const</td>\n",
       "    </tr>\n",
       "  </tbody>\n",
       "</table>\n",
       "</div>"
      ],
      "text/plain": [
       "   wage  educ race sex hispanic south  married  exper  union  age    sector\n",
       "1   9.0    10    W   M       NH    NS  Married     27    Not   43     const\n",
       "2   5.5    12    W   M       NH    NS  Married     20    Not   38     sales\n",
       "3   3.8    12    W   F       NH    NS   Single      4    Not   22     sales\n",
       "4  10.5    12    W   F       NH    NS  Married     29    Not   47  clerical\n",
       "5  15.0    12    W   M       NH    NS  Married     40  Union   58     const"
      ]
     },
     "execution_count": 52,
     "metadata": {},
     "output_type": "execute_result"
    }
   ],
   "source": [
    "df = pd.read_csv('../datasets/Current-Population-Survey-1985.csv', index_col=0)\n",
    "df.head()"
   ]
  },
  {
   "cell_type": "code",
   "execution_count": 53,
   "metadata": {},
   "outputs": [
    {
     "name": "stdout",
     "output_type": "stream",
     "text": [
      "<class 'pandas.core.frame.DataFrame'>\n",
      "Int64Index: 534 entries, 1 to 534\n",
      "Data columns (total 11 columns):\n",
      "wage        534 non-null float64\n",
      "educ        534 non-null int64\n",
      "race        534 non-null object\n",
      "sex         534 non-null object\n",
      "hispanic    534 non-null object\n",
      "south       534 non-null object\n",
      "married     534 non-null object\n",
      "exper       534 non-null int64\n",
      "union       534 non-null object\n",
      "age         534 non-null int64\n",
      "sector      534 non-null object\n",
      "dtypes: float64(1), int64(3), object(7)\n",
      "memory usage: 50.1+ KB\n"
     ]
    }
   ],
   "source": [
    "df.info()"
   ]
  },
  {
   "cell_type": "code",
   "execution_count": 54,
   "metadata": {
    "collapsed": true
   },
   "outputs": [],
   "source": [
    "df.race = df.race.astype('category')\n",
    "df.sex = df.sex.astype('category')\n",
    "df.hispanic = df.hispanic.astype('category')\n",
    "df.south = df.south.astype('category')\n",
    "df.married = df.married.astype('category')\n",
    "df.union = df.union.astype('category')\n",
    "df.sector = df.sector.astype('category')"
   ]
  },
  {
   "cell_type": "code",
   "execution_count": 55,
   "metadata": {},
   "outputs": [
    {
     "data": {
      "text/html": [
       "<div>\n",
       "<table border=\"1\" class=\"dataframe\">\n",
       "  <thead>\n",
       "    <tr style=\"text-align: right;\">\n",
       "      <th></th>\n",
       "      <th>wage</th>\n",
       "      <th>educ</th>\n",
       "      <th>race</th>\n",
       "      <th>sex</th>\n",
       "      <th>hispanic</th>\n",
       "      <th>south</th>\n",
       "      <th>married</th>\n",
       "      <th>exper</th>\n",
       "      <th>union</th>\n",
       "      <th>age</th>\n",
       "      <th>sector</th>\n",
       "    </tr>\n",
       "  </thead>\n",
       "  <tbody>\n",
       "    <tr>\n",
       "      <th>1</th>\n",
       "      <td>9.0</td>\n",
       "      <td>10</td>\n",
       "      <td>W</td>\n",
       "      <td>M</td>\n",
       "      <td>NH</td>\n",
       "      <td>NS</td>\n",
       "      <td>Married</td>\n",
       "      <td>27</td>\n",
       "      <td>Not</td>\n",
       "      <td>43</td>\n",
       "      <td>const</td>\n",
       "    </tr>\n",
       "    <tr>\n",
       "      <th>2</th>\n",
       "      <td>5.5</td>\n",
       "      <td>12</td>\n",
       "      <td>W</td>\n",
       "      <td>M</td>\n",
       "      <td>NH</td>\n",
       "      <td>NS</td>\n",
       "      <td>Married</td>\n",
       "      <td>20</td>\n",
       "      <td>Not</td>\n",
       "      <td>38</td>\n",
       "      <td>sales</td>\n",
       "    </tr>\n",
       "    <tr>\n",
       "      <th>3</th>\n",
       "      <td>3.8</td>\n",
       "      <td>12</td>\n",
       "      <td>W</td>\n",
       "      <td>F</td>\n",
       "      <td>NH</td>\n",
       "      <td>NS</td>\n",
       "      <td>Single</td>\n",
       "      <td>4</td>\n",
       "      <td>Not</td>\n",
       "      <td>22</td>\n",
       "      <td>sales</td>\n",
       "    </tr>\n",
       "    <tr>\n",
       "      <th>4</th>\n",
       "      <td>10.5</td>\n",
       "      <td>12</td>\n",
       "      <td>W</td>\n",
       "      <td>F</td>\n",
       "      <td>NH</td>\n",
       "      <td>NS</td>\n",
       "      <td>Married</td>\n",
       "      <td>29</td>\n",
       "      <td>Not</td>\n",
       "      <td>47</td>\n",
       "      <td>clerical</td>\n",
       "    </tr>\n",
       "    <tr>\n",
       "      <th>5</th>\n",
       "      <td>15.0</td>\n",
       "      <td>12</td>\n",
       "      <td>W</td>\n",
       "      <td>M</td>\n",
       "      <td>NH</td>\n",
       "      <td>NS</td>\n",
       "      <td>Married</td>\n",
       "      <td>40</td>\n",
       "      <td>Union</td>\n",
       "      <td>58</td>\n",
       "      <td>const</td>\n",
       "    </tr>\n",
       "  </tbody>\n",
       "</table>\n",
       "</div>"
      ],
      "text/plain": [
       "   wage  educ race sex hispanic south  married  exper  union  age    sector\n",
       "1   9.0    10    W   M       NH    NS  Married     27    Not   43     const\n",
       "2   5.5    12    W   M       NH    NS  Married     20    Not   38     sales\n",
       "3   3.8    12    W   F       NH    NS   Single      4    Not   22     sales\n",
       "4  10.5    12    W   F       NH    NS  Married     29    Not   47  clerical\n",
       "5  15.0    12    W   M       NH    NS  Married     40  Union   58     const"
      ]
     },
     "execution_count": 55,
     "metadata": {},
     "output_type": "execute_result"
    }
   ],
   "source": [
    "df.head()"
   ]
  },
  {
   "cell_type": "code",
   "execution_count": 56,
   "metadata": {},
   "outputs": [
    {
     "name": "stdout",
     "output_type": "stream",
     "text": [
      "<class 'pandas.core.frame.DataFrame'>\n",
      "Int64Index: 534 entries, 1 to 534\n",
      "Data columns (total 11 columns):\n",
      "wage        534 non-null float64\n",
      "educ        534 non-null int64\n",
      "race        534 non-null category\n",
      "sex         534 non-null category\n",
      "hispanic    534 non-null category\n",
      "south       534 non-null category\n",
      "married     534 non-null category\n",
      "exper       534 non-null int64\n",
      "union       534 non-null category\n",
      "age         534 non-null int64\n",
      "sector      534 non-null category\n",
      "dtypes: category(7), float64(1), int64(3)\n",
      "memory usage: 24.7 KB\n"
     ]
    }
   ],
   "source": [
    "df.info()"
   ]
  },
  {
   "cell_type": "code",
   "execution_count": 57,
   "metadata": {},
   "outputs": [
    {
     "data": {
      "text/plain": [
       "Index(['Not', 'Union'], dtype='object')"
      ]
     },
     "execution_count": 57,
     "metadata": {},
     "output_type": "execute_result"
    }
   ],
   "source": [
    "df.union.cat.categories"
   ]
  },
  {
   "cell_type": "code",
   "execution_count": 58,
   "metadata": {
    "collapsed": true
   },
   "outputs": [],
   "source": [
    "df.race = df.race.cat.codes\n",
    "df.sex = df.sex.cat.codes\n",
    "df.hispanic = df.hispanic.cat.codes\n",
    "df.south = df.south.cat.codes\n",
    "df.married = df.married.cat.codes\n",
    "df.union = df.union.cat.codes\n",
    "df.sector = df.sector.cat.codes"
   ]
  },
  {
   "cell_type": "code",
   "execution_count": 59,
   "metadata": {
    "scrolled": true
   },
   "outputs": [
    {
     "data": {
      "text/html": [
       "<div>\n",
       "<table border=\"1\" class=\"dataframe\">\n",
       "  <thead>\n",
       "    <tr style=\"text-align: right;\">\n",
       "      <th></th>\n",
       "      <th>wage</th>\n",
       "      <th>educ</th>\n",
       "      <th>race</th>\n",
       "      <th>sex</th>\n",
       "      <th>hispanic</th>\n",
       "      <th>south</th>\n",
       "      <th>married</th>\n",
       "      <th>exper</th>\n",
       "      <th>union</th>\n",
       "      <th>age</th>\n",
       "      <th>sector</th>\n",
       "    </tr>\n",
       "  </thead>\n",
       "  <tbody>\n",
       "    <tr>\n",
       "      <th>1</th>\n",
       "      <td>9.0</td>\n",
       "      <td>10</td>\n",
       "      <td>1</td>\n",
       "      <td>1</td>\n",
       "      <td>1</td>\n",
       "      <td>0</td>\n",
       "      <td>0</td>\n",
       "      <td>27</td>\n",
       "      <td>0</td>\n",
       "      <td>43</td>\n",
       "      <td>1</td>\n",
       "    </tr>\n",
       "    <tr>\n",
       "      <th>2</th>\n",
       "      <td>5.5</td>\n",
       "      <td>12</td>\n",
       "      <td>1</td>\n",
       "      <td>1</td>\n",
       "      <td>1</td>\n",
       "      <td>0</td>\n",
       "      <td>0</td>\n",
       "      <td>20</td>\n",
       "      <td>0</td>\n",
       "      <td>38</td>\n",
       "      <td>6</td>\n",
       "    </tr>\n",
       "    <tr>\n",
       "      <th>3</th>\n",
       "      <td>3.8</td>\n",
       "      <td>12</td>\n",
       "      <td>1</td>\n",
       "      <td>0</td>\n",
       "      <td>1</td>\n",
       "      <td>0</td>\n",
       "      <td>1</td>\n",
       "      <td>4</td>\n",
       "      <td>0</td>\n",
       "      <td>22</td>\n",
       "      <td>6</td>\n",
       "    </tr>\n",
       "    <tr>\n",
       "      <th>4</th>\n",
       "      <td>10.5</td>\n",
       "      <td>12</td>\n",
       "      <td>1</td>\n",
       "      <td>0</td>\n",
       "      <td>1</td>\n",
       "      <td>0</td>\n",
       "      <td>0</td>\n",
       "      <td>29</td>\n",
       "      <td>0</td>\n",
       "      <td>47</td>\n",
       "      <td>0</td>\n",
       "    </tr>\n",
       "    <tr>\n",
       "      <th>5</th>\n",
       "      <td>15.0</td>\n",
       "      <td>12</td>\n",
       "      <td>1</td>\n",
       "      <td>1</td>\n",
       "      <td>1</td>\n",
       "      <td>0</td>\n",
       "      <td>0</td>\n",
       "      <td>40</td>\n",
       "      <td>1</td>\n",
       "      <td>58</td>\n",
       "      <td>1</td>\n",
       "    </tr>\n",
       "  </tbody>\n",
       "</table>\n",
       "</div>"
      ],
      "text/plain": [
       "   wage  educ  race  sex  hispanic  south  married  exper  union  age  sector\n",
       "1   9.0    10     1    1         1      0        0     27      0   43       1\n",
       "2   5.5    12     1    1         1      0        0     20      0   38       6\n",
       "3   3.8    12     1    0         1      0        1      4      0   22       6\n",
       "4  10.5    12     1    0         1      0        0     29      0   47       0\n",
       "5  15.0    12     1    1         1      0        0     40      1   58       1"
      ]
     },
     "execution_count": 59,
     "metadata": {},
     "output_type": "execute_result"
    }
   ],
   "source": [
    "df.head()"
   ]
  },
  {
   "cell_type": "code",
   "execution_count": 60,
   "metadata": {},
   "outputs": [
    {
     "name": "stdout",
     "output_type": "stream",
     "text": [
      "<class 'pandas.core.frame.DataFrame'>\n",
      "Int64Index: 534 entries, 1 to 534\n",
      "Data columns (total 11 columns):\n",
      "wage        534 non-null float64\n",
      "educ        534 non-null int64\n",
      "race        534 non-null int8\n",
      "sex         534 non-null int8\n",
      "hispanic    534 non-null int8\n",
      "south       534 non-null int8\n",
      "married     534 non-null int8\n",
      "exper       534 non-null int64\n",
      "union       534 non-null int8\n",
      "age         534 non-null int64\n",
      "sector      534 non-null int8\n",
      "dtypes: float64(1), int64(3), int8(7)\n",
      "memory usage: 24.5 KB\n"
     ]
    }
   ],
   "source": [
    "df.info()"
   ]
  },
  {
   "cell_type": "markdown",
   "metadata": {},
   "source": [
    "### Regression model"
   ]
  },
  {
   "cell_type": "code",
   "execution_count": 61,
   "metadata": {},
   "outputs": [
    {
     "name": "stderr",
     "output_type": "stream",
     "text": [
      "Using TensorFlow backend.\n"
     ]
    }
   ],
   "source": [
    "import keras\n",
    "from keras.layers import Dense\n",
    "from keras.models import Sequential"
   ]
  },
  {
   "cell_type": "code",
   "execution_count": 63,
   "metadata": {},
   "outputs": [
    {
     "data": {
      "text/plain": [
       "(534,)"
      ]
     },
     "execution_count": 63,
     "metadata": {},
     "output_type": "execute_result"
    }
   ],
   "source": [
    "target = df.wage.values\n",
    "target.shape"
   ]
  },
  {
   "cell_type": "code",
   "execution_count": 64,
   "metadata": {},
   "outputs": [
    {
     "data": {
      "text/plain": [
       "(534, 10)"
      ]
     },
     "execution_count": 64,
     "metadata": {},
     "output_type": "execute_result"
    }
   ],
   "source": [
    "predictors = df.drop('wage', axis=1).values\n",
    "predictors.shape"
   ]
  },
  {
   "cell_type": "code",
   "execution_count": 65,
   "metadata": {},
   "outputs": [
    {
     "data": {
      "text/plain": [
       "10"
      ]
     },
     "execution_count": 65,
     "metadata": {},
     "output_type": "execute_result"
    }
   ],
   "source": [
    "# Save the number of columns in predictors\n",
    "n_cols = predictors.shape[1]\n",
    "n_cols"
   ]
  },
  {
   "cell_type": "code",
   "execution_count": 66,
   "metadata": {},
   "outputs": [
    {
     "data": {
      "text/plain": [
       "<keras.models.Sequential at 0x10c58f4e0>"
      ]
     },
     "execution_count": 66,
     "metadata": {},
     "output_type": "execute_result"
    }
   ],
   "source": [
    "# Set up the model\n",
    "model = Sequential()\n",
    "model"
   ]
  },
  {
   "cell_type": "code",
   "execution_count": 67,
   "metadata": {
    "collapsed": true
   },
   "outputs": [],
   "source": [
    "# Add the first layer\n",
    "model.add(Dense(50, activation='relu', input_shape=(n_cols,)))"
   ]
  },
  {
   "cell_type": "code",
   "execution_count": 68,
   "metadata": {
    "collapsed": true
   },
   "outputs": [],
   "source": [
    "# Add the second layer\n",
    "model.add(Dense(32, activation='relu'))"
   ]
  },
  {
   "cell_type": "code",
   "execution_count": 69,
   "metadata": {
    "collapsed": true
   },
   "outputs": [],
   "source": [
    "# Add the output layer\n",
    "model.add(Dense(1))"
   ]
  },
  {
   "cell_type": "code",
   "execution_count": 70,
   "metadata": {
    "collapsed": true
   },
   "outputs": [],
   "source": [
    "# Compile the model\n",
    "model.compile(optimizer='adam', loss='mean_squared_error')"
   ]
  },
  {
   "cell_type": "code",
   "execution_count": 72,
   "metadata": {},
   "outputs": [
    {
     "name": "stdout",
     "output_type": "stream",
     "text": [
      "Epoch 1/10\n",
      "534/534 [==============================] - 0s - loss: 42.0601     \n",
      "Epoch 2/10\n",
      "534/534 [==============================] - 0s - loss: 25.8573     \n",
      "Epoch 3/10\n",
      "534/534 [==============================] - 0s - loss: 23.2196     \n",
      "Epoch 4/10\n",
      "534/534 [==============================] - 0s - loss: 22.4771     \n",
      "Epoch 5/10\n",
      "534/534 [==============================] - 0s - loss: 21.7452     \n",
      "Epoch 6/10\n",
      "534/534 [==============================] - 0s - loss: 21.5674     \n",
      "Epoch 7/10\n",
      "534/534 [==============================] - 0s - loss: 21.5340     \n",
      "Epoch 8/10\n",
      "534/534 [==============================] - 0s - loss: 21.7591     \n",
      "Epoch 9/10\n",
      "534/534 [==============================] - 0s - loss: 21.1529     \n",
      "Epoch 10/10\n",
      "534/534 [==============================] - 0s - loss: 21.2515     \n"
     ]
    },
    {
     "data": {
      "text/plain": [
       "<keras.callbacks.History at 0x10c8f26d8>"
      ]
     },
     "execution_count": 72,
     "metadata": {},
     "output_type": "execute_result"
    }
   ],
   "source": [
    "# Fit the model\n",
    "model.fit(predictors, target)"
   ]
  },
  {
   "cell_type": "code",
   "execution_count": null,
   "metadata": {
    "collapsed": true
   },
   "outputs": [],
   "source": []
  }
 ],
 "metadata": {
  "kernelspec": {
   "display_name": "Python 3",
   "language": "python",
   "name": "python3"
  },
  "language_info": {
   "codemirror_mode": {
    "name": "ipython",
    "version": 3
   },
   "file_extension": ".py",
   "mimetype": "text/x-python",
   "name": "python",
   "nbconvert_exporter": "python",
   "pygments_lexer": "ipython3",
   "version": "3.6.5"
  }
 },
 "nbformat": 4,
 "nbformat_minor": 2
}
