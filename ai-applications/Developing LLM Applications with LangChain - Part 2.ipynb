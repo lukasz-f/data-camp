{
 "cells": [
  {
   "cell_type": "markdown",
   "metadata": {},
   "source": [
    "# Developing LLM Applications with LangChain - Part 2"
   ]
  },
  {
   "cell_type": "markdown",
   "metadata": {},
   "source": [
    "## Chains and Agents\n",
    "\n",
    "Time to level up your LangChain chains! You'll learn to use the LangChain Expression Language (LCEL) for defining chains with greater flexibility. You'll create sequential chains, where inputs are passed between components to create more advanced applications. You'll also begin to integrate agents, which use LLMs for decision-making."
   ]
  },
  {
   "cell_type": "code",
   "execution_count": null,
   "metadata": {},
   "outputs": [],
   "source": [
    "import os\n",
    "\n",
    "# Set your OpenAI API key\n",
    "openai_api_key = os.environ['OPENAI_API_KEY']"
   ]
  },
  {
   "cell_type": "markdown",
   "metadata": {},
   "source": [
    "### Building prompts for sequential chains\n",
    "Over the next couple of exercises, you'll work to create a system for helping people learn new skills. This system needs to be built sequentially, so learners can modify plans based on their preferences and constraints. You'll utilize your LangChain LCEL skills to build a sequential chain to build this system, and the first step is to design the prompt templates that will be used by this system."
   ]
  },
  {
   "cell_type": "code",
   "execution_count": 2,
   "metadata": {},
   "outputs": [
    {
     "name": "stdout",
     "output_type": "stream",
     "text": [
      "text='I want to learn how to play golf. Can you suggest how I can learn this step-by-step?'\n"
     ]
    }
   ],
   "source": [
    "from langchain_core.prompts import PromptTemplate\n",
    "\n",
    "# Create a prompt template that takes an input activity\n",
    "learning_prompt = PromptTemplate(\n",
    "    input_variables=[\"activity\"],\n",
    "    template=\"I want to learn how to {activity}. Can you suggest how I can learn this step-by-step?\"\n",
    ")\n",
    "\n",
    "# Create a prompt template that places a time constraint on the output\n",
    "time_prompt = PromptTemplate(\n",
    "    input_variables=[\"learning_plan\"],\n",
    "    template=\"I only have one week. Can you create a plan to help me hit this goal: {learning_plan}.\"\n",
    ")\n",
    "\n",
    "# Invoke the learning_prompt with an activity\n",
    "print(learning_prompt.invoke(\n",
    "    {\n",
    "        \"activity\": \"play golf\"\n",
    "    }\n",
    "))"
   ]
  },
  {
   "cell_type": "markdown",
   "metadata": {},
   "source": [
    "### Sequential chains with LCEL\n",
    "With your prompt templates created, it's time to tie everything together, including the LLM, using chains and LCEL. An llm has already been defined for you that uses OpenAI's gpt-4o-mini model\n",
    "\n",
    "For the final step of calling the chain, feel free to insert any activity you wish! If you're struggling for ideas, try inputting \"play the harmonica\"."
   ]
  },
  {
   "cell_type": "code",
   "execution_count": null,
   "metadata": {},
   "outputs": [
    {
     "name": "stdout",
     "output_type": "stream",
     "text": [
      "Here's a focused one-week plan to help you get started on your harmonica journey, broken down day by day. Each day will build upon the last to maximize your learning.\n",
      "\n",
      "### One-Week Harmonica Learning Plan\n",
      "\n",
      "#### **Day 1: Choose and Familiarize**\n",
      "- **Choose Your Harmonica**: Ensure you have a diatonic harmonica in the key of C.\n",
      "- **Familiarize Yourself**:\n",
      "  - Learn the parts of the harmonica (reed plates, cover plates, comb).\n",
      "  - Practice holding the harmonica correctly.\n",
      "  - Focus on breath control: practice inhaling and exhaling through the harmonica.\n",
      "\n",
      "#### **Day 2: Basic Techniques**\n",
      "- **Single Notes**: \n",
      "  - Practice isolating single notes using tongue blocking.\n",
      "  - Experiment with lip pursing to enhance sound clarity.\n",
      "- **Blow and Draw Notes**: \n",
      "  - Learn the difference between blowing and drawing notes. Start with holes 1-5.\n",
      "\n",
      "#### **Day 3: Simple Melodies**\n",
      "- **Play Simple Songs**: \n",
      "  - Work on \"Mary Had a Little Lamb\" or \"Twinkle Twinkle Little Star.\" \n",
      "  - Focus on accuracy and timing.\n",
      "- **Daily Practice**: Aim for 15-30 minutes of practice.\n",
      "\n",
      "#### **Day 4: Scales**\n",
      "- **C Major Scale**: \n",
      "  - Learn to play the C major scale on your harmonica. \n",
      "  - Practice ascending and descending the scale.\n",
      "- **Blues Scale (optional)**: \n",
      "  - If interested, start learning the blues scale.\n",
      "\n",
      "#### **Day 5: Explore Techniques**\n",
      "- **Bending Notes**: \n",
      "  - Focus on hole 4 and practice bending the note. \n",
      "  - Experiment with different levels of bend.\n",
      "- **Vibrato**: \n",
      "  - Try to introduce vibrato into your playing by varying your breath.\n",
      "\n",
      "#### **Day 6: Online Resources and Community**\n",
      "- **Watch Tutorials**: \n",
      "  - Find beginner harmonica tutorials on YouTube and practice along.\n",
      "- **Join a Community**: \n",
      "  - Engage in harmonica forums or social media groups to share progress and tips.\n",
      "\n",
      "#### **Day 7: Application and Jamming**\n",
      "- **Play Along**: \n",
      "  - Choose a jam track or a song you enjoy and try to play along.\n",
      "- **Experiment**: \n",
      "  - Try improvising using the scales and techniques you've learned.\n",
      "- **Reflect on Progress**: \n",
      "  - Take notes on what you enjoyed and areas where you'd like to improve.\n",
      "\n",
      "### Additional Tips for Each Day:\n",
      "- **Stay Consistent**: Practice daily for at least 15-30 minutes.\n",
      "- **Be Patient**: Learning an instrument takes time; celebrate small victories.\n",
      "- **Enjoy the Music**: Make sure to have fun and experiment with different styles.\n",
      "\n",
      "By the end of the week, you should have a solid foundation to continue your harmonica journey. Enjoy the process, and keep practicing!\n"
     ]
    }
   ],
   "source": [
    "from langchain_core.prompts import PromptTemplate\n",
    "from langchain_openai import ChatOpenAI\n",
    "from langchain_core.output_parsers.string import StrOutputParser\n",
    "\n",
    "learning_prompt = PromptTemplate(\n",
    "    input_variables=[\"activity\"],\n",
    "    template=\"I want to learn how to {activity}. Can you suggest how I can learn this step-by-step?\"\n",
    ")\n",
    "\n",
    "time_prompt = PromptTemplate(\n",
    "    input_variables=[\"learning_plan\"],\n",
    "    template=\"I only have one week. Can you create a plan to help me hit this goal: {learning_plan}.\"\n",
    ")\n",
    "\n",
    "llm = ChatOpenAI(model=\"gpt-4o-mini\", api_key=openai_api_key)\n",
    "\n",
    "# Complete the sequential chain with LCEL\n",
    "seq_chain = (\n",
    "    {\n",
    "        \"learning_plan\": learning_prompt \n",
    "        | llm \n",
    "        | StrOutputParser()\n",
    "    }\n",
    "    | time_prompt\n",
    "    | llm\n",
    "    | StrOutputParser()\n",
    ")\n",
    "\n",
    "# Call the chain\n",
    "print(seq_chain.invoke({\"activity\": \"play the harmonica\"}))"
   ]
  },
  {
   "cell_type": "markdown",
   "metadata": {},
   "source": [
    "### ReAct agents\n",
    "Time to have a go at creating your own ReAct agent! Recall that ReAct stands for Reason and Act, which describes how they make decisions. In this exercise, you'll load the built-in wikipedia tool to integrate external data from Wikipedia with your LLM. An llm has already been defined for you that uses OpenAI's gpt-4o-mini model\n",
    "\n",
    "Note: The wikipedia tool requires the wikipedia Python library to be installed as a dependency, which has been done for you in this case."
   ]
  },
  {
   "cell_type": "code",
   "execution_count": 13,
   "metadata": {},
   "outputs": [
    {
     "name": "stdout",
     "output_type": "stream",
     "text": [
      "Tool name: wikipedia\n",
      "Tool description: A wrapper around Wikipedia. Useful for when you need to answer general questions about people, places, companies, facts, historical events, or other subjects. Input should be a search query.\n",
      "Tool return direct: False\n",
      "Tool args: {'query': {'description': 'query to look up on wikipedia', 'title': 'Query', 'type': 'string'}}\n",
      "{'messages': [HumanMessage(content='How many people live in New York City?', additional_kwargs={}, response_metadata={}, id='29cab2e6-0add-46a9-986f-e21e9b1adb45'), AIMessage(content='', additional_kwargs={'tool_calls': [{'id': 'call_355TpIhs2T9Hizp7LaPsKfA8', 'function': {'arguments': '{\"query\":\"Demographics of New York City\"}', 'name': 'wikipedia'}, 'type': 'function'}], 'refusal': None}, response_metadata={'token_usage': {'completion_tokens': 18, 'prompt_tokens': 90, 'total_tokens': 108, 'completion_tokens_details': {'accepted_prediction_tokens': 0, 'audio_tokens': 0, 'reasoning_tokens': 0, 'rejected_prediction_tokens': 0}, 'prompt_tokens_details': {'audio_tokens': 0, 'cached_tokens': 0}}, 'model_name': 'gpt-4o-mini-2024-07-18', 'system_fingerprint': 'fp_3de1288069', 'finish_reason': 'tool_calls', 'logprobs': None}, id='run-25fc2ce8-58b6-4121-b95d-fa968b2ab706-0', tool_calls=[{'name': 'wikipedia', 'args': {'query': 'Demographics of New York City'}, 'id': 'call_355TpIhs2T9Hizp7LaPsKfA8', 'type': 'tool_call'}], usage_metadata={'input_tokens': 90, 'output_tokens': 18, 'total_tokens': 108, 'input_token_details': {'audio': 0, 'cache_read': 0}, 'output_token_details': {'audio': 0, 'reasoning': 0}}), ToolMessage(content='Page: Demographics of New York City\\nSummary: New York City is a large and ethnically diverse metropolis. It is the largest city in the United States, and with a long history of international immigration. The New York region continues to be by far the leading metropolitan gateway for legal immigrants admitted into the United States. The city is the geographical and demographic center of both the Northeast megalopolis and the New York metropolitan area, the largest metropolitan area in the U.S. by both population and urban area. With over 20.1 million people in its metropolitan statistical area and 23.5 million in its combined statistical area as of 2020, New York City is one of the world\\'s most populous megacities.\\nThe city and its metropolitan area are the premier gateway for legal immigration to the United States. New York City enforces a right-to-shelter law guaranteeing shelter to anyone who needs shelter, regardless of their immigration status; and the city is home to more than 3.2 million residents born outside the U.S., the largest foreign-born population of any city in the world as of 2016.\\nThroughout its history, New York City has been a major point of entry for immigrants; the term \"melting pot\" was coined to describe densely populated immigrant neighborhoods on the Lower East Side. As many as 800 languages are spoken in New York, making it the most linguistically diverse city in the world. English remains the most widely spoken language, although there are areas in the outer boroughs in which up to 25% of people speak English as an alternate language, and/or have limited or no English language fluency. English is least spoken in neighborhoods such as Flushing, Sunset Park, and Corona.\\nNew York\\'s two key demographic features are its density and diversity. It is often regarded as one of the most diverse major cities in both the US, and world; with significant populations of European, Caribbean, Latin American, African, Asian and Middle Eastern Americans all having a major presence within the city and its metropolitan area. The city has an extremely high population density of 26,403 people per square mile (10,194/km2), about 10,000 more people per square mile than the next densest large American city, San Francisco. Manhattan\\'s population density is 66,940 people per square mile (25,846/km2). The city has a long tradition of attracting international immigration and Americans seeking careers in certain sectors. As of 2006, New York City has ranked number one for seven consecutive years as the city most U.S. residents would most like to live in or near.\\n\\n\\n\\nPage: Demographic history of New York City\\nSummary: The racial and ethnic history of New York City has varied widely; from its sale to the Dutch by Native American residents, to the modern multi-cultural period.\\n\\nNew York City has had a largely white population, and most foreign born immigrants to the city before the end of World War II were from Europe. However, this changed in the decades after World War II, when all of the boroughs became  more  diverse, and when immigration from places outside Europe was increased largely due to the Immigration and Nationality Act of 1965.\\n\\nPage: New York City ethnic enclaves\\nSummary: Since its founding in 1625 by Dutch traders as New Amsterdam, New York City has been a major destination for immigrants of many nationalities who have formed ethnic enclaves, neighborhoods dominated by one ethnicity.  Freed African American slaves also moved to New York City in the Great Migration and the later Second Great Migration and formed ethnic enclaves.  These neighborhoods are set apart from the main city by differences such as food, goods for sale, or even language.  Ethnic enclaves provide inhabitants security in work and social opportunities, but limit economic opportunities, do not encourage the development of English speaking, and keep immigrants in their own culture.\\nAs of 2019, there are 3.1 million immigrants in New York City. This acc', name='wikipedia', id='c49313b5-e2bb-4425-92e6-3303f484133e', tool_call_id='call_355TpIhs2T9Hizp7LaPsKfA8'), AIMessage(content='As of 2020, New York City has a population of over 8.3 million people, making it the largest city in the United States. The city is also known for its significant diversity and high population density.', additional_kwargs={'refusal': None}, response_metadata={'token_usage': {'completion_tokens': 46, 'prompt_tokens': 927, 'total_tokens': 973, 'completion_tokens_details': {'accepted_prediction_tokens': 0, 'audio_tokens': 0, 'reasoning_tokens': 0, 'rejected_prediction_tokens': 0}, 'prompt_tokens_details': {'audio_tokens': 0, 'cached_tokens': 0}}, 'model_name': 'gpt-4o-mini-2024-07-18', 'system_fingerprint': 'fp_0705bf87c0', 'finish_reason': 'stop', 'logprobs': None}, id='run-0bf59756-aa43-44cc-8f07-9736a717d38b-0', usage_metadata={'input_tokens': 927, 'output_tokens': 46, 'total_tokens': 973, 'input_token_details': {'audio': 0, 'cache_read': 0}, 'output_token_details': {'audio': 0, 'reasoning': 0}})]}\n",
      "As of 2020, New York City has a population of over 8.3 million people, making it the largest city in the United States. The city is also known for its significant diversity and high population density.\n"
     ]
    }
   ],
   "source": [
    "from langchain_openai import ChatOpenAI\n",
    "from langchain.agents import load_tools\n",
    "from langgraph.prebuilt import create_react_agent\n",
    "\n",
    "llm = ChatOpenAI(model=\"gpt-4o-mini\", api_key=openai_api_key)\n",
    "\n",
    "# Define the tools\n",
    "tools = load_tools([\"wikipedia\"])\n",
    "\n",
    "# Examine tool\n",
    "print('Tool name:', tools[0].name)\n",
    "print('Tool description:', tools[0].description)\n",
    "print('Tool return direct:', tools[0].return_direct)\n",
    "print('Tool args:', tools[0].args)\n",
    "\n",
    "# Define the agent\n",
    "agent = create_react_agent(llm, tools)\n",
    "\n",
    "# Invoke the agent\n",
    "response = agent.invoke({\"messages\": [(\"human\", \"How many people live in New York City?\")]})\n",
    "print(response)\n",
    "print(response['messages'][-1].content)"
   ]
  },
  {
   "cell_type": "markdown",
   "metadata": {},
   "source": [
    "### Defining a function for tool use\n",
    "You're working for a SaaS (software as a service) company with big goals for rolling out tools to help employees at all levels of the organization to make data-informed decisions. You're creating a PoC for an application that allows customer success managers to interface with company data using natural language to retrieve important customer data.\n",
    "\n",
    "You've been provided with a pandas DataFrame called customers that contains a small sample of customer data. Your first step in this project is to define a Python function to extract information from this table given a customer's name. pandas has already been imported as pd."
   ]
  },
  {
   "cell_type": "code",
   "execution_count": 20,
   "metadata": {},
   "outputs": [
    {
     "name": "stdout",
     "output_type": "stream",
     "text": [
      "    id                  name subscription_type  active_users  auto_renewal\n",
      "3  104  Peak Performance Co.           Premium           800          True\n"
     ]
    }
   ],
   "source": [
    "import pandas as pd\n",
    "import io\n",
    "\n",
    "\n",
    "customers_str = '''\n",
    "id,name,subscription_type,active_users,auto_renewal\n",
    "101,Tech Innovators Inc.,Premium,450,True\n",
    "102,Green Solutions Ltd.,Standard,300,False\n",
    "103,Global Enterprises,Basic,150,True\n",
    "104,Peak Performance Co.,Premium,800,True\n",
    "105,Visionary Ventures,Standard,600,False\n",
    "106,NextGen Technologies,Basic,200,True\n",
    "107,Dynamic Dynamics LLC,Premium,700,True\n",
    "108,Infinity Services,Standard,500,False\n",
    "109,Eco-Friendly Products,Basic,100,True\n",
    "110,Future Insights,Premium,900,True\n",
    "'''\n",
    "\n",
    "customers = pd.read_csv(io.StringIO(customers_str))\n",
    "\n",
    "# Define a function to retrieve customer info by-name\n",
    "def retrieve_customer_info(name: str) -> str:\n",
    "    \"\"\"Retrieve customer information based on their name.\"\"\"\n",
    "    # Filter customers for the customer's name\n",
    "    customer_info = customers[customers['name'] == name]\n",
    "    return customer_info.to_string()\n",
    "  \n",
    "# Call the function on Peak Performance Co.\n",
    "print(retrieve_customer_info(\"Peak Performance Co.\"))"
   ]
  },
  {
   "cell_type": "markdown",
   "metadata": {},
   "source": [
    "### Creating custom tools\n",
    "Now that you have a function for extracting customer data from the customers DataFrame, it's time to convert this function into a tool that's compatible with LangChain agents."
   ]
  },
  {
   "cell_type": "code",
   "execution_count": 21,
   "metadata": {},
   "outputs": [
    {
     "name": "stdout",
     "output_type": "stream",
     "text": [
      "{'name': {'title': 'Name', 'type': 'string'}}\n"
     ]
    }
   ],
   "source": [
    "from langchain_core.tools import tool\n",
    "\n",
    "# Convert the retrieve_customer_info function into a tool\n",
    "@tool\n",
    "def retrieve_customer_info(name: str) -> str:\n",
    "    \"\"\"Retrieve customer information based on their name.\"\"\"\n",
    "    customer_info = customers[customers['name'] == name]\n",
    "    return customer_info.to_string()\n",
    "  \n",
    "# Print the tool's arguments\n",
    "print(retrieve_customer_info.args)"
   ]
  },
  {
   "cell_type": "markdown",
   "metadata": {},
   "source": [
    "### Integrating custom tools with agents\n",
    "Now that you have your tools at-hand, it's time to set up your agentic workflow! You'll again be using a ReAct agent, which, recall, reasons on the steps it should take, and selects tools using this context and the tool descriptions. An llm has already been defined for you that uses OpenAI's gpt-4o-mini model"
   ]
  },
  {
   "cell_type": "code",
   "execution_count": 22,
   "metadata": {},
   "outputs": [
    {
     "name": "stdout",
     "output_type": "stream",
     "text": [
      "**Customer Summary: Peak Performance Co.**\n",
      "\n",
      "- **ID:** 104\n",
      "- **Name:** Peak Performance Co.\n",
      "- **Subscription Type:** Premium\n",
      "- **Active Users:** 800\n",
      "- **Auto Renewal:** Yes\n"
     ]
    }
   ],
   "source": [
    "from langgraph.prebuilt import create_react_agent\n",
    "\n",
    "# Create a ReAct agent\n",
    "agent = create_react_agent(llm, [retrieve_customer_info])\n",
    "\n",
    "# Invoke the agent on the input\n",
    "messages = agent.invoke({\"messages\": [(\"human\", \"Create a summary of our customer: Peak Performance Co.\")]})\n",
    "print(messages['messages'][-1].content)"
   ]
  },
  {
   "cell_type": "code",
   "execution_count": null,
   "metadata": {},
   "outputs": [],
   "source": []
  }
 ],
 "metadata": {
  "kernelspec": {
   "display_name": "Python 3 (ipykernel)",
   "language": "python",
   "name": "python3"
  }
 },
 "nbformat": 4,
 "nbformat_minor": 2
}
