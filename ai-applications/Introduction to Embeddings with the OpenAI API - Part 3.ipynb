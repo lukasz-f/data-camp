{
 "cells": [
  {
   "cell_type": "markdown",
   "metadata": {},
   "source": [
    "# Introduction to Embeddings with the OpenAI API - Part 3"
   ]
  },
  {
   "cell_type": "markdown",
   "metadata": {},
   "source": [
    "## Vector Databases\n",
    "\n",
    "To enable embedding applications in production, you'll need an efficient vector storage and querying solution: enter vector databases! You'll learn how vector databases can help scale embedding applications and begin creating and adding to your very own vector databases using Chroma."
   ]
  },
  {
   "cell_type": "code",
   "execution_count": 2,
   "metadata": {},
   "outputs": [],
   "source": [
    "import os\n",
    "\n",
    "# Set your OpenAI API key\n",
    "openai_api_key = os.environ['OPENAI_API_KEY']"
   ]
  },
  {
   "cell_type": "markdown",
   "metadata": {},
   "source": [
    "### Getting started with ChromaDB\n",
    "In the following exercises, you'll use a vector database to embed and query 1000 films and TV shows from the Netflix dataset introduced in the video. The goal will be to use this data to generate recommendations based on a search query. To get started, you'll create the database and collection to store the data.\n",
    "\n",
    "chromadb is available for you to use, and the OpenAIEmbeddingFunction() has been imported from chromadb.utils.embedding_functions. As with the first two chapters, you don't need to provide an OpenAI API key in this chapter."
   ]
  },
  {
   "cell_type": "code",
   "execution_count": 3,
   "metadata": {},
   "outputs": [
    {
     "name": "stdout",
     "output_type": "stream",
     "text": [
      "[Collection(name=netflix_titles)]\n"
     ]
    }
   ],
   "source": [
    "import chromadb\n",
    "from chromadb.utils.embedding_functions import OpenAIEmbeddingFunction\n",
    "\n",
    "# Create a persistant client\n",
    "client = chromadb.PersistentClient()\n",
    "\n",
    "# Create a netflix_title collection using the OpenAI Embedding function\n",
    "collection = client.create_collection(name=\"netflix_titles\",\n",
    "                                      embedding_function=OpenAIEmbeddingFunction(model_name=\"text-embedding-3-small\", \n",
    "                                                                                 api_key=openai_api_key)\n",
    ")\n",
    "\n",
    "# List the collections\n",
    "print(client.list_collections())"
   ]
  },
  {
   "cell_type": "markdown",
   "metadata": {},
   "source": [
    "### Estimating embedding costs with tiktoken\n",
    "Now that we've created a database and collection to store the Netflix films and TV shows, we can begin embedding data.\n",
    "\n",
    "Before embedding a large dataset, it's important to do a cost estimate to ensure you don't go over any budget restraints. Because OpenAI models are priced by number of tokens inputted, we'll use OpenAI's tiktoken library to count the number of tokens and convert them into a dollar cost.\n",
    "\n",
    "You've been provided with documents, which is a list containing all of the data to embed. You'll iterate over the list, encode each document, and count the total number of tokens. Finally, you'll use the model's pricing to convert this into a cost."
   ]
  },
  {
   "cell_type": "code",
   "execution_count": 5,
   "metadata": {},
   "outputs": [
    {
     "name": "stdout",
     "output_type": "stream",
     "text": [
      "Total tokens: 444463\n",
      "Cost: 0.00888926\n"
     ]
    }
   ],
   "source": [
    "import csv\n",
    "import tiktoken\n",
    "\n",
    "\n",
    "ids = []\n",
    "documents = []\n",
    "\n",
    "with open('resources/netflix_titles.csv') as csvfile:\n",
    "  reader = csv.DictReader(csvfile)\n",
    "  for i, row in enumerate(reader):\n",
    "    ids.append(row['show_id'])\n",
    "    text = f\"Title: {row['title']} ({row['type']})\\nDescription: {row['description']}\\nCategories: {row['listed_in']}\"\n",
    "    documents.append(text)\n",
    "\n",
    "# Load the encoder for the OpenAI text-embedding-3-small model\n",
    "enc = tiktoken.encoding_for_model(\"text-embedding-3-small\")\n",
    "\n",
    "# Encode each text in documents and calculate the total tokens\n",
    "total_tokens = sum(len(enc.encode(document)) for document in documents)\n",
    "\n",
    "cost_per_1k_tokens = 0.00002\n",
    "\n",
    "# Display number of tokens and cost\n",
    "print('Total tokens:', total_tokens)\n",
    "print('Cost:', cost_per_1k_tokens * total_tokens / 1000)"
   ]
  },
  {
   "cell_type": "markdown",
   "metadata": {},
   "source": [
    "### Adding data to the collection\n",
    "Time to add those Netflix films and TV shows to your collection! You've been provided with a list of document IDs and texts, stored in ids and documents, respectively, which have been extracted from netflix_titles.csv using the following code:\n",
    "```\n",
    "ids = []\n",
    "documents = []\n",
    "\n",
    "with open('netflix_titles.csv') as csvfile:\n",
    "  reader = csv.DictReader(csvfile)\n",
    "  for i, row in enumerate(reader):\n",
    "    ids.append(row['show_id'])\n",
    "    text = f\"Title: {row['title']} ({row['type']})\\nDescription: {row['description']}\\nCategories: {row['listed_in']}\"\n",
    "    documents.append(text)\n",
    "```\n",
    "As an example of what information will be embedded, here's the first document from documents:\n",
    "```\n",
    "Title: Dick Johnson Is Dead (Movie)\n",
    "Description: As her father nears the end of his life, filmmaker Kirsten Johnson stages his death in inventive and comical ways to help them both face the inevitable.\n",
    "Categories: Documentaries\n",
    "```\n",
    "All of the necessary functions and packages have been imported, and a persistent client has been created and assigned to client."
   ]
  },
  {
   "cell_type": "code",
   "execution_count": null,
   "metadata": {},
   "outputs": [
    {
     "name": "stdout",
     "output_type": "stream",
     "text": [
      "No. of documents: 8807\n",
      "First ten documents: {'ids': ['s1', 's2', 's3', 's4', 's5', 's6', 's7', 's8', 's9', 's10'], 'embeddings': array([[ 0.02259043,  0.05178833, -0.02430926, ...,  0.02265739,\n",
      "        -0.00401527, -0.02413068],\n",
      "       [-0.00256908,  0.09567138, -0.04806154, ...,  0.01961534,\n",
      "         0.03606874, -0.04447048],\n",
      "       [-0.015072  ,  0.05057291, -0.04685031, ..., -0.00316648,\n",
      "         0.00111224, -0.04591966],\n",
      "       ...,\n",
      "       [-0.02682706,  0.05365412, -0.02775045, ...,  0.03700871,\n",
      "        -0.02228298, -0.02446997],\n",
      "       [ 0.01401989,  0.0206609 , -0.0120415 , ...,  0.01189178,\n",
      "         0.01038392, -0.04914984],\n",
      "       [ 0.00980071,  0.07244343, -0.03348716, ...,  0.01767378,\n",
      "         0.02326618, -0.0031016 ]]), 'documents': ['Title: Dick Johnson Is Dead (Movie)\\nDescription: As her father nears the end of his life, filmmaker Kirsten Johnson stages his death in inventive and comical ways to help them both face the inevitable.\\nCategories: Documentaries', 'Title: Blood & Water (TV Show)\\nDescription: After crossing paths at a party, a Cape Town teen sets out to prove whether a private-school swimming star is her sister who was abducted at birth.\\nCategories: International TV Shows, TV Dramas, TV Mysteries', 'Title: Ganglands (TV Show)\\nDescription: To protect his family from a powerful drug lord, skilled thief Mehdi and his expert team of robbers are pulled into a violent and deadly turf war.\\nCategories: Crime TV Shows, International TV Shows, TV Action & Adventure', 'Title: Jailbirds New Orleans (TV Show)\\nDescription: Feuds, flirtations and toilet talk go down among the incarcerated women at the Orleans Justice Center in New Orleans on this gritty reality series.\\nCategories: Docuseries, Reality TV', 'Title: Kota Factory (TV Show)\\nDescription: In a city of coaching centers known to train India’s finest collegiate minds, an earnest but unexceptional student and his friends navigate campus life.\\nCategories: International TV Shows, Romantic TV Shows, TV Comedies', 'Title: Midnight Mass (TV Show)\\nDescription: The arrival of a charismatic young priest brings glorious miracles, ominous mysteries and renewed religious fervor to a dying town desperate to believe.\\nCategories: TV Dramas, TV Horror, TV Mysteries', \"Title: My Little Pony: A New Generation (Movie)\\nDescription: Equestria's divided. But a bright-eyed hero believes Earth Ponies, Pegasi and Unicorns should be pals — and, hoof to heart, she’s determined to prove it.\\nCategories: Children & Family Movies\", 'Title: Sankofa (Movie)\\nDescription: On a photo shoot in Ghana, an American model slips back in time, becomes enslaved on a plantation and bears witness to the agony of her ancestral past.\\nCategories: Dramas, Independent Movies, International Movies', \"Title: The Great British Baking Show (TV Show)\\nDescription: A talented batch of amateur bakers face off in a 10-week competition, whipping up their best dishes in the hopes of being named the U.K.'s best.\\nCategories: British TV Shows, Reality TV\", \"Title: The Starling (Movie)\\nDescription: A woman adjusting to life after a loss contends with a feisty bird that's taken over her garden — and a husband who's struggling to find a way forward.\\nCategories: Comedies, Dramas\"], 'uris': None, 'data': None, 'metadatas': [None, None, None, None, None, None, None, None, None, None], 'included': [<IncludeEnum.embeddings: 'embeddings'>, <IncludeEnum.documents: 'documents'>, <IncludeEnum.metadatas: 'metadatas'>]}\n"
     ]
    }
   ],
   "source": [
    "# Add the documents and IDs to the collection\n",
    "openai_api_array_limit = 2048\n",
    "for i in range(0, len(documents), openai_api_array_limit):\n",
    "    collection.add(ids=ids[i : i+openai_api_array_limit], \n",
    "                   documents=documents[i : i+openai_api_array_limit])\n",
    "\n",
    "# Print the collection size and first ten items\n",
    "print(f\"No. of documents: {collection.count()}\")\n",
    "print(f\"First ten documents: {collection.peek()}\")"
   ]
  },
  {
   "cell_type": "markdown",
   "metadata": {},
   "source": [
    "### Querying the Netflix collection\n",
    "Now that you've created and populated the netflix_titles collection, it's time to query it!\n",
    "\n",
    "As a first trial, you'll use it to provide recommendations for films and TV shows about dogs to one of your colleagues who loves dogs!\n",
    "\n",
    "The netflix_titles collection is still available to use, and OpenAIEmbeddingFunction() has been imported."
   ]
  },
  {
   "cell_type": "code",
   "execution_count": 21,
   "metadata": {},
   "outputs": [
    {
     "name": "stdout",
     "output_type": "stream",
     "text": [
      "{'ids': [['s95', 's2057', 's830']], 'embeddings': None, 'documents': [['Title: Show Dogs (Movie)\\nDescription: A rough and tough police dog must go undercover with an FBI agent as a prim and proper pet at a dog show to save a baby panda from an illegal sale.\\nCategories: Children & Family Movies, Comedies', \"Title: Hotel for Dogs (Movie)\\nDescription: Placed in a foster home that doesn't allow pets, 16-year-old Andi and her younger brother Bruce turn an abandoned hotel into a home for their dog.\\nCategories: Children & Family Movies, Comedies\", 'Title: Dog Gone Trouble (Movie)\\nDescription: The privileged life of a pampered dog named Trouble is turned upside-down when he gets lost and must learn to survive on the big-city streets.\\nCategories: Children & Family Movies, Comedies']], 'uris': None, 'data': None, 'metadatas': [[None, None, None]], 'distances': [[0.8597354888916016, 0.8886237144470215, 0.896007776260376]], 'included': [<IncludeEnum.distances: 'distances'>, <IncludeEnum.documents: 'documents'>, <IncludeEnum.metadatas: 'metadatas'>]}\n"
     ]
    }
   ],
   "source": [
    "# Retrieve the netflix_titles collection\n",
    "collection = client.get_collection(name=\"netflix_titles\",\n",
    "                                   embedding_function=OpenAIEmbeddingFunction(model_name=\"text-embedding-3-small\", \n",
    "                                                                              api_key=openai_api_key)\n",
    ")\n",
    "\n",
    "# Query the collection for \"films about dogs\"\n",
    "result = collection.query(query_texts=[\"films about dogs\"], \n",
    "                          n_results=3)\n",
    "\n",
    "print(result)"
   ]
  },
  {
   "cell_type": "markdown",
   "metadata": {},
   "source": [
    "### Updating and deleting items from a collection\n",
    "Just because the documents have been stored away in a vector database, that doesn't mean that you can't make changes to add to the collection or update existing items.\n",
    "\n",
    "In this exercise, you've been provided with two new Netflix titles stored in new_data:\n",
    "```\n",
    "[{\"id\": \"s1001\", \"document\": \"Title: Cats & Dogs (Movie)\\nDescription: A look at the top-secret, high-tech espionage war going on between cats and dogs, of which their human owners are blissfully unaware.\"},\n",
    " {\"id\": \"s6884\", \"document\": 'Title: Goosebumps 2: Haunted Halloween (Movie)\\nDescription: Three teens spend their Halloween trying to stop a magical book, which brings characters from the \"Goosebumps\" novels to life.\\nCategories: Children & Family Movies, Comedies'}]\n",
    " ```\n",
    "You'll either add or update these IDs in the database depending on whether they're already present in the collection."
   ]
  },
  {
   "cell_type": "code",
   "execution_count": 22,
   "metadata": {},
   "outputs": [
    {
     "name": "stdout",
     "output_type": "stream",
     "text": [
      "{'ids': [['s2057', 's830', 's6117']], 'embeddings': None, 'documents': [[\"Title: Hotel for Dogs (Movie)\\nDescription: Placed in a foster home that doesn't allow pets, 16-year-old Andi and her younger brother Bruce turn an abandoned hotel into a home for their dog.\\nCategories: Children & Family Movies, Comedies\", 'Title: Dog Gone Trouble (Movie)\\nDescription: The privileged life of a pampered dog named Trouble is turned upside-down when he gets lost and must learn to survive on the big-city streets.\\nCategories: Children & Family Movies, Comedies', 'Title: All Dogs Go to Heaven (Movie)\\nDescription: When a canine con artist becomes an angel, he sneaks back to Earth and crosses paths with an orphan girl who can speak to animals.\\nCategories: Children & Family Movies']], 'uris': None, 'data': None, 'metadatas': [[None, None, None]], 'distances': [[0.8886237144470215, 0.896007776260376, 0.9038515090942383]], 'included': [<IncludeEnum.distances: 'distances'>, <IncludeEnum.documents: 'documents'>, <IncludeEnum.metadatas: 'metadatas'>]}\n"
     ]
    }
   ],
   "source": [
    "new_data = [\n",
    "  {\n",
    "    'id': 's1001',\n",
    "    'document': 'Title: Cats & Dogs (Movie)\\nDescription: A look at the top-secret, high-tech espionage war going on between cats and dogs, of which their human owners are blissfully unaware.'\n",
    "  },\n",
    "  {\n",
    "    'id': 's6884',\n",
    "    'document': 'Title: Goosebumps 2: Haunted Halloween (Movie)\\nDescription: Three teens spend their Halloween trying to stop a magical book, which brings characters from the \"Goosebumps\" novels to life.\\nCategories: Children & Family Movies, Comedies'\n",
    "  }\n",
    "]\n",
    "\n",
    "collection = client.get_collection(name=\"netflix_titles\",\n",
    "                                   embedding_function=OpenAIEmbeddingFunction(model_name=\"text-embedding-3-small\", \n",
    "                                                                              api_key=openai_api_key)\n",
    ")\n",
    "\n",
    "# Update or add the new documents\n",
    "collection.upsert(ids=[d[\"id\"] for d in new_data],\n",
    "                  documents=[d[\"document\"] for d in new_data])\n",
    "\n",
    "# Delete the item with ID \"s95\"\n",
    "collection.delete(ids=[\"s95\"])\n",
    "\n",
    "result = collection.query(query_texts=[\"films about dogs\"],\n",
    "                          n_results=3)\n",
    "print(result)"
   ]
  },
  {
   "cell_type": "markdown",
   "metadata": {},
   "source": [
    "### Querying with multiple texts\n",
    "In many cases, you'll want to query the vector database using multiple query texts. Recall that these query texts are embedded using the same embedding function as when the documents were added.\n",
    "\n",
    "In this exercise, you'll use the documents from two IDs in the netflix_titles collection to query the rest of the collection, returning the most similar results as recommendations.\n",
    "\n",
    "The netflix_titles collection is still available to use, and OpenAIEmbeddingFunction() has been imported."
   ]
  },
  {
   "cell_type": "code",
   "execution_count": 23,
   "metadata": {},
   "outputs": [
    {
     "name": "stdout",
     "output_type": "stream",
     "text": [
      "[['Title: Shuddhi (Movie)\\nDescription: An American woman on a revenge mission travels to India and befriends two journalists seeking justice for violent crimes against women.\\nCategories: Dramas, International Movies, Thrillers', \"Title: Shakti: The Power (Movie)\\nDescription: A young mother must break free of the clutches of her husband's feudal family and bring herself and her young child to safety.\\nCategories: Dramas, International Movies, Thrillers\", \"Title: Saavat (Movie)\\nDescription: In rural India, a detective's investigation of seven confounding suicides uncovers revelations about the myths and mindsets of the rest of the village.\\nCategories: Dramas, Independent Movies, International Movies\"], ['Title: Stowaway (Movie)\\nDescription: A three-person crew on a mission to Mars faces an impossible choice when an unplanned passenger jeopardizes the lives of everyone on board.\\nCategories: Dramas, International Movies, Thrillers', \"Title: Kidnapping Stella (Movie)\\nDescription: Snatched off the street and held for ransom, a bound and gagged woman uses her limited powers to derail her two masked abductors' carefully laid plans.\\nCategories: Dramas, International Movies, Thrillers\", \"Title: Holiday on Mars (Movie)\\nDescription: A scoundrel's mission to escape his family and remarry on Mars is hilariously scrubbed when a mishap with a black hole turns his son into an old man.\\nCategories: Comedies, International Movies\"]]\n"
     ]
    }
   ],
   "source": [
    "collection = client.get_collection(name=\"netflix_titles\",\n",
    "                                   embedding_function=OpenAIEmbeddingFunction(model_name=\"text-embedding-3-small\", \n",
    "                                                                              api_key=openai_api_key)\n",
    ")\n",
    "\n",
    "reference_ids = ['s999', 's1000']\n",
    "\n",
    "# Retrieve the documents for the reference_ids\n",
    "reference_texts = collection.get(ids=reference_ids)[\"documents\"]\n",
    "\n",
    "# Query using reference_texts\n",
    "result = collection.query(query_texts=reference_texts,\n",
    "                          n_results=3)\n",
    "\n",
    "print(result['documents'])"
   ]
  },
  {
   "cell_type": "markdown",
   "metadata": {},
   "source": [
    "### Filtering using metadata\n",
    "Having metadata available to use in the database can unlock the ability to more easily filter results based on additional conditions. Imagine that the film recommendations you've be creating could access the user's set preferences and use those to further filter the results.\n",
    "\n",
    "In this exercise, you'll be using additional metadata to filter your Netflix film recommendations. The netflix_titles collection has been updated to add metadatas to each title, including the 'rating', the age rating given to the title, and 'release_year', the year the title was initially released.\n",
    "\n",
    "Here's a preview of an updated item:\n",
    "```\n",
    "{'ids': ['s999'],\n",
    " 'embeddings': None,\n",
    " 'metadatas': [{'rating': 'TV-14', 'release_year': 2021}],\n",
    " 'documents': ['Title: Searching For Sheela (Movie)\\nDescription: Journalists and fans await Ma Anand Sheela as the infamous former Rajneesh commune’s spokesperson returns to India after decades for an interview tour.\\nCategories: Documentaries, International Movies'],\n",
    " 'uris': None,\n",
    " 'data': None}\n",
    " ```"
   ]
  },
  {
   "cell_type": "code",
   "execution_count": 34,
   "metadata": {},
   "outputs": [
    {
     "name": "stderr",
     "output_type": "stream",
     "text": [
      "Update of nonexisting embedding ID: s95\n"
     ]
    }
   ],
   "source": [
    "ids = []\n",
    "metadatas = []\n",
    "\n",
    "with open('resources/netflix_titles.csv') as csvfile:\n",
    "    reader = csv.DictReader(csvfile)\n",
    "    for i, row in enumerate(reader):\n",
    "        ids.append(row['show_id'])\n",
    "        metadatas.append({\n",
    "            \"rating\":row['rating'],\n",
    "            \"release_year\": int(row['release_year'])\n",
    "        })\n",
    "\n",
    "collection = client.get_collection(name=\"netflix_titles\",\n",
    "                                   embedding_function=OpenAIEmbeddingFunction(model_name=\"text-embedding-3-small\", \n",
    "                                                                              api_key=openai_api_key)\n",
    ")\n",
    "\n",
    "collection.update(ids=ids, metadatas=metadatas)"
   ]
  },
  {
   "cell_type": "code",
   "execution_count": 35,
   "metadata": {},
   "outputs": [
    {
     "name": "stdout",
     "output_type": "stream",
     "text": [
      "[['Title: Chitty Chitty Bang Bang (Movie)\\nDescription: Quirky inventor Caractacus Potts and his family travel in their magical flying car to Vulgaria, a kingdom strangely devoid of children.\\nCategories: Children & Family Movies, Classic Movies, Comedies', \"Title: Charlotte's Web (Movie)\\nDescription: Follow the adventures of Wilbur the pig, Templeton the rat and Charlotte the spider in this animated musical version of E.B. White's timeless story.\\nCategories: Children & Family Movies, Classic Movies\"], ['Title: Ghost of the Mountains (Movie)\\nDescription: An international group of filmmakers sets out on a mission to get up close and personal with a family of elusive snow leopards.\\nCategories: Children & Family Movies, Documentaries', 'Title: Balto 2: Wolf Quest (Movie)\\nDescription: Half-dog, half-wolf Balto (voiced by Maurice LaMarche) and his wife proudly put their pups up for adoption to humans, but when nobody takes daughter Aleu because she looks too much like a wolf, she runs away to search for her place in the world.\\nCategories: Children & Family Movies']]\n"
     ]
    }
   ],
   "source": [
    "reference_texts = [\"children's story about a car\", \"lions\"]\n",
    "\n",
    "# Query two results using reference_texts\n",
    "result = collection.query(query_texts=reference_texts,\n",
    "                          n_results=2,\n",
    "                          # Filter for titles with a G rating released before 2019\n",
    "                          where={\n",
    "                            \"$and\": [\n",
    "                                {\"rating\":  \n",
    "        \t                        {\"$eq\": \"G\"}\n",
    "                                },\n",
    "                                {\"release_year\": \n",
    "         \t                        {\"$lt\": 2019}\n",
    "                                }\n",
    "                            ]\n",
    "                          }\n",
    ")\n",
    "\n",
    "print(result['documents'])"
   ]
  }
 ],
 "metadata": {
  "kernelspec": {
   "display_name": "Python 3 (ipykernel)",
   "language": "python",
   "name": "python3"
  },
  "language_info": {
   "codemirror_mode": {
    "name": "ipython",
    "version": 3
   },
   "file_extension": ".py",
   "mimetype": "text/x-python",
   "name": "python",
   "nbconvert_exporter": "python",
   "pygments_lexer": "ipython3",
   "version": "3.11.10"
  }
 },
 "nbformat": 4,
 "nbformat_minor": 4
}
