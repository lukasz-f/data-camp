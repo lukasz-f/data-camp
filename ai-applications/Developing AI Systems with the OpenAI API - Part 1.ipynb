{
 "cells": [
  {
   "cell_type": "markdown",
   "metadata": {},
   "source": [
    "# Developing AI Systems with the OpenAI API - Part 1"
   ]
  },
  {
   "cell_type": "markdown",
   "metadata": {},
   "source": [
    "## Structuring End-to-End Applications\n",
    "\n",
    "Learn how to seamlessly incorporate the OpenAI API into more complex systems, mastering the art of manipulating the response format and adeptly handling errors. This chapter provides essential knowledge for those looking to build components of AI systems that are not just interactive but also robust and efficient."
   ]
  },
  {
   "cell_type": "code",
   "execution_count": null,
   "metadata": {},
   "outputs": [],
   "source": [
    "import os\n",
    "\n",
    "# Set your OpenAI API key\n",
    "openai_api_key = os.environ['OPENAI_API_KEY']"
   ]
  },
  {
   "cell_type": "markdown",
   "metadata": {},
   "source": [
    "### Formatting model response as JSON\n",
    "As a librarian cataloging new books, you aim to leverage the OpenAI API to automate the creation of a JSON file from text notes you received from a colleague. Your task is to extract relevant information such as book titles and authors and to do this, you use the OpenAI API to convert the text notes, that include book titles and authors, into structured JSON files.\n",
    "\n",
    "In this and all the following exercises, the openai library has already been loaded. Entering your own API key is not necessary to create requests and complete the exercises in this course; however, you may do so if you prefer."
   ]
  },
  {
   "cell_type": "code",
   "execution_count": null,
   "metadata": {},
   "outputs": [
    {
     "name": "stdout",
     "output_type": "stream",
     "text": [
      "\n",
      "{\n",
      "  \"new_releases\": [\n",
      "    {\n",
      "      \"title\": \"The Beholders\",\n",
      "      \"author\": \"Hester Musson\"\n",
      "    },\n",
      "    {\n",
      "      \"title\": \"The Mystery Guest\",\n",
      "      \"author\": \"Nita Prose\"\n",
      "    }\n",
      "  ]\n",
      "}\n"
     ]
    }
   ],
   "source": [
    "from openai import OpenAI\n",
    "\n",
    "# Create the OpenAI client\n",
    "client = OpenAI(api_key=openai_api_key)\n",
    "\n",
    "# Create the request\n",
    "response = client.chat.completions.create(\n",
    "    model=\"gpt-4o-mini\",\n",
    "    messages=[\n",
    "        {\"role\": \"user\", \n",
    "         \"content\": \"I have these notes with book titles and authors: New releases this week! The Beholders by Hester Musson, The Mystery Guest by Nita Prose. Please organize the titles and authors in a json file.\"}\n",
    "    ],\n",
    "    # Specify the response format\n",
    "    response_format={\"type\": \"json_object\"}\n",
    ")\n",
    "\n",
    "# Print the response\n",
    "print(response.choices[0].message.content)"
   ]
  },
  {
   "cell_type": "markdown",
   "metadata": {},
   "source": [
    "### Handling exceptions\n",
    "You are working at a logistics company on developing an application that uses the OpenAI API to check the shipping address of your top three customers. The application will be used internally and you want to make sure that other teams are presented with an easy to read message in case of error.\n",
    "\n",
    "To address this requirement, you decide to print a custom message in case the users fail to provide a valid key for authentication, and use a try and except block to handle that.\n",
    "\n",
    "The message variable has already been imported."
   ]
  },
  {
   "cell_type": "code",
   "execution_count": 9,
   "metadata": {},
   "outputs": [
    {
     "name": "stdout",
     "output_type": "stream",
     "text": [
      "Please double check your authentication key and try again, the one provided is not valid.\n"
     ]
    }
   ],
   "source": [
    "from openai import AuthenticationError, RateLimitError\n",
    "\n",
    "\n",
    "client = OpenAI(api_key='abcd')\n",
    "\n",
    "# Use the try statement\n",
    "try:\n",
    "    response = client.chat.completions.create(\n",
    "        model=\"gpt-4o-mini\",\n",
    "        messages=[\n",
    "            {\"role\": \"user\", \n",
    "             \"content\": \"I have these notes with book titles and authors: New releases this week! The Beholders by Hester Musson, The Mystery Guest by Nita Prose. Please organize the titles and authors in a json file.\"}\n",
    "        ],\n",
    "        # Specify the response format\n",
    "        response_format={\"type\": \"json_object\"}\n",
    "    )\n",
    "\n",
    "    print(response.choices[0].message.content)\n",
    "# Use the except statement\n",
    "except AuthenticationError as e:\n",
    "    print(\"Please double check your authentication key and try again, the one provided is not valid.\")\n",
    "except RateLimitError as e:\n",
    "    print(f\"OpenAI API request exceeded rate limit: {e}\")\n",
    "except Exception as e:\n",
    "    print(f\"Unable to generate a response. Exception: {e}\")"
   ]
  },
  {
   "cell_type": "markdown",
   "metadata": {},
   "source": [
    "### Avoiding rate limits with retry\n",
    "You've created a function to run Chat Completions with a custom message but have noticed it sometimes fails due to rate limits. You decide to use the @retry decorator from the tenacity library to avoid errors when possible."
   ]
  },
  {
   "cell_type": "code",
   "execution_count": 12,
   "metadata": {},
   "outputs": [
    {
     "name": "stdout",
     "output_type": "stream",
     "text": [
      "Sure! Here are ten popular holiday destinations:\n",
      "\n",
      "1. Bali, Indonesia\n",
      "2. Paris, France\n",
      "3. Tokyo, Japan\n",
      "4. Santorini, Greece\n",
      "5. New York City, USA\n",
      "6. Rome, Italy\n",
      "7. Sydney, Australia\n",
      "8. Marrakech, Morocco\n",
      "9. Cancun, Mexico\n",
      "10. Cape Town, South Africa\n",
      "\n",
      "These destinations offer a mix of culture, adventure, relaxation, and stunning scenery.\n"
     ]
    }
   ],
   "source": [
    "# Import the tenacity library\n",
    "from tenacity import retry, wait_random_exponential, stop_after_attempt\n",
    "\n",
    "client = OpenAI(api_key=openai_api_key)\n",
    "\n",
    "# Add the appropriate parameters to the decorator\n",
    "@retry(wait=wait_random_exponential(min=5, max=40), stop=stop_after_attempt(4))\n",
    "def get_response(messages, model=\"gpt-4o-mini\"):\n",
    "    response = client.chat.completions.create(\n",
    "        model=model,\n",
    "        messages=messages\n",
    "    )\n",
    "    return response.choices[0].message.content\n",
    "\n",
    "print(get_response([{\"role\": \"user\", \"content\": \"List ten holiday destinations.\"}], \n",
    "                   \"gpt-4o-mini\"))"
   ]
  },
  {
   "cell_type": "markdown",
   "metadata": {},
   "source": [
    "### Batching messages\n",
    "You are developing a fitness application to track running and cycling training, but find out that all your customers' distances have been measured in kilometers, and you'd like to have them also converted to miles.\n",
    "\n",
    "You decide to use the OpenAI API to send requests for each measurement, but want to avoid using a for loop that would send too many requests. You decide to send the requests in batches, specifying a system message that asks to convert each of the measurements from kilometers to miles and present the results in a table containing both the original and converted measurements.\n",
    "\n",
    "The measurements list (containing a list of floats) and the get_response() function have already been imported."
   ]
  },
  {
   "cell_type": "code",
   "execution_count": null,
   "metadata": {},
   "outputs": [
    {
     "name": "stdout",
     "output_type": "stream",
     "text": [
      "To convert kilometers to miles, you can use the conversion factor where 1 kilometer is approximately equal to 0.621371 miles. Here are the converted measurements presented in a table:\n",
      "\n",
      "| Kilometers | Miles    |\n",
      "|------------|----------|\n",
      "| 5.2        | 3.228    |\n",
      "| 6.3        | 3.913    |\n",
      "| 3.7        | 2.298    |\n",
      "\n",
      "### Conversion calculations:\n",
      "- 5.2 km * 0.621371 = 3.228 miles\n",
      "- 6.3 km * 0.621371 = 3.913 miles\n",
      "- 3.7 km * 0.621371 = 2.298 miles\n"
     ]
    }
   ],
   "source": [
    "measurements = [5.2, 6.3, 3.7]\n",
    "\n",
    "messages = []\n",
    "# Provide a system message and user messages to send the batch\n",
    "messages.append({\"role\": \"system\", \n",
    "                 \"content\": \"Convert each of the measurements from kilometers to miles and present the results in a table containing both the original and converted measurements.\"})\n",
    "# Append measurements to the message\n",
    "[messages.append({\"role\": \"user\", \"content\": str(i)}) for i in measurements]\n",
    "\n",
    "response = get_response(messages)\n",
    "print(response)"
   ]
  },
  {
   "cell_type": "markdown",
   "metadata": {},
   "source": [
    "### Setting token limits\n",
    "An e-commerce platform just hired you to improve the performance of their customer service bot built using the OpenAI API. You've decided to start by ensuring that the input messages do not cause any rate limit issue by setting a limit of 100 tokens, and test it with a sample input message.\n",
    "\n",
    "The tiktoken library has been preloaded."
   ]
  },
  {
   "cell_type": "code",
   "execution_count": 14,
   "metadata": {},
   "outputs": [
    {
     "name": "stdout",
     "output_type": "stream",
     "text": [
      "Sure! Here are two color pairings for a shirt and a jacket:\n",
      "\n",
      "1. **Navy Blue Jacket with a White Shirt**: This classic combination is versatile and perfect for both casual and smart-casual occasions. You can add jeans or chinos to complete the look.\n",
      "\n",
      "2. **Olive Green Jacket with a Light Gray Shirt**: This pairing offers a modern and stylish vibe. The earthy tone of the olive green jacket complements the neutral light gray shirt, creating a balanced and fresh outfit.\n",
      "\n",
      "Feel free to mix and match based on your personal style!\n"
     ]
    }
   ],
   "source": [
    "import tiktoken\n",
    "\n",
    "input_message = {\"role\": \"user\", \n",
    "                 \"content\": \"I'd like to buy a shirt and a jacket. Can you suggest two color pairings for these items?\"}\n",
    "\n",
    "# Use tiktoken to create the encoding for your model\n",
    "encoding = tiktoken.encoding_for_model(\"gpt-4o-mini\")\n",
    "# Check for the number of tokens\n",
    "num_tokens = len(encoding.encode(input_message['content']))\n",
    "\n",
    "# Run the chat completions function and print the response\n",
    "if num_tokens <= 100:\n",
    "    response = client.chat.completions.create(model=\"gpt-4o-mini\", messages=[input_message])\n",
    "    print(response.choices[0].message.content)\n",
    "else:\n",
    "    print(\"Message exceeds token limit\")"
   ]
  }
 ],
 "metadata": {
  "kernelspec": {
   "display_name": "Python 3 (ipykernel)",
   "language": "python",
   "name": "python3"
  }
 },
 "nbformat": 4,
 "nbformat_minor": 2
}
