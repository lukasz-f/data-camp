{
 "cells": [
  {
   "cell_type": "markdown",
   "metadata": {},
   "source": [
    "# Working with the OpenAI API - Part 1"
   ]
  },
  {
   "cell_type": "markdown",
   "metadata": {},
   "source": [
    "## Introduction to the OpenAI API\n",
    "Harness the power of AI from OpenAI's models by creating requests to their API with just a few lines of code. Discover the wide range of capabilities available via the OpenAI API. Learn about the best practices for managing API usage across the business by utilizing API organizations."
   ]
  },
  {
   "cell_type": "code",
   "execution_count": 12,
   "metadata": {},
   "outputs": [],
   "source": [
    "import os\n",
    "\n",
    "api_key = os.getenv('OPENAI_API_KEY')"
   ]
  },
  {
   "cell_type": "code",
   "execution_count": 13,
   "metadata": {},
   "outputs": [],
   "source": [
    "from openai import OpenAI\n",
    "\n",
    "# Create the OpenAI client\n",
    "client = OpenAI(api_key=api_key)"
   ]
  },
  {
   "cell_type": "markdown",
   "metadata": {},
   "source": [
    "### Your first OpenAI API request!\n",
    "To give you a taste of what's to come, the Python code to send a request to the OpenAI API has been set up for you.\n",
    "\n",
    "Pass the prompt argument any prompt you wish to see how OpenAI's model responds. The prompt can be phrased as a question or instruction, so dive in and start prompting!\n",
    "\n",
    "Here are a few prompts to try if you're struggling for ideas:\n",
    "\n",
    "1. Simply and concisely, explain why learning about the OpenAI API is important for developers.\n",
    "2. I work as a {insert your job title}. Give me three concise suggestions for tasks that could be automated with the OpenAI API.\n",
    "3. In two sentences, how can the OpenAI API be used to upskill myself?"
   ]
  },
  {
   "cell_type": "code",
   "execution_count": 7,
   "metadata": {},
   "outputs": [
    {
     "name": "stdout",
     "output_type": "stream",
     "text": [
      "OpenAI was founded in December 2015.\n"
     ]
    }
   ],
   "source": [
    "response = client.chat.completions.create(\n",
    "    model=\"gpt-4o-mini\",\n",
    "    # Write your prompt\n",
    "    messages=[\n",
    "        {\n",
    "            \"role\": \"user\", \n",
    "            \"content\": \"In what year was OpenAI founded?\"\n",
    "        }\n",
    "    ],\n",
    "    max_tokens=200\n",
    ")\n",
    "\n",
    "print(response.choices[0].message.content)"
   ]
  },
  {
   "cell_type": "markdown",
   "metadata": {},
   "source": [
    "### Building an OpenAI API request\n",
    "Throughout the course, you'll write Python code to interact with the OpenAI API. Entering your own API key is not necessary to create requests and complete the exercises in this course.\n",
    "\n",
    "The OpenAI class has already been imported for you from the openai library."
   ]
  },
  {
   "cell_type": "code",
   "execution_count": 8,
   "metadata": {},
   "outputs": [
    {
     "name": "stdout",
     "output_type": "stream",
     "text": [
      "ChatCompletion(id='chatcmpl-AQXour83ESoDHsd6BvzNi7K8pwGqG', choices=[Choice(finish_reason='stop', index=0, logprobs=None, message=ChatCompletionMessage(content='ChatGPT was developed by OpenAI, an artificial intelligence research organization. OpenAI focuses on creating and promoting friendly AI for the benefit of humanity.', refusal=None, role='assistant', audio=None, function_call=None, tool_calls=None))], created=1730889896, model='gpt-4o-mini-2024-07-18', object='chat.completion', service_tier=None, system_fingerprint='fp_0ba0d124f1', usage=CompletionUsage(completion_tokens=29, prompt_tokens=12, total_tokens=41, completion_tokens_details=CompletionTokensDetails(accepted_prediction_tokens=0, audio_tokens=0, reasoning_tokens=0, rejected_prediction_tokens=0), prompt_tokens_details=PromptTokensDetails(audio_tokens=0, cached_tokens=0)))\n"
     ]
    }
   ],
   "source": [
    "# Create a request to the Chat Completions endpoint\n",
    "response = client.chat.completions.create(\n",
    "  # Specify the correct model\n",
    "  model=\"gpt-4o-mini\",\n",
    "  # Specify the message keys\n",
    "  messages=[{\"role\": \"user\", \"content\": \"Who developed ChatGPT?\"}]\n",
    ")\n",
    "\n",
    "print(response)"
   ]
  },
  {
   "cell_type": "markdown",
   "metadata": {},
   "source": [
    "### Digging into the response\n",
    "One of the key skills required to work with APIs is manipulating the response to extract the desired information. In this exercise, you'll push your Python dictionary and list manipulation skills to the max to extract information from the API response.\n",
    "\n",
    "You've been provided with response, which is a response from the OpenAI API when provided with the prompt, Who developed ChatGPT?\n",
    "\n",
    "This response object has been printed for you so you can see and understand its structure."
   ]
  },
  {
   "cell_type": "code",
   "execution_count": 9,
   "metadata": {},
   "outputs": [
    {
     "name": "stdout",
     "output_type": "stream",
     "text": [
      "gpt-4o-mini-2024-07-18\n"
     ]
    }
   ],
   "source": [
    "# Extract the model from response\n",
    "print(response.model)"
   ]
  },
  {
   "cell_type": "code",
   "execution_count": 10,
   "metadata": {},
   "outputs": [
    {
     "name": "stdout",
     "output_type": "stream",
     "text": [
      "41\n"
     ]
    }
   ],
   "source": [
    "# Extract the total_tokens from response\n",
    "print(response.usage.total_tokens)"
   ]
  },
  {
   "cell_type": "code",
   "execution_count": 11,
   "metadata": {},
   "outputs": [
    {
     "name": "stdout",
     "output_type": "stream",
     "text": [
      "ChatGPT was developed by OpenAI, an artificial intelligence research organization. OpenAI focuses on creating and promoting friendly AI for the benefit of humanity.\n"
     ]
    }
   ],
   "source": [
    "# Extract the text from response\n",
    "print(response.choices[0].message.content)"
   ]
  },
  {
   "cell_type": "code",
   "execution_count": null,
   "metadata": {},
   "outputs": [],
   "source": []
  }
 ],
 "metadata": {
  "kernelspec": {
   "display_name": "Python 3 (ipykernel)",
   "language": "python",
   "name": "python3"
  }
 },
 "nbformat": 4,
 "nbformat_minor": 2
}
