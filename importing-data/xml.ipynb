{
 "cells": [
  {
   "cell_type": "code",
   "execution_count": 6,
   "metadata": {
    "collapsed": true
   },
   "outputs": [],
   "source": [
    "import requests\n",
    "import xml.etree.ElementTree as ET"
   ]
  },
  {
   "cell_type": "code",
   "execution_count": 7,
   "metadata": {},
   "outputs": [],
   "source": [
    "p = {\"q\" : \"select item.condition from weather.forecast where woeid = 2487889\",\n",
    "    \"format\" : \"xml\",\n",
    "    \"env\" : \"store%3A%2F%2Fdatatables.org%2Falltableswithkeys\"}\n",
    "r = requests.get(\"https://query.yahooapis.com/v1/public/yql\", params=p)\n",
    "pogodaXMLText = r.text"
   ]
  },
  {
   "cell_type": "code",
   "execution_count": 8,
   "metadata": {},
   "outputs": [
    {
     "data": {
      "text/plain": [
       "<Element 'query' at 0x104cf40e8>"
      ]
     },
     "execution_count": 8,
     "metadata": {},
     "output_type": "execute_result"
    }
   ],
   "source": [
    "root = ET.fromstring(pogodaXMLText)\n",
    "root"
   ]
  },
  {
   "cell_type": "code",
   "execution_count": 12,
   "metadata": {},
   "outputs": [
    {
     "data": {
      "text/plain": [
       "'query'"
      ]
     },
     "execution_count": 12,
     "metadata": {},
     "output_type": "execute_result"
    }
   ],
   "source": [
    "root.tag"
   ]
  },
  {
   "cell_type": "code",
   "execution_count": 14,
   "metadata": {},
   "outputs": [
    {
     "data": {
      "text/plain": [
       "{'{http://www.yahooapis.com/v1/base.rng}count': '1',\n",
       " '{http://www.yahooapis.com/v1/base.rng}created': '2017-05-06T14:28:38Z',\n",
       " '{http://www.yahooapis.com/v1/base.rng}lang': 'en-US'}"
      ]
     },
     "execution_count": 14,
     "metadata": {},
     "output_type": "execute_result"
    }
   ],
   "source": [
    "root.attrib"
   ]
  },
  {
   "cell_type": "code",
   "execution_count": 23,
   "metadata": {},
   "outputs": [
    {
     "data": {
      "text/plain": [
       "{'code': '26',\n",
       " 'date': 'Sat, 06 May 2017 06:00 AM PDT',\n",
       " 'temp': '61',\n",
       " 'text': 'Cloudy'}"
      ]
     },
     "execution_count": 23,
     "metadata": {},
     "output_type": "execute_result"
    }
   ],
   "source": [
    "root[0][0][0][0].attrib"
   ]
  },
  {
   "cell_type": "code",
   "execution_count": 24,
   "metadata": {},
   "outputs": [
    {
     "name": "stdout",
     "output_type": "stream",
     "text": [
      "<Element '{http://xml.weather.yahoo.com/ns/rss/1.0}condition' at 0x104cf4548>\n"
     ]
    }
   ],
   "source": [
    "ns = {'yweather': 'http://xml.weather.yahoo.com/ns/rss/1.0'}\n",
    "for country in root.findall('./results/channel/item/yweather:condition', ns):\n",
    "    print(country)"
   ]
  },
  {
   "cell_type": "code",
   "execution_count": null,
   "metadata": {
    "collapsed": true
   },
   "outputs": [],
   "source": [
    ""
   ]
  }
 ],
 "metadata": {
  "kernelspec": {
   "display_name": "Python 3",
   "language": "python",
   "name": "python3"
  },
  "language_info": {
   "codemirror_mode": {
    "name": "ipython",
    "version": 3.0
   },
   "file_extension": ".py",
   "mimetype": "text/x-python",
   "name": "python",
   "nbconvert_exporter": "python",
   "pygments_lexer": "ipython3",
   "version": "3.6.0"
  }
 },
 "nbformat": 4,
 "nbformat_minor": 0
}