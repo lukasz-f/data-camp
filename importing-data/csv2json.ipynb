{
 "cells": [
  {
   "cell_type": "code",
   "execution_count": 11,
   "metadata": {
    "collapsed": true
   },
   "outputs": [],
   "source": [
    "import pandas as pd"
   ]
  },
  {
   "cell_type": "code",
   "execution_count": 12,
   "metadata": {
    "collapsed": true
   },
   "outputs": [],
   "source": [
    "input_file_name = '../datasets/wikipedia/News-article-wikipedia.csv'\n",
    "output_file_name = '../datasets/wikipedia/News-article-wikipedia.json'"
   ]
  },
  {
   "cell_type": "code",
   "execution_count": 13,
   "metadata": {
    "collapsed": false
   },
   "outputs": [
    {
     "data": {
      "text/html": [
       "<div>\n",
       "<table border=\"1\" class=\"dataframe\">\n",
       "  <thead>\n",
       "    <tr style=\"text-align: right;\">\n",
       "      <th></th>\n",
       "      <th>_unit_id</th>\n",
       "      <th>_unit_state</th>\n",
       "      <th>_trusted_judgments</th>\n",
       "      <th>_last_judgment_at</th>\n",
       "      <th>given_the_news_article_headline_and_description_above_please_select_the_most_relevant_wikipedia_page_from_the_following_options</th>\n",
       "      <th>given_the_news_article_headline_and_description_above_please_select_the_most_relevant_wikipedia_page_from_the_following_options:confidence</th>\n",
       "      <th>wikipedia_page2__</th>\n",
       "      <th>article</th>\n",
       "      <th>gurl</th>\n",
       "      <th>id</th>\n",
       "      <th>newdescp</th>\n",
       "      <th>nil</th>\n",
       "      <th>option3</th>\n",
       "      <th>oururl</th>\n",
       "    </tr>\n",
       "  </thead>\n",
       "  <tbody>\n",
       "    <tr>\n",
       "      <th>0</th>\n",
       "      <td>691201838</td>\n",
       "      <td>finalized</td>\n",
       "      <td>5</td>\n",
       "      <td>3/19/15 19:59</td>\n",
       "      <td>Wikipedia Page1 :</td>\n",
       "      <td>1.0000</td>\n",
       "      <td>Wikipedia Page2 :\\n\\n\\nWikipedia Page2 :\\nWiki...</td>\n",
       "      <td>Gaza aid ship to dock in Egypt after Israel pr...</td>\n",
       "      <td>http://en.wikipedia.org/wiki/Gaza_Strip</td>\n",
       "      <td>1</td>\n",
       "      <td>A ship with supplies for Gaza will dock at el...</td>\n",
       "      <td>NaN</td>\n",
       "      <td>None</td>\n",
       "      <td>http://en.wikipedia.org/wiki/Gaza_flotilla_raid</td>\n",
       "    </tr>\n",
       "    <tr>\n",
       "      <th>1</th>\n",
       "      <td>691201839</td>\n",
       "      <td>finalized</td>\n",
       "      <td>5</td>\n",
       "      <td>3/19/15 20:34</td>\n",
       "      <td>Wikipedia Page1 :</td>\n",
       "      <td>1.0000</td>\n",
       "      <td>Wikipedia Page2 :\\n\\nWikipedia Page2 :\\n\\n</td>\n",
       "      <td>Mel Gibson</td>\n",
       "      <td>http://en.wikipedia.org/wiki/Mel_Gibson</td>\n",
       "      <td>2</td>\n",
       "      <td>Often acts and directs stories involving an i...</td>\n",
       "      <td>NaN</td>\n",
       "      <td>None</td>\n",
       "      <td>http://en.wikipedia.org/wiki/Mel_Gibson_filmog...</td>\n",
       "    </tr>\n",
       "    <tr>\n",
       "      <th>2</th>\n",
       "      <td>691201840</td>\n",
       "      <td>finalized</td>\n",
       "      <td>5</td>\n",
       "      <td>3/19/15 3:01</td>\n",
       "      <td>Wikipedia Page1 :</td>\n",
       "      <td>1.0000</td>\n",
       "      <td>\\n\\n\\n\\n</td>\n",
       "      <td>Talent Agency WME drops Mel Gibson</td>\n",
       "      <td>http://en.wikipedia.org/wiki/Mel_Gibson</td>\n",
       "      <td>3</td>\n",
       "      <td>Cast member Mel Gibson (R) and Oksana Grigori...</td>\n",
       "      <td>NaN</td>\n",
       "      <td>None</td>\n",
       "      <td>http://en.wikipedia.org/wiki/Lethal_Weapon_(fi...</td>\n",
       "    </tr>\n",
       "    <tr>\n",
       "      <th>3</th>\n",
       "      <td>691201841</td>\n",
       "      <td>finalized</td>\n",
       "      <td>5</td>\n",
       "      <td>3/20/15 6:27</td>\n",
       "      <td>Wikipedia Page1 :</td>\n",
       "      <td>0.8282</td>\n",
       "      <td>\\n\\n\\nWikipedia Page2 :\\n</td>\n",
       "      <td>Suicide bomber killed in Tehran-Fars</td>\n",
       "      <td>http://en.wikipedia.org/wiki/Iran</td>\n",
       "      <td>4</td>\n",
       "      <td>(Adds details)  TEHRAN, June 20 (Reuters) - A...</td>\n",
       "      <td>NaN</td>\n",
       "      <td>None</td>\n",
       "      <td>http://en.wikipedia.org/wiki/Timeline_of_the_2...</td>\n",
       "    </tr>\n",
       "    <tr>\n",
       "      <th>4</th>\n",
       "      <td>691201842</td>\n",
       "      <td>finalized</td>\n",
       "      <td>5</td>\n",
       "      <td>3/20/15 6:51</td>\n",
       "      <td>Wikipedia Page1 :</td>\n",
       "      <td>0.5258</td>\n",
       "      <td>Wikipedia Page2 :\\nWikipedia Page2 :\\n\\n\\n</td>\n",
       "      <td>Iran's 10% ballot boxes to be recounted</td>\n",
       "      <td>http://en.wikipedia.org/wiki/Iran</td>\n",
       "      <td>5</td>\n",
       "      <td>Tehran - Iran's Guardian Council is ready to ...</td>\n",
       "      <td>NaN</td>\n",
       "      <td>None</td>\n",
       "      <td>http://en.wikipedia.org/wiki/Timeline_of_the_2...</td>\n",
       "    </tr>\n",
       "  </tbody>\n",
       "</table>\n",
       "</div>"
      ],
      "text/plain": [
       "    _unit_id _unit_state  _trusted_judgments _last_judgment_at  \\\n",
       "0  691201838   finalized                   5     3/19/15 19:59   \n",
       "1  691201839   finalized                   5     3/19/15 20:34   \n",
       "2  691201840   finalized                   5      3/19/15 3:01   \n",
       "3  691201841   finalized                   5      3/20/15 6:27   \n",
       "4  691201842   finalized                   5      3/20/15 6:51   \n",
       "\n",
       "  given_the_news_article_headline_and_description_above_please_select_the_most_relevant_wikipedia_page_from_the_following_options  \\\n",
       "0                                  Wikipedia Page1 :                                                                                \n",
       "1                                  Wikipedia Page1 :                                                                                \n",
       "2                                  Wikipedia Page1 :                                                                                \n",
       "3                                  Wikipedia Page1 :                                                                                \n",
       "4                                  Wikipedia Page1 :                                                                                \n",
       "\n",
       "   given_the_news_article_headline_and_description_above_please_select_the_most_relevant_wikipedia_page_from_the_following_options:confidence  \\\n",
       "0                                             1.0000                                                                                            \n",
       "1                                             1.0000                                                                                            \n",
       "2                                             1.0000                                                                                            \n",
       "3                                             0.8282                                                                                            \n",
       "4                                             0.5258                                                                                            \n",
       "\n",
       "                                   wikipedia_page2__  \\\n",
       "0  Wikipedia Page2 :\\n\\n\\nWikipedia Page2 :\\nWiki...   \n",
       "1         Wikipedia Page2 :\\n\\nWikipedia Page2 :\\n\\n   \n",
       "2                                           \\n\\n\\n\\n   \n",
       "3                          \\n\\n\\nWikipedia Page2 :\\n   \n",
       "4         Wikipedia Page2 :\\nWikipedia Page2 :\\n\\n\\n   \n",
       "\n",
       "                                             article  \\\n",
       "0  Gaza aid ship to dock in Egypt after Israel pr...   \n",
       "1                                         Mel Gibson   \n",
       "2                 Talent Agency WME drops Mel Gibson   \n",
       "3               Suicide bomber killed in Tehran-Fars   \n",
       "4            Iran's 10% ballot boxes to be recounted   \n",
       "\n",
       "                                      gurl  id  \\\n",
       "0  http://en.wikipedia.org/wiki/Gaza_Strip   1   \n",
       "1  http://en.wikipedia.org/wiki/Mel_Gibson   2   \n",
       "2  http://en.wikipedia.org/wiki/Mel_Gibson   3   \n",
       "3        http://en.wikipedia.org/wiki/Iran   4   \n",
       "4        http://en.wikipedia.org/wiki/Iran   5   \n",
       "\n",
       "                                            newdescp  nil option3  \\\n",
       "0   A ship with supplies for Gaza will dock at el...  NaN    None   \n",
       "1   Often acts and directs stories involving an i...  NaN    None   \n",
       "2   Cast member Mel Gibson (R) and Oksana Grigori...  NaN    None   \n",
       "3   (Adds details)  TEHRAN, June 20 (Reuters) - A...  NaN    None   \n",
       "4   Tehran - Iran's Guardian Council is ready to ...  NaN    None   \n",
       "\n",
       "                                              oururl  \n",
       "0    http://en.wikipedia.org/wiki/Gaza_flotilla_raid  \n",
       "1  http://en.wikipedia.org/wiki/Mel_Gibson_filmog...  \n",
       "2  http://en.wikipedia.org/wiki/Lethal_Weapon_(fi...  \n",
       "3  http://en.wikipedia.org/wiki/Timeline_of_the_2...  \n",
       "4  http://en.wikipedia.org/wiki/Timeline_of_the_2...  "
      ]
     },
     "execution_count": 13,
     "metadata": {},
     "output_type": "execute_result"
    }
   ],
   "source": [
    "df = pd.read_csv(input_file_name)\n",
    "df.head()"
   ]
  },
  {
   "cell_type": "code",
   "execution_count": 14,
   "metadata": {
    "collapsed": false
   },
   "outputs": [
    {
     "data": {
      "text/html": [
       "<div>\n",
       "<table border=\"1\" class=\"dataframe\">\n",
       "  <thead>\n",
       "    <tr style=\"text-align: right;\">\n",
       "      <th></th>\n",
       "      <th>_unit_id</th>\n",
       "      <th>article</th>\n",
       "      <th>newdescp</th>\n",
       "    </tr>\n",
       "  </thead>\n",
       "  <tbody>\n",
       "    <tr>\n",
       "      <th>0</th>\n",
       "      <td>691201838</td>\n",
       "      <td>Gaza aid ship to dock in Egypt after Israel pr...</td>\n",
       "      <td>A ship with supplies for Gaza will dock at el...</td>\n",
       "    </tr>\n",
       "    <tr>\n",
       "      <th>1</th>\n",
       "      <td>691201839</td>\n",
       "      <td>Mel Gibson</td>\n",
       "      <td>Often acts and directs stories involving an i...</td>\n",
       "    </tr>\n",
       "    <tr>\n",
       "      <th>2</th>\n",
       "      <td>691201840</td>\n",
       "      <td>Talent Agency WME drops Mel Gibson</td>\n",
       "      <td>Cast member Mel Gibson (R) and Oksana Grigori...</td>\n",
       "    </tr>\n",
       "    <tr>\n",
       "      <th>3</th>\n",
       "      <td>691201841</td>\n",
       "      <td>Suicide bomber killed in Tehran-Fars</td>\n",
       "      <td>(Adds details)  TEHRAN, June 20 (Reuters) - A...</td>\n",
       "    </tr>\n",
       "    <tr>\n",
       "      <th>4</th>\n",
       "      <td>691201842</td>\n",
       "      <td>Iran's 10% ballot boxes to be recounted</td>\n",
       "      <td>Tehran - Iran's Guardian Council is ready to ...</td>\n",
       "    </tr>\n",
       "  </tbody>\n",
       "</table>\n",
       "</div>"
      ],
      "text/plain": [
       "    _unit_id                                            article  \\\n",
       "0  691201838  Gaza aid ship to dock in Egypt after Israel pr...   \n",
       "1  691201839                                         Mel Gibson   \n",
       "2  691201840                 Talent Agency WME drops Mel Gibson   \n",
       "3  691201841               Suicide bomber killed in Tehran-Fars   \n",
       "4  691201842            Iran's 10% ballot boxes to be recounted   \n",
       "\n",
       "                                            newdescp  \n",
       "0   A ship with supplies for Gaza will dock at el...  \n",
       "1   Often acts and directs stories involving an i...  \n",
       "2   Cast member Mel Gibson (R) and Oksana Grigori...  \n",
       "3   (Adds details)  TEHRAN, June 20 (Reuters) - A...  \n",
       "4   Tehran - Iran's Guardian Council is ready to ...  "
      ]
     },
     "execution_count": 14,
     "metadata": {},
     "output_type": "execute_result"
    }
   ],
   "source": [
    "df = df[['_unit_id', 'article', 'newdescp']]\n",
    "df.head()"
   ]
  },
  {
   "cell_type": "code",
   "execution_count": 15,
   "metadata": {
    "collapsed": false
   },
   "outputs": [],
   "source": [
    "out = df.to_json(orient='records', lines=True)"
   ]
  },
  {
   "cell_type": "code",
   "execution_count": 16,
   "metadata": {
    "collapsed": true
   },
   "outputs": [],
   "source": [
    "with open(output_file_name, 'w') as f:\n",
    "    f.write(out)"
   ]
  },
  {
   "cell_type": "code",
   "execution_count": null,
   "metadata": {
    "collapsed": true
   },
   "outputs": [],
   "source": []
  }
 ],
 "metadata": {
  "kernelspec": {
   "display_name": "Python 3",
   "language": "python",
   "name": "python3"
  },
  "language_info": {
   "codemirror_mode": {
    "name": "ipython",
    "version": 3
   },
   "file_extension": ".py",
   "mimetype": "text/x-python",
   "name": "python",
   "nbconvert_exporter": "python",
   "pygments_lexer": "ipython3",
   "version": "3.6.0"
  }
 },
 "nbformat": 4,
 "nbformat_minor": 2
}
