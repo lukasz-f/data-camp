{
 "cells": [
  {
   "cell_type": "code",
   "execution_count": 39,
   "metadata": {
    "collapsed": true
   },
   "outputs": [],
   "source": [
    "import pandas as pd\n",
    "from sklearn.feature_extraction.text import TfidfVectorizer\n",
    "from sklearn.decomposition import TruncatedSVD\n",
    "from sklearn.cluster import KMeans\n",
    "from sklearn.pipeline import make_pipeline"
   ]
  },
  {
   "cell_type": "markdown",
   "metadata": {},
   "source": [
    "## Wikipedia articles Dataset"
   ]
  },
  {
   "cell_type": "code",
   "execution_count": 40,
   "metadata": {
    "collapsed": false
   },
   "outputs": [
    {
     "data": {
      "text/html": [
       "<div>\n",
       "<table border=\"1\" class=\"dataframe\">\n",
       "  <thead>\n",
       "    <tr style=\"text-align: right;\">\n",
       "      <th></th>\n",
       "      <th>article</th>\n",
       "      <th>title</th>\n",
       "    </tr>\n",
       "  </thead>\n",
       "  <tbody>\n",
       "    <tr>\n",
       "      <th>0</th>\n",
       "      <td>A ship with supplies for Gaza will dock at el-...</td>\n",
       "      <td>Gaza aid ship to dock in Egypt after Israel pr...</td>\n",
       "    </tr>\n",
       "    <tr>\n",
       "      <th>1</th>\n",
       "      <td>Often acts and directs stories involving an in...</td>\n",
       "      <td>Mel Gibson</td>\n",
       "    </tr>\n",
       "    <tr>\n",
       "      <th>2</th>\n",
       "      <td>Cast member Mel Gibson (R) and Oksana Grigorie...</td>\n",
       "      <td>Talent Agency WME drops Mel Gibson</td>\n",
       "    </tr>\n",
       "    <tr>\n",
       "      <th>3</th>\n",
       "      <td>(Adds details)  TEHRAN, June 20 (Reuters) - A ...</td>\n",
       "      <td>Suicide bomber killed in Tehran-Fars</td>\n",
       "    </tr>\n",
       "    <tr>\n",
       "      <th>4</th>\n",
       "      <td>Tehran - Iran's Guardian Council is ready to r...</td>\n",
       "      <td>Iran's 10% ballot boxes to be recounted</td>\n",
       "    </tr>\n",
       "  </tbody>\n",
       "</table>\n",
       "</div>"
      ],
      "text/plain": [
       "                                             article  \\\n",
       "0  A ship with supplies for Gaza will dock at el-...   \n",
       "1  Often acts and directs stories involving an in...   \n",
       "2  Cast member Mel Gibson (R) and Oksana Grigorie...   \n",
       "3  (Adds details)  TEHRAN, June 20 (Reuters) - A ...   \n",
       "4  Tehran - Iran's Guardian Council is ready to r...   \n",
       "\n",
       "                                               title  \n",
       "0  Gaza aid ship to dock in Egypt after Israel pr...  \n",
       "1                                         Mel Gibson  \n",
       "2                 Talent Agency WME drops Mel Gibson  \n",
       "3               Suicide bomber killed in Tehran-Fars  \n",
       "4            Iran's 10% ballot boxes to be recounted  "
      ]
     },
     "execution_count": 40,
     "metadata": {},
     "output_type": "execute_result"
    }
   ],
   "source": [
    "articles = pd.read_json('../datasets/wikipedia.json')\n",
    "articles.head()"
   ]
  },
  {
   "cell_type": "code",
   "execution_count": 41,
   "metadata": {
    "collapsed": true
   },
   "outputs": [],
   "source": [
    "documents = articles['article'].values\n",
    "titles = articles['title'].values"
   ]
  },
  {
   "cell_type": "markdown",
   "metadata": {},
   "source": [
    "## tf-idf word-frequency array"
   ]
  },
  {
   "cell_type": "code",
   "execution_count": 42,
   "metadata": {
    "collapsed": true
   },
   "outputs": [],
   "source": [
    "# Create a TfidfVectorizer\n",
    "tfidf = TfidfVectorizer() "
   ]
  },
  {
   "cell_type": "code",
   "execution_count": 43,
   "metadata": {
    "collapsed": false
   },
   "outputs": [
    {
     "data": {
      "text/plain": [
       "(21, 1848)"
      ]
     },
     "execution_count": 43,
     "metadata": {},
     "output_type": "execute_result"
    }
   ],
   "source": [
    "# Apply fit_transform to document\n",
    "csr_mat = tfidf.fit_transform(documents)\n",
    "csr_mat.shape"
   ]
  },
  {
   "cell_type": "code",
   "execution_count": 44,
   "metadata": {
    "collapsed": false
   },
   "outputs": [
    {
     "name": "stdout",
     "output_type": "stream",
     "text": [
      "[[ 0.0546245   0.          0.         ...,  0.          0.          0.        ]\n",
      " [ 0.          0.          0.         ...,  0.          0.          0.        ]\n",
      " [ 0.          0.          0.         ...,  0.          0.          0.        ]\n",
      " ..., \n",
      " [ 0.          0.          0.         ...,  0.          0.          0.        ]\n",
      " [ 0.          0.          0.         ...,  0.          0.          0.        ]\n",
      " [ 0.15194684  0.0840541   0.         ...,  0.          0.          0.        ]]\n"
     ]
    }
   ],
   "source": [
    "# Print result of toarray() method\n",
    "print(csr_mat.toarray())"
   ]
  },
  {
   "cell_type": "code",
   "execution_count": 45,
   "metadata": {
    "collapsed": false
   },
   "outputs": [
    {
     "data": {
      "text/plain": [
       "1848"
      ]
     },
     "execution_count": 45,
     "metadata": {},
     "output_type": "execute_result"
    }
   ],
   "source": [
    "# Get the words\n",
    "words = tfidf.get_feature_names()\n",
    "len(words)"
   ]
  },
  {
   "cell_type": "markdown",
   "metadata": {},
   "source": [
    "## Clustering Wikipedia"
   ]
  },
  {
   "cell_type": "code",
   "execution_count": 46,
   "metadata": {
    "collapsed": true
   },
   "outputs": [],
   "source": [
    "# Create a TruncatedSVD instance\n",
    "svd = TruncatedSVD(n_components=50)"
   ]
  },
  {
   "cell_type": "code",
   "execution_count": 47,
   "metadata": {
    "collapsed": true
   },
   "outputs": [],
   "source": [
    "# Create a KMeans instance\n",
    "kmeans = KMeans(n_clusters=6)"
   ]
  },
  {
   "cell_type": "code",
   "execution_count": 48,
   "metadata": {
    "collapsed": true
   },
   "outputs": [],
   "source": [
    "# Create a pipeline\n",
    "pipeline = make_pipeline(svd, kmeans)"
   ]
  },
  {
   "cell_type": "code",
   "execution_count": 49,
   "metadata": {
    "collapsed": false
   },
   "outputs": [
    {
     "data": {
      "text/plain": [
       "Pipeline(steps=[('truncatedsvd', TruncatedSVD(algorithm='randomized', n_components=50, n_iter=5,\n",
       "       random_state=None, tol=0.0)), ('kmeans', KMeans(algorithm='auto', copy_x=True, init='k-means++', max_iter=300,\n",
       "    n_clusters=6, n_init=10, n_jobs=1, precompute_distances='auto',\n",
       "    random_state=None, tol=0.0001, verbose=0))])"
      ]
     },
     "execution_count": 49,
     "metadata": {},
     "output_type": "execute_result"
    }
   ],
   "source": [
    "# Fit the pipeline to articles\n",
    "pipeline.fit(csr_mat)"
   ]
  },
  {
   "cell_type": "code",
   "execution_count": 50,
   "metadata": {
    "collapsed": true
   },
   "outputs": [],
   "source": [
    "# Calculate the cluster labels\n",
    "labels = pipeline.predict(csr_mat)"
   ]
  },
  {
   "cell_type": "code",
   "execution_count": 51,
   "metadata": {
    "collapsed": true
   },
   "outputs": [],
   "source": [
    "# Create a DataFrame aligning labels and titles\n",
    "df = pd.DataFrame({'label': labels, 'article': titles})"
   ]
  },
  {
   "cell_type": "code",
   "execution_count": 52,
   "metadata": {
    "collapsed": false
   },
   "outputs": [
    {
     "name": "stdout",
     "output_type": "stream",
     "text": [
      "                                              article  label\n",
      "12  Jimmy Savile: Gary Glitter arrested over sex o...      0\n",
      "9   Jimmy Savile nephew 'devastated' by sex abuse ...      0\n",
      "0   Gaza aid ship to dock in Egypt after Israel pr...      1\n",
      "11  I tried repeatedly to talk the US out of invad...      1\n",
      "19                       PM Koizumi hangs on to power      1\n",
      "6   Relatives of disgraced Savile voice their anguish      1\n",
      "18  Pakistan v Sri Lanka, ICC World Twenty20 final...      1\n",
      "2                  Talent Agency WME drops Mel Gibson      1\n",
      "1                                          Mel Gibson      1\n",
      "16  Al Qaeda leader calls for kidnapping of Wester...      1\n",
      "13  Source: Jon Huntsman to drop out of presidenti...      2\n",
      "14      Republican primaries: Jon Huntsman to end bid      2\n",
      "7          Iran to recount 10 percent of ballot boxes      3\n",
      "4             Iran's 10% ballot boxes to be recounted      3\n",
      "5   Iran's Mousavi renews call for cancellation of...      3\n",
      "3                Suicide bomber killed in Tehran-Fars      4\n",
      "17                  Palestinians killed in air strike      5\n",
      "10                    Many dead' in US strike in Iraq      5\n",
      "8                   US admits Afghan airstrike errors      5\n",
      "15  NATO-Russia drill aims to prevent September 11...      5\n",
      "20                   Pentagon counts Iraqi casualties      5\n"
     ]
    }
   ],
   "source": [
    "# Display df sorted by cluster label\n",
    "print(df.sort_values('label'))"
   ]
  },
  {
   "cell_type": "code",
   "execution_count": null,
   "metadata": {
    "collapsed": true
   },
   "outputs": [],
   "source": []
  }
 ],
 "metadata": {
  "kernelspec": {
   "display_name": "Python 3",
   "language": "python",
   "name": "python3"
  },
  "language_info": {
   "codemirror_mode": {
    "name": "ipython",
    "version": 3
   },
   "file_extension": ".py",
   "mimetype": "text/x-python",
   "name": "python",
   "nbconvert_exporter": "python",
   "pygments_lexer": "ipython3",
   "version": "3.6.0"
  }
 },
 "nbformat": 4,
 "nbformat_minor": 2
}
