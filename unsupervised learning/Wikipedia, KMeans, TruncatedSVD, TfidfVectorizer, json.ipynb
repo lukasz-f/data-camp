{
 "cells": [
  {
   "cell_type": "code",
   "execution_count": 31,
   "metadata": {
    "collapsed": true
   },
   "outputs": [],
   "source": [
    "import pandas as pd\n",
    "from sklearn.feature_extraction.text import TfidfVectorizer\n",
    "from sklearn.decomposition import TruncatedSVD\n",
    "from sklearn.cluster import KMeans\n",
    "from sklearn.pipeline import make_pipeline"
   ]
  },
  {
   "cell_type": "markdown",
   "metadata": {},
   "source": [
    "## Wikipedia articles Dataset"
   ]
  },
  {
   "cell_type": "code",
   "execution_count": 33,
   "metadata": {
    "collapsed": false
   },
   "outputs": [
    {
     "data": {
      "text/html": [
       "<div>\n",
       "<table border=\"1\" class=\"dataframe\">\n",
       "  <thead>\n",
       "    <tr style=\"text-align: right;\">\n",
       "      <th></th>\n",
       "      <th>_unit_id</th>\n",
       "      <th>article</th>\n",
       "      <th>newdescp</th>\n",
       "    </tr>\n",
       "  </thead>\n",
       "  <tbody>\n",
       "    <tr>\n",
       "      <th>0</th>\n",
       "      <td>691201838</td>\n",
       "      <td>Gaza aid ship to dock in Egypt after Israel pr...</td>\n",
       "      <td>A ship with supplies for Gaza will dock at el...</td>\n",
       "    </tr>\n",
       "    <tr>\n",
       "      <th>1</th>\n",
       "      <td>691201839</td>\n",
       "      <td>Mel Gibson</td>\n",
       "      <td>Often acts and directs stories involving an i...</td>\n",
       "    </tr>\n",
       "    <tr>\n",
       "      <th>2</th>\n",
       "      <td>691201840</td>\n",
       "      <td>Talent Agency WME drops Mel Gibson</td>\n",
       "      <td>Cast member Mel Gibson (R) and Oksana Grigori...</td>\n",
       "    </tr>\n",
       "    <tr>\n",
       "      <th>3</th>\n",
       "      <td>691201841</td>\n",
       "      <td>Suicide bomber killed in Tehran-Fars</td>\n",
       "      <td>(Adds details)  TEHRAN, June 20 (Reuters) - A...</td>\n",
       "    </tr>\n",
       "    <tr>\n",
       "      <th>4</th>\n",
       "      <td>691201842</td>\n",
       "      <td>Iran's 10% ballot boxes to be recounted</td>\n",
       "      <td>Tehran - Iran's Guardian Council is ready to ...</td>\n",
       "    </tr>\n",
       "  </tbody>\n",
       "</table>\n",
       "</div>"
      ],
      "text/plain": [
       "    _unit_id                                            article  \\\n",
       "0  691201838  Gaza aid ship to dock in Egypt after Israel pr...   \n",
       "1  691201839                                         Mel Gibson   \n",
       "2  691201840                 Talent Agency WME drops Mel Gibson   \n",
       "3  691201841               Suicide bomber killed in Tehran-Fars   \n",
       "4  691201842            Iran's 10% ballot boxes to be recounted   \n",
       "\n",
       "                                            newdescp  \n",
       "0   A ship with supplies for Gaza will dock at el...  \n",
       "1   Often acts and directs stories involving an i...  \n",
       "2   Cast member Mel Gibson (R) and Oksana Grigori...  \n",
       "3   (Adds details)  TEHRAN, June 20 (Reuters) - A...  \n",
       "4   Tehran - Iran's Guardian Council is ready to ...  "
      ]
     },
     "execution_count": 33,
     "metadata": {},
     "output_type": "execute_result"
    }
   ],
   "source": [
    "articles = pd.read_json('../datasets/wikipedia/News-article-wikipedia.json', lines=True)\n",
    "articles.head()"
   ]
  },
  {
   "cell_type": "code",
   "execution_count": 47,
   "metadata": {
    "collapsed": true
   },
   "outputs": [],
   "source": [
    "titles = articles['article'].values\n",
    "documents = articles['newdescp'].values"
   ]
  },
  {
   "cell_type": "markdown",
   "metadata": {},
   "source": [
    "## tf-idf word-frequency array"
   ]
  },
  {
   "cell_type": "code",
   "execution_count": 48,
   "metadata": {
    "collapsed": true
   },
   "outputs": [],
   "source": [
    "# Create a TfidfVectorizer\n",
    "tfidf = TfidfVectorizer() "
   ]
  },
  {
   "cell_type": "code",
   "execution_count": 49,
   "metadata": {
    "collapsed": false
   },
   "outputs": [
    {
     "data": {
      "text/plain": [
       "(3000, 31726)"
      ]
     },
     "execution_count": 49,
     "metadata": {},
     "output_type": "execute_result"
    }
   ],
   "source": [
    "# Apply fit_transform to document\n",
    "# csr = Compressed Sparse Row\n",
    "csr_documents = tfidf.fit_transform(documents)\n",
    "csr_documents.shape"
   ]
  },
  {
   "cell_type": "code",
   "execution_count": 50,
   "metadata": {
    "collapsed": false
   },
   "outputs": [
    {
     "name": "stdout",
     "output_type": "stream",
     "text": [
      "[[ 0.          0.03522439  0.         ...,  0.          0.          0.        ]\n",
      " [ 0.          0.          0.         ...,  0.          0.          0.        ]\n",
      " [ 0.          0.          0.         ...,  0.          0.          0.        ]\n",
      " ..., \n",
      " [ 0.          0.          0.         ...,  0.          0.          0.        ]\n",
      " [ 0.          0.          0.         ...,  0.          0.          0.        ]\n",
      " [ 0.          0.          0.         ...,  0.          0.          0.        ]]\n"
     ]
    }
   ],
   "source": [
    "# Print result of toarray() method\n",
    "print(csr_documents.toarray())"
   ]
  },
  {
   "cell_type": "code",
   "execution_count": 51,
   "metadata": {
    "collapsed": false
   },
   "outputs": [
    {
     "data": {
      "text/plain": [
       "31726"
      ]
     },
     "execution_count": 51,
     "metadata": {},
     "output_type": "execute_result"
    }
   ],
   "source": [
    "# Get the words\n",
    "words = tfidf.get_feature_names()\n",
    "len(words)"
   ]
  },
  {
   "cell_type": "markdown",
   "metadata": {},
   "source": [
    "## Clustering Wikipedia"
   ]
  },
  {
   "cell_type": "code",
   "execution_count": 52,
   "metadata": {
    "collapsed": true
   },
   "outputs": [],
   "source": [
    "# Create a TruncatedSVD instance\n",
    "svd = TruncatedSVD(n_components=50)"
   ]
  },
  {
   "cell_type": "code",
   "execution_count": 53,
   "metadata": {
    "collapsed": true
   },
   "outputs": [],
   "source": [
    "svd_documents = svd.fit_transform(csr_documents)"
   ]
  },
  {
   "cell_type": "code",
   "execution_count": 54,
   "metadata": {
    "collapsed": false
   },
   "outputs": [
    {
     "data": {
      "text/plain": [
       "(3000, 50)"
      ]
     },
     "execution_count": 54,
     "metadata": {},
     "output_type": "execute_result"
    }
   ],
   "source": [
    "svd_documents.shape"
   ]
  },
  {
   "cell_type": "code",
   "execution_count": 55,
   "metadata": {
    "collapsed": true
   },
   "outputs": [],
   "source": [
    "# Create a KMeans instance\n",
    "kmeans = KMeans(n_clusters=6)"
   ]
  },
  {
   "cell_type": "code",
   "execution_count": 56,
   "metadata": {
    "collapsed": false
   },
   "outputs": [
    {
     "data": {
      "text/plain": [
       "KMeans(algorithm='auto', copy_x=True, init='k-means++', max_iter=300,\n",
       "    n_clusters=6, n_init=10, n_jobs=1, precompute_distances='auto',\n",
       "    random_state=None, tol=0.0001, verbose=0)"
      ]
     },
     "execution_count": 56,
     "metadata": {},
     "output_type": "execute_result"
    }
   ],
   "source": [
    "# Fit the pipeline to articles\n",
    "kmeans.fit(svd_documents)"
   ]
  },
  {
   "cell_type": "code",
   "execution_count": 57,
   "metadata": {
    "collapsed": false
   },
   "outputs": [],
   "source": [
    "# Calculate the cluster labels\n",
    "labels = kmeans.predict(svd_documents)"
   ]
  },
  {
   "cell_type": "code",
   "execution_count": 58,
   "metadata": {
    "collapsed": true
   },
   "outputs": [],
   "source": [
    "# Create a DataFrame aligning labels and titles\n",
    "df = pd.DataFrame({'label': labels, 'article': titles})"
   ]
  },
  {
   "cell_type": "code",
   "execution_count": 60,
   "metadata": {
    "collapsed": false,
    "scrolled": false
   },
   "outputs": [
    {
     "data": {
      "text/html": [
       "<div>\n",
       "<table border=\"1\" class=\"dataframe\">\n",
       "  <thead>\n",
       "    <tr style=\"text-align: right;\">\n",
       "      <th></th>\n",
       "      <th>article</th>\n",
       "      <th>label</th>\n",
       "    </tr>\n",
       "  </thead>\n",
       "  <tbody>\n",
       "    <tr>\n",
       "      <th>1499</th>\n",
       "      <td>BP boss hands over oil spill management to Ame...</td>\n",
       "      <td>0</td>\n",
       "    </tr>\n",
       "    <tr>\n",
       "      <th>1843</th>\n",
       "      <td>Opposition backers shot in Southern Sudan prot...</td>\n",
       "      <td>0</td>\n",
       "    </tr>\n",
       "    <tr>\n",
       "      <th>1849</th>\n",
       "      <td>Malaysia soldiers attack armed Filipino clan i...</td>\n",
       "      <td>0</td>\n",
       "    </tr>\n",
       "    <tr>\n",
       "      <th>1850</th>\n",
       "      <td>Galloway defends himself at US Senate</td>\n",
       "      <td>0</td>\n",
       "    </tr>\n",
       "    <tr>\n",
       "      <th>813</th>\n",
       "      <td>Nigeria postpones parliamentary election</td>\n",
       "      <td>0</td>\n",
       "    </tr>\n",
       "    <tr>\n",
       "      <th>1851</th>\n",
       "      <td>Refugees flee as second city braces in fear of...</td>\n",
       "      <td>0</td>\n",
       "    </tr>\n",
       "    <tr>\n",
       "      <th>1853</th>\n",
       "      <td>Bomb was designed to explode on cargo plane</td>\n",
       "      <td>0</td>\n",
       "    </tr>\n",
       "    <tr>\n",
       "      <th>1842</th>\n",
       "      <td>Eurosceptic 'earthquake' rocks EU elections</td>\n",
       "      <td>0</td>\n",
       "    </tr>\n",
       "    <tr>\n",
       "      <th>1855</th>\n",
       "      <td>Russia's Vladimir Putin 'to respect' Ukraine vote</td>\n",
       "      <td>0</td>\n",
       "    </tr>\n",
       "    <tr>\n",
       "      <th>1857</th>\n",
       "      <td>Ireland and the Czech Republic vote in Europea...</td>\n",
       "      <td>0</td>\n",
       "    </tr>\n",
       "    <tr>\n",
       "      <th>1858</th>\n",
       "      <td>Iran Elects Ahmadinejad President, Boosting Is...</td>\n",
       "      <td>0</td>\n",
       "    </tr>\n",
       "    <tr>\n",
       "      <th>1859</th>\n",
       "      <td>Zimbabwe's Mugabe backs Ahmadinejad on nuclear...</td>\n",
       "      <td>0</td>\n",
       "    </tr>\n",
       "    <tr>\n",
       "      <th>805</th>\n",
       "      <td>Pentagon ends ban on women in frontline combat</td>\n",
       "      <td>0</td>\n",
       "    </tr>\n",
       "    <tr>\n",
       "      <th>804</th>\n",
       "      <td>Yemen toll rises as U.S. seen pressing Saleh t...</td>\n",
       "      <td>0</td>\n",
       "    </tr>\n",
       "    <tr>\n",
       "      <th>803</th>\n",
       "      <td>Yemen unrest: Troops fire on Taiz protesters</td>\n",
       "      <td>0</td>\n",
       "    </tr>\n",
       "    <tr>\n",
       "      <th>1856</th>\n",
       "      <td>Iran hardliner sweeps to victory</td>\n",
       "      <td>0</td>\n",
       "    </tr>\n",
       "    <tr>\n",
       "      <th>819</th>\n",
       "      <td>Pakistan says will not act against India</td>\n",
       "      <td>0</td>\n",
       "    </tr>\n",
       "    <tr>\n",
       "      <th>1841</th>\n",
       "      <td>French far right in 'earthquake' win as Europe...</td>\n",
       "      <td>0</td>\n",
       "    </tr>\n",
       "    <tr>\n",
       "      <th>1840</th>\n",
       "      <td>Colombia's Santos hurt in election first round...</td>\n",
       "      <td>0</td>\n",
       "    </tr>\n",
       "    <tr>\n",
       "      <th>1825</th>\n",
       "      <td>Government candidate Santos wins Colombia elec...</td>\n",
       "      <td>0</td>\n",
       "    </tr>\n",
       "    <tr>\n",
       "      <th>835</th>\n",
       "      <td>Somalis 'at war' with Ethiopia</td>\n",
       "      <td>0</td>\n",
       "    </tr>\n",
       "    <tr>\n",
       "      <th>1827</th>\n",
       "      <td>Pakistan's Supreme Court hears NRO petitions</td>\n",
       "      <td>0</td>\n",
       "    </tr>\n",
       "    <tr>\n",
       "      <th>833</th>\n",
       "      <td>Turkmenistan's 'iron ruler' dies</td>\n",
       "      <td>0</td>\n",
       "    </tr>\n",
       "    <tr>\n",
       "      <th>1828</th>\n",
       "      <td>Turkey protests: second fatality reported as w...</td>\n",
       "      <td>0</td>\n",
       "    </tr>\n",
       "    <tr>\n",
       "      <th>831</th>\n",
       "      <td>Heavy fighting erupts in Somalia</td>\n",
       "      <td>0</td>\n",
       "    </tr>\n",
       "    <tr>\n",
       "      <th>830</th>\n",
       "      <td>Jeremy Hunt to hand over emails and texts with...</td>\n",
       "      <td>0</td>\n",
       "    </tr>\n",
       "    <tr>\n",
       "      <th>1833</th>\n",
       "      <td>Beslan siege suspect trial begins</td>\n",
       "      <td>0</td>\n",
       "    </tr>\n",
       "    <tr>\n",
       "      <th>828</th>\n",
       "      <td>Citing Prop. 22, Gov. Rejects Gay Marriage Bill</td>\n",
       "      <td>0</td>\n",
       "    </tr>\n",
       "    <tr>\n",
       "      <th>827</th>\n",
       "      <td>Kyrgyz Lawmakers Call For Dissolution Of Parli...</td>\n",
       "      <td>0</td>\n",
       "    </tr>\n",
       "    <tr>\n",
       "      <th>1837</th>\n",
       "      <td>Malawi court blocks President Banda election a...</td>\n",
       "      <td>0</td>\n",
       "    </tr>\n",
       "    <tr>\n",
       "      <th>...</th>\n",
       "      <td>...</td>\n",
       "      <td>...</td>\n",
       "    </tr>\n",
       "    <tr>\n",
       "      <th>1341</th>\n",
       "      <td>WRAPUP 3-Syria denies Assad's deputy tried to ...</td>\n",
       "      <td>5</td>\n",
       "    </tr>\n",
       "    <tr>\n",
       "      <th>1789</th>\n",
       "      <td>Arab foreign ministers offer Syrian opposition...</td>\n",
       "      <td>5</td>\n",
       "    </tr>\n",
       "    <tr>\n",
       "      <th>547</th>\n",
       "      <td>Syria: Protests in Deraa, Damascus, Hama and Homs</td>\n",
       "      <td>5</td>\n",
       "    </tr>\n",
       "    <tr>\n",
       "      <th>2214</th>\n",
       "      <td>Lebanon fires on Syrian aircraft over airspace...</td>\n",
       "      <td>5</td>\n",
       "    </tr>\n",
       "    <tr>\n",
       "      <th>120</th>\n",
       "      <td>Damascus car bomb shatters Syria truce</td>\n",
       "      <td>5</td>\n",
       "    </tr>\n",
       "    <tr>\n",
       "      <th>223</th>\n",
       "      <td>More than 1,000 dead in Syria since mid-March,...</td>\n",
       "      <td>5</td>\n",
       "    </tr>\n",
       "    <tr>\n",
       "      <th>1359</th>\n",
       "      <td>Syrian opposition accuses Assad's forces of ne...</td>\n",
       "      <td>5</td>\n",
       "    </tr>\n",
       "    <tr>\n",
       "      <th>1358</th>\n",
       "      <td>Jordan 'targets vehicles crossing from Syria'</td>\n",
       "      <td>5</td>\n",
       "    </tr>\n",
       "    <tr>\n",
       "      <th>2206</th>\n",
       "      <td>Syria: Refugees flee border camps as troops de...</td>\n",
       "      <td>5</td>\n",
       "    </tr>\n",
       "    <tr>\n",
       "      <th>2205</th>\n",
       "      <td>Syrian troops amass near Turkish border-witnesses</td>\n",
       "      <td>5</td>\n",
       "    </tr>\n",
       "    <tr>\n",
       "      <th>1170</th>\n",
       "      <td>IDF: Warning Shots Deliberately Missed Syrian ...</td>\n",
       "      <td>5</td>\n",
       "    </tr>\n",
       "    <tr>\n",
       "      <th>2656</th>\n",
       "      <td>Syria conflict: Aleppo rocket attack 'kills at...</td>\n",
       "      <td>5</td>\n",
       "    </tr>\n",
       "    <tr>\n",
       "      <th>1353</th>\n",
       "      <td>U.N. names Algerian diplomat as Syria envoy; r...</td>\n",
       "      <td>5</td>\n",
       "    </tr>\n",
       "    <tr>\n",
       "      <th>1798</th>\n",
       "      <td>Syrian rebels lose strategic town in boost for...</td>\n",
       "      <td>5</td>\n",
       "    </tr>\n",
       "    <tr>\n",
       "      <th>2200</th>\n",
       "      <td>Sniper fire kills one as clashes flare in Leba...</td>\n",
       "      <td>5</td>\n",
       "    </tr>\n",
       "    <tr>\n",
       "      <th>1799</th>\n",
       "      <td>Syrian rebels 'can fight Hezbollah in Lebanon'</td>\n",
       "      <td>5</td>\n",
       "    </tr>\n",
       "    <tr>\n",
       "      <th>1800</th>\n",
       "      <td>Syrian town of Qusair falls to Hezbollah in br...</td>\n",
       "      <td>5</td>\n",
       "    </tr>\n",
       "    <tr>\n",
       "      <th>850</th>\n",
       "      <td>Blast rocks central Damascus despite truce</td>\n",
       "      <td>5</td>\n",
       "    </tr>\n",
       "    <tr>\n",
       "      <th>570</th>\n",
       "      <td>Syria turmoil: Fresh protests erupt</td>\n",
       "      <td>5</td>\n",
       "    </tr>\n",
       "    <tr>\n",
       "      <th>1462</th>\n",
       "      <td>Air strikes kill dozens in Syria's Aleppo: mon...</td>\n",
       "      <td>5</td>\n",
       "    </tr>\n",
       "    <tr>\n",
       "      <th>1174</th>\n",
       "      <td>Syria opposition sign initial deal to form new...</td>\n",
       "      <td>5</td>\n",
       "    </tr>\n",
       "    <tr>\n",
       "      <th>842</th>\n",
       "      <td>Syria rebels bombed as opposition open to peac...</td>\n",
       "      <td>5</td>\n",
       "    </tr>\n",
       "    <tr>\n",
       "      <th>386</th>\n",
       "      <td>Syria violence: New protests after crackdown i...</td>\n",
       "      <td>5</td>\n",
       "    </tr>\n",
       "    <tr>\n",
       "      <th>2444</th>\n",
       "      <td>24 people killed during clashes in Syria, righ...</td>\n",
       "      <td>5</td>\n",
       "    </tr>\n",
       "    <tr>\n",
       "      <th>582</th>\n",
       "      <td>Syria: Restive towns 'surrounded' by tanks</td>\n",
       "      <td>5</td>\n",
       "    </tr>\n",
       "    <tr>\n",
       "      <th>584</th>\n",
       "      <td>Syria is to allow political parties, state age...</td>\n",
       "      <td>5</td>\n",
       "    </tr>\n",
       "    <tr>\n",
       "      <th>1176</th>\n",
       "      <td>Rebel attack in Idlib kills 28 Syrian army sol...</td>\n",
       "      <td>5</td>\n",
       "    </tr>\n",
       "    <tr>\n",
       "      <th>2836</th>\n",
       "      <td>Syria: EU nations summon Syrian envoys over cr...</td>\n",
       "      <td>5</td>\n",
       "    </tr>\n",
       "    <tr>\n",
       "      <th>2128</th>\n",
       "      <td>Barrel bombs 'kill 517 in Aleppo since 15 Dece...</td>\n",
       "      <td>5</td>\n",
       "    </tr>\n",
       "    <tr>\n",
       "      <th>93</th>\n",
       "      <td>Syrian tanks attack eastern city of Deir al-Zour</td>\n",
       "      <td>5</td>\n",
       "    </tr>\n",
       "  </tbody>\n",
       "</table>\n",
       "<p>3000 rows × 2 columns</p>\n",
       "</div>"
      ],
      "text/plain": [
       "                                                article  label\n",
       "1499  BP boss hands over oil spill management to Ame...      0\n",
       "1843  Opposition backers shot in Southern Sudan prot...      0\n",
       "1849  Malaysia soldiers attack armed Filipino clan i...      0\n",
       "1850              Galloway defends himself at US Senate      0\n",
       "813            Nigeria postpones parliamentary election      0\n",
       "1851  Refugees flee as second city braces in fear of...      0\n",
       "1853        Bomb was designed to explode on cargo plane      0\n",
       "1842        Eurosceptic 'earthquake' rocks EU elections      0\n",
       "1855  Russia's Vladimir Putin 'to respect' Ukraine vote      0\n",
       "1857  Ireland and the Czech Republic vote in Europea...      0\n",
       "1858  Iran Elects Ahmadinejad President, Boosting Is...      0\n",
       "1859  Zimbabwe's Mugabe backs Ahmadinejad on nuclear...      0\n",
       "805      Pentagon ends ban on women in frontline combat      0\n",
       "804   Yemen toll rises as U.S. seen pressing Saleh t...      0\n",
       "803        Yemen unrest: Troops fire on Taiz protesters      0\n",
       "1856                   Iran hardliner sweeps to victory      0\n",
       "819            Pakistan says will not act against India      0\n",
       "1841  French far right in 'earthquake' win as Europe...      0\n",
       "1840  Colombia's Santos hurt in election first round...      0\n",
       "1825  Government candidate Santos wins Colombia elec...      0\n",
       "835                      Somalis 'at war' with Ethiopia      0\n",
       "1827       Pakistan's Supreme Court hears NRO petitions      0\n",
       "833                    Turkmenistan's 'iron ruler' dies      0\n",
       "1828  Turkey protests: second fatality reported as w...      0\n",
       "831                    Heavy fighting erupts in Somalia      0\n",
       "830   Jeremy Hunt to hand over emails and texts with...      0\n",
       "1833                  Beslan siege suspect trial begins      0\n",
       "828     Citing Prop. 22, Gov. Rejects Gay Marriage Bill      0\n",
       "827   Kyrgyz Lawmakers Call For Dissolution Of Parli...      0\n",
       "1837  Malawi court blocks President Banda election a...      0\n",
       "...                                                 ...    ...\n",
       "1341  WRAPUP 3-Syria denies Assad's deputy tried to ...      5\n",
       "1789  Arab foreign ministers offer Syrian opposition...      5\n",
       "547   Syria: Protests in Deraa, Damascus, Hama and Homs      5\n",
       "2214  Lebanon fires on Syrian aircraft over airspace...      5\n",
       "120              Damascus car bomb shatters Syria truce      5\n",
       "223   More than 1,000 dead in Syria since mid-March,...      5\n",
       "1359  Syrian opposition accuses Assad's forces of ne...      5\n",
       "1358      Jordan 'targets vehicles crossing from Syria'      5\n",
       "2206  Syria: Refugees flee border camps as troops de...      5\n",
       "2205  Syrian troops amass near Turkish border-witnesses      5\n",
       "1170  IDF: Warning Shots Deliberately Missed Syrian ...      5\n",
       "2656  Syria conflict: Aleppo rocket attack 'kills at...      5\n",
       "1353  U.N. names Algerian diplomat as Syria envoy; r...      5\n",
       "1798  Syrian rebels lose strategic town in boost for...      5\n",
       "2200  Sniper fire kills one as clashes flare in Leba...      5\n",
       "1799     Syrian rebels 'can fight Hezbollah in Lebanon'      5\n",
       "1800  Syrian town of Qusair falls to Hezbollah in br...      5\n",
       "850          Blast rocks central Damascus despite truce      5\n",
       "570                 Syria turmoil: Fresh protests erupt      5\n",
       "1462  Air strikes kill dozens in Syria's Aleppo: mon...      5\n",
       "1174  Syria opposition sign initial deal to form new...      5\n",
       "842   Syria rebels bombed as opposition open to peac...      5\n",
       "386   Syria violence: New protests after crackdown i...      5\n",
       "2444  24 people killed during clashes in Syria, righ...      5\n",
       "582          Syria: Restive towns 'surrounded' by tanks      5\n",
       "584   Syria is to allow political parties, state age...      5\n",
       "1176  Rebel attack in Idlib kills 28 Syrian army sol...      5\n",
       "2836  Syria: EU nations summon Syrian envoys over cr...      5\n",
       "2128  Barrel bombs 'kill 517 in Aleppo since 15 Dece...      5\n",
       "93     Syrian tanks attack eastern city of Deir al-Zour      5\n",
       "\n",
       "[3000 rows x 2 columns]"
      ]
     },
     "execution_count": 60,
     "metadata": {},
     "output_type": "execute_result"
    }
   ],
   "source": [
    "# Display df sorted by cluster label\n",
    "df.sort_values('label')"
   ]
  },
  {
   "cell_type": "code",
   "execution_count": null,
   "metadata": {
    "collapsed": true
   },
   "outputs": [],
   "source": []
  }
 ],
 "metadata": {
  "kernelspec": {
   "display_name": "Python 3",
   "language": "python",
   "name": "python3"
  },
  "language_info": {
   "codemirror_mode": {
    "name": "ipython",
    "version": 3
   },
   "file_extension": ".py",
   "mimetype": "text/x-python",
   "name": "python",
   "nbconvert_exporter": "python",
   "pygments_lexer": "ipython3",
   "version": "3.6.0"
  }
 },
 "nbformat": 4,
 "nbformat_minor": 2
}
