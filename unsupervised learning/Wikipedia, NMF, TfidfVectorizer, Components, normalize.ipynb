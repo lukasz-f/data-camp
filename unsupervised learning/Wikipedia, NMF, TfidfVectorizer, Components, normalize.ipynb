{
 "cells": [
  {
   "cell_type": "markdown",
   "metadata": {},
   "source": [
    "## NMF - Non-negative Matrix Factorization\n",
    "\n",
    "- Dimention reduction technique\n",
    "- NMF model are interpretable (unlike PCA)\n",
    "- All sample features must be non-negative (>=0)\n",
    "- NMF expresses documents as combinations of topics (or 'themes') (NMF components are topics)\n",
    "- NMF expresses images as combinations of patterns (NMF components are parts of images)\n",
    "- NMF samples reconstruction = NMF feature values * NMF components (matrix dot product, Matrix Factorization)"
   ]
  },
  {
   "cell_type": "code",
   "execution_count": 3,
   "metadata": {
    "collapsed": true
   },
   "outputs": [],
   "source": [
    "import pandas as pd\n",
    "from sklearn.feature_extraction.text import TfidfVectorizer\n",
    "from sklearn.decomposition import NMF\n",
    "from sklearn.preprocessing import normalize"
   ]
  },
  {
   "cell_type": "markdown",
   "metadata": {},
   "source": [
    "## Wikipedia articles Dataset"
   ]
  },
  {
   "cell_type": "code",
   "execution_count": 4,
   "metadata": {
    "collapsed": false
   },
   "outputs": [
    {
     "data": {
      "text/html": [
       "<div>\n",
       "<table border=\"1\" class=\"dataframe\">\n",
       "  <thead>\n",
       "    <tr style=\"text-align: right;\">\n",
       "      <th></th>\n",
       "      <th>_unit_id</th>\n",
       "      <th>article</th>\n",
       "      <th>newdescp</th>\n",
       "    </tr>\n",
       "  </thead>\n",
       "  <tbody>\n",
       "    <tr>\n",
       "      <th>0</th>\n",
       "      <td>691201838</td>\n",
       "      <td>Gaza aid ship to dock in Egypt after Israel pr...</td>\n",
       "      <td>A ship with supplies for Gaza will dock at el...</td>\n",
       "    </tr>\n",
       "    <tr>\n",
       "      <th>1</th>\n",
       "      <td>691201839</td>\n",
       "      <td>Mel Gibson</td>\n",
       "      <td>Often acts and directs stories involving an i...</td>\n",
       "    </tr>\n",
       "    <tr>\n",
       "      <th>2</th>\n",
       "      <td>691201840</td>\n",
       "      <td>Talent Agency WME drops Mel Gibson</td>\n",
       "      <td>Cast member Mel Gibson (R) and Oksana Grigori...</td>\n",
       "    </tr>\n",
       "    <tr>\n",
       "      <th>3</th>\n",
       "      <td>691201841</td>\n",
       "      <td>Suicide bomber killed in Tehran-Fars</td>\n",
       "      <td>(Adds details)  TEHRAN, June 20 (Reuters) - A...</td>\n",
       "    </tr>\n",
       "    <tr>\n",
       "      <th>4</th>\n",
       "      <td>691201842</td>\n",
       "      <td>Iran's 10% ballot boxes to be recounted</td>\n",
       "      <td>Tehran - Iran's Guardian Council is ready to ...</td>\n",
       "    </tr>\n",
       "  </tbody>\n",
       "</table>\n",
       "</div>"
      ],
      "text/plain": [
       "    _unit_id                                            article  \\\n",
       "0  691201838  Gaza aid ship to dock in Egypt after Israel pr...   \n",
       "1  691201839                                         Mel Gibson   \n",
       "2  691201840                 Talent Agency WME drops Mel Gibson   \n",
       "3  691201841               Suicide bomber killed in Tehran-Fars   \n",
       "4  691201842            Iran's 10% ballot boxes to be recounted   \n",
       "\n",
       "                                            newdescp  \n",
       "0   A ship with supplies for Gaza will dock at el...  \n",
       "1   Often acts and directs stories involving an i...  \n",
       "2   Cast member Mel Gibson (R) and Oksana Grigori...  \n",
       "3   (Adds details)  TEHRAN, June 20 (Reuters) - A...  \n",
       "4   Tehran - Iran's Guardian Council is ready to ...  "
      ]
     },
     "execution_count": 4,
     "metadata": {},
     "output_type": "execute_result"
    }
   ],
   "source": [
    "articles = pd.read_json('../datasets/wikipedia/News-article-wikipedia.json', lines=True)\n",
    "articles.head()"
   ]
  },
  {
   "cell_type": "code",
   "execution_count": 5,
   "metadata": {
    "collapsed": false
   },
   "outputs": [],
   "source": [
    "titles = articles['article'].values\n",
    "documents = articles['newdescp'].values"
   ]
  },
  {
   "cell_type": "code",
   "execution_count": 6,
   "metadata": {
    "collapsed": false
   },
   "outputs": [
    {
     "data": {
      "text/plain": [
       "(3000, 31430)"
      ]
     },
     "execution_count": 6,
     "metadata": {},
     "output_type": "execute_result"
    }
   ],
   "source": [
    "tfidf = TfidfVectorizer(stop_words='english')\n",
    "tfidf_features = tfidf.fit_transform(documents)\n",
    "words = tfidf.get_feature_names()\n",
    "tfidf_features.shape"
   ]
  },
  {
   "cell_type": "markdown",
   "metadata": {},
   "source": [
    "## NMF applied to Wikipedia articles"
   ]
  },
  {
   "cell_type": "code",
   "execution_count": 7,
   "metadata": {
    "collapsed": true
   },
   "outputs": [],
   "source": [
    "# Create an NMF instance\n",
    "model = NMF(n_components=6)"
   ]
  },
  {
   "cell_type": "code",
   "execution_count": 8,
   "metadata": {
    "collapsed": false
   },
   "outputs": [
    {
     "data": {
      "text/plain": [
       "NMF(alpha=0.0, beta=1, eta=0.1, init=None, l1_ratio=0.0, max_iter=200,\n",
       "  n_components=6, nls_max_iter=2000, random_state=None, shuffle=False,\n",
       "  solver='cd', sparseness=None, tol=0.0001, verbose=0)"
      ]
     },
     "execution_count": 8,
     "metadata": {},
     "output_type": "execute_result"
    }
   ],
   "source": [
    "# Fit the model to articles\n",
    "model.fit(tfidf_features)"
   ]
  },
  {
   "cell_type": "code",
   "execution_count": 9,
   "metadata": {
    "collapsed": false
   },
   "outputs": [
    {
     "data": {
      "text/plain": [
       "(3000, 6)"
      ]
     },
     "execution_count": 9,
     "metadata": {},
     "output_type": "execute_result"
    }
   ],
   "source": [
    "# Transform the articles\n",
    "nmf_features = model.transform(tfidf_features)\n",
    "nmf_features.shape"
   ]
  },
  {
   "cell_type": "code",
   "execution_count": 10,
   "metadata": {
    "collapsed": false
   },
   "outputs": [
    {
     "data": {
      "text/html": [
       "<div>\n",
       "<table border=\"1\" class=\"dataframe\">\n",
       "  <thead>\n",
       "    <tr style=\"text-align: right;\">\n",
       "      <th></th>\n",
       "      <th>0</th>\n",
       "      <th>1</th>\n",
       "      <th>2</th>\n",
       "      <th>3</th>\n",
       "      <th>4</th>\n",
       "      <th>5</th>\n",
       "    </tr>\n",
       "  </thead>\n",
       "  <tbody>\n",
       "    <tr>\n",
       "      <th>Gaza aid ship to dock in Egypt after Israel pressure</th>\n",
       "      <td>0.000000</td>\n",
       "      <td>0.189971</td>\n",
       "      <td>0.000000</td>\n",
       "      <td>0.004573</td>\n",
       "      <td>0.017002</td>\n",
       "      <td>0.000000</td>\n",
       "    </tr>\n",
       "    <tr>\n",
       "      <th>Mel Gibson</th>\n",
       "      <td>0.015155</td>\n",
       "      <td>0.000000</td>\n",
       "      <td>0.003397</td>\n",
       "      <td>0.000000</td>\n",
       "      <td>0.037371</td>\n",
       "      <td>0.000000</td>\n",
       "    </tr>\n",
       "    <tr>\n",
       "      <th>Talent Agency WME drops Mel Gibson</th>\n",
       "      <td>0.016871</td>\n",
       "      <td>0.002543</td>\n",
       "      <td>0.005586</td>\n",
       "      <td>0.001217</td>\n",
       "      <td>0.018434</td>\n",
       "      <td>0.004754</td>\n",
       "    </tr>\n",
       "    <tr>\n",
       "      <th>Suicide bomber killed in Tehran-Fars</th>\n",
       "      <td>0.014304</td>\n",
       "      <td>0.000000</td>\n",
       "      <td>0.054671</td>\n",
       "      <td>0.000000</td>\n",
       "      <td>0.011165</td>\n",
       "      <td>0.028697</td>\n",
       "    </tr>\n",
       "    <tr>\n",
       "      <th>Iran's 10% ballot boxes to be recounted</th>\n",
       "      <td>0.060345</td>\n",
       "      <td>0.001549</td>\n",
       "      <td>0.000000</td>\n",
       "      <td>0.000000</td>\n",
       "      <td>0.000000</td>\n",
       "      <td>0.045902</td>\n",
       "    </tr>\n",
       "  </tbody>\n",
       "</table>\n",
       "</div>"
      ],
      "text/plain": [
       "                                                           0         1  \\\n",
       "Gaza aid ship to dock in Egypt after Israel pre...  0.000000  0.189971   \n",
       "Mel Gibson                                          0.015155  0.000000   \n",
       "Talent Agency WME drops Mel Gibson                  0.016871  0.002543   \n",
       "Suicide bomber killed in Tehran-Fars                0.014304  0.000000   \n",
       "Iran's 10% ballot boxes to be recounted             0.060345  0.001549   \n",
       "\n",
       "                                                           2         3  \\\n",
       "Gaza aid ship to dock in Egypt after Israel pre...  0.000000  0.004573   \n",
       "Mel Gibson                                          0.003397  0.000000   \n",
       "Talent Agency WME drops Mel Gibson                  0.005586  0.001217   \n",
       "Suicide bomber killed in Tehran-Fars                0.054671  0.000000   \n",
       "Iran's 10% ballot boxes to be recounted             0.000000  0.000000   \n",
       "\n",
       "                                                           4         5  \n",
       "Gaza aid ship to dock in Egypt after Israel pre...  0.017002  0.000000  \n",
       "Mel Gibson                                          0.037371  0.000000  \n",
       "Talent Agency WME drops Mel Gibson                  0.018434  0.004754  \n",
       "Suicide bomber killed in Tehran-Fars                0.011165  0.028697  \n",
       "Iran's 10% ballot boxes to be recounted             0.000000  0.045902  "
      ]
     },
     "execution_count": 10,
     "metadata": {},
     "output_type": "execute_result"
    }
   ],
   "source": [
    "# Create a pandas DataFrame\n",
    "df = pd.DataFrame(nmf_features, index=titles)\n",
    "df.head()"
   ]
  },
  {
   "cell_type": "code",
   "execution_count": 11,
   "metadata": {
    "collapsed": false
   },
   "outputs": [
    {
     "data": {
      "text/plain": [
       "0    0.003685\n",
       "1    0.000000\n",
       "2    0.000000\n",
       "3    0.273719\n",
       "4    0.000000\n",
       "5    0.000000\n",
       "Name: At least 20 dead in Syria clashes, dtype: float64"
      ]
     },
     "execution_count": 11,
     "metadata": {},
     "output_type": "execute_result"
    }
   ],
   "source": [
    "# Print the row for 'At least 20 dead in Syria clashes'\n",
    "df.loc['At least 20 dead in Syria clashes',:]"
   ]
  },
  {
   "cell_type": "code",
   "execution_count": 12,
   "metadata": {
    "collapsed": false
   },
   "outputs": [
    {
     "data": {
      "text/plain": [
       "0    0.016144\n",
       "1    0.000000\n",
       "2    0.000000\n",
       "3    0.247033\n",
       "4    0.000000\n",
       "5    0.000000\n",
       "Name: 17 reported dead in Syria clashes, dtype: float64"
      ]
     },
     "execution_count": 12,
     "metadata": {},
     "output_type": "execute_result"
    }
   ],
   "source": [
    "# Print the row for '17 reported dead in Syria clashes'\n",
    "df.loc['17 reported dead in Syria clashes',:]"
   ]
  },
  {
   "cell_type": "markdown",
   "metadata": {},
   "source": [
    "## NMF learns topics of documents"
   ]
  },
  {
   "cell_type": "code",
   "execution_count": 13,
   "metadata": {
    "collapsed": false
   },
   "outputs": [
    {
     "data": {
      "text/plain": [
       "(6, 31430)"
      ]
     },
     "execution_count": 13,
     "metadata": {},
     "output_type": "execute_result"
    }
   ],
   "source": [
    "# Create a DataFrame\n",
    "components_df = pd.DataFrame(model.components_, columns=words)\n",
    "components_df.shape"
   ]
  },
  {
   "cell_type": "code",
   "execution_count": 14,
   "metadata": {
    "collapsed": true
   },
   "outputs": [],
   "source": [
    "# Select row 3\n",
    "component = components_df.iloc[3,:]"
   ]
  },
  {
   "cell_type": "code",
   "execution_count": 15,
   "metadata": {
    "collapsed": false
   },
   "outputs": [
    {
     "data": {
      "text/plain": [
       "syrian      0.796416\n",
       "syria       0.724202\n",
       "al          0.496426\n",
       "assad       0.479043\n",
       "damascus    0.353419\n",
       "Name: 3, dtype: float64"
      ]
     },
     "execution_count": 15,
     "metadata": {},
     "output_type": "execute_result"
    }
   ],
   "source": [
    "# Print result of nlargest\n",
    "component.nlargest()"
   ]
  },
  {
   "cell_type": "markdown",
   "metadata": {
    "collapsed": true
   },
   "source": [
    "## Which articles are similar to 'Mel Gibson'?"
   ]
  },
  {
   "cell_type": "code",
   "execution_count": 20,
   "metadata": {
    "collapsed": false
   },
   "outputs": [],
   "source": [
    "# Normalize the NMF features\n",
    "norm_features = normalize(nmf_features)"
   ]
  },
  {
   "cell_type": "code",
   "execution_count": 21,
   "metadata": {
    "collapsed": true
   },
   "outputs": [],
   "source": [
    "# Create a DataFrame\n",
    "df = pd.DataFrame(norm_features, index=titles)"
   ]
  },
  {
   "cell_type": "code",
   "execution_count": 22,
   "metadata": {
    "collapsed": false
   },
   "outputs": [],
   "source": [
    "# Select the row corresponding to 'Mel Gibson'\n",
    "article = df.loc['Mel Gibson']"
   ]
  },
  {
   "cell_type": "code",
   "execution_count": 23,
   "metadata": {
    "collapsed": false
   },
   "outputs": [],
   "source": [
    "# Compute the dot products\n",
    "similarities = df.dot(article)"
   ]
  },
  {
   "cell_type": "code",
   "execution_count": 24,
   "metadata": {
    "collapsed": false
   },
   "outputs": [
    {
     "name": "stdout",
     "output_type": "stream",
     "text": [
      "Mel Gibson                                                                             1.000000\n",
      "Super Bowl lights out: Power outage halts San Francisco 49ers-Baltimore Ravens game    0.999955\n",
      "Super Bowl updates: Packers hang on for 31-25 win                                      0.999792\n",
      "Nick Clegg visits Pakistan flood relief camp in Sukkur                                 0.998188\n",
      "Search of collapsed Bangladesh building ends with 1,127 found dead                     0.998114\n",
      "dtype: float64\n"
     ]
    }
   ],
   "source": [
    "# Display those with the largest cosine similarity\n",
    "print(similarities.nlargest())"
   ]
  },
  {
   "cell_type": "code",
   "execution_count": null,
   "metadata": {
    "collapsed": true
   },
   "outputs": [],
   "source": []
  }
 ],
 "metadata": {
  "kernelspec": {
   "display_name": "Python 3",
   "language": "python",
   "name": "python3"
  },
  "language_info": {
   "codemirror_mode": {
    "name": "ipython",
    "version": 3
   },
   "file_extension": ".py",
   "mimetype": "text/x-python",
   "name": "python",
   "nbconvert_exporter": "python",
   "pygments_lexer": "ipython3",
   "version": "3.6.0"
  }
 },
 "nbformat": 4,
 "nbformat_minor": 2
}
