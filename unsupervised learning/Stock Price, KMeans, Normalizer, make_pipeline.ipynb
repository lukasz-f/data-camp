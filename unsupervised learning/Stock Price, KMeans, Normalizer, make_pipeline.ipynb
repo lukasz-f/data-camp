{
 "cells": [
  {
   "cell_type": "code",
   "execution_count": 9,
   "metadata": {
    "collapsed": true
   },
   "outputs": [],
   "source": [
    "import pandas as pd\n",
    "from sklearn.pipeline import make_pipeline\n",
    "from sklearn.preprocessing import Normalizer\n",
    "from sklearn.cluster import KMeans"
   ]
  },
  {
   "cell_type": "markdown",
   "metadata": {},
   "source": [
    "## Company Stock Price Movements Dataset"
   ]
  },
  {
   "cell_type": "code",
   "execution_count": 11,
   "metadata": {
    "collapsed": false
   },
   "outputs": [
    {
     "data": {
      "text/html": [
       "<div>\n",
       "<table border=\"1\" class=\"dataframe\">\n",
       "  <thead>\n",
       "    <tr style=\"text-align: right;\">\n",
       "      <th></th>\n",
       "      <th>2010-01-04</th>\n",
       "      <th>2010-01-05</th>\n",
       "      <th>2010-01-06</th>\n",
       "      <th>2010-01-07</th>\n",
       "      <th>2010-01-08</th>\n",
       "      <th>2010-01-11</th>\n",
       "      <th>2010-01-12</th>\n",
       "      <th>2010-01-13</th>\n",
       "      <th>2010-01-14</th>\n",
       "      <th>2010-01-15</th>\n",
       "      <th>...</th>\n",
       "      <th>2013-10-16</th>\n",
       "      <th>2013-10-17</th>\n",
       "      <th>2013-10-18</th>\n",
       "      <th>2013-10-21</th>\n",
       "      <th>2013-10-22</th>\n",
       "      <th>2013-10-23</th>\n",
       "      <th>2013-10-24</th>\n",
       "      <th>2013-10-25</th>\n",
       "      <th>2013-10-28</th>\n",
       "      <th>2013-10-29</th>\n",
       "    </tr>\n",
       "  </thead>\n",
       "  <tbody>\n",
       "    <tr>\n",
       "      <th>Apple</th>\n",
       "      <td>0.580000</td>\n",
       "      <td>-0.220005</td>\n",
       "      <td>-3.409998</td>\n",
       "      <td>-1.170000</td>\n",
       "      <td>1.680011</td>\n",
       "      <td>-2.689994</td>\n",
       "      <td>-1.469994</td>\n",
       "      <td>2.779997</td>\n",
       "      <td>-0.680003</td>\n",
       "      <td>-4.999995</td>\n",
       "      <td>...</td>\n",
       "      <td>0.320008</td>\n",
       "      <td>4.519997</td>\n",
       "      <td>2.899987</td>\n",
       "      <td>9.590019</td>\n",
       "      <td>-6.540016</td>\n",
       "      <td>5.959976</td>\n",
       "      <td>6.910011</td>\n",
       "      <td>-5.359962</td>\n",
       "      <td>0.840019</td>\n",
       "      <td>-19.589981</td>\n",
       "    </tr>\n",
       "    <tr>\n",
       "      <th>AIG</th>\n",
       "      <td>-0.640002</td>\n",
       "      <td>-0.650000</td>\n",
       "      <td>-0.210001</td>\n",
       "      <td>-0.420000</td>\n",
       "      <td>0.710001</td>\n",
       "      <td>-0.200001</td>\n",
       "      <td>-1.130001</td>\n",
       "      <td>0.069999</td>\n",
       "      <td>-0.119999</td>\n",
       "      <td>-0.500000</td>\n",
       "      <td>...</td>\n",
       "      <td>0.919998</td>\n",
       "      <td>0.709999</td>\n",
       "      <td>0.119999</td>\n",
       "      <td>-0.480000</td>\n",
       "      <td>0.010002</td>\n",
       "      <td>-0.279998</td>\n",
       "      <td>-0.190003</td>\n",
       "      <td>-0.040001</td>\n",
       "      <td>-0.400002</td>\n",
       "      <td>0.660000</td>\n",
       "    </tr>\n",
       "    <tr>\n",
       "      <th>Amazon</th>\n",
       "      <td>-2.350006</td>\n",
       "      <td>1.260009</td>\n",
       "      <td>-2.350006</td>\n",
       "      <td>-2.009995</td>\n",
       "      <td>2.960006</td>\n",
       "      <td>-2.309997</td>\n",
       "      <td>-1.640007</td>\n",
       "      <td>1.209999</td>\n",
       "      <td>-1.790001</td>\n",
       "      <td>-2.039994</td>\n",
       "      <td>...</td>\n",
       "      <td>2.109985</td>\n",
       "      <td>3.699982</td>\n",
       "      <td>9.570008</td>\n",
       "      <td>-3.450013</td>\n",
       "      <td>4.820008</td>\n",
       "      <td>-4.079986</td>\n",
       "      <td>2.579986</td>\n",
       "      <td>4.790009</td>\n",
       "      <td>-1.760009</td>\n",
       "      <td>3.740021</td>\n",
       "    </tr>\n",
       "    <tr>\n",
       "      <th>American express</th>\n",
       "      <td>0.109997</td>\n",
       "      <td>0.000000</td>\n",
       "      <td>0.260002</td>\n",
       "      <td>0.720002</td>\n",
       "      <td>0.190003</td>\n",
       "      <td>-0.270001</td>\n",
       "      <td>0.750000</td>\n",
       "      <td>0.300004</td>\n",
       "      <td>0.639999</td>\n",
       "      <td>-0.130001</td>\n",
       "      <td>...</td>\n",
       "      <td>0.680001</td>\n",
       "      <td>2.290001</td>\n",
       "      <td>0.409996</td>\n",
       "      <td>-0.069999</td>\n",
       "      <td>0.100006</td>\n",
       "      <td>0.069999</td>\n",
       "      <td>0.130005</td>\n",
       "      <td>1.849999</td>\n",
       "      <td>0.040001</td>\n",
       "      <td>0.540001</td>\n",
       "    </tr>\n",
       "    <tr>\n",
       "      <th>Boeing</th>\n",
       "      <td>0.459999</td>\n",
       "      <td>1.770000</td>\n",
       "      <td>1.549999</td>\n",
       "      <td>2.690003</td>\n",
       "      <td>0.059997</td>\n",
       "      <td>-1.080002</td>\n",
       "      <td>0.360000</td>\n",
       "      <td>0.549999</td>\n",
       "      <td>0.530002</td>\n",
       "      <td>-0.709999</td>\n",
       "      <td>...</td>\n",
       "      <td>1.559997</td>\n",
       "      <td>2.480003</td>\n",
       "      <td>0.019997</td>\n",
       "      <td>-1.220001</td>\n",
       "      <td>0.480003</td>\n",
       "      <td>3.020004</td>\n",
       "      <td>-0.029999</td>\n",
       "      <td>1.940002</td>\n",
       "      <td>1.130005</td>\n",
       "      <td>0.309998</td>\n",
       "    </tr>\n",
       "  </tbody>\n",
       "</table>\n",
       "<p>5 rows × 963 columns</p>\n",
       "</div>"
      ],
      "text/plain": [
       "                  2010-01-04  2010-01-05  2010-01-06  2010-01-07  2010-01-08  \\\n",
       "Apple               0.580000   -0.220005   -3.409998   -1.170000    1.680011   \n",
       "AIG                -0.640002   -0.650000   -0.210001   -0.420000    0.710001   \n",
       "Amazon             -2.350006    1.260009   -2.350006   -2.009995    2.960006   \n",
       "American express    0.109997    0.000000    0.260002    0.720002    0.190003   \n",
       "Boeing              0.459999    1.770000    1.549999    2.690003    0.059997   \n",
       "\n",
       "                  2010-01-11  2010-01-12  2010-01-13  2010-01-14  2010-01-15  \\\n",
       "Apple              -2.689994   -1.469994    2.779997   -0.680003   -4.999995   \n",
       "AIG                -0.200001   -1.130001    0.069999   -0.119999   -0.500000   \n",
       "Amazon             -2.309997   -1.640007    1.209999   -1.790001   -2.039994   \n",
       "American express   -0.270001    0.750000    0.300004    0.639999   -0.130001   \n",
       "Boeing             -1.080002    0.360000    0.549999    0.530002   -0.709999   \n",
       "\n",
       "                     ...      2013-10-16  2013-10-17  2013-10-18  2013-10-21  \\\n",
       "Apple                ...        0.320008    4.519997    2.899987    9.590019   \n",
       "AIG                  ...        0.919998    0.709999    0.119999   -0.480000   \n",
       "Amazon               ...        2.109985    3.699982    9.570008   -3.450013   \n",
       "American express     ...        0.680001    2.290001    0.409996   -0.069999   \n",
       "Boeing               ...        1.559997    2.480003    0.019997   -1.220001   \n",
       "\n",
       "                  2013-10-22  2013-10-23  2013-10-24  2013-10-25  2013-10-28  \\\n",
       "Apple              -6.540016    5.959976    6.910011   -5.359962    0.840019   \n",
       "AIG                 0.010002   -0.279998   -0.190003   -0.040001   -0.400002   \n",
       "Amazon              4.820008   -4.079986    2.579986    4.790009   -1.760009   \n",
       "American express    0.100006    0.069999    0.130005    1.849999    0.040001   \n",
       "Boeing              0.480003    3.020004   -0.029999    1.940002    1.130005   \n",
       "\n",
       "                  2013-10-29  \n",
       "Apple             -19.589981  \n",
       "AIG                 0.660000  \n",
       "Amazon              3.740021  \n",
       "American express    0.540001  \n",
       "Boeing              0.309998  \n",
       "\n",
       "[5 rows x 963 columns]"
      ]
     },
     "execution_count": 11,
     "metadata": {},
     "output_type": "execute_result"
    }
   ],
   "source": [
    "df = pd.read_csv('https://assets.datacamp.com/production/course_2072/datasets/company-stock-movements-2010-2015-incl.csv', \n",
    "                 index_col=0)\n",
    "df.head()"
   ]
  },
  {
   "cell_type": "code",
   "execution_count": 19,
   "metadata": {
    "collapsed": false
   },
   "outputs": [
    {
     "data": {
      "text/plain": [
       "((60, 963), (60,))"
      ]
     },
     "execution_count": 19,
     "metadata": {},
     "output_type": "execute_result"
    }
   ],
   "source": [
    "movements = df.values\n",
    "companies = df.index.values\n",
    "movements.shape, companies.shape"
   ]
  },
  {
   "cell_type": "markdown",
   "metadata": {},
   "source": [
    "## Clustering stocks using KMeans"
   ]
  },
  {
   "cell_type": "code",
   "execution_count": 7,
   "metadata": {
    "collapsed": true
   },
   "outputs": [],
   "source": [
    "# Create a normalizer\n",
    "normalizer = Normalizer()"
   ]
  },
  {
   "cell_type": "code",
   "execution_count": 8,
   "metadata": {
    "collapsed": true
   },
   "outputs": [],
   "source": [
    "# Create a KMeans model with 10 clusters\n",
    "kmeans = KMeans(n_clusters=10)"
   ]
  },
  {
   "cell_type": "code",
   "execution_count": 10,
   "metadata": {
    "collapsed": true
   },
   "outputs": [],
   "source": [
    "# Make a pipeline chaining normalizer and kmeans\n",
    "pipeline = make_pipeline(normalizer, kmeans)"
   ]
  },
  {
   "cell_type": "code",
   "execution_count": 13,
   "metadata": {
    "collapsed": false
   },
   "outputs": [
    {
     "data": {
      "text/plain": [
       "Pipeline(steps=[('normalizer', Normalizer(copy=True, norm='l2')), ('kmeans', KMeans(algorithm='auto', copy_x=True, init='k-means++', max_iter=300,\n",
       "    n_clusters=10, n_init=10, n_jobs=1, precompute_distances='auto',\n",
       "    random_state=None, tol=0.0001, verbose=0))])"
      ]
     },
     "execution_count": 13,
     "metadata": {},
     "output_type": "execute_result"
    }
   ],
   "source": [
    "# Fit pipeline to the daily price movements\n",
    "pipeline.fit(movements)"
   ]
  },
  {
   "cell_type": "markdown",
   "metadata": {},
   "source": [
    "## Which stocks move together?"
   ]
  },
  {
   "cell_type": "code",
   "execution_count": 24,
   "metadata": {
    "collapsed": false
   },
   "outputs": [],
   "source": [
    "# Predict the cluster labels\n",
    "labels = pipeline.predict(movements)"
   ]
  },
  {
   "cell_type": "code",
   "execution_count": 21,
   "metadata": {
    "collapsed": true
   },
   "outputs": [],
   "source": [
    "# Create a DataFrame aligning labels and companies\n",
    "df = pd.DataFrame({'labels': labels, 'companies': companies})"
   ]
  },
  {
   "cell_type": "code",
   "execution_count": 22,
   "metadata": {
    "collapsed": false
   },
   "outputs": [
    {
     "name": "stdout",
     "output_type": "stream",
     "text": [
      "                             companies  labels\n",
      "48                              Toyota       0\n",
      "45                                Sony       0\n",
      "34                          Mitsubishi       0\n",
      "7                                Canon       0\n",
      "21                               Honda       0\n",
      "44                        Schlumberger       1\n",
      "35                            Navistar       1\n",
      "32                                  3M       1\n",
      "51                   Texas instruments       1\n",
      "53                       Valero Energy       1\n",
      "13                   DuPont de Nemours       1\n",
      "12                             Chevron       1\n",
      "0                                Apple       1\n",
      "10                      ConocoPhillips       1\n",
      "57                               Exxon       1\n",
      "8                          Caterpillar       1\n",
      "54                            Walgreen       2\n",
      "40                      Procter Gamble       2\n",
      "9                    Colgate-Palmolive       2\n",
      "39                              Pfizer       2\n",
      "38                               Pepsi       2\n",
      "56                            Wal-Mart       2\n",
      "27                      Kimberly-Clark       2\n",
      "25                   Johnson & Johnson       2\n",
      "3                     American express       3\n",
      "50  Taiwan Semiconductor Manufacturing       3\n",
      "30                          MasterCard       3\n",
      "20                          Home Depot       3\n",
      "6             British American Tobacco       4\n",
      "43                                 SAP       4\n",
      "42                   Royal Dutch Shell       4\n",
      "19                     GlaxoSmithKline       4\n",
      "49                               Total       4\n",
      "37                            Novartis       4\n",
      "31                           McDonalds       4\n",
      "46                      Sanofi-Aventis       4\n",
      "52                            Unilever       4\n",
      "22                                  HP       5\n",
      "5                      Bank of America       5\n",
      "26                      JPMorgan Chase       5\n",
      "55                         Wells Fargo       5\n",
      "18                       Goldman Sachs       5\n",
      "16                   General Electrics       5\n",
      "58                               Xerox       5\n",
      "15                                Ford       5\n",
      "1                                  AIG       5\n",
      "41                       Philip Morris       6\n",
      "28                           Coca Cola       6\n",
      "29                     Lookheed Martin       7\n",
      "36                    Northrop Grumman       7\n",
      "4                               Boeing       7\n",
      "2                               Amazon       8\n",
      "59                               Yahoo       8\n",
      "33                           Microsoft       9\n",
      "24                               Intel       9\n",
      "23                                 IBM       9\n",
      "17                     Google/Alphabet       9\n",
      "14                                Dell       9\n",
      "11                               Cisco       9\n",
      "47                            Symantec       9\n"
     ]
    }
   ],
   "source": [
    "# Display df sorted by cluster label\n",
    "print(df.sort_values('labels'))"
   ]
  },
  {
   "cell_type": "code",
   "execution_count": null,
   "metadata": {
    "collapsed": true
   },
   "outputs": [],
   "source": []
  }
 ],
 "metadata": {
  "kernelspec": {
   "display_name": "Python 3",
   "language": "python",
   "name": "python3"
  },
  "language_info": {
   "codemirror_mode": {
    "name": "ipython",
    "version": 3
   },
   "file_extension": ".py",
   "mimetype": "text/x-python",
   "name": "python",
   "nbconvert_exporter": "python",
   "pygments_lexer": "ipython3",
   "version": "3.6.0"
  }
 },
 "nbformat": 4,
 "nbformat_minor": 2
}
