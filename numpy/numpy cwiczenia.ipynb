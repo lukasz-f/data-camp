{
 "cells": [
  {
   "cell_type": "code",
   "execution_count": 2,
   "metadata": {
    "collapsed": true
   },
   "outputs": [],
   "source": [
    "import numpy as np\n",
    "import matplotlib.pyplot as plt"
   ]
  },
  {
   "cell_type": "code",
   "execution_count": 64,
   "metadata": {
    "collapsed": true
   },
   "outputs": [],
   "source": [
    "# zad 1)"
   ]
  },
  {
   "cell_type": "code",
   "execution_count": 3,
   "metadata": {
    "collapsed": true
   },
   "outputs": [],
   "source": [
    "x = [1,2,3]"
   ]
  },
  {
   "cell_type": "code",
   "execution_count": 8,
   "metadata": {
    "collapsed": true
   },
   "outputs": [],
   "source": [
    "y = [4,5,6]"
   ]
  },
  {
   "cell_type": "code",
   "execution_count": 65,
   "metadata": {},
   "outputs": [
    {
     "data": {
      "text/plain": [
       "[(0, 4), (1, 5), (2, 6)]"
      ]
     },
     "execution_count": 65,
     "metadata": {},
     "output_type": "execute_result"
    }
   ],
   "source": [
    "list(zip(x,y))"
   ]
  },
  {
   "cell_type": "code",
   "execution_count": 5,
   "metadata": {
    "collapsed": true
   },
   "outputs": [],
   "source": [
    "# zad 2)"
   ]
  },
  {
   "cell_type": "code",
   "execution_count": 6,
   "metadata": {
    "collapsed": true
   },
   "outputs": [],
   "source": [
    "x = [0,1,2]"
   ]
  },
  {
   "cell_type": "code",
   "execution_count": 62,
   "metadata": {},
   "outputs": [
    {
     "data": {
      "text/plain": [
       "array([[0, 1, 2, 0, 1, 2],\n",
       "       [0, 1, 2, 0, 1, 2]])"
      ]
     },
     "execution_count": 62,
     "metadata": {},
     "output_type": "execute_result"
    }
   ],
   "source": [
    "xx = np.array([x + x, x + x])\n",
    "xx"
   ]
  },
  {
   "cell_type": "code",
   "execution_count": 63,
   "metadata": {},
   "outputs": [
    {
     "data": {
      "text/plain": [
       "array([[0, 1, 2, 0, 1, 2],\n",
       "       [0, 1, 2, 0, 1, 2]])"
      ]
     },
     "execution_count": 63,
     "metadata": {},
     "output_type": "execute_result"
    }
   ],
   "source": [
    "np.tile(x, (2,2))"
   ]
  },
  {
   "cell_type": "code",
   "execution_count": 17,
   "metadata": {
    "collapsed": true
   },
   "outputs": [],
   "source": [
    "# zad 3)"
   ]
  },
  {
   "cell_type": "code",
   "execution_count": 18,
   "metadata": {},
   "outputs": [
    {
     "data": {
      "text/plain": [
       "array([0, 1, 2, 0, 1, 2, 0, 1, 2, 0, 1, 2])"
      ]
     },
     "execution_count": 18,
     "metadata": {},
     "output_type": "execute_result"
    }
   ],
   "source": [
    "xx.ravel()"
   ]
  },
  {
   "cell_type": "code",
   "execution_count": 19,
   "metadata": {
    "collapsed": true
   },
   "outputs": [],
   "source": [
    "# zad 4)"
   ]
  },
  {
   "cell_type": "code",
   "execution_count": 20,
   "metadata": {},
   "outputs": [
    {
     "data": {
      "text/plain": [
       "array([[0, 0],\n",
       "       [1, 1],\n",
       "       [2, 2],\n",
       "       [0, 0],\n",
       "       [1, 1],\n",
       "       [2, 2]])"
      ]
     },
     "execution_count": 20,
     "metadata": {},
     "output_type": "execute_result"
    }
   ],
   "source": [
    "xx.transpose()"
   ]
  },
  {
   "cell_type": "code",
   "execution_count": 21,
   "metadata": {
    "collapsed": true
   },
   "outputs": [],
   "source": [
    "# zad 5"
   ]
  },
  {
   "cell_type": "code",
   "execution_count": 36,
   "metadata": {
    "scrolled": true
   },
   "outputs": [
    {
     "data": {
      "text/plain": [
       "array([[ 0.8622005 ,  0.15194849,  0.27305912, ...,  0.66956684,\n",
       "         0.20103432,  0.24809921],\n",
       "       [ 0.8880663 ,  0.26727253,  0.23880918, ...,  0.88040556,\n",
       "         0.9595759 ,  0.75078389],\n",
       "       [ 0.7813251 ,  0.18032009,  0.49851969, ...,  0.26554026,\n",
       "         0.00600432,  0.52137464],\n",
       "       ..., \n",
       "       [ 0.34900943,  0.09116906,  0.75638528, ...,  0.3901254 ,\n",
       "         0.46766075,  0.25128811],\n",
       "       [ 0.78158643,  0.01422188,  0.40603699, ...,  0.06009272,\n",
       "         0.03305643,  0.75585284],\n",
       "       [ 0.07926658,  0.48047812,  0.67275839, ...,  0.20735629,\n",
       "         0.44951561,  0.67613561]])"
      ]
     },
     "execution_count": 36,
     "metadata": {},
     "output_type": "execute_result"
    }
   ],
   "source": [
    "z = np.random.random((100,100))\n",
    "z"
   ]
  },
  {
   "cell_type": "code",
   "execution_count": 55,
   "metadata": {
    "scrolled": false
   },
   "outputs": [
    {
     "data": {
      "text/plain": [
       "array([ 0.52327958,  0.52380361,  0.51711031,  0.45738375,  0.50377501,\n",
       "        0.46828557,  0.47770268,  0.52801744,  0.51663537,  0.49745921,\n",
       "        0.47623776,  0.47500166,  0.50498858,  0.50736064,  0.48417918,\n",
       "        0.51276738,  0.47932667,  0.51238658,  0.52116263,  0.50896636,\n",
       "        0.52584751,  0.52897717,  0.50469868,  0.48394239,  0.47318837,\n",
       "        0.46998598,  0.52316006,  0.47670979,  0.50939289,  0.49067624,\n",
       "        0.45558718,  0.46512704,  0.54724519,  0.54946505,  0.48477266,\n",
       "        0.50001563,  0.52314518,  0.50993921,  0.4775065 ,  0.50592928,\n",
       "        0.47631829,  0.46373488,  0.47919651,  0.55957946,  0.51095813,\n",
       "        0.49202934,  0.49033073,  0.55650507,  0.46601992,  0.52681491,\n",
       "        0.51577662,  0.55485583,  0.5004457 ,  0.48554073,  0.4693507 ,\n",
       "        0.4858993 ,  0.49928373,  0.50765975,  0.43537452,  0.52747913,\n",
       "        0.4797748 ,  0.54145053,  0.45257519,  0.45720384,  0.56385809,\n",
       "        0.47725195,  0.49091225,  0.4851265 ,  0.51121848,  0.51483423,\n",
       "        0.49173117,  0.50101194,  0.5280301 ,  0.52627387,  0.53749174,\n",
       "        0.50561697,  0.52303034,  0.55563744,  0.49269782,  0.49049838,\n",
       "        0.49565996,  0.52161264,  0.52810366,  0.53346691,  0.50667037,\n",
       "        0.52300174,  0.51738254,  0.47936912,  0.49907496,  0.53880367,\n",
       "        0.49009514,  0.5351303 ,  0.44085377,  0.52183574,  0.55113622,\n",
       "        0.48351528,  0.4530604 ,  0.48367581,  0.49741024,  0.48612642])"
      ]
     },
     "execution_count": 55,
     "metadata": {},
     "output_type": "execute_result"
    }
   ],
   "source": [
    "zm = z.mean(axis=0)\n",
    "zm"
   ]
  },
  {
   "cell_type": "code",
   "execution_count": 42,
   "metadata": {
    "collapsed": true
   },
   "outputs": [],
   "source": [
    "zs = z.std(axis=0)"
   ]
  },
  {
   "cell_type": "code",
   "execution_count": 43,
   "metadata": {},
   "outputs": [
    {
     "data": {
      "text/plain": [
       "0.50553565585652516"
      ]
     },
     "execution_count": 43,
     "metadata": {},
     "output_type": "execute_result"
    }
   ],
   "source": [
    "zm.mean()"
   ]
  },
  {
   "cell_type": "code",
   "execution_count": 44,
   "metadata": {},
   "outputs": [
    {
     "data": {
      "text/plain": [
       "0.28620753783294844"
      ]
     },
     "execution_count": 44,
     "metadata": {},
     "output_type": "execute_result"
    }
   ],
   "source": [
    "zs.mean()"
   ]
  },
  {
   "cell_type": "code",
   "execution_count": 70,
   "metadata": {
    "collapsed": true
   },
   "outputs": [],
   "source": [
    "# zad 6"
   ]
  },
  {
   "cell_type": "code",
   "execution_count": 71,
   "metadata": {},
   "outputs": [
    {
     "data": {
      "text/plain": [
       "array([[ 0.30772655,  0.607408  ,  0.52431001, ...,  0.38001077,\n",
       "         0.06194534,  0.73996898],\n",
       "       [ 0.45825284,  0.37455437,  0.46219591, ...,  0.49882937,\n",
       "         0.12798274,  0.09216424],\n",
       "       [ 0.6557428 ,  0.70920296,  0.79651344, ...,  0.90769264,\n",
       "         0.36836503,  0.95329473],\n",
       "       ..., \n",
       "       [ 0.64162636,  0.72211936,  0.74709084, ...,  0.02447934,\n",
       "         0.93635327,  0.42718333],\n",
       "       [ 0.40491787,  0.71005807,  0.87660674, ...,  0.02988952,\n",
       "         0.2894509 ,  0.16041815],\n",
       "       [ 0.82555005,  0.84812721,  0.96055116, ...,  0.66078299,\n",
       "         0.31739091,  0.5796242 ]])"
      ]
     },
     "execution_count": 71,
     "metadata": {},
     "output_type": "execute_result"
    }
   ],
   "source": [
    "z"
   ]
  },
  {
   "cell_type": "code",
   "execution_count": 45,
   "metadata": {},
   "outputs": [
    {
     "data": {
      "text/plain": [
       "(array([1020, 1004,  982,  996, 1003, 1013,  994,  995,  961, 1032]),\n",
       " array([  2.89797354e-04,   1.00256614e-01,   2.00223431e-01,\n",
       "          3.00190248e-01,   4.00157065e-01,   5.00123882e-01,\n",
       "          6.00090699e-01,   7.00057515e-01,   8.00024332e-01,\n",
       "          8.99991149e-01,   9.99957966e-01]))"
      ]
     },
     "execution_count": 45,
     "metadata": {},
     "output_type": "execute_result"
    }
   ],
   "source": [
    "np.histogram(z, bins=10)"
   ]
  },
  {
   "cell_type": "code",
   "execution_count": 46,
   "metadata": {},
   "outputs": [
    {
     "data": {
      "image/png": "[encoded data removed]",
      "text/plain": [
       "<matplotlib.figure.Figure at 0x10703bef0>"
      ]
     },
     "metadata": {},
     "output_type": "display_data"
    }
   ],
   "source": [
    "plt.hist(z.ravel(), bins=10)\n",
    "plt.show()"
   ]
  },
  {
   "cell_type": "code",
   "execution_count": 48,
   "metadata": {
    "scrolled": true
   },
   "outputs": [
    {
     "data": {
      "text/plain": [
       "(array([487, 533, 488, 516, 522, 460, 519, 477, 505, 498, 508, 505, 501,\n",
       "        493, 485, 510, 488, 473, 523, 509]),\n",
       " array([  2.89797354e-04,   5.02732058e-02,   1.00256614e-01,\n",
       "          1.50240023e-01,   2.00223431e-01,   2.50206840e-01,\n",
       "          3.00190248e-01,   3.50173656e-01,   4.00157065e-01,\n",
       "          4.50140473e-01,   5.00123882e-01,   5.50107290e-01,\n",
       "          6.00090699e-01,   6.50074107e-01,   7.00057515e-01,\n",
       "          7.50040924e-01,   8.00024332e-01,   8.50007741e-01,\n",
       "          8.99991149e-01,   9.49974558e-01,   9.99957966e-01]))"
      ]
     },
     "execution_count": 48,
     "metadata": {},
     "output_type": "execute_result"
    }
   ],
   "source": [
    "np.histogram(z, bins=20)"
   ]
  },
  {
   "cell_type": "code",
   "execution_count": 47,
   "metadata": {},
   "outputs": [
    {
     "data": {
      "image/png": "[encoded data removed]",
      "text/plain": [
       "<matplotlib.figure.Figure at 0x10731c2b0>"
      ]
     },
     "metadata": {},
     "output_type": "display_data"
    }
   ],
   "source": [
    "plt.hist(z.ravel(), bins=20)\n",
    "plt.show()"
   ]
  },
  {
   "cell_type": "code",
   "execution_count": 24,
   "metadata": {
    "collapsed": true
   },
   "outputs": [],
   "source": [
    "# zad 7"
   ]
  },
  {
   "cell_type": "code",
   "execution_count": 18,
   "metadata": {
    "collapsed": true
   },
   "outputs": [],
   "source": [
    "a = np.random.normal(size=(1000,2))\n",
    "b = np.random.normal(size=(1000,2))"
   ]
  },
  {
   "cell_type": "code",
   "execution_count": 19,
   "metadata": {
    "collapsed": true
   },
   "outputs": [],
   "source": [
    "a -= 2"
   ]
  },
  {
   "cell_type": "code",
   "execution_count": 20,
   "metadata": {
    "collapsed": true
   },
   "outputs": [],
   "source": [
    "b += 2"
   ]
  },
  {
   "cell_type": "code",
   "execution_count": 26,
   "metadata": {},
   "outputs": [
    {
     "data": {
      "text/plain": [
       "array([[  1.10952842e-01,  -7.59493443e-02],\n",
       "       [  1.47734124e-03,   2.95531022e-02],\n",
       "       [  2.72336950e+00,   1.39810923e+00],\n",
       "       ..., \n",
       "       [  1.01809798e-01,   1.52111117e-01],\n",
       "       [  1.32058742e+00,  -8.69748746e-01],\n",
       "       [ -2.48728509e-02,  -2.77095967e-02]])"
      ]
     },
     "execution_count": 26,
     "metadata": {},
     "output_type": "execute_result"
    }
   ],
   "source": [
    "c = a + b\n",
    "c"
   ]
  },
  {
   "cell_type": "code",
   "execution_count": 49,
   "metadata": {
    "scrolled": true
   },
   "outputs": [
    {
     "data": {
      "text/plain": [
       "(array([  2,   1,   7,  16,  30,  64, 115, 150, 232, 248, 288, 252, 208,\n",
       "        157, 104,  54,  37,  23,   8,   4]),\n",
       " array([-4.99764886, -4.51808809, -4.03852732, -3.55896655, -3.07940579,\n",
       "        -2.59984502, -2.12028425, -1.64072348, -1.16116272, -0.68160195,\n",
       "        -0.20204118,  0.27751959,  0.75708035,  1.23664112,  1.71620189,\n",
       "         2.19576266,  2.67532342,  3.15488419,  3.63444496,  4.11400573,\n",
       "         4.59356649]))"
      ]
     },
     "execution_count": 49,
     "metadata": {},
     "output_type": "execute_result"
    }
   ],
   "source": [
    "(n, bins) = np.histogram(c, bins=20)\n",
    "n, bins"
   ]
  },
  {
   "cell_type": "code",
   "execution_count": 50,
   "metadata": {},
   "outputs": [
    {
     "data": {
      "image/png": "[encoded data removed]",
      "text/plain": [
       "<matplotlib.figure.Figure at 0x10738df28>"
      ]
     },
     "metadata": {},
     "output_type": "display_data"
    }
   ],
   "source": [
    "plt.bar(0.5*(bins[1:]+bins[:-1]), n, width=0.5)\n",
    "plt.show()"
   ]
  },
  {
   "cell_type": "code",
   "execution_count": 51,
   "metadata": {},
   "outputs": [
    {
     "data": {
      "image/png": "[encoded data removed]",
      "text/plain": [
       "<matplotlib.figure.Figure at 0x1072f50b8>"
      ]
     },
     "metadata": {},
     "output_type": "display_data"
    }
   ],
   "source": [
    "# plt.hist passes it's arguments to np.histogram\n",
    "plt.hist(c.ravel(), bins=20)\n",
    "plt.show()"
   ]
  },
  {
   "cell_type": "code",
   "execution_count": null,
   "metadata": {
    "collapsed": true
   },
   "outputs": [],
   "source": []
  }
 ],
 "metadata": {
  "kernelspec": {
   "display_name": "Python 3",
   "language": "python",
   "name": "python3"
  },
  "language_info": {
   "codemirror_mode": {
    "name": "ipython",
    "version": 3
   },
   "file_extension": ".py",
   "mimetype": "text/x-python",
   "name": "python",
   "nbconvert_exporter": "python",
   "pygments_lexer": "ipython3",
   "version": "3.6.0"
  }
 },
 "nbformat": 4,
 "nbformat_minor": 2
}
