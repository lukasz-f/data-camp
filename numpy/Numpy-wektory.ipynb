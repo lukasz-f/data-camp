{
 "cells": [
  {
   "cell_type": "code",
   "execution_count": 7,
   "metadata": {
    "collapsed": false
   },
   "outputs": [],
   "source": [
    "import numpy as np\n",
    "import seaborn as sns\n",
    "import pandas as pd"
   ]
  },
  {
   "cell_type": "code",
   "execution_count": 26,
   "metadata": {
    "collapsed": false
   },
   "outputs": [
    {
     "data": {
      "text/plain": [
       "array(['nieparzysta', 'parzysta', 'nieparzysta', 'parzysta', 'parzysta',\n",
       "       'nieparzysta', 'parzysta', 'parzysta', 'nieparzysta'], \n",
       "      dtype='<U11')"
      ]
     },
     "execution_count": 26,
     "metadata": {},
     "output_type": "execute_result"
    }
   ],
   "source": [
    "indeksy=np.array([0,1,0,1,1,0,1,1,0])\n",
    "np.core.defchararray.add(np.array([\"nie\", \"\"])[indeksy] , np.array([\"parzysta\"]))"
   ]
  },
  {
   "cell_type": "code",
   "execution_count": 4,
   "metadata": {
    "collapsed": false
   },
   "outputs": [
    {
     "data": {
      "text/plain": [
       "array([ 1.57175348, -1.71088532, -2.18518837,  0.41051815,  1.75575176,\n",
       "       -0.61514832,  3.84611359,  1.47863791, -0.15254479, -0.86305985,\n",
       "       -1.25457587,  1.83239766, -0.49142204, -3.52257683, -0.81564596,\n",
       "        1.90396325, -2.54006616, -2.59638595,  0.25241099,  0.2546207 ])"
      ]
     },
     "execution_count": 4,
     "metadata": {},
     "output_type": "execute_result"
    }
   ],
   "source": [
    "#zadanie 1\n",
    "np.random.seed(123)\n",
    "x = np.random.uniform(-4, 4, 20)\n",
    "x"
   ]
  },
  {
   "cell_type": "code",
   "execution_count": 21,
   "metadata": {
    "collapsed": false
   },
   "outputs": [
    {
     "data": {
      "text/plain": [
       "array([ 1.57175348, -1.71088532,  1.75575176,  1.47863791, -1.25457587,\n",
       "        1.83239766,  1.90396325])"
      ]
     },
     "execution_count": 21,
     "metadata": {},
     "output_type": "execute_result"
    }
   ],
   "source": [
    "x[((x>=-2) & (x <= -1)) | ((x>=1) & (x <= 2))]"
   ]
  },
  {
   "cell_type": "code",
   "execution_count": 22,
   "metadata": {
    "collapsed": false
   },
   "outputs": [
    {
     "data": {
      "text/plain": [
       "9"
      ]
     },
     "execution_count": 22,
     "metadata": {},
     "output_type": "execute_result"
    }
   ],
   "source": [
    "np.sum(x >= 0)"
   ]
  },
  {
   "cell_type": "code",
   "execution_count": 25,
   "metadata": {
    "collapsed": false
   },
   "outputs": [
    {
     "data": {
      "text/plain": [
       "1.502683347120614"
      ]
     },
     "execution_count": 25,
     "metadata": {},
     "output_type": "execute_result"
    }
   ],
   "source": [
    "np.mean(np.abs(x))"
   ]
  },
  {
   "cell_type": "code",
   "execution_count": 29,
   "metadata": {
    "collapsed": false
   },
   "outputs": [
    {
     "data": {
      "text/plain": [
       "3.8461135870769239"
      ]
     },
     "execution_count": 29,
     "metadata": {},
     "output_type": "execute_result"
    }
   ],
   "source": [
    "np.max(x)"
   ]
  },
  {
   "cell_type": "code",
   "execution_count": 28,
   "metadata": {
    "collapsed": false
   },
   "outputs": [
    {
     "data": {
      "text/plain": [
       "-3.5225768271234532"
      ]
     },
     "execution_count": 28,
     "metadata": {},
     "output_type": "execute_result"
    }
   ],
   "source": [
    "np.min(x)"
   ]
  },
  {
   "cell_type": "code",
   "execution_count": 11,
   "metadata": {
    "collapsed": false
   },
   "outputs": [
    {
     "data": {
      "text/plain": [
       "(array([15]),)"
      ]
     },
     "execution_count": 11,
     "metadata": {},
     "output_type": "execute_result"
    }
   ],
   "source": [
    "np.where(np.abs(x-2)==np.min(np.abs(x-2)))"
   ]
  },
  {
   "cell_type": "code",
   "execution_count": 31,
   "metadata": {
    "collapsed": false
   },
   "outputs": [
    {
     "data": {
      "text/plain": [
       "-0.15254478812511252"
      ]
     },
     "execution_count": 31,
     "metadata": {},
     "output_type": "execute_result"
    }
   ],
   "source": [
    "x[np.argmin(abs(x))]"
   ]
  },
  {
   "cell_type": "code",
   "execution_count": 32,
   "metadata": {
    "collapsed": false
   },
   "outputs": [
    {
     "data": {
      "text/plain": [
       "3.8461135870769239"
      ]
     },
     "execution_count": 32,
     "metadata": {},
     "output_type": "execute_result"
    }
   ],
   "source": [
    "x[np.argmax(abs(x))]"
   ]
  },
  {
   "cell_type": "code",
   "execution_count": 33,
   "metadata": {
    "collapsed": false
   },
   "outputs": [
    {
     "data": {
      "text/plain": [
       "1.9039632458562856"
      ]
     },
     "execution_count": 33,
     "metadata": {},
     "output_type": "execute_result"
    }
   ],
   "source": [
    "x[np.argmin(abs(x-2))]"
   ]
  },
  {
   "cell_type": "code",
   "execution_count": 34,
   "metadata": {
    "collapsed": false
   },
   "outputs": [
    {
     "data": {
      "text/plain": [
       "-3.5225768271234532"
      ]
     },
     "execution_count": 34,
     "metadata": {},
     "output_type": "execute_result"
    }
   ],
   "source": [
    "x[np.argmax(abs(x-2))]"
   ]
  },
  {
   "cell_type": "code",
   "execution_count": 37,
   "metadata": {
    "collapsed": false
   },
   "outputs": [
    {
     "data": {
      "text/plain": [
       "array([ 1.57175348, -1.71088532, -2.18518837,  0.41051815,  1.75575176,\n",
       "       -0.61514832,  3.84611359,  1.47863791, -0.15254479, -0.86305985,\n",
       "       -1.25457587,  1.83239766, -0.49142204, -3.52257683, -0.81564596,\n",
       "        1.90396325, -2.54006616, -2.59638595,  0.25241099,  0.2546207 ])"
      ]
     },
     "execution_count": 37,
     "metadata": {},
     "output_type": "execute_result"
    }
   ],
   "source": [
    "x"
   ]
  },
  {
   "cell_type": "code",
   "execution_count": 36,
   "metadata": {
    "collapsed": false
   },
   "outputs": [
    {
     "data": {
      "text/plain": [
       "array([ 0.57175348, -0.71088532, -0.18518837,  0.41051815,  0.75575176,\n",
       "       -0.61514832,  0.84611359,  0.47863791, -0.15254479, -0.86305985,\n",
       "       -0.25457587,  0.83239766, -0.49142204, -0.52257683, -0.81564596,\n",
       "        0.90396325, -0.54006616, -0.59638595,  0.25241099,  0.2546207 ])"
      ]
     },
     "execution_count": 36,
     "metadata": {},
     "output_type": "execute_result"
    }
   ],
   "source": [
    "x-np.trunc(x)"
   ]
  },
  {
   "cell_type": "code",
   "execution_count": 38,
   "metadata": {
    "collapsed": false
   },
   "outputs": [
    {
     "data": {
      "text/plain": [
       "array([ 0.69134813,  0.24586343,  0.18149608,  0.53375766,  0.71631841,\n",
       "        0.39456516,  1.        ,  0.67871147,  0.45734477,  0.36092125,\n",
       "        0.30778888,  0.72671997,  0.41135597,  0.        ,  0.36735576,\n",
       "        0.73643209,  0.13333586,  0.12569274,  0.51230105,  0.51260093])"
      ]
     },
     "execution_count": 38,
     "metadata": {},
     "output_type": "execute_result"
    }
   ],
   "source": [
    "(1/(np.max(x)-np.min(x)))*(x-np.min(x))"
   ]
  },
  {
   "cell_type": "code",
   "execution_count": 39,
   "metadata": {
    "collapsed": false
   },
   "outputs": [
    {
     "data": {
      "text/plain": [
       "array([ 1.5, -1.5, -2.5,  0.5,  1.5, -0.5,  3.5,  1.5, -0.5, -0.5, -1.5,\n",
       "        1.5, -0.5, -3.5, -0.5,  1.5, -2.5, -2.5,  0.5,  0.5])"
      ]
     },
     "execution_count": 39,
     "metadata": {},
     "output_type": "execute_result"
    }
   ],
   "source": [
    "np.floor(x)+0.5"
   ]
  },
  {
   "cell_type": "code",
   "execution_count": 43,
   "metadata": {
    "collapsed": false
   },
   "outputs": [
    {
     "data": {
      "text/plain": [
       "array(['dodatnia', 'ujemna', 'ujemna', 'dodatnia', 'dodatnia', 'ujemna',\n",
       "       'dodatnia', 'dodatnia', 'ujemna', 'ujemna', 'ujemna', 'dodatnia',\n",
       "       'ujemna', 'ujemna', 'ujemna', 'dodatnia', 'ujemna', 'ujemna',\n",
       "       'dodatnia', 'dodatnia'], \n",
       "      dtype='<U8')"
      ]
     },
     "execution_count": 43,
     "metadata": {},
     "output_type": "execute_result"
    }
   ],
   "source": [
    "np.vectorize(lambda z: \"ujemna\" if z < 0 else \"dodatnia\")(x)"
   ]
  },
  {
   "cell_type": "code",
   "execution_count": 45,
   "metadata": {
    "collapsed": false
   },
   "outputs": [
    {
     "data": {
      "text/plain": [
       "array([ 1.57175348, -1.71088532, -2.18518837,  0.41051815,  1.75575176,\n",
       "       -0.61514832,  3.84611359,  1.47863791, -0.15254479, -0.86305985,\n",
       "       -1.25457587,  1.83239766, -0.49142204, -3.52257683, -0.81564596,\n",
       "        1.90396325, -2.54006616, -2.59638595,  0.25241099,  0.2546207 ])"
      ]
     },
     "execution_count": 45,
     "metadata": {},
     "output_type": "execute_result"
    }
   ],
   "source": [
    "x"
   ]
  },
  {
   "cell_type": "code",
   "execution_count": 46,
   "metadata": {
    "collapsed": false
   },
   "outputs": [
    {
     "data": {
      "text/plain": [
       "array([ 2., -2., -2.,  0.,  2., -1.,  4.,  1., -0., -1., -1.,  2., -0.,\n",
       "       -4., -1.,  2., -3., -3.,  0.,  0.])"
      ]
     },
     "execution_count": 46,
     "metadata": {},
     "output_type": "execute_result"
    }
   ],
   "source": [
    "np.round(x)"
   ]
  },
  {
   "cell_type": "code",
   "execution_count": 47,
   "metadata": {
    "collapsed": false
   },
   "outputs": [
    {
     "data": {
      "text/plain": [
       "array(['parzysta', 'parzysta', 'parzysta', 'parzysta', 'parzysta',\n",
       "       'nieparzysta', 'parzysta', 'nieparzysta', 'parzysta', 'nieparzysta',\n",
       "       'nieparzysta', 'parzysta', 'parzysta', 'parzysta', 'nieparzysta',\n",
       "       'parzysta', 'nieparzysta', 'nieparzysta', 'parzysta', 'parzysta'], \n",
       "      dtype='<U11')"
      ]
     },
     "execution_count": 47,
     "metadata": {},
     "output_type": "execute_result"
    }
   ],
   "source": [
    "np.vectorize(lambda z: \"nieparzysta\" if np.round(z) % 2 == 1 else \"parzysta\")(x)"
   ]
  },
  {
   "cell_type": "code",
   "execution_count": 50,
   "metadata": {
    "collapsed": false
   },
   "outputs": [
    {
     "data": {
      "text/plain": [
       "-0.17206659872815297"
      ]
     },
     "execution_count": 50,
     "metadata": {},
     "output_type": "execute_result"
    }
   ],
   "source": [
    "np.sum(x)/len(x)"
   ]
  },
  {
   "cell_type": "code",
   "execution_count": 51,
   "metadata": {
    "collapsed": false
   },
   "outputs": [
    {
     "data": {
      "text/plain": [
       "-0.17206659872815297"
      ]
     },
     "execution_count": 51,
     "metadata": {},
     "output_type": "execute_result"
    }
   ],
   "source": [
    "np.mean(x)"
   ]
  },
  {
   "cell_type": "code",
   "execution_count": 52,
   "metadata": {
    "collapsed": false
   },
   "outputs": [
    {
     "data": {
      "text/plain": [
       "3.3075442385594562"
      ]
     },
     "execution_count": 52,
     "metadata": {},
     "output_type": "execute_result"
    }
   ],
   "source": [
    "np.var(x)"
   ]
  },
  {
   "cell_type": "code",
   "execution_count": 54,
   "metadata": {
    "collapsed": false
   },
   "outputs": [
    {
     "data": {
      "text/plain": [
       "array([ 1.57175348, -1.71088532, -2.18518837,  0.41051815,  1.75575176,\n",
       "       -0.61514832,  3.84611359,  1.47863791, -0.15254479, -0.86305985,\n",
       "       -1.25457587,  1.83239766, -0.49142204, -3.52257683, -0.81564596,\n",
       "        1.90396325, -2.54006616, -2.59638595,  0.25241099,  0.2546207 ])"
      ]
     },
     "execution_count": 54,
     "metadata": {},
     "output_type": "execute_result"
    }
   ],
   "source": [
    "x"
   ]
  },
  {
   "cell_type": "code",
   "execution_count": 57,
   "metadata": {
    "collapsed": false
   },
   "outputs": [
    {
     "data": {
      "text/plain": [
       "-3.4413319745630595"
      ]
     },
     "execution_count": 57,
     "metadata": {},
     "output_type": "execute_result"
    }
   ],
   "source": [
    "np.sum(x)"
   ]
  },
  {
   "cell_type": "code",
   "execution_count": 58,
   "metadata": {
    "collapsed": false
   },
   "outputs": [
    {
     "data": {
      "text/plain": [
       "-0.17206659872815297"
      ]
     },
     "execution_count": 58,
     "metadata": {},
     "output_type": "execute_result"
    }
   ],
   "source": [
    "np.mean(x)"
   ]
  },
  {
   "cell_type": "code",
   "execution_count": 60,
   "metadata": {
    "collapsed": false
   },
   "outputs": [
    {
     "data": {
      "text/plain": [
       "array([ 1.74382008, -1.53881872, -2.01312177,  0.58258475,  1.92781836,\n",
       "       -0.44308172,  4.01818019,  1.65070451,  0.01952181, -0.69099326,\n",
       "       -1.08250927,  2.00446426, -0.31935544, -3.35051023, -0.64357936,\n",
       "        2.07602984, -2.36799956, -2.42431935,  0.42447759,  0.4266873 ])"
      ]
     },
     "execution_count": 60,
     "metadata": {},
     "output_type": "execute_result"
    }
   ],
   "source": [
    "x-np.mean(x)"
   ]
  },
  {
   "cell_type": "code",
   "execution_count": 64,
   "metadata": {
    "collapsed": false
   },
   "outputs": [
    {
     "data": {
      "text/plain": [
       "3.3075442385594562"
      ]
     },
     "execution_count": 64,
     "metadata": {},
     "output_type": "execute_result"
    }
   ],
   "source": [
    "#wariancja\n",
    "np.sum((x-np.mean(x))**2)/len(x)"
   ]
  },
  {
   "cell_type": "code",
   "execution_count": 67,
   "metadata": {
    "collapsed": false
   },
   "outputs": [
    {
     "name": "stdout",
     "output_type": "stream",
     "text": [
      "-3.52257682712 3.84611358708\n"
     ]
    }
   ],
   "source": [
    "print(np.sort(x)[0], np.sort(x)[len(x)-1])"
   ]
  },
  {
   "cell_type": "code",
   "execution_count": 71,
   "metadata": {
    "collapsed": false
   },
   "outputs": [
    {
     "data": {
      "text/plain": [
       "(array([-3.52257683, -2.59638595, -2.54006616, -2.18518837, -1.71088532,\n",
       "        -1.25457587, -0.86305985, -0.81564596, -0.61514832, -0.49142204,\n",
       "        -0.15254479,  0.25241099,  0.2546207 ,  0.41051815,  1.47863791,\n",
       "         1.57175348,  1.75575176,  1.83239766,  1.90396325,  3.84611359]),\n",
       " array([1, 1, 1, 1, 1, 1, 1, 1, 1, 1, 1, 1, 1, 1, 1, 1, 1, 1, 1, 1]))"
      ]
     },
     "execution_count": 71,
     "metadata": {},
     "output_type": "execute_result"
    }
   ],
   "source": [
    "np.unique(x, return_counts=True)"
   ]
  },
  {
   "cell_type": "code",
   "execution_count": 80,
   "metadata": {
    "collapsed": false
   },
   "outputs": [
    {
     "data": {
      "text/plain": [
       "array([10,  9,  8,  7,  6,  5,  4,  3,  2,  1])"
      ]
     },
     "execution_count": 80,
     "metadata": {},
     "output_type": "execute_result"
    }
   ],
   "source": [
    "x = np.r_[1:11]\n",
    "x\n",
    "y = np.r_[10:0:-1]\n",
    "y"
   ]
  },
  {
   "cell_type": "code",
   "execution_count": 86,
   "metadata": {
    "collapsed": false
   },
   "outputs": [],
   "source": [
    "def korelacja(x,y):\n",
    "    return np.sum((x-np.mean(x))*(y-np.mean(y)))/(np.sqrt(np.sum((x-np.mean(x))**2))*np.sqrt(np.sum((y-np.mean(y))**2)))"
   ]
  },
  {
   "cell_type": "code",
   "execution_count": 87,
   "metadata": {
    "collapsed": false
   },
   "outputs": [
    {
     "data": {
      "text/plain": [
       "-1.0"
      ]
     },
     "execution_count": 87,
     "metadata": {},
     "output_type": "execute_result"
    }
   ],
   "source": [
    "x = np.r_[1:11]\n",
    "x\n",
    "y = np.r_[10:0:-1]\n",
    "y\n",
    "korelacja(x,y)"
   ]
  },
  {
   "cell_type": "code",
   "execution_count": 93,
   "metadata": {
    "collapsed": false
   },
   "outputs": [
    {
     "data": {
      "text/plain": [
       "0.99999999999999967"
      ]
     },
     "execution_count": 93,
     "metadata": {},
     "output_type": "execute_result"
    }
   ],
   "source": [
    "x = np.random.normal(size=20)\n",
    "x\n",
    "y = 5*x+2\n",
    "y\n",
    "korelacja(x,y)"
   ]
  },
  {
   "cell_type": "code",
   "execution_count": 97,
   "metadata": {
    "collapsed": false
   },
   "outputs": [
    {
     "data": {
      "text/plain": [
       "-0.19575405185670616"
      ]
     },
     "execution_count": 97,
     "metadata": {},
     "output_type": "execute_result"
    }
   ],
   "source": [
    "x = np.random.normal(size=20)\n",
    "x\n",
    "y = -2 * np.flipud(np.abs(x))+1\n",
    "y\n",
    "korelacja(x,y)"
   ]
  },
  {
   "cell_type": "code",
   "execution_count": 98,
   "metadata": {
    "collapsed": false
   },
   "outputs": [
    {
     "data": {
      "text/plain": [
       "0.097584777817850216"
      ]
     },
     "execution_count": 98,
     "metadata": {},
     "output_type": "execute_result"
    }
   ],
   "source": [
    "x = np.random.normal(size=20)\n",
    "x\n",
    "y = np.random.normal(size=20)\n",
    "y\n",
    "korelacja(x,y)"
   ]
  },
  {
   "cell_type": "code",
   "execution_count": 109,
   "metadata": {
    "collapsed": false
   },
   "outputs": [
    {
     "data": {
      "text/plain": [
       "3.1406835628685306"
      ]
     },
     "execution_count": 109,
     "metadata": {},
     "output_type": "execute_result"
    }
   ],
   "source": [
    "n = np.r_[0:1100]\n",
    "4*np.sum(((-1)**n)/(2*n+1))"
   ]
  },
  {
   "cell_type": "code",
   "execution_count": 112,
   "metadata": {
    "collapsed": false
   },
   "outputs": [
    {
     "data": {
      "text/plain": [
       "3.141592653589793"
      ]
     },
     "execution_count": 112,
     "metadata": {},
     "output_type": "execute_result"
    }
   ],
   "source": [
    "np.pi"
   ]
  },
  {
   "cell_type": "code",
   "execution_count": 124,
   "metadata": {
    "collapsed": false
   },
   "outputs": [
    {
     "data": {
      "text/plain": [
       "3.1393399999999998"
      ]
     },
     "execution_count": 124,
     "metadata": {},
     "output_type": "execute_result"
    }
   ],
   "source": [
    "n=1000000\n",
    "x = np.random.uniform(-1,1,n)\n",
    "y = np.random.uniform(-1,1,n)\n",
    "4*(np.sum(x**2+y**2 <= 1)/n)"
   ]
  },
  {
   "cell_type": "code",
   "execution_count": 127,
   "metadata": {
    "collapsed": false
   },
   "outputs": [
    {
     "data": {
      "text/plain": [
       "23.506175132893294"
      ]
     },
     "execution_count": 127,
     "metadata": {},
     "output_type": "execute_result"
    }
   ],
   "source": [
    "n=4\n",
    "((n/np.e)**n)*np.sqrt(2*np.pi*n)"
   ]
  },
  {
   "cell_type": "code",
   "execution_count": 134,
   "metadata": {
    "collapsed": false
   },
   "outputs": [
    {
     "data": {
      "text/plain": [
       "array([  1.,   2.,   3.,  nan,   5.,   7.,   8.,  nan])"
      ]
     },
     "execution_count": 134,
     "metadata": {},
     "output_type": "execute_result"
    }
   ],
   "source": [
    "x = np.r_[1,2,3,np.nan, 5,7,8, np.nan]\n",
    "x"
   ]
  },
  {
   "cell_type": "code",
   "execution_count": 136,
   "metadata": {
    "collapsed": false
   },
   "outputs": [
    {
     "data": {
      "text/plain": [
       "4.333333333333333"
      ]
     },
     "execution_count": 136,
     "metadata": {},
     "output_type": "execute_result"
    }
   ],
   "source": [
    "np.nanmean(x)"
   ]
  },
  {
   "cell_type": "code",
   "execution_count": 139,
   "metadata": {
    "collapsed": false
   },
   "outputs": [
    {
     "data": {
      "text/plain": [
       "array([ 1.        ,  2.        ,  3.        ,  4.33333333,  5.        ,\n",
       "        7.        ,  8.        ,  4.33333333])"
      ]
     },
     "execution_count": 139,
     "metadata": {},
     "output_type": "execute_result"
    }
   ],
   "source": [
    "x[np.isnan(x)] = np.nanmean(x)\n",
    "x"
   ]
  },
  {
   "cell_type": "code",
   "execution_count": 144,
   "metadata": {
    "collapsed": false
   },
   "outputs": [
    {
     "data": {
      "text/plain": [
       "array([ 3.,  1.,  4.,  1.,  5.,  9.,  2.,  6.,  5.,  3.,  5.])"
      ]
     },
     "execution_count": 144,
     "metadata": {},
     "output_type": "execute_result"
    }
   ],
   "source": [
    "n = 10\n",
    "cyfry = np.r_[0:(n+1)]\n",
    "np.floor(np.pi*(10**cyfry))%10"
   ]
  },
  {
   "cell_type": "code",
   "execution_count": 155,
   "metadata": {
    "collapsed": false
   },
   "outputs": [
    {
     "data": {
      "text/plain": [
       "2.0"
      ]
     },
     "execution_count": 155,
     "metadata": {},
     "output_type": "execute_result"
    }
   ],
   "source": [
    "x = np.r_[2.5,2.75,3,0.5,2,2,2,1,0.75]\n",
    "k=3\n",
    "xs = np.sort(x)\n",
    "xs\n",
    "xs[0:k] = xs[k+1]\n",
    "xs[(len(xs)-k):len(xs)] = xs[k+1]\n",
    "xs\n",
    "np.mean(xs)"
   ]
  },
  {
   "cell_type": "code",
   "execution_count": 206,
   "metadata": {
    "collapsed": false
   },
   "outputs": [
    {
     "name": "stdout",
     "output_type": "stream",
     "text": [
      "[[3 2 1]\n",
      " [6 5 4]\n",
      " [9 8 7]]\n",
      "[[7 8 9]\n",
      " [4 5 6]\n",
      " [1 2 3]]\n"
     ]
    }
   ],
   "source": [
    "m = np.array([[1,2,3],[4,5,6],[7,8,9]])\n",
    "print(m[:,::-1])\n",
    "print(m[::-1,:])"
   ]
  },
  {
   "cell_type": "code",
   "execution_count": 219,
   "metadata": {
    "collapsed": false
   },
   "outputs": [
    {
     "name": "stdout",
     "output_type": "stream",
     "text": [
      "[[ 0.16666667  0.33333333  0.5       ]\n",
      " [ 0.26666667  0.33333333  0.4       ]\n",
      " [ 0.29166667  0.33333333  0.375     ]]\n"
     ]
    }
   ],
   "source": [
    "#do stochastycznej\n",
    "m = np.array([[1,2,3],[4,5,6],[7,8,9]])\n",
    "#m = np.array([[0,0,0],[4,5,6],[7,8,9]])\n",
    "#m = np.array([[0,0,0],[-1,5,6],[7,8,9]])\n",
    "m\n",
    "if not sum((m>=0).flatten())==m.size:\n",
    "    print(\"nie wszystkie sa nieujemne!\")\n",
    "elif not np.all(np.apply_along_axis(lambda wiersz: np.any(wiersz>0), 1, m)):\n",
    "    print(\"istnieje wiersz, dla ktorego wszystkie sa zerami!\")\n",
    "else:\n",
    "    sumy = np.sum(m,axis=1)\n",
    "    m1 = m/sumy.reshape(m.shape[0],-1)\n",
    "    print(m1)"
   ]
  },
  {
   "cell_type": "code",
   "execution_count": 245,
   "metadata": {
    "collapsed": false
   },
   "outputs": [],
   "source": [
    "oceny = np.array(((0,0.01,0.1,0.2), (0.01, 0.05,0.03,0.1),(0.1,0.03, 0.05,0.01),(0.2,0.1,0.01,0)))\n",
    "oceny\n",
    "pionowo = np.sum(oceny,axis=0).reshape(len(pionowo),-1)\n",
    "poziomo = np.sum(oceny,axis=1).reshape(-1, len(poziomo))\n",
    "\n",
    "np.all(np.outer(pionowo, poziomo) == oceny)\n",
    "\n",
    "x = np.r_[2:6]\n",
    "y = np.c_[2:6]\n",
    "ex = np.sum(x*poziomo)\n",
    "ey = np.sum(y*pionowo)"
   ]
  },
  {
   "cell_type": "code",
   "execution_count": null,
   "metadata": {
    "collapsed": true
   },
   "outputs": [],
   "source": [
    ""
   ]
  }
 ],
 "metadata": {
  "kernelspec": {
   "display_name": "Python 3",
   "language": "python",
   "name": "python3"
  },
  "language_info": {
   "codemirror_mode": {
    "name": "ipython",
    "version": 3.0
   },
   "file_extension": ".py",
   "mimetype": "text/x-python",
   "name": "python",
   "nbconvert_exporter": "python",
   "pygments_lexer": "ipython3",
   "version": "3.6.0"
  }
 },
 "nbformat": 4,
 "nbformat_minor": 0
}