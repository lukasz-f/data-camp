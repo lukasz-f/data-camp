{
 "cells": [
  {
   "cell_type": "code",
   "execution_count": 5,
   "metadata": {
    "collapsed": true
   },
   "outputs": [],
   "source": [
    "import numpy as np\n",
    "import matplotlib.pyplot as plt\n",
    "import scipy.stats as stats\n",
    "import pandas as pd\n",
    "# additional packages\n",
    "from statsmodels.stats.diagnostic import lillifors"
   ]
  },
  {
   "cell_type": "markdown",
   "metadata": {},
   "source": [
    "# Badanie założenia o normalności rozkładu"
   ]
  },
  {
   "cell_type": "markdown",
   "metadata": {},
   "source": [
    "Wylosujmy próbki z rozkładu normalnego, jednostajnego i t-studenta, a następnie sprawdźmy jak zadziałają testy na tych próbkach."
   ]
  },
  {
   "cell_type": "code",
   "execution_count": 11,
   "metadata": {
    "collapsed": false
   },
   "outputs": [],
   "source": [
    "n=1000\n",
    "ud=stats.uniform(-1,2)\n",
    "nd=stats.norm()\n",
    "td=stats.t(7)\n",
    "data_u=ud.rvs(n)\n",
    "data_n=nd.rvs(n)\n",
    "data_t=td.rvs(n)\n",
    "fewData_u = data_u[:100]\n",
    "fewData_n = data_n[:100]\n",
    "fewData_t = data_t[:100]"
   ]
  },
  {
   "cell_type": "code",
   "execution_count": 12,
   "metadata": {
    "collapsed": false
   },
   "outputs": [
    {
     "name": "stdout",
     "output_type": "stream",
     "text": [
      "p-values for all 1000 data points: ----------------\n",
      "Omnibus               4.995934e-139\n",
      "Shapiro-Wilk           8.674059e-17\n",
      "Lilliefors             4.280697e-10\n",
      "Kolmogorov-Smirnov     6.465926e-04\n",
      "dtype: float64\n",
      "p-values for the first 100 data points: ----------------\n",
      "Omnibus               1.955725e-08\n",
      "Shapiro-Wilk          1.137217e-03\n",
      "Lilliefors            3.664764e-02\n",
      "Kolmogorov-Smirnov    3.472579e-01\n",
      "dtype: float64\n"
     ]
    }
   ],
   "source": [
    "data = data_u\n",
    "fewData = fewData_u\n",
    "\n",
    "pVals = pd.Series()\n",
    "pFewVals = pd.Series()\n",
    "# The scipy normaltest is based on D-Agostino and Pearsons test that\n",
    "# combines skew and kurtosis to produce an omnibus test of normality.\n",
    "_, pVals['Omnibus']    = stats.normaltest(data)\n",
    "_, pFewVals['Omnibus'] = stats.normaltest(fewData)\n",
    "\n",
    "# Shapiro-Wilk test\n",
    "_, pVals['Shapiro-Wilk']    = stats.shapiro(data)\n",
    "_, pFewVals['Shapiro-Wilk'] = stats.shapiro(fewData)\n",
    "\n",
    "# Or you can check for normality with Lilliefors-test\n",
    "_, pVals['Lilliefors']    = lillifors(data)\n",
    "_, pFewVals['Lilliefors'] = lillifors(fewData)\n",
    "\n",
    "# Alternatively with original Kolmogorov-Smirnov test\n",
    "_, pVals['Kolmogorov-Smirnov']    = stats.kstest((data-np.mean(data))/np.std(data,ddof=1), 'norm')\n",
    "_, pFewVals['Kolmogorov-Smirnov'] = stats.kstest((fewData-np.mean(fewData))/np.std(fewData,ddof=1), 'norm')\n",
    "\n",
    "print('p-values for all {0} data points: ----------------'.format(len(data)))\n",
    "print(pVals)\n",
    "print('p-values for the first 100 data points: ----------------')\n",
    "print(pFewVals)\n",
    "\n",
    "if pVals['Omnibus'] > 0.05:\n",
    "    print('Data are normally distributed')"
   ]
  },
  {
   "cell_type": "code",
   "execution_count": 13,
   "metadata": {
    "collapsed": false
   },
   "outputs": [
    {
     "name": "stdout",
     "output_type": "stream",
     "text": [
      "p-values for all 1000 data points: ----------------\n",
      "Omnibus               0.000275\n",
      "Shapiro-Wilk          0.000787\n",
      "Lilliefors            0.068749\n",
      "Kolmogorov-Smirnov    0.425216\n",
      "dtype: float64\n",
      "p-values for the first 100 data points: ----------------\n",
      "Omnibus               0.000153\n",
      "Shapiro-Wilk          0.002102\n",
      "Lilliefors            0.008564\n",
      "Kolmogorov-Smirnov    0.205809\n",
      "dtype: float64\n"
     ]
    }
   ],
   "source": [
    "data = data_t\n",
    "fewData = fewData_t\n",
    "\n",
    "pVals = pd.Series()\n",
    "pFewVals = pd.Series()\n",
    "# The scipy normaltest is based on D-Agostino and Pearsons test that\n",
    "# combines skew and kurtosis to produce an omnibus test of normality.\n",
    "_, pVals['Omnibus']    = stats.normaltest(data)\n",
    "_, pFewVals['Omnibus'] = stats.normaltest(fewData)\n",
    "\n",
    "# Shapiro-Wilk test\n",
    "_, pVals['Shapiro-Wilk']    = stats.shapiro(data)\n",
    "_, pFewVals['Shapiro-Wilk'] = stats.shapiro(fewData)\n",
    "\n",
    "# Or you can check for normality with Lilliefors-test\n",
    "_, pVals['Lilliefors']    = lillifors(data)\n",
    "_, pFewVals['Lilliefors'] = lillifors(fewData)\n",
    "\n",
    "# Alternatively with original Kolmogorov-Smirnov test\n",
    "_, pVals['Kolmogorov-Smirnov']    = stats.kstest((data-np.mean(data))/np.std(data,ddof=1), 'norm')\n",
    "_, pFewVals['Kolmogorov-Smirnov'] = stats.kstest((fewData-np.mean(fewData))/np.std(fewData,ddof=1), 'norm')\n",
    "\n",
    "print('p-values for all {0} data points: ----------------'.format(len(data)))\n",
    "print(pVals)\n",
    "print('p-values for the first 100 data points: ----------------')\n",
    "print(pFewVals)\n",
    "\n",
    "if pVals['Omnibus'] > 0.05:\n",
    "    print('Data are normally distributed')"
   ]
  },
  {
   "cell_type": "code",
   "execution_count": 14,
   "metadata": {
    "collapsed": false
   },
   "outputs": [
    {
     "name": "stdout",
     "output_type": "stream",
     "text": [
      "p-values for all 1000 data points: ----------------\n",
      "Omnibus               0.625743\n",
      "Shapiro-Wilk          0.361100\n",
      "Lilliefors            0.509441\n",
      "Kolmogorov-Smirnov    0.871876\n",
      "dtype: float64\n",
      "p-values for the first 100 data points: ----------------\n",
      "Omnibus               0.980083\n",
      "Shapiro-Wilk          0.898918\n",
      "Lilliefors            0.461451\n",
      "Kolmogorov-Smirnov    0.865898\n",
      "dtype: float64\n",
      "Data are normally distributed\n"
     ]
    }
   ],
   "source": [
    "data = data_n\n",
    "fewData = fewData_n\n",
    "\n",
    "pVals = pd.Series()\n",
    "pFewVals = pd.Series()\n",
    "# The scipy normaltest is based on D-Agostino and Pearsons test that\n",
    "# combines skew and kurtosis to produce an omnibus test of normality.\n",
    "_, pVals['Omnibus']    = stats.normaltest(data)\n",
    "_, pFewVals['Omnibus'] = stats.normaltest(fewData)\n",
    "\n",
    "# Shapiro-Wilk test\n",
    "_, pVals['Shapiro-Wilk']    = stats.shapiro(data)\n",
    "_, pFewVals['Shapiro-Wilk'] = stats.shapiro(fewData)\n",
    "\n",
    "# Or you can check for normality with Lilliefors-test\n",
    "_, pVals['Lilliefors']    = lillifors(data)\n",
    "_, pFewVals['Lilliefors'] = lillifors(fewData)\n",
    "\n",
    "# Alternatively with original Kolmogorov-Smirnov test\n",
    "_, pVals['Kolmogorov-Smirnov']    = stats.kstest((data-np.mean(data))/np.std(data,ddof=1), 'norm')\n",
    "_, pFewVals['Kolmogorov-Smirnov'] = stats.kstest((fewData-np.mean(fewData))/np.std(fewData,ddof=1), 'norm')\n",
    "\n",
    "print('p-values for all {0} data points: ----------------'.format(len(data)))\n",
    "print(pVals)\n",
    "print('p-values for the first 100 data points: ----------------')\n",
    "print(pFewVals)\n",
    "\n",
    "if pVals['Omnibus'] > 0.05:\n",
    "    print('Data are normally distributed')"
   ]
  },
  {
   "cell_type": "markdown",
   "metadata": {},
   "source": [
    "# Zadanie\n",
    "Wylosujmy po 100 próbek z rozkładu normalnego, jednostajnego i t-studenta zawierających 1000 punktów, a następnie sprawdźmy na ilu z nich testy normalności się pomylą.\n",
    "\n",
    "Wykonaj analogiczne zadanie dla 100 próbek o liczności 100."
   ]
  },
  {
   "cell_type": "code",
   "execution_count": null,
   "metadata": {
    "collapsed": true
   },
   "outputs": [],
   "source": []
  }
 ],
 "metadata": {
  "kernelspec": {
   "display_name": "Python 3",
   "language": "python",
   "name": "python3"
  },
  "language_info": {
   "codemirror_mode": {
    "name": "ipython",
    "version": 3
   },
   "file_extension": ".py",
   "mimetype": "text/x-python",
   "name": "python",
   "nbconvert_exporter": "python",
   "pygments_lexer": "ipython3",
   "version": "3.6.0"
  }
 },
 "nbformat": 4,
 "nbformat_minor": 2
}
