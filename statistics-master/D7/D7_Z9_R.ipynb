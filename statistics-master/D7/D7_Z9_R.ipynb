{
 "cells": [
  {
   "cell_type": "markdown",
   "metadata": {
    "collapsed": false
   },
   "source": [
    "# Zadanie\n",
    "W ankiecie przeprowadzonej wśród kilkudziesięciu osób zamieszkałych w dwóch regionach pytano m.in. ile razy dziennie piją kawę. Uzyskano następujące odpowiedzi:\n",
    "\n",
    "Region 1\n",
    "\n",
    "3 ,4 ,1 ,1 ,4 ,2 ,1 ,1 ,0 ,1 ,4 ,1 ,1 ,6 ,1 ,1 ,0 ,1 ,3 ,1 ,1 ,1 ,2 ,0 ,1 ,0 ,3 ,0 ,1 ,1 ,1 ,0 ,3 ,0 ,0 ,0 ,1 ,2 ,2 ,1 ,1 ,1 ,0 ,0 ,1\n",
    "\n",
    "Region 2\n",
    "\n",
    "0 ,0 ,1 ,2 ,0 ,0 ,1 ,1 ,5 ,1 ,1 ,2 ,1 ,2 ,1 ,0 ,1 ,1 ,0 ,0 ,0 ,1 ,0 ,2 ,1 ,2 ,2 ,1 ,1 ,2 ,2 ,6 ,1 ,3 ,2 ,4 ,1 ,2 ,1 ,0 ,4 ,0 ,2 ,0 ,3\n",
    "\n",
    "Czy na podstawie tych wyników można stwierdzić, że osoby z regionu 1 częściej piją kawę?"
   ]
  },
  {
   "cell_type": "code",
   "execution_count": 2,
   "metadata": {
    "collapsed": true
   },
   "outputs": [],
   "source": [
    "import numpy as np\n",
    "import matplotlib.pyplot as plt\n",
    "import scipy.stats as stats\n",
    "import seaborn as sns\n",
    "import pandas as pd\n",
    "# additional packages\n",
    "from statsmodels.stats.diagnostic import lillifors"
   ]
  },
  {
   "cell_type": "code",
   "execution_count": 3,
   "metadata": {
    "collapsed": false
   },
   "outputs": [],
   "source": [
    "data1=np.array([3 ,4 ,1 ,1 ,4 ,2 ,1 ,1 ,0 ,1 ,4 ,1 ,1 ,6 ,1 ,1 ,0 ,1 ,3 ,1 ,1 ,1 ,2 ,0 ,1 ,0 ,3 ,0 ,1 ,1 ,1 ,0 ,3 ,0 ,0 ,0 ,1 ,2 ,2 ,1 ,1 ,1 ,0 ,0 ,1])\n",
    "data2=np.array([0 ,0 ,1 ,2 ,0 ,0 ,1 ,1 ,5 ,1 ,1 ,2 ,1 ,2 ,1 ,0 ,1 ,1 ,0 ,0 ,0 ,1 ,0 ,2 ,1 ,2 ,2 ,1 ,1 ,2 ,2 ,6 ,1 ,3 ,2 ,4 ,1 ,2 ,1 ,0 ,4 ,0 ,2 ,0 ,3])\n"
   ]
  },
  {
   "cell_type": "markdown",
   "metadata": {},
   "source": [
    "# Najpierw sprawdzamy założenie o tym, że próbka pochodzi z rozkładu normalnego."
   ]
  },
  {
   "cell_type": "code",
   "execution_count": 4,
   "metadata": {
    "collapsed": false
   },
   "outputs": [
    {
     "name": "stdout",
     "output_type": "stream",
     "text": [
      "p-values for all 45 data points: ----------------\n",
      "Omnibus               6.642525e-05\n",
      "Shapiro-Wilk          1.790966e-06\n",
      "Lilliefors            9.063855e-14\n",
      "Kolmogorov-Smirnov    6.296442e-05\n",
      "dtype: float64\n"
     ]
    }
   ],
   "source": [
    "data=data1\n",
    "pVals = pd.Series()\n",
    "pFewVals = pd.Series()\n",
    "# The scipy normaltest is based on D-Agostino and Pearsons test that\n",
    "# combines skew and kurtosis to produce an omnibus test of normality.\n",
    "_, pVals['Omnibus']    = stats.normaltest(data)\n",
    "\n",
    "# Shapiro-Wilk test\n",
    "_, pVals['Shapiro-Wilk']    = stats.shapiro(data)\n",
    "\n",
    "# Or you can check for normality with Lilliefors-test\n",
    "_, pVals['Lilliefors']    = lillifors(data)\n",
    "\n",
    "# Alternatively with original Kolmogorov-Smirnov test\n",
    "_, pVals['Kolmogorov-Smirnov']    = stats.kstest((data-np.mean(data))/np.std(data,ddof=1), 'norm')\n",
    "\n",
    "print('p-values for all {0} data points: ----------------'.format(len(data)))\n",
    "print(pVals)\n"
   ]
  },
  {
   "cell_type": "code",
   "execution_count": 5,
   "metadata": {
    "collapsed": false
   },
   "outputs": [
    {
     "name": "stdout",
     "output_type": "stream",
     "text": [
      "p-values for all 45 data points: ----------------\n",
      "Omnibus               1.296694e-04\n",
      "Shapiro-Wilk          1.119163e-05\n",
      "Lilliefors            9.749562e-07\n",
      "Kolmogorov-Smirnov    1.048001e-02\n",
      "dtype: float64\n"
     ]
    }
   ],
   "source": [
    "data=data2\n",
    "pVals = pd.Series()\n",
    "pFewVals = pd.Series()\n",
    "# The scipy normaltest is based on D-Agostino and Pearsons test that\n",
    "# combines skew and kurtosis to produce an omnibus test of normality.\n",
    "_, pVals['Omnibus']    = stats.normaltest(data)\n",
    "\n",
    "# Shapiro-Wilk test\n",
    "_, pVals['Shapiro-Wilk']    = stats.shapiro(data)\n",
    "\n",
    "# Or you can check for normality with Lilliefors-test\n",
    "_, pVals['Lilliefors']    = lillifors(data)\n",
    "\n",
    "# Alternatively with original Kolmogorov-Smirnov test\n",
    "_, pVals['Kolmogorov-Smirnov']    = stats.kstest((data-np.mean(data))/np.std(data,ddof=1), 'norm')\n",
    "\n",
    "print('p-values for all {0} data points: ----------------'.format(len(data)))\n",
    "print(pVals)\n"
   ]
  },
  {
   "cell_type": "markdown",
   "metadata": {},
   "source": [
    "# Zadanie\n",
    "Wykonaj test t-studenta."
   ]
  },
  {
   "cell_type": "code",
   "execution_count": 6,
   "metadata": {
    "collapsed": false
   },
   "outputs": [
    {
     "name": "stdout",
     "output_type": "stream",
     "text": [
      "(-0.23393667553251232, 0.81557751650246491)\n",
      "Nie ma podstaw aby odrzucić hipotezę H_0\n"
     ]
    }
   ],
   "source": [
    "# t-test\n",
    "(t, prob) = stats.ttest_ind (data1, data2)\n",
    "print( (t, prob))\n",
    "if prob < 0.05:\n",
    "    print(\"Odrzucamy hipotezę H_0\")\n",
    "else:\n",
    "    print(\"Nie ma podstaw aby odrzucić hipotezę H_0\")"
   ]
  },
  {
   "cell_type": "markdown",
   "metadata": {},
   "source": [
    "# Możemy wykonać test Mann–Whitney"
   ]
  },
  {
   "cell_type": "code",
   "execution_count": 7,
   "metadata": {
    "collapsed": false
   },
   "outputs": [
    {
     "name": "stdout",
     "output_type": "stream",
     "text": [
      "0.724528719458\n"
     ]
    }
   ],
   "source": [
    "import scipy as sp\n",
    "if np.int(sp.__version__.split('.')[1]) > 16:\n",
    "    u, p_value = stats.mannwhitneyu(data1, data2, alternative='two-sided')\n",
    "else:\n",
    "    u, p_value = stats.mannwhitneyu(data1, data2, use_continuity=True)\n",
    "    p_value *= 2    # because the default was a one-sided p-value\n",
    "print(p_value)    "
   ]
  },
  {
   "cell_type": "code",
   "execution_count": 8,
   "metadata": {
    "collapsed": false
   },
   "outputs": [
    {
     "name": "stdout",
     "output_type": "stream",
     "text": [
      "Nie ma podstaw aby odrzucić hipotezę H_0\n"
     ]
    }
   ],
   "source": [
    "if p_value < 0.05:\n",
    "    print(\"Odrzucamy hipotezę H_0\")\n",
    "else:\n",
    "    print(\"Nie ma podstaw aby odrzucić hipotezę H_0\")"
   ]
  },
  {
   "cell_type": "code",
   "execution_count": null,
   "metadata": {
    "collapsed": true
   },
   "outputs": [],
   "source": []
  }
 ],
 "metadata": {
  "kernelspec": {
   "display_name": "Python 3",
   "language": "python",
   "name": "python3"
  },
  "language_info": {
   "codemirror_mode": {
    "name": "ipython",
    "version": 3
   },
   "file_extension": ".py",
   "mimetype": "text/x-python",
   "name": "python",
   "nbconvert_exporter": "python",
   "pygments_lexer": "ipython3",
   "version": "3.6.0"
  }
 },
 "nbformat": 4,
 "nbformat_minor": 2
}
