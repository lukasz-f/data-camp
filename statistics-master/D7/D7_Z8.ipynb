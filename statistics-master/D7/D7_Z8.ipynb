{
 "cells": [
  {
   "cell_type": "markdown",
   "metadata": {
    "collapsed": false
   },
   "source": [
    "# Zadanie\n",
    "Na podstawie danych poniżej przedstawiających wagę losowo wybranych noworodków stwierdzić, czy występuję istotna różnica między średnią wagą chłopców i dziewczynek, oraz czy zróżnicowanie wagi wśród chłopców i dziewczynek jest podobne, czy też różne.\n",
    "\n",
    "Ch:\n",
    "\n",
    "3.19, 3.29, 3.31, 3.05, 4.15, 4.26, 3.36, 3.25, 3.18, 2.75, 2.78, 3.22, 3.36, 3.12\n",
    "\n",
    "Dzie:\n",
    "\n",
    "3.34, 3.36, 3.22, 3.14, 3.65, 3.15, 3.28, 3.18, 3.35, 3.61, 3.05, 3.03, 3.01, 3.06, 2.9, 3.02"
   ]
  },
  {
   "cell_type": "code",
   "execution_count": 4,
   "metadata": {
    "collapsed": true
   },
   "outputs": [],
   "source": [
    "import numpy as np\n",
    "import matplotlib.pyplot as plt\n",
    "import scipy.stats as stats\n",
    "import seaborn as sns\n",
    "import pandas as pd\n",
    "# additional packages\n",
    "from statsmodels.stats.diagnostic import lillifors"
   ]
  },
  {
   "cell_type": "code",
   "execution_count": 5,
   "metadata": {
    "collapsed": false
   },
   "outputs": [],
   "source": [
    "data1=np.array([3.19, 3.29, 3.31, 3.05, 4.15, 4.26, 3.36, 3.25, 3.18, 2.75, 2.78, 3.22, 3.36, 3.12])\n",
    "data2=np.array([3.34, 3.36, 3.22, 3.14, 3.65, 3.15, 3.28, 3.18, 3.35, 3.61, 3.05, 3.03, 3.01, 3.06, 2.9, 3.02])"
   ]
  },
  {
   "cell_type": "code",
   "execution_count": null,
   "metadata": {
    "collapsed": true
   },
   "outputs": [],
   "source": []
  }
 ],
 "metadata": {
  "kernelspec": {
   "display_name": "Python 3",
   "language": "python",
   "name": "python3"
  },
  "language_info": {
   "codemirror_mode": {
    "name": "ipython",
    "version": 3
   },
   "file_extension": ".py",
   "mimetype": "text/x-python",
   "name": "python",
   "nbconvert_exporter": "python",
   "pygments_lexer": "ipython3",
   "version": "3.6.0"
  }
 },
 "nbformat": 4,
 "nbformat_minor": 2
}
