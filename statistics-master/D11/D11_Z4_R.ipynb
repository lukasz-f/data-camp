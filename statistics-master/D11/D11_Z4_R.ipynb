{
 "cells": [
  {
   "cell_type": "markdown",
   "metadata": {},
   "source": [
    "# Cross validation\n"
   ]
  },
  {
   "cell_type": "code",
   "execution_count": 1,
   "metadata": {
    "collapsed": true
   },
   "outputs": [],
   "source": [
    "import numpy as np\n",
    "import pandas as pd\n",
    "import scipy.stats as stats\n",
    "import sklearn.linear_model as lm\n",
    "from sklearn import datasets, linear_model\n",
    "import matplotlib.pyplot as plt\n",
    "\n",
    "from sklearn.preprocessing import PolynomialFeatures\n",
    "from sklearn.pipeline import make_pipeline"
   ]
  },
  {
   "cell_type": "markdown",
   "metadata": {},
   "source": [
    "Rozważmy następujący zbiór punktów:"
   ]
  },
  {
   "cell_type": "code",
   "execution_count": 8,
   "metadata": {
    "collapsed": false
   },
   "outputs": [
    {
     "data": {
      "image/png": "[encoded data removed]",
      "text/plain": [
       "<matplotlib.figure.Figure at 0x14ad336780>"
      ]
     },
     "metadata": {},
     "output_type": "display_data"
    }
   ],
   "source": [
    "x = stats.uniform(0,3).rvs(100)\n",
    "f = lambda x: ((x*2-1)*(x**2-2)*(x-2)+3)\n",
    "y = f(x) + stats.norm(0,0.9).rvs(len(x))\n",
    "plt.plot(x, y, 'ok', ms=10);\n",
    "plt.show()"
   ]
  },
  {
   "cell_type": "markdown",
   "metadata": {},
   "source": [
    "# Zadanie\n",
    "Podziel zbiór danych na część testową i treningową. \n",
    "Naucz model na części treningowej i oceń wyniki na części testowej."
   ]
  },
  {
   "cell_type": "code",
   "execution_count": 9,
   "metadata": {
    "collapsed": false
   },
   "outputs": [
    {
     "name": "stdout",
     "output_type": "stream",
     "text": [
      "(60,) (60,)\n",
      "(40,) (40,)\n"
     ]
    }
   ],
   "source": [
    "from sklearn.model_selection import train_test_split\n",
    "X_train, X_test, y_train, y_test = train_test_split(x, y, test_size=0.4, random_state=0)\n",
    "\n",
    "print(X_train.shape, y_train.shape)\n",
    "print(X_test.shape, y_test.shape)"
   ]
  },
  {
   "cell_type": "code",
   "execution_count": 10,
   "metadata": {
    "collapsed": false
   },
   "outputs": [],
   "source": [
    "X_train=np.vstack(X_train)\n",
    "X_test=np.vstack(X_test)"
   ]
  },
  {
   "cell_type": "code",
   "execution_count": 11,
   "metadata": {
    "collapsed": false
   },
   "outputs": [
    {
     "data": {
      "text/plain": [
       "array([  1.58287877,   5.7538243 ,   3.41146828,  16.07967384,\n",
       "        27.69069933,   6.2194285 ,   2.06416614,   0.54458649,\n",
       "         9.72574624,   6.85498649,   0.57143722,   2.05247962,\n",
       "         6.07361835,  26.4787473 ,  17.16954108,   1.19890904,\n",
       "         2.43714949,   2.30086003,   8.31923949,   6.51927817,\n",
       "        27.04506208,   5.84681207,   9.81734748,  26.25738229,\n",
       "         1.17716382,   7.78470678,   3.27233539,   1.62539672,\n",
       "         6.92322415,   3.50731236,   8.32677349,   1.93852408,\n",
       "        20.99603848,  13.59618448,   4.24011739,  15.77743319,\n",
       "         0.91555921,   0.80774874,   7.88646068,  26.29656907])"
      ]
     },
     "execution_count": 11,
     "metadata": {},
     "output_type": "execute_result"
    }
   ],
   "source": [
    "model2 = make_pipeline(PolynomialFeatures(2), linear_model.LinearRegression())\n",
    "model2.fit(X_train, y_train)\n",
    "model2.predict(X_test)"
   ]
  },
  {
   "cell_type": "code",
   "execution_count": 12,
   "metadata": {
    "collapsed": false
   },
   "outputs": [
    {
     "name": "stdout",
     "output_type": "stream",
     "text": [
      "R^2: 0.8264552011206104\n",
      "Explained variance score: 0.8290522627920343\n",
      "Median absolute error: 3.425422599732456\n",
      "Mean squared error: 20.076837273851318\n",
      "Mean absolute errors: 3.740528999551297\n"
     ]
    }
   ],
   "source": [
    "from sklearn import  metrics\n",
    "print(\"R^2: {}\".format(metrics.r2_score(y_test, model2.predict(X_test)) ))\n",
    "print(\"Explained variance score: {}\".format( metrics.explained_variance_score(y_test, model2.predict(X_test)) ))\n",
    "print(\"Median absolute error: {}\".format( metrics.median_absolute_error(y_test, model2.predict(X_test)) ))\n",
    "print(\"Mean squared error: {}\".format( metrics.mean_squared_error(y_test, model2.predict(X_test)) ))\n",
    "print(\"Mean absolute errors: {}\".format(metrics.mean_absolute_error(y_test, model2.predict(X_test)) ))"
   ]
  },
  {
   "cell_type": "markdown",
   "metadata": {},
   "source": [
    "# Zadanie\n",
    "Wylicz powyższe miary dla wszytkich modeli:\n",
    "\n",
    "- regrsji linowej\n",
    "- regrsji wielomianowej stopnia 2\n",
    "- regrsji wielomianowej stopnia 3\n",
    "- regrsji wielomianowej stopnia 4\n",
    "- regrsji wielomianowej stopnia 5\n",
    "- regrsji wielomianowej stopnia 25"
   ]
  },
  {
   "cell_type": "code",
   "execution_count": 13,
   "metadata": {
    "collapsed": false
   },
   "outputs": [
    {
     "name": "stdout",
     "output_type": "stream",
     "text": [
      "LR\n",
      "R^2: 0.46706321111690996\n",
      "Explained variance score: 0.4738070357306048\n",
      "Median absolute error: 5.718272036611102\n",
      "Mean squared error: 61.65373584656222\n",
      "Mean absolute errors: 6.595730512891185\n",
      "PR2\n",
      "R^2: 0.8264552011206104\n",
      "Explained variance score: 0.8290522627920343\n",
      "Median absolute error: 3.425422599732456\n",
      "Mean squared error: 20.076837273851318\n",
      "Mean absolute errors: 3.740528999551297\n",
      "PR3\n",
      "R^2: 0.9802169611576174\n",
      "Explained variance score: 0.9802293654101067\n",
      "Median absolute error: 1.1793125374632871\n",
      "Mean squared error: 2.2886358691557716\n",
      "Mean absolute errors: 1.2303382738765067\n",
      "PR4\n",
      "R^2: 0.9912562632986054\n",
      "Explained variance score: 0.9913203981775334\n",
      "Median absolute error: 0.6912626677471869\n",
      "Mean squared error: 1.0115346587903422\n",
      "Mean absolute errors: 0.8229530747257222\n",
      "PR5\n",
      "R^2: 0.9914098581817828\n",
      "Explained variance score: 0.9914950433889631\n",
      "Median absolute error: 0.6928035271693465\n",
      "Mean squared error: 0.9937657628305472\n",
      "Mean absolute errors: 0.8174808548476173\n",
      "PR6\n",
      "R^2: 0.9902034565818014\n",
      "Explained variance score: 0.9902217479132077\n",
      "Median absolute error: 0.5711412573476116\n",
      "Mean squared error: 1.1333304675416023\n",
      "Mean absolute errors: 0.7843776523505583\n",
      "PR25\n",
      "R^2: 0.9907159173852257\n",
      "Explained variance score: 0.9907277887090159\n",
      "Median absolute error: 0.5006167472257095\n",
      "Mean squared error: 1.0740455323201972\n",
      "Mean absolute errors: 0.784683611730592\n"
     ]
    }
   ],
   "source": [
    "models = []\n",
    "models.append(('LR', linear_model.LinearRegression()))\n",
    "models.append(('PR2', make_pipeline(PolynomialFeatures(2), linear_model.LinearRegression()) ))\n",
    "models.append(('PR3', make_pipeline(PolynomialFeatures(3), linear_model.LinearRegression()) ))\n",
    "models.append(('PR4', make_pipeline(PolynomialFeatures(4), linear_model.LinearRegression()) ))\n",
    "models.append(('PR5', make_pipeline(PolynomialFeatures(5), linear_model.LinearRegression()) ))\n",
    "models.append(('PR6', make_pipeline(PolynomialFeatures(6), linear_model.LinearRegression()) ))\n",
    "models.append(('PR25', make_pipeline(PolynomialFeatures(25), linear_model.LinearRegression()) ))\n",
    "\n",
    "for name, model in models:\n",
    "    print(name)\n",
    "    model.fit(X_train, y_train)\n",
    "    print(\"R^2: {}\".format(metrics.r2_score(y_test, model.predict(X_test)) ))\n",
    "    print(\"Explained variance score: {}\".format( metrics.explained_variance_score(y_test, model.predict(X_test)) ))\n",
    "    print(\"Median absolute error: {}\".format( metrics.median_absolute_error(y_test, model.predict(X_test)) ))\n",
    "    print(\"Mean squared error: {}\".format( metrics.mean_squared_error(y_test, model.predict(X_test)) ))\n",
    "    print(\"Mean absolute errors: {}\".format(metrics.mean_absolute_error(y_test, model.predict(X_test)) ))"
   ]
  },
  {
   "cell_type": "code",
   "execution_count": null,
   "metadata": {
    "collapsed": true
   },
   "outputs": [],
   "source": []
  },
  {
   "cell_type": "code",
   "execution_count": null,
   "metadata": {
    "collapsed": true
   },
   "outputs": [],
   "source": []
  },
  {
   "cell_type": "code",
   "execution_count": null,
   "metadata": {
    "collapsed": true
   },
   "outputs": [],
   "source": []
  }
 ],
 "metadata": {
  "kernelspec": {
   "display_name": "Python 3",
   "language": "python",
   "name": "python3"
  },
  "language_info": {
   "codemirror_mode": {
    "name": "ipython",
    "version": 3
   },
   "file_extension": ".py",
   "mimetype": "text/x-python",
   "name": "python",
   "nbconvert_exporter": "python",
   "pygments_lexer": "ipython3",
   "version": "3.6.0"
  }
 },
 "nbformat": 4,
 "nbformat_minor": 0
}
