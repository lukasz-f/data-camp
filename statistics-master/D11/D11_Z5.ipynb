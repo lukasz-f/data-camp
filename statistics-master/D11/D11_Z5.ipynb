{
 "cells": [
  {
   "cell_type": "markdown",
   "metadata": {},
   "source": [
    "# Cross validation"
   ]
  },
  {
   "cell_type": "code",
   "execution_count": 20,
   "metadata": {
    "collapsed": true
   },
   "outputs": [],
   "source": [
    "import numpy as np\n",
    "import pandas as pd\n",
    "import scipy.stats as stats\n",
    "import sklearn.linear_model as lm\n",
    "from sklearn import datasets, linear_model\n",
    "import matplotlib.pyplot as plt\n",
    "\n",
    "from sklearn.preprocessing import PolynomialFeatures\n",
    "from sklearn.pipeline import make_pipeline\n",
    "\n",
    "from sklearn import  metrics"
   ]
  },
  {
   "cell_type": "markdown",
   "metadata": {},
   "source": [
    "Rozważmy następujący zbiór punktów:"
   ]
  },
  {
   "cell_type": "code",
   "execution_count": 21,
   "metadata": {},
   "outputs": [
    {
     "data": {
      "image/png": "[encoded data removed]",
      "text/plain": [
       "<matplotlib.figure.Figure at 0x10a2f87f0>"
      ]
     },
     "metadata": {},
     "output_type": "display_data"
    }
   ],
   "source": [
    "x = stats.uniform(0,3).rvs(100)\n",
    "f = lambda x: ((x*2-1)*(x**2-2)*(x-2)+3)\n",
    "y = f(x) + stats.norm(0,2).rvs(len(x))\n",
    "plt.plot(x, y, 'ok', ms=10);\n",
    "plt.show()"
   ]
  },
  {
   "cell_type": "code",
   "execution_count": 22,
   "metadata": {
    "collapsed": true
   },
   "outputs": [],
   "source": [
    "x=np.vstack(x)"
   ]
  },
  {
   "cell_type": "markdown",
   "metadata": {},
   "source": [
    "# k-fold"
   ]
  },
  {
   "cell_type": "code",
   "execution_count": 23,
   "metadata": {},
   "outputs": [
    {
     "data": {
      "text/plain": [
       "3"
      ]
     },
     "execution_count": 23,
     "metadata": {},
     "output_type": "execute_result"
    }
   ],
   "source": [
    "from sklearn.model_selection import KFold, cross_val_score\n",
    "kf = KFold(n_splits=3)\n",
    "kf.get_n_splits(x)"
   ]
  },
  {
   "cell_type": "code",
   "execution_count": 24,
   "metadata": {},
   "outputs": [
    {
     "name": "stdout",
     "output_type": "stream",
     "text": [
      "0.631333078793\n",
      "0.797669207287\n",
      "0.731725956491\n",
      "[0.63133307879302336, 0.79766920728740298, 0.73172595649060912]\n"
     ]
    }
   ],
   "source": [
    "scores = list()\n",
    "model2 = make_pipeline(PolynomialFeatures(2), linear_model.LinearRegression())\n",
    "for train_index, test_index in kf.split(x):\n",
    "    #print(\"TRAIN:\", train_index, \"TEST:\", test_index)\n",
    "    X_train, X_test = x[train_index], x[test_index]\n",
    "    y_train, y_test = y[train_index], y[test_index]\n",
    "    scores.append(model2.fit(X_train, y_train).score(X_test, y_test))\n",
    "    print(model2.fit(X_train, y_train).score(X_test, y_test))\n",
    "print(scores)"
   ]
  },
  {
   "cell_type": "code",
   "execution_count": 25,
   "metadata": {},
   "outputs": [
    {
     "data": {
      "text/plain": [
       "[0.63133307879302336, 0.79766920728740298, 0.73172595649060912]"
      ]
     },
     "execution_count": 25,
     "metadata": {},
     "output_type": "execute_result"
    }
   ],
   "source": [
    "kfold = KFold(n_splits=3)\n",
    "[model2.fit(x[train], y[train]).score(x[test], y[test]) for train, test in kfold.split(x)]"
   ]
  },
  {
   "cell_type": "markdown",
   "metadata": {},
   "source": [
    "# cross_val_score"
   ]
  },
  {
   "cell_type": "code",
   "execution_count": 26,
   "metadata": {},
   "outputs": [
    {
     "data": {
      "text/plain": [
       "array([ 0.63133308,  0.79766921,  0.73172596])"
      ]
     },
     "execution_count": 26,
     "metadata": {},
     "output_type": "execute_result"
    }
   ],
   "source": [
    "from sklearn.model_selection import cross_val_score\n",
    "cross_val_score(model2, x, y, cv=kfold)"
   ]
  },
  {
   "cell_type": "code",
   "execution_count": 27,
   "metadata": {},
   "outputs": [
    {
     "data": {
      "text/plain": [
       "array([ 0.63133308,  0.79766921,  0.73172596])"
      ]
     },
     "execution_count": 27,
     "metadata": {},
     "output_type": "execute_result"
    }
   ],
   "source": [
    "cross_val_score(model2, x, y, cv=kfold, scoring='r2')"
   ]
  },
  {
   "cell_type": "code",
   "execution_count": 28,
   "metadata": {},
   "outputs": [
    {
     "data": {
      "text/plain": [
       "array([-2.18232118, -2.93943296, -3.06540765])"
      ]
     },
     "execution_count": 28,
     "metadata": {},
     "output_type": "execute_result"
    }
   ],
   "source": [
    "cross_val_score(model2, x, y, cv=kfold, scoring='neg_median_absolute_error')"
   ]
  },
  {
   "cell_type": "markdown",
   "metadata": {},
   "source": [
    "# cross_val_predict"
   ]
  },
  {
   "cell_type": "code",
   "execution_count": 29,
   "metadata": {},
   "outputs": [
    {
     "data": {
      "text/plain": [
       "array([  1.78182881,   4.14614283,   7.80649812,   0.77558457,\n",
       "         4.4216268 ,   0.72265632,   1.03237843,   0.78078055,\n",
       "         1.4128507 ,   2.94539596,   3.75737334,  12.58266087,\n",
       "         1.03635428,   0.94951972,   7.1980911 ,   3.29115024,\n",
       "        15.4994039 ,   2.19990243,   1.83544664,   2.03718273,\n",
       "        25.95968623,   5.05114263,   0.72936019,   1.97113988,\n",
       "         6.42708138,   3.01503279,   2.68700077,   1.51295871,\n",
       "         7.14931551,  14.69578642,  20.74663172,   0.72031029,\n",
       "        18.63752992,   6.86940112,   0.84949585,   3.42798195,\n",
       "         0.86578432,   1.13766853,   3.11498507,   1.25582159,\n",
       "         3.44985286,   1.57895526,  12.71741989,   1.6918542 ,\n",
       "         9.39468228,   0.97672869,   1.3077114 ,   3.2394753 ,\n",
       "         2.95018918,   7.78692821,   1.88269087,   5.65743794,\n",
       "        10.73755397,   8.87814163,   4.17419423,   4.71781312,\n",
       "         0.75261455,   0.84201767,   1.75110668,  11.9729327 ,\n",
       "        25.67075062,  24.80577243,  22.59556896,   9.47601238,\n",
       "        16.53662546,   6.41900918,   8.03767254,   1.99562214,\n",
       "         7.82499783,   1.07968934,   0.67582171,   0.83578433,\n",
       "         2.45235647,   4.66055905,   2.18924851,   3.57417057,\n",
       "         2.24880914,  22.44079239,   0.9065156 ,  23.57204379,\n",
       "         3.273231  ,   1.18962237,  20.86903137,   8.92931316,\n",
       "        13.19435019,   0.65792341,   8.27129298,   2.03141554,\n",
       "         7.53793214,  17.14537709,   7.63480458,   4.57338587,\n",
       "        12.30679299,   0.96904109,  11.90823225,  27.54233566,\n",
       "         6.95673546,   1.71734836,   0.6852069 ,   0.96624359])"
      ]
     },
     "execution_count": 29,
     "metadata": {},
     "output_type": "execute_result"
    }
   ],
   "source": [
    "from sklearn.model_selection import cross_val_predict\n",
    "cross_val_predict(model2, x, y, cv=kfold)"
   ]
  },
  {
   "cell_type": "markdown",
   "metadata": {},
   "source": [
    "# Zadanie \n",
    "Wykonaj k-fold cross-validation dla:\n",
    "\n",
    "- regrsji linowej\n",
    "- regrsji wielomianowej stopnia 2\n",
    "- regrsji wielomianowej stopnia 3\n",
    "- regrsji wielomianowej stopnia 4\n",
    "- regrsji wielomianowej stopnia 5\n",
    "- regrsji wielomianowej stopnia 25\n",
    "\n",
    "oraz podaj uśrednione wartości dla każdej z nich.\n"
   ]
  },
  {
   "cell_type": "code",
   "execution_count": 30,
   "metadata": {
    "scrolled": true
   },
   "outputs": [
    {
     "name": "stdout",
     "output_type": "stream",
     "text": [
      "LR\n",
      "Score: [ 0.118566    0.42774901  0.49857025]\n",
      "Maen score: 0.3482950873103496\n",
      "PR2\n",
      "Score: [ 0.63133308  0.79766921  0.73172596]\n",
      "Maen score: 0.7202427475236785\n",
      "PR3\n",
      "Score: [ 0.8678859   0.96425868  0.95503291]\n",
      "Maen score: 0.929059161724359\n",
      "PR4\n",
      "Score: [ 0.87500397  0.96209491  0.96176474]\n",
      "Maen score: 0.9329545398951146\n",
      "PR5\n",
      "Score: [ 0.87572383  0.96292097  0.95999393]\n",
      "Maen score: 0.9328795760763496\n",
      "PR6\n",
      "Score: [ 0.87823983  0.96428132  0.93834448]\n",
      "Maen score: 0.926955209874439\n",
      "PR25\n",
      "Score: [ 0.84778377  0.94477555  0.25073173]\n",
      "Maen score: 0.6810960666707556\n"
     ]
    }
   ],
   "source": [
    "kfold = KFold(n_splits=3)\n",
    "\n",
    "models = []\n",
    "models.append(('LR', linear_model.LinearRegression()))\n",
    "models.append(('PR2', make_pipeline(PolynomialFeatures(2), linear_model.LinearRegression())))\n",
    "models.append(('PR3', make_pipeline(PolynomialFeatures(3), linear_model.LinearRegression())))\n",
    "models.append(('PR4', make_pipeline(PolynomialFeatures(4), linear_model.LinearRegression())))\n",
    "models.append(('PR5', make_pipeline(PolynomialFeatures(5), linear_model.LinearRegression())))\n",
    "models.append(('PR6', make_pipeline(PolynomialFeatures(6), linear_model.LinearRegression())))\n",
    "models.append(('PR25', make_pipeline(PolynomialFeatures(25), linear_model.LinearRegression())))\n",
    "for name, model in models:\n",
    "    print(name)\n",
    "    print(\"Score: {}\".format(cross_val_score(model, x, y, cv=kfold)))\n",
    "    print(\"Maen score: {}\".format(np.mean(cross_val_score(model, x, y, cv=kfold))))"
   ]
  },
  {
   "cell_type": "code",
   "execution_count": 31,
   "metadata": {
    "collapsed": true
   },
   "outputs": [],
   "source": []
  },
  {
   "cell_type": "code",
   "execution_count": null,
   "metadata": {
    "collapsed": true
   },
   "outputs": [],
   "source": []
  }
 ],
 "metadata": {
  "kernelspec": {
   "display_name": "Python 3",
   "language": "python",
   "name": "python3"
  },
  "language_info": {
   "codemirror_mode": {
    "name": "ipython",
    "version": 3
   },
   "file_extension": ".py",
   "mimetype": "text/x-python",
   "name": "python",
   "nbconvert_exporter": "python",
   "pygments_lexer": "ipython3",
   "version": "3.6.0"
  }
 },
 "nbformat": 4,
 "nbformat_minor": 2
}
