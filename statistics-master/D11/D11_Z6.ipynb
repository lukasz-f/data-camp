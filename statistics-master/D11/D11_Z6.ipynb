{
 "cells": [
  {
   "cell_type": "markdown",
   "metadata": {},
   "source": [
    "# Cross validation"
   ]
  },
  {
   "cell_type": "code",
   "execution_count": 1,
   "metadata": {
    "collapsed": true
   },
   "outputs": [],
   "source": [
    "import numpy as np\n",
    "import matplotlib.pyplot as plt\n",
    "from sklearn import model_selection\n",
    "import scipy.stats as stats\n",
    "import sklearn.linear_model as lm\n",
    "from sklearn import datasets, linear_model\n",
    "from sklearn.preprocessing import PolynomialFeatures\n",
    "from sklearn.pipeline import make_pipeline"
   ]
  },
  {
   "cell_type": "markdown",
   "metadata": {},
   "source": [
    "Rozważmy następujący zbiór punktów:"
   ]
  },
  {
   "cell_type": "code",
   "execution_count": 2,
   "metadata": {
    "collapsed": false
   },
   "outputs": [
    {
     "data": {
      "image/png": "[encoded data removed]",
      "text/plain": [
       "<matplotlib.figure.Figure at 0xa2c8186208>"
      ]
     },
     "metadata": {},
     "output_type": "display_data"
    }
   ],
   "source": [
    "f = lambda x: ((x*2-1)*(x**2-2)*(x-2)+3)\n",
    "x = stats.uniform(0,3).rvs(100)\n",
    "y = f(x) + stats.norm(0,1).rvs(len(x))\n",
    "x=np.vstack(x)\n",
    "plt.plot(x, y, 'ok');\n",
    "plt.show()"
   ]
  },
  {
   "cell_type": "markdown",
   "metadata": {},
   "source": [
    "# Zadanie \n",
    "Wykonaj k-fold cross-validation dla:\n",
    "\n",
    "- regrsji linowej\n",
    "- regrsji wielomianowej stopnia 2\n",
    "- regrsji wielomianowej stopnia 3\n",
    "- regrsji wielomianowej stopnia 4\n",
    "- regrsji wielomianowej stopnia 5\n",
    "- regrsji wielomianowej stopnia 25\n",
    "\n",
    "oraz podaj uśrednione wartości dla każdej z nich oraz wykonaj barplot.\n",
    "\n",
    "<b>Jaki jest optymalny stopień wielomianu?</b>\n"
   ]
  },
  {
   "cell_type": "code",
   "execution_count": 3,
   "metadata": {
    "collapsed": true
   },
   "outputs": [],
   "source": [
    "# prepare models\n",
    "models = []\n",
    "models.append(('LR', linear_model.LinearRegression()))\n",
    "models.append(('PR2', make_pipeline(PolynomialFeatures(2), linear_model.LinearRegression()) ))\n",
    "models.append(('PR3', make_pipeline(PolynomialFeatures(3), linear_model.LinearRegression()) ))\n",
    "models.append(('PR4', make_pipeline(PolynomialFeatures(4), linear_model.LinearRegression()) ))\n",
    "models.append(('PR5', make_pipeline(PolynomialFeatures(5), linear_model.LinearRegression()) ))\n",
    "models.append(('PR6', make_pipeline(PolynomialFeatures(6), linear_model.LinearRegression()) ))\n",
    "models.append(('PR7', make_pipeline(PolynomialFeatures(7), linear_model.LinearRegression()) ))\n",
    "\n",
    "# evaluate each model in turn\n",
    "results = []\n",
    "names = []\n",
    "scoring = 'neg_mean_absolute_error'\n",
    "#scoring = 'r2'"
   ]
  },
  {
   "cell_type": "code",
   "execution_count": 4,
   "metadata": {
    "collapsed": false
   },
   "outputs": [
    {
     "name": "stdout",
     "output_type": "stream",
     "text": [
      "LR: 0.433776 (0.210087)\n",
      "PR2: 0.714076 (0.187747)\n",
      "PR3: 0.957307 (0.050430)\n",
      "PR4: 0.977108 (0.027152)\n",
      "PR5: 0.976743 (0.027816)\n",
      "PR6: 0.975689 (0.028899)\n",
      "PR7: 0.974435 (0.031275)\n"
     ]
    }
   ],
   "source": [
    "seed = 7\n",
    "for name, model in models:\n",
    "    kfold = model_selection.KFold(n_splits=5, random_state=seed)\n",
    "    cv_results = model_selection.cross_val_score(model, x, y, cv=kfold)#, scoring=scoring)\n",
    "    results.append(cv_results)\n",
    "    names.append(name)\n",
    "    msg = \"%s: %f (%f)\" % (name, cv_results.mean(), cv_results.std())\n",
    "    print(msg)\n",
    "\n"
   ]
  },
  {
   "cell_type": "code",
   "execution_count": 5,
   "metadata": {
    "collapsed": false
   },
   "outputs": [
    {
     "data": {
      "image/png": "[encoded data removed]",
      "text/plain": [
       "<matplotlib.figure.Figure at 0xa2c85c5208>"
      ]
     },
     "metadata": {},
     "output_type": "display_data"
    }
   ],
   "source": [
    "# boxplot algorithm comparison\n",
    "fig = plt.figure()\n",
    "fig.suptitle('Algorithm Comparison')\n",
    "ax = fig.add_subplot(111)\n",
    "plt.boxplot(results)\n",
    "ax.set_xticklabels(names)\n",
    "plt.show()  "
   ]
  },
  {
   "cell_type": "markdown",
   "metadata": {
    "collapsed": false
   },
   "source": [
    "# Zdanie \n",
    "Dobierz optymalny stopień wielomianu za pomocą metody <tt>GridSearchCV</tt>. "
   ]
  },
  {
   "cell_type": "code",
   "execution_count": 6,
   "metadata": {
    "collapsed": false
   },
   "outputs": [
    {
     "data": {
      "text/plain": [
       "{'polynomialfeatures__degree': 4}"
      ]
     },
     "execution_count": 6,
     "metadata": {},
     "output_type": "execute_result"
    }
   ],
   "source": [
    "from sklearn.model_selection import GridSearchCV\n",
    "grid = GridSearchCV(make_pipeline(PolynomialFeatures(degree=2), linear_model.LinearRegression()),\n",
    "                    param_grid={'polynomialfeatures__degree': [1, 2, 3, 4, 5, 6, 7]},\n",
    "                    cv=5,\n",
    "                    refit=False)\n",
    "#make_pipeline(PolynomialFeatures(degree=2), linear_model.LinearRegression()).get_params().keys()\n",
    "grid.fit(x, y)\n",
    "grid.best_params_"
   ]
  },
  {
   "cell_type": "code",
   "execution_count": null,
   "metadata": {
    "collapsed": true
   },
   "outputs": [],
   "source": []
  }
 ],
 "metadata": {
  "kernelspec": {
   "display_name": "Python 3",
   "language": "python",
   "name": "python3"
  },
  "language_info": {
   "codemirror_mode": {
    "name": "ipython",
    "version": 3
   },
   "file_extension": ".py",
   "mimetype": "text/x-python",
   "name": "python",
   "nbconvert_exporter": "python",
   "pygments_lexer": "ipython3",
   "version": "3.6.0"
  }
 },
 "nbformat": 4,
 "nbformat_minor": 2
}
