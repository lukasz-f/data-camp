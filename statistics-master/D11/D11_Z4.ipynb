{
 "cells": [
  {
   "cell_type": "markdown",
   "metadata": {},
   "source": [
    "# Cross validation\n"
   ]
  },
  {
   "cell_type": "code",
   "execution_count": 1,
   "metadata": {
    "collapsed": true
   },
   "outputs": [],
   "source": [
    "import numpy as np\n",
    "import pandas as pd\n",
    "import scipy.stats as stats\n",
    "import sklearn.linear_model as lm\n",
    "from sklearn import datasets, linear_model\n",
    "import matplotlib.pyplot as plt\n",
    "\n",
    "from sklearn.preprocessing import PolynomialFeatures\n",
    "from sklearn.pipeline import make_pipeline\n",
    "\n",
    "from sklearn import  metrics"
   ]
  },
  {
   "cell_type": "markdown",
   "metadata": {},
   "source": [
    "Rozważmy następujący zbiór punktów:"
   ]
  },
  {
   "cell_type": "code",
   "execution_count": 2,
   "metadata": {},
   "outputs": [
    {
     "data": {
      "image/png": "[encoded data removed]",
      "text/plain": [
       "<matplotlib.figure.Figure at 0x10a12f710>"
      ]
     },
     "metadata": {},
     "output_type": "display_data"
    }
   ],
   "source": [
    "np.random.seed(0)\n",
    "x = stats.uniform(0,3).rvs(100)\n",
    "f = lambda x: ((x*2-1)*(x**2-2)*(x-2)+3)\n",
    "y = f(x) + stats.norm(0,2).rvs(len(x))\n",
    "plt.plot(x, y, 'ok', ms=10);\n",
    "plt.show()"
   ]
  },
  {
   "cell_type": "markdown",
   "metadata": {},
   "source": [
    "# Zadanie\n",
    "Podziel zbiór danych na część testową i treningową. \n",
    "Naucz model na części treningowej i ocen wyniki na części testowej."
   ]
  },
  {
   "cell_type": "code",
   "execution_count": 3,
   "metadata": {},
   "outputs": [
    {
     "name": "stdout",
     "output_type": "stream",
     "text": [
      "(60,) (60,)\n",
      "(40,) (40,)\n"
     ]
    }
   ],
   "source": [
    "from sklearn.model_selection import train_test_split\n",
    "X_train, X_test, y_train, y_test = train_test_split(x, y, test_size=0.4, random_state=0)\n",
    "\n",
    "print(X_train.shape, y_train.shape)\n",
    "print(X_test.shape, y_test.shape)"
   ]
  },
  {
   "cell_type": "code",
   "execution_count": 4,
   "metadata": {},
   "outputs": [],
   "source": [
    "X_train=np.vstack(X_train)\n",
    "X_test=np.vstack(X_test)"
   ]
  },
  {
   "cell_type": "code",
   "execution_count": 5,
   "metadata": {},
   "outputs": [
    {
     "name": "stderr",
     "output_type": "stream",
     "text": [
      "/Library/Frameworks/Python.framework/Versions/3.6/lib/python3.6/site-packages/scipy/linalg/basic.py:1018: RuntimeWarning: internal gelsd driver lwork query error, required iwork dimension not returned. This is likely the result of LAPACK bug 0038, fixed in LAPACK 3.2.2 (released July 21, 2010). Falling back to 'gelss' driver.\n",
      "  warnings.warn(mesg, RuntimeWarning)\n"
     ]
    },
    {
     "data": {
      "text/plain": [
       "array([  2.03752081e+00,   2.41873058e+00,   4.77113325e+00,\n",
       "         1.65122037e+00,   5.06987020e+00,   9.49494596e+00,\n",
       "         5.76740037e+00,   4.84330161e+00,   8.21785491e-01,\n",
       "         1.23469853e+00,   3.07851187e+00,   2.30733336e+00,\n",
       "         3.21367117e-02,   2.24027258e+01,   1.99472980e+01,\n",
       "         2.08540739e-01,   1.13426845e+00,   2.64419718e+00,\n",
       "         3.65901867e+00,   2.53363840e+01,   4.34864749e+00,\n",
       "         6.79933935e+00,   2.98088540e+00,   1.25904508e+00,\n",
       "         7.40151963e+00,  -1.45451909e-02,   7.64762438e-01,\n",
       "         6.37150870e+00,   4.22028106e+00,   9.14653122e-02,\n",
       "         1.69928713e+00,  -1.72567377e-02,  -1.77639932e-02,\n",
       "         1.63331701e+01,   7.79005579e-01,   2.38500407e+01,\n",
       "         1.27414714e+01,   6.66728173e+00,   2.15619138e+00,\n",
       "         1.06437843e+01])"
      ]
     },
     "execution_count": 5,
     "metadata": {},
     "output_type": "execute_result"
    }
   ],
   "source": [
    "model2 = make_pipeline(PolynomialFeatures(2), linear_model.LinearRegression())\n",
    "model2.fit(X_train, y_train)\n",
    "model2.predict(X_test)"
   ]
  },
  {
   "cell_type": "code",
   "execution_count": 6,
   "metadata": {},
   "outputs": [
    {
     "name": "stdout",
     "output_type": "stream",
     "text": [
      "Explained variance score: 0.643655521453627\n",
      "Explained variance score: 0.643655521453627\n",
      "Median absolute error: 2.971012251464838\n",
      "Mean squared error: 16.55324346390943\n",
      "Mean absolute errors: 3.5218129946646655\n"
     ]
    }
   ],
   "source": [
    "print(\"Explained variance score: {}\".format( metrics.explained_variance_score(y_test, model2.predict(X_test)) ))\n",
    "print(\"Explained variance score: {}\".format( metrics.explained_variance_score(y_test, model2.predict(X_test)) ))\n",
    "print(\"Median absolute error: {}\".format( metrics.median_absolute_error(y_test, model2.predict(X_test)) ))\n",
    "print(\"Mean squared error: {}\".format( metrics.mean_squared_error(y_test, model2.predict(X_test)) ))\n",
    "print(\"Mean absolute errors: {}\".format(metrics.mean_absolute_error(y_test, model2.predict(X_test)) ))"
   ]
  },
  {
   "cell_type": "markdown",
   "metadata": {},
   "source": [
    "# Zadanie\n",
    "Wylicz powyższe miary dla wszytkich modeli:\n",
    "\n",
    "- regrsji linowej\n",
    "- regrsji wielomianowej stopnia 2\n",
    "- regrsji wielomianowej stopnia 3\n",
    "- regrsji wielomianowej stopnia 4\n",
    "- regrsji wielomianowej stopnia 5\n",
    "- regrsji wielomianowej stopnia 25"
   ]
  },
  {
   "cell_type": "code",
   "execution_count": 9,
   "metadata": {},
   "outputs": [
    {
     "name": "stdout",
     "output_type": "stream",
     "text": [
      "LR\n",
      "Explained variance score: 0.39143852481644703\n",
      "Median absolute error: 4.612200583943543\n",
      "Mean squared error: 28.096512777430853\n",
      "Mean absolute errors: 4.472470014802465\n",
      "R^2: 0.3905002651140672\n",
      "PR2\n",
      "Explained variance score: 0.643655521453627\n",
      "Median absolute error: 2.971012251464838\n",
      "Mean squared error: 16.55324346390943\n",
      "Mean absolute errors: 3.5218129946646655\n",
      "R^2: 0.6409092622035476\n",
      "PR3\n",
      "Explained variance score: 0.897970185736609\n",
      "Median absolute error: 1.9906716206633894\n",
      "Mean squared error: 4.876196079120254\n",
      "Mean absolute errors: 1.8353473677266738\n",
      "R^2: 0.8942203169119629\n",
      "PR4\n",
      "Explained variance score: 0.9190463666133722\n",
      "Median absolute error: 1.4442102914656663\n",
      "Mean squared error: 3.862465206027319\n",
      "Mean absolute errors: 1.6511545528804938\n",
      "R^2: 0.9162112559046534\n",
      "PR5\n",
      "Explained variance score: 0.9186173019878832\n",
      "Median absolute error: 1.4801144120775196\n",
      "Mean squared error: 3.8773350249594416\n",
      "Mean absolute errors: 1.6588050070221285\n",
      "R^2: 0.9158886838200418\n",
      "PR6\n",
      "Explained variance score: 0.9174466236123288\n",
      "Median absolute error: 1.3955523130602057\n",
      "Mean squared error: 3.927891634380969\n",
      "Mean absolute errors: 1.6733149209482174\n",
      "R^2: 0.9147919555433602\n",
      "PR25\n",
      "Explained variance score: 0.9026261834021494\n",
      "Median absolute error: 1.5643885599808032\n",
      "Mean squared error: 4.5793261144636705\n",
      "Mean absolute errors: 1.7456435546635682\n",
      "R^2: 0.9006603390665675\n"
     ]
    }
   ],
   "source": [
    "models = []\n",
    "models.append(('LR', linear_model.LinearRegression()))\n",
    "models.append(('PR2', make_pipeline(PolynomialFeatures(2), linear_model.LinearRegression())))\n",
    "models.append(('PR3', make_pipeline(PolynomialFeatures(3), linear_model.LinearRegression())))\n",
    "models.append(('PR4', make_pipeline(PolynomialFeatures(4), linear_model.LinearRegression())))\n",
    "models.append(('PR5', make_pipeline(PolynomialFeatures(5), linear_model.LinearRegression())))\n",
    "models.append(('PR6', make_pipeline(PolynomialFeatures(6), linear_model.LinearRegression())))\n",
    "models.append(('PR25', make_pipeline(PolynomialFeatures(25), linear_model.LinearRegression())))\n",
    "for name, model in models:\n",
    "    print(name)\n",
    "    model.fit(X_train, y_train)\n",
    "    print(\"Explained variance score: {}\".format( metrics.explained_variance_score(y_test, model.predict(X_test)) ))\n",
    "    print(\"Median absolute error: {}\".format( metrics.median_absolute_error(y_test, model.predict(X_test)) ))\n",
    "    print(\"Mean squared error: {}\".format( metrics.mean_squared_error(y_test, model.predict(X_test)) ))\n",
    "    print(\"Mean absolute errors: {}\".format(metrics.mean_absolute_error(y_test, model.predict(X_test)) ))\n",
    "    print(\"R^2: {}\".format(metrics.r2_score(y_test, model.predict(X_test))))"
   ]
  },
  {
   "cell_type": "code",
   "execution_count": null,
   "metadata": {
    "collapsed": true
   },
   "outputs": [],
   "source": []
  }
 ],
 "metadata": {
  "kernelspec": {
   "display_name": "Python 3",
   "language": "python",
   "name": "python3"
  },
  "language_info": {
   "codemirror_mode": {
    "name": "ipython",
    "version": 3
   },
   "file_extension": ".py",
   "mimetype": "text/x-python",
   "name": "python",
   "nbconvert_exporter": "python",
   "pygments_lexer": "ipython3",
   "version": "3.6.0"
  }
 },
 "nbformat": 4,
 "nbformat_minor": 2
}
