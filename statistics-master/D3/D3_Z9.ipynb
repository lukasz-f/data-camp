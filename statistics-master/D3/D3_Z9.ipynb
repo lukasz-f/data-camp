{
 "cells": [
  {
   "cell_type": "markdown",
   "metadata": {},
   "source": [
    "# Zadanie\n",
    "\n",
    "Weźmy na przykład przypadek, w którym chcemy porównać dokładność dwóch metod. Chcemy określić, czy dokładność obu metod jest równoważna, czy też jedna metoda jest lepsza.\n",
    "\n",
    "Mamy następujące wyniki:\n",
    "Próbka 1: \n",
    "\n",
    "$[20.7, 20.3, 20.3, 20.3, 20.7, 19.9, 19.9, 19.9, 20.3, 20.3, 19.7, 20.3]$\n",
    "\n",
    "Próbka 2: \n",
    "\n",
    "$[19.7, 19.4, 20.1, 18.6, 18.8, 20.2, 18.7, 19.0]$\n"
   ]
  },
  {
   "cell_type": "code",
   "execution_count": 10,
   "metadata": {
    "collapsed": true
   },
   "outputs": [],
   "source": [
    "import numpy as np\n",
    "import matplotlib.pyplot as plt\n",
    "from scipy import stats\n",
    "from scipy import integrate\n",
    "import seaborn as sns"
   ]
  },
  {
   "cell_type": "code",
   "execution_count": 11,
   "metadata": {
    "collapsed": true
   },
   "outputs": [],
   "source": [
    "method1 = np.array([20.7, 20.3, 20.3, 20.3, 20.7, 19.9, 19.9, 19.9, 20.3, 20.3, 19.7, 20.3])\n",
    "method2 = np.array([ 19.7, 19.4, 20.1, 18.6, 18.8, 20.2, 18.7, 19. ])"
   ]
  },
  {
   "cell_type": "markdown",
   "metadata": {},
   "source": [
    "Jeżeli $(X_1,\\ldots,X_n)$ jest próbką prostą z rozkładu $N(\\mu_1,\\sigma_1^2)$, a $(Y_1,\\ldots,Y_m)$ jest niezależną próbką prostą z rozkładu $N(\\mu_2,\\sigma_2^2)$ to zmienna losowa\n",
    "$$\n",
    "F=\\frac{ \\frac{1}{n-1}  \\sum_{i=1}^{n} (X_i - \\bar X)^2 }{\\frac{1}{m-1}  \\sum_{i=1}^{m} (X_i - \\bar X)^2 }\n",
    "$$\n",
    "gdzie\n",
    "$$\n",
    "\\bar X = \\frac{1}{n} \\sum_{i=1}^{n} X_i, \\quad \\bar Y = \\frac{1}{m} \\sum_{i=1}^{m} Y_i\n",
    "$$\n",
    "ma rozkład $F(m-1,n-1)$ (F-Snedecora)."
   ]
  },
  {
   "cell_type": "markdown",
   "metadata": {},
   "source": [
    "Definiujemy zmienną losową o rozkładzie F-Snedecora $F(m-1,n-1)$"
   ]
  },
  {
   "cell_type": "code",
   "execution_count": null,
   "metadata": {
    "collapsed": false
   },
   "outputs": [],
   "source": []
  },
  {
   "cell_type": "markdown",
   "metadata": {},
   "source": [
    "Definiujemy statystykę"
   ]
  },
  {
   "cell_type": "code",
   "execution_count": null,
   "metadata": {
    "collapsed": false
   },
   "outputs": [],
   "source": []
  },
  {
   "cell_type": "markdown",
   "metadata": {},
   "source": [
    "Liczymy wartość dystrybuanty w odpowiednim punkcie"
   ]
  },
  {
   "cell_type": "code",
   "execution_count": null,
   "metadata": {
    "collapsed": false
   },
   "outputs": [],
   "source": []
  },
  {
   "cell_type": "markdown",
   "metadata": {},
   "source": [
    "Zaznaczmy nasze wartości na wykresie gęstości i dystrybuanty rozkłady F "
   ]
  },
  {
   "cell_type": "code",
   "execution_count": null,
   "metadata": {
    "collapsed": false
   },
   "outputs": [],
   "source": []
  }
 ],
 "metadata": {
  "kernelspec": {
   "display_name": "Python 3",
   "language": "python",
   "name": "python3"
  },
  "language_info": {
   "codemirror_mode": {
    "name": "ipython",
    "version": 3
   },
   "file_extension": ".py",
   "mimetype": "text/x-python",
   "name": "python",
   "nbconvert_exporter": "python",
   "pygments_lexer": "ipython3",
   "version": "3.6.0"
  }
 },
 "nbformat": 4,
 "nbformat_minor": 2
}
