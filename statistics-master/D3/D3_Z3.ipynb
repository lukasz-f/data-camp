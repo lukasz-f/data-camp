{
 "cells": [
  {
   "cell_type": "markdown",
   "metadata": {},
   "source": [
    "# Rozkłady prawdopodobieństwa a testowanie hipotez\n",
    "\n",
    "Aby zilustrować związek pomiędzy <b> rozkładami prawdopodobieństwa</b> a <b> testowaniem hipotez </b>, rozważmy następujący problem:\n",
    "\n",
    "<ul>\n",
    "<li> Załóżmy, że mamy grę planszową, która zależy rzutu kostką. Oczywiście jak dostaniemy wynik $6$ to poruszamy się najszybciej. W danej grze $6$wypadła $51$ razy w ciągu $235$ rzutów. </li>\n",
    "<li> Jeśli kostka jest uczciwa, oczekiwalibyśmy, że $6$ wypadnie $235/6 =39.17$ razy. </li>\n",
    "<li> Czy kostka aby na pewno jest uczciwa? </li>\n",
    "</ul>"
   ]
  },
  {
   "cell_type": "code",
   "execution_count": 24,
   "metadata": {
    "collapsed": true
   },
   "outputs": [],
   "source": [
    "from scipy import stats\n",
    "import matplotlib.pyplot as plt\n",
    "import numpy as np"
   ]
  },
  {
   "cell_type": "markdown",
   "metadata": {},
   "source": [
    "Definiujemy zmienną losową o rozkładzie dwumianowym z parametrami $p=\\frac{1}{6}$ oraz $n=235$.\n",
    "\n",
    "Gdy zmienna losowa $X$ ma rozkład dwumianowy z parametrami $p$ i $n$, zapisujemy go jako $X \\thicksim B(n,p)$, a gęstość wyrażona jest wzorem:\n",
    "$$\n",
    "P(X = k) = {n \\choose k} p^k (1-p)^{n-k},\n",
    "$$\n",
    "gdzie\n",
    "$\n",
    "{n \\choose k} = \\frac{n!}{k!(n-k)!}.\n",
    "$"
   ]
  },
  {
   "cell_type": "markdown",
   "metadata": {},
   "source": [
    "# Zadanie \n",
    "Rozstrzygnij czy kostka jest symetryczna i wykonaj odpowiedni rysunek uwzględniając gęstość i dystrybuantę rozkładu dwumianowego."
   ]
  },
  {
   "cell_type": "markdown",
   "metadata": {},
   "source": [
    "Aby odpowiedzieć na to pytanie, możemy postępować w następujący sposób:\n",
    "<ul>\n",
    "<li> Skontrujmy rozkład dwumianowy z parametrami $n = 235$ i $p = \\frac{1}{6}$. </li>\n",
    "</ul>"
   ]
  },
  {
   "cell_type": "code",
   "execution_count": 63,
   "metadata": {
    "collapsed": false
   },
   "outputs": [],
   "source": []
  },
  {
   "cell_type": "markdown",
   "metadata": {},
   "source": [
    "<ul>\n",
    "<li> Zakładamy, że kostka jest uczciwa.</li> \n",
    "<li> Obliczymy prawdopodobieństwo wypadnięcia dokładnie $51$ razy $6$, $52$ razy i itd. Następnie dodajmy te wyniki. W ten sposób obliczy prawdopodobieństwo wypadnięcia dokładnie $51$ razy $6$ lub wyniku większego $P(X \\geq 51)$ </li>\n",
    "</ul>"
   ]
  },
  {
   "cell_type": "code",
   "execution_count": null,
   "metadata": {
    "collapsed": false
   },
   "outputs": [],
   "source": []
  }
 ],
 "metadata": {
  "kernelspec": {
   "display_name": "Python 3",
   "language": "python",
   "name": "python3"
  },
  "language_info": {
   "codemirror_mode": {
    "name": "ipython",
    "version": 3
   },
   "file_extension": ".py",
   "mimetype": "text/x-python",
   "name": "python",
   "nbconvert_exporter": "python",
   "pygments_lexer": "ipython3",
   "version": "3.6.0"
  }
 },
 "nbformat": 4,
 "nbformat_minor": 2
}
