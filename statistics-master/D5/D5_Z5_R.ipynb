{
 "cells": [
  {
   "cell_type": "markdown",
   "metadata": {},
   "source": [
    "# Zadanie (przedziały ufności)\n",
    "\n",
    "Wykonano pomiar liczby skrętów dla losowo wybranych odcinków przędzy o długości 1m, uzyskując wyniki: \n",
    "\n",
    "87, 102, 119, 81, 97, 93, 100, 114, 99, 100, 113, 93, 95, 85, 123, 99.\n",
    "\n",
    "Zakładając, że liczba skrętów odcinków  przędzy ma rozkład normalny, znaleźć $90\\%$-owe realizacje przedziałów ufności wariancji i odchylenia standardowego liczby skrętów całej partii przędzy.   "
   ]
  },
  {
   "cell_type": "code",
   "execution_count": 2,
   "metadata": {
    "collapsed": true
   },
   "outputs": [],
   "source": [
    "import matplotlib.pyplot as plt\n",
    "import numpy as np\n",
    "from scipy import stats\n",
    "from scipy import integrate"
   ]
  },
  {
   "cell_type": "code",
   "execution_count": 3,
   "metadata": {
    "collapsed": false
   },
   "outputs": [],
   "source": [
    "data=np.array([87, 102, 119, 81, 97, 93, 100, 114, 99, 100, 113, 93, 95, 85, 123, 99])"
   ]
  },
  {
   "cell_type": "markdown",
   "metadata": {},
   "source": [
    "Przedział ufności dla <b>nieznanego odchylenia standardowego $\\sigma$</b> populacji, w której <b>badana cecha ma rozkład $N(\\mu,\\sigma^2)$</b>, w przypadku gdy <b>zarówno $\\mu$ jak $\\sigma$ są nieznane</b>, na podstawie $n$--elementowej próby $X_1,\\ldots,X_n$ <b>$(n<50)$</b> wynosi\n",
    "\n",
    "$$\n",
    "\\left(\n",
    "g_1(\\alpha,n-1) \\cdot S^{*},\n",
    "g_2(\\alpha,n-1) \\cdot S^{*}\n",
    "\\right)\n",
    "$$\n",
    "\n",
    "gdzie \n",
    "\n",
    "$$\n",
    "g_1(\\alpha,n-1)=\\sqrt{\\frac{n-1}{\\chi^2(1-\\frac{1}{2} \\alpha,n-1)}} \\mbox{ oraz } g_1(\\alpha,n-1)=\\sqrt{\\frac{n-1}{\\chi^2(\\frac{1}{2} \\alpha,n-1)}}\n",
    "$$\n",
    "\n",
    "gdzie $\\chi^2(\\alpha,n)$ oznacza kwantyl rzędu $\\alpha$ o $n$ stopniach swobody rozkładu $\\chi^2$."
   ]
  },
  {
   "cell_type": "markdown",
   "metadata": {},
   "source": [
    "## Zdefiniujmy zmienną losową"
   ]
  },
  {
   "cell_type": "code",
   "execution_count": 4,
   "metadata": {
    "collapsed": false
   },
   "outputs": [
    {
     "name": "stdout",
     "output_type": "stream",
     "text": [
      "16\n"
     ]
    }
   ],
   "source": [
    "n=data.size\n",
    "print(n)\n",
    "X=stats.chi2(n-1)"
   ]
  },
  {
   "cell_type": "markdown",
   "metadata": {},
   "source": [
    "## Wylicz końce przedziałów"
   ]
  },
  {
   "cell_type": "code",
   "execution_count": 5,
   "metadata": {
    "collapsed": false
   },
   "outputs": [
    {
     "name": "stdout",
     "output_type": "stream",
     "text": [
      "100.0\n",
      "11.9666202413\n",
      "143.2\n"
     ]
    }
   ],
   "source": [
    "alpha=0.1\n",
    "bar_x=np.mean(data)\n",
    "s=np.std(data,ddof=1)"
   ]
  },
  {
   "cell_type": "code",
   "execution_count": 6,
   "metadata": {
    "collapsed": false
   },
   "outputs": [
    {
     "name": "stdout",
     "output_type": "stream",
     "text": [
      "0.774661896354\n",
      "1.43730550198\n"
     ]
    }
   ],
   "source": [
    "g1=np.sqrt( (n-1)/(X.ppf(1-alpha/2)) )\n",
    "g2=np.sqrt( (n-1)/(X.ppf(alpha/2)) )"
   ]
  },
  {
   "cell_type": "code",
   "execution_count": 7,
   "metadata": {
    "collapsed": false
   },
   "outputs": [
    {
     "data": {
      "text/plain": [
       "7.2609439276700343"
      ]
     },
     "execution_count": 7,
     "metadata": {},
     "output_type": "execute_result"
    }
   ],
   "source": [
    "X.ppf(alpha/2)"
   ]
  },
  {
   "cell_type": "code",
   "execution_count": 8,
   "metadata": {
    "collapsed": false
   },
   "outputs": [],
   "source": [
    "L=g1*(s)\n",
    "R=g2*(s)"
   ]
  },
  {
   "cell_type": "markdown",
   "metadata": {},
   "source": [
    "## Wypisz przedział ufności"
   ]
  },
  {
   "cell_type": "code",
   "execution_count": 13,
   "metadata": {
    "collapsed": false
   },
   "outputs": [
    {
     "name": "stdout",
     "output_type": "stream",
     "text": [
      "( 9.27 , 17.20)\n"
     ]
    }
   ],
   "source": [
    "print(r'( %3.2f , %3.2f)' % (L,R))"
   ]
  },
  {
   "cell_type": "markdown",
   "metadata": {},
   "source": [
    "# Zadanie 2\n",
    "Wykonaj zadanie za pomocą <tt>scipy</tt> i <tt>funkcji stats.chi2.interval</tt>."
   ]
  },
  {
   "cell_type": "code",
   "execution_count": 14,
   "metadata": {
    "collapsed": false
   },
   "outputs": [
    {
     "data": {
      "text/plain": [
       "(74.936624892107545, 328.94315844106796)"
      ]
     },
     "execution_count": 14,
     "metadata": {},
     "output_type": "execute_result"
    }
   ],
   "source": [
    "ci = stats.chi2.interval(1-0.05, n-1, loc=0, scale=s)\n",
    "ci"
   ]
  },
  {
   "cell_type": "markdown",
   "metadata": {},
   "source": [
    "# Zadanie 3\n",
    "Narysuj przedział ufności na wykresie gęstości i dystrybuanty rozkładu dla statystyki\n",
    "\n",
    "$$\n",
    "\\chi^2 = \\frac{nS^2}{\\sigma^2}\n",
    "$$"
   ]
  },
  {
   "cell_type": "code",
   "execution_count": 17,
   "metadata": {
    "collapsed": false
   },
   "outputs": [
    {
     "data": {
      "image/png": "[encoded data removed]",
      "text/plain": [
       "<matplotlib.figure.Figure at 0xd24e23c940>"
      ]
     },
     "metadata": {},
     "output_type": "display_data"
    }
   ],
   "source": [
    "alpha_2=alpha/2\n",
    "alpha_1=alpha/2\n",
    "\n",
    "u_1=L\n",
    "u_2=R\n",
    "\n",
    "x = np.linspace(0,30,100)\n",
    "yp = X.pdf(x)\n",
    "y = X.cdf(x)\n",
    "x1 = np.linspace(0, u_1)\n",
    "y1 = X.pdf(x1)\n",
    "\n",
    "x2 = np.linspace(u_2,30)\n",
    "y2 = X.pdf(x2)\n",
    "\n",
    "figs, axs = plt.subplots(1,2, figsize=(12, 6))\n",
    "\n",
    "axs[0].plot(x,yp, 'k')\n",
    "axs[0].fill_between(x1, y1, facecolor='#CCCCCC')\n",
    "axs[0].fill_between(x2, y2, facecolor='#CCCCCC')\n",
    "axs[0].text(u_1, 0.1, np.round(X.cdf(u_1),4))\n",
    "axs[0].text(u_2, 0.1, np.round(1-X.cdf(u_2),4))\n",
    "axs[0].set_xlabel('x')\n",
    "axs[0].set_ylabel('PDF(x)')\n",
    "\n",
    "axs[1].plot(x, y, '#999999', lw=3)\n",
    "axs[1].set_xlabel('x')\n",
    "axs[1].set_ylabel('CDF(x)')\n",
    "axs[1].text(u_1, X.cdf(u_1), r'$\\alpha_1 = $ %.3f' % np.round(alpha_1,3))\n",
    "axs[1].hlines(alpha_1, -3, 30, linestyles='--')\n",
    "axs[1].text(u_2, X.cdf(u_2), r'1-$\\alpha_2 = $ %.3f' % np.round(1-alpha_2,3))\n",
    "axs[1].hlines(1-alpha_2, -3, 30, linestyles='--')\n",
    "plt.show()"
   ]
  },
  {
   "cell_type": "code",
   "execution_count": null,
   "metadata": {
    "collapsed": true
   },
   "outputs": [],
   "source": []
  },
  {
   "cell_type": "code",
   "execution_count": null,
   "metadata": {
    "collapsed": true
   },
   "outputs": [],
   "source": []
  }
 ],
 "metadata": {
  "kernelspec": {
   "display_name": "Python 3",
   "language": "python",
   "name": "python3"
  },
  "language_info": {
   "codemirror_mode": {
    "name": "ipython",
    "version": 3
   },
   "file_extension": ".py",
   "mimetype": "text/x-python",
   "name": "python",
   "nbconvert_exporter": "python",
   "pygments_lexer": "ipython3",
   "version": "3.6.0"
  }
 },
 "nbformat": 4,
 "nbformat_minor": 2
}
