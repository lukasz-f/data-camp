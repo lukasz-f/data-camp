{
 "cells": [
  {
   "cell_type": "markdown",
   "metadata": {},
   "source": [
    "# Centralne Twierdzenie Graniczne"
   ]
  },
  {
   "cell_type": "code",
   "execution_count": 1,
   "metadata": {
    "collapsed": true
   },
   "outputs": [],
   "source": [
    "import numpy as np\n",
    "import matplotlib.pyplot as plt\n",
    "import seaborn as sns\n",
    "from scipy import stats"
   ]
  },
  {
   "cell_type": "markdown",
   "metadata": {},
   "source": [
    "# Centralne Twierdzenie Graniczne (Moivre'a--Laplace'a)\n",
    "Niech $X_1, X_2, \\ldots , X_n$ będą niezależnymi zmiennymi losowymi o tym samym rozkładzie (prosta próba losowa), takimi że: \n",
    "\n",
    "$$\n",
    "S_n = X_1 + X_2 + \\ldots + X_n \\sim Bin(n,p)\n",
    "$$\n",
    "\n",
    "czyli rozkład dwumianowy z parametrami $n$, $p$, $1-p$. Wtedy:\n",
    "\n",
    "$$\n",
    "\\lim_{n \\to \\infty} P\\left(\\frac{X_1+X_2 + \\ldots + X_n - np}{ \\sqrt{np(1-p)} } < x \\right) = \\Phi(x),\n",
    "$$\n",
    "\n",
    "gdzie $\\Phi$ oznacza dystrybuantę standardowego rozkładu normalnego ($N(0,1)$). "
   ]
  },
  {
   "cell_type": "code",
   "execution_count": 9,
   "metadata": {
    "collapsed": true
   },
   "outputs": [],
   "source": [
    "# Input data\n",
    "ndata = 100\n",
    "nbins = 50"
   ]
  },
  {
   "cell_type": "code",
   "execution_count": 10,
   "metadata": {
    "collapsed": true
   },
   "outputs": [],
   "source": [
    "def showAsHistogram(axis, data, title):\n",
    "    '''Subroutine showing a histogram and formatting it''' \n",
    "    axis.hist( data, bins=nbins)\n",
    "    axis.set_xticks([0, 0.5, 1])\n",
    "    axis.set_title(title)"
   ]
  },
  {
   "cell_type": "code",
   "execution_count": 17,
   "metadata": {},
   "outputs": [
    {
     "name": "stdout",
     "output_type": "stream",
     "text": [
      "[1 1 0 0 0 1 1 0 1 1 0 1 1 1 1 0 0 1 0 0 0 1 0 0 0 1 1 0 0 0 1 0 0 0 0 1 1\n",
      " 1 0 0 0 0 1 0 1 1 0 0 1 0 1 0 0 0 1 1 1 0 0 0 0 1 0 1 1 1 1 1 0 0 0 1 0 1\n",
      " 1 0 1 1 0 1 0 0 0 0 1 0 0 0 0 1 0 1 1 1 1 0 0 0 1 0]\n",
      "[[1 1]\n",
      " [0 0]\n",
      " [0 1]\n",
      " [1 0]\n",
      " [1 1]\n",
      " [0 1]\n",
      " [1 1]\n",
      " [1 0]\n",
      " [0 1]\n",
      " [0 0]\n",
      " [0 1]\n",
      " [0 0]\n",
      " [0 1]\n",
      " [1 0]\n",
      " [0 0]\n",
      " [1 0]\n",
      " [0 0]\n",
      " [0 1]\n",
      " [1 1]\n",
      " [0 0]\n",
      " [0 0]\n",
      " [1 0]\n",
      " [1 1]\n",
      " [0 0]\n",
      " [1 0]\n",
      " [1 0]\n",
      " [0 0]\n",
      " [1 1]\n",
      " [1 0]\n",
      " [0 0]\n",
      " [0 1]\n",
      " [0 1]\n",
      " [1 1]\n",
      " [1 1]\n",
      " [0 0]\n",
      " [0 1]\n",
      " [0 1]\n",
      " [1 0]\n",
      " [1 1]\n",
      " [0 1]\n",
      " [0 0]\n",
      " [0 0]\n",
      " [1 0]\n",
      " [0 0]\n",
      " [0 1]\n",
      " [0 1]\n",
      " [1 1]\n",
      " [1 0]\n",
      " [0 0]\n",
      " [1 0]] [ 1.   0.   0.5  0.5  1.   0.5  1.   0.5  0.5  0.   0.5  0.   0.5  0.5  0.\n",
      "  0.5  0.   0.5  1.   0.   0.   0.5  1.   0.   0.5  0.5  0.   1.   0.5  0.\n",
      "  0.5  0.5  1.   1.   0.   0.5  0.5  0.5  1.   0.5  0.   0.   0.5  0.   0.5\n",
      "  0.5  1.   0.5  0.   0.5]\n",
      "[[1 1 0 0 0 1 1 0 1 1]\n",
      " [0 1 1 1 1 0 0 1 0 0]\n",
      " [0 1 0 0 0 1 1 0 0 0]\n",
      " [1 0 0 0 0 1 1 1 0 0]\n",
      " [0 0 1 0 1 1 0 0 1 0]\n",
      " [1 0 0 0 1 1 1 0 0 0]\n",
      " [0 1 0 1 1 1 1 1 0 0]\n",
      " [0 1 0 1 1 0 1 1 0 1]\n",
      " [0 0 0 0 1 0 0 0 0 1]\n",
      " [0 1 1 1 1 0 0 0 1 0]] [ 0.6  0.5  0.3  0.4  0.4  0.4  0.6  0.6  0.2  0.5]\n"
     ]
    },
    {
     "data": {
      "image/png": "[encoded data removed]",
      "text/plain": [
       "<matplotlib.figure.Figure at 0x10a9660b8>"
      ]
     },
     "metadata": {},
     "output_type": "display_data"
    }
   ],
   "source": [
    "p = 0.5\n",
    "ds = stats.bernoulli(p)\n",
    "data = ds.rvs(ndata)\n",
    "data2 = data.reshape((ndata//2, 2 ))\n",
    "data10 = data.reshape((ndata//10,10))\n",
    "m2 = np.mean(data2, axis=1)\n",
    "m10 = np.mean(data10, axis=1)\n",
    "print(data)\n",
    "print(data2, m2)\n",
    "print(data10, m10)\n",
    "fig, axs = plt.subplots(1,3)\n",
    "showAsHistogram(axs[0], data, 'Random data')\n",
    "showAsHistogram(axs[1], np.mean(data.reshape((ndata//2, 2 )), axis=1), 'Average over 2')\n",
    "showAsHistogram(axs[2], np.mean(data.reshape((ndata//10,10)), axis=1), 'Average over 10')\n",
    "axs[0].set_ylabel('Counts')\n",
    "plt.show()"
   ]
  },
  {
   "cell_type": "markdown",
   "metadata": {},
   "source": [
    "# Zadanie 1\n",
    "\n",
    "Wygeneruj próbkę z rozkładu dwumianowego. Następnie podziel dane na zbiory po $2$ i po $10$ elementów. Policz średnie w zbiorach i stwórz z nich nową próbkę. Narysuj histogram dla próbki wszystkich trzech próbek. "
   ]
  },
  {
   "cell_type": "code",
   "execution_count": null,
   "metadata": {},
   "outputs": [],
   "source": []
  },
  {
   "cell_type": "markdown",
   "metadata": {},
   "source": [
    "# Centralne Twierdzenie Graniczne (Lindeberga--Levy'ego)\n",
    "Niech $X_1, X_2, \\ldots , X_n$ będą niezależnymi zmiennymi losowymi o tym samym rozkładzie (prosta próba losowa), wartości średniej $m = EX$ i wariancji $0<\\sigma^2 = D^2 X < \\infty$. \n",
    "\n",
    "Wtedy:\n",
    "\n",
    "$$\n",
    "\\lim_{n \\to \\infty} P\\left(\\frac{X_1+X_2 + \\ldots + X_n - nm}{ \\sigma \\sqrt{n} } < x \\right) = \\Phi(x),\n",
    "$$\n",
    "\n",
    "gdzie $\\Phi$ oznacza dystrybuantę standardowego rozkładu normalnego ($N(0,1)$). "
   ]
  },
  {
   "cell_type": "markdown",
   "metadata": {},
   "source": [
    "# Zadanie 2\n",
    "\n",
    "Wygeneruj próbkę z rozkładu jednostajnego na odcinku. Następnie podziel dane na zbiory po $2$ i po $10$ elementów. Policz średnie w zbiorach i stwórz z nich nową próbkę. Narysuj histogram dla próbki wszystkich trzech próbek. "
   ]
  },
  {
   "cell_type": "code",
   "execution_count": null,
   "metadata": {},
   "outputs": [],
   "source": []
  }
 ],
 "metadata": {
  "kernelspec": {
   "display_name": "Python 3",
   "language": "python",
   "name": "python3"
  },
  "language_info": {
   "codemirror_mode": {
    "name": "ipython",
    "version": 3
   },
   "file_extension": ".py",
   "mimetype": "text/x-python",
   "name": "python",
   "nbconvert_exporter": "python",
   "pygments_lexer": "ipython3",
   "version": "3.6.0"
  }
 },
 "nbformat": 4,
 "nbformat_minor": 2
}
