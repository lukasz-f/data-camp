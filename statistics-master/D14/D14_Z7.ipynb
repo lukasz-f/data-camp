{
 "cells": [
  {
   "cell_type": "markdown",
   "metadata": {},
   "source": [
    "# Całkowanie Monte Carlo  - metodą chybił-trafił"
   ]
  },
  {
   "cell_type": "code",
   "execution_count": 1,
   "metadata": {
    "collapsed": true
   },
   "outputs": [],
   "source": [
    "import numpy as np\n",
    "import pandas as pd\n",
    "import scipy.stats as stats\n",
    "import matplotlib.pyplot as plt"
   ]
  },
  {
   "cell_type": "markdown",
   "metadata": {},
   "source": [
    "Zdefiniujmy funkcję, którą będziemy całkować"
   ]
  },
  {
   "cell_type": "code",
   "execution_count": 2,
   "metadata": {
    "collapsed": true
   },
   "outputs": [],
   "source": [
    "def f(x):\n",
    "    return np.exp(x)"
   ]
  },
  {
   "cell_type": "markdown",
   "metadata": {},
   "source": [
    "Losujemy punkty z kwadratu \n",
    "\n",
    "$$\n",
    "[a,b] \\times [0, max_{x \\in [a,b]}\\{f(x)\\}]\n",
    "$$"
   ]
  },
  {
   "cell_type": "code",
   "execution_count": 3,
   "metadata": {},
   "outputs": [
    {
     "data": {
      "image/png": "[encoded data removed]",
      "text/plain": [
       "<matplotlib.figure.Figure at 0x10a104a90>"
      ]
     },
     "metadata": {},
     "output_type": "display_data"
    }
   ],
   "source": [
    "n=100\n",
    "a=2\n",
    "b=3\n",
    "x = np.linspace(a, b, n)\n",
    "y = f(x)\n",
    "ymin=0\n",
    "ymax=np.max(y)\n",
    "pts = np.column_stack((stats.uniform(a,b-a).rvs(n),stats.uniform(ymin,ymax).rvs(n)))\n",
    "plt.plot(x, y);\n",
    "plt.scatter(pts[:, 0], pts[:, 1])\n",
    "plt.xlim([a,b])\n",
    "plt.ylim([ymin, ymax]);\n",
    "plt.show()"
   ]
  },
  {
   "cell_type": "markdown",
   "metadata": {},
   "source": [
    "# Zadanie\n",
    "Policz całkę z funkcji $f$ za pomocą odrzuceń na przedziale $[a,b]$ dla różnych wielkości próbek."
   ]
  },
  {
   "cell_type": "code",
   "execution_count": 4,
   "metadata": {},
   "outputs": [
    {
     "name": "stdout",
     "output_type": "stream",
     "text": [
      "        10 14.059876\n",
      "       100 13.859020\n",
      "      1000 12.573546\n",
      "     10000 12.581580\n",
      "    100000 12.706713\n",
      "   1000000 12.699904\n",
      "  10000000 12.697743\n"
     ]
    }
   ],
   "source": [
    "# Monte Carlo approximation\n",
    "for n in 10**np.array([1,2,3,4,5,6,7]):\n",
    "    pts = np.column_stack((stats.uniform(a,b-a).rvs(n),stats.uniform(ymin,ymax).rvs(n)))\n",
    "    count = np.sum(pts[:, 1] < f(pts[:, 0]))\n",
    "    volume = np.abs(b-a)* ymax # volume of region\n",
    "    sol = (volume * count)/n\n",
    "    print('%10d %.6f' % (n, sol))"
   ]
  },
  {
   "cell_type": "markdown",
   "metadata": {},
   "source": [
    "## Możesz sprawdzić z wynikiem całkowania numerycznego"
   ]
  },
  {
   "cell_type": "code",
   "execution_count": 6,
   "metadata": {},
   "outputs": [
    {
     "data": {
      "text/plain": [
       "(12.69648082425702, 1.4095925342801928e-13)"
      ]
     },
     "execution_count": 6,
     "metadata": {},
     "output_type": "execute_result"
    }
   ],
   "source": [
    "from scipy import integrate\n",
    "integrate.quad(f, a, b)"
   ]
  }
 ],
 "metadata": {
  "kernelspec": {
   "display_name": "Python 3",
   "language": "python",
   "name": "python3"
  },
  "language_info": {
   "codemirror_mode": {
    "name": "ipython",
    "version": 3
   },
   "file_extension": ".py",
   "mimetype": "text/x-python",
   "name": "python",
   "nbconvert_exporter": "python",
   "pygments_lexer": "ipython3",
   "version": "3.6.0"
  }
 },
 "nbformat": 4,
 "nbformat_minor": 2
}
