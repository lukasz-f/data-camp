{
 "cells": [
  {
   "cell_type": "markdown",
   "metadata": {},
   "source": [
    "# McNemar’s Test"
   ]
  },
  {
   "cell_type": "markdown",
   "metadata": {},
   "source": [
    "# Zadanie\n",
    "Rozważmy przykład w którym dwanaście osób poproszone zostało o wykonanie trzech zadań. Wynikiem każdego zadania jest sukces lub porażka. Wyniki są kodowane przez $0$ dla niepowodzenia i $1$ dla sukcesu. \n",
    "\n",
    "<table> \n",
    "<tr>\n",
    "<td></td><td>Task1</td><td>Task2</td><td>Task3</td>\n",
    "</tr>\n",
    "<tr>\n",
    "<td>0</td><td>0</td><td>1</td><td>0</td>\n",
    "</tr>\n",
    "<tr>\n",
    "<td>1</td><td>1</td><td>1</td><td>0</td>\n",
    "</tr>\n",
    "<tr>\n",
    "<td>2</td><td>1</td><td>1</td><td>1</td>\n",
    "</tr>\n",
    "<tr>\n",
    "<td>3</td><td>0</td><td>0</td><td>0</td>\n",
    "</tr>\n",
    "<tr>\n",
    "<td>4</td><td>1</td><td>0</td><td>0</td>\n",
    "</tr>\n",
    "<tr>\n",
    "<td>5</td><td>0</td><td>1</td><td>1</td>\n",
    "</tr>\n",
    "<tr>\n",
    "<td>6</td><td>0</td><td>0</td><td>0</td>\n",
    "</tr>\n",
    "<tr>\n",
    "<td>7</td><td>1</td><td>1</td><td>0</td>\n",
    "</tr>\n",
    "<tr>\n",
    "<td>8</td><td>0</td><td>1</td><td>0</td>\n",
    "</tr>\n",
    "<tr>\n",
    "<td>9</td><td>0</td><td>1</td><td>0</td>\n",
    "</tr>\n",
    "<tr>\n",
    "<td>10</td><td>0</td><td>1</td><td>0</td>\n",
    "</tr>\n",
    "<tr>\n",
    "<td>11</td><td>0</td><td>1</td><td>0</td>\n",
    "</tr>\n",
    "</table>   \n",
    "\n",
    "\n",
    "Czy istnieje różnica w trudności między tymi zadaniami?"
   ]
  },
  {
   "cell_type": "markdown",
   "metadata": {},
   "source": [
    "## Wykonujemy test"
   ]
  },
  {
   "cell_type": "code",
   "execution_count": 4,
   "metadata": {
    "collapsed": false
   },
   "outputs": [],
   "source": [
    "import numpy as np\n",
    "import pandas as pd\n",
    "from scipy import stats"
   ]
  },
  {
   "cell_type": "code",
   "execution_count": 6,
   "metadata": {
    "collapsed": false
   },
   "outputs": [
    {
     "name": "stdout",
     "output_type": "stream",
     "text": [
      "0.0131237287369\n",
      "There is a significant difference between the three tasks.\n"
     ]
    }
   ],
   "source": [
    "from statsmodels.sandbox.stats.runs import cochrans_q\n",
    "'''Cochran's Q test: 12 subjects are asked to perform 3 tasks. The outcome of each task is \"success\" or \n",
    "\"failure\". The results are coded 0 for failure and 1 for success. In the example, subject 1 was successful\n",
    "in task 2, but failed tasks 1 and 3.\n",
    "Is there a difference between the performance on the three tasks?\n",
    "'''\n",
    "\n",
    "tasks = np.array([[0,1,1,0,1,0,0,1,0,0,0,0],\n",
    "                  [1,1,1,0,0,1,0,1,1,1,1,1],\n",
    "                  [0,0,1,0,0,1,0,0,0,0,0,0]])\n",
    "\n",
    "df = pd.DataFrame(tasks.T, columns = ['Task1', 'Task2', 'Task3'])\n",
    "(Q, pVal) = cochrans_q(df)\n",
    "print(pVal)\n",
    "if pVal < 0.05:\n",
    "    print(\"There is a significant difference between the three tasks.\")"
   ]
  },
  {
   "cell_type": "code",
   "execution_count": null,
   "metadata": {
    "collapsed": true
   },
   "outputs": [],
   "source": []
  }
 ],
 "metadata": {
  "kernelspec": {
   "display_name": "Python 3",
   "language": "python",
   "name": "python3"
  },
  "language_info": {
   "codemirror_mode": {
    "name": "ipython",
    "version": 3
   },
   "file_extension": ".py",
   "mimetype": "text/x-python",
   "name": "python",
   "nbconvert_exporter": "python",
   "pygments_lexer": "ipython3",
   "version": "3.6.0"
  }
 },
 "nbformat": 4,
 "nbformat_minor": 2
}
