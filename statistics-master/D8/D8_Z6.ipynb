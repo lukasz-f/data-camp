{
 "cells": [
  {
   "cell_type": "markdown",
   "metadata": {},
   "source": [
    "# McNemar’s Test"
   ]
  },
  {
   "cell_type": "markdown",
   "metadata": {},
   "source": [
    "# Zadanie\n",
    "W poniższym przykładzie będziemy próbować ustalić, czy lek ma wpływ na konkretną chorobę. W tabeli należy podać liczbę pacjentów oraz diagnozę (chorobę: obecna lub nieobecna) przed leczeniem podawaną w rzędach oraz diagnozę po leczeniu w kolumnach\n",
    "\n",
    "<table>\n",
    "  <tr>\n",
    "    <th></th>\n",
    "    <td>Po obecna</td> \n",
    "    <td>Po nioebcna</td>\n",
    "  </tr>\n",
    "  <tr>\n",
    "    <td>Przed obecna</td>\n",
    "    <td>101</td>\n",
    "    <td>121</td>\n",
    "  </tr>\n",
    "  <tr>\n",
    "    <td>Przed nioebcna</td>\n",
    "    <td>59</td>\n",
    "    <td>33</td>\n",
    "  </tr>\n",
    "</table>\n",
    "    \n",
    "\n",
    "    \n"
   ]
  },
  {
   "cell_type": "markdown",
   "metadata": {},
   "source": [
    "## Wykonujemy test"
   ]
  },
  {
   "cell_type": "code",
   "execution_count": 3,
   "metadata": {
    "collapsed": false
   },
   "outputs": [
    {
     "name": "stdout",
     "output_type": "stream",
     "text": [
      "p = 0.000\n",
      "There was a significant change in the disease by the treatment.\n"
     ]
    }
   ],
   "source": [
    "import numpy as np\n",
    "import pandas as pd\n",
    "from scipy import stats\n",
    "from statsmodels.sandbox.stats.runs import mcnemar\n",
    "'''In the following example, a researcher attempts to determine if a drug has an effect on a\n",
    "particular disease. Counts of individuals are given in the table, with the diagnosis\n",
    "(disease: present or absent) before treatment given in the rows, and the diagnosis\n",
    "after treatment in the columns. The test requires the same subjects to be included in\n",
    "the before-and-after measurements (matched pairs).\n",
    "'''\n",
    "f_obs = np.array([[101, 121],[59, 33]])\n",
    "(statistic, pVal) = mcnemar(f_obs)\n",
    "print('p = {0:5.3f}'.format(pVal))\n",
    "if pVal < 0.05:\n",
    "    print(\"There was a significant change in the disease by the treatment.\")  "
   ]
  },
  {
   "cell_type": "code",
   "execution_count": null,
   "metadata": {
    "collapsed": true
   },
   "outputs": [],
   "source": []
  }
 ],
 "metadata": {
  "kernelspec": {
   "display_name": "Python 3",
   "language": "python",
   "name": "python3"
  },
  "language_info": {
   "codemirror_mode": {
    "name": "ipython",
    "version": 3
   },
   "file_extension": ".py",
   "mimetype": "text/x-python",
   "name": "python",
   "nbconvert_exporter": "python",
   "pygments_lexer": "ipython3",
   "version": "3.6.0"
  }
 },
 "nbformat": 4,
 "nbformat_minor": 2
}
