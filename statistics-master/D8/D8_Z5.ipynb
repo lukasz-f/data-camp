{
 "cells": [
  {
   "cell_type": "markdown",
   "metadata": {},
   "source": [
    "# Fisher’s Exact Tes"
   ]
  },
  {
   "cell_type": "markdown",
   "metadata": {},
   "source": [
    "# Zadanie\n",
    "W przypadku danych z poniższej tabeli sprawdzić czy to, że ktoś jest prawo lub leworęczny zależy od płci:\n",
    "\n",
    "<table>\n",
    "  <tr>\n",
    "    <th></th>\n",
    "    <td>P. ręczni</td> \n",
    "    <td>L. ręczni</td>\n",
    "  </tr>\n",
    "  <tr>\n",
    "    <td>M</td>\n",
    "    <td>1</td>\n",
    "    <td>5</td>\n",
    "  </tr>\n",
    "  <tr>\n",
    "    <td>K</td>\n",
    "    <td>8</td>\n",
    "    <td>2</td>\n",
    "  </tr>\n",
    "</table>\n",
    "    \n",
    "\n",
    "    \n"
   ]
  },
  {
   "cell_type": "markdown",
   "metadata": {},
   "source": [
    "## Wykonujemy test"
   ]
  },
  {
   "cell_type": "code",
   "execution_count": 2,
   "metadata": {
    "collapsed": false
   },
   "outputs": [
    {
     "name": "stdout",
     "output_type": "stream",
     "text": [
      "1.0724852071\n",
      "0.300384770391\n",
      "1\n",
      "[[ 45.24   6.76]\n",
      " [ 41.76   6.24]]\n"
     ]
    }
   ],
   "source": [
    "import numpy as np\n",
    "import pandas as pd\n",
    "from scipy import stats\n",
    "# Enter the data\n",
    "obs = np.array([[1,5], [8,2]])\n",
    "\n",
    "fisher_result = stats.fisher_exact(obs)\n",
    "# --- >>> STOP stats <<< ---\n",
    "\n",
    "# Print the result\n",
    "print('\\nFISHER --------------------------------------------------------')\n",
    "print(('The probability of obtaining a distribution at least as extreme '\n",
    "+ 'as the one that was actually observed, assuming that the null ' +\n",
    "'hypothesis is true, is: {0:5.3f}.'.format(fisher_result[1])))\n",
    "\n",
    "\n",
    "\n",
    "V, p, dof, expected = stats.chi2_contingency(data)\n",
    "print(V)\n",
    "print(p)\n",
    "print(dof)\n",
    "print(expected)"
   ]
  },
  {
   "cell_type": "code",
   "execution_count": null,
   "metadata": {
    "collapsed": true
   },
   "outputs": [],
   "source": []
  }
 ],
 "metadata": {
  "kernelspec": {
   "display_name": "Python 3",
   "language": "python",
   "name": "python3"
  },
  "language_info": {
   "codemirror_mode": {
    "name": "ipython",
    "version": 3
   },
   "file_extension": ".py",
   "mimetype": "text/x-python",
   "name": "python",
   "nbconvert_exporter": "python",
   "pygments_lexer": "ipython3",
   "version": "3.6.0"
  }
 },
 "nbformat": 4,
 "nbformat_minor": 2
}
