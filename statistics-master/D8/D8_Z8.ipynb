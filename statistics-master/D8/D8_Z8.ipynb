{
 "cells": [
  {
   "cell_type": "markdown",
   "metadata": {},
   "source": [
    "# Zadanie\n",
    "Badania nad efektami nowego leku na serce doprowadziły do uzyskania następujących danych:\n",
    "\n",
    "<table>\n",
    "  <tr>\n",
    "    <th></th>\n",
    "    <td>increased</td> \n",
    "    <td>NOT-increased</td>\n",
    "    <td>Total</td>\n",
    "  </tr>\n",
    "  <tr>\n",
    "    <td>Treated</td>\n",
    "    <td>36</td>\n",
    "    <td>14</td>\n",
    "    <td>50</td>\n",
    "  </tr>\n",
    "  <tr>\n",
    "    <td>Not treated</td>\n",
    "    <td>30</td>\n",
    "    <td>25</td>\n",
    "    <td>55</td>\n",
    "  </tr>\n",
    "  <tr>\n",
    "    <td>Total</td>\n",
    "    <td>66</td>\n",
    "    <td>39</td>\n",
    "    <td>105</td>\n",
    "  </tr>\n",
    "</table>  \n",
    "\n",
    "\n",
    "- Czy lek ma wpływ na chorobę?\n",
    "- Co by się stało jak by dla jednej osoby zmienił się wynik?\n",
    "\n",
    "<table>\n",
    "  <tr>\n",
    "    <th></th>\n",
    "    <td>increased</td> \n",
    "    <td>NOT-increased</td>\n",
    "    <td>Total</td>\n",
    "  </tr>\n",
    "  <tr>\n",
    "    <td>Treated</td>\n",
    "    <td>36</td>\n",
    "    <td>14</td>\n",
    "    <td>50</td>\n",
    "  </tr>\n",
    "  <tr>\n",
    "    <td>Not treated</td>\n",
    "    <td>29</td>\n",
    "    <td>26</td>\n",
    "    <td>55</td>\n",
    "  </tr>\n",
    "  <tr>\n",
    "    <td>Total</td>\n",
    "    <td>65</td>\n",
    "    <td>40</td>\n",
    "    <td>105</td>\n",
    "  </tr>\n",
    "</table>  \n"
   ]
  },
  {
   "cell_type": "markdown",
   "metadata": {},
   "source": [
    "## Wykonujemy test"
   ]
  },
  {
   "cell_type": "code",
   "execution_count": null,
   "metadata": {
    "collapsed": true
   },
   "outputs": [],
   "source": []
  }
 ],
 "metadata": {
  "kernelspec": {
   "display_name": "Python 3",
   "language": "python",
   "name": "python3"
  },
  "language_info": {
   "codemirror_mode": {
    "name": "ipython",
    "version": 3
   },
   "file_extension": ".py",
   "mimetype": "text/x-python",
   "name": "python",
   "nbconvert_exporter": "python",
   "pygments_lexer": "ipython3",
   "version": "3.6.0"
  }
 },
 "nbformat": 4,
 "nbformat_minor": 2
}
